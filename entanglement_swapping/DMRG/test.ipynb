{
 "cells": [
  {
   "cell_type": "code",
   "execution_count": 263,
   "id": "fca1b6b33504cac9",
   "metadata": {
    "collapsed": false,
    "ExecuteTime": {
     "end_time": "2024-08-29T04:21:10.559736Z",
     "start_time": "2024-08-29T04:21:09.081425Z"
    }
   },
   "outputs": [
    {
     "name": "stdout",
     "output_type": "stream",
     "text": [
      "0.0\n",
      "-6.0\n",
      "0.157\n",
      "-5.99999994926909\n",
      "0.314\n",
      "-5.9999997970763665\n",
      "0.471\n",
      "-5.999999543421832\n",
      "0.628\n",
      "-5.999999188305496\n",
      "0.785\n",
      "-5.999998731727377\n",
      "0.942\n",
      "-5.999998173687488\n",
      "1.1\n",
      "-5.9999984330457155\n",
      "1.257\n",
      "-5.999998946204862\n",
      "1.414\n",
      "-5.999999357902234\n",
      "1.571\n",
      "-5.9999996681378125\n"
     ]
    }
   ],
   "source": [
    "import jax.random\n",
    "import matplotlib.pyplot as plt\n",
    "import jax.numpy as jnp\n",
    "import netket as nk\n",
    "from scipy.sparse.linalg import eigsh\n",
    "import numpy as np\n",
    "from netket.operator.spin import sigmax,sigmaz\n",
    "import itertools\n",
    "    \n",
    "\n",
    "\n",
    "# Parameters\n",
    "ang_ = [0.0, 0.157, 0.314, 0.471, 0.628, 0.785, 0.942, 1.1, 1.257, 1.414, 1.571]\n",
    "a = 0\n",
    "for ang in jnp.linspace(jnp.pi/2, 0.0, 11):\n",
    "    L = 6\n",
    "    p = 1\n",
    "    angle = ang_[a] \n",
    "    print(angle)\n",
    "    M0 = np.load(\"mps_tensors/tensor_init_\" + str(L * p) + \"_angle_\" + str(angle) + \".npy\")\n",
    "    M = np.load(\"mps_tensors/tensor_\" + str(L * p) + \"_angle_\" + str(angle) + \".npy\")\n",
    "    Mlast = np.load(\"mps_tensors/tensor_last_\" + str(L * p) + \"_angle_\" + str(angle) + \".npy\")\n",
    "\n",
    "    # Define the hi space\n",
    "    hi = nk.hilbert.Spin(s=0.5, N=L)\n",
    "    \n",
    "    # Add the terms from the ITensor h\n",
    "    # First set of terms\n",
    "    h = - np.cos(angle)**2 *  sigmaz(hi, 0) @  sigmax(hi, 1)\n",
    "    h -=  np.cos(angle) * np.sin(angle) *  sigmaz(hi, 0) @  sigmaz(hi, 1)\n",
    "    h +=  np.sin(angle)**2 *  sigmax(hi, 0) @  sigmaz(hi, 1)\n",
    "    h +=  np.cos(angle) * np.sin(angle) *  sigmax(hi, 0) @  sigmax(hi, 1)\n",
    "    \n",
    "    # Last set of terms\n",
    "    h -=  np.cos(angle)**2 *  sigmax(hi, L-2) @  sigmax(hi, L-1)\n",
    "    h -=  np.cos(angle) * np.sin(angle) *  sigmax(hi, L-2) @  sigmaz(hi, L-1)\n",
    "    h -=  np.sin(angle)**2 *  sigmaz(hi, L-2) @  sigmaz(hi, L-1)\n",
    "    h -=  np.cos(angle) * np.sin(angle) *  sigmaz(hi, L-2) @  sigmax(hi, L-1)\n",
    "    \n",
    "    # Middle set of terms (for j = 1 to N-3)\n",
    "    for j in range(1, L-2):\n",
    "        h -=  np.cos(angle)**3 *  sigmax(hi, j-1) @  sigmaz(hi, j) @  sigmax(hi, j+1)\n",
    "        h -=  np.cos(angle)**2 * np.sin(angle) *  sigmaz(hi, j-1) @  sigmaz(hi, j) @  sigmax(hi, j+1)\n",
    "        h +=  np.cos(angle)**2 * np.sin(angle) *  sigmax(hi, j-1) @  sigmax(hi, j) @  sigmax(hi, j+1)\n",
    "        h -=  np.cos(angle)**2 * np.sin(angle) *  sigmax(hi, j-1) @  sigmaz(hi, j) @  sigmaz(hi, j+1)\n",
    "        h +=  np.cos(angle) * np.sin(angle)**2 *  sigmaz(hi, j-1) @  sigmax(hi, j) @  sigmax(hi, j+1)\n",
    "        h +=  np.cos(angle) * np.sin(angle)**2 *  sigmax(hi, j-1) @  sigmax(hi, j) @  sigmaz(hi, j+1)\n",
    "        h -=  np.cos(angle) * np.sin(angle)**2 *  sigmaz(hi, j-1) @  sigmaz(hi, j) @  sigmaz(hi, j+1)\n",
    "        h +=  np.sin(angle)**3 *  sigmaz(hi, j-1) @  sigmax(hi, j) @  sigmaz(hi, j+1)\n",
    "    j += 1\n",
    "\n",
    "    h -=  np.cos(angle)**3 *  sigmax(hi, j-1) @  sigmaz(hi, j) @  sigmaz(hi, j+1)\n",
    "    h -=  np.cos(angle)**2 * np.sin(angle) *  sigmaz(hi, j-1) @  sigmaz(hi, j) @  sigmaz(hi, j+1)\n",
    "    h +=  np.cos(angle)**2 * np.sin(angle) *  sigmax(hi, j-1) @  sigmax(hi, j) @  sigmaz(hi, j+1)\n",
    "    h +=  np.cos(angle)**2 * np.sin(angle) *  sigmax(hi, j-1) @  sigmaz(hi, j) @  sigmax(hi, j+1)\n",
    "    h +=  np.cos(angle) * np.sin(angle)**2 *  sigmaz(hi, j-1) @  sigmax(hi, j) @  sigmaz(hi, j+1)\n",
    "    h +=  np.cos(angle) * np.sin(angle)**2 *  sigmaz(hi, j-1) @  sigmaz(hi, j) @  sigmax(hi, j+1)\n",
    "    h -=  np.cos(angle) * np.sin(angle)**2 *  sigmax(hi, j-1) @  sigmax(hi, j) @  sigmax(hi, j+1)\n",
    "    h -=  np.sin(angle)**3 * sigmaz(hi, j-1) @  sigmax(hi, j) @  sigmax(hi, j+1)\n",
    "# Save or use the h\n",
    "\n",
    "    H_ = h.to_sparse()\n",
    "    eig_vals, eig_vecs = eigsh(H_, k=1, which=\"SA\")\n",
    "    amp = np.zeros(2**L)\n",
    "    con = np.zeros(L)\n",
    "    for i in range(L):\n",
    "        con[i] = 2**(L-1-i)\n",
    "    for config in itertools.product([0, 1], repeat=L):\n",
    "        # Convert to a NumPy array if needed\n",
    "        config_array = np.array(config)\n",
    "        p = int(np.sum(con*np.array(config)))\n",
    "        vec_init = M0[config_array[0]]\n",
    "        for i in range(1, L-1):\n",
    "            vec_init = M[config_array[i], :, :, i-1] @ vec_init\n",
    "        amp[p] = Mlast[config_array[-1]] @ vec_init  \n",
    "    print(amp @ (H_ @ amp) / (amp @ amp))\n",
    "    a += 1"
   ]
  },
  {
   "cell_type": "code",
   "outputs": [
    {
     "data": {
      "text/plain": "'3.1'"
     },
     "execution_count": 256,
     "metadata": {},
     "output_type": "execute_result"
    }
   ],
   "source": [
    "\"%.1f\" % np.pi"
   ],
   "metadata": {
    "collapsed": true,
    "ExecuteTime": {
     "end_time": "2024-08-29T04:11:48.654326Z",
     "start_time": "2024-08-29T04:11:48.632500Z"
    }
   },
   "id": "initial_id",
   "execution_count": 256
  },
  {
   "cell_type": "code",
   "outputs": [
    {
     "data": {
      "text/plain": "Array([0.        , 0.15707963, 0.31415927, 0.4712389 , 0.62831853,\n       0.78539816, 0.9424778 , 1.09955743, 1.25663706, 1.41371669,\n       1.57079633], dtype=float64)"
     },
     "execution_count": 238,
     "metadata": {},
     "output_type": "execute_result"
    }
   ],
   "source": [
    "jnp.linspace(0.0, jnp.pi/2, 11)"
   ],
   "metadata": {
    "collapsed": false,
    "ExecuteTime": {
     "end_time": "2024-08-29T04:00:11.600160Z",
     "start_time": "2024-08-29T04:00:11.502954Z"
    }
   },
   "id": "3a6bb89ba45d140e",
   "execution_count": 238
  },
  {
   "cell_type": "code",
   "outputs": [],
   "source": [],
   "metadata": {
    "collapsed": false
   },
   "id": "28e34e411249328b"
  },
  {
   "cell_type": "code",
   "outputs": [
    {
     "name": "stdout",
     "output_type": "stream",
     "text": [
      "[-1.76776695e-01  1.38777878e-17  2.77555756e-17  1.76776695e-01\n",
      " -1.76776695e-01  1.38777878e-17 -2.77555756e-17 -1.76776695e-01\n",
      " -1.76776695e-01  2.77555756e-17  2.77555756e-17  1.76776695e-01\n",
      "  1.76776695e-01 -2.77555756e-17  2.77555756e-17  1.76776695e-01\n",
      " -1.76776695e-01  1.38777878e-17  4.16333634e-17  1.76776695e-01\n",
      " -1.76776695e-01  2.77555756e-17 -2.77555756e-17 -1.76776695e-01\n",
      "  1.76776695e-01 -1.38777878e-17 -1.38777878e-17 -1.76776695e-01\n",
      " -1.76776695e-01  2.77555756e-17 -4.16333634e-17 -1.76776695e-01\n",
      "  1.76776695e-01 -2.77555756e-17 -1.38777878e-17 -1.76776695e-01\n",
      "  1.76776695e-01 -2.77555756e-17  2.77555756e-17  1.76776695e-01\n",
      "  1.76776695e-01 -1.38777878e-17 -2.77555756e-17 -1.76776695e-01\n",
      " -1.76776695e-01  4.16333634e-17 -2.77555756e-17 -1.76776695e-01\n",
      " -1.76776695e-01  1.38777878e-17  2.77555756e-17  1.76776695e-01\n",
      " -1.76776695e-01  1.38777878e-17 -4.16333634e-17 -1.76776695e-01\n",
      "  1.76776695e-01 -1.38777878e-17 -1.38777878e-17 -1.76776695e-01\n",
      " -1.76776695e-01  2.77555756e-17 -2.77555756e-17 -1.76776695e-01]\n"
     ]
    }
   ],
   "source": [
    "print(amp)"
   ],
   "metadata": {
    "collapsed": false,
    "ExecuteTime": {
     "end_time": "2024-08-28T21:42:24.251900Z",
     "start_time": "2024-08-28T21:42:24.241124Z"
    }
   },
   "id": "c5769105078d0fe0",
   "execution_count": 234
  },
  {
   "cell_type": "markdown",
   "source": [],
   "metadata": {
    "collapsed": false
   },
   "id": "bcae9ec709246b4b"
  },
  {
   "cell_type": "code",
   "outputs": [
    {
     "name": "stdout",
     "output_type": "stream",
     "text": [
      "[-1.76776695e-01  0.00000000e+00 -1.11022302e-16  1.76776695e-01\n",
      " -1.76776695e-01  2.77555756e-17  2.77555756e-17 -1.76776695e-01\n",
      " -1.76776695e-01  1.24900090e-16 -5.37764278e-17  1.76776695e-01\n",
      "  1.76776695e-01 -2.77555756e-17 -9.02056208e-17  1.76776695e-01\n",
      " -1.76776695e-01  1.11022302e-16 -5.55111512e-17  1.76776695e-01\n",
      " -1.76776695e-01  4.33680869e-17  1.11022302e-16 -1.76776695e-01\n",
      "  1.76776695e-01 -5.55111512e-17  6.93889390e-17 -1.76776695e-01\n",
      " -1.76776695e-01  5.55111512e-17  2.77555756e-17 -1.76776695e-01\n",
      "  1.76776695e-01 -8.32667268e-17  0.00000000e+00 -1.76776695e-01\n",
      "  1.76776695e-01  2.77555756e-17 -2.77555756e-17  1.76776695e-01\n",
      "  1.76776695e-01 -2.77555756e-17  9.71445147e-17 -1.76776695e-01\n",
      " -1.76776695e-01  1.11022302e-16  5.55111512e-17 -1.76776695e-01\n",
      " -1.76776695e-01  1.04083409e-17 -5.55111512e-17  1.76776695e-01\n",
      " -1.76776695e-01  1.38777878e-16  0.00000000e+00 -1.76776695e-01\n",
      "  1.76776695e-01 -8.32667268e-17 -2.77555756e-17 -1.76776695e-01\n",
      " -1.76776695e-01 -2.77555756e-17  5.55111512e-17 -1.76776695e-01] [-6.]\n"
     ]
    }
   ],
   "source": [
    "print(eig_vecs.ravel(), eig_vals)"
   ],
   "metadata": {
    "collapsed": false,
    "ExecuteTime": {
     "end_time": "2024-08-28T21:42:25.145841Z",
     "start_time": "2024-08-28T21:42:25.135844Z"
    }
   },
   "id": "ea3c4bbbca242f25",
   "execution_count": 235
  },
  {
   "cell_type": "code",
   "outputs": [
    {
     "name": "stdout",
     "output_type": "stream",
     "text": [
      "0.16197117849306591\n"
     ]
    }
   ],
   "source": [
    "ampx = M_.ravel()\n",
    "print(ampx @ (H_ @ ampx) / (jnp.dot(ampx , ampx)))\n"
   ],
   "metadata": {
    "collapsed": false,
    "ExecuteTime": {
     "end_time": "2024-08-28T03:35:41.722456Z",
     "start_time": "2024-08-28T03:35:41.698637Z"
    }
   },
   "id": "44a1784f3e607b21",
   "execution_count": 117
  },
  {
   "cell_type": "code",
   "outputs": [
    {
     "name": "stdout",
     "output_type": "stream",
     "text": [
      "(0, 0, 0, 0)\n",
      "(0, 0, 0, 1)\n",
      "(0, 0, 1, 0)\n",
      "(0, 0, 1, 1)\n",
      "(0, 1, 0, 0)\n",
      "(0, 1, 0, 1)\n",
      "(0, 1, 1, 0)\n",
      "(0, 1, 1, 1)\n",
      "(1, 0, 0, 0)\n",
      "(1, 0, 0, 1)\n",
      "(1, 0, 1, 0)\n",
      "(1, 0, 1, 1)\n",
      "(1, 1, 0, 0)\n",
      "(1, 1, 0, 1)\n",
      "(1, 1, 1, 0)\n",
      "(1, 1, 1, 1)\n"
     ]
    }
   ],
   "source": [
    "import itertools\n",
    "L = 4 \n",
    "for config in itertools.product([0, 1], repeat=L):\n",
    "    print(config)"
   ],
   "metadata": {
    "collapsed": false,
    "ExecuteTime": {
     "end_time": "2024-08-26T22:26:03.286924Z",
     "start_time": "2024-08-26T22:26:03.275755Z"
    }
   },
   "id": "b59c61e5187ca8ee",
   "execution_count": 6
  },
  {
   "cell_type": "code",
   "outputs": [
    {
     "name": "stdout",
     "output_type": "stream",
     "text": [
      "[[-7.07106781e-01 -7.21644966e-16]\n",
      " [-7.21644966e-16  7.07106781e-01]]\n"
     ]
    }
   ],
   "source": [
    "print(matrix_list[0])"
   ],
   "metadata": {
    "collapsed": false,
    "ExecuteTime": {
     "end_time": "2024-04-03T09:18:25.908473300Z",
     "start_time": "2024-04-03T09:18:25.892678700Z"
    }
   },
   "id": "978955af1685127b",
   "execution_count": 31
  },
  {
   "cell_type": "code",
   "outputs": [
    {
     "name": "stdout",
     "output_type": "stream",
     "text": [
      "[[[ 0.62239202 -0.33560122]\n",
      "  [-0.33560122 -0.62239202]]\n",
      "\n",
      " [[ 0.62239202 -0.33560122]\n",
      "  [ 0.33560122  0.62239202]]]\n",
      "[ 0.70710678 -0.70710678]\n",
      "[0.62239202+0.33560122j 0.62239202-0.33560122j]\n",
      "(array([[ 0.70710678+0.j        , -0.70710678+0.j        ],\n",
      "       [ 0.62239202+0.33560122j,  0.62239202-0.33560122j]]), array([[[ 9.69586312e-01+0.j        ,  2.44749636e-01+0.j        ],\n",
      "        [-2.44749636e-01+0.j        ,  9.69586312e-01+0.j        ]],\n",
      "\n",
      "       [[-1.84243051e-16+0.70710678j, -1.84243051e-16-0.70710678j],\n",
      "        [ 7.07106781e-01+0.j        ,  7.07106781e-01-0.j        ]]]))\n"
     ]
    }
   ],
   "source": [
    "matrix = np.load(\"mps_tensors/tensor_2.npy\")\n",
    "print(matrix)\n",
    "print(np.linalg.eigvals(matrix[0]))\n",
    "print(np.linalg.eigvals(matrix[1]))\n",
    "print(np.linalg.eigv(matrix))"
   ],
   "metadata": {
    "collapsed": false,
    "ExecuteTime": {
     "end_time": "2024-04-03T03:25:21.583776200Z",
     "start_time": "2024-04-03T03:25:21.568433800Z"
    }
   },
   "id": "2fbafffa75af0770",
   "execution_count": 29
  },
  {
   "cell_type": "code",
   "outputs": [
    {
     "data": {
      "text/plain": "Array([2., 2., 2.], dtype=float32)"
     },
     "execution_count": 35,
     "metadata": {},
     "output_type": "execute_result"
    }
   ],
   "source": [
    "import jax\n",
    "import jax.numpy as jnp\n",
    "jnp.linalg.norm(jnp.ones((3, 4)), axis = 1)"
   ],
   "metadata": {
    "collapsed": false,
    "ExecuteTime": {
     "end_time": "2024-04-03T17:27:42.861809300Z",
     "start_time": "2024-04-03T17:27:42.816158600Z"
    }
   },
   "id": "32bff6b74db074e4",
   "execution_count": 35
  },
  {
   "cell_type": "code",
   "outputs": [
    {
     "data": {
      "text/plain": "Array([0, 0, 0, 1, 1, 1, 2, 2, 2], dtype=int32)"
     },
     "execution_count": 55,
     "metadata": {},
     "output_type": "execute_result"
    }
   ],
   "source": [
    "jnp.repeat(jnp.arange(3), 3, axis = 0)"
   ],
   "metadata": {
    "collapsed": false,
    "ExecuteTime": {
     "end_time": "2024-04-04T09:17:05.997887100Z",
     "start_time": "2024-04-04T09:17:05.980550600Z"
    }
   },
   "id": "ba16eec88dc4b30c",
   "execution_count": 55
  },
  {
   "cell_type": "code",
   "outputs": [
    {
     "data": {
      "text/plain": "Array([0.9272952 , 0.98279375], dtype=float32)"
     },
     "execution_count": 50,
     "metadata": {},
     "output_type": "execute_result"
    }
   ],
   "source": [
    "jnp.angle(jnp.array([3+4*1j, 2+3*1j]))"
   ],
   "metadata": {
    "collapsed": false,
    "ExecuteTime": {
     "end_time": "2024-04-04T07:48:52.117659300Z",
     "start_time": "2024-04-04T07:48:52.068399300Z"
    }
   },
   "id": "38e35e1c19ab4555",
   "execution_count": 50
  },
  {
   "cell_type": "code",
   "outputs": [
    {
     "data": {
      "text/plain": "Array([[1, 1],\n       [1, 1],\n       [1, 3],\n       [1, 3],\n       [3, 1],\n       [3, 1],\n       [3, 3],\n       [3, 3]], dtype=int32)"
     },
     "execution_count": 59,
     "metadata": {},
     "output_type": "execute_result"
    }
   ],
   "source": [
    "import itertools\n",
    "def generate_combinations(length):\n",
    "    set1 = [1] * length\n",
    "    set2 = [3] * length\n",
    "    combinations = list(itertools.product(*zip(set1, set2)))\n",
    "    return jnp.array(combinations)\n",
    "jnp.repeat(generate_combinations(2), 2, axis = 0)"
   ],
   "metadata": {
    "collapsed": false,
    "ExecuteTime": {
     "end_time": "2024-04-04T09:18:47.559834600Z",
     "start_time": "2024-04-04T09:18:47.474274500Z"
    }
   },
   "id": "319755743af98c9",
   "execution_count": 59
  },
  {
   "cell_type": "code",
   "outputs": [
    {
     "data": {
      "text/plain": "Array([0.+0.j, 0.+0.j, 0.+0.j], dtype=complex64)"
     },
     "execution_count": 52,
     "metadata": {},
     "output_type": "execute_result"
    }
   ],
   "source": [
    "jnp.zeros(3, dtype=complex)"
   ],
   "metadata": {
    "collapsed": false,
    "ExecuteTime": {
     "end_time": "2024-04-04T08:28:19.328898Z",
     "start_time": "2024-04-04T08:28:19.283518300Z"
    }
   },
   "id": "37258d0d3dbe93b3",
   "execution_count": 52
  },
  {
   "cell_type": "code",
   "outputs": [],
   "source": [],
   "metadata": {
    "collapsed": false
   },
   "id": "6d2d4c9888fde1cd"
  }
 ],
 "metadata": {
  "kernelspec": {
   "display_name": "Python 3",
   "language": "python",
   "name": "python3"
  },
  "language_info": {
   "codemirror_mode": {
    "name": "ipython",
    "version": 2
   },
   "file_extension": ".py",
   "mimetype": "text/x-python",
   "name": "python",
   "nbconvert_exporter": "python",
   "pygments_lexer": "ipython2",
   "version": "2.7.6"
  }
 },
 "nbformat": 4,
 "nbformat_minor": 5
}
