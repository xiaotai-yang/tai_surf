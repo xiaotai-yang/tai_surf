{
 "cells": [
  {
   "cell_type": "code",
   "execution_count": 8,
   "id": "84d90ba4",
   "metadata": {},
   "outputs": [
    {
     "data": {
      "text/plain": [
       "(dim=3|id=851)"
      ]
     },
     "execution_count": 8,
     "metadata": {},
     "output_type": "execute_result"
    }
   ],
   "source": [
    "Index(3)"
   ]
  },
  {
   "cell_type": "code",
   "execution_count": 3,
   "id": "605390e6",
   "metadata": {},
   "outputs": [],
   "source": [
    "using ITensors"
   ]
  },
  {
   "cell_type": "code",
   "execution_count": 1,
   "id": "e9b85075",
   "metadata": {
    "ExecuteTime": {
     "end_time": "2023-09-23T11:50:20.126308500Z",
     "start_time": "2023-09-23T11:48:26.464731100Z"
    }
   },
   "outputs": [
    {
     "name": "stdout",
     "output_type": "stream",
     "text": [
      "After sweep 1 energy=-63.99927629285403  maxlinkdim=10 maxerr=1.36E-03 time=43.894\n",
      "After sweep 2 energy=-63.99999993793334  maxlinkdim=5 maxerr=9.88E-11 time=0.296\n",
      "After sweep 3 energy=-63.99999999999987  maxlinkdim=2 maxerr=2.17E-11 time=0.224\n",
      "After sweep 4 energy=-63.99999999999997  maxlinkdim=2 maxerr=8.88E-16 time=0.319\n",
      "After sweep 5 energy=-64.00000000000001  maxlinkdim=2 maxerr=5.44E-16 time=1.716\n"
     ]
    },
    {
     "ename": "LoadError",
     "evalue": "UndefVarError: `printfn` not defined",
     "output_type": "error",
     "traceback": [
      "UndefVarError: `printfn` not defined",
      "",
      "Stacktrace:",
      " [1] top-level scope",
      "   @ .\\In[1]:30"
     ]
    }
   ],
   "source": [
    "using ITensors\n",
    "\n",
    "let\n",
    "  N = 64\n",
    "\n",
    "  # Make an array of N Index objects with alternating\n",
    "  # \"S=1/2\" and \"S=1\" tags on odd versus even sites\n",
    "  # (The first argument n->isodd(n) ... is an \n",
    "  # on-the-fly function mapping integers to strings)\n",
    "  sites = siteinds(\"S=1/2\", N)\n",
    "\n",
    "  os = OpSum()\n",
    "  os -= 4.0, \"Sz\",1,\"Sx\",2\n",
    "  os -=  8.0, \"Sx\", N-2,\"Sz\",N-1,\"Sz\",N\n",
    "  os -= 4.0, \"Sx\", N-1,\"Sx\",N\n",
    "  for j=1:N-3\n",
    "  os -= 8.0, \"Sx\",j,\"Sz\",j+1,\"Sx\",j+2\n",
    "  \n",
    "  end\n",
    "  \n",
    "  H = MPO(os,sites)\n",
    "\n",
    "  nsweeps = 5\n",
    "  maxdim = [10,20,40,80,200]\n",
    "  cutoff = [1E-10]\n",
    "  noise = [1E-5, 1E-6, 1E-7, 1E-8, 0.0]\n",
    "  psi0 = randomMPS(sites,10)\n",
    "\n",
    "  energy,psi = dmrg(H,psi0; nsweeps, maxdim, cutoff, noise)\n",
    "  printfn(psi)\n",
    "  return\n",
    "end\n"
   ]
  },
  {
   "cell_type": "code",
   "execution_count": 65,
   "id": "28c217f4",
   "metadata": {},
   "outputs": [
    {
     "name": "stdout",
     "output_type": "stream",
     "text": [
      "After sweep 1 energy=-63.999025703015874  maxlinkdim=10 maxerr=1.15E-03 time=0.331\n",
      "After sweep 2 energy=-63.99999977882751  maxlinkdim=8 maxerr=9.96E-11 time=0.246\n",
      "After sweep 3 energy=-63.99999999999983  maxlinkdim=2 maxerr=2.16E-11 time=0.178\n",
      "After sweep 4 energy=-63.99999999999998  maxlinkdim=2 maxerr=5.55E-16 time=0.121\n",
      "After sweep 5 energy=-64.0  maxlinkdim=2 maxerr=5.55E-16 time=0.182\n"
     ]
    }
   ],
   "source": [
    "using ITensors\n",
    "\n",
    "let\n",
    "  N = 64\n",
    "\n",
    "  # Make an array of N Index objects with alternating\n",
    "  # \"S=1/2\" and \"S=1\" tags on odd versus even sites\n",
    "  # (The first argument n->isodd(n) ... is an \n",
    "  # on-the-fly function mapping integers to strings)\n",
    "  sites = siteinds(\"S=1/2\", N)\n",
    "\n",
    "  os = OpSum()\n",
    "  os -= 4.0, \"Sz\",1,\"Sz\",2\n",
    "  os -=  8.0, \"Sx\", 1,\"Sx\",2,\"Sz\",3\n",
    "  os -= 4.0, \"Sz\", N-1,\"Sx\",N\n",
    "  for j=2:N-2\n",
    "  os -= 8.0, \"Sz\",j,\"Sx\",j+1,\"Sz\",j+2\n",
    "  \n",
    "  end\n",
    "  \n",
    "  H = MPO(os,sites)\n",
    "\n",
    "  nsweeps = 5\n",
    "  maxdim = [10,20,40,80,200]\n",
    "  cutoff = [1E-10]\n",
    "  noise = [1E-5, 1E-6, 1E-7, 1E-8, 0.0]\n",
    "  psi0 = randomMPS(sites,10)\n",
    "\n",
    "  energy,psi = dmrg(H,psi0; nsweeps, maxdim, cutoff, noise)\n",
    "  return\n",
    "end\n"
   ]
  },
  {
   "cell_type": "code",
   "execution_count": 14,
   "id": "528fb2ae",
   "metadata": {},
   "outputs": [
    {
     "data": {
      "text/plain": [
       "1-element Vector{Float64}:\n",
       " 1.0e-10"
      ]
     },
     "execution_count": 14,
     "metadata": {},
     "output_type": "execute_result"
    }
   ],
   "source": [
    "nsweeps = 5 # number of sweeps is 5\n",
    "maxdim = [10,20,100,100,200] # gradually increase states kept\n",
    "cutoff = [1E-10] # desired truncation error"
   ]
  },
  {
   "cell_type": "code",
   "execution_count": null,
   "id": "a9ce854e",
   "metadata": {},
   "outputs": [],
   "source": []
  }
 ],
 "metadata": {
  "kernelspec": {
   "display_name": "Julia 1.9.3",
   "language": "julia",
   "name": "julia-1.9"
  },
  "language_info": {
   "file_extension": ".jl",
   "mimetype": "application/julia",
   "name": "julia",
   "version": "1.9.3"
  }
 },
 "nbformat": 4,
 "nbformat_minor": 5
}
