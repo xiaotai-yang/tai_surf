{
 "cells": [
  {
   "cell_type": "code",
   "execution_count": 8,
   "id": "cd866536",
   "metadata": {},
   "outputs": [
    {
     "name": "stdout",
     "output_type": "stream",
     "text": [
      "Tensorflow version = 1.13.1\n",
      "[name: \"/device:CPU:0\"\n",
      "device_type: \"CPU\"\n",
      "memory_limit: 268435456\n",
      "locality {\n",
      "}\n",
      "incarnation: 2995630230043900288\n",
      "]\n",
      "one_hot_samples: Tensor(\"one_hot_1:0\", shape=(?, 4, 2), dtype=float32, device=/device:CPU:0)\n",
      "cond_prob: Tensor(\"Sum_2:0\", shape=(?, 4), dtype=float32, device=/device:CPU:0)\n",
      "(18, 32)\n",
      "576\n",
      "(32,)\n",
      "32\n",
      "(2, 16)\n",
      "32\n",
      "(16, 16)\n",
      "256\n",
      "(16,)\n",
      "16\n",
      "(16,)\n",
      "16\n",
      "(16, 2)\n",
      "32\n",
      "(2,)\n",
      "2\n",
      "(16, 2)\n",
      "32\n",
      "(2,)\n",
      "2\n",
      "996\n",
      "Loading the model from checkpoint\n",
      "INFO:tensorflow:Restoring parameters from ../Check_Points/ES/RNNwavefunction_N4_samp256_lradap0.01_complexGRURNN_ES_units_16_zeromag.ckpt\n"
     ]
    },
    {
     "name": "stderr",
     "output_type": "stream",
     "text": [
      "INFO:tensorflow:Restoring parameters from ../Check_Points/ES/RNNwavefunction_N4_samp256_lradap0.01_complexGRURNN_ES_units_16_zeromag.ckpt\n"
     ]
    },
    {
     "name": "stdout",
     "output_type": "stream",
     "text": [
      "Loading was successful!\n"
     ]
    }
   ],
   "source": [
    "import tensorflow as tf\n",
    "print(\"Tensorflow version =\",tf.__version__)\n",
    "import numpy as np\n",
    "import os\n",
    "import time\n",
    "import random\n",
    "import argparse\n",
    "import itertools\n",
    "import ComplexRNNwavefunction\n",
    "from ComplexRNNwavefunction import RNNwavefunction\n",
    "import gc\n",
    "from tensorflow.python.client import device_lib\n",
    "import sys\n",
    "sys.argv = [sys.argv[0]]\n",
    "def get_numavailable_gpus():\n",
    "    local_device_protos = device_lib.list_local_devices()\n",
    "    print(local_device_protos)\n",
    "    return len([x.name for x in local_device_protos if x.device_type == 'GPU'])\n",
    "\n",
    "parser = argparse.ArgumentParser()\n",
    "parser.add_argument('--system_size', type = int, default=4)\n",
    "parser.add_argument('--numsamples', type = float, default=256)\n",
    "parser.add_argument('--rnn_unit', type = float, default=16)\n",
    "parser.add_argument('--num_unit', type = int, default=128)\n",
    "parser.add_argument('--num_first_sample', type = int, default=100)\n",
    "parser.add_argument('--num_second_sample', type = int, default=1500)\n",
    "parser.add_argument('--position_', type = int, default=11)\n",
    "parser.add_argument('--param', type=int, default = 1)\n",
    "args = parser.parse_args()\n",
    "\n",
    "\n",
    "\n",
    "systemsize = args.system_size\n",
    "num_unit = args.num_unit\n",
    "position_ = args.position_\n",
    "numsamples = args.numsamples\n",
    "Marshall_sign = True\n",
    "rnn_unit = args.rnn_unit\n",
    "num_layers = 1\n",
    "\n",
    "learningrate = 0.01\n",
    "\n",
    "seed = args.param\n",
    "N = systemsize #Number of spins\n",
    "lr = np.float64(learningrate)\n",
    "\n",
    "units = [rnn_unit]\n",
    "\n",
    "#Seeding\n",
    "tf.reset_default_graph()\n",
    "random.seed(seed)  # `python` built-in pseudo-random generator\n",
    "np.random.seed(seed)  # numpy pseudo-random generator\n",
    "tf.set_random_seed(seed)  # tensorflow pseudo-random generator\n",
    "\n",
    "\n",
    "path=os.getcwd()\n",
    "\n",
    "ending='_units'\n",
    "for u in units:\n",
    "    ending+='_{0}'.format(u)\n",
    "\n",
    "savename = '_ES'\n",
    "\n",
    "filename='../Check_Points/ES/RNNwavefunction_N'+str(N)+'_samp'+str(numsamples)+'_lradap'+str(lr)+'_complexGRURNN'+ savename + ending +'_zeromag.ckpt'\n",
    "\n",
    "'''\n",
    "ckpt_meta_path = filename+\".ckpt\"\n",
    "print(os.path.exists(ckpt_meta_path))\n",
    "'''\n",
    "\n",
    "\n",
    "# Intitializing the RNN-----------\n",
    "\n",
    "input_dim=2 #Dimension of the Hilbert space for each site (here = 2, up or down)\n",
    "numsamples_=20 #only for initialization; later I'll use a much larger value (see below)\n",
    "\n",
    "\n",
    "wf=RNNwavefunction(N,units=units,cell=tf.contrib.cudnn_rnn.CudnnCompatibleGRUCell, seed = seed) #contains the graph with the RNNs\n",
    "\n",
    "\n",
    "'''\n",
    " #contains the graph with the RNNs\n",
    "sampling=wf.sample(numsamples_,input_dim) #call this function once to create the dense layers\n",
    "'''\n",
    "with tf.variable_scope(wf.scope,reuse=tf.AUTO_REUSE):\n",
    "    with wf.graph.as_default():\n",
    "        if (get_numavailable_gpus()==0):\n",
    "            device = '/CPU:0'\n",
    "        else:\n",
    "            device = '/GPU:0'\n",
    "        \n",
    "        global_step = tf.Variable(0, trainable=False)\n",
    "        learningrate_placeholder=tf.placeholder(dtype=tf.float32,shape=[])\n",
    "        learningrate_withexpdecay = tf.train.exponential_decay(learningrate_placeholder, global_step, decay_steps = 100, decay_rate = 1.0, staircase=True) #Adaptive Learning (decay_rate = 1 -> no decay)\n",
    "\n",
    "        inputs=tf.placeholder(dtype=tf.int32,shape=[None,N]) #the inputs are the samples of all of the spins\n",
    "\n",
    "        with tf.device(device):\n",
    "                        \n",
    "            sample_first_input = tf.stop_gradient(wf.sample(num_unit, inputdim=2))\n",
    "            log_amplitudes_=tf.stop_gradient(wf.log_amplitude(inputs,inputdim=2))\n",
    "            cond_prob = tf.stop_gradient(wf.cond_prob(inputs, inputdim =2))\n",
    "            \n",
    "            #cost = 2*tf.real(tf.reduce_mean(tf.conj(log_amplitudes_)*tf.stop_gradient(Eloc)) - tf.conj(tf.reduce_mean(log_amplitudes_))*tf.reduce_mean(tf.stop_gradient(Eloc)))\n",
    "        optimizer=tf.train.AdamOptimizer(learning_rate=learningrate_withexpdecay, beta1=0.9, beta2 = 0.999, epsilon = 1e-8)\n",
    "        #gradients, variables = zip(*optimizer.compute_gradients(cost))\n",
    "        #clipped_gradients = [tf.clip_by_value(g, -10, 10) for g in gradients]\n",
    "        #optstep=optimizer.apply_gradients(zip(clipped_gradients,variables),global_step=global_step)\n",
    "        init=tf.global_variables_initializer()\n",
    "        saver=tf.train.Saver()\n",
    "\n",
    "# End Intitializing\n",
    "\n",
    "#Starting Session------------\n",
    "#Activating GPU\n",
    "config = tf.ConfigProto()\n",
    "config.gpu_options.allow_growth = True\n",
    "sess=tf.Session(graph=wf.graph, config=config)\n",
    "sess.run(init)\n",
    "#---------------------------\n",
    "\n",
    "         #define tf saver\n",
    "with wf.graph.as_default():\n",
    "    total_parameters = 0\n",
    "    for variable in tf.compat.v1.trainable_variables():\n",
    "        # shape is an array of tf.Dimension\n",
    "        shape = variable.get_shape()\n",
    "        print(shape)\n",
    "        variable_parameters = 1\n",
    "        for dim in shape:\n",
    "            variable_parameters *= dim\n",
    "        print(variable_parameters)\n",
    "        total_parameters += variable_parameters\n",
    "    print(total_parameters)\n",
    "\n",
    "with tf.compat.v1.variable_scope(wf.scope,reuse=tf.compat.v1.AUTO_REUSE):\n",
    "    with wf.graph.as_default():\n",
    "        try:\n",
    "            print(\"Loading the model from checkpoint\")\n",
    "            saver.restore(sess,filename)\n",
    "            print(\"Loading was successful!\")\n",
    "        except:\n",
    "            print(\"Loading was failed!\")\n",
    "            print(filename)\n",
    "            sys.exit()"
   ]
  },
  {
   "cell_type": "code",
   "execution_count": 9,
   "id": "dc4e3101",
   "metadata": {},
   "outputs": [],
   "source": [
    "with tf.compat.v1.variable_scope(wf.scope,reuse=tf.compat.v1.AUTO_REUSE):\n",
    "    with wf.graph.as_default():\n",
    "        basis = np.array(list(itertools.product([0, 1], repeat=N)))\n",
    "        log_amp_all_basis = sess.run(log_amplitudes_, feed_dict={inputs: basis})\n",
    "    "
   ]
  },
  {
   "cell_type": "code",
   "execution_count": 13,
   "id": "7c3def1e",
   "metadata": {},
   "outputs": [
    {
     "name": "stdout",
     "output_type": "stream",
     "text": [
      "[0.         0.         0.         0.12955439 0.         0.12102269\n",
      " 0.24142122 0.         0.         0.25908306 0.12930974 0.\n",
      " 0.11960894 0.         0.         0.        ]\n",
      "[-0.        +0.j         -0.        +0.j         -0.        +0.j\n",
      " -0.24779299-0.26106137j -0.        -0.j         -0.0782396 -0.3389709j\n",
      " -0.11050337-0.47875905j -0.        +0.j         -0.        +0.j\n",
      " -0.3424361 -0.37659073j -0.24049339-0.26734373j -0.        -0.j\n",
      "  0.0724014 +0.33818185j -0.        +0.j          0.        +0.j\n",
      "  0.        +0.j        ]\n"
     ]
    }
   ],
   "source": [
    "prob_all_basis=(np.abs(np.exp(log_amp_all_basis))**2)\n",
    "print(prob_all_basis)\n",
    "amp = (np.exp(log_amp_all_basis))\n",
    "print(amp)"
   ]
  },
  {
   "cell_type": "code",
   "execution_count": 24,
   "id": "7f4661f6",
   "metadata": {},
   "outputs": [
    {
     "data": {
      "text/plain": [
       "array([[0.05209623, 0.05097875, 0.05574478, 0.0429248 ]])"
      ]
     },
     "execution_count": 24,
     "metadata": {},
     "output_type": "execute_result"
    }
   ],
   "source": [
    "np.load(\"tv_first_var0.0.npy\")"
   ]
  },
  {
   "cell_type": "code",
   "execution_count": 11,
   "id": "c9e87a1b",
   "metadata": {},
   "outputs": [
    {
     "data": {
      "text/plain": [
       "array([[0.10667124, 0.02259604, 0.04029338, 0.017396  , 0.02504426]])"
      ]
     },
     "execution_count": 11,
     "metadata": {},
     "output_type": "execute_result"
    }
   ],
   "source": [
    "np.load(\"tv_second_var0.24.npy\")"
   ]
  },
  {
   "cell_type": "code",
   "execution_count": 62,
   "id": "3c74bd9b",
   "metadata": {},
   "outputs": [
    {
     "data": {
      "text/plain": [
       "array([ 19.602417-0.02014877j,  19.524143+0.05143145j,\n",
       "        19.558655-0.0539176j , ..., -25.553974+0.02380841j,\n",
       "       -25.551773-0.00339204j, -25.600811+0.00493468j], dtype=complex64)"
      ]
     },
     "execution_count": 62,
     "metadata": {},
     "output_type": "execute_result"
    }
   ],
   "source": [
    "np.load(\"../Check_points/J1J2/meanEnergy_N64_samp128_lradap0.0005_complexGRURNN_J1J20.25_units_64_zeromag.npy\")"
   ]
  },
  {
   "cell_type": "code",
   "execution_count": 71,
   "id": "a104e899",
   "metadata": {},
   "outputs": [
    {
     "data": {
      "text/plain": [
       "array([3], dtype=int64)"
      ]
     },
     "execution_count": 71,
     "metadata": {},
     "output_type": "execute_result"
    }
   ],
   "source": [
    "np.where(a==-1)[0]"
   ]
  },
  {
   "cell_type": "code",
   "execution_count": 51,
   "id": "a11805f6",
   "metadata": {},
   "outputs": [
    {
     "name": "stdout",
     "output_type": "stream",
     "text": [
      "(array([2, 3, 4], dtype=int64),)\n",
      "[ 4.  3. -1. -1. -1.  0.  0.  0.  0.  0.]\n"
     ]
    }
   ],
   "source": [
    "position = 4\n",
    "L = 10\n",
    "step = 2\n",
    "label = np.zeros((L))\n",
    "for i in range (position+1):   #position follows the label in python tradition\n",
    "    label[i] = np.abs(position-i)\n",
    "label[position] = -1\n",
    "length = np.max(label)\n",
    "output = 0\n",
    "# get the coordinate that we need to match\n",
    "for i in range (1, step+1):\n",
    "    pos_temp = np.where(label == i)\n",
    "    label[pos_temp] = -1\n",
    "\n",
    "label_where = np.where(label==-1)\n",
    "print(label_where)\n",
    "print(label)"
   ]
  },
  {
   "cell_type": "code",
   "execution_count": 52,
   "id": "53b8161f",
   "metadata": {},
   "outputs": [
    {
     "data": {
      "text/plain": [
       "array([4.])"
      ]
     },
     "execution_count": 52,
     "metadata": {},
     "output_type": "execute_result"
    }
   ],
   "source": [
    "label[np.where(label_where==np.array(2))[0]]"
   ]
  },
  {
   "cell_type": "code",
   "execution_count": 41,
   "id": "d7f58662",
   "metadata": {},
   "outputs": [
    {
     "ename": "AttributeError",
     "evalue": "module 'tensorflow' has no attribute 'contrib'",
     "output_type": "error",
     "traceback": [
      "\u001b[1;31m---------------------------------------------------------------------------\u001b[0m",
      "\u001b[1;31mAttributeError\u001b[0m                            Traceback (most recent call last)",
      "Cell \u001b[1;32mIn[41], line 26\u001b[0m\n\u001b[0;32m     22\u001b[0m np\u001b[38;5;241m.\u001b[39mrandom\u001b[38;5;241m.\u001b[39mseed(seed)  \u001b[38;5;66;03m# numpy pseudo-random generator\u001b[39;00m\n\u001b[0;32m     24\u001b[0m path \u001b[38;5;241m=\u001b[39m \u001b[38;5;124m\"\u001b[39m\u001b[38;5;124m/../Check_Points/J1J2/RNNwavefunction_N64_samp128_lradap0.0005_complexGRURNN_J1J20.24_units_64_zeromag.ckpt\u001b[39m\u001b[38;5;124m\"\u001b[39m\n\u001b[1;32m---> 26\u001b[0m wf\u001b[38;5;241m=\u001b[39mRNNwavefunction(N,units\u001b[38;5;241m=\u001b[39munits,cell\u001b[38;5;241m=\u001b[39m\u001b[43mtf\u001b[49m\u001b[38;5;241;43m.\u001b[39;49m\u001b[43mcontrib\u001b[49m\u001b[38;5;241m.\u001b[39mcudnn_rnn\u001b[38;5;241m.\u001b[39mCudnnCompatibleGRUCell, seed \u001b[38;5;241m=\u001b[39m seed) \u001b[38;5;66;03m# tensorflow pseudo-random generator\u001b[39;00m\n\u001b[0;32m     28\u001b[0m \u001b[38;5;28;01mwith\u001b[39;00m tf\u001b[38;5;241m.\u001b[39mcompat\u001b[38;5;241m.\u001b[39mv1\u001b[38;5;241m.\u001b[39mvariable_scope(wf\u001b[38;5;241m.\u001b[39mscope,reuse\u001b[38;5;241m=\u001b[39mtf\u001b[38;5;241m.\u001b[39mcompat\u001b[38;5;241m.\u001b[39mv1\u001b[38;5;241m.\u001b[39mAUTO_REUSE):\n\u001b[0;32m     29\u001b[0m     \u001b[38;5;28;01mwith\u001b[39;00m wf\u001b[38;5;241m.\u001b[39mgraph\u001b[38;5;241m.\u001b[39mas_default():\n",
      "\u001b[1;31mAttributeError\u001b[0m: module 'tensorflow' has no attribute 'contrib'"
     ]
    }
   ],
   "source": [
    "from ComplexRNNwavefunction import RNNwavefunction\n",
    "\n",
    "systemsize = 64\n",
    "J1_  = 1.0\n",
    "J2_ = 0.24\n",
    "Marshall_sign = True\n",
    "num_units = 64\n",
    "num_layers = 1\n",
    "numsamples = 128\n",
    "learningrate = 5*1e-4\n",
    "seed = 111\n",
    "N=systemsize #Number of spins\n",
    "lr = np.float64(learningrate)\n",
    "\n",
    "J1=+J1_*np.ones(N) # nearest neighbours couplings\n",
    "J2=+J2_*np.ones(N) # next-nearest neighbours couplings\n",
    "\n",
    "units = [num_units]\n",
    "\n",
    "#Seeding\n",
    "tf.compat.v1.reset_default_graph()\n",
    "np.random.seed(seed)  # numpy pseudo-random generator\n",
    "\n",
    "path = \"/../Check_Points/J1J2/RNNwavefunction_N64_samp128_lradap0.0005_complexGRURNN_J1J20.24_units_64_zeromag.ckpt\"\n",
    "\n",
    "wf=RNNwavefunction(N,units=units,cell=tf.contrib.cudnn_rnn.CudnnCompatibleGRUCell, seed = seed) # tensorflow pseudo-random generator\n",
    " \n",
    "with tf.compat.v1.variable_scope(wf.scope,reuse=tf.compat.v1.AUTO_REUSE):\n",
    "    with wf.graph.as_default():\n",
    "        saver=tf.compat.v1.train.Saver()"
   ]
  },
  {
   "cell_type": "code",
   "execution_count": 55,
   "id": "5b19e25c",
   "metadata": {},
   "outputs": [
    {
     "data": {
      "text/plain": [
       "1"
      ]
     },
     "execution_count": 55,
     "metadata": {},
     "output_type": "execute_result"
    }
   ],
   "source": [
    "len([[4,6]])"
   ]
  },
  {
   "cell_type": "code",
   "execution_count": 14,
   "id": "d888f5e2",
   "metadata": {},
   "outputs": [
    {
     "data": {
      "text/plain": [
       "array(2)"
      ]
     },
     "execution_count": 14,
     "metadata": {},
     "output_type": "execute_result"
    }
   ],
   "source": [
    "np.array(2)"
   ]
  },
  {
   "cell_type": "code",
   "execution_count": 17,
   "id": "9c0b638d",
   "metadata": {},
   "outputs": [
    {
     "data": {
      "text/plain": [
       "array([1], dtype=int64)"
      ]
     },
     "execution_count": 17,
     "metadata": {},
     "output_type": "execute_result"
    }
   ],
   "source": [
    "np.where(np.array([1,2,3])==np.array(2))[0]"
   ]
  },
  {
   "cell_type": "code",
   "execution_count": 4,
   "id": "709d5117",
   "metadata": {},
   "outputs": [],
   "source": [
    "import numpy as np\n",
    "a = np.ones(5)"
   ]
  },
  {
   "cell_type": "code",
   "execution_count": 6,
   "id": "339f40da",
   "metadata": {},
   "outputs": [
    {
     "name": "stdout",
     "output_type": "stream",
     "text": [
      "slice(0, 5, None)\n"
     ]
    }
   ],
   "source": [
    "print(slice(0, 5))"
   ]
  },
  {
   "cell_type": "code",
   "execution_count": null,
   "id": "bd0b8081",
   "metadata": {},
   "outputs": [],
   "source": []
  }
 ],
 "metadata": {
  "kernelspec": {
   "display_name": "Python 3",
   "language": "python",
   "name": "python3"
  },
  "language_info": {
   "codemirror_mode": {
    "name": "ipython",
    "version": 3
   },
   "file_extension": ".py",
   "mimetype": "text/x-python",
   "name": "python",
   "nbconvert_exporter": "python",
   "pygments_lexer": "ipython3",
   "version": "3.6.13"
  }
 },
 "nbformat": 4,
 "nbformat_minor": 5
}
