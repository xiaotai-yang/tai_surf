{
 "cells": [
  {
   "cell_type": "code",
   "execution_count": 1,
   "metadata": {
    "collapsed": true,
    "ExecuteTime": {
     "end_time": "2023-08-28T16:47:32.725215200Z",
     "start_time": "2023-08-28T16:47:32.702870200Z"
    }
   },
   "outputs": [],
   "source": [
    "import os\n",
    "os.environ[\"JAX_PLATFORM_NAME\"] = \"cpu\""
   ]
  },
  {
   "cell_type": "code",
   "execution_count": 25,
   "outputs": [],
   "source": [
    "import netket as nk\n",
    "\n",
    "N = 16\n",
    "hi = nk.hilbert.Spin(s=1 / 2, N=N)"
   ],
   "metadata": {
    "collapsed": false,
    "ExecuteTime": {
     "end_time": "2023-08-28T23:46:12.710959600Z",
     "start_time": "2023-08-28T23:46:12.697108100Z"
    }
   }
  },
  {
   "cell_type": "code",
   "execution_count": 26,
   "outputs": [
    {
     "data": {
      "text/plain": "Array([[-1.,  1., -1., -1.,  1., -1.,  1.,  1., -1.,  1.,  1., -1.,  1.,\n         1., -1.,  1.],\n       [-1.,  1.,  1., -1.,  1., -1., -1.,  1.,  1., -1., -1., -1., -1.,\n        -1., -1., -1.],\n       [-1., -1., -1.,  1., -1.,  1., -1.,  1.,  1.,  1., -1.,  1., -1.,\n        -1., -1., -1.]], dtype=float32)"
     },
     "execution_count": 26,
     "metadata": {},
     "output_type": "execute_result"
    }
   ],
   "source": [
    "import jax\n",
    "hi.random_state(jax.random.PRNGKey(0), 3)"
   ],
   "metadata": {
    "collapsed": false,
    "ExecuteTime": {
     "end_time": "2023-08-28T23:46:13.893652900Z",
     "start_time": "2023-08-28T23:46:13.597513700Z"
    }
   }
  },
  {
   "cell_type": "code",
   "execution_count": 27,
   "outputs": [],
   "source": [
    "from netket.operator.spin import sigmax,sigmaz\n",
    "\n",
    "H = -1*sigmaz(hi,0)*sigmax(hi, 1)\n",
    "H += -1*sigmax(hi,N-3)*sigmaz(hi, N-2)*sigmaz(hi, N-1)\n",
    "H += -1*sigmax(hi,N-2)*sigmax(hi, N-1)\n",
    "H += sum([-1*sigmax(hi,i)*sigmaz(hi,(i+1))*sigmax(hi,i+2) for i in range(N-3)])"
   ],
   "metadata": {
    "collapsed": false,
    "ExecuteTime": {
     "end_time": "2023-08-28T23:46:15.529361700Z",
     "start_time": "2023-08-28T23:46:15.476610100Z"
    }
   }
  },
  {
   "cell_type": "code",
   "execution_count": 28,
   "outputs": [],
   "source": [
    "HX = -1 * sigmax(hi, 0) * sigmaz(hi, 1)\n",
    "HX += -1 * sigmaz(hi, N - 3) * sigmax(hi, N - 2) * sigmax(hi, N - 1)\n",
    "HX += -1 * sigmaz(hi, N - 2) * sigmaz(hi, N - 1)\n",
    "HX += sum([-1 * sigmaz(hi, i) * sigmax(hi, (i + 1)) * sigmaz(hi, i + 2) for i in range(N - 3)])\n"
   ],
   "metadata": {
    "collapsed": false,
    "ExecuteTime": {
     "end_time": "2023-08-28T23:46:17.916548900Z",
     "start_time": "2023-08-28T23:46:17.865730200Z"
    }
   }
  },
  {
   "cell_type": "code",
   "execution_count": 29,
   "outputs": [
    {
     "data": {
      "text/plain": "(65536, 65536)"
     },
     "execution_count": 29,
     "metadata": {},
     "output_type": "execute_result"
    }
   ],
   "source": [
    "sp_h=H.to_sparse()\n",
    "sp_h.shape"
   ],
   "metadata": {
    "collapsed": false,
    "ExecuteTime": {
     "end_time": "2023-08-28T23:46:19.857541200Z",
     "start_time": "2023-08-28T23:46:19.541920200Z"
    }
   }
  },
  {
   "cell_type": "code",
   "execution_count": 30,
   "outputs": [
    {
     "name": "stdout",
     "output_type": "stream",
     "text": [
      "eigenvalues with scipy sparse: [-16. -14.]\n"
     ]
    }
   ],
   "source": [
    "from scipy.sparse.linalg import eigsh\n",
    "\n",
    "eig_vals, eig_vecs = eigsh(sp_h, k=2, which=\"SA\")\n",
    "\n",
    "print(\"eigenvalues with scipy sparse:\", eig_vals)\n",
    "\n",
    "E_gs = eig_vals[0]"
   ],
   "metadata": {
    "collapsed": false,
    "ExecuteTime": {
     "end_time": "2023-08-28T23:46:20.417392800Z",
     "start_time": "2023-08-28T23:46:20.338018400Z"
    }
   }
  },
  {
   "cell_type": "code",
   "execution_count": 31,
   "outputs": [
    {
     "name": "stdout",
     "output_type": "stream",
     "text": [
      "PermutationGroup(elems=[Id()], degree=16)\n"
     ]
    }
   ],
   "source": [
    "graph=nk.graph.Chain(length=N, pbc=False)\n",
    "g = nk.graph.Hypercube(length=N, n_dim=1, pbc=False)\n",
    "print(graph.translation_group())"
   ],
   "metadata": {
    "collapsed": false,
    "ExecuteTime": {
     "end_time": "2023-08-28T23:46:27.123679200Z",
     "start_time": "2023-08-28T23:46:27.106462800Z"
    }
   }
  },
  {
   "cell_type": "code",
   "execution_count": 33,
   "outputs": [
    {
     "name": "stderr",
     "output_type": "stream",
     "text": [
      " 12%|█▏        | 2895/25000 [05:10<39:32,  9.32it/s, Energy=-11.9978-0.0044j ± 0.0052 [σ²=0.0069, R̂=1.0348]]\n"
     ]
    },
    {
     "ename": "KeyboardInterrupt",
     "evalue": "",
     "output_type": "error",
     "traceback": [
      "\u001B[1;31m---------------------------------------------------------------------------\u001B[0m",
      "\u001B[1;31mKeyboardInterrupt\u001B[0m                         Traceback (most recent call last)",
      "Cell \u001B[1;32mIn[33], line 21\u001B[0m\n\u001B[0;32m     14\u001B[0m gs \u001B[38;5;241m=\u001B[39m nk\u001B[38;5;241m.\u001B[39mVMC(\n\u001B[0;32m     15\u001B[0m     hamiltonian\u001B[38;5;241m=\u001B[39mHX,\n\u001B[0;32m     16\u001B[0m     optimizer\u001B[38;5;241m=\u001B[39mop,\n\u001B[0;32m     17\u001B[0m     preconditioner\u001B[38;5;241m=\u001B[39m\u001B[38;5;28;01mNone\u001B[39;00m,\n\u001B[0;32m     18\u001B[0m     variational_state\u001B[38;5;241m=\u001B[39mvs)\n\u001B[0;32m     20\u001B[0m start \u001B[38;5;241m=\u001B[39m time\u001B[38;5;241m.\u001B[39mtime()\n\u001B[1;32m---> 21\u001B[0m \u001B[43mgs\u001B[49m\u001B[38;5;241;43m.\u001B[39;49m\u001B[43mrun\u001B[49m\u001B[43m(\u001B[49m\u001B[43mout\u001B[49m\u001B[38;5;241;43m=\u001B[39;49m\u001B[38;5;124;43m'\u001B[39;49m\u001B[38;5;124;43mRBMModPhase\u001B[39;49m\u001B[38;5;124;43m'\u001B[39;49m\u001B[43m,\u001B[49m\u001B[43m \u001B[49m\u001B[43mn_iter\u001B[49m\u001B[38;5;241;43m=\u001B[39;49m\u001B[38;5;241;43m25000\u001B[39;49m\u001B[43m)\u001B[49m\n\u001B[0;32m     22\u001B[0m end \u001B[38;5;241m=\u001B[39m time\u001B[38;5;241m.\u001B[39mtime()\n\u001B[0;32m     24\u001B[0m \u001B[38;5;28mprint\u001B[39m(\u001B[38;5;124m'\u001B[39m\u001B[38;5;124m### RBM calculation\u001B[39m\u001B[38;5;124m'\u001B[39m)\n",
      "File \u001B[1;32m~\\anaconda3\\lib\\site-packages\\netket\\driver\\abstract_variational_driver.py:256\u001B[0m, in \u001B[0;36mAbstractVariationalDriver.run\u001B[1;34m(self, n_iter, out, obs, show_progress, save_params_every, write_every, step_size, callback)\u001B[0m\n\u001B[0;32m    253\u001B[0m old_step \u001B[38;5;241m=\u001B[39m \u001B[38;5;28mself\u001B[39m\u001B[38;5;241m.\u001B[39mstep_count\n\u001B[0;32m    254\u001B[0m first_step \u001B[38;5;241m=\u001B[39m \u001B[38;5;28;01mTrue\u001B[39;00m\n\u001B[1;32m--> 256\u001B[0m \u001B[38;5;28;01mfor\u001B[39;00m step \u001B[38;5;129;01min\u001B[39;00m \u001B[38;5;28mself\u001B[39m\u001B[38;5;241m.\u001B[39miter(n_iter, step_size):\n\u001B[0;32m    258\u001B[0m     log_data \u001B[38;5;241m=\u001B[39m \u001B[38;5;28mself\u001B[39m\u001B[38;5;241m.\u001B[39mestimate(obs)\n\u001B[0;32m    259\u001B[0m     \u001B[38;5;28mself\u001B[39m\u001B[38;5;241m.\u001B[39m_log_additional_data(log_data, step)\n",
      "File \u001B[1;32m~\\anaconda3\\lib\\site-packages\\netket\\driver\\abstract_variational_driver.py:168\u001B[0m, in \u001B[0;36mAbstractVariationalDriver.iter\u001B[1;34m(self, n_steps, step)\u001B[0m\n\u001B[0;32m    166\u001B[0m \u001B[38;5;28;01mfor\u001B[39;00m _ \u001B[38;5;129;01min\u001B[39;00m \u001B[38;5;28mrange\u001B[39m(\u001B[38;5;241m0\u001B[39m, n_steps, step):\n\u001B[0;32m    167\u001B[0m     \u001B[38;5;28;01mfor\u001B[39;00m i \u001B[38;5;129;01min\u001B[39;00m \u001B[38;5;28mrange\u001B[39m(\u001B[38;5;241m0\u001B[39m, step):\n\u001B[1;32m--> 168\u001B[0m         dp \u001B[38;5;241m=\u001B[39m \u001B[38;5;28;43mself\u001B[39;49m\u001B[38;5;241;43m.\u001B[39;49m\u001B[43m_forward_and_backward\u001B[49m\u001B[43m(\u001B[49m\u001B[43m)\u001B[49m\n\u001B[0;32m    169\u001B[0m         \u001B[38;5;28;01mif\u001B[39;00m i \u001B[38;5;241m==\u001B[39m \u001B[38;5;241m0\u001B[39m:\n\u001B[0;32m    170\u001B[0m             \u001B[38;5;28;01myield\u001B[39;00m \u001B[38;5;28mself\u001B[39m\u001B[38;5;241m.\u001B[39mstep_count\n",
      "File \u001B[1;32m~\\anaconda3\\lib\\site-packages\\netket\\driver\\vmc.py:132\u001B[0m, in \u001B[0;36mVMC._forward_and_backward\u001B[1;34m(self)\u001B[0m\n\u001B[0;32m    129\u001B[0m \u001B[38;5;28mself\u001B[39m\u001B[38;5;241m.\u001B[39mstate\u001B[38;5;241m.\u001B[39mreset()\n\u001B[0;32m    131\u001B[0m \u001B[38;5;66;03m# Compute the local energy estimator and average Energy\u001B[39;00m\n\u001B[1;32m--> 132\u001B[0m \u001B[38;5;28mself\u001B[39m\u001B[38;5;241m.\u001B[39m_loss_stats, \u001B[38;5;28mself\u001B[39m\u001B[38;5;241m.\u001B[39m_loss_grad \u001B[38;5;241m=\u001B[39m \u001B[38;5;28;43mself\u001B[39;49m\u001B[38;5;241;43m.\u001B[39;49m\u001B[43mstate\u001B[49m\u001B[38;5;241;43m.\u001B[39;49m\u001B[43mexpect_and_grad\u001B[49m\u001B[43m(\u001B[49m\u001B[38;5;28;43mself\u001B[39;49m\u001B[38;5;241;43m.\u001B[39;49m\u001B[43m_ham\u001B[49m\u001B[43m)\u001B[49m\n\u001B[0;32m    134\u001B[0m \u001B[38;5;66;03m# if it's the identity it does\u001B[39;00m\n\u001B[0;32m    135\u001B[0m \u001B[38;5;66;03m# self._dp = self._loss_grad\u001B[39;00m\n\u001B[0;32m    136\u001B[0m \u001B[38;5;28mself\u001B[39m\u001B[38;5;241m.\u001B[39m_dp \u001B[38;5;241m=\u001B[39m \u001B[38;5;28mself\u001B[39m\u001B[38;5;241m.\u001B[39mpreconditioner(\u001B[38;5;28mself\u001B[39m\u001B[38;5;241m.\u001B[39mstate, \u001B[38;5;28mself\u001B[39m\u001B[38;5;241m.\u001B[39m_loss_grad, \u001B[38;5;28mself\u001B[39m\u001B[38;5;241m.\u001B[39mstep_count)\n",
      "File \u001B[1;32m~\\anaconda3\\lib\\site-packages\\netket\\vqs\\mc\\mc_state\\state.py:599\u001B[0m, in \u001B[0;36mMCState.expect_and_grad\u001B[1;34m(self, Ô, mutable, use_covariance)\u001B[0m\n\u001B[0;32m    596\u001B[0m \u001B[38;5;28;01mif\u001B[39;00m mutable \u001B[38;5;129;01mis\u001B[39;00m \u001B[38;5;28;01mNone\u001B[39;00m:\n\u001B[0;32m    597\u001B[0m     mutable \u001B[38;5;241m=\u001B[39m \u001B[38;5;28mself\u001B[39m\u001B[38;5;241m.\u001B[39mmutable\n\u001B[1;32m--> 599\u001B[0m \u001B[38;5;28;01mreturn\u001B[39;00m \u001B[43mexpect_and_grad\u001B[49m\u001B[43m(\u001B[49m\n\u001B[0;32m    600\u001B[0m \u001B[43m    \u001B[49m\u001B[38;5;28;43mself\u001B[39;49m\u001B[43m,\u001B[49m\u001B[43m \u001B[49m\u001B[43mÔ\u001B[49m\u001B[43m,\u001B[49m\u001B[43m \u001B[49m\u001B[43muse_covariance\u001B[49m\u001B[43m,\u001B[49m\u001B[43m \u001B[49m\u001B[38;5;28;43mself\u001B[39;49m\u001B[38;5;241;43m.\u001B[39;49m\u001B[43mchunk_size\u001B[49m\u001B[43m,\u001B[49m\u001B[43m \u001B[49m\u001B[43mmutable\u001B[49m\u001B[38;5;241;43m=\u001B[39;49m\u001B[43mmutable\u001B[49m\n\u001B[0;32m    601\u001B[0m \u001B[43m\u001B[49m\u001B[43m)\u001B[49m\n",
      "File \u001B[1;32m~\\anaconda3\\lib\\site-packages\\plum\\function.py:393\u001B[0m, in \u001B[0;36mFunction.__call__\u001B[1;34m(self, *args, **kw_args)\u001B[0m\n\u001B[0;32m    391\u001B[0m \u001B[38;5;28;01mdef\u001B[39;00m \u001B[38;5;21m__call__\u001B[39m(\u001B[38;5;28mself\u001B[39m, \u001B[38;5;241m*\u001B[39margs, \u001B[38;5;241m*\u001B[39m\u001B[38;5;241m*\u001B[39mkw_args):\n\u001B[0;32m    392\u001B[0m     method, return_type \u001B[38;5;241m=\u001B[39m \u001B[38;5;28mself\u001B[39m\u001B[38;5;241m.\u001B[39m_resolve_method_with_cache(args\u001B[38;5;241m=\u001B[39margs)\n\u001B[1;32m--> 393\u001B[0m     \u001B[38;5;28;01mreturn\u001B[39;00m _convert(method(\u001B[38;5;241m*\u001B[39margs, \u001B[38;5;241m*\u001B[39m\u001B[38;5;241m*\u001B[39mkw_args), return_type)\n",
      "File \u001B[1;32m~\\anaconda3\\lib\\site-packages\\netket\\vqs\\base.py:395\u001B[0m, in \u001B[0;36mexpect_and_grad\u001B[1;34m(vstate, operator, use_covariance, mutable, *args, **kwargs)\u001B[0m\n\u001B[0;32m    392\u001B[0m     \u001B[38;5;28;01melse\u001B[39;00m:\n\u001B[0;32m    393\u001B[0m         use_covariance \u001B[38;5;241m=\u001B[39m TrueT() \u001B[38;5;28;01mif\u001B[39;00m operator\u001B[38;5;241m.\u001B[39mis_hermitian \u001B[38;5;28;01melse\u001B[39;00m FalseT()\n\u001B[1;32m--> 395\u001B[0m \u001B[38;5;28;01mreturn\u001B[39;00m expect_and_grad(\n\u001B[0;32m    396\u001B[0m     vstate, operator, use_covariance, \u001B[38;5;241m*\u001B[39margs, mutable\u001B[38;5;241m=\u001B[39mmutable, \u001B[38;5;241m*\u001B[39m\u001B[38;5;241m*\u001B[39mkwargs\n\u001B[0;32m    397\u001B[0m )\n",
      "File \u001B[1;32m~\\anaconda3\\lib\\site-packages\\plum\\function.py:393\u001B[0m, in \u001B[0;36mFunction.__call__\u001B[1;34m(self, *args, **kw_args)\u001B[0m\n\u001B[0;32m    391\u001B[0m \u001B[38;5;28;01mdef\u001B[39;00m \u001B[38;5;21m__call__\u001B[39m(\u001B[38;5;28mself\u001B[39m, \u001B[38;5;241m*\u001B[39margs, \u001B[38;5;241m*\u001B[39m\u001B[38;5;241m*\u001B[39mkw_args):\n\u001B[0;32m    392\u001B[0m     method, return_type \u001B[38;5;241m=\u001B[39m \u001B[38;5;28mself\u001B[39m\u001B[38;5;241m.\u001B[39m_resolve_method_with_cache(args\u001B[38;5;241m=\u001B[39margs)\n\u001B[1;32m--> 393\u001B[0m     \u001B[38;5;28;01mreturn\u001B[39;00m _convert(method(\u001B[38;5;241m*\u001B[39margs, \u001B[38;5;241m*\u001B[39m\u001B[38;5;241m*\u001B[39mkw_args), return_type)\n",
      "File \u001B[1;32m~\\anaconda3\\lib\\site-packages\\plum\\function.py:56\u001B[0m, in \u001B[0;36m_change_function_name.<locals>.f_renamed\u001B[1;34m(*args, **kw_args)\u001B[0m\n\u001B[0;32m     54\u001B[0m \u001B[38;5;129m@wraps\u001B[39m(f)\n\u001B[0;32m     55\u001B[0m \u001B[38;5;28;01mdef\u001B[39;00m \u001B[38;5;21mf_renamed\u001B[39m(\u001B[38;5;241m*\u001B[39margs, \u001B[38;5;241m*\u001B[39m\u001B[38;5;241m*\u001B[39mkw_args):\n\u001B[1;32m---> 56\u001B[0m     \u001B[38;5;28;01mreturn\u001B[39;00m f(\u001B[38;5;241m*\u001B[39margs, \u001B[38;5;241m*\u001B[39m\u001B[38;5;241m*\u001B[39mkw_args)\n",
      "File \u001B[1;32m~\\anaconda3\\lib\\site-packages\\netket\\vqs\\mc\\mc_state\\expect_grad_chunked.py:42\u001B[0m, in \u001B[0;36mexpect_and_grad_nochunking\u001B[1;34m(vstate, operator, use_covariance, chunk_size, *args, **kwargs)\u001B[0m\n\u001B[0;32m     33\u001B[0m \u001B[38;5;129m@expect_and_grad\u001B[39m\u001B[38;5;241m.\u001B[39mdispatch\n\u001B[0;32m     34\u001B[0m \u001B[38;5;28;01mdef\u001B[39;00m \u001B[38;5;21mexpect_and_grad_nochunking\u001B[39m(  \u001B[38;5;66;03m# noqa: F811\u001B[39;00m\n\u001B[0;32m     35\u001B[0m     vstate: MCState,\n\u001B[1;32m   (...)\u001B[0m\n\u001B[0;32m     40\u001B[0m     \u001B[38;5;241m*\u001B[39m\u001B[38;5;241m*\u001B[39mkwargs,\n\u001B[0;32m     41\u001B[0m ):\n\u001B[1;32m---> 42\u001B[0m     \u001B[38;5;28;01mreturn\u001B[39;00m expect_and_grad(vstate, operator, use_covariance, \u001B[38;5;241m*\u001B[39margs, \u001B[38;5;241m*\u001B[39m\u001B[38;5;241m*\u001B[39mkwargs)\n",
      "File \u001B[1;32m~\\anaconda3\\lib\\site-packages\\plum\\function.py:393\u001B[0m, in \u001B[0;36mFunction.__call__\u001B[1;34m(self, *args, **kw_args)\u001B[0m\n\u001B[0;32m    391\u001B[0m \u001B[38;5;28;01mdef\u001B[39;00m \u001B[38;5;21m__call__\u001B[39m(\u001B[38;5;28mself\u001B[39m, \u001B[38;5;241m*\u001B[39margs, \u001B[38;5;241m*\u001B[39m\u001B[38;5;241m*\u001B[39mkw_args):\n\u001B[0;32m    392\u001B[0m     method, return_type \u001B[38;5;241m=\u001B[39m \u001B[38;5;28mself\u001B[39m\u001B[38;5;241m.\u001B[39m_resolve_method_with_cache(args\u001B[38;5;241m=\u001B[39margs)\n\u001B[1;32m--> 393\u001B[0m     \u001B[38;5;28;01mreturn\u001B[39;00m _convert(method(\u001B[38;5;241m*\u001B[39margs, \u001B[38;5;241m*\u001B[39m\u001B[38;5;241m*\u001B[39mkw_args), return_type)\n",
      "File \u001B[1;32m~\\anaconda3\\lib\\site-packages\\plum\\function.py:56\u001B[0m, in \u001B[0;36m_change_function_name.<locals>.f_renamed\u001B[1;34m(*args, **kw_args)\u001B[0m\n\u001B[0;32m     54\u001B[0m \u001B[38;5;129m@wraps\u001B[39m(f)\n\u001B[0;32m     55\u001B[0m \u001B[38;5;28;01mdef\u001B[39;00m \u001B[38;5;21mf_renamed\u001B[39m(\u001B[38;5;241m*\u001B[39margs, \u001B[38;5;241m*\u001B[39m\u001B[38;5;241m*\u001B[39mkw_args):\n\u001B[1;32m---> 56\u001B[0m     \u001B[38;5;28;01mreturn\u001B[39;00m f(\u001B[38;5;241m*\u001B[39margs, \u001B[38;5;241m*\u001B[39m\u001B[38;5;241m*\u001B[39mkw_args)\n",
      "File \u001B[1;32m~\\anaconda3\\lib\\site-packages\\netket\\vqs\\mc\\mc_state\\expect_grad.py:56\u001B[0m, in \u001B[0;36mexpect_and_grad_covariance\u001B[1;34m(vstate, Ô, use_covariance, mutable)\u001B[0m\n\u001B[0;32m     48\u001B[0m \u001B[38;5;129m@expect_and_grad\u001B[39m\u001B[38;5;241m.\u001B[39mdispatch\n\u001B[0;32m     49\u001B[0m \u001B[38;5;28;01mdef\u001B[39;00m \u001B[38;5;21mexpect_and_grad_covariance\u001B[39m(\n\u001B[0;32m     50\u001B[0m     vstate: MCState,\n\u001B[1;32m   (...)\u001B[0m\n\u001B[0;32m     54\u001B[0m     mutable: CollectionFilter,\n\u001B[0;32m     55\u001B[0m ) \u001B[38;5;241m-\u001B[39m\u001B[38;5;241m>\u001B[39m Tuple[Stats, PyTree]:\n\u001B[1;32m---> 56\u001B[0m     Ō, Ō_grad \u001B[38;5;241m=\u001B[39m \u001B[43mexpect_and_forces\u001B[49m\u001B[43m(\u001B[49m\u001B[43mvstate\u001B[49m\u001B[43m,\u001B[49m\u001B[43m \u001B[49m\u001B[43mÔ\u001B[49m\u001B[43m,\u001B[49m\u001B[43m \u001B[49m\u001B[43mmutable\u001B[49m\u001B[38;5;241;43m=\u001B[39;49m\u001B[43mmutable\u001B[49m\u001B[43m)\u001B[49m\n\u001B[0;32m     57\u001B[0m     Ō_grad \u001B[38;5;241m=\u001B[39m _force_to_grad(Ō_grad, vstate\u001B[38;5;241m.\u001B[39mparameters)\n\u001B[0;32m     58\u001B[0m     \u001B[38;5;28;01mreturn\u001B[39;00m Ō, Ō_grad\n",
      "File \u001B[1;32m~\\anaconda3\\lib\\site-packages\\plum\\function.py:393\u001B[0m, in \u001B[0;36mFunction.__call__\u001B[1;34m(self, *args, **kw_args)\u001B[0m\n\u001B[0;32m    391\u001B[0m \u001B[38;5;28;01mdef\u001B[39;00m \u001B[38;5;21m__call__\u001B[39m(\u001B[38;5;28mself\u001B[39m, \u001B[38;5;241m*\u001B[39margs, \u001B[38;5;241m*\u001B[39m\u001B[38;5;241m*\u001B[39mkw_args):\n\u001B[0;32m    392\u001B[0m     method, return_type \u001B[38;5;241m=\u001B[39m \u001B[38;5;28mself\u001B[39m\u001B[38;5;241m.\u001B[39m_resolve_method_with_cache(args\u001B[38;5;241m=\u001B[39margs)\n\u001B[1;32m--> 393\u001B[0m     \u001B[38;5;28;01mreturn\u001B[39;00m _convert(method(\u001B[38;5;241m*\u001B[39margs, \u001B[38;5;241m*\u001B[39m\u001B[38;5;241m*\u001B[39mkw_args), return_type)\n",
      "File \u001B[1;32m~\\anaconda3\\lib\\site-packages\\netket\\vqs\\mc\\mc_state\\expect_forces.py:47\u001B[0m, in \u001B[0;36mexpect_and_forces\u001B[1;34m(vstate, Ô, mutable)\u001B[0m\n\u001B[0;32m     40\u001B[0m \u001B[38;5;129m@dispatch\u001B[39m\n\u001B[0;32m     41\u001B[0m \u001B[38;5;28;01mdef\u001B[39;00m \u001B[38;5;21mexpect_and_forces\u001B[39m(  \u001B[38;5;66;03m# noqa: F811\u001B[39;00m\n\u001B[0;32m     42\u001B[0m     vstate: MCState,\n\u001B[1;32m   (...)\u001B[0m\n\u001B[0;32m     45\u001B[0m     mutable: CollectionFilter,\n\u001B[0;32m     46\u001B[0m ) \u001B[38;5;241m-\u001B[39m\u001B[38;5;241m>\u001B[39m Tuple[Stats, PyTree]:\n\u001B[1;32m---> 47\u001B[0m     σ, args \u001B[38;5;241m=\u001B[39m \u001B[43mget_local_kernel_arguments\u001B[49m\u001B[43m(\u001B[49m\u001B[43mvstate\u001B[49m\u001B[43m,\u001B[49m\u001B[43m \u001B[49m\u001B[43mÔ\u001B[49m)\n\u001B[0;32m     49\u001B[0m     local_estimator_fun \u001B[38;5;241m=\u001B[39m get_local_kernel(vstate, Ô)\n\u001B[0;32m     51\u001B[0m     Ō, Ō_grad, new_model_state \u001B[38;5;241m=\u001B[39m forces_expect_hermitian(\n\u001B[0;32m     52\u001B[0m         local_estimator_fun,\n\u001B[0;32m     53\u001B[0m         vstate\u001B[38;5;241m.\u001B[39m_apply_fun,\n\u001B[1;32m   (...)\u001B[0m\n\u001B[0;32m     58\u001B[0m         args,\n\u001B[0;32m     59\u001B[0m     )\n",
      "File \u001B[1;32m~\\anaconda3\\lib\\site-packages\\plum\\function.py:393\u001B[0m, in \u001B[0;36mFunction.__call__\u001B[1;34m(self, *args, **kw_args)\u001B[0m\n\u001B[0;32m    391\u001B[0m \u001B[38;5;28;01mdef\u001B[39;00m \u001B[38;5;21m__call__\u001B[39m(\u001B[38;5;28mself\u001B[39m, \u001B[38;5;241m*\u001B[39margs, \u001B[38;5;241m*\u001B[39m\u001B[38;5;241m*\u001B[39mkw_args):\n\u001B[0;32m    392\u001B[0m     method, return_type \u001B[38;5;241m=\u001B[39m \u001B[38;5;28mself\u001B[39m\u001B[38;5;241m.\u001B[39m_resolve_method_with_cache(args\u001B[38;5;241m=\u001B[39margs)\n\u001B[1;32m--> 393\u001B[0m     \u001B[38;5;28;01mreturn\u001B[39;00m _convert(method(\u001B[38;5;241m*\u001B[39margs, \u001B[38;5;241m*\u001B[39m\u001B[38;5;241m*\u001B[39mkw_args), return_type)\n",
      "File \u001B[1;32m~\\anaconda3\\lib\\site-packages\\netket\\vqs\\mc\\mc_state\\expect.py:61\u001B[0m, in \u001B[0;36mget_local_kernel_arguments\u001B[1;34m(vstate, Ô)\u001B[0m\n\u001B[0;32m     57\u001B[0m \u001B[38;5;129m@dispatch\u001B[39m\n\u001B[0;32m     58\u001B[0m \u001B[38;5;28;01mdef\u001B[39;00m \u001B[38;5;21mget_local_kernel_arguments\u001B[39m(vstate: MCState, Ô: DiscreteOperator):  \u001B[38;5;66;03m# noqa: F811\u001B[39;00m\n\u001B[0;32m     59\u001B[0m     check_hilbert(vstate\u001B[38;5;241m.\u001B[39mhilbert, Ô\u001B[38;5;241m.\u001B[39mhilbert)\n\u001B[1;32m---> 61\u001B[0m     σ \u001B[38;5;241m=\u001B[39m \u001B[43mvstate\u001B[49m\u001B[38;5;241;43m.\u001B[39;49m\u001B[43msamples\u001B[49m\n\u001B[0;32m     62\u001B[0m     σp, mels \u001B[38;5;241m=\u001B[39m Ô\u001B[38;5;241m.\u001B[39mget_conn_padded(σ)\n\u001B[0;32m     63\u001B[0m     \u001B[38;5;28;01mreturn\u001B[39;00m σ, (σp, mels)\n",
      "File \u001B[1;32m~\\anaconda3\\lib\\site-packages\\netket\\vqs\\mc\\mc_state\\state.py:513\u001B[0m, in \u001B[0;36mMCState.samples\u001B[1;34m(self)\u001B[0m\n\u001B[0;32m    502\u001B[0m \u001B[38;5;250m\u001B[39m\u001B[38;5;124;03m\"\"\"\u001B[39;00m\n\u001B[0;32m    503\u001B[0m \u001B[38;5;124;03mReturns the set of cached samples.\u001B[39;00m\n\u001B[0;32m    504\u001B[0m \n\u001B[1;32m   (...)\u001B[0m\n\u001B[0;32m    510\u001B[0m \u001B[38;5;124;03m:meth:`~MCState.reset` or :meth:`~MCState.sample`.\u001B[39;00m\n\u001B[0;32m    511\u001B[0m \u001B[38;5;124;03m\"\"\"\u001B[39;00m\n\u001B[0;32m    512\u001B[0m \u001B[38;5;28;01mif\u001B[39;00m \u001B[38;5;28mself\u001B[39m\u001B[38;5;241m.\u001B[39m_samples \u001B[38;5;129;01mis\u001B[39;00m \u001B[38;5;28;01mNone\u001B[39;00m:\n\u001B[1;32m--> 513\u001B[0m     \u001B[38;5;28;43mself\u001B[39;49m\u001B[38;5;241;43m.\u001B[39;49m\u001B[43msample\u001B[49m\u001B[43m(\u001B[49m\u001B[43m)\u001B[49m\n\u001B[0;32m    514\u001B[0m \u001B[38;5;28;01mreturn\u001B[39;00m \u001B[38;5;28mself\u001B[39m\u001B[38;5;241m.\u001B[39m_samples\n",
      "File \u001B[1;32m~\\anaconda3\\lib\\site-packages\\netket\\vqs\\mc\\mc_state\\state.py:485\u001B[0m, in \u001B[0;36mMCState.sample\u001B[1;34m(self, chain_length, n_samples, n_discard_per_chain)\u001B[0m\n\u001B[0;32m    480\u001B[0m \u001B[38;5;28mself\u001B[39m\u001B[38;5;241m.\u001B[39msampler_state \u001B[38;5;241m=\u001B[39m \u001B[38;5;28mself\u001B[39m\u001B[38;5;241m.\u001B[39msampler\u001B[38;5;241m.\u001B[39mreset(\n\u001B[0;32m    481\u001B[0m     \u001B[38;5;28mself\u001B[39m\u001B[38;5;241m.\u001B[39mmodel, \u001B[38;5;28mself\u001B[39m\u001B[38;5;241m.\u001B[39mvariables, \u001B[38;5;28mself\u001B[39m\u001B[38;5;241m.\u001B[39msampler_state\n\u001B[0;32m    482\u001B[0m )\n\u001B[0;32m    484\u001B[0m \u001B[38;5;28;01mif\u001B[39;00m \u001B[38;5;28mself\u001B[39m\u001B[38;5;241m.\u001B[39mn_discard_per_chain \u001B[38;5;241m>\u001B[39m \u001B[38;5;241m0\u001B[39m:\n\u001B[1;32m--> 485\u001B[0m     _, \u001B[38;5;28mself\u001B[39m\u001B[38;5;241m.\u001B[39msampler_state \u001B[38;5;241m=\u001B[39m \u001B[38;5;28;43mself\u001B[39;49m\u001B[38;5;241;43m.\u001B[39;49m\u001B[43msampler\u001B[49m\u001B[38;5;241;43m.\u001B[39;49m\u001B[43msample\u001B[49m\u001B[43m(\u001B[49m\n\u001B[0;32m    486\u001B[0m \u001B[43m        \u001B[49m\u001B[38;5;28;43mself\u001B[39;49m\u001B[38;5;241;43m.\u001B[39;49m\u001B[43mmodel\u001B[49m\u001B[43m,\u001B[49m\n\u001B[0;32m    487\u001B[0m \u001B[43m        \u001B[49m\u001B[38;5;28;43mself\u001B[39;49m\u001B[38;5;241;43m.\u001B[39;49m\u001B[43mvariables\u001B[49m\u001B[43m,\u001B[49m\n\u001B[0;32m    488\u001B[0m \u001B[43m        \u001B[49m\u001B[43mstate\u001B[49m\u001B[38;5;241;43m=\u001B[39;49m\u001B[38;5;28;43mself\u001B[39;49m\u001B[38;5;241;43m.\u001B[39;49m\u001B[43msampler_state\u001B[49m\u001B[43m,\u001B[49m\n\u001B[0;32m    489\u001B[0m \u001B[43m        \u001B[49m\u001B[43mchain_length\u001B[49m\u001B[38;5;241;43m=\u001B[39;49m\u001B[43mn_discard_per_chain\u001B[49m\u001B[43m,\u001B[49m\n\u001B[0;32m    490\u001B[0m \u001B[43m    \u001B[49m\u001B[43m)\u001B[49m\n\u001B[0;32m    492\u001B[0m \u001B[38;5;28mself\u001B[39m\u001B[38;5;241m.\u001B[39m_samples, \u001B[38;5;28mself\u001B[39m\u001B[38;5;241m.\u001B[39msampler_state \u001B[38;5;241m=\u001B[39m \u001B[38;5;28mself\u001B[39m\u001B[38;5;241m.\u001B[39msampler\u001B[38;5;241m.\u001B[39msample(\n\u001B[0;32m    493\u001B[0m     \u001B[38;5;28mself\u001B[39m\u001B[38;5;241m.\u001B[39mmodel,\n\u001B[0;32m    494\u001B[0m     \u001B[38;5;28mself\u001B[39m\u001B[38;5;241m.\u001B[39mvariables,\n\u001B[0;32m    495\u001B[0m     state\u001B[38;5;241m=\u001B[39m\u001B[38;5;28mself\u001B[39m\u001B[38;5;241m.\u001B[39msampler_state,\n\u001B[0;32m    496\u001B[0m     chain_length\u001B[38;5;241m=\u001B[39mchain_length,\n\u001B[0;32m    497\u001B[0m )\n\u001B[0;32m    498\u001B[0m \u001B[38;5;28;01mreturn\u001B[39;00m \u001B[38;5;28mself\u001B[39m\u001B[38;5;241m.\u001B[39m_samples\n",
      "File \u001B[1;32m~\\anaconda3\\lib\\site-packages\\netket\\sampler\\base.py:275\u001B[0m, in \u001B[0;36mSampler.sample\u001B[1;34m(sampler, machine, parameters, state, chain_length)\u001B[0m\n\u001B[0;32m    272\u001B[0m \u001B[38;5;28;01mif\u001B[39;00m state \u001B[38;5;129;01mis\u001B[39;00m \u001B[38;5;28;01mNone\u001B[39;00m:\n\u001B[0;32m    273\u001B[0m     state \u001B[38;5;241m=\u001B[39m sampler\u001B[38;5;241m.\u001B[39mreset(machine, parameters)\n\u001B[1;32m--> 275\u001B[0m \u001B[38;5;28;01mreturn\u001B[39;00m \u001B[43msampler\u001B[49m\u001B[38;5;241;43m.\u001B[39;49m\u001B[43m_sample_chain\u001B[49m\u001B[43m(\u001B[49m\n\u001B[0;32m    276\u001B[0m \u001B[43m    \u001B[49m\u001B[43mwrap_afun\u001B[49m\u001B[43m(\u001B[49m\u001B[43mmachine\u001B[49m\u001B[43m)\u001B[49m\u001B[43m,\u001B[49m\u001B[43m \u001B[49m\u001B[43mparameters\u001B[49m\u001B[43m,\u001B[49m\u001B[43m \u001B[49m\u001B[43mstate\u001B[49m\u001B[43m,\u001B[49m\u001B[43m \u001B[49m\u001B[43mchain_length\u001B[49m\n\u001B[0;32m    277\u001B[0m \u001B[43m\u001B[49m\u001B[43m)\u001B[49m\n",
      "File \u001B[1;32m~\\anaconda3\\lib\\site-packages\\netket\\utils\\struct\\dataclass.py:448\u001B[0m, in \u001B[0;36mdataclass.<locals>.clz_from_iterable\u001B[1;34m(meta, data)\u001B[0m\n\u001B[0;32m    445\u001B[0m     data \u001B[38;5;241m=\u001B[39m \u001B[38;5;28mtuple\u001B[39m(\u001B[38;5;28mgetattr\u001B[39m(x, name) \u001B[38;5;28;01mfor\u001B[39;00m name \u001B[38;5;129;01min\u001B[39;00m data_fields)\n\u001B[0;32m    446\u001B[0m     \u001B[38;5;28;01mreturn\u001B[39;00m data, meta\n\u001B[1;32m--> 448\u001B[0m \u001B[38;5;28;01mdef\u001B[39;00m \u001B[38;5;21mclz_from_iterable\u001B[39m(meta, data):\n\u001B[0;32m    449\u001B[0m     meta_args \u001B[38;5;241m=\u001B[39m \u001B[38;5;28mtuple\u001B[39m(\u001B[38;5;28mzip\u001B[39m(meta_fields, meta))\n\u001B[0;32m    450\u001B[0m     data_args \u001B[38;5;241m=\u001B[39m \u001B[38;5;28mtuple\u001B[39m(\u001B[38;5;28mzip\u001B[39m(data_fields, data))\n",
      "\u001B[1;31mKeyboardInterrupt\u001B[0m: "
     ]
    }
   ],
   "source": [
    "import time\n",
    "ma = nk.models.RBMModPhase(alpha=16)\n",
    "sa = nk.sampler.MetropolisLocal(hilbert=hi)\n",
    "\n",
    "# Optimizer\n",
    "op = nk.optimizer.Adam(learning_rate=0.001)\n",
    "# Stochastic Reconfiguration\n",
    "sr = nk.optimizer.SR(diag_shift=0.1)\n",
    "\n",
    "# The variational state\n",
    "vs = nk.vqs.MCState(sa, ma, n_samples=256)\n",
    "\n",
    "# The ground-state optimization loop\n",
    "gs = nk.VMC(\n",
    "    hamiltonian=HX,\n",
    "    optimizer=op,\n",
    "    preconditioner=None,\n",
    "    variational_state=vs)\n",
    "\n",
    "start = time.time()\n",
    "gs.run(out='RBMModPhase', n_iter=25000)\n",
    "end = time.time()\n",
    "\n",
    "print('### RBM calculation')\n",
    "print('Has',vs.n_parameters,'parameters')\n",
    "print('The RBM calculation took',end-start,'seconds')"
   ],
   "metadata": {
    "collapsed": false,
    "ExecuteTime": {
     "end_time": "2023-08-29T00:05:49.261452200Z",
     "start_time": "2023-08-29T00:00:35.028286900Z"
    }
   }
  },
  {
   "cell_type": "code",
   "execution_count": 34,
   "outputs": [],
   "source": [
    "import netket.nn as nknn\n",
    "import flax.linen as nn\n",
    "import jax.numpy as jnp\n",
    "import numpy as np\n",
    "\n",
    "class FFNN(nn.Module):\n",
    "    @nn.compact\n",
    "    def __call__(self, x):\n",
    "        x = nn.Dense(features=5*x.shape[-1],\n",
    "                     use_bias=True,\n",
    "                     param_dtype=np.complex128,\n",
    "                     kernel_init=nn.initializers.normal(stddev=0.01),\n",
    "                     bias_init=nn.initializers.normal(stddev=0.01)\n",
    "                    )(x)\n",
    "        x = nknn.log_cosh(x)\n",
    "        x = jnp.sum(x, axis=-1)\n",
    "        return x\n",
    "\n",
    "model = FFNN()\n",
    "# We shall use an exchange Sampler which preserves the global magnetization (as this is a conserved quantity in the model)\n",
    "sa = nk.sampler.MetropolisHamiltonian(hilbert=hi, hamiltonian=H)\n",
    "\n",
    "# Construct the variational state\n",
    "vs = nk.vqs.MCState(sa, model, n_samples=1024)\n",
    "\n",
    "# We choose a basic, albeit important, Optimizer: the Stochastic Gradient Descent\n",
    "opt = nk.optimizer.Adam(learning_rate=0.0005)\n",
    "\n",
    "# Stochastic Reconfiguration\n",
    "sr = nk.optimizer.SR(diag_shift=0.01)\n",
    "\n",
    "# We can then specify a Variational Monte Carlo object, using the Hamiltonian, sampler and optimizers chosen.\n",
    "# Note that we also specify the method to learn the parameters of the wave-function: here we choose the efficient\n",
    "# Stochastic reconfiguration (Sr), here in an iterative setup\n",
    "gs = nk.VMC(hamiltonian=HX, optimizer=opt, variational_state=vs, preconditioner=None)"
   ],
   "metadata": {
    "collapsed": false,
    "ExecuteTime": {
     "end_time": "2023-08-28T10:20:50.235799Z",
     "start_time": "2023-08-28T10:20:47.850859600Z"
    }
   }
  },
  {
   "cell_type": "code",
   "execution_count": 35,
   "outputs": [
    {
     "name": "stderr",
     "output_type": "stream",
     "text": [
      "  0%|          | 0/1000 [00:00<?, ?it/s]C:\\Users\\Administrator\\anaconda3\\lib\\site-packages\\plum\\parametric.py:198: UserWarning: `plum.Val` is deprecated and will be removed in a future version. Please use `typing.Literal` instead.\n",
      "  return original_meta.__call__(cls, *args, **kw_args)\n",
      "  0%|          | 0/1000 [00:08<?, ?it/s, Energy=0.33+0.00j ± 0.14 [σ²=20.70, R̂=1.0091]]C:\\Users\\Administrator\\anaconda3\\lib\\site-packages\\plum\\parametric.py:198: UserWarning: `plum.Val` is deprecated and will be removed in a future version. Please use `typing.Literal` instead.\n",
      "  return original_meta.__call__(cls, *args, **kw_args)\n",
      "100%|██████████| 1000/1000 [31:12<00:00,  1.87s/it, Energy=-10.31-0.01j ± 0.17 [σ²=31.30, R̂=1.0044]]      \n"
     ]
    },
    {
     "data": {
      "text/plain": "(JsonLog('test', mode=write, autoflush_cost=0.005)\n   Runtime cost:\n   \tLog:    1.9114036560058594\n   \tParams: 0.03217053413391113,)"
     },
     "execution_count": 35,
     "metadata": {},
     "output_type": "execute_result"
    }
   ],
   "source": [
    "gs.run(out=\"test\", n_iter=1000)"
   ],
   "metadata": {
    "collapsed": false,
    "ExecuteTime": {
     "end_time": "2023-08-28T10:52:11.261798900Z",
     "start_time": "2023-08-28T10:20:50.243142800Z"
    }
   }
  },
  {
   "cell_type": "code",
   "execution_count": null,
   "outputs": [],
   "source": [],
   "metadata": {
    "collapsed": false
   }
  }
 ],
 "metadata": {
  "kernelspec": {
   "display_name": "Python 3",
   "language": "python",
   "name": "python3"
  },
  "language_info": {
   "codemirror_mode": {
    "name": "ipython",
    "version": 2
   },
   "file_extension": ".py",
   "mimetype": "text/x-python",
   "name": "python",
   "nbconvert_exporter": "python",
   "pygments_lexer": "ipython2",
   "version": "2.7.6"
  }
 },
 "nbformat": 4,
 "nbformat_minor": 0
}
