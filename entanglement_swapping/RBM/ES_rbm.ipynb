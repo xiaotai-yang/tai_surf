{
 "cells": [
  {
   "cell_type": "code",
   "execution_count": 1,
   "metadata": {
    "ExecuteTime": {
     "end_time": "2023-08-28T16:47:32.725215200Z",
     "start_time": "2023-08-28T16:47:32.702870200Z"
    },
    "collapsed": true
   },
   "outputs": [],
   "source": [
    "import os\n",
    "os.environ[\"JAX_PLATFORM_NAME\"] = \"cpu\""
   ]
  },
  {
   "cell_type": "code",
   "execution_count": 1,
   "metadata": {
    "ExecuteTime": {
     "end_time": "2023-11-17T05:27:52.384158800Z",
     "start_time": "2023-11-17T05:27:35.762134400Z"
    }
   },
   "outputs": [
    {
     "name": "stdout",
     "output_type": "stream",
     "text": [
      "[-20.]\n"
     ]
    }
   ],
   "source": [
    "import netket as nk\n",
    "from netket.operator.spin import sigmax,sigmaz\n",
    "import jax\n",
    "\n",
    "N = 20\n",
    "hi = nk.hilbert.Spin(s=1 / 2, N =  N)\n",
    "\n",
    "H = -1*sigmaz(hi,0)*sigmax(hi, 1)\n",
    "H += -1*sigmax(hi,N-3)*sigmaz(hi, N-2)*sigmaz(hi, N-1)\n",
    "H += -1*sigmax(hi,N-2)*sigmax(hi, N-1)\n",
    "H += sum([-1*sigmax(hi,i)*sigmaz(hi,(i+1))*sigmax(hi,i+2) for i in range(N-3)])\n",
    "evals = nk.exact.lanczos_ed(H,  compute_eigenvectors=True)\n",
    "print(evals[0])"
   ]
  },
  {
   "cell_type": "code",
   "execution_count": 2,
   "outputs": [
    {
     "name": "stdout",
     "output_type": "stream",
     "text": [
      "float64\n"
     ]
    }
   ],
   "source": [
    "print(evals[0].dtype)"
   ],
   "metadata": {
    "collapsed": false,
    "ExecuteTime": {
     "end_time": "2023-11-17T05:27:53.682309800Z",
     "start_time": "2023-11-17T05:27:53.676031800Z"
    }
   }
  },
  {
   "cell_type": "code",
   "execution_count": 16,
   "metadata": {
    "ExecuteTime": {
     "end_time": "2023-11-17T05:52:45.845650200Z",
     "start_time": "2023-11-17T05:52:12.747978500Z"
    }
   },
   "outputs": [
    {
     "name": "stdout",
     "output_type": "stream",
     "text": [
      "33.0774130821228\n",
      "The exact ground-state energy is E0= [-42.680016]\n"
     ]
    }
   ],
   "source": [
    "import netket as nk\n",
    "from netket.operator.spin import sigmax,sigmaz\n",
    "import jax\n",
    "import time\n",
    "jax.config.update(\"jax_enable_x64\", False)\n",
    "L = 24\n",
    "g = nk.graph.Hypercube(length=L, n_dim=1, pbc=True)\n",
    "hi = nk.hilbert.Spin(s=0.5, total_sz=0, N=g.n_nodes)\n",
    "ha = nk.operator.Heisenberg(hilbert=hi, graph=g)\n",
    "# compute the ground-state energy (here we only need the lowest energy, and do not need the eigenstate)\n",
    "t = time.time()\n",
    "evals = nk.exact.lanczos_ed(ha, compute_eigenvectors=True)\n",
    "print(time.time()-t)\n",
    "exact_gs_energy = evals[0]\n",
    "print('The exact ground-state energy is E0=',exact_gs_energy)"
   ]
  },
  {
   "cell_type": "code",
   "execution_count": 7,
   "metadata": {
    "ExecuteTime": {
     "end_time": "2024-01-11T16:21:35.838139600Z",
     "start_time": "2024-01-11T16:21:35.797193500Z"
    }
   },
   "outputs": [],
   "source": [
    "import netket as nk\n",
    "from netket.operator.spin import sigmax,sigmaz\n",
    "import jax\n",
    "jax.config.update(\"jax_enable_x64\", False)\n",
    "N = 24\n",
    "hi = nk.hilbert.Spin(s=1 / 2, N =  N)\n",
    "\n",
    "H = -1*sigmaz(hi,0)*sigmax(hi, 1)\n",
    "H += -1*sigmax(hi,N-3)*sigmaz(hi, N-2)*sigmaz(hi, N-1)\n",
    "H += -1*sigmax(hi,N-2)*sigmax(hi, N-1)\n",
    "H += sum([-1*sigmax(hi,i)*sigmaz(hi,(i+1))*sigmax(hi,i+2) for i in range(N-3)])\n"
   ]
  },
  {
   "cell_type": "code",
   "execution_count": 28,
   "metadata": {
    "ExecuteTime": {
     "end_time": "2023-08-28T23:46:17.916548900Z",
     "start_time": "2023-08-28T23:46:17.865730200Z"
    }
   },
   "outputs": [],
   "source": [
    "HX = -1 * sigmax(hi, 0) * sigmaz(hi, 1)\n",
    "HX += -1 * sigmaz(hi, N - 3) * sigmax(hi, N - 2) * sigmax(hi, N - 1)\n",
    "HX += -1 * sigmaz(hi, N - 2) * sigmaz(hi, N - 1)\n",
    "HX += sum([-1 * sigmaz(hi, i) * sigmax(hi, (i + 1)) * sigmaz(hi, i + 2) for i in range(N - 3)])\n"
   ]
  },
  {
   "cell_type": "code",
   "execution_count": 17,
   "metadata": {
    "ExecuteTime": {
     "end_time": "2023-11-16T03:48:37.910781400Z",
     "start_time": "2023-11-16T03:48:23.791478700Z"
    }
   },
   "outputs": [
    {
     "ename": "MemoryError",
     "evalue": "Allocation failed (probably too large).",
     "output_type": "error",
     "traceback": [
      "\u001B[1;31m---------------------------------------------------------------------------\u001B[0m",
      "\u001B[1;31mMemoryError\u001B[0m                               Traceback (most recent call last)",
      "Cell \u001B[1;32mIn[17], line 1\u001B[0m\n\u001B[1;32m----> 1\u001B[0m evals \u001B[38;5;241m=\u001B[39m \u001B[43mnk\u001B[49m\u001B[38;5;241;43m.\u001B[39;49m\u001B[43mexact\u001B[49m\u001B[38;5;241;43m.\u001B[39;49m\u001B[43mlanczos_ed\u001B[49m\u001B[43m(\u001B[49m\u001B[43mH\u001B[49m\u001B[43m,\u001B[49m\u001B[43m  \u001B[49m\u001B[43mcompute_eigenvectors\u001B[49m\u001B[38;5;241;43m=\u001B[39;49m\u001B[38;5;28;43;01mTrue\u001B[39;49;00m\u001B[43m)\u001B[49m\n",
      "File \u001B[1;32m~\\anaconda3\\lib\\site-packages\\netket\\exact.py:84\u001B[0m, in \u001B[0;36mlanczos_ed\u001B[1;34m(operator, k, compute_eigenvectors, matrix_free, scipy_args)\u001B[0m\n\u001B[0;32m     78\u001B[0m     A \u001B[38;5;241m=\u001B[39m _LinearOperator(\n\u001B[0;32m     79\u001B[0m         (n, n),\n\u001B[0;32m     80\u001B[0m         operator\u001B[38;5;241m.\u001B[39mto_linear_operator()\u001B[38;5;241m.\u001B[39m\u001B[38;5;21m__matmul__\u001B[39m,\n\u001B[0;32m     81\u001B[0m         dtype\u001B[38;5;241m=\u001B[39moperator\u001B[38;5;241m.\u001B[39mdtype,\n\u001B[0;32m     82\u001B[0m     )\n\u001B[0;32m     83\u001B[0m \u001B[38;5;28;01melse\u001B[39;00m:\n\u001B[1;32m---> 84\u001B[0m     A \u001B[38;5;241m=\u001B[39m \u001B[43moperator\u001B[49m\u001B[38;5;241;43m.\u001B[39;49m\u001B[43mto_sparse\u001B[49m\u001B[43m(\u001B[49m\u001B[43m)\u001B[49m\n\u001B[0;32m     85\u001B[0m     \u001B[38;5;28;01mif\u001B[39;00m \u001B[38;5;28misinstance\u001B[39m(A, _JAXSparse):\n\u001B[0;32m     86\u001B[0m         \u001B[38;5;66;03m# jax sparse arrays are not compatible with scipy eigsh.\u001B[39;00m\n\u001B[0;32m     87\u001B[0m         \u001B[38;5;66;03m# wrap them in a scipy.sparse.linalg.LinearOperator\u001B[39;00m\n\u001B[0;32m     88\u001B[0m         A \u001B[38;5;241m=\u001B[39m _LinearOperator(A\u001B[38;5;241m.\u001B[39mshape, A\u001B[38;5;241m.\u001B[39m\u001B[38;5;21m__matmul__\u001B[39m, dtype\u001B[38;5;241m=\u001B[39mA\u001B[38;5;241m.\u001B[39mdtype)\n",
      "File \u001B[1;32m~\\anaconda3\\lib\\site-packages\\netket\\operator\\_discrete_operator.py:203\u001B[0m, in \u001B[0;36mDiscreteOperator.to_sparse\u001B[1;34m(self)\u001B[0m\n\u001B[0;32m    200\u001B[0m x \u001B[38;5;241m=\u001B[39m hilb\u001B[38;5;241m.\u001B[39mall_states()\n\u001B[0;32m    202\u001B[0m sections \u001B[38;5;241m=\u001B[39m np\u001B[38;5;241m.\u001B[39mempty(x\u001B[38;5;241m.\u001B[39mshape[\u001B[38;5;241m0\u001B[39m], dtype\u001B[38;5;241m=\u001B[39mnp\u001B[38;5;241m.\u001B[39mint32)\n\u001B[1;32m--> 203\u001B[0m x_prime, mels \u001B[38;5;241m=\u001B[39m \u001B[43mconcrete_op\u001B[49m\u001B[38;5;241;43m.\u001B[39;49m\u001B[43mget_conn_flattened\u001B[49m\u001B[43m(\u001B[49m\u001B[43mx\u001B[49m\u001B[43m,\u001B[49m\u001B[43m \u001B[49m\u001B[43msections\u001B[49m\u001B[43m)\u001B[49m\n\u001B[0;32m    205\u001B[0m numbers \u001B[38;5;241m=\u001B[39m hilb\u001B[38;5;241m.\u001B[39mstates_to_numbers(x_prime)\n\u001B[0;32m    207\u001B[0m sections1 \u001B[38;5;241m=\u001B[39m np\u001B[38;5;241m.\u001B[39mempty(sections\u001B[38;5;241m.\u001B[39msize \u001B[38;5;241m+\u001B[39m \u001B[38;5;241m1\u001B[39m, dtype\u001B[38;5;241m=\u001B[39mnp\u001B[38;5;241m.\u001B[39mint32)\n",
      "File \u001B[1;32m~\\anaconda3\\lib\\site-packages\\netket\\operator\\_local_operator\\base.py:475\u001B[0m, in \u001B[0;36mLocalOperator.get_conn_flattened\u001B[1;34m(self, x, sections, pad)\u001B[0m\n\u001B[0;32m    466\u001B[0m \u001B[38;5;28mself\u001B[39m\u001B[38;5;241m.\u001B[39m_setup()\n\u001B[0;32m    468\u001B[0m x \u001B[38;5;241m=\u001B[39m concrete_or_error(\n\u001B[0;32m    469\u001B[0m     np\u001B[38;5;241m.\u001B[39masarray,\n\u001B[0;32m    470\u001B[0m     x,\n\u001B[0;32m    471\u001B[0m     NumbaOperatorGetConnDuringTracingError,\n\u001B[0;32m    472\u001B[0m     \u001B[38;5;28mself\u001B[39m,\n\u001B[0;32m    473\u001B[0m )\n\u001B[1;32m--> 475\u001B[0m \u001B[38;5;28;01mreturn\u001B[39;00m \u001B[38;5;28;43mself\u001B[39;49m\u001B[38;5;241;43m.\u001B[39;49m\u001B[43m_get_conn_flattened_kernel\u001B[49m\u001B[43m(\u001B[49m\n\u001B[0;32m    476\u001B[0m \u001B[43m    \u001B[49m\u001B[43mx\u001B[49m\u001B[43m,\u001B[49m\n\u001B[0;32m    477\u001B[0m \u001B[43m    \u001B[49m\u001B[43msections\u001B[49m\u001B[43m,\u001B[49m\n\u001B[0;32m    478\u001B[0m \u001B[43m    \u001B[49m\u001B[38;5;28;43mself\u001B[39;49m\u001B[38;5;241;43m.\u001B[39;49m\u001B[43m_local_states\u001B[49m\u001B[43m,\u001B[49m\n\u001B[0;32m    479\u001B[0m \u001B[43m    \u001B[49m\u001B[38;5;28;43mself\u001B[39;49m\u001B[38;5;241;43m.\u001B[39;49m\u001B[43m_basis\u001B[49m\u001B[43m,\u001B[49m\n\u001B[0;32m    480\u001B[0m \u001B[43m    \u001B[49m\u001B[38;5;28;43mself\u001B[39;49m\u001B[38;5;241;43m.\u001B[39;49m\u001B[43m_constant\u001B[49m\u001B[43m,\u001B[49m\n\u001B[0;32m    481\u001B[0m \u001B[43m    \u001B[49m\u001B[38;5;28;43mself\u001B[39;49m\u001B[38;5;241;43m.\u001B[39;49m\u001B[43m_diag_mels\u001B[49m\u001B[43m,\u001B[49m\n\u001B[0;32m    482\u001B[0m \u001B[43m    \u001B[49m\u001B[38;5;28;43mself\u001B[39;49m\u001B[38;5;241;43m.\u001B[39;49m\u001B[43m_n_conns\u001B[49m\u001B[43m,\u001B[49m\n\u001B[0;32m    483\u001B[0m \u001B[43m    \u001B[49m\u001B[38;5;28;43mself\u001B[39;49m\u001B[38;5;241;43m.\u001B[39;49m\u001B[43m_mels\u001B[49m\u001B[43m,\u001B[49m\n\u001B[0;32m    484\u001B[0m \u001B[43m    \u001B[49m\u001B[38;5;28;43mself\u001B[39;49m\u001B[38;5;241;43m.\u001B[39;49m\u001B[43m_x_prime\u001B[49m\u001B[43m,\u001B[49m\n\u001B[0;32m    485\u001B[0m \u001B[43m    \u001B[49m\u001B[38;5;28;43mself\u001B[39;49m\u001B[38;5;241;43m.\u001B[39;49m\u001B[43m_acting_on\u001B[49m\u001B[43m,\u001B[49m\n\u001B[0;32m    486\u001B[0m \u001B[43m    \u001B[49m\u001B[38;5;28;43mself\u001B[39;49m\u001B[38;5;241;43m.\u001B[39;49m\u001B[43m_acting_size\u001B[49m\u001B[43m,\u001B[49m\n\u001B[0;32m    487\u001B[0m \u001B[43m    \u001B[49m\u001B[38;5;28;43mself\u001B[39;49m\u001B[38;5;241;43m.\u001B[39;49m\u001B[43m_nonzero_diagonal\u001B[49m\u001B[43m,\u001B[49m\n\u001B[0;32m    488\u001B[0m \u001B[43m    \u001B[49m\u001B[43mpad\u001B[49m\u001B[43m,\u001B[49m\n\u001B[0;32m    489\u001B[0m \u001B[43m\u001B[49m\u001B[43m)\u001B[49m\n",
      "\u001B[1;31mMemoryError\u001B[0m: Allocation failed (probably too large)."
     ]
    }
   ],
   "source": [
    "evals = nk.exact.lanczos_ed(H,  compute_eigenvectors=True)"
   ]
  },
  {
   "cell_type": "code",
   "execution_count": 18,
   "metadata": {
    "ExecuteTime": {
     "end_time": "2023-11-16T03:50:18.279588Z",
     "start_time": "2023-11-16T03:50:18.263572300Z"
    }
   },
   "outputs": [
    {
     "data": {
      "text/plain": "dtype('float64')"
     },
     "execution_count": 18,
     "metadata": {},
     "output_type": "execute_result"
    }
   ],
   "source": [
    "import numpy as np\n",
    "evals[1].dtype"
   ]
  },
  {
   "cell_type": "code",
   "execution_count": 9,
   "metadata": {
    "ExecuteTime": {
     "end_time": "2023-11-12T13:26:33.096093900Z",
     "start_time": "2023-11-12T13:26:33.058097600Z"
    }
   },
   "outputs": [
    {
     "name": "stdout",
     "output_type": "stream",
     "text": [
      "PermutationGroup(elems=[Id()], degree=16)\n"
     ]
    }
   ],
   "source": [
    "graph=nk.graph.Chain(length=N, pbc=False)\n",
    "g = nk.graph.Hypercube(length=N, n_dim=1, pbc=False)\n",
    "print(graph.translation_group())"
   ]
  },
  {
   "cell_type": "code",
   "execution_count": 8,
   "metadata": {
    "ExecuteTime": {
     "end_time": "2024-01-11T16:22:27.656403700Z",
     "start_time": "2024-01-11T16:21:42.596692600Z"
    }
   },
   "outputs": [
    {
     "name": "stderr",
     "output_type": "stream",
     "text": [
      "  2%|▏         | 523/25000 [00:39<30:47, 13.25it/s, Energy=-14.655 ± 0.052 [σ²=4.595, R̂=1.0065]] \n"
     ]
    },
    {
     "ename": "KeyboardInterrupt",
     "evalue": "",
     "output_type": "error",
     "traceback": [
      "\u001B[1;31m---------------------------------------------------------------------------\u001B[0m",
      "\u001B[1;31mKeyboardInterrupt\u001B[0m                         Traceback (most recent call last)",
      "Cell \u001B[1;32mIn[8], line 21\u001B[0m\n\u001B[0;32m     14\u001B[0m gs \u001B[38;5;241m=\u001B[39m nk\u001B[38;5;241m.\u001B[39mVMC(\n\u001B[0;32m     15\u001B[0m     hamiltonian\u001B[38;5;241m=\u001B[39mH,\n\u001B[0;32m     16\u001B[0m     optimizer\u001B[38;5;241m=\u001B[39mop,\n\u001B[0;32m     17\u001B[0m     preconditioner\u001B[38;5;241m=\u001B[39msr,\n\u001B[0;32m     18\u001B[0m     variational_state\u001B[38;5;241m=\u001B[39mvs)\n\u001B[0;32m     20\u001B[0m start \u001B[38;5;241m=\u001B[39m time\u001B[38;5;241m.\u001B[39mtime()\n\u001B[1;32m---> 21\u001B[0m \u001B[43mgs\u001B[49m\u001B[38;5;241;43m.\u001B[39;49m\u001B[43mrun\u001B[49m\u001B[43m(\u001B[49m\u001B[43mout\u001B[49m\u001B[38;5;241;43m=\u001B[39;49m\u001B[38;5;124;43m'\u001B[39;49m\u001B[38;5;124;43mRBM\u001B[39;49m\u001B[38;5;124;43m'\u001B[39;49m\u001B[43m,\u001B[49m\u001B[43m \u001B[49m\u001B[43mn_iter\u001B[49m\u001B[38;5;241;43m=\u001B[39;49m\u001B[38;5;241;43m25000\u001B[39;49m\u001B[43m)\u001B[49m\n\u001B[0;32m     22\u001B[0m end \u001B[38;5;241m=\u001B[39m time\u001B[38;5;241m.\u001B[39mtime()\n\u001B[0;32m     24\u001B[0m \u001B[38;5;28mprint\u001B[39m(\u001B[38;5;124m'\u001B[39m\u001B[38;5;124m### RBM calculation\u001B[39m\u001B[38;5;124m'\u001B[39m)\n",
      "File \u001B[1;32m~\\anaconda3\\lib\\site-packages\\netket\\driver\\abstract_variational_driver.py:259\u001B[0m, in \u001B[0;36mAbstractVariationalDriver.run\u001B[1;34m(self, n_iter, out, obs, show_progress, save_params_every, write_every, step_size, callback)\u001B[0m\n\u001B[0;32m    256\u001B[0m old_step \u001B[38;5;241m=\u001B[39m \u001B[38;5;28mself\u001B[39m\u001B[38;5;241m.\u001B[39mstep_count\n\u001B[0;32m    257\u001B[0m first_step \u001B[38;5;241m=\u001B[39m \u001B[38;5;28;01mTrue\u001B[39;00m\n\u001B[1;32m--> 259\u001B[0m \u001B[38;5;28;01mfor\u001B[39;00m step \u001B[38;5;129;01min\u001B[39;00m \u001B[38;5;28mself\u001B[39m\u001B[38;5;241m.\u001B[39miter(n_iter, step_size):\n\u001B[0;32m    260\u001B[0m     log_data \u001B[38;5;241m=\u001B[39m \u001B[38;5;28mself\u001B[39m\u001B[38;5;241m.\u001B[39mestimate(obs)\n\u001B[0;32m    261\u001B[0m     \u001B[38;5;28mself\u001B[39m\u001B[38;5;241m.\u001B[39m_log_additional_data(log_data, step)\n",
      "File \u001B[1;32m~\\anaconda3\\lib\\site-packages\\netket\\driver\\abstract_variational_driver.py:169\u001B[0m, in \u001B[0;36mAbstractVariationalDriver.iter\u001B[1;34m(self, n_steps, step)\u001B[0m\n\u001B[0;32m    167\u001B[0m \u001B[38;5;28;01mfor\u001B[39;00m _ \u001B[38;5;129;01min\u001B[39;00m \u001B[38;5;28mrange\u001B[39m(\u001B[38;5;241m0\u001B[39m, n_steps, step):\n\u001B[0;32m    168\u001B[0m     \u001B[38;5;28;01mfor\u001B[39;00m i \u001B[38;5;129;01min\u001B[39;00m \u001B[38;5;28mrange\u001B[39m(\u001B[38;5;241m0\u001B[39m, step):\n\u001B[1;32m--> 169\u001B[0m         dp \u001B[38;5;241m=\u001B[39m \u001B[38;5;28;43mself\u001B[39;49m\u001B[38;5;241;43m.\u001B[39;49m\u001B[43m_forward_and_backward\u001B[49m\u001B[43m(\u001B[49m\u001B[43m)\u001B[49m\n\u001B[0;32m    170\u001B[0m         \u001B[38;5;28;01mif\u001B[39;00m i \u001B[38;5;241m==\u001B[39m \u001B[38;5;241m0\u001B[39m:\n\u001B[0;32m    171\u001B[0m             \u001B[38;5;28;01myield\u001B[39;00m \u001B[38;5;28mself\u001B[39m\u001B[38;5;241m.\u001B[39mstep_count\n",
      "File \u001B[1;32m~\\anaconda3\\lib\\site-packages\\netket\\driver\\vmc.py:132\u001B[0m, in \u001B[0;36mVMC._forward_and_backward\u001B[1;34m(self)\u001B[0m\n\u001B[0;32m    129\u001B[0m \u001B[38;5;28mself\u001B[39m\u001B[38;5;241m.\u001B[39mstate\u001B[38;5;241m.\u001B[39mreset()\n\u001B[0;32m    131\u001B[0m \u001B[38;5;66;03m# Compute the local energy estimator and average Energy\u001B[39;00m\n\u001B[1;32m--> 132\u001B[0m \u001B[38;5;28mself\u001B[39m\u001B[38;5;241m.\u001B[39m_loss_stats, \u001B[38;5;28mself\u001B[39m\u001B[38;5;241m.\u001B[39m_loss_grad \u001B[38;5;241m=\u001B[39m \u001B[38;5;28;43mself\u001B[39;49m\u001B[38;5;241;43m.\u001B[39;49m\u001B[43mstate\u001B[49m\u001B[38;5;241;43m.\u001B[39;49m\u001B[43mexpect_and_grad\u001B[49m\u001B[43m(\u001B[49m\u001B[38;5;28;43mself\u001B[39;49m\u001B[38;5;241;43m.\u001B[39;49m\u001B[43m_ham\u001B[49m\u001B[43m)\u001B[49m\n\u001B[0;32m    134\u001B[0m \u001B[38;5;66;03m# if it's the identity it does\u001B[39;00m\n\u001B[0;32m    135\u001B[0m \u001B[38;5;66;03m# self._dp = self._loss_grad\u001B[39;00m\n\u001B[0;32m    136\u001B[0m \u001B[38;5;28mself\u001B[39m\u001B[38;5;241m.\u001B[39m_dp \u001B[38;5;241m=\u001B[39m \u001B[38;5;28mself\u001B[39m\u001B[38;5;241m.\u001B[39mpreconditioner(\u001B[38;5;28mself\u001B[39m\u001B[38;5;241m.\u001B[39mstate, \u001B[38;5;28mself\u001B[39m\u001B[38;5;241m.\u001B[39m_loss_grad, \u001B[38;5;28mself\u001B[39m\u001B[38;5;241m.\u001B[39mstep_count)\n",
      "File \u001B[1;32m~\\anaconda3\\lib\\site-packages\\netket\\vqs\\mc\\mc_state\\state.py:619\u001B[0m, in \u001B[0;36mMCState.expect_and_grad\u001B[1;34m(self, O, mutable, **kwargs)\u001B[0m\n\u001B[0;32m    616\u001B[0m \u001B[38;5;28;01mif\u001B[39;00m mutable \u001B[38;5;129;01mis\u001B[39;00m \u001B[38;5;28;01mNone\u001B[39;00m:\n\u001B[0;32m    617\u001B[0m     mutable \u001B[38;5;241m=\u001B[39m \u001B[38;5;28mself\u001B[39m\u001B[38;5;241m.\u001B[39mmutable\n\u001B[1;32m--> 619\u001B[0m \u001B[38;5;28;01mreturn\u001B[39;00m expect_and_grad(\n\u001B[0;32m    620\u001B[0m     \u001B[38;5;28mself\u001B[39m,\n\u001B[0;32m    621\u001B[0m     O,\n\u001B[0;32m    622\u001B[0m     \u001B[38;5;28mself\u001B[39m\u001B[38;5;241m.\u001B[39mchunk_size,\n\u001B[0;32m    623\u001B[0m     mutable\u001B[38;5;241m=\u001B[39mmutable,\n\u001B[0;32m    624\u001B[0m     \u001B[38;5;241m*\u001B[39m\u001B[38;5;241m*\u001B[39mkwargs,\n\u001B[0;32m    625\u001B[0m )\n",
      "    \u001B[1;31m[... skipping hidden 1 frame]\u001B[0m\n",
      "File \u001B[1;32m~\\anaconda3\\lib\\site-packages\\netket\\vqs\\mc\\mc_state\\expect_grad.py:58\u001B[0m, in \u001B[0;36mexpect_and_grad_default_formula\u001B[1;34m(vstate, Ô, chunk_size, mutable, use_covariance, *args)\u001B[0m\n\u001B[0;32m     51\u001B[0m     use_covariance \u001B[38;5;241m=\u001B[39m Ô\u001B[38;5;241m.\u001B[39mis_hermitian\n\u001B[0;32m     53\u001B[0m \u001B[38;5;28;01mif\u001B[39;00m use_covariance:\n\u001B[0;32m     54\u001B[0m     \u001B[38;5;66;03m# Implementation of expect_and_grad for `use_covariance == True` (due to the Literal[True]\u001B[39;00m\n\u001B[0;32m     55\u001B[0m     \u001B[38;5;66;03m# type in the signature).` This case is equivalent to the composition of the\u001B[39;00m\n\u001B[0;32m     56\u001B[0m     \u001B[38;5;66;03m# `expect_and_forces` and `force_to_grad` functions.\u001B[39;00m\n\u001B[0;32m     57\u001B[0m     \u001B[38;5;66;03m# return expect_and_grad_from_covariance(vstate, Ô, *args, mutable=mutable)\u001B[39;00m\n\u001B[1;32m---> 58\u001B[0m     Ō, Ō_grad \u001B[38;5;241m=\u001B[39m \u001B[43mexpect_and_forces\u001B[49m\u001B[43m(\u001B[49m\u001B[43mvstate\u001B[49m\u001B[43m,\u001B[49m\u001B[43m \u001B[49m\u001B[43mÔ\u001B[49m\u001B[43m,\u001B[49m\u001B[43m \u001B[49m\u001B[43mchunk_size\u001B[49m\u001B[43m,\u001B[49m\u001B[43m \u001B[49m\u001B[38;5;241;43m*\u001B[39;49m\u001B[43margs\u001B[49m\u001B[43m,\u001B[49m\u001B[43m \u001B[49m\u001B[43mmutable\u001B[49m\u001B[38;5;241;43m=\u001B[39;49m\u001B[43mmutable\u001B[49m\u001B[43m)\u001B[49m\n\u001B[0;32m     59\u001B[0m     Ō_grad \u001B[38;5;241m=\u001B[39m force_to_grad(Ō_grad, vstate\u001B[38;5;241m.\u001B[39mparameters)\n\u001B[0;32m     60\u001B[0m     \u001B[38;5;28;01mreturn\u001B[39;00m Ō, Ō_grad\n",
      "    \u001B[1;31m[... skipping hidden 1 frame]\u001B[0m\n",
      "File \u001B[1;32m~\\anaconda3\\lib\\site-packages\\netket\\vqs\\mc\\mc_state\\expect_forces.py:52\u001B[0m, in \u001B[0;36mexpect_and_forces\u001B[1;34m(vstate, Ô, chunk_size, mutable)\u001B[0m\n\u001B[0;32m     48\u001B[0m σ, args \u001B[38;5;241m=\u001B[39m get_local_kernel_arguments(vstate, Ô)\n\u001B[0;32m     50\u001B[0m local_estimator_fun \u001B[38;5;241m=\u001B[39m get_local_kernel(vstate, Ô)\n\u001B[1;32m---> 52\u001B[0m Ō, Ō_grad, new_model_state \u001B[38;5;241m=\u001B[39m \u001B[43mforces_expect_hermitian\u001B[49m\u001B[43m(\u001B[49m\n\u001B[0;32m     53\u001B[0m \u001B[43m    \u001B[49m\u001B[43mlocal_estimator_fun\u001B[49m\u001B[43m,\u001B[49m\n\u001B[0;32m     54\u001B[0m \u001B[43m    \u001B[49m\u001B[43mvstate\u001B[49m\u001B[38;5;241;43m.\u001B[39;49m\u001B[43m_apply_fun\u001B[49m\u001B[43m,\u001B[49m\n\u001B[0;32m     55\u001B[0m \u001B[43m    \u001B[49m\u001B[43mmutable\u001B[49m\u001B[43m,\u001B[49m\n\u001B[0;32m     56\u001B[0m \u001B[43m    \u001B[49m\u001B[43mvstate\u001B[49m\u001B[38;5;241;43m.\u001B[39;49m\u001B[43mparameters\u001B[49m\u001B[43m,\u001B[49m\n\u001B[0;32m     57\u001B[0m \u001B[43m    \u001B[49m\u001B[43mvstate\u001B[49m\u001B[38;5;241;43m.\u001B[39;49m\u001B[43mmodel_state\u001B[49m\u001B[43m,\u001B[49m\n\u001B[0;32m     58\u001B[0m \u001B[43m    \u001B[49m\u001B[43mσ\u001B[49m\u001B[43m,\u001B[49m\n\u001B[0;32m     59\u001B[0m \u001B[43m    \u001B[49m\u001B[43margs\u001B[49m\u001B[43m,\u001B[49m\n\u001B[0;32m     60\u001B[0m \u001B[43m\u001B[49m\u001B[43m)\u001B[49m\n\u001B[0;32m     62\u001B[0m \u001B[38;5;28;01mif\u001B[39;00m mutable \u001B[38;5;129;01mis\u001B[39;00m \u001B[38;5;129;01mnot\u001B[39;00m \u001B[38;5;28;01mFalse\u001B[39;00m:\n\u001B[0;32m     63\u001B[0m     vstate\u001B[38;5;241m.\u001B[39mmodel_state \u001B[38;5;241m=\u001B[39m new_model_state\n",
      "File \u001B[1;32m~\\anaconda3\\lib\\site-packages\\netket\\utils\\struct\\dataclass.py:448\u001B[0m, in \u001B[0;36mdataclass.<locals>.clz_from_iterable\u001B[1;34m(meta, data)\u001B[0m\n\u001B[0;32m    445\u001B[0m     data \u001B[38;5;241m=\u001B[39m \u001B[38;5;28mtuple\u001B[39m(\u001B[38;5;28mgetattr\u001B[39m(x, name) \u001B[38;5;28;01mfor\u001B[39;00m name \u001B[38;5;129;01min\u001B[39;00m data_fields)\n\u001B[0;32m    446\u001B[0m     \u001B[38;5;28;01mreturn\u001B[39;00m data, meta\n\u001B[1;32m--> 448\u001B[0m \u001B[38;5;28;01mdef\u001B[39;00m \u001B[38;5;21mclz_from_iterable\u001B[39m(meta, data):\n\u001B[0;32m    449\u001B[0m     meta_args \u001B[38;5;241m=\u001B[39m \u001B[38;5;28mtuple\u001B[39m(\u001B[38;5;28mzip\u001B[39m(meta_fields, meta))\n\u001B[0;32m    450\u001B[0m     data_args \u001B[38;5;241m=\u001B[39m \u001B[38;5;28mtuple\u001B[39m(\u001B[38;5;28mzip\u001B[39m(data_fields, data))\n",
      "\u001B[1;31mKeyboardInterrupt\u001B[0m: "
     ]
    }
   ],
   "source": [
    "import time\n",
    "ma = nk.models.RBM(alpha=2)\n",
    "sa = nk.sampler.MetropolisLocal(hilbert=hi)\n",
    "\n",
    "# Optimizer\n",
    "op = nk.optimizer.Sgd(learning_rate=0.05)\n",
    "# Stochastic Reconfiguration\n",
    "sr = nk.optimizer.SR(diag_shift=0.1)\n",
    "\n",
    "# The variational state\n",
    "vs = nk.vqs.MCState(sa, ma, n_samples=2048)\n",
    "\n",
    "# The ground-state optimization loop\n",
    "gs = nk.VMC(\n",
    "    hamiltonian=H,\n",
    "    optimizer=op,\n",
    "    preconditioner=sr,\n",
    "    variational_state=vs)\n",
    "\n",
    "start = time.time()\n",
    "gs.run(out='RBM', n_iter=25000)\n",
    "end = time.time()\n",
    "\n",
    "print('### RBM calculation')\n",
    "print('Has',vs.n_parameters,'parameters')\n",
    "print('The RBM calculation took',end-start,'seconds')"
   ]
  },
  {
   "cell_type": "code",
   "execution_count": 3,
   "metadata": {
    "ExecuteTime": {
     "end_time": "2024-01-11T16:20:09.926992400Z",
     "start_time": "2024-01-11T16:20:09.886820200Z"
    }
   },
   "outputs": [
    {
     "ename": "NameError",
     "evalue": "name 'hi' is not defined",
     "output_type": "error",
     "traceback": [
      "\u001B[1;31m---------------------------------------------------------------------------\u001B[0m",
      "\u001B[1;31mNameError\u001B[0m                                 Traceback (most recent call last)",
      "Cell \u001B[1;32mIn[3], line 21\u001B[0m\n\u001B[0;32m     19\u001B[0m model \u001B[38;5;241m=\u001B[39m FFNN()\n\u001B[0;32m     20\u001B[0m \u001B[38;5;66;03m# We shall use an exchange Sampler which preserves the global magnetization (as this is a conserved quantity in the model)\u001B[39;00m\n\u001B[1;32m---> 21\u001B[0m sa \u001B[38;5;241m=\u001B[39m nk\u001B[38;5;241m.\u001B[39msampler\u001B[38;5;241m.\u001B[39mMetropolisHamiltonian(hilbert\u001B[38;5;241m=\u001B[39m\u001B[43mhi\u001B[49m, hamiltonian\u001B[38;5;241m=\u001B[39mH)\n\u001B[0;32m     23\u001B[0m \u001B[38;5;66;03m# Construct the variational state\u001B[39;00m\n\u001B[0;32m     24\u001B[0m vs \u001B[38;5;241m=\u001B[39m nk\u001B[38;5;241m.\u001B[39mvqs\u001B[38;5;241m.\u001B[39mMCState(sa, model, n_samples\u001B[38;5;241m=\u001B[39m\u001B[38;5;241m4096\u001B[39m)\n",
      "\u001B[1;31mNameError\u001B[0m: name 'hi' is not defined"
     ]
    }
   ],
   "source": [
    "import netket.nn as nknn\n",
    "import flax.linen as nn\n",
    "import jax.numpy as jnp\n",
    "import numpy as np\n",
    "import netket as nk\n",
    "\n",
    "class FFNN(nn.Module):\n",
    "    @nn.compact\n",
    "    def __call__(self, x):\n",
    "        x = nn.Dense(features=2*x.shape[-1],\n",
    "                     use_bias=True,\n",
    "                     param_dtype=np.complex128,\n",
    "                     kernel_init=nn.initializers.normal(stddev=1.),\n",
    "                     bias_init=nn.initializers.normal(stddev=1.)\n",
    "                    )(x)\n",
    "        x = nknn.log_cosh(x)\n",
    "        x = jnp.sum(x, axis=-1)\n",
    "        return x\n",
    "\n",
    "model = FFNN()\n",
    "# We shall use an exchange Sampler which preserves the global magnetization (as this is a conserved quantity in the model)\n",
    "sa = nk.sampler.MetropolisHamiltonian(hilbert=hi, hamiltonian=H)\n",
    "\n",
    "# Construct the variational state\n",
    "vs = nk.vqs.MCState(sa, model, n_samples=4096)\n",
    "\n",
    "# We choose a basic, albeit important, Optimizer: the Stochastic Gradient Descent\n",
    "opt = nk.optimizer.Adam(learning_rate=0.0002)\n",
    "\n",
    "# Stochastic Reconfiguration\n",
    "sr = nk.optimizer.SR(diag_shift=0.01)\n",
    "\n",
    "# We can then specify a Variational Monte Carlo object, using the Hamiltonian, sampler and optimizers chosen.\n",
    "# Note that we also specify the method to learn the parameters of the wave-function: here we choose the efficient\n",
    "# Stochastic reconfiguration (Sr), here in an iterative setup\n",
    "gs = nk.VMC(hamiltonian=H, optimizer=opt, variational_state=vs, preconditioner=None)"
   ]
  },
  {
   "cell_type": "code",
   "execution_count": 27,
   "metadata": {
    "ExecuteTime": {
     "end_time": "2023-11-12T13:54:29.587542300Z",
     "start_time": "2023-11-12T13:54:00.484371500Z"
    }
   },
   "outputs": [
    {
     "name": "stderr",
     "output_type": "stream",
     "text": [
      "  0%|          | 5/1000 [00:18<1:01:01,  3.68s/it, Energy=-0.997-0.000j ± 0.062 [σ²=15.294, R̂=1.0019]]\n"
     ]
    },
    {
     "ename": "KeyboardInterrupt",
     "evalue": "",
     "output_type": "error",
     "traceback": [
      "\u001B[1;31m---------------------------------------------------------------------------\u001B[0m",
      "\u001B[1;31mKeyboardInterrupt\u001B[0m                         Traceback (most recent call last)",
      "Cell \u001B[1;32mIn[27], line 1\u001B[0m\n\u001B[1;32m----> 1\u001B[0m \u001B[43mgs\u001B[49m\u001B[38;5;241;43m.\u001B[39;49m\u001B[43mrun\u001B[49m\u001B[43m(\u001B[49m\u001B[43mout\u001B[49m\u001B[38;5;241;43m=\u001B[39;49m\u001B[38;5;124;43m\"\u001B[39;49m\u001B[38;5;124;43mtest\u001B[39;49m\u001B[38;5;124;43m\"\u001B[39;49m\u001B[43m,\u001B[49m\u001B[43m \u001B[49m\u001B[43mn_iter\u001B[49m\u001B[38;5;241;43m=\u001B[39;49m\u001B[38;5;241;43m1000\u001B[39;49m\u001B[43m)\u001B[49m\n",
      "File \u001B[1;32m~\\anaconda3\\lib\\site-packages\\netket\\driver\\abstract_variational_driver.py:259\u001B[0m, in \u001B[0;36mAbstractVariationalDriver.run\u001B[1;34m(self, n_iter, out, obs, show_progress, save_params_every, write_every, step_size, callback)\u001B[0m\n\u001B[0;32m    256\u001B[0m old_step \u001B[38;5;241m=\u001B[39m \u001B[38;5;28mself\u001B[39m\u001B[38;5;241m.\u001B[39mstep_count\n\u001B[0;32m    257\u001B[0m first_step \u001B[38;5;241m=\u001B[39m \u001B[38;5;28;01mTrue\u001B[39;00m\n\u001B[1;32m--> 259\u001B[0m \u001B[38;5;28;01mfor\u001B[39;00m step \u001B[38;5;129;01min\u001B[39;00m \u001B[38;5;28mself\u001B[39m\u001B[38;5;241m.\u001B[39miter(n_iter, step_size):\n\u001B[0;32m    260\u001B[0m     log_data \u001B[38;5;241m=\u001B[39m \u001B[38;5;28mself\u001B[39m\u001B[38;5;241m.\u001B[39mestimate(obs)\n\u001B[0;32m    261\u001B[0m     \u001B[38;5;28mself\u001B[39m\u001B[38;5;241m.\u001B[39m_log_additional_data(log_data, step)\n",
      "File \u001B[1;32m~\\anaconda3\\lib\\site-packages\\netket\\driver\\abstract_variational_driver.py:169\u001B[0m, in \u001B[0;36mAbstractVariationalDriver.iter\u001B[1;34m(self, n_steps, step)\u001B[0m\n\u001B[0;32m    167\u001B[0m \u001B[38;5;28;01mfor\u001B[39;00m _ \u001B[38;5;129;01min\u001B[39;00m \u001B[38;5;28mrange\u001B[39m(\u001B[38;5;241m0\u001B[39m, n_steps, step):\n\u001B[0;32m    168\u001B[0m     \u001B[38;5;28;01mfor\u001B[39;00m i \u001B[38;5;129;01min\u001B[39;00m \u001B[38;5;28mrange\u001B[39m(\u001B[38;5;241m0\u001B[39m, step):\n\u001B[1;32m--> 169\u001B[0m         dp \u001B[38;5;241m=\u001B[39m \u001B[38;5;28;43mself\u001B[39;49m\u001B[38;5;241;43m.\u001B[39;49m\u001B[43m_forward_and_backward\u001B[49m\u001B[43m(\u001B[49m\u001B[43m)\u001B[49m\n\u001B[0;32m    170\u001B[0m         \u001B[38;5;28;01mif\u001B[39;00m i \u001B[38;5;241m==\u001B[39m \u001B[38;5;241m0\u001B[39m:\n\u001B[0;32m    171\u001B[0m             \u001B[38;5;28;01myield\u001B[39;00m \u001B[38;5;28mself\u001B[39m\u001B[38;5;241m.\u001B[39mstep_count\n",
      "File \u001B[1;32m~\\anaconda3\\lib\\site-packages\\netket\\driver\\vmc.py:132\u001B[0m, in \u001B[0;36mVMC._forward_and_backward\u001B[1;34m(self)\u001B[0m\n\u001B[0;32m    129\u001B[0m \u001B[38;5;28mself\u001B[39m\u001B[38;5;241m.\u001B[39mstate\u001B[38;5;241m.\u001B[39mreset()\n\u001B[0;32m    131\u001B[0m \u001B[38;5;66;03m# Compute the local energy estimator and average Energy\u001B[39;00m\n\u001B[1;32m--> 132\u001B[0m \u001B[38;5;28mself\u001B[39m\u001B[38;5;241m.\u001B[39m_loss_stats, \u001B[38;5;28mself\u001B[39m\u001B[38;5;241m.\u001B[39m_loss_grad \u001B[38;5;241m=\u001B[39m \u001B[38;5;28;43mself\u001B[39;49m\u001B[38;5;241;43m.\u001B[39;49m\u001B[43mstate\u001B[49m\u001B[38;5;241;43m.\u001B[39;49m\u001B[43mexpect_and_grad\u001B[49m\u001B[43m(\u001B[49m\u001B[38;5;28;43mself\u001B[39;49m\u001B[38;5;241;43m.\u001B[39;49m\u001B[43m_ham\u001B[49m\u001B[43m)\u001B[49m\n\u001B[0;32m    134\u001B[0m \u001B[38;5;66;03m# if it's the identity it does\u001B[39;00m\n\u001B[0;32m    135\u001B[0m \u001B[38;5;66;03m# self._dp = self._loss_grad\u001B[39;00m\n\u001B[0;32m    136\u001B[0m \u001B[38;5;28mself\u001B[39m\u001B[38;5;241m.\u001B[39m_dp \u001B[38;5;241m=\u001B[39m \u001B[38;5;28mself\u001B[39m\u001B[38;5;241m.\u001B[39mpreconditioner(\u001B[38;5;28mself\u001B[39m\u001B[38;5;241m.\u001B[39mstate, \u001B[38;5;28mself\u001B[39m\u001B[38;5;241m.\u001B[39m_loss_grad, \u001B[38;5;28mself\u001B[39m\u001B[38;5;241m.\u001B[39mstep_count)\n",
      "File \u001B[1;32m~\\anaconda3\\lib\\site-packages\\netket\\vqs\\mc\\mc_state\\state.py:619\u001B[0m, in \u001B[0;36mMCState.expect_and_grad\u001B[1;34m(self, O, mutable, **kwargs)\u001B[0m\n\u001B[0;32m    616\u001B[0m \u001B[38;5;28;01mif\u001B[39;00m mutable \u001B[38;5;129;01mis\u001B[39;00m \u001B[38;5;28;01mNone\u001B[39;00m:\n\u001B[0;32m    617\u001B[0m     mutable \u001B[38;5;241m=\u001B[39m \u001B[38;5;28mself\u001B[39m\u001B[38;5;241m.\u001B[39mmutable\n\u001B[1;32m--> 619\u001B[0m \u001B[38;5;28;01mreturn\u001B[39;00m expect_and_grad(\n\u001B[0;32m    620\u001B[0m     \u001B[38;5;28mself\u001B[39m,\n\u001B[0;32m    621\u001B[0m     O,\n\u001B[0;32m    622\u001B[0m     \u001B[38;5;28mself\u001B[39m\u001B[38;5;241m.\u001B[39mchunk_size,\n\u001B[0;32m    623\u001B[0m     mutable\u001B[38;5;241m=\u001B[39mmutable,\n\u001B[0;32m    624\u001B[0m     \u001B[38;5;241m*\u001B[39m\u001B[38;5;241m*\u001B[39mkwargs,\n\u001B[0;32m    625\u001B[0m )\n",
      "    \u001B[1;31m[... skipping hidden 1 frame]\u001B[0m\n",
      "File \u001B[1;32m~\\anaconda3\\lib\\site-packages\\netket\\vqs\\mc\\mc_state\\expect_grad.py:58\u001B[0m, in \u001B[0;36mexpect_and_grad_default_formula\u001B[1;34m(vstate, Ô, chunk_size, mutable, use_covariance, *args)\u001B[0m\n\u001B[0;32m     51\u001B[0m     use_covariance \u001B[38;5;241m=\u001B[39m Ô\u001B[38;5;241m.\u001B[39mis_hermitian\n\u001B[0;32m     53\u001B[0m \u001B[38;5;28;01mif\u001B[39;00m use_covariance:\n\u001B[0;32m     54\u001B[0m     \u001B[38;5;66;03m# Implementation of expect_and_grad for `use_covariance == True` (due to the Literal[True]\u001B[39;00m\n\u001B[0;32m     55\u001B[0m     \u001B[38;5;66;03m# type in the signature).` This case is equivalent to the composition of the\u001B[39;00m\n\u001B[0;32m     56\u001B[0m     \u001B[38;5;66;03m# `expect_and_forces` and `force_to_grad` functions.\u001B[39;00m\n\u001B[0;32m     57\u001B[0m     \u001B[38;5;66;03m# return expect_and_grad_from_covariance(vstate, Ô, *args, mutable=mutable)\u001B[39;00m\n\u001B[1;32m---> 58\u001B[0m     Ō, Ō_grad \u001B[38;5;241m=\u001B[39m \u001B[43mexpect_and_forces\u001B[49m\u001B[43m(\u001B[49m\u001B[43mvstate\u001B[49m\u001B[43m,\u001B[49m\u001B[43m \u001B[49m\u001B[43mÔ\u001B[49m\u001B[43m,\u001B[49m\u001B[43m \u001B[49m\u001B[43mchunk_size\u001B[49m\u001B[43m,\u001B[49m\u001B[43m \u001B[49m\u001B[38;5;241;43m*\u001B[39;49m\u001B[43margs\u001B[49m\u001B[43m,\u001B[49m\u001B[43m \u001B[49m\u001B[43mmutable\u001B[49m\u001B[38;5;241;43m=\u001B[39;49m\u001B[43mmutable\u001B[49m\u001B[43m)\u001B[49m\n\u001B[0;32m     59\u001B[0m     Ō_grad \u001B[38;5;241m=\u001B[39m force_to_grad(Ō_grad, vstate\u001B[38;5;241m.\u001B[39mparameters)\n\u001B[0;32m     60\u001B[0m     \u001B[38;5;28;01mreturn\u001B[39;00m Ō, Ō_grad\n",
      "    \u001B[1;31m[... skipping hidden 1 frame]\u001B[0m\n",
      "File \u001B[1;32m~\\anaconda3\\lib\\site-packages\\netket\\vqs\\mc\\mc_state\\expect_forces.py:48\u001B[0m, in \u001B[0;36mexpect_and_forces\u001B[1;34m(vstate, Ô, chunk_size, mutable)\u001B[0m\n\u001B[0;32m     40\u001B[0m \u001B[38;5;129m@dispatch\u001B[39m\n\u001B[0;32m     41\u001B[0m \u001B[38;5;28;01mdef\u001B[39;00m \u001B[38;5;21mexpect_and_forces\u001B[39m(  \u001B[38;5;66;03m# noqa: F811\u001B[39;00m\n\u001B[0;32m     42\u001B[0m     vstate: MCState,\n\u001B[1;32m   (...)\u001B[0m\n\u001B[0;32m     46\u001B[0m     mutable: CollectionFilter \u001B[38;5;241m=\u001B[39m \u001B[38;5;28;01mFalse\u001B[39;00m,\n\u001B[0;32m     47\u001B[0m ) \u001B[38;5;241m-\u001B[39m\u001B[38;5;241m>\u001B[39m \u001B[38;5;28mtuple\u001B[39m[Stats, PyTree]:\n\u001B[1;32m---> 48\u001B[0m     σ, args \u001B[38;5;241m=\u001B[39m \u001B[43mget_local_kernel_arguments\u001B[49m\u001B[43m(\u001B[49m\u001B[43mvstate\u001B[49m\u001B[43m,\u001B[49m\u001B[43m \u001B[49m\u001B[43mÔ\u001B[49m)\n\u001B[0;32m     50\u001B[0m     local_estimator_fun \u001B[38;5;241m=\u001B[39m get_local_kernel(vstate, Ô)\n\u001B[0;32m     52\u001B[0m     Ō, Ō_grad, new_model_state \u001B[38;5;241m=\u001B[39m forces_expect_hermitian(\n\u001B[0;32m     53\u001B[0m         local_estimator_fun,\n\u001B[0;32m     54\u001B[0m         vstate\u001B[38;5;241m.\u001B[39m_apply_fun,\n\u001B[1;32m   (...)\u001B[0m\n\u001B[0;32m     59\u001B[0m         args,\n\u001B[0;32m     60\u001B[0m     )\n",
      "    \u001B[1;31m[... skipping hidden 1 frame]\u001B[0m\n",
      "File \u001B[1;32m~\\anaconda3\\lib\\site-packages\\netket\\vqs\\mc\\mc_state\\expect.py:61\u001B[0m, in \u001B[0;36mget_local_kernel_arguments\u001B[1;34m(vstate, Ô)\u001B[0m\n\u001B[0;32m     57\u001B[0m \u001B[38;5;129m@dispatch\u001B[39m\n\u001B[0;32m     58\u001B[0m \u001B[38;5;28;01mdef\u001B[39;00m \u001B[38;5;21mget_local_kernel_arguments\u001B[39m(vstate: MCState, Ô: DiscreteOperator):  \u001B[38;5;66;03m# noqa: F811\u001B[39;00m\n\u001B[0;32m     59\u001B[0m     check_hilbert(vstate\u001B[38;5;241m.\u001B[39mhilbert, Ô\u001B[38;5;241m.\u001B[39mhilbert)\n\u001B[1;32m---> 61\u001B[0m     σ \u001B[38;5;241m=\u001B[39m \u001B[43mvstate\u001B[49m\u001B[38;5;241;43m.\u001B[39;49m\u001B[43msamples\u001B[49m\n\u001B[0;32m     62\u001B[0m     σp, mels \u001B[38;5;241m=\u001B[39m Ô\u001B[38;5;241m.\u001B[39mget_conn_padded(σ)\n\u001B[0;32m     63\u001B[0m     \u001B[38;5;28;01mreturn\u001B[39;00m σ, (σp, mels)\n",
      "File \u001B[1;32m~\\anaconda3\\lib\\site-packages\\netket\\vqs\\mc\\mc_state\\state.py:521\u001B[0m, in \u001B[0;36mMCState.samples\u001B[1;34m(self)\u001B[0m\n\u001B[0;32m    510\u001B[0m \u001B[38;5;250m\u001B[39m\u001B[38;5;124;03m\"\"\"\u001B[39;00m\n\u001B[0;32m    511\u001B[0m \u001B[38;5;124;03mReturns the set of cached samples.\u001B[39;00m\n\u001B[0;32m    512\u001B[0m \n\u001B[1;32m   (...)\u001B[0m\n\u001B[0;32m    518\u001B[0m \u001B[38;5;124;03m:meth:`~MCState.reset` or :meth:`~MCState.sample`.\u001B[39;00m\n\u001B[0;32m    519\u001B[0m \u001B[38;5;124;03m\"\"\"\u001B[39;00m\n\u001B[0;32m    520\u001B[0m \u001B[38;5;28;01mif\u001B[39;00m \u001B[38;5;28mself\u001B[39m\u001B[38;5;241m.\u001B[39m_samples \u001B[38;5;129;01mis\u001B[39;00m \u001B[38;5;28;01mNone\u001B[39;00m:\n\u001B[1;32m--> 521\u001B[0m     \u001B[38;5;28;43mself\u001B[39;49m\u001B[38;5;241;43m.\u001B[39;49m\u001B[43msample\u001B[49m\u001B[43m(\u001B[49m\u001B[43m)\u001B[49m\n\u001B[0;32m    522\u001B[0m \u001B[38;5;28;01mreturn\u001B[39;00m \u001B[38;5;28mself\u001B[39m\u001B[38;5;241m.\u001B[39m_samples\n",
      "File \u001B[1;32m~\\anaconda3\\lib\\site-packages\\netket\\vqs\\mc\\mc_state\\state.py:493\u001B[0m, in \u001B[0;36mMCState.sample\u001B[1;34m(self, chain_length, n_samples, n_discard_per_chain)\u001B[0m\n\u001B[0;32m    488\u001B[0m \u001B[38;5;28mself\u001B[39m\u001B[38;5;241m.\u001B[39msampler_state \u001B[38;5;241m=\u001B[39m \u001B[38;5;28mself\u001B[39m\u001B[38;5;241m.\u001B[39msampler\u001B[38;5;241m.\u001B[39mreset(\n\u001B[0;32m    489\u001B[0m     \u001B[38;5;28mself\u001B[39m\u001B[38;5;241m.\u001B[39mmodel, \u001B[38;5;28mself\u001B[39m\u001B[38;5;241m.\u001B[39mvariables, \u001B[38;5;28mself\u001B[39m\u001B[38;5;241m.\u001B[39msampler_state\n\u001B[0;32m    490\u001B[0m )\n\u001B[0;32m    492\u001B[0m \u001B[38;5;28;01mif\u001B[39;00m \u001B[38;5;28mself\u001B[39m\u001B[38;5;241m.\u001B[39mn_discard_per_chain \u001B[38;5;241m>\u001B[39m \u001B[38;5;241m0\u001B[39m:\n\u001B[1;32m--> 493\u001B[0m     _, \u001B[38;5;28mself\u001B[39m\u001B[38;5;241m.\u001B[39msampler_state \u001B[38;5;241m=\u001B[39m \u001B[38;5;28;43mself\u001B[39;49m\u001B[38;5;241;43m.\u001B[39;49m\u001B[43msampler\u001B[49m\u001B[38;5;241;43m.\u001B[39;49m\u001B[43msample\u001B[49m\u001B[43m(\u001B[49m\n\u001B[0;32m    494\u001B[0m \u001B[43m        \u001B[49m\u001B[38;5;28;43mself\u001B[39;49m\u001B[38;5;241;43m.\u001B[39;49m\u001B[43mmodel\u001B[49m\u001B[43m,\u001B[49m\n\u001B[0;32m    495\u001B[0m \u001B[43m        \u001B[49m\u001B[38;5;28;43mself\u001B[39;49m\u001B[38;5;241;43m.\u001B[39;49m\u001B[43mvariables\u001B[49m\u001B[43m,\u001B[49m\n\u001B[0;32m    496\u001B[0m \u001B[43m        \u001B[49m\u001B[43mstate\u001B[49m\u001B[38;5;241;43m=\u001B[39;49m\u001B[38;5;28;43mself\u001B[39;49m\u001B[38;5;241;43m.\u001B[39;49m\u001B[43msampler_state\u001B[49m\u001B[43m,\u001B[49m\n\u001B[0;32m    497\u001B[0m \u001B[43m        \u001B[49m\u001B[43mchain_length\u001B[49m\u001B[38;5;241;43m=\u001B[39;49m\u001B[43mn_discard_per_chain\u001B[49m\u001B[43m,\u001B[49m\n\u001B[0;32m    498\u001B[0m \u001B[43m    \u001B[49m\u001B[43m)\u001B[49m\n\u001B[0;32m    500\u001B[0m \u001B[38;5;28mself\u001B[39m\u001B[38;5;241m.\u001B[39m_samples, \u001B[38;5;28mself\u001B[39m\u001B[38;5;241m.\u001B[39msampler_state \u001B[38;5;241m=\u001B[39m \u001B[38;5;28mself\u001B[39m\u001B[38;5;241m.\u001B[39msampler\u001B[38;5;241m.\u001B[39msample(\n\u001B[0;32m    501\u001B[0m     \u001B[38;5;28mself\u001B[39m\u001B[38;5;241m.\u001B[39mmodel,\n\u001B[0;32m    502\u001B[0m     \u001B[38;5;28mself\u001B[39m\u001B[38;5;241m.\u001B[39mvariables,\n\u001B[0;32m    503\u001B[0m     state\u001B[38;5;241m=\u001B[39m\u001B[38;5;28mself\u001B[39m\u001B[38;5;241m.\u001B[39msampler_state,\n\u001B[0;32m    504\u001B[0m     chain_length\u001B[38;5;241m=\u001B[39mchain_length,\n\u001B[0;32m    505\u001B[0m )\n\u001B[0;32m    506\u001B[0m \u001B[38;5;28;01mreturn\u001B[39;00m \u001B[38;5;28mself\u001B[39m\u001B[38;5;241m.\u001B[39m_samples\n",
      "File \u001B[1;32m~\\anaconda3\\lib\\site-packages\\netket\\sampler\\base.py:274\u001B[0m, in \u001B[0;36mSampler.sample\u001B[1;34m(sampler, machine, parameters, state, chain_length)\u001B[0m\n\u001B[0;32m    271\u001B[0m \u001B[38;5;28;01mif\u001B[39;00m state \u001B[38;5;129;01mis\u001B[39;00m \u001B[38;5;28;01mNone\u001B[39;00m:\n\u001B[0;32m    272\u001B[0m     state \u001B[38;5;241m=\u001B[39m sampler\u001B[38;5;241m.\u001B[39mreset(machine, parameters)\n\u001B[1;32m--> 274\u001B[0m \u001B[38;5;28;01mreturn\u001B[39;00m \u001B[43msampler\u001B[49m\u001B[38;5;241;43m.\u001B[39;49m\u001B[43m_sample_chain\u001B[49m\u001B[43m(\u001B[49m\n\u001B[0;32m    275\u001B[0m \u001B[43m    \u001B[49m\u001B[43mwrap_afun\u001B[49m\u001B[43m(\u001B[49m\u001B[43mmachine\u001B[49m\u001B[43m)\u001B[49m\u001B[43m,\u001B[49m\u001B[43m \u001B[49m\u001B[43mparameters\u001B[49m\u001B[43m,\u001B[49m\u001B[43m \u001B[49m\u001B[43mstate\u001B[49m\u001B[43m,\u001B[49m\u001B[43m \u001B[49m\u001B[43mchain_length\u001B[49m\n\u001B[0;32m    276\u001B[0m \u001B[43m\u001B[49m\u001B[43m)\u001B[49m\n",
      "File \u001B[1;32m~\\anaconda3\\lib\\site-packages\\netket\\utils\\struct\\dataclass.py:448\u001B[0m, in \u001B[0;36mdataclass.<locals>.clz_from_iterable\u001B[1;34m(meta, data)\u001B[0m\n\u001B[0;32m    445\u001B[0m     data \u001B[38;5;241m=\u001B[39m \u001B[38;5;28mtuple\u001B[39m(\u001B[38;5;28mgetattr\u001B[39m(x, name) \u001B[38;5;28;01mfor\u001B[39;00m name \u001B[38;5;129;01min\u001B[39;00m data_fields)\n\u001B[0;32m    446\u001B[0m     \u001B[38;5;28;01mreturn\u001B[39;00m data, meta\n\u001B[1;32m--> 448\u001B[0m \u001B[38;5;28;01mdef\u001B[39;00m \u001B[38;5;21mclz_from_iterable\u001B[39m(meta, data):\n\u001B[0;32m    449\u001B[0m     meta_args \u001B[38;5;241m=\u001B[39m \u001B[38;5;28mtuple\u001B[39m(\u001B[38;5;28mzip\u001B[39m(meta_fields, meta))\n\u001B[0;32m    450\u001B[0m     data_args \u001B[38;5;241m=\u001B[39m \u001B[38;5;28mtuple\u001B[39m(\u001B[38;5;28mzip\u001B[39m(data_fields, data))\n",
      "\u001B[1;31mKeyboardInterrupt\u001B[0m: "
     ]
    }
   ],
   "source": [
    "gs.run(out=\"test\", n_iter=1000)"
   ]
  },
  {
   "cell_type": "code",
   "execution_count": null,
   "metadata": {},
   "outputs": [],
   "source": []
  }
 ],
 "metadata": {
  "kernelspec": {
   "display_name": "Python 3 (ipykernel)",
   "language": "python",
   "name": "python3"
  },
  "language_info": {
   "codemirror_mode": {
    "name": "ipython",
    "version": 3
   },
   "file_extension": ".py",
   "mimetype": "text/x-python",
   "name": "python",
   "nbconvert_exporter": "python",
   "pygments_lexer": "ipython3",
   "version": "3.10.9"
  }
 },
 "nbformat": 4,
 "nbformat_minor": 1
}
