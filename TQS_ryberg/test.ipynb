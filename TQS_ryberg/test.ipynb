{
 "cells": [
  {
   "cell_type": "code",
   "execution_count": 1,
   "id": "initial_id",
   "metadata": {
    "collapsed": true,
    "ExecuteTime": {
     "end_time": "2024-05-16T13:16:05.449898Z",
     "start_time": "2024-05-16T13:16:03.596175Z"
    }
   },
   "outputs": [
    {
     "data": {
      "text/plain": "Array([[      -0.,        0.,        0.],\n       [-1000000.,       -0.,        0.],\n       [-1000000., -1000000.,       -0.]], dtype=float32)"
     },
     "execution_count": 1,
     "metadata": {},
     "output_type": "execute_result"
    }
   ],
   "source": [
    "import jax.numpy as jnp\n",
    "import matplotlib.pyplot as plt\n",
    "\n",
    "jnp.tril(-(jnp.ones((3,3))-jnp.eye(3))*1e6)"
   ]
  },
  {
   "cell_type": "code",
   "outputs": [],
   "source": [
    "def int_to_binary_array(x, num_bits):\n",
    "    \"\"\"\n",
    "    Converts an array of integers to their binary representation arrays with a fixed number of bits.\n",
    "    This function is designed to be compatible with Jax's vmap for vectorization over an array of integers.\n",
    "\n",
    "    Parameters:\n",
    "    - x: An array of integers, the numbers to convert.\n",
    "    - num_bits: Integer, the fixed number of bits for the binary representation.\n",
    "\n",
    "    Returns:\n",
    "    - A 2D Jax array where each row is the binary representation of an integer in 'x'.\n",
    "    \"\"\"\n",
    "    # Create an array of bit positions: [2^(num_bits-1), 2^(num_bits-2), ..., 1]\n",
    "    powers_of_two = 2 ** jnp.arange(num_bits - 1, -1, -1)\n",
    "\n",
    "    # Expand dims of x and powers_of_two for broadcasting\n",
    "    x_expanded = x[:, None]\n",
    "    powers_of_two_expanded = powers_of_two[None, :]\n",
    "\n",
    "    # Perform bitwise AND between each number and each power of two, then right shift to get the bit value\n",
    "    binary_matrix = (x_expanded & powers_of_two_expanded) >> jnp.arange(num_bits - 1, -1, -1)\n",
    "\n",
    "    return binary_matrix.astype(jnp.int32)  # Ensure the result is integer"
   ],
   "metadata": {
    "collapsed": false,
    "ExecuteTime": {
     "end_time": "2024-05-16T13:16:05.465844Z",
     "start_time": "2024-05-16T13:16:05.451973Z"
    }
   },
   "id": "a4081deaee24aea1",
   "execution_count": 2
  },
  {
   "cell_type": "code",
   "outputs": [
    {
     "data": {
      "text/plain": "(3, 4)"
     },
     "execution_count": 5,
     "metadata": {},
     "output_type": "execute_result"
    }
   ],
   "source": [
    "int_to_binary_array(jnp.ones(3, dtype = int ), 4).shape"
   ],
   "metadata": {
    "collapsed": false,
    "ExecuteTime": {
     "end_time": "2024-05-16T13:17:36.302647Z",
     "start_time": "2024-05-16T13:17:36.289463Z"
    }
   },
   "id": "d1dba3127aa99ba8",
   "execution_count": 5
  },
  {
   "cell_type": "code",
   "outputs": [
    {
     "data": {
      "text/plain": "Array([[0, 0, 0, 1],\n       [0, 0, 1, 0],\n       [0, 0, 1, 1],\n       [0, 1, 0, 0]], dtype=int32)"
     },
     "execution_count": 27,
     "metadata": {},
     "output_type": "execute_result"
    }
   ],
   "source": [
    "int_to_binary_array(jnp.array([1,2,3,4]), 4)"
   ],
   "metadata": {
    "collapsed": false,
    "ExecuteTime": {
     "end_time": "2024-05-07T12:33:38.990839Z",
     "start_time": "2024-05-07T12:33:38.971875Z"
    }
   },
   "id": "2f7c02375cb896cd",
   "execution_count": 27
  },
  {
   "cell_type": "code",
   "outputs": [
    {
     "data": {
      "text/plain": "Array([[0, 0, 0, 0],\n       [0, 1, 1, 0],\n       [0, 0, 0, 1],\n       [1, 1, 0, 0]], dtype=int32)"
     },
     "execution_count": 26,
     "metadata": {},
     "output_type": "execute_result"
    }
   ],
   "source": [
    "jnp.transpose(int_to_binary_array(jnp.array([1,2,3,4]), 4).reshape(2, 2, 2, 2), (0, 2, 1, 3)).reshape(4, 4)"
   ],
   "metadata": {
    "collapsed": false,
    "ExecuteTime": {
     "end_time": "2024-05-07T12:33:22.302074Z",
     "start_time": "2024-05-07T12:33:22.216230Z"
    }
   },
   "id": "90268b2312e6d790",
   "execution_count": 26
  },
  {
   "cell_type": "code",
   "outputs": [
    {
     "name": "stdout",
     "output_type": "stream",
     "text": [
      "0\n",
      "4\n",
      "8\n",
      "12\n"
     ]
    }
   ],
   "source": [
    "n_encode = 16\n",
    "for i in range(0, n_encode, 4):\n",
    "    print(i)"
   ],
   "metadata": {
    "collapsed": false,
    "ExecuteTime": {
     "end_time": "2024-05-16T15:48:00.570946Z",
     "start_time": "2024-05-16T15:48:00.547428Z"
    }
   },
   "id": "a412d73ed9ffe17d",
   "execution_count": 6
  },
  {
   "cell_type": "code",
   "outputs": [
    {
     "name": "stdout",
     "output_type": "stream",
     "text": [
      "0\n",
      "TransformerEncoderLayer(\n",
      "  (self_attn): MultiheadAttention(\n",
      "    (out_proj): NonDynamicallyQuantizableLinear(in_features=128, out_features=128, bias=True)\n",
      "  )\n",
      "  (linear1): Linear(in_features=128, out_features=2048, bias=True)\n",
      "  (dropout): Dropout(p=0.1, inplace=False)\n",
      "  (linear2): Linear(in_features=2048, out_features=128, bias=True)\n",
      "  (norm1): LayerNorm((128,), eps=1e-05, elementwise_affine=True)\n",
      "  (norm2): LayerNorm((128,), eps=1e-05, elementwise_affine=True)\n",
      "  (dropout1): Dropout(p=0.1, inplace=False)\n",
      "  (dropout2): Dropout(p=0.1, inplace=False)\n",
      ")\n",
      "1\n",
      "TransformerEncoderLayer(\n",
      "  (self_attn): MultiheadAttention(\n",
      "    (out_proj): NonDynamicallyQuantizableLinear(in_features=128, out_features=128, bias=True)\n",
      "  )\n",
      "  (linear1): Linear(in_features=128, out_features=2048, bias=True)\n",
      "  (dropout): Dropout(p=0.1, inplace=False)\n",
      "  (linear2): Linear(in_features=2048, out_features=128, bias=True)\n",
      "  (norm1): LayerNorm((128,), eps=1e-05, elementwise_affine=True)\n",
      "  (norm2): LayerNorm((128,), eps=1e-05, elementwise_affine=True)\n",
      "  (dropout1): Dropout(p=0.1, inplace=False)\n",
      "  (dropout2): Dropout(p=0.1, inplace=False)\n",
      ")\n"
     ]
    }
   ],
   "source": [
    "import torch.nn as nn\n",
    "import torch\n",
    "encoder_layer = nn.TransformerEncoderLayer(d_model=128, nhead=4)\n",
    "transformer_encoder = nn.TransformerEncoder(encoder_layer, num_layers=2)\n",
    "for i, layer in enumerate(transformer_encoder.layers):\n",
    "    print(i)\n",
    "    print(layer)"
   ],
   "metadata": {
    "collapsed": false,
    "ExecuteTime": {
     "end_time": "2024-05-20T07:38:52.340573Z",
     "start_time": "2024-05-20T07:38:52.291359Z"
    }
   },
   "id": "39d03eaafe485f96",
   "execution_count": 12
  },
  {
   "cell_type": "code",
   "outputs": [
    {
     "data": {
      "text/plain": "True"
     },
     "execution_count": 14,
     "metadata": {},
     "output_type": "execute_result"
    }
   ],
   "source": [
    "torch.zeros([2, 0, 16, 128]) is not None"
   ],
   "metadata": {
    "collapsed": false,
    "ExecuteTime": {
     "end_time": "2024-05-20T07:51:27.336600Z",
     "start_time": "2024-05-20T07:51:27.309208Z"
    }
   },
   "id": "857e52fc7c697ee4",
   "execution_count": 14
  },
  {
   "cell_type": "code",
   "outputs": [
    {
     "data": {
      "text/plain": "Array([0, 1, 2, 3, 0], dtype=int32)"
     },
     "execution_count": 15,
     "metadata": {},
     "output_type": "execute_result"
    }
   ],
   "source": [
    "jnp.arange(5)%4"
   ],
   "metadata": {
    "collapsed": false,
    "ExecuteTime": {
     "end_time": "2024-05-21T06:24:15.541438Z",
     "start_time": "2024-05-21T06:24:14.969610Z"
    }
   },
   "id": "5ee3061aa41f27f",
   "execution_count": 15
  },
  {
   "cell_type": "code",
   "outputs": [
    {
     "data": {
      "text/plain": "(17, 128)"
     },
     "execution_count": 18,
     "metadata": {},
     "output_type": "execute_result"
    }
   ],
   "source": [
    "def pos_2d(Ny, Nx, units):\n",
    "    x_odd_f = jnp.repeat(jnp.array([1, 0, 0, 0]), units // 4)\n",
    "    x_even_f = jnp.repeat(jnp.array([0, 1, 0, 0]), units // 4)\n",
    "    y_odd_f = jnp.repeat(jnp.array([0, 0, 1, 0]), units // 4)\n",
    "    y_even_f = jnp.repeat(jnp.array([0, 0, 0, 1]), units // 4)\n",
    "    p = jnp.arange(units)/units\n",
    "    x = jnp.arange(Ny*Nx+1) %  Nx\n",
    "    y = jnp.arange(Ny*Nx+1) // Nx\n",
    "    return jnp.sin(jnp.outer(x, 1/10000**(p)))*x_odd_f + jnp.cos(jnp.outer(x, 1/10000**(p)))*x_even_f + jnp.sin(jnp.outer(y, 1/10000**(p)))*y_odd_f + jnp.cos(jnp.outer(y, 1/10000**(p)))*y_even_f\n",
    "pos_2d(4, 4, 128).shape"
   ],
   "metadata": {
    "collapsed": false,
    "ExecuteTime": {
     "end_time": "2024-05-21T06:26:32.226487Z",
     "start_time": "2024-05-21T06:26:32.187457Z"
    }
   },
   "id": "839002520ab33e",
   "execution_count": 18
  },
  {
   "cell_type": "code",
   "outputs": [
    {
     "data": {
      "text/plain": "Array([[-0.e+00, -1.e+09, -1.e+09, -1.e+09, -1.e+09],\n       [ 0.e+00, -0.e+00, -1.e+09, -1.e+09, -1.e+09],\n       [ 0.e+00,  0.e+00, -0.e+00, -1.e+09, -1.e+09],\n       [ 0.e+00,  0.e+00,  0.e+00, -0.e+00, -1.e+09],\n       [ 0.e+00,  0.e+00,  0.e+00,  0.e+00, -0.e+00]], dtype=float32)"
     },
     "execution_count": 19,
     "metadata": {},
     "output_type": "execute_result"
    }
   ],
   "source": [
    "N = 5\n",
    "jnp.tril(-(jnp.ones((N, N)) - jnp.eye(N))*1e9).T"
   ],
   "metadata": {
    "collapsed": false,
    "ExecuteTime": {
     "end_time": "2024-05-21T06:48:35.331760Z",
     "start_time": "2024-05-21T06:48:34.958720Z"
    }
   },
   "id": "ab977ec5a23e4e8d",
   "execution_count": 19
  },
  {
   "cell_type": "code",
   "outputs": [
    {
     "data": {
      "text/plain": "[3, 3, 3, 3]"
     },
     "execution_count": 20,
     "metadata": {},
     "output_type": "execute_result"
    }
   ],
   "source": [
    "[3] * 4"
   ],
   "metadata": {
    "collapsed": false,
    "ExecuteTime": {
     "end_time": "2024-05-21T08:04:05.472950Z",
     "start_time": "2024-05-21T08:04:05.447193Z"
    }
   },
   "id": "6f6a4abe13d272e9",
   "execution_count": 20
  },
  {
   "cell_type": "code",
   "outputs": [
    {
     "data": {
      "text/plain": "Array([0, 0, 1, 2, 3, 0, 1, 2, 3, 0, 1, 2, 3, 0, 1, 2, 3], dtype=int32)"
     },
     "execution_count": 25,
     "metadata": {},
     "output_type": "execute_result"
    }
   ],
   "source": [
    "Ny = 4\n",
    "Nx = 4\n",
    "jnp.concatenate((jnp.array([0, ]), jnp.arange(Ny*Nx) % Nx))"
   ],
   "metadata": {
    "collapsed": false,
    "ExecuteTime": {
     "end_time": "2024-05-21T08:22:07.542116Z",
     "start_time": "2024-05-21T08:22:07.460509Z"
    }
   },
   "id": "e3506e24502bbe0c",
   "execution_count": 25
  },
  {
   "cell_type": "code",
   "outputs": [],
   "source": [],
   "metadata": {
    "collapsed": false
   },
   "id": "7fc267540644a70a"
  }
 ],
 "metadata": {
  "kernelspec": {
   "display_name": "Python 3",
   "language": "python",
   "name": "python3"
  },
  "language_info": {
   "codemirror_mode": {
    "name": "ipython",
    "version": 2
   },
   "file_extension": ".py",
   "mimetype": "text/x-python",
   "name": "python",
   "nbconvert_exporter": "python",
   "pygments_lexer": "ipython2",
   "version": "2.7.6"
  }
 },
 "nbformat": 4,
 "nbformat_minor": 5
}
