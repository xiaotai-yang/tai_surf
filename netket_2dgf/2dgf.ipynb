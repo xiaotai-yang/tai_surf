{
 "cells": [
  {
   "cell_type": "code",
   "execution_count": null,
   "metadata": {
    "collapsed": true,
    "ExecuteTime": {
     "start_time": "2023-11-16T12:26:45.566442200Z"
    }
   },
   "outputs": [],
   "source": [
    "import jax\n",
    "import netket as nk\n",
    "import numpy as np\n",
    "from netket.operator.spin import sigmax,sigmaz\n",
    "import time\n",
    "import netket.nn as nknn\n",
    "import flax.linen as nn\n",
    "import jax.numpy as jnp\n",
    "L = 6\n",
    "N = L*L\n",
    "hi = nk.hilbert.Spin(s=1 / 2, N =  N)\n",
    "\n",
    "H = -1*sigmax(hi, 0)*sigmaz(hi, 1)*sigmaz(hi, 2)\n",
    "H += -1*sigmax(hi, L-1)*sigmaz(hi, L-2)*sigmaz(hi, 2*L-1)\n",
    "H += -1*sigmax(hi, L*(L-1))*sigmaz(hi, L*(L-1)+1)*sigmaz(hi, L*(L-2))\n",
    "H += -1*sigmax(hi, L*L-1)*sigmaz(hi, L*L-2)*sigmaz(hi, L*(L-1)-1)\n",
    "H += sum([-1*sigmax(hi,i)*sigmaz(hi,(i+1))*sigmaz(hi,i+L)*sigmaz(hi,(i-L)) for i in (np.arange(L,L*(L-1), L))])  #left\n",
    "H += sum([-1*sigmax(hi,i)*sigmaz(hi,(i-1))*sigmaz(hi,i+L)*sigmaz(hi,(i-L)) for i in (np.arange(2*L-1, L*L-1, L ))])  #right\n",
    "H += sum([-1*sigmax(hi,i)*sigmaz(hi,(i+1))*sigmaz(hi,i-1)*sigmaz(hi,(i+L)) for i in range(1, L-1)])  #top\n",
    "H += sum([-1*sigmax(hi,i)*sigmaz(hi,(i+1))*sigmaz(hi,i-1)*sigmaz(hi,(i-L)) for i in range(L*(L-1)+1, L*L-1)])  #bottom\n",
    "H += sum([-1*sigmax(hi,i)*sigmaz(hi,(i+1))*sigmaz(hi,i+2)*sigmaz(hi,(i+L))*sigmaz(hi,i-L) for i in ((np.meshgrid(np.arange(L-2)+1, np.arange(L-2)+1)[1]*L+np.meshgrid(np.arange(L-2)+1, np.arange(L-2)+1)[0]).ravel())])\n",
    "\n"
   ]
  },
  {
   "cell_type": "code",
   "execution_count": 35,
   "outputs": [
    {
     "name": "stderr",
     "output_type": "stream",
     "text": [
      "  1%|          | 272/25000 [04:26<6:43:53,  1.02it/s, Energy=-15.414 ± 0.012 [σ²=0.262, R̂=1.0032]]   \n"
     ]
    },
    {
     "ename": "KeyboardInterrupt",
     "evalue": "",
     "output_type": "error",
     "traceback": [
      "\u001B[1;31m---------------------------------------------------------------------------\u001B[0m",
      "\u001B[1;31mKeyboardInterrupt\u001B[0m                         Traceback (most recent call last)",
      "Cell \u001B[1;32mIn[35], line 20\u001B[0m\n\u001B[0;32m     13\u001B[0m gs \u001B[38;5;241m=\u001B[39m nk\u001B[38;5;241m.\u001B[39mVMC(\n\u001B[0;32m     14\u001B[0m     hamiltonian\u001B[38;5;241m=\u001B[39mH,\n\u001B[0;32m     15\u001B[0m     optimizer\u001B[38;5;241m=\u001B[39mop,\n\u001B[0;32m     16\u001B[0m     preconditioner\u001B[38;5;241m=\u001B[39msr,\n\u001B[0;32m     17\u001B[0m     variational_state\u001B[38;5;241m=\u001B[39mvs)\n\u001B[0;32m     19\u001B[0m start \u001B[38;5;241m=\u001B[39m time\u001B[38;5;241m.\u001B[39mtime()\n\u001B[1;32m---> 20\u001B[0m \u001B[43mgs\u001B[49m\u001B[38;5;241;43m.\u001B[39;49m\u001B[43mrun\u001B[49m\u001B[43m(\u001B[49m\u001B[43mout\u001B[49m\u001B[38;5;241;43m=\u001B[39;49m\u001B[38;5;124;43m'\u001B[39;49m\u001B[38;5;124;43mRBM\u001B[39;49m\u001B[38;5;124;43m'\u001B[39;49m\u001B[43m,\u001B[49m\u001B[43m \u001B[49m\u001B[43mn_iter\u001B[49m\u001B[38;5;241;43m=\u001B[39;49m\u001B[38;5;241;43m25000\u001B[39;49m\u001B[43m)\u001B[49m\n\u001B[0;32m     21\u001B[0m end \u001B[38;5;241m=\u001B[39m time\u001B[38;5;241m.\u001B[39mtime()\n\u001B[0;32m     23\u001B[0m \u001B[38;5;28mprint\u001B[39m(\u001B[38;5;124m'\u001B[39m\u001B[38;5;124m### RBM calculation\u001B[39m\u001B[38;5;124m'\u001B[39m)\n",
      "File \u001B[1;32m~\\anaconda3\\lib\\site-packages\\netket\\driver\\abstract_variational_driver.py:259\u001B[0m, in \u001B[0;36mAbstractVariationalDriver.run\u001B[1;34m(self, n_iter, out, obs, show_progress, save_params_every, write_every, step_size, callback)\u001B[0m\n\u001B[0;32m    256\u001B[0m old_step \u001B[38;5;241m=\u001B[39m \u001B[38;5;28mself\u001B[39m\u001B[38;5;241m.\u001B[39mstep_count\n\u001B[0;32m    257\u001B[0m first_step \u001B[38;5;241m=\u001B[39m \u001B[38;5;28;01mTrue\u001B[39;00m\n\u001B[1;32m--> 259\u001B[0m \u001B[38;5;28;01mfor\u001B[39;00m step \u001B[38;5;129;01min\u001B[39;00m \u001B[38;5;28mself\u001B[39m\u001B[38;5;241m.\u001B[39miter(n_iter, step_size):\n\u001B[0;32m    260\u001B[0m     log_data \u001B[38;5;241m=\u001B[39m \u001B[38;5;28mself\u001B[39m\u001B[38;5;241m.\u001B[39mestimate(obs)\n\u001B[0;32m    261\u001B[0m     \u001B[38;5;28mself\u001B[39m\u001B[38;5;241m.\u001B[39m_log_additional_data(log_data, step)\n",
      "File \u001B[1;32m~\\anaconda3\\lib\\site-packages\\netket\\driver\\abstract_variational_driver.py:169\u001B[0m, in \u001B[0;36mAbstractVariationalDriver.iter\u001B[1;34m(self, n_steps, step)\u001B[0m\n\u001B[0;32m    167\u001B[0m \u001B[38;5;28;01mfor\u001B[39;00m _ \u001B[38;5;129;01min\u001B[39;00m \u001B[38;5;28mrange\u001B[39m(\u001B[38;5;241m0\u001B[39m, n_steps, step):\n\u001B[0;32m    168\u001B[0m     \u001B[38;5;28;01mfor\u001B[39;00m i \u001B[38;5;129;01min\u001B[39;00m \u001B[38;5;28mrange\u001B[39m(\u001B[38;5;241m0\u001B[39m, step):\n\u001B[1;32m--> 169\u001B[0m         dp \u001B[38;5;241m=\u001B[39m \u001B[38;5;28;43mself\u001B[39;49m\u001B[38;5;241;43m.\u001B[39;49m\u001B[43m_forward_and_backward\u001B[49m\u001B[43m(\u001B[49m\u001B[43m)\u001B[49m\n\u001B[0;32m    170\u001B[0m         \u001B[38;5;28;01mif\u001B[39;00m i \u001B[38;5;241m==\u001B[39m \u001B[38;5;241m0\u001B[39m:\n\u001B[0;32m    171\u001B[0m             \u001B[38;5;28;01myield\u001B[39;00m \u001B[38;5;28mself\u001B[39m\u001B[38;5;241m.\u001B[39mstep_count\n",
      "File \u001B[1;32m~\\anaconda3\\lib\\site-packages\\netket\\driver\\vmc.py:132\u001B[0m, in \u001B[0;36mVMC._forward_and_backward\u001B[1;34m(self)\u001B[0m\n\u001B[0;32m    129\u001B[0m \u001B[38;5;28mself\u001B[39m\u001B[38;5;241m.\u001B[39mstate\u001B[38;5;241m.\u001B[39mreset()\n\u001B[0;32m    131\u001B[0m \u001B[38;5;66;03m# Compute the local energy estimator and average Energy\u001B[39;00m\n\u001B[1;32m--> 132\u001B[0m \u001B[38;5;28mself\u001B[39m\u001B[38;5;241m.\u001B[39m_loss_stats, \u001B[38;5;28mself\u001B[39m\u001B[38;5;241m.\u001B[39m_loss_grad \u001B[38;5;241m=\u001B[39m \u001B[38;5;28;43mself\u001B[39;49m\u001B[38;5;241;43m.\u001B[39;49m\u001B[43mstate\u001B[49m\u001B[38;5;241;43m.\u001B[39;49m\u001B[43mexpect_and_grad\u001B[49m\u001B[43m(\u001B[49m\u001B[38;5;28;43mself\u001B[39;49m\u001B[38;5;241;43m.\u001B[39;49m\u001B[43m_ham\u001B[49m\u001B[43m)\u001B[49m\n\u001B[0;32m    134\u001B[0m \u001B[38;5;66;03m# if it's the identity it does\u001B[39;00m\n\u001B[0;32m    135\u001B[0m \u001B[38;5;66;03m# self._dp = self._loss_grad\u001B[39;00m\n\u001B[0;32m    136\u001B[0m \u001B[38;5;28mself\u001B[39m\u001B[38;5;241m.\u001B[39m_dp \u001B[38;5;241m=\u001B[39m \u001B[38;5;28mself\u001B[39m\u001B[38;5;241m.\u001B[39mpreconditioner(\u001B[38;5;28mself\u001B[39m\u001B[38;5;241m.\u001B[39mstate, \u001B[38;5;28mself\u001B[39m\u001B[38;5;241m.\u001B[39m_loss_grad, \u001B[38;5;28mself\u001B[39m\u001B[38;5;241m.\u001B[39mstep_count)\n",
      "File \u001B[1;32m~\\anaconda3\\lib\\site-packages\\netket\\vqs\\mc\\mc_state\\state.py:619\u001B[0m, in \u001B[0;36mMCState.expect_and_grad\u001B[1;34m(self, O, mutable, **kwargs)\u001B[0m\n\u001B[0;32m    616\u001B[0m \u001B[38;5;28;01mif\u001B[39;00m mutable \u001B[38;5;129;01mis\u001B[39;00m \u001B[38;5;28;01mNone\u001B[39;00m:\n\u001B[0;32m    617\u001B[0m     mutable \u001B[38;5;241m=\u001B[39m \u001B[38;5;28mself\u001B[39m\u001B[38;5;241m.\u001B[39mmutable\n\u001B[1;32m--> 619\u001B[0m \u001B[38;5;28;01mreturn\u001B[39;00m expect_and_grad(\n\u001B[0;32m    620\u001B[0m     \u001B[38;5;28mself\u001B[39m,\n\u001B[0;32m    621\u001B[0m     O,\n\u001B[0;32m    622\u001B[0m     \u001B[38;5;28mself\u001B[39m\u001B[38;5;241m.\u001B[39mchunk_size,\n\u001B[0;32m    623\u001B[0m     mutable\u001B[38;5;241m=\u001B[39mmutable,\n\u001B[0;32m    624\u001B[0m     \u001B[38;5;241m*\u001B[39m\u001B[38;5;241m*\u001B[39mkwargs,\n\u001B[0;32m    625\u001B[0m )\n",
      "    \u001B[1;31m[... skipping hidden 1 frame]\u001B[0m\n",
      "File \u001B[1;32m~\\anaconda3\\lib\\site-packages\\netket\\vqs\\mc\\mc_state\\expect_grad.py:58\u001B[0m, in \u001B[0;36mexpect_and_grad_default_formula\u001B[1;34m(vstate, Ô, chunk_size, mutable, use_covariance, *args)\u001B[0m\n\u001B[0;32m     51\u001B[0m     use_covariance \u001B[38;5;241m=\u001B[39m Ô\u001B[38;5;241m.\u001B[39mis_hermitian\n\u001B[0;32m     53\u001B[0m \u001B[38;5;28;01mif\u001B[39;00m use_covariance:\n\u001B[0;32m     54\u001B[0m     \u001B[38;5;66;03m# Implementation of expect_and_grad for `use_covariance == True` (due to the Literal[True]\u001B[39;00m\n\u001B[0;32m     55\u001B[0m     \u001B[38;5;66;03m# type in the signature).` This case is equivalent to the composition of the\u001B[39;00m\n\u001B[0;32m     56\u001B[0m     \u001B[38;5;66;03m# `expect_and_forces` and `force_to_grad` functions.\u001B[39;00m\n\u001B[0;32m     57\u001B[0m     \u001B[38;5;66;03m# return expect_and_grad_from_covariance(vstate, Ô, *args, mutable=mutable)\u001B[39;00m\n\u001B[1;32m---> 58\u001B[0m     Ō, Ō_grad \u001B[38;5;241m=\u001B[39m \u001B[43mexpect_and_forces\u001B[49m\u001B[43m(\u001B[49m\u001B[43mvstate\u001B[49m\u001B[43m,\u001B[49m\u001B[43m \u001B[49m\u001B[43mÔ\u001B[49m\u001B[43m,\u001B[49m\u001B[43m \u001B[49m\u001B[43mchunk_size\u001B[49m\u001B[43m,\u001B[49m\u001B[43m \u001B[49m\u001B[38;5;241;43m*\u001B[39;49m\u001B[43margs\u001B[49m\u001B[43m,\u001B[49m\u001B[43m \u001B[49m\u001B[43mmutable\u001B[49m\u001B[38;5;241;43m=\u001B[39;49m\u001B[43mmutable\u001B[49m\u001B[43m)\u001B[49m\n\u001B[0;32m     59\u001B[0m     Ō_grad \u001B[38;5;241m=\u001B[39m force_to_grad(Ō_grad, vstate\u001B[38;5;241m.\u001B[39mparameters)\n\u001B[0;32m     60\u001B[0m     \u001B[38;5;28;01mreturn\u001B[39;00m Ō, Ō_grad\n",
      "    \u001B[1;31m[... skipping hidden 1 frame]\u001B[0m\n",
      "File \u001B[1;32m~\\anaconda3\\lib\\site-packages\\netket\\vqs\\mc\\mc_state\\expect_forces.py:48\u001B[0m, in \u001B[0;36mexpect_and_forces\u001B[1;34m(vstate, Ô, chunk_size, mutable)\u001B[0m\n\u001B[0;32m     40\u001B[0m \u001B[38;5;129m@dispatch\u001B[39m\n\u001B[0;32m     41\u001B[0m \u001B[38;5;28;01mdef\u001B[39;00m \u001B[38;5;21mexpect_and_forces\u001B[39m(  \u001B[38;5;66;03m# noqa: F811\u001B[39;00m\n\u001B[0;32m     42\u001B[0m     vstate: MCState,\n\u001B[1;32m   (...)\u001B[0m\n\u001B[0;32m     46\u001B[0m     mutable: CollectionFilter \u001B[38;5;241m=\u001B[39m \u001B[38;5;28;01mFalse\u001B[39;00m,\n\u001B[0;32m     47\u001B[0m ) \u001B[38;5;241m-\u001B[39m\u001B[38;5;241m>\u001B[39m \u001B[38;5;28mtuple\u001B[39m[Stats, PyTree]:\n\u001B[1;32m---> 48\u001B[0m     σ, args \u001B[38;5;241m=\u001B[39m \u001B[43mget_local_kernel_arguments\u001B[49m\u001B[43m(\u001B[49m\u001B[43mvstate\u001B[49m\u001B[43m,\u001B[49m\u001B[43m \u001B[49m\u001B[43mÔ\u001B[49m)\n\u001B[0;32m     50\u001B[0m     local_estimator_fun \u001B[38;5;241m=\u001B[39m get_local_kernel(vstate, Ô)\n\u001B[0;32m     52\u001B[0m     Ō, Ō_grad, new_model_state \u001B[38;5;241m=\u001B[39m forces_expect_hermitian(\n\u001B[0;32m     53\u001B[0m         local_estimator_fun,\n\u001B[0;32m     54\u001B[0m         vstate\u001B[38;5;241m.\u001B[39m_apply_fun,\n\u001B[1;32m   (...)\u001B[0m\n\u001B[0;32m     59\u001B[0m         args,\n\u001B[0;32m     60\u001B[0m     )\n",
      "    \u001B[1;31m[... skipping hidden 1 frame]\u001B[0m\n",
      "File \u001B[1;32m~\\anaconda3\\lib\\site-packages\\netket\\vqs\\mc\\mc_state\\expect.py:61\u001B[0m, in \u001B[0;36mget_local_kernel_arguments\u001B[1;34m(vstate, Ô)\u001B[0m\n\u001B[0;32m     57\u001B[0m \u001B[38;5;129m@dispatch\u001B[39m\n\u001B[0;32m     58\u001B[0m \u001B[38;5;28;01mdef\u001B[39;00m \u001B[38;5;21mget_local_kernel_arguments\u001B[39m(vstate: MCState, Ô: DiscreteOperator):  \u001B[38;5;66;03m# noqa: F811\u001B[39;00m\n\u001B[0;32m     59\u001B[0m     check_hilbert(vstate\u001B[38;5;241m.\u001B[39mhilbert, Ô\u001B[38;5;241m.\u001B[39mhilbert)\n\u001B[1;32m---> 61\u001B[0m     σ \u001B[38;5;241m=\u001B[39m \u001B[43mvstate\u001B[49m\u001B[38;5;241;43m.\u001B[39;49m\u001B[43msamples\u001B[49m\n\u001B[0;32m     62\u001B[0m     σp, mels \u001B[38;5;241m=\u001B[39m Ô\u001B[38;5;241m.\u001B[39mget_conn_padded(σ)\n\u001B[0;32m     63\u001B[0m     \u001B[38;5;28;01mreturn\u001B[39;00m σ, (σp, mels)\n",
      "File \u001B[1;32m~\\anaconda3\\lib\\site-packages\\netket\\vqs\\mc\\mc_state\\state.py:521\u001B[0m, in \u001B[0;36mMCState.samples\u001B[1;34m(self)\u001B[0m\n\u001B[0;32m    510\u001B[0m \u001B[38;5;250m\u001B[39m\u001B[38;5;124;03m\"\"\"\u001B[39;00m\n\u001B[0;32m    511\u001B[0m \u001B[38;5;124;03mReturns the set of cached samples.\u001B[39;00m\n\u001B[0;32m    512\u001B[0m \n\u001B[1;32m   (...)\u001B[0m\n\u001B[0;32m    518\u001B[0m \u001B[38;5;124;03m:meth:`~MCState.reset` or :meth:`~MCState.sample`.\u001B[39;00m\n\u001B[0;32m    519\u001B[0m \u001B[38;5;124;03m\"\"\"\u001B[39;00m\n\u001B[0;32m    520\u001B[0m \u001B[38;5;28;01mif\u001B[39;00m \u001B[38;5;28mself\u001B[39m\u001B[38;5;241m.\u001B[39m_samples \u001B[38;5;129;01mis\u001B[39;00m \u001B[38;5;28;01mNone\u001B[39;00m:\n\u001B[1;32m--> 521\u001B[0m     \u001B[38;5;28;43mself\u001B[39;49m\u001B[38;5;241;43m.\u001B[39;49m\u001B[43msample\u001B[49m\u001B[43m(\u001B[49m\u001B[43m)\u001B[49m\n\u001B[0;32m    522\u001B[0m \u001B[38;5;28;01mreturn\u001B[39;00m \u001B[38;5;28mself\u001B[39m\u001B[38;5;241m.\u001B[39m_samples\n",
      "File \u001B[1;32m~\\anaconda3\\lib\\site-packages\\netket\\vqs\\mc\\mc_state\\state.py:493\u001B[0m, in \u001B[0;36mMCState.sample\u001B[1;34m(self, chain_length, n_samples, n_discard_per_chain)\u001B[0m\n\u001B[0;32m    488\u001B[0m \u001B[38;5;28mself\u001B[39m\u001B[38;5;241m.\u001B[39msampler_state \u001B[38;5;241m=\u001B[39m \u001B[38;5;28mself\u001B[39m\u001B[38;5;241m.\u001B[39msampler\u001B[38;5;241m.\u001B[39mreset(\n\u001B[0;32m    489\u001B[0m     \u001B[38;5;28mself\u001B[39m\u001B[38;5;241m.\u001B[39mmodel, \u001B[38;5;28mself\u001B[39m\u001B[38;5;241m.\u001B[39mvariables, \u001B[38;5;28mself\u001B[39m\u001B[38;5;241m.\u001B[39msampler_state\n\u001B[0;32m    490\u001B[0m )\n\u001B[0;32m    492\u001B[0m \u001B[38;5;28;01mif\u001B[39;00m \u001B[38;5;28mself\u001B[39m\u001B[38;5;241m.\u001B[39mn_discard_per_chain \u001B[38;5;241m>\u001B[39m \u001B[38;5;241m0\u001B[39m:\n\u001B[1;32m--> 493\u001B[0m     _, \u001B[38;5;28mself\u001B[39m\u001B[38;5;241m.\u001B[39msampler_state \u001B[38;5;241m=\u001B[39m \u001B[38;5;28;43mself\u001B[39;49m\u001B[38;5;241;43m.\u001B[39;49m\u001B[43msampler\u001B[49m\u001B[38;5;241;43m.\u001B[39;49m\u001B[43msample\u001B[49m\u001B[43m(\u001B[49m\n\u001B[0;32m    494\u001B[0m \u001B[43m        \u001B[49m\u001B[38;5;28;43mself\u001B[39;49m\u001B[38;5;241;43m.\u001B[39;49m\u001B[43mmodel\u001B[49m\u001B[43m,\u001B[49m\n\u001B[0;32m    495\u001B[0m \u001B[43m        \u001B[49m\u001B[38;5;28;43mself\u001B[39;49m\u001B[38;5;241;43m.\u001B[39;49m\u001B[43mvariables\u001B[49m\u001B[43m,\u001B[49m\n\u001B[0;32m    496\u001B[0m \u001B[43m        \u001B[49m\u001B[43mstate\u001B[49m\u001B[38;5;241;43m=\u001B[39;49m\u001B[38;5;28;43mself\u001B[39;49m\u001B[38;5;241;43m.\u001B[39;49m\u001B[43msampler_state\u001B[49m\u001B[43m,\u001B[49m\n\u001B[0;32m    497\u001B[0m \u001B[43m        \u001B[49m\u001B[43mchain_length\u001B[49m\u001B[38;5;241;43m=\u001B[39;49m\u001B[43mn_discard_per_chain\u001B[49m\u001B[43m,\u001B[49m\n\u001B[0;32m    498\u001B[0m \u001B[43m    \u001B[49m\u001B[43m)\u001B[49m\n\u001B[0;32m    500\u001B[0m \u001B[38;5;28mself\u001B[39m\u001B[38;5;241m.\u001B[39m_samples, \u001B[38;5;28mself\u001B[39m\u001B[38;5;241m.\u001B[39msampler_state \u001B[38;5;241m=\u001B[39m \u001B[38;5;28mself\u001B[39m\u001B[38;5;241m.\u001B[39msampler\u001B[38;5;241m.\u001B[39msample(\n\u001B[0;32m    501\u001B[0m     \u001B[38;5;28mself\u001B[39m\u001B[38;5;241m.\u001B[39mmodel,\n\u001B[0;32m    502\u001B[0m     \u001B[38;5;28mself\u001B[39m\u001B[38;5;241m.\u001B[39mvariables,\n\u001B[0;32m    503\u001B[0m     state\u001B[38;5;241m=\u001B[39m\u001B[38;5;28mself\u001B[39m\u001B[38;5;241m.\u001B[39msampler_state,\n\u001B[0;32m    504\u001B[0m     chain_length\u001B[38;5;241m=\u001B[39mchain_length,\n\u001B[0;32m    505\u001B[0m )\n\u001B[0;32m    506\u001B[0m \u001B[38;5;28;01mreturn\u001B[39;00m \u001B[38;5;28mself\u001B[39m\u001B[38;5;241m.\u001B[39m_samples\n",
      "File \u001B[1;32m~\\anaconda3\\lib\\site-packages\\netket\\sampler\\base.py:274\u001B[0m, in \u001B[0;36mSampler.sample\u001B[1;34m(sampler, machine, parameters, state, chain_length)\u001B[0m\n\u001B[0;32m    271\u001B[0m \u001B[38;5;28;01mif\u001B[39;00m state \u001B[38;5;129;01mis\u001B[39;00m \u001B[38;5;28;01mNone\u001B[39;00m:\n\u001B[0;32m    272\u001B[0m     state \u001B[38;5;241m=\u001B[39m sampler\u001B[38;5;241m.\u001B[39mreset(machine, parameters)\n\u001B[1;32m--> 274\u001B[0m \u001B[38;5;28;01mreturn\u001B[39;00m \u001B[43msampler\u001B[49m\u001B[38;5;241;43m.\u001B[39;49m\u001B[43m_sample_chain\u001B[49m\u001B[43m(\u001B[49m\n\u001B[0;32m    275\u001B[0m \u001B[43m    \u001B[49m\u001B[43mwrap_afun\u001B[49m\u001B[43m(\u001B[49m\u001B[43mmachine\u001B[49m\u001B[43m)\u001B[49m\u001B[43m,\u001B[49m\u001B[43m \u001B[49m\u001B[43mparameters\u001B[49m\u001B[43m,\u001B[49m\u001B[43m \u001B[49m\u001B[43mstate\u001B[49m\u001B[43m,\u001B[49m\u001B[43m \u001B[49m\u001B[43mchain_length\u001B[49m\n\u001B[0;32m    276\u001B[0m \u001B[43m\u001B[49m\u001B[43m)\u001B[49m\n",
      "File \u001B[1;32m~\\anaconda3\\lib\\site-packages\\netket\\utils\\struct\\dataclass.py:448\u001B[0m, in \u001B[0;36mdataclass.<locals>.clz_from_iterable\u001B[1;34m(meta, data)\u001B[0m\n\u001B[0;32m    445\u001B[0m     data \u001B[38;5;241m=\u001B[39m \u001B[38;5;28mtuple\u001B[39m(\u001B[38;5;28mgetattr\u001B[39m(x, name) \u001B[38;5;28;01mfor\u001B[39;00m name \u001B[38;5;129;01min\u001B[39;00m data_fields)\n\u001B[0;32m    446\u001B[0m     \u001B[38;5;28;01mreturn\u001B[39;00m data, meta\n\u001B[1;32m--> 448\u001B[0m \u001B[38;5;28;01mdef\u001B[39;00m \u001B[38;5;21mclz_from_iterable\u001B[39m(meta, data):\n\u001B[0;32m    449\u001B[0m     meta_args \u001B[38;5;241m=\u001B[39m \u001B[38;5;28mtuple\u001B[39m(\u001B[38;5;28mzip\u001B[39m(meta_fields, meta))\n\u001B[0;32m    450\u001B[0m     data_args \u001B[38;5;241m=\u001B[39m \u001B[38;5;28mtuple\u001B[39m(\u001B[38;5;28mzip\u001B[39m(data_fields, data))\n",
      "\u001B[1;31mKeyboardInterrupt\u001B[0m: "
     ]
    }
   ],
   "source": [
    "class FFNN(nn.Module):\n",
    "    @nn.compact\n",
    "    def __call__(self, x):\n",
    "        x = nn.Dense(features=2*x.shape[-1],\n",
    "                     use_bias=True,\n",
    "                     param_dtype=jnp.complex64,\n",
    "                     kernel_init=nn.initializers.normal(stddev=0.01),\n",
    "                     bias_init=nn.initializers.normal(stddev=0.01)\n",
    "                    )(x)\n",
    "        x = nknn.log_cosh(x)\n",
    "        x = jnp.sum(x, axis=-1)\n",
    "        return x\n",
    "n_iter = 10000\n",
    "model = FFNN()\n",
    "ma = nk.models.RBM(alpha=2)\n",
    "sa = nk.sampler.MetropolisLocal(hilbert=hi)\n",
    "\n",
    "# Optimizer\n",
    "warmup_cosine_decay_scheduler = optax.warmup_cosine_decay_schedule(init_value=0.01, peak_value=0.05,\n",
    "                                                                   warmup_steps=100,\n",
    "                                                                   decay_steps=,\n",
    "                                                                   end_value=n_iter)\n",
    "op = nk.optimizer.Sgd(learning_rate=0.05)\n",
    "# Stochastic Reconfiguration\n",
    "sr = nk.optimizer.SR(diag_shift=0.1)\n",
    "\n",
    "# The variational state\n",
    "vs = nk.vqs.MCState(sa, model, n_samples=2048)\n",
    "\n",
    "# The ground-state optimization loop\n",
    "gs = nk.VMC(\n",
    "    hamiltonian=H,\n",
    "    optimizer=op,\n",
    "    preconditioner=sr,\n",
    "    variational_state=vs)\n",
    "\n",
    "start = time.time()\n",
    "gs.run(out='RBM', n_iter=n_iter)\n",
    "end = time.time()\n",
    "\n",
    "print('### RBM calculation')\n",
    "print('Has',vs.n_parameters,'parameters')\n",
    "print('The RBM calculation took',end-start,'seconds')\n"
   ],
   "metadata": {
    "collapsed": false,
    "ExecuteTime": {
     "end_time": "2023-11-16T12:26:45.566442200Z",
     "start_time": "2023-11-16T12:22:04.057543400Z"
    }
   }
  },
  {
   "cell_type": "code",
   "execution_count": 12,
   "outputs": [
    {
     "data": {
      "text/plain": "Array([-1.,  1.,  1., -1.,  1.,  1., -1.,  1., -1.], dtype=float32)"
     },
     "execution_count": 12,
     "metadata": {},
     "output_type": "execute_result"
    }
   ],
   "source": [
    "import netket as nk\n",
    "import jax\n",
    "from netket.operator.spin import sigmax,sigmaz\n",
    "import time\n",
    "hi = nk.hilbert.Spin(s=1/2, N=graph.n_nodes)\n",
    "hi.random_state(key=jax.random.PRNGKey(0))"
   ],
   "metadata": {
    "collapsed": false,
    "ExecuteTime": {
     "end_time": "2023-11-16T11:55:40.150802100Z",
     "start_time": "2023-11-16T11:55:39.175240400Z"
    }
   }
  },
  {
   "cell_type": "code",
   "execution_count": null,
   "outputs": [],
   "source": [
    "import jax\n",
    "import netket as nk\n",
    "from netket.operator.spin import sigmax,sigmaz\n",
    "import time\n",
    "\n",
    "N = 16\n",
    "\n",
    "H = -1*sigmaz(hi,0)*sigmax(hi, 1)\n",
    "H += -1*sigmax(hi,N-3)*sigmaz(hi, N-2)*sigmaz(hi, N-1)\n",
    "H += -1*sigmax(hi,N-2)*sigmax(hi, N-1)\n",
    "H += sum([-1*sigmax(hi,i)*sigmaz(hi,(i+1))*sigmax(hi,i+2) for i in range(N-3)])\n",
    "\n",
    "HX = -1 * sigmax(hi, 0) * sigmaz(hi, 1)\n",
    "HX += -1 * sigmaz(hi, N - 3) * sigmax(hi, N - 2) * sigmax(hi, N - 1)\n",
    "HX += -1 * sigmaz(hi, N - 2) * sigmaz(hi, N - 1)\n",
    "HX += sum([-1 * sigmaz(hi, i) * sigmax(hi, (i + 1)) * sigmaz(hi, i + 2) for i in range(N - 3)])\n",
    "\n",
    "graph = nk.graph.Chain(length=N, pbc=True)\n",
    "g = nk.graph.Hypercube(length=N, n_dim=2, pbc=False)\n",
    "\n",
    "ma = nk.models.RBM(alpha=2)\n",
    "sa = nk.sampler.MetropolisLocal(hilbert=hi)\n",
    "\n",
    "# Optimizer\n",
    "op = nk.optimizer.Sgd(learning_rate=0.05)\n",
    "# Stochastic Reconfiguration\n",
    "sr = nk.optimizer.SR(diag_shift=0.1)\n",
    "\n",
    "# The variational state\n",
    "vs = nk.vqs.MCState(sa, ma, n_samples=2048)\n",
    "\n",
    "# The ground-state optimization loop\n",
    "gs = nk.VMC(\n",
    "    hamiltonian=HX,\n",
    "    optimizer=op,\n",
    "    preconditioner=sr,\n",
    "    variational_state=vs)\n",
    "\n",
    "start = time.time()\n",
    "gs.run(out='RBM', n_iter=25000)\n",
    "end = time.time()\n",
    "\n",
    "print('### RBM calculation')\n",
    "print('Has',vs.n_parameters,'parameters')\n",
    "print('The RBM calculation took',end-start,'seconds')\n"
   ],
   "metadata": {
    "collapsed": false
   }
  },
  {
   "cell_type": "code",
   "execution_count": 37,
   "outputs": [
    {
     "data": {
      "text/plain": "array([4, 8])"
     },
     "execution_count": 37,
     "metadata": {},
     "output_type": "execute_result"
    }
   ],
   "source": [
    "L = 4\n",
    "np.arange(L,L*(L-1), L)"
   ],
   "metadata": {
    "collapsed": false,
    "ExecuteTime": {
     "end_time": "2023-11-16T16:20:34.097239100Z",
     "start_time": "2023-11-16T16:20:34.093861100Z"
    }
   }
  },
  {
   "cell_type": "code",
   "execution_count": 38,
   "outputs": [
    {
     "data": {
      "text/plain": "array([ 7, 11])"
     },
     "execution_count": 38,
     "metadata": {},
     "output_type": "execute_result"
    }
   ],
   "source": [
    "np.arange(2*L-1, L*L-1, L )"
   ],
   "metadata": {
    "collapsed": false,
    "ExecuteTime": {
     "end_time": "2023-11-16T16:20:46.838908700Z",
     "start_time": "2023-11-16T16:20:46.823662700Z"
    }
   }
  },
  {
   "cell_type": "code",
   "execution_count": 39,
   "outputs": [
    {
     "data": {
      "text/plain": "array([ 5,  6,  9, 10])"
     },
     "execution_count": 39,
     "metadata": {},
     "output_type": "execute_result"
    }
   ],
   "source": [
    "(np.meshgrid(np.arange(L-2)+1, np.arange(L-2)+1)[1]*L+np.meshgrid(np.arange(L-2)+1, np.arange(L-2)+1)[0]).ravel()"
   ],
   "metadata": {
    "collapsed": false,
    "ExecuteTime": {
     "end_time": "2023-11-16T16:21:52.514591100Z",
     "start_time": "2023-11-16T16:21:52.477356100Z"
    }
   }
  },
  {
   "cell_type": "code",
   "execution_count": null,
   "outputs": [],
   "source": [],
   "metadata": {
    "collapsed": false
   }
  }
 ],
 "metadata": {
  "kernelspec": {
   "display_name": "Python 3",
   "language": "python",
   "name": "python3"
  },
  "language_info": {
   "codemirror_mode": {
    "name": "ipython",
    "version": 2
   },
   "file_extension": ".py",
   "mimetype": "text/x-python",
   "name": "python",
   "nbconvert_exporter": "python",
   "pygments_lexer": "ipython2",
   "version": "2.7.6"
  }
 },
 "nbformat": 4,
 "nbformat_minor": 0
}
