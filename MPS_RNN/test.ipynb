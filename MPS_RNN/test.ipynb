{
 "cells": [
  {
   "cell_type": "code",
   "execution_count": 2,
   "metadata": {
    "collapsed": true,
    "ExecuteTime": {
     "end_time": "2023-12-30T15:09:19.224153200Z",
     "start_time": "2023-12-30T15:09:17.182927900Z"
    }
   },
   "outputs": [],
   "source": [
    "import jax.numpy as jnp\n",
    "\n",
    "N = 10  # Assuming some value for N\n",
    "# Create a range of values from 0 to N-3\n",
    "i_values = jnp.arange(N-3)[:, None]  # Reshape to use broadcasting\n",
    "# Create the loc_array_bulk using broadcasting\n",
    "loc_array_bulk = i_values + jnp.array([0, 1, 2])\n"
   ]
  },
  {
   "cell_type": "code",
   "execution_count": 3,
   "outputs": [
    {
     "name": "stdout",
     "output_type": "stream",
     "text": [
      "Flattened parameters: [1.  2.  3.  4.  5.  2.5 0.5 1.5]\n",
      "Unflattened parameters: [Array([1., 2., 3.], dtype=float32), Array([4., 5.], dtype=float32), Array(2.5, dtype=float32), Array([0.5, 1.5], dtype=float32)]\n"
     ]
    }
   ],
   "source": [
    "import jax\n",
    "import jax.numpy as jnp\n",
    "from jax.flatten_util import ravel_pytree\n",
    "\n",
    "# Define a pytree structure\n",
    "params = [\n",
    "        jnp.array([1.0, 2.0, 3.0]), \n",
    "        jnp.array([4.0, 5.0]),\n",
    "        2.5,\n",
    "        jnp.array([0.5, 1.5])\n",
    "    ]\n",
    "\n",
    "\n",
    "# Flatten the pytree into a single 1D array\n",
    "flat_params, unflatten = ravel_pytree(params)\n",
    "\n",
    "# Now flat_params is a single 1D array containing all the parameters\n",
    "print(\"Flattened parameters:\", flat_params)\n",
    "\n",
    "# Do something with flat_params (e.g., pass through an optimizer)\n",
    "\n",
    "# Then unflatten the optimized parameters back to the original structure\n",
    "new_params = unflatten(flat_params)\n",
    "\n",
    "# new_params has the same structure as params\n",
    "print(\"Unflattened parameters:\", new_params)\n"
   ],
   "metadata": {
    "collapsed": false,
    "ExecuteTime": {
     "end_time": "2024-01-28T18:08:43.523566700Z",
     "start_time": "2024-01-28T18:08:43.460793400Z"
    }
   }
  },
  {
   "cell_type": "code",
   "outputs": [],
   "source": [
    "import numpy as np\n",
    "t1 = np.random.rand(1000000)\n",
    "t2 = np.random.rand(1000000)*(1-t1)\n",
    "t3 = np.random.rand(1000000)*(1-t1-t2)\n",
    "t4 = 1-t1-t2-t3\n",
    "p1 = np.random.rand(1000000)*2*np.pi\n",
    "p2 = np.random.rand(1000000)*2*np.pi\n",
    "p3 = np.random.rand(1000000)*2*np.pi\n",
    "p4 = np.random.rand(1000000)*2*np.pi\n",
    "x1 = np.sqrt(t1)*np.exp(1j*p1)\n",
    "x2 = np.sqrt(t2)*np.exp(1j*p2)\n",
    "x3 = np.sqrt(t3)*np.exp(1j*p3)\n",
    "x4 = np.sqrt(t4)*np.exp(1j*p4)"
   ],
   "metadata": {
    "collapsed": false,
    "ExecuteTime": {
     "end_time": "2024-01-16T17:36:51.017182600Z",
     "start_time": "2024-01-16T17:36:50.201383100Z"
    }
   },
   "execution_count": 78
  },
  {
   "cell_type": "code",
   "outputs": [
    {
     "data": {
      "text/plain": "1000000.0"
     },
     "execution_count": 79,
     "metadata": {},
     "output_type": "execute_result"
    }
   ],
   "source": [
    "np.sum(np.abs(x1)**2+np.abs(x2)**2+np.abs(x3)**2+np.abs(x4)**2)"
   ],
   "metadata": {
    "collapsed": false,
    "ExecuteTime": {
     "end_time": "2024-01-16T17:36:51.156941500Z",
     "start_time": "2024-01-16T17:36:51.023490100Z"
    }
   },
   "execution_count": 79
  },
  {
   "cell_type": "code",
   "outputs": [],
   "source": [
    "px1 = np.abs(x1)**2\n",
    "px2 = np.abs(x2)**2\n",
    "px3 = np.abs(x3)**2\n",
    "px4 = np.abs(x4)**2\n",
    "px1x4 = px1+px4\n",
    "px2x3 = px2+px3\n",
    "C = 2*x1*x4-2*x2*x3\n",
    "cp1 = (1+np.sqrt(1-np.abs(C)**2))/2\n",
    "cp2 = (1-np.sqrt(1-np.abs(C)**2))/2\n",
    "a1 = -px1*np.log(px1)-px2*np.log(px2)-px3*np.log(px3)-px4*np.log(px4)+px1x4*np.log(px1x4)+px2x3*np.log(px2x3)\n",
    "b1 = -cp1*np.log(cp1)-cp2*np.log(cp2)"
   ],
   "metadata": {
    "collapsed": false,
    "ExecuteTime": {
     "end_time": "2024-01-16T17:36:51.674381700Z",
     "start_time": "2024-01-16T17:36:51.152937900Z"
    }
   },
   "execution_count": 80
  },
  {
   "cell_type": "code",
   "outputs": [
    {
     "name": "stdout",
     "output_type": "stream",
     "text": [
      "(-0.6955850017902521+0.19609206259357648j) (0.05270686824463031-0.3134852381631305j) (-0.10491433363726148+0.5133506686988841j) (0.2637844027233604-0.18038919643270798j)\n"
     ]
    }
   ],
   "source": [
    "print(x1[636373], x2[636373], x3[636373], x4[636373])"
   ],
   "metadata": {
    "collapsed": false,
    "ExecuteTime": {
     "end_time": "2024-01-16T17:36:53.181543100Z",
     "start_time": "2024-01-16T17:36:53.158729700Z"
    }
   },
   "execution_count": 81
  },
  {
   "cell_type": "code",
   "outputs": [
    {
     "name": "stdout",
     "output_type": "stream",
     "text": [
      "1000000\n"
     ]
    }
   ],
   "source": [
    "print(np.sum(a1>b1))"
   ],
   "metadata": {
    "collapsed": false,
    "ExecuteTime": {
     "end_time": "2024-01-16T17:36:53.400685800Z",
     "start_time": "2024-01-16T17:36:53.380195900Z"
    }
   },
   "execution_count": 82
  },
  {
   "cell_type": "code",
   "outputs": [],
   "source": [
    "import numpy as np\n",
    "a0 = np.random.rand(10000)\n",
    "a1 = np.random.rand(10000)\n",
    "a2 = np.random.rand(10000)\n",
    "a3 = np.random.rand(10000)\n",
    "x0 = a0**2+a1**2+a2**2+a3**2\n",
    "x1 = np.sqrt((a0**2+a1**2-a2**2-a3**2)**2+4*(a0*a2+a1*a3)**2)\n",
    "Sa = -a0*np.log(a0)-a1*np.log(a1)-a2*np.log(a2)-a3*np.log(a3)\n",
    "Sx = -x0*np.log(x0)-x1*np.log(x1)"
   ],
   "metadata": {
    "collapsed": false,
    "ExecuteTime": {
     "end_time": "2024-01-16T11:31:39.086227900Z",
     "start_time": "2024-01-16T11:31:39.064807900Z"
    }
   },
   "execution_count": 20
  },
  {
   "cell_type": "code",
   "outputs": [
    {
     "name": "stdout",
     "output_type": "stream",
     "text": [
      "431\n"
     ]
    },
    {
     "data": {
      "text/plain": "417"
     },
     "execution_count": 17,
     "metadata": {},
     "output_type": "execute_result"
    }
   ],
   "source": [
    "print(np.sum(a0+a1+a2+a3<=1))\n",
    "np.sum((Sa>Sx)&(a0+a1+a2+a3<=1))"
   ],
   "metadata": {
    "collapsed": false,
    "ExecuteTime": {
     "end_time": "2024-01-16T11:30:52.622820300Z",
     "start_time": "2024-01-16T11:30:52.608048800Z"
    }
   },
   "execution_count": 17
  },
  {
   "cell_type": "code",
   "outputs": [],
   "source": [
    "import jax\n",
    "import jax.numpy as jnp\n",
    "from jax import random\n",
    "def unitary(key, n):\n",
    "    a, b = random.normal(key, (2, n, n))\n",
    "    z = a + b * 1j\n",
    "    q, r = jnp.linalg.qr(z)\n",
    "    d = jnp.diag(r)\n",
    "    return q * d / abs(d)"
   ],
   "metadata": {
    "collapsed": false,
    "ExecuteTime": {
     "end_time": "2024-04-09T11:22:46.187200Z",
     "start_time": "2024-04-09T11:22:45.539490Z"
    }
   },
   "execution_count": 1
  },
  {
   "cell_type": "code",
   "outputs": [],
   "source": [
    "from jax import vmap\n",
    "a = vmap(unitary, (0, None), 0)(random.split(random.PRNGKey(0), 9), 2).reshape(3,3,2,2)"
   ],
   "metadata": {
    "collapsed": false,
    "ExecuteTime": {
     "end_time": "2024-04-09T11:25:44.501858Z",
     "start_time": "2024-04-09T11:25:43.823372Z"
    }
   },
   "execution_count": 10
  },
  {
   "cell_type": "code",
   "outputs": [
    {
     "name": "stdout",
     "output_type": "stream",
     "text": [
      "[[1.0000000e+00+0.0000000e+00j 5.9604645e-08-2.9802322e-08j]\n",
      " [5.9604645e-08+2.9802322e-08j 1.0000000e+00+0.0000000e+00j]]\n",
      "[[ 1.0000000e+00+0.0000000e+00j -2.9802322e-08+2.9802322e-08j]\n",
      " [-2.9802322e-08-2.9802322e-08j  1.0000000e+00+0.0000000e+00j]]\n",
      "[[1.0000002e+00+0.0000000e+00j 2.2351742e-08+2.0489097e-08j]\n",
      " [2.2351742e-08-2.0489097e-08j 1.0000001e+00+0.0000000e+00j]]\n",
      "[[1.0000001e+00+0.j 8.9406967e-08+0.j]\n",
      " [8.9406967e-08+0.j 1.0000000e+00+0.j]]\n",
      "[[9.9999964e-01+0.j 2.9802322e-08+0.j]\n",
      " [2.9802322e-08+0.j 1.0000000e+00+0.j]]\n",
      "[[1.0000000e+00+0.0000000e+00j 2.9802322e-08-1.1129305e-07j]\n",
      " [2.9802322e-08+1.1129305e-07j 9.9999988e-01+0.0000000e+00j]]\n",
      "[[ 9.9999988e-01+0.0000000e+00j -4.0978193e-08+1.4901161e-08j]\n",
      " [-4.0978193e-08-1.4901161e-08j  9.9999994e-01+0.0000000e+00j]]\n",
      "[[ 9.99999821e-01+0.0000000e+00j -1.07102096e-07-1.5832484e-08j]\n",
      " [-1.07102096e-07+1.5832484e-08j  1.00000000e+00+0.0000000e+00j]]\n",
      "[[1.0000002e+00+0.0000000e+00j 5.9604645e-08-2.9802322e-08j]\n",
      " [5.9604645e-08+2.9802322e-08j 1.0000000e+00+0.0000000e+00j]]\n"
     ]
    }
   ],
   "source": [
    "for i in a:\n",
    "    for j in i: \n",
    "        print(j@j.conj().T)"
   ],
   "metadata": {
    "collapsed": false,
    "ExecuteTime": {
     "end_time": "2024-04-09T11:26:05.615313Z",
     "start_time": "2024-04-09T11:26:05.518059Z"
    }
   },
   "execution_count": 11
  },
  {
   "cell_type": "code",
   "outputs": [],
   "source": [],
   "metadata": {
    "collapsed": false
   }
  }
 ],
 "metadata": {
  "kernelspec": {
   "display_name": "Python 3",
   "language": "python",
   "name": "python3"
  },
  "language_info": {
   "codemirror_mode": {
    "name": "ipython",
    "version": 2
   },
   "file_extension": ".py",
   "mimetype": "text/x-python",
   "name": "python",
   "nbconvert_exporter": "python",
   "pygments_lexer": "ipython2",
   "version": "2.7.6"
  }
 },
 "nbformat": 4,
 "nbformat_minor": 0
}
