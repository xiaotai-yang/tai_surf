{
 "cells": [
  {
   "cell_type": "code",
   "execution_count": 1,
   "id": "initial_id",
   "metadata": {
    "collapsed": true,
    "ExecuteTime": {
     "end_time": "2024-03-13T17:18:27.641114Z",
     "start_time": "2024-03-13T17:18:26.902246800Z"
    }
   },
   "outputs": [],
   "source": [
    "import jax\n",
    "import jax.numpy as jnp\n",
    "from jax import random, grad, jit, vmap\n",
    "from jax.random import split, PRNGKey\n",
    "def init_RWKV_params(input_size, emb_size, h_size,  num_layer, out_size, Ny, Nx, key):\n",
    "    key, emb_key, init_x_key, init_y_key, last_x1_key, last_x2_key, last_y1s_key, last_y1e_key, last_y2_key, key_tout, key_txout, key_talpha_out, key_tbeta_out, key_tlast_x, key_clast_x, key_cxout = split(key, 16)\n",
    "    wemb = random.uniform(emb_key, (input_size, emb_size), minval=-1e-4, maxval=1e-4) #input hasn't been connected\n",
    "    x_init = random.uniform(init_x_key, (Nx, emb_size), minval=-1e-4, maxval=1e-4)\n",
    "    y_init = random.uniform(init_y_key, (Ny, emb_size), minval=-1e-4, maxval=1e-4)\n",
    "    last_x1_init = random.uniform(last_x1_key, (Nx, num_layer, emb_size), minval=-1e-4, maxval=1e-4)\n",
    "    last_x2_init = random.uniform(last_x2_key, (Nx, num_layer, emb_size), minval=-1e-4, maxval=1e-4)\n",
    "    last_y1s_init = random.uniform(last_y1s_key, (Ny+1, num_layer, emb_size), minval=-1e-4, maxval=1e-4)\n",
    "    last_y1e_init = random.uniform(last_y1e_key, (Ny+1, num_layer, emb_size), minval=-1e-4, maxval=1e-4)\n",
    "    last_y2_init = random.uniform(last_y2_key, (Ny, num_layer, emb_size), minval=-1e-4, maxval=1e-4)\n",
    "    t_alpha_init_x, t_alpha_init_y, t_beta_init_x, t_beta_init_y = jnp.zeros((Nx, num_layer, h_size)), jnp.zeros((Ny, num_layer, h_size)), jnp.zeros((Nx, num_layer, h_size)), jnp.zeros((Ny, num_layer, h_size))\n",
    "    t_xout = random.normal(key_tout, (Ny, Nx, num_layer, emb_size, 2*emb_size))\n",
    "    t_alphaout = random.normal(key_talpha_out, (Ny, Nx, num_layer, h_size, 2*h_size))\n",
    "    t_betaout = random.normal(key_tbeta_out, (Ny, Nx, num_layer, h_size, 2*h_size))\n",
    "    c_xout = random.normal(key_cxout, (Ny, Nx, num_layer, emb_size, 2*emb_size))    \n",
    "    emb_size, h_size = 2*emb_size, 2*h_size #tensor product the input from two directions and concantenate the hidden state\n",
    "    wln_in, bln_in, wln_out, bln_out = jnp.ones((Ny, Nx, emb_size)), jnp.zeros((Ny, Nx, emb_size)), jnp.ones((Ny, Nx, emb_size)), jnp.zeros((Ny, Nx, emb_size))  #in&out layer_norm params\n",
    "    wln, bln = jnp.ones((2, Ny, Nx, num_layer, emb_size)), jnp.zeros((2, Ny, Nx, num_layer, emb_size))  #time&channel layer_norm params\n",
    "\n",
    "    # time mixing params\n",
    "    decay = jnp.tile(-5 + jnp.array([8*(jnp.arange(h_size)/(h_size-1))**(0.7 + 1.3*i/(num_layer-1)) for i in range(num_layer)]), (Ny, Nx, 1, 1))\n",
    "    bonus = jnp.tile(0.5*(jnp.arange(h_size)%3-1)+jnp.log(0.3), (Ny, Nx, num_layer, 1))\n",
    "    t_mix_k = jnp.tile(jnp.array([(jnp.arange(emb_size) / emb_size) ** (1 - i / num_layer) for i in range(num_layer)]), (Ny, Nx, 1, 1))\n",
    "    t_mix_v = t_mix_k + jnp.transpose(jnp.tile(jnp.arange(num_layer) * 0.3 / (num_layer - 1), (Ny, Nx, emb_size, 1)), (0, 1, 3, 2))\n",
    "    t_mix_r = 0.5 * t_mix_k\n",
    "    t_wk, t_wv, t_wr = jnp.zeros((Ny, Nx, num_layer, h_size, emb_size)), jnp.zeros((Ny, Nx, num_layer, h_size, emb_size)), jnp.zeros((Ny, Nx, num_layer, h_size, emb_size))\n",
    "    t_wout = jnp.sqrt(h_size/emb_size)*random.normal(key_tout, (Ny, Nx, num_layer, emb_size, h_size))\n",
    "    t_wlast_x = random.normal(key_tlast_x, (Ny, Nx, num_layer, emb_size, 2*emb_size)) #since last_x is twice larger than x\n",
    "\n",
    "    # channel mixing params\n",
    "    c_mix_k, c_mix_r = t_mix_k, t_mix_k\n",
    "    c_wr, c_wv, c_wk = jnp.zeros((Ny, Nx, num_layer, emb_size, emb_size)), jnp.zeros((Ny, Nx, num_layer, emb_size, emb_size)), jnp.zeros((Ny, Nx, num_layer, emb_size, emb_size))\n",
    "    c_wlast_x = random.normal(key_clast_x, (Ny, Nx, num_layer, emb_size, 2*emb_size)) #since last_x is twice larger than x\n",
    "    # output params\n",
    "    whead, bhead = jnp.tile(jnp.eye(emb_size), (Ny, Nx, 1, 1)), jnp.zeros((Ny, Nx, emb_size))\n",
    "    wprob, bprob, wphase, bphase = jnp.zeros((out_size, emb_size)), jnp.zeros((out_size)), jnp.zeros((out_size, emb_size)), jnp.zeros((out_size))\n",
    "    RWKV_cell_params = wln[0], bln[0], wln[1], bln[1], decay, bonus, t_mix_r, t_mix_v, t_mix_k, t_wr, t_wv, t_wk, t_wout, t_wlast_x, c_mix_k, c_mix_r, c_wr, c_wv, c_wk, c_wlast_x, t_xout, t_alphaout, t_betaout, c_xout\n",
    "\n",
    "    return (wemb, x_init, y_init, last_x1_init, last_x2_init, last_y1s_init, last_y1e_init, last_y2_init, t_alpha_init_x, t_alpha_init_y, t_beta_init_x, t_beta_init_y,  wln_in, bln_in, wln_out, bln_out, whead, bhead, wprob, bprob, wphase, bphase, RWKV_cell_params)"
   ]
  },
  {
   "cell_type": "code",
   "outputs": [],
   "source": [
    "def int_to_binary_array(x, num_bits):\n",
    "    \"\"\"\n",
    "    Converts an array of integers to their binary representation arrays with a fixed number of bits.\n",
    "    This function is designed to be compatible with Jax's vmap for vectorization over an array of integers.\n",
    "\n",
    "    Parameters:\n",
    "    - x: An array of integers, the numbers to convert.\n",
    "    - num_bits: Integer, the fixed number of bits for the binary representation.\n",
    "\n",
    "    Returns:\n",
    "    - A 2D Jax array where each row is the binary representation of an integer in 'x'.\n",
    "    \"\"\"\n",
    "    # Create an array of bit positions: [2^(num_bits-1), 2^(num_bits-2), ..., 1]\n",
    "    powers_of_two = 2 ** jnp.arange(num_bits - 1, -1, -1)\n",
    "\n",
    "    # Expand dims of x and powers_of_two for broadcasting\n",
    "    x_expanded = x[:, None]\n",
    "    powers_of_two_expanded = powers_of_two[None, :]\n",
    "\n",
    "    # Perform bitwise AND between each number and each power of two, then right shift to get the bit value\n",
    "    binary_matrix = (x_expanded & powers_of_two_expanded) >> jnp.arange(num_bits - 1, -1, -1)\n",
    "\n",
    "    return binary_matrix.astype(jnp.int32)  # Ensure the result is integer\n",
    "\n",
    "\n",
    "def binary_array_to_int(binary_array, num_bits):\n",
    "    \"\"\"\n",
    "    Converts a 2D array of binary representations to their decimal equivalents.\n",
    "\n",
    "    Parameters:\n",
    "    - binary_array: A 2D Jax array where each row represents a binary number.\n",
    "\n",
    "    Returns:\n",
    "    - A 1D Jax array of integers, the decimal equivalents of the binary representations.\n",
    "    \"\"\"\n",
    "    powers_of_two = 2 ** jnp.arange(num_bits - 1, -1, -1)\n",
    "    # Multiply each bit by its corresponding power of two and sum the results\n",
    "    decimals = jnp.dot(binary_array, powers_of_two)\n",
    "    return decimals"
   ],
   "metadata": {
    "collapsed": false,
    "ExecuteTime": {
     "end_time": "2024-03-13T17:18:27.651828600Z",
     "start_time": "2024-03-13T17:18:27.641684600Z"
    }
   },
   "id": "f428421532caf1a5",
   "execution_count": 2
  },
  {
   "cell_type": "code",
   "outputs": [],
   "source": [
    "from functools import partial\n",
    "from jax.lax import scan\n",
    "from jax.random import categorical\n",
    "\n",
    "@partial(jax.jit, static_argnames=['fixed_params'])\n",
    "def sample_prob(params, fixed_params, ny_nx_indices, key):\n",
    "\n",
    "    Ny, Nx, py, px, mag_fixed, magnetization, num_layer = fixed_params\n",
    "    int_to_binary = partial(int_to_binary_array, num_bits=px * py)\n",
    "    \n",
    "    def scan_fun_1d(carry_1d, indices):\n",
    "        ny, nx = indices\n",
    "        \n",
    "        input_x, input_yi, last_x1, last_x1s, last_x1e, last_x2, last_y1i, last_y2i, t_alpha_state_x1, t_beta_state_x1, t_alpha_state_yi, t_beta_state_yi, key = carry_1d\n",
    "    \n",
    "        rnn_input = jnp.concatenate((input_yi, input_x[nx]), axis=0)\n",
    "        last_state = jnp.concatenate((last_y2i, last_x1s[nx], last_x2[nx], last_x1e[nx]), axis=1)\n",
    "        t_alpha_state = jnp.concatenate((t_alpha_state_yi, t_alpha_state_x1[nx]), axis=1)\n",
    "        t_beta_state = jnp.concatenate((t_beta_state_yi, t_beta_state_x1[nx]), axis=1)\n",
    "        x, t_states, c_states, prob, phase = RWKV_step(rnn_input, (last_state, t_alpha_state, t_beta_state), (last_state), num_layer, RWKV_net_params, jnp.array([ny, nx]))\n",
    "\n",
    "        key, subkey = split(key)\n",
    "        block_sample = categorical(subkey, jnp.log(prob))\n",
    "        probs, phase = prob[block_sample], phase[block_sample]\n",
    "        last_y2i = last_y1i\n",
    "        last_y1i, t_alpha_state_yi, t_beta_state_yi= t_states\n",
    "        input_yi = wemb[block_sample]\n",
    "        return (input_x, input_yi, last_x1, last_x1s, last_x1e, last_x2, last_y1i, last_y2i, t_alpha_state_x1, t_beta_state_x1, t_alpha_state_yi, t_beta_state_yi, key), (last_y1i, t_alpha_state_yi, t_beta_state_yi, block_sample, probs, phase)\n",
    "\n",
    "    def scan_fun_2d(carry_2d, indices):  # indices:[[0,0], [0,1], [0,2]...[0,Nx-1]]\n",
    "\n",
    "        input_x, input_y, last_x1, last_x2, last_y1s, last_y1e, last_y2, t_alpha_state_x, t_beta_state_x, t_alpha_state_y, t_beta_state_y ,key = carry_2d\n",
    "        ## The shape of last_y1s, last_y1e are (Ny+1) \n",
    "        index = indices[0, 0]\n",
    "        print(last_y1s[index][None, ...].shape)\n",
    "        print(last_x1[:-1].shape)\n",
    "        last_x1s = jnp.concatenate((last_y1s[index][None, ...], last_x1[:-1]), axis=0)\n",
    "        last_x1e = jnp.concatenate((last_x1[1:], last_y1e[index][None, ...]), axis=0)\n",
    "        carry_1d = input_x, input_y[index], last_x1, last_x1s, last_x1e, last_x2, last_y1e[index+1], last_y2[index], t_alpha_state_x, t_beta_state_x, t_alpha_state_y[index], t_beta_state_y[index], key\n",
    "        _, y = scan(scan_fun_1d, carry_1d, indices)\n",
    "        '''\n",
    "        The stacked y1i becomes the x1 in the next row\n",
    "        The stacked y2i becomes the x2e in the next row\n",
    "        '''\n",
    "        last_x2 = last_x1 # x2 for the next row\n",
    "        last_x1, t_alpha_state_x1, t_beta_state_x1, row_block_sample, row_prob, row_phase = y\n",
    "        key = _[-1]\n",
    "        last_x2 = jnp.flip(last_x2, 0)\n",
    "        last_x1 = jnp.flip(last_x1, 0)\n",
    "        t_alpha_state_x1 = jnp.flip(t_alpha_state_x1, 0)\n",
    "        t_beta_state_x1 = jnp.flip(t_beta_state_x1, 0)\n",
    "        input_x = wemb[jnp.flip(row_block_sample)]\n",
    "        row_block_sample = lax.cond(index % 2, lambda x: jnp.flip(x, 0), lambda x: x, row_block_sample)\n",
    "        row_prob = lax.cond(index % 2, lambda x: jnp.flip(x, 0), lambda x: x, row_prob)\n",
    "        row_phase = lax.cond(index % 2, lambda x: jnp.flip(x, 0), lambda x: x, row_phase)\n",
    "\n",
    "        return (input_x, input_y, last_x1, last_x2, last_y1s, last_y1e, last_y2, t_alpha_state_x1, t_beta_state_x1, t_alpha_state_y, t_beta_state_y, key), (row_block_sample, row_prob, row_phase)\n",
    "\n",
    "    # initialization\n",
    "    wemb = params[0]\n",
    "    init = (*params[1:12], key)\n",
    "    RWKV_net_params = params[12:]\n",
    "    __, (samples, probs, phase) = scan(scan_fun_2d, init, ny_nx_indices)\n",
    "    samples = vmap(int_to_binary, 0)(samples).reshape(Ny*py, Nx*px)\n",
    "    log_probs, phase = jnp.sum(jnp.log(probs)), jnp.sum(phase)\n",
    "    samples_log_amp = log_probs / 2 + phase * 1j\n",
    "\n",
    "    return samples, samples_log_amp\n",
    "\n"
   ],
   "metadata": {
    "collapsed": false,
    "ExecuteTime": {
     "end_time": "2024-03-13T17:33:34.509497200Z",
     "start_time": "2024-03-13T17:33:34.490373300Z"
    }
   },
   "id": "d6ba8417e0ec7d63",
   "execution_count": 13
  },
  {
   "cell_type": "code",
   "outputs": [
    {
     "data": {
      "text/plain": "(Array([[0, 0, 1],\n        [0, 0, 1],\n        [0, 1, 0]], dtype=int32),\n Array(-3.1191623+0.j, dtype=complex64))"
     },
     "execution_count": 21,
     "metadata": {},
     "output_type": "execute_result"
    }
   ],
   "source": [
    "key = PRNGKey(0)\n",
    "params = init_RWKV_params(input_size=2, emb_size=8, h_size=5, num_layer=3, out_size=2, Ny=3, Nx=3, key=key)\n",
    "fixed_params = (3, 3, 1, 1, 0, 0, 3)\n",
    "ny_nx_indices = jnp.array([[[i, j] for j in range(3)] for i in range(3)])\n",
    "key = PRNGKey(0)\n",
    "sample_prob(params, fixed_params, ny_nx_indices, key)"
   ],
   "metadata": {
    "collapsed": false,
    "ExecuteTime": {
     "end_time": "2024-03-13T17:41:15.011986600Z",
     "start_time": "2024-03-13T17:41:14.987747100Z"
    }
   },
   "id": "9bd056b2d94c8b5d",
   "execution_count": 21
  },
  {
   "cell_type": "code",
   "outputs": [],
   "source": [
    "from jax import nn\n",
    "from jax import lax\n",
    "\n",
    "def time_mixing(x, t_state, decay, bonus, t_mix_k, t_mix_v, t_mix_r, t_wlast_x, Wk, Wv, Wr, Wout, t_xout, t_alphaout, t_betaout):\n",
    "    last_x, last_alpha, last_beta = t_state\n",
    "    last_x = t_wlast_x @ last_x\n",
    "    print(\"t:\", t_mix_k.shape)\n",
    "    k = Wk @ (x * t_mix_k + last_x * (1 - t_mix_k))\n",
    "    v = Wv @ (x * t_mix_v + last_x * (1 - t_mix_v))\n",
    "    r = Wr @ (x * t_mix_r + last_x * (1 - t_mix_r))\n",
    "    wkv = (last_alpha + jnp.exp(bonus + k) * v) / \\\n",
    "          (last_beta + jnp.exp(bonus + k))\n",
    "    rwkv = nn.sigmoid(r) * wkv\n",
    "\n",
    "    alpha = jnp.exp(-jnp.exp(decay)) * last_alpha + jnp.exp(k) * v\n",
    "    beta = jnp.exp(-jnp.exp(decay)) * last_beta + jnp.exp(k)\n",
    "    alpha = t_alphaout @ alpha\n",
    "    beta = t_betaout @ beta\n",
    "    x = t_xout @ x\n",
    "    return Wout @ rwkv, (x, alpha, beta)\n",
    "\n",
    "def channel_mixing(x, c_states, c_mix_k, c_mix_r, c_wlast_x, Wk, Wr, Wv, c_xout):\n",
    "    last_x = c_states #change tuple into array\n",
    "    last_x = c_wlast_x @ last_x\n",
    "\n",
    "    k = Wk @ (x * c_mix_k + last_x * (1 - c_mix_k))\n",
    "    r = Wr @ (x * c_mix_r + last_x * (1 - c_mix_r))    \n",
    "    vk = Wv @ nn.relu(k) ** 2\n",
    "    x = c_xout @ x\n",
    "    return nn.sigmoid(r) * vk, x\n",
    "\n",
    "def layer_norm(x, w, b):\n",
    "    mean = jnp.mean(x)\n",
    "    std =  jnp.sqrt((jnp.sum((x - mean)**2) + 1e-10)/(x.size-1))\n",
    "    return (x - mean)/ std * w + b\n",
    "\n",
    "def RWKV_step(x, t_states, c_states, num_layer, RWKV_net_params, indices):\n",
    "    ny, nx = indices\n",
    "    w_in, b_in, whead, bhead, w_out, b_out, wprob, bprob, wphase, bphase, RWKV_cell_params = RWKV_net_params\n",
    "    x = layer_norm(x, w_in[ny, nx], b_in[ny, nx])\n",
    "    _ , y = lax.scan(partial(RWKV_cell, params = tuple(px[nx] for px in tuple(py[ny] for py in RWKV_cell_params)), cell_t_states = t_states, cell_c_states = c_states), x, jnp.arange(num_layer))\n",
    "    x = _[0]\n",
    "    t_states, c_states = y\n",
    "    x = whead[ny, nx] @ layer_norm(x, w_out[ny, nx], b_out[ny, nx]) + bhead[ny, nx]\n",
    "    prob = nn.softmax(wprob @ x + bprob)\n",
    "    phase = 2*jnp.pi*nn.soft_sign(wphase @ x + bphase)\n",
    "    return x, t_states, c_states, prob, phase\n",
    "\n",
    "def RWKV_cell(carry, i, params, cell_t_states, cell_c_states): # carry = (x, t_states, c_states)\n",
    "    #modify it for different layer of t_state and c_state and x . \n",
    "    x = carry\n",
    "    wln_i, bln_i, wln_m, bln_m, decay, bonus, t_mix_r, t_mix_v, t_mix_k, t_wr, t_wv, t_wk, t_wout,t_wlast_x, c_mix_k, c_mix_r, c_wr, c_wv, c_wk, c_wlast_x, t_xout, t_alphaout, t_betaout, c_xout = tuple(p[i] for p in params) \n",
    "    layer_t_states = tuple(t[i] for t in cell_t_states)\n",
    "    layer_c_states = cell_c_states[i]\n",
    "\n",
    "    x_ = layer_norm(x, wln_i, bln_i)\n",
    "    dx, output_t_states = time_mixing(x_, layer_t_states, decay, bonus, t_mix_r, t_mix_v, t_mix_k, t_wlast_x, t_wr, t_wv, t_wk, t_wout,  t_xout, t_alphaout, t_betaout)\n",
    "    x = x + dx\n",
    "    x_ = layer_norm(x, wln_m, bln_m)\n",
    "    dx, output_c_states = channel_mixing(x_, layer_c_states, c_mix_k, c_mix_r, c_wlast_x, c_wr, c_wv, c_wk, c_xout)\n",
    "    x = x + dx\n",
    "    # carry need to be modified\n",
    "    return x, (output_t_states, output_c_states)"
   ],
   "metadata": {
    "collapsed": false,
    "ExecuteTime": {
     "end_time": "2024-03-13T17:41:11.804803900Z",
     "start_time": "2024-03-13T17:41:11.782518600Z"
    }
   },
   "id": "cddd5d6f80aaa5e3",
   "execution_count": 20
  },
  {
   "cell_type": "code",
   "outputs": [],
   "source": [
    "key = PRNGKey(0)\n",
    "params = init_RWKV_params(input_size=2, emb_size=5, h_size=7, num_layer=4, out_size=2, Ny=3, Nx=3, key=key)\n",
    "wemb, x_init, y_init, last_x1_init, last_x2_init, last_y1s_init, last_y1e_init, last_y2_init, t_alpha_init_x, t_alpha_init_y, t_beta_init_x, t_beta_init_y,  wln_in, bln_in, wln_out, bln_out, whead, bhead, wprob, bprob, wphase, bphase, RWKV_cell_params = params\n",
    "x = jnp.concatenate((wemb[0], wemb[1]), axis = 0)\n",
    "last_x = jnp.concatenate((last_y2_init[0], last_y1s_init[0], last_x2_init[0], last_x1_init[1]), axis = 1)\n",
    "t_alpha_init = jnp.concatenate((t_alpha_init_x[0], t_alpha_init_y[0]), axis = 1)\n",
    "t_beta_init = jnp.concatenate((t_beta_init_x[0], t_beta_init_y[0]), axis = 1)\n"
   ],
   "metadata": {
    "collapsed": false,
    "ExecuteTime": {
     "end_time": "2024-03-13T15:29:45.543936200Z",
     "start_time": "2024-03-13T15:29:45.504513Z"
    }
   },
   "id": "dcbd00e30263c154",
   "execution_count": 289
  },
  {
   "cell_type": "code",
   "outputs": [],
   "source": [],
   "metadata": {
    "collapsed": false,
    "ExecuteTime": {
     "end_time": "2024-03-13T14:58:40.885033600Z",
     "start_time": "2024-03-13T14:58:40.859236400Z"
    }
   },
   "id": "bb617501e9f99cbe",
   "execution_count": 264
  },
  {
   "cell_type": "code",
   "outputs": [
    {
     "name": "stdout",
     "output_type": "stream",
     "text": [
      "(3, 3, 4, 10)\n",
      "(3, 3, 4, 10)\n",
      "(3, 3, 4, 10)\n",
      "(3, 3, 4, 10)\n",
      "(3, 3, 4, 14)\n",
      "(3, 3, 4, 14)\n",
      "(3, 3, 4, 10)\n",
      "(3, 3, 4, 10)\n",
      "(3, 3, 4, 10)\n",
      "(3, 3, 4, 14, 10)\n",
      "(3, 3, 4, 14, 10)\n",
      "(3, 3, 4, 14, 10)\n",
      "(3, 3, 4, 10, 14)\n",
      "(3, 3, 4, 10, 20)\n",
      "(3, 3, 4, 10)\n",
      "(3, 3, 4, 10)\n",
      "(3, 3, 4, 10, 10)\n",
      "(3, 3, 4, 10, 10)\n",
      "(3, 3, 4, 10, 10)\n",
      "(3, 3, 4, 10, 20)\n"
     ]
    }
   ],
   "source": [
    "wln_i, bln_i, wln_m, bln_m, decay, bonus, t_mix_r, t_mix_v, t_mix_k, t_wr, t_wv, t_wk, t_wout,t_wlast_x, c_mix_k, c_mix_r, c_wr, c_wv, c_wk, c_wlast_x = RWKV_cell_params\n",
    "for params in RWKV_cell_params:\n",
    "    print(params.shape)"
   ],
   "metadata": {
    "collapsed": false,
    "ExecuteTime": {
     "end_time": "2024-03-13T14:58:41.060615200Z",
     "start_time": "2024-03-13T14:58:41.034707100Z"
    }
   },
   "id": "75e8ea833fc44269",
   "execution_count": 265
  },
  {
   "cell_type": "code",
   "outputs": [
    {
     "name": "stdout",
     "output_type": "stream",
     "text": [
      "(3, 4, 10, 20)\n",
      "(3, 4, 10, 20)\n",
      "(2,)\n",
      "(3, 4, 10, 20)\n",
      "(3, 4, 10, 20)\n",
      "(2,)\n"
     ]
    },
    {
     "ename": "ValueError",
     "evalue": "not enough values to unpack (expected 12, got 3)",
     "output_type": "error",
     "traceback": [
      "\u001B[1;31m---------------------------------------------------------------------------\u001B[0m",
      "\u001B[1;31mValueError\u001B[0m                                Traceback (most recent call last)",
      "Cell \u001B[1;32mIn[266], line 4\u001B[0m\n\u001B[0;32m      2\u001B[0m ny_nx_indices \u001B[38;5;241m=\u001B[39m jnp\u001B[38;5;241m.\u001B[39marray([[[i, j] \u001B[38;5;28;01mfor\u001B[39;00m j \u001B[38;5;129;01min\u001B[39;00m \u001B[38;5;28mrange\u001B[39m(\u001B[38;5;241m3\u001B[39m)] \u001B[38;5;28;01mfor\u001B[39;00m i \u001B[38;5;129;01min\u001B[39;00m \u001B[38;5;28mrange\u001B[39m(\u001B[38;5;241m3\u001B[39m)])\n\u001B[0;32m      3\u001B[0m key \u001B[38;5;241m=\u001B[39m PRNGKey(\u001B[38;5;241m0\u001B[39m)\n\u001B[1;32m----> 4\u001B[0m \u001B[43msample_prob\u001B[49m\u001B[43m(\u001B[49m\u001B[43mparams\u001B[49m\u001B[43m,\u001B[49m\u001B[43m \u001B[49m\u001B[43mfixed_params\u001B[49m\u001B[43m,\u001B[49m\u001B[43m \u001B[49m\u001B[43mny_nx_indices\u001B[49m\u001B[43m,\u001B[49m\u001B[43m \u001B[49m\u001B[43mkey\u001B[49m\u001B[43m)\u001B[49m\n",
      "    \u001B[1;31m[... skipping hidden 12 frame]\u001B[0m\n",
      "Cell \u001B[1;32mIn[262], line 65\u001B[0m, in \u001B[0;36msample_prob\u001B[1;34m(params, fixed_params, ny_nx_indices, key)\u001B[0m\n\u001B[0;32m     63\u001B[0m \u001B[38;5;28;01mfor\u001B[39;00m i \u001B[38;5;129;01min\u001B[39;00m init:\n\u001B[0;32m     64\u001B[0m     \u001B[38;5;28mprint\u001B[39m(i\u001B[38;5;241m.\u001B[39mshape)\n\u001B[1;32m---> 65\u001B[0m __, (samples, probs, phase) \u001B[38;5;241m=\u001B[39m \u001B[43mscan\u001B[49m\u001B[43m(\u001B[49m\u001B[43mscan_fun_2d\u001B[49m\u001B[43m,\u001B[49m\u001B[43m \u001B[49m\u001B[43minit\u001B[49m\u001B[43m,\u001B[49m\u001B[43m \u001B[49m\u001B[43mny_nx_indices\u001B[49m\u001B[43m)\u001B[49m\n\u001B[0;32m     66\u001B[0m samples \u001B[38;5;241m=\u001B[39m vmap(int_to_binary, \u001B[38;5;241m0\u001B[39m)(samples)\u001B[38;5;241m.\u001B[39mreshape(Ny\u001B[38;5;241m*\u001B[39mpy, Nx\u001B[38;5;241m*\u001B[39mpx)\n\u001B[0;32m     67\u001B[0m log_probs, phase \u001B[38;5;241m=\u001B[39m jnp\u001B[38;5;241m.\u001B[39msum(jnp\u001B[38;5;241m.\u001B[39mlog(probs)), jnp\u001B[38;5;241m.\u001B[39msum(phase)\n",
      "    \u001B[1;31m[... skipping hidden 9 frame]\u001B[0m\n",
      "Cell \u001B[1;32mIn[262], line 34\u001B[0m, in \u001B[0;36msample_prob.<locals>.scan_fun_2d\u001B[1;34m(carry_2d, indices)\u001B[0m\n\u001B[0;32m     32\u001B[0m \u001B[38;5;28;01mfor\u001B[39;00m i \u001B[38;5;129;01min\u001B[39;00m carry_2d:\n\u001B[0;32m     33\u001B[0m     \u001B[38;5;28mprint\u001B[39m(i\u001B[38;5;241m.\u001B[39mshape)\n\u001B[1;32m---> 34\u001B[0m input_x, input_y, last_x1, last_x2, last_y1s, last_y1e, last_y2, t_alpha_state_x, t_beta_state_x, t_alpha_state_y, t_beta_state_y ,key \u001B[38;5;241m=\u001B[39m carry_2d\n\u001B[0;32m     35\u001B[0m \u001B[38;5;66;03m## The shape of last_y1s, last_y1e are (Ny+1) \u001B[39;00m\n\u001B[0;32m     36\u001B[0m index \u001B[38;5;241m=\u001B[39m indices[\u001B[38;5;241m0\u001B[39m, \u001B[38;5;241m0\u001B[39m]\n",
      "\u001B[1;31mValueError\u001B[0m: not enough values to unpack (expected 12, got 3)"
     ]
    }
   ],
   "source": [
    "fixed_params = (3, 3, 1, 1, 0, 0, 4)\n",
    "ny_nx_indices = jnp.array([[[i, j] for j in range(3)] for i in range(3)])\n",
    "key = PRNGKey(0)\n",
    "sample_prob(params, fixed_params, ny_nx_indices, key)"
   ],
   "metadata": {
    "collapsed": false,
    "ExecuteTime": {
     "end_time": "2024-03-13T14:58:42.280455Z",
     "start_time": "2024-03-13T14:58:42.192895500Z"
    }
   },
   "id": "73dc3b1f37e94589",
   "execution_count": 266
  },
  {
   "cell_type": "code",
   "outputs": [
    {
     "data": {
      "text/plain": "Array([[-5.        , -2.4069493 , -0.7875767 ,  0.5949459 ,  1.8431015 ,\n         3.        ],\n       [-5.        , -4.68      , -3.7199998 , -2.12      ,  0.12000036,\n         3.        ]], dtype=float32)"
     },
     "execution_count": 4,
     "metadata": {},
     "output_type": "execute_result"
    }
   ],
   "source": [
    "import jax\n",
    "import jax.numpy as jnp\n",
    "h_size = 6\n",
    "num_layer = 2 \n",
    "(-5 + jnp.array([8*(jnp.arange(h_size)/(h_size-1))**(0.7 + 1.3*i/(num_layer-1)) for i in range(num_layer)]))"
   ],
   "metadata": {
    "collapsed": false,
    "ExecuteTime": {
     "end_time": "2024-03-16T08:51:10.898462700Z",
     "start_time": "2024-03-16T08:51:10.873729100Z"
    }
   },
   "id": "17f2286eca8b8067",
   "execution_count": 4
  },
  {
   "cell_type": "code",
   "outputs": [
    {
     "data": {
      "text/plain": "Array([-1.7039728, -1.2039728, -0.7039728, -1.7039728, -1.2039728,\n       -0.7039728], dtype=float32, weak_type=True)"
     },
     "execution_count": 3,
     "metadata": {},
     "output_type": "execute_result"
    }
   ],
   "source": [
    "0.5*(jnp.arange(h_size)%3-1)+jnp.log(0.3)"
   ],
   "metadata": {
    "collapsed": false,
    "ExecuteTime": {
     "end_time": "2024-03-15T16:47:44.421286200Z",
     "start_time": "2024-03-15T16:47:44.282894Z"
    }
   },
   "id": "cfa3482442f25ca8",
   "execution_count": 3
  },
  {
   "cell_type": "code",
   "outputs": [],
   "source": [
    "a = jnp.array([1,2,3,4])\n",
    "b = a[:2]\n",
    "b = jnp.array([1, 2])"
   ],
   "metadata": {
    "collapsed": false,
    "ExecuteTime": {
     "end_time": "2024-03-16T08:51:32.958091600Z",
     "start_time": "2024-03-16T08:51:32.850042800Z"
    }
   },
   "id": "305a2f683f3573c2",
   "execution_count": 5
  },
  {
   "cell_type": "code",
   "outputs": [
    {
     "ename": "TypeError",
     "evalue": "'<class 'jaxlib.xla_extension.ArrayImpl'>' object does not support item assignment. JAX arrays are immutable. Instead of ``x[idx] = y``, use ``x = x.at[idx].set(y)`` or another .at[] method: https://jax.readthedocs.io/en/latest/_autosummary/jax.numpy.ndarray.at.html",
     "output_type": "error",
     "traceback": [
      "\u001B[1;31m---------------------------------------------------------------------------\u001B[0m",
      "\u001B[1;31mTypeError\u001B[0m                                 Traceback (most recent call last)",
      "Cell \u001B[1;32mIn[6], line 1\u001B[0m\n\u001B[1;32m----> 1\u001B[0m a[:\u001B[38;5;241m2\u001B[39m] \u001B[38;5;241m=\u001B[39m jnp\u001B[38;5;241m.\u001B[39marray([\u001B[38;5;241m1\u001B[39m,\u001B[38;5;241m2\u001B[39m])\n",
      "File \u001B[1;32m~\\anaconda3\\lib\\site-packages\\jax\\_src\\numpy\\array_methods.py:270\u001B[0m, in \u001B[0;36m_unimplemented_setitem\u001B[1;34m(self, i, x)\u001B[0m\n\u001B[0;32m    265\u001B[0m \u001B[38;5;28;01mdef\u001B[39;00m \u001B[38;5;21m_unimplemented_setitem\u001B[39m(\u001B[38;5;28mself\u001B[39m, i, x):\n\u001B[0;32m    266\u001B[0m   msg \u001B[38;5;241m=\u001B[39m (\u001B[38;5;124m\"\u001B[39m\u001B[38;5;124m'\u001B[39m\u001B[38;5;132;01m{}\u001B[39;00m\u001B[38;5;124m'\u001B[39m\u001B[38;5;124m object does not support item assignment. JAX arrays are \u001B[39m\u001B[38;5;124m\"\u001B[39m\n\u001B[0;32m    267\u001B[0m          \u001B[38;5;124m\"\u001B[39m\u001B[38;5;124mimmutable. Instead of ``x[idx] = y``, use ``x = x.at[idx].set(y)`` \u001B[39m\u001B[38;5;124m\"\u001B[39m\n\u001B[0;32m    268\u001B[0m          \u001B[38;5;124m\"\u001B[39m\u001B[38;5;124mor another .at[] method: \u001B[39m\u001B[38;5;124m\"\u001B[39m\n\u001B[0;32m    269\u001B[0m          \u001B[38;5;124m\"\u001B[39m\u001B[38;5;124mhttps://jax.readthedocs.io/en/latest/_autosummary/jax.numpy.ndarray.at.html\u001B[39m\u001B[38;5;124m\"\u001B[39m)\n\u001B[1;32m--> 270\u001B[0m   \u001B[38;5;28;01mraise\u001B[39;00m \u001B[38;5;167;01mTypeError\u001B[39;00m(msg\u001B[38;5;241m.\u001B[39mformat(\u001B[38;5;28mtype\u001B[39m(\u001B[38;5;28mself\u001B[39m)))\n",
      "\u001B[1;31mTypeError\u001B[0m: '<class 'jaxlib.xla_extension.ArrayImpl'>' object does not support item assignment. JAX arrays are immutable. Instead of ``x[idx] = y``, use ``x = x.at[idx].set(y)`` or another .at[] method: https://jax.readthedocs.io/en/latest/_autosummary/jax.numpy.ndarray.at.html"
     ]
    }
   ],
   "source": [
    "a[:2] = jnp.array([1, 2])"
   ],
   "metadata": {
    "collapsed": false,
    "ExecuteTime": {
     "end_time": "2024-03-16T08:51:44.948876200Z",
     "start_time": "2024-03-16T08:51:43.003357100Z"
    }
   },
   "id": "c20f2cd7fe643b2d",
   "execution_count": 6
  },
  {
   "cell_type": "code",
   "outputs": [],
   "source": [],
   "metadata": {
    "collapsed": false
   },
   "id": "cc2efc7f49327368"
  }
 ],
 "metadata": {
  "kernelspec": {
   "display_name": "Python 3",
   "language": "python",
   "name": "python3"
  },
  "language_info": {
   "codemirror_mode": {
    "name": "ipython",
    "version": 2
   },
   "file_extension": ".py",
   "mimetype": "text/x-python",
   "name": "python",
   "nbconvert_exporter": "python",
   "pygments_lexer": "ipython2",
   "version": "2.7.6"
  }
 },
 "nbformat": 4,
 "nbformat_minor": 5
}
