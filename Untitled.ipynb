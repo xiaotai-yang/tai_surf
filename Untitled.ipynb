{
 "cells": [
  {
   "cell_type": "code",
   "execution_count": 15,
   "id": "220d5a6f",
   "metadata": {},
   "outputs": [],
   "source": [
    "import numpy as np\n",
    "import time"
   ]
  },
  {
   "cell_type": "code",
   "execution_count": 16,
   "id": "ffe4ef89",
   "metadata": {},
   "outputs": [
    {
     "data": {
      "text/plain": [
       "array([ 19.463558-0.01978977j,  19.3859  +0.05096235j,\n",
       "        19.420296-0.05356698j, ..., -25.44554 -0.02619374j,\n",
       "       -25.59657 -0.00822161j, -25.629745-0.00726022j], dtype=complex64)"
      ]
     },
     "execution_count": 16,
     "metadata": {},
     "output_type": "execute_result"
    }
   ],
   "source": [
    "np.load(\"Check_Points/J1J2/meanEnergy_N64_samp128_lradap0.0005_complexGRURNN_J1J20.241_units_64_zeromag.npy\")"
   ]
  },
  {
   "cell_type": "code",
   "execution_count": 19,
   "id": "4f1c24e1",
   "metadata": {},
   "outputs": [
    {
     "data": {
      "text/plain": [
       "array([ 19.448128-0.01974989j,  19.370544+0.05091987j,\n",
       "        19.404934-0.05349691j, ..., -25.617582-0.00424258j,\n",
       "       -25.695166+0.00107732j, -25.636665+0.00459602j], dtype=complex64)"
      ]
     },
     "execution_count": 19,
     "metadata": {},
     "output_type": "execute_result"
    }
   ],
   "source": [
    "np.load(\"Check_Points/J1J2/meanEnergy_N64_samp128_lradap0.0005_complexGRURNN_J1J20.24_units_64_zeromag.npy\")"
   ]
  },
  {
   "cell_type": "code",
   "execution_count": 20,
   "id": "93ec3ced",
   "metadata": {},
   "outputs": [
    {
     "data": {
      "text/plain": [
       "array([ 19.602417-0.02014877j,  19.524143+0.05143145j,\n",
       "        19.558655-0.0539176j , ..., -25.553974+0.02380841j,\n",
       "       -25.551773-0.00339204j, -25.600811+0.00493468j], dtype=complex64)"
      ]
     },
     "execution_count": 20,
     "metadata": {},
     "output_type": "execute_result"
    }
   ],
   "source": [
    "np.load(\"Check_Points/J1J2/meanEnergy_N64_samp128_lradap0.0005_complexGRURNN_J1J20.25_units_64_zeromag.npy\")"
   ]
  },
  {
   "cell_type": "code",
   "execution_count": 12,
   "id": "8538eab5",
   "metadata": {},
   "outputs": [
    {
     "data": {
      "text/plain": [
       "array([-1., -1., -1., -1., -1., -1., -1., -1., -1., -1., -1., -1., -1.,\n",
       "       -1., -1., -1., -1., -1., -1., -1.])"
      ]
     },
     "execution_count": 12,
     "metadata": {},
     "output_type": "execute_result"
    }
   ],
   "source": [
    "np.load(\"Check_Points/J1J2/meanEnergy_N64_samp128_lradap0.0005_complexGRURNN_J1J20.241_units_64_zeromag.npy\")"
   ]
  },
  {
   "cell_type": "code",
   "execution_count": 21,
   "id": "e03b365b",
   "metadata": {},
   "outputs": [
    {
     "data": {
      "text/plain": [
       "array([0.15441036, 0.14261264, 0.12402505, ..., 0.24923256, 0.18853661,\n",
       "       0.20734265], dtype=float32)"
      ]
     },
     "execution_count": 21,
     "metadata": {},
     "output_type": "execute_result"
    }
   ],
   "source": [
    "np.load(\"Check_Points/J1J2/varEnergy_N64_samp128_lradap0.0005_complexGRURNN_J1J20.241_units_64_zeromag.npy\")"
   ]
  },
  {
   "cell_type": "code",
   "execution_count": 28,
   "id": "e33deafd",
   "metadata": {},
   "outputs": [
    {
     "data": {
      "text/plain": [
       "array([0.15444773, 0.14265049, 0.12405563, ..., 0.2586221 , 0.18126974,\n",
       "       0.19805992], dtype=float32)"
      ]
     },
     "execution_count": 28,
     "metadata": {},
     "output_type": "execute_result"
    }
   ],
   "source": [
    "np.load(\"Check_Points/J1J2/varEnergy_N64_samp128_lradap0.0005_complexGRURNN_J1J20.2411_units_64_zeromag.npy\")"
   ]
  },
  {
   "cell_type": "code",
   "execution_count": 31,
   "id": "92c1ce89",
   "metadata": {},
   "outputs": [
    {
     "data": {
      "text/plain": [
       "(array([0], dtype=int64),)"
      ]
     },
     "execution_count": 31,
     "metadata": {},
     "output_type": "execute_result"
    }
   ],
   "source": [
    "a = np.array([1,2,3])\n",
    "b = np.array([1])\n",
    "np.where(a==b)"
   ]
  },
  {
   "cell_type": "code",
   "execution_count": null,
   "id": "7302150a",
   "metadata": {},
   "outputs": [],
   "source": []
  }
 ],
 "metadata": {
  "kernelspec": {
   "display_name": "Python 3 (ipykernel)",
   "language": "python",
   "name": "python3"
  },
  "language_info": {
   "codemirror_mode": {
    "name": "ipython",
    "version": 3
   },
   "file_extension": ".py",
   "mimetype": "text/x-python",
   "name": "python",
   "nbconvert_exporter": "python",
   "pygments_lexer": "ipython3",
   "version": "3.10.9"
  }
 },
 "nbformat": 4,
 "nbformat_minor": 5
}
