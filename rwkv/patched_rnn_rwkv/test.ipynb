{
 "cells": [
  {
   "cell_type": "code",
   "execution_count": 1,
   "id": "initial_id",
   "metadata": {
    "collapsed": true,
    "ExecuteTime": {
     "end_time": "2024-03-13T17:18:27.641114Z",
     "start_time": "2024-03-13T17:18:26.902246800Z"
    }
   },
   "outputs": [],
   "source": [
    "import jax\n",
    "import jax.numpy as jnp\n",
    "from jax import random, grad, jit, vmap\n",
    "from jax.random import split, PRNGKey\n",
    "def init_RWKV_params(input_size, emb_size, h_size,  num_layer, out_size, Ny, Nx, key):\n",
    "    key, emb_key, init_x_key, init_y_key, last_x1_key, last_x2_key, last_y1s_key, last_y1e_key, last_y2_key, key_tout, key_txout, key_talpha_out, key_tbeta_out, key_tlast_x, key_clast_x, key_cxout = split(key, 16)\n",
    "    wemb = random.uniform(emb_key, (input_size, emb_size), minval=-1e-4, maxval=1e-4) #input hasn't been connected\n",
    "    x_init = random.uniform(init_x_key, (Nx, emb_size), minval=-1e-4, maxval=1e-4)\n",
    "    y_init = random.uniform(init_y_key, (Ny, emb_size), minval=-1e-4, maxval=1e-4)\n",
    "    last_x1_init = random.uniform(last_x1_key, (Nx, num_layer, emb_size), minval=-1e-4, maxval=1e-4)\n",
    "    last_x2_init = random.uniform(last_x2_key, (Nx, num_layer, emb_size), minval=-1e-4, maxval=1e-4)\n",
    "    last_y1s_init = random.uniform(last_y1s_key, (Ny+1, num_layer, emb_size), minval=-1e-4, maxval=1e-4)\n",
    "    last_y1e_init = random.uniform(last_y1e_key, (Ny+1, num_layer, emb_size), minval=-1e-4, maxval=1e-4)\n",
    "    last_y2_init = random.uniform(last_y2_key, (Ny, num_layer, emb_size), minval=-1e-4, maxval=1e-4)\n",
    "    t_alpha_init_x, t_alpha_init_y, t_beta_init_x, t_beta_init_y = jnp.zeros((Nx, num_layer, h_size)), jnp.zeros((Ny, num_layer, h_size)), jnp.zeros((Nx, num_layer, h_size)), jnp.zeros((Ny, num_layer, h_size))\n",
    "    t_xout = random.normal(key_tout, (Ny, Nx, num_layer, emb_size, 2*emb_size))\n",
    "    t_alphaout = random.normal(key_talpha_out, (Ny, Nx, num_layer, h_size, 2*h_size))\n",
    "    t_betaout = random.normal(key_tbeta_out, (Ny, Nx, num_layer, h_size, 2*h_size))\n",
    "    c_xout = random.normal(key_cxout, (Ny, Nx, num_layer, emb_size, 2*emb_size))    \n",
    "    emb_size, h_size = 2*emb_size, 2*h_size #tensor product the input from two directions and concantenate the hidden state\n",
    "    wln_in, bln_in, wln_out, bln_out = jnp.ones((Ny, Nx, emb_size)), jnp.zeros((Ny, Nx, emb_size)), jnp.ones((Ny, Nx, emb_size)), jnp.zeros((Ny, Nx, emb_size))  #in&out layer_norm params\n",
    "    wln, bln = jnp.ones((2, Ny, Nx, num_layer, emb_size)), jnp.zeros((2, Ny, Nx, num_layer, emb_size))  #time&channel layer_norm params\n",
    "\n",
    "    # time mixing params\n",
    "    decay = jnp.tile(-5 + jnp.array([8*(jnp.arange(h_size)/(h_size-1))**(0.7 + 1.3*i/(num_layer-1)) for i in range(num_layer)]), (Ny, Nx, 1, 1))\n",
    "    bonus = jnp.tile(0.5*(jnp.arange(h_size)%3-1)+jnp.log(0.3), (Ny, Nx, num_layer, 1))\n",
    "    t_mix_k = jnp.tile(jnp.array([(jnp.arange(emb_size) / emb_size) ** (1 - i / num_layer) for i in range(num_layer)]), (Ny, Nx, 1, 1))\n",
    "    t_mix_v = t_mix_k + jnp.transpose(jnp.tile(jnp.arange(num_layer) * 0.3 / (num_layer - 1), (Ny, Nx, emb_size, 1)), (0, 1, 3, 2))\n",
    "    t_mix_r = 0.5 * t_mix_k\n",
    "    t_wk, t_wv, t_wr = jnp.zeros((Ny, Nx, num_layer, h_size, emb_size)), jnp.zeros((Ny, Nx, num_layer, h_size, emb_size)), jnp.zeros((Ny, Nx, num_layer, h_size, emb_size))\n",
    "    t_wout = jnp.sqrt(h_size/emb_size)*random.normal(key_tout, (Ny, Nx, num_layer, emb_size, h_size))\n",
    "    t_wlast_x = random.normal(key_tlast_x, (Ny, Nx, num_layer, emb_size, 2*emb_size)) #since last_x is twice larger than x\n",
    "\n",
    "    # channel mixing params\n",
    "    c_mix_k, c_mix_r = t_mix_k, t_mix_k\n",
    "    c_wr, c_wv, c_wk = jnp.zeros((Ny, Nx, num_layer, emb_size, emb_size)), jnp.zeros((Ny, Nx, num_layer, emb_size, emb_size)), jnp.zeros((Ny, Nx, num_layer, emb_size, emb_size))\n",
    "    c_wlast_x = random.normal(key_clast_x, (Ny, Nx, num_layer, emb_size, 2*emb_size)) #since last_x is twice larger than x\n",
    "    # output params\n",
    "    whead, bhead = jnp.tile(jnp.eye(emb_size), (Ny, Nx, 1, 1)), jnp.zeros((Ny, Nx, emb_size))\n",
    "    wprob, bprob, wphase, bphase = jnp.zeros((out_size, emb_size)), jnp.zeros((out_size)), jnp.zeros((out_size, emb_size)), jnp.zeros((out_size))\n",
    "    RWKV_cell_params = wln[0], bln[0], wln[1], bln[1], decay, bonus, t_mix_r, t_mix_v, t_mix_k, t_wr, t_wv, t_wk, t_wout, t_wlast_x, c_mix_k, c_mix_r, c_wr, c_wv, c_wk, c_wlast_x, t_xout, t_alphaout, t_betaout, c_xout\n",
    "\n",
    "    return (wemb, x_init, y_init, last_x1_init, last_x2_init, last_y1s_init, last_y1e_init, last_y2_init, t_alpha_init_x, t_alpha_init_y, t_beta_init_x, t_beta_init_y,  wln_in, bln_in, wln_out, bln_out, whead, bhead, wprob, bprob, wphase, bphase, RWKV_cell_params)"
   ]
  },
  {
   "cell_type": "code",
   "outputs": [],
   "source": [
    "def int_to_binary_array(x, num_bits):\n",
    "    \"\"\"\n",
    "    Converts an array of integers to their binary representation arrays with a fixed number of bits.\n",
    "    This function is designed to be compatible with Jax's vmap for vectorization over an array of integers.\n",
    "\n",
    "    Parameters:\n",
    "    - x: An array of integers, the numbers to convert.\n",
    "    - num_bits: Integer, the fixed number of bits for the binary representation.\n",
    "\n",
    "    Returns:\n",
    "    - A 2D Jax array where each row is the binary representation of an integer in 'x'.\n",
    "    \"\"\"\n",
    "    # Create an array of bit positions: [2^(num_bits-1), 2^(num_bits-2), ..., 1]\n",
    "    powers_of_two = 2 ** jnp.arange(num_bits - 1, -1, -1)\n",
    "\n",
    "    # Expand dims of x and powers_of_two for broadcasting\n",
    "    x_expanded = x[:, None]\n",
    "    powers_of_two_expanded = powers_of_two[None, :]\n",
    "\n",
    "    # Perform bitwise AND between each number and each power of two, then right shift to get the bit value\n",
    "    binary_matrix = (x_expanded & powers_of_two_expanded) >> jnp.arange(num_bits - 1, -1, -1)\n",
    "\n",
    "    return binary_matrix.astype(jnp.int32)  # Ensure the result is integer\n",
    "\n",
    "\n",
    "def binary_array_to_int(binary_array, num_bits):\n",
    "    \"\"\"\n",
    "    Converts a 2D array of binary representations to their decimal equivalents.\n",
    "\n",
    "    Parameters:\n",
    "    - binary_array: A 2D Jax array where each row represents a binary number.\n",
    "\n",
    "    Returns:\n",
    "    - A 1D Jax array of integers, the decimal equivalents of the binary representations.\n",
    "    \"\"\"\n",
    "    powers_of_two = 2 ** jnp.arange(num_bits - 1, -1, -1)\n",
    "    # Multiply each bit by its corresponding power of two and sum the results\n",
    "    decimals = jnp.dot(binary_array, powers_of_two)\n",
    "    return decimals"
   ],
   "metadata": {
    "collapsed": false,
    "ExecuteTime": {
     "end_time": "2024-03-13T17:18:27.651828600Z",
     "start_time": "2024-03-13T17:18:27.641684600Z"
    }
   },
   "id": "f428421532caf1a5",
   "execution_count": 2
  },
  {
   "cell_type": "code",
   "outputs": [],
   "source": [
    "from functools import partial\n",
    "from jax.lax import scan\n",
    "from jax.random import categorical\n",
    "\n",
    "@partial(jax.jit, static_argnames=['fixed_params'])\n",
    "def sample_prob(params, fixed_params, ny_nx_indices, key):\n",
    "\n",
    "    Ny, Nx, py, px, mag_fixed, magnetization, num_layer = fixed_params\n",
    "    int_to_binary = partial(int_to_binary_array, num_bits=px * py)\n",
    "    \n",
    "    def scan_fun_1d(carry_1d, indices):\n",
    "        ny, nx = indices\n",
    "        \n",
    "        input_x, input_yi, last_x1, last_x1s, last_x1e, last_x2, last_y1i, last_y2i, t_alpha_state_x1, t_beta_state_x1, t_alpha_state_yi, t_beta_state_yi, key = carry_1d\n",
    "    \n",
    "        rnn_input = jnp.concatenate((input_yi, input_x[nx]), axis=0)\n",
    "        last_state = jnp.concatenate((last_y2i, last_x1s[nx], last_x2[nx], last_x1e[nx]), axis=1)\n",
    "        t_alpha_state = jnp.concatenate((t_alpha_state_yi, t_alpha_state_x1[nx]), axis=1)\n",
    "        t_beta_state = jnp.concatenate((t_beta_state_yi, t_beta_state_x1[nx]), axis=1)\n",
    "        x, t_states, c_states, prob, phase = RWKV_step(rnn_input, (last_state, t_alpha_state, t_beta_state), (last_state), num_layer, RWKV_net_params, jnp.array([ny, nx]))\n",
    "\n",
    "        key, subkey = split(key)\n",
    "        block_sample = categorical(subkey, jnp.log(prob))\n",
    "        probs, phase = prob[block_sample], phase[block_sample]\n",
    "        last_y2i = last_y1i\n",
    "        last_y1i, t_alpha_state_yi, t_beta_state_yi= t_states\n",
    "        input_yi = wemb[block_sample]\n",
    "        return (input_x, input_yi, last_x1, last_x1s, last_x1e, last_x2, last_y1i, last_y2i, t_alpha_state_x1, t_beta_state_x1, t_alpha_state_yi, t_beta_state_yi, key), (last_y1i, t_alpha_state_yi, t_beta_state_yi, block_sample, probs, phase)\n",
    "\n",
    "    def scan_fun_2d(carry_2d, indices):  # indices:[[0,0], [0,1], [0,2]...[0,Nx-1]]\n",
    "\n",
    "        input_x, input_y, last_x1, last_x2, last_y1s, last_y1e, last_y2, t_alpha_state_x, t_beta_state_x, t_alpha_state_y, t_beta_state_y ,key = carry_2d\n",
    "        ## The shape of last_y1s, last_y1e are (Ny+1) \n",
    "        index = indices[0, 0]\n",
    "        print(last_y1s[index][None, ...].shape)\n",
    "        print(last_x1[:-1].shape)\n",
    "        last_x1s = jnp.concatenate((last_y1s[index][None, ...], last_x1[:-1]), axis=0)\n",
    "        last_x1e = jnp.concatenate((last_x1[1:], last_y1e[index][None, ...]), axis=0)\n",
    "        carry_1d = input_x, input_y[index], last_x1, last_x1s, last_x1e, last_x2, last_y1e[index+1], last_y2[index], t_alpha_state_x, t_beta_state_x, t_alpha_state_y[index], t_beta_state_y[index], key\n",
    "        _, y = scan(scan_fun_1d, carry_1d, indices)\n",
    "        '''\n",
    "        The stacked y1i becomes the x1 in the next row\n",
    "        The stacked y2i becomes the x2e in the next row\n",
    "        '''\n",
    "        last_x2 = last_x1 # x2 for the next row\n",
    "        last_x1, t_alpha_state_x1, t_beta_state_x1, row_block_sample, row_prob, row_phase = y\n",
    "        key = _[-1]\n",
    "        last_x2 = jnp.flip(last_x2, 0)\n",
    "        last_x1 = jnp.flip(last_x1, 0)\n",
    "        t_alpha_state_x1 = jnp.flip(t_alpha_state_x1, 0)\n",
    "        t_beta_state_x1 = jnp.flip(t_beta_state_x1, 0)\n",
    "        input_x = wemb[jnp.flip(row_block_sample)]\n",
    "        row_block_sample = lax.cond(index % 2, lambda x: jnp.flip(x, 0), lambda x: x, row_block_sample)\n",
    "        row_prob = lax.cond(index % 2, lambda x: jnp.flip(x, 0), lambda x: x, row_prob)\n",
    "        row_phase = lax.cond(index % 2, lambda x: jnp.flip(x, 0), lambda x: x, row_phase)\n",
    "\n",
    "        return (input_x, input_y, last_x1, last_x2, last_y1s, last_y1e, last_y2, t_alpha_state_x1, t_beta_state_x1, t_alpha_state_y, t_beta_state_y, key), (row_block_sample, row_prob, row_phase)\n",
    "\n",
    "    # initialization\n",
    "    wemb = params[0]\n",
    "    init = (*params[1:12], key)\n",
    "    RWKV_net_params = params[12:]\n",
    "    __, (samples, probs, phase) = scan(scan_fun_2d, init, ny_nx_indices)\n",
    "    samples = vmap(int_to_binary, 0)(samples).reshape(Ny*py, Nx*px)\n",
    "    log_probs, phase = jnp.sum(jnp.log(probs)), jnp.sum(phase)\n",
    "    samples_log_amp = log_probs / 2 + phase * 1j\n",
    "\n",
    "    return samples, samples_log_amp\n",
    "\n"
   ],
   "metadata": {
    "collapsed": false,
    "ExecuteTime": {
     "end_time": "2024-03-13T17:33:34.509497200Z",
     "start_time": "2024-03-13T17:33:34.490373300Z"
    }
   },
   "id": "d6ba8417e0ec7d63",
   "execution_count": 13
  },
  {
   "cell_type": "code",
   "outputs": [
    {
     "data": {
      "text/plain": "(Array([[0, 0, 1],\n        [0, 0, 1],\n        [0, 1, 0]], dtype=int32),\n Array(-3.1191623+0.j, dtype=complex64))"
     },
     "execution_count": 21,
     "metadata": {},
     "output_type": "execute_result"
    }
   ],
   "source": [
    "key = PRNGKey(0)\n",
    "params = init_RWKV_params(input_size=2, emb_size=8, h_size=5, num_layer=3, out_size=2, Ny=3, Nx=3, key=key)\n",
    "fixed_params = (3, 3, 1, 1, 0, 0, 3)\n",
    "ny_nx_indices = jnp.array([[[i, j] for j in range(3)] for i in range(3)])\n",
    "key = PRNGKey(0)\n",
    "sample_prob(params, fixed_params, ny_nx_indices, key)"
   ],
   "metadata": {
    "collapsed": false,
    "ExecuteTime": {
     "end_time": "2024-03-13T17:41:15.011986600Z",
     "start_time": "2024-03-13T17:41:14.987747100Z"
    }
   },
   "id": "9bd056b2d94c8b5d",
   "execution_count": 21
  },
  {
   "cell_type": "code",
   "outputs": [],
   "source": [
    "from jax import nn\n",
    "from jax import lax\n",
    "\n",
    "def time_mixing(x, t_state, decay, bonus, t_mix_k, t_mix_v, t_mix_r, t_wlast_x, Wk, Wv, Wr, Wout, t_xout, t_alphaout, t_betaout):\n",
    "    last_x, last_alpha, last_beta = t_state\n",
    "    last_x = t_wlast_x @ last_x\n",
    "    print(\"t:\", t_mix_k.shape)\n",
    "    k = Wk @ (x * t_mix_k + last_x * (1 - t_mix_k))\n",
    "    v = Wv @ (x * t_mix_v + last_x * (1 - t_mix_v))\n",
    "    r = Wr @ (x * t_mix_r + last_x * (1 - t_mix_r))\n",
    "    wkv = (last_alpha + jnp.exp(bonus + k) * v) / \\\n",
    "          (last_beta + jnp.exp(bonus + k))\n",
    "    rwkv = nn.sigmoid(r) * wkv\n",
    "\n",
    "    alpha = jnp.exp(-jnp.exp(decay)) * last_alpha + jnp.exp(k) * v\n",
    "    beta = jnp.exp(-jnp.exp(decay)) * last_beta + jnp.exp(k)\n",
    "    alpha = t_alphaout @ alpha\n",
    "    beta = t_betaout @ beta\n",
    "    x = t_xout @ x\n",
    "    return Wout @ rwkv, (x, alpha, beta)\n",
    "\n",
    "def channel_mixing(x, c_states, c_mix_k, c_mix_r, c_wlast_x, Wk, Wr, Wv, c_xout):\n",
    "    last_x = c_states #change tuple into array\n",
    "    last_x = c_wlast_x @ last_x\n",
    "\n",
    "    k = Wk @ (x * c_mix_k + last_x * (1 - c_mix_k))\n",
    "    r = Wr @ (x * c_mix_r + last_x * (1 - c_mix_r))    \n",
    "    vk = Wv @ nn.relu(k) ** 2\n",
    "    x = c_xout @ x\n",
    "    return nn.sigmoid(r) * vk, x\n",
    "\n",
    "def layer_norm(x, w, b):\n",
    "    mean = jnp.mean(x)\n",
    "    std =  jnp.sqrt((jnp.sum((x - mean)**2) + 1e-10)/(x.size-1))\n",
    "    return (x - mean)/ std * w + b\n",
    "\n",
    "def RWKV_step(x, t_states, c_states, num_layer, RWKV_net_params, indices):\n",
    "    ny, nx = indices\n",
    "    w_in, b_in, whead, bhead, w_out, b_out, wprob, bprob, wphase, bphase, RWKV_cell_params = RWKV_net_params\n",
    "    x = layer_norm(x, w_in[ny, nx], b_in[ny, nx])\n",
    "    _ , y = lax.scan(partial(RWKV_cell, params = tuple(px[nx] for px in tuple(py[ny] for py in RWKV_cell_params)), cell_t_states = t_states, cell_c_states = c_states), x, jnp.arange(num_layer))\n",
    "    x = _[0]\n",
    "    t_states, c_states = y\n",
    "    x = whead[ny, nx] @ layer_norm(x, w_out[ny, nx], b_out[ny, nx]) + bhead[ny, nx]\n",
    "    prob = nn.softmax(wprob @ x + bprob)\n",
    "    phase = 2*jnp.pi*nn.soft_sign(wphase @ x + bphase)\n",
    "    return x, t_states, c_states, prob, phase\n",
    "\n",
    "def RWKV_cell(carry, i, params, cell_t_states, cell_c_states): # carry = (x, t_states, c_states)\n",
    "    #modify it for different layer of t_state and c_state and x . \n",
    "    x = carry\n",
    "    wln_i, bln_i, wln_m, bln_m, decay, bonus, t_mix_r, t_mix_v, t_mix_k, t_wr, t_wv, t_wk, t_wout,t_wlast_x, c_mix_k, c_mix_r, c_wr, c_wv, c_wk, c_wlast_x, t_xout, t_alphaout, t_betaout, c_xout = tuple(p[i] for p in params) \n",
    "    layer_t_states = tuple(t[i] for t in cell_t_states)\n",
    "    layer_c_states = cell_c_states[i]\n",
    "\n",
    "    x_ = layer_norm(x, wln_i, bln_i)\n",
    "    dx, output_t_states = time_mixing(x_, layer_t_states, decay, bonus, t_mix_r, t_mix_v, t_mix_k, t_wlast_x, t_wr, t_wv, t_wk, t_wout,  t_xout, t_alphaout, t_betaout)\n",
    "    x = x + dx\n",
    "    x_ = layer_norm(x, wln_m, bln_m)\n",
    "    dx, output_c_states = channel_mixing(x_, layer_c_states, c_mix_k, c_mix_r, c_wlast_x, c_wr, c_wv, c_wk, c_xout)\n",
    "    x = x + dx\n",
    "    # carry need to be modified\n",
    "    return x, (output_t_states, output_c_states)"
   ],
   "metadata": {
    "collapsed": false,
    "ExecuteTime": {
     "end_time": "2024-03-13T17:41:11.804803900Z",
     "start_time": "2024-03-13T17:41:11.782518600Z"
    }
   },
   "id": "cddd5d6f80aaa5e3",
   "execution_count": 20
  },
  {
   "cell_type": "code",
   "outputs": [],
   "source": [
    "key = PRNGKey(0)\n",
    "params = init_RWKV_params(input_size=2, emb_size=5, h_size=7, num_layer=4, out_size=2, Ny=3, Nx=3, key=key)\n",
    "wemb, x_init, y_init, last_x1_init, last_x2_init, last_y1s_init, last_y1e_init, last_y2_init, t_alpha_init_x, t_alpha_init_y, t_beta_init_x, t_beta_init_y,  wln_in, bln_in, wln_out, bln_out, whead, bhead, wprob, bprob, wphase, bphase, RWKV_cell_params = params\n",
    "x = jnp.concatenate((wemb[0], wemb[1]), axis = 0)\n",
    "last_x = jnp.concatenate((last_y2_init[0], last_y1s_init[0], last_x2_init[0], last_x1_init[1]), axis = 1)\n",
    "t_alpha_init = jnp.concatenate((t_alpha_init_x[0], t_alpha_init_y[0]), axis = 1)\n",
    "t_beta_init = jnp.concatenate((t_beta_init_x[0], t_beta_init_y[0]), axis = 1)\n"
   ],
   "metadata": {
    "collapsed": false,
    "ExecuteTime": {
     "end_time": "2024-03-13T15:29:45.543936200Z",
     "start_time": "2024-03-13T15:29:45.504513Z"
    }
   },
   "id": "dcbd00e30263c154",
   "execution_count": 289
  },
  {
   "cell_type": "code",
   "outputs": [],
   "source": [],
   "metadata": {
    "collapsed": false,
    "ExecuteTime": {
     "end_time": "2024-03-13T14:58:40.885033600Z",
     "start_time": "2024-03-13T14:58:40.859236400Z"
    }
   },
   "id": "bb617501e9f99cbe",
   "execution_count": 264
  },
  {
   "cell_type": "code",
   "outputs": [
    {
     "name": "stdout",
     "output_type": "stream",
     "text": [
      "(3, 3, 4, 10)\n",
      "(3, 3, 4, 10)\n",
      "(3, 3, 4, 10)\n",
      "(3, 3, 4, 10)\n",
      "(3, 3, 4, 14)\n",
      "(3, 3, 4, 14)\n",
      "(3, 3, 4, 10)\n",
      "(3, 3, 4, 10)\n",
      "(3, 3, 4, 10)\n",
      "(3, 3, 4, 14, 10)\n",
      "(3, 3, 4, 14, 10)\n",
      "(3, 3, 4, 14, 10)\n",
      "(3, 3, 4, 10, 14)\n",
      "(3, 3, 4, 10, 20)\n",
      "(3, 3, 4, 10)\n",
      "(3, 3, 4, 10)\n",
      "(3, 3, 4, 10, 10)\n",
      "(3, 3, 4, 10, 10)\n",
      "(3, 3, 4, 10, 10)\n",
      "(3, 3, 4, 10, 20)\n"
     ]
    }
   ],
   "source": [
    "wln_i, bln_i, wln_m, bln_m, decay, bonus, t_mix_r, t_mix_v, t_mix_k, t_wr, t_wv, t_wk, t_wout,t_wlast_x, c_mix_k, c_mix_r, c_wr, c_wv, c_wk, c_wlast_x = RWKV_cell_params\n",
    "for params in RWKV_cell_params:\n",
    "    print(params.shape)"
   ],
   "metadata": {
    "collapsed": false,
    "ExecuteTime": {
     "end_time": "2024-03-13T14:58:41.060615200Z",
     "start_time": "2024-03-13T14:58:41.034707100Z"
    }
   },
   "id": "75e8ea833fc44269",
   "execution_count": 265
  },
  {
   "cell_type": "code",
   "outputs": [
    {
     "name": "stdout",
     "output_type": "stream",
     "text": [
      "(3, 4, 10, 20)\n",
      "(3, 4, 10, 20)\n",
      "(2,)\n",
      "(3, 4, 10, 20)\n",
      "(3, 4, 10, 20)\n",
      "(2,)\n"
     ]
    },
    {
     "ename": "ValueError",
     "evalue": "not enough values to unpack (expected 12, got 3)",
     "output_type": "error",
     "traceback": [
      "\u001B[1;31m---------------------------------------------------------------------------\u001B[0m",
      "\u001B[1;31mValueError\u001B[0m                                Traceback (most recent call last)",
      "Cell \u001B[1;32mIn[266], line 4\u001B[0m\n\u001B[0;32m      2\u001B[0m ny_nx_indices \u001B[38;5;241m=\u001B[39m jnp\u001B[38;5;241m.\u001B[39marray([[[i, j] \u001B[38;5;28;01mfor\u001B[39;00m j \u001B[38;5;129;01min\u001B[39;00m \u001B[38;5;28mrange\u001B[39m(\u001B[38;5;241m3\u001B[39m)] \u001B[38;5;28;01mfor\u001B[39;00m i \u001B[38;5;129;01min\u001B[39;00m \u001B[38;5;28mrange\u001B[39m(\u001B[38;5;241m3\u001B[39m)])\n\u001B[0;32m      3\u001B[0m key \u001B[38;5;241m=\u001B[39m PRNGKey(\u001B[38;5;241m0\u001B[39m)\n\u001B[1;32m----> 4\u001B[0m \u001B[43msample_prob\u001B[49m\u001B[43m(\u001B[49m\u001B[43mparams\u001B[49m\u001B[43m,\u001B[49m\u001B[43m \u001B[49m\u001B[43mfixed_params\u001B[49m\u001B[43m,\u001B[49m\u001B[43m \u001B[49m\u001B[43mny_nx_indices\u001B[49m\u001B[43m,\u001B[49m\u001B[43m \u001B[49m\u001B[43mkey\u001B[49m\u001B[43m)\u001B[49m\n",
      "    \u001B[1;31m[... skipping hidden 12 frame]\u001B[0m\n",
      "Cell \u001B[1;32mIn[262], line 65\u001B[0m, in \u001B[0;36msample_prob\u001B[1;34m(params, fixed_params, ny_nx_indices, key)\u001B[0m\n\u001B[0;32m     63\u001B[0m \u001B[38;5;28;01mfor\u001B[39;00m i \u001B[38;5;129;01min\u001B[39;00m init:\n\u001B[0;32m     64\u001B[0m     \u001B[38;5;28mprint\u001B[39m(i\u001B[38;5;241m.\u001B[39mshape)\n\u001B[1;32m---> 65\u001B[0m __, (samples, probs, phase) \u001B[38;5;241m=\u001B[39m \u001B[43mscan\u001B[49m\u001B[43m(\u001B[49m\u001B[43mscan_fun_2d\u001B[49m\u001B[43m,\u001B[49m\u001B[43m \u001B[49m\u001B[43minit\u001B[49m\u001B[43m,\u001B[49m\u001B[43m \u001B[49m\u001B[43mny_nx_indices\u001B[49m\u001B[43m)\u001B[49m\n\u001B[0;32m     66\u001B[0m samples \u001B[38;5;241m=\u001B[39m vmap(int_to_binary, \u001B[38;5;241m0\u001B[39m)(samples)\u001B[38;5;241m.\u001B[39mreshape(Ny\u001B[38;5;241m*\u001B[39mpy, Nx\u001B[38;5;241m*\u001B[39mpx)\n\u001B[0;32m     67\u001B[0m log_probs, phase \u001B[38;5;241m=\u001B[39m jnp\u001B[38;5;241m.\u001B[39msum(jnp\u001B[38;5;241m.\u001B[39mlog(probs)), jnp\u001B[38;5;241m.\u001B[39msum(phase)\n",
      "    \u001B[1;31m[... skipping hidden 9 frame]\u001B[0m\n",
      "Cell \u001B[1;32mIn[262], line 34\u001B[0m, in \u001B[0;36msample_prob.<locals>.scan_fun_2d\u001B[1;34m(carry_2d, indices)\u001B[0m\n\u001B[0;32m     32\u001B[0m \u001B[38;5;28;01mfor\u001B[39;00m i \u001B[38;5;129;01min\u001B[39;00m carry_2d:\n\u001B[0;32m     33\u001B[0m     \u001B[38;5;28mprint\u001B[39m(i\u001B[38;5;241m.\u001B[39mshape)\n\u001B[1;32m---> 34\u001B[0m input_x, input_y, last_x1, last_x2, last_y1s, last_y1e, last_y2, t_alpha_state_x, t_beta_state_x, t_alpha_state_y, t_beta_state_y ,key \u001B[38;5;241m=\u001B[39m carry_2d\n\u001B[0;32m     35\u001B[0m \u001B[38;5;66;03m## The shape of last_y1s, last_y1e are (Ny+1) \u001B[39;00m\n\u001B[0;32m     36\u001B[0m index \u001B[38;5;241m=\u001B[39m indices[\u001B[38;5;241m0\u001B[39m, \u001B[38;5;241m0\u001B[39m]\n",
      "\u001B[1;31mValueError\u001B[0m: not enough values to unpack (expected 12, got 3)"
     ]
    }
   ],
   "source": [
    "fixed_params = (3, 3, 1, 1, 0, 0, 4)\n",
    "ny_nx_indices = jnp.array([[[i, j] for j in range(3)] for i in range(3)])\n",
    "key = PRNGKey(0)\n",
    "sample_prob(params, fixed_params, ny_nx_indices, key)"
   ],
   "metadata": {
    "collapsed": false,
    "ExecuteTime": {
     "end_time": "2024-03-13T14:58:42.280455Z",
     "start_time": "2024-03-13T14:58:42.192895500Z"
    }
   },
   "id": "73dc3b1f37e94589",
   "execution_count": 266
  },
  {
   "cell_type": "code",
   "outputs": [
    {
     "data": {
      "text/plain": "Array([[-5.        , -2.4069493 , -0.7875767 ,  0.5949459 ,  1.8431015 ,\n         3.        ],\n       [-5.        , -4.68      , -3.7199998 , -2.12      ,  0.12000036,\n         3.        ]], dtype=float32)"
     },
     "execution_count": 4,
     "metadata": {},
     "output_type": "execute_result"
    }
   ],
   "source": [
    "import jax\n",
    "import jax.numpy as jnp\n",
    "h_size = 6\n",
    "num_layer = 2 \n",
    "(-5 + jnp.array([8*(jnp.arange(h_size)/(h_size-1))**(0.7 + 1.3*i/(num_layer-1)) for i in range(num_layer)]))"
   ],
   "metadata": {
    "collapsed": false,
    "ExecuteTime": {
     "end_time": "2024-03-16T08:51:10.898462700Z",
     "start_time": "2024-03-16T08:51:10.873729100Z"
    }
   },
   "id": "17f2286eca8b8067",
   "execution_count": 4
  },
  {
   "cell_type": "code",
   "outputs": [
    {
     "data": {
      "text/plain": "Array([-1.7039728, -1.2039728, -0.7039728, -1.7039728, -1.2039728,\n       -0.7039728], dtype=float32, weak_type=True)"
     },
     "execution_count": 3,
     "metadata": {},
     "output_type": "execute_result"
    }
   ],
   "source": [
    "0.5*(jnp.arange(h_size)%3-1)+jnp.log(0.3)"
   ],
   "metadata": {
    "collapsed": false,
    "ExecuteTime": {
     "end_time": "2024-03-15T16:47:44.421286200Z",
     "start_time": "2024-03-15T16:47:44.282894Z"
    }
   },
   "id": "cfa3482442f25ca8",
   "execution_count": 3
  },
  {
   "cell_type": "code",
   "outputs": [],
   "source": [
    "a = jnp.array([1,2,3,4])\n",
    "b = a[:2]\n",
    "b = jnp.array([1, 2])"
   ],
   "metadata": {
    "collapsed": false,
    "ExecuteTime": {
     "end_time": "2024-03-16T08:51:32.958091600Z",
     "start_time": "2024-03-16T08:51:32.850042800Z"
    }
   },
   "id": "305a2f683f3573c2",
   "execution_count": 5
  },
  {
   "cell_type": "code",
   "outputs": [
    {
     "ename": "TypeError",
     "evalue": "'<class 'jaxlib.xla_extension.ArrayImpl'>' object does not support item assignment. JAX arrays are immutable. Instead of ``x[idx] = y``, use ``x = x.at[idx].set(y)`` or another .at[] method: https://jax.readthedocs.io/en/latest/_autosummary/jax.numpy.ndarray.at.html",
     "output_type": "error",
     "traceback": [
      "\u001B[1;31m---------------------------------------------------------------------------\u001B[0m",
      "\u001B[1;31mTypeError\u001B[0m                                 Traceback (most recent call last)",
      "Cell \u001B[1;32mIn[6], line 1\u001B[0m\n\u001B[1;32m----> 1\u001B[0m a[:\u001B[38;5;241m2\u001B[39m] \u001B[38;5;241m=\u001B[39m jnp\u001B[38;5;241m.\u001B[39marray([\u001B[38;5;241m1\u001B[39m,\u001B[38;5;241m2\u001B[39m])\n",
      "File \u001B[1;32m~\\anaconda3\\lib\\site-packages\\jax\\_src\\numpy\\array_methods.py:270\u001B[0m, in \u001B[0;36m_unimplemented_setitem\u001B[1;34m(self, i, x)\u001B[0m\n\u001B[0;32m    265\u001B[0m \u001B[38;5;28;01mdef\u001B[39;00m \u001B[38;5;21m_unimplemented_setitem\u001B[39m(\u001B[38;5;28mself\u001B[39m, i, x):\n\u001B[0;32m    266\u001B[0m   msg \u001B[38;5;241m=\u001B[39m (\u001B[38;5;124m\"\u001B[39m\u001B[38;5;124m'\u001B[39m\u001B[38;5;132;01m{}\u001B[39;00m\u001B[38;5;124m'\u001B[39m\u001B[38;5;124m object does not support item assignment. JAX arrays are \u001B[39m\u001B[38;5;124m\"\u001B[39m\n\u001B[0;32m    267\u001B[0m          \u001B[38;5;124m\"\u001B[39m\u001B[38;5;124mimmutable. Instead of ``x[idx] = y``, use ``x = x.at[idx].set(y)`` \u001B[39m\u001B[38;5;124m\"\u001B[39m\n\u001B[0;32m    268\u001B[0m          \u001B[38;5;124m\"\u001B[39m\u001B[38;5;124mor another .at[] method: \u001B[39m\u001B[38;5;124m\"\u001B[39m\n\u001B[0;32m    269\u001B[0m          \u001B[38;5;124m\"\u001B[39m\u001B[38;5;124mhttps://jax.readthedocs.io/en/latest/_autosummary/jax.numpy.ndarray.at.html\u001B[39m\u001B[38;5;124m\"\u001B[39m)\n\u001B[1;32m--> 270\u001B[0m   \u001B[38;5;28;01mraise\u001B[39;00m \u001B[38;5;167;01mTypeError\u001B[39;00m(msg\u001B[38;5;241m.\u001B[39mformat(\u001B[38;5;28mtype\u001B[39m(\u001B[38;5;28mself\u001B[39m)))\n",
      "\u001B[1;31mTypeError\u001B[0m: '<class 'jaxlib.xla_extension.ArrayImpl'>' object does not support item assignment. JAX arrays are immutable. Instead of ``x[idx] = y``, use ``x = x.at[idx].set(y)`` or another .at[] method: https://jax.readthedocs.io/en/latest/_autosummary/jax.numpy.ndarray.at.html"
     ]
    }
   ],
   "source": [
    "a[:2] = jnp.array([1, 2])"
   ],
   "metadata": {
    "collapsed": false,
    "ExecuteTime": {
     "end_time": "2024-03-16T08:51:44.948876200Z",
     "start_time": "2024-03-16T08:51:43.003357100Z"
    }
   },
   "id": "c20f2cd7fe643b2d",
   "execution_count": 6
  },
  {
   "cell_type": "code",
   "outputs": [],
   "source": [
    "import jax\n",
    "import jax.numpy as jnp\n",
    "from jax.config import config\n",
    "config.update(\"jax_debug_nans\", True)\n",
    "def computation(x):\n",
    "    return x / 0  # Example operation that will generate a NaN\n",
    "\n",
    "x = jnp.array([1.0, 2.0, 3.0])\n",
    "result = computation(x)\n"
   ],
   "metadata": {
    "collapsed": false,
    "ExecuteTime": {
     "end_time": "2024-03-24T07:30:11.234392500Z",
     "start_time": "2024-03-24T07:30:11.192055300Z"
    }
   },
   "id": "cc2efc7f49327368",
   "execution_count": 7
  },
  {
   "cell_type": "code",
   "outputs": [],
   "source": [
    "import jax.numpy as jnp\n",
    "import pickle\n",
    "with open('params/params_L4_numsamples128_numunits4_rnntype_RWKV_rotation_True_angle0.3141592653589793.pkl', 'rb') as file:\n",
    "    data = pickle.load(file)"
   ],
   "metadata": {
    "collapsed": false,
    "ExecuteTime": {
     "end_time": "2024-03-29T12:21:40.842268500Z",
     "start_time": "2024-03-29T12:21:40.758771300Z"
    }
   },
   "id": "18883dd73a7e8b75",
   "execution_count": 61
  },
  {
   "cell_type": "code",
   "outputs": [
    {
     "name": "stdout",
     "output_type": "stream",
     "text": [
      "(4, 4, 2, 8)\n",
      "float32\n",
      "obj_jnp_array is a JAX array\n",
      "(4, 8)\n",
      "float32\n",
      "obj_jnp_array is a JAX array\n",
      "(4, 8)\n",
      "float32\n",
      "obj_jnp_array is a JAX array\n",
      "(4, 4, 8)\n",
      "float32\n",
      "obj_jnp_array is a JAX array\n",
      "(4, 4, 8)\n",
      "float32\n",
      "obj_jnp_array is a JAX array\n",
      "(5, 4, 8)\n",
      "float32\n",
      "obj_jnp_array is a JAX array\n",
      "(5, 4, 8)\n",
      "float32\n",
      "obj_jnp_array is a JAX array\n",
      "(4, 4, 8)\n",
      "float32\n",
      "obj_jnp_array is a JAX array\n",
      "(4, 4, 32)\n",
      "float32\n",
      "obj_jnp_array is a JAX array\n",
      "(4, 4, 32)\n",
      "float32\n",
      "obj_jnp_array is a JAX array\n",
      "(4, 4, 32)\n",
      "float32\n",
      "obj_jnp_array is a JAX array\n",
      "(4, 4, 32)\n",
      "float32\n",
      "obj_jnp_array is a JAX array\n",
      "(4, 4, 32)\n",
      "float32\n",
      "obj_jnp_array is a JAX array\n",
      "(4, 4, 32)\n",
      "float32\n",
      "obj_jnp_array is a JAX array\n",
      "(4, 4, 8)\n",
      "float32\n",
      "obj_jnp_array is a JAX array\n",
      "(4, 4, 8)\n",
      "float32\n",
      "obj_jnp_array is a JAX array\n",
      "(5, 4, 8)\n",
      "float32\n",
      "obj_jnp_array is a JAX array\n",
      "(5, 4, 8)\n",
      "float32\n",
      "obj_jnp_array is a JAX array\n",
      "(4, 4, 8)\n",
      "float32\n",
      "obj_jnp_array is a JAX array\n",
      "(4, 4, 16)\n",
      "float32\n",
      "obj_jnp_array is a JAX array\n",
      "(4, 4, 16)\n",
      "float32\n",
      "obj_jnp_array is a JAX array\n",
      "(4, 4, 16)\n",
      "float32\n",
      "obj_jnp_array is a JAX array\n",
      "(4, 4, 16)\n",
      "float32\n",
      "obj_jnp_array is a JAX array\n",
      "(4, 4, 16, 16)\n",
      "float32\n",
      "obj_jnp_array is a JAX array\n",
      "(4, 4, 16)\n",
      "float32\n",
      "obj_jnp_array is a JAX array\n",
      "(4, 4, 2, 16)\n",
      "float32\n",
      "obj_jnp_array is a JAX array\n",
      "(4, 4, 2)\n",
      "float32\n",
      "obj_jnp_array is a JAX array\n",
      "(4, 4, 2, 16)\n",
      "float32\n",
      "obj_jnp_array is a JAX array\n",
      "(4, 4, 2)\n",
      "float32\n",
      "obj_jnp_array is a JAX array\n",
      "(4, 4, 4, 16)\n",
      "float32\n",
      "obj_jnp_array is a JAX array\n",
      "(4, 4, 4, 16)\n",
      "float32\n",
      "obj_jnp_array is a JAX array\n",
      "(4, 4, 4, 16)\n",
      "float32\n",
      "obj_jnp_array is a JAX array\n",
      "(4, 4, 4, 16)\n",
      "float32\n",
      "obj_jnp_array is a JAX array\n",
      "(4, 4, 4, 16)\n",
      "float32\n",
      "obj_jnp_array is a JAX array\n",
      "(4, 4, 4, 16)\n",
      "float32\n",
      "obj_jnp_array is a JAX array\n",
      "(4, 4, 4, 16)\n",
      "float32\n",
      "obj_jnp_array is a JAX array\n",
      "(4, 4, 4, 16)\n",
      "float32\n",
      "obj_jnp_array is a JAX array\n",
      "(4, 4, 4, 64)\n",
      "float32\n",
      "obj_jnp_array is a JAX array\n",
      "(4, 4, 4, 64)\n",
      "float32\n",
      "obj_jnp_array is a JAX array\n",
      "(4, 4, 4, 16)\n",
      "float32\n",
      "obj_jnp_array is a JAX array\n",
      "(4, 4, 4, 16)\n",
      "float32\n",
      "obj_jnp_array is a JAX array\n",
      "(4, 4, 4, 16)\n",
      "float32\n",
      "obj_jnp_array is a JAX array\n",
      "(4, 4, 4, 64, 16)\n",
      "float32\n",
      "obj_jnp_array is a JAX array\n",
      "(4, 4, 4, 64, 16)\n",
      "float32\n",
      "obj_jnp_array is a JAX array\n",
      "(4, 4, 4, 64, 16)\n",
      "float32\n",
      "obj_jnp_array is a JAX array\n",
      "(4, 4, 4, 16, 64)\n",
      "float32\n",
      "obj_jnp_array is a JAX array\n",
      "(4, 4, 4, 16, 32)\n",
      "float32\n",
      "obj_jnp_array is a JAX array\n",
      "(4, 4, 4, 16)\n",
      "float32\n",
      "obj_jnp_array is a JAX array\n",
      "(4, 4, 4, 16)\n",
      "float32\n",
      "obj_jnp_array is a JAX array\n",
      "(4, 4, 4, 16, 16)\n",
      "float32\n",
      "obj_jnp_array is a JAX array\n",
      "(4, 4, 4, 16, 16)\n",
      "float32\n",
      "obj_jnp_array is a JAX array\n",
      "(4, 4, 4, 16, 16)\n",
      "float32\n",
      "obj_jnp_array is a JAX array\n",
      "(4, 4, 4, 16, 32)\n",
      "float32\n",
      "obj_jnp_array is a JAX array\n",
      "(4, 4, 4, 8, 16)\n",
      "float32\n",
      "obj_jnp_array is a JAX array\n",
      "(4, 4, 4, 32, 64)\n",
      "float32\n",
      "obj_jnp_array is a JAX array\n",
      "(4, 4, 4, 32, 64)\n",
      "float32\n",
      "obj_jnp_array is a JAX array\n",
      "(4, 4, 4, 32, 64)\n",
      "float32\n",
      "obj_jnp_array is a JAX array\n",
      "(4, 4, 4, 8, 16)\n",
      "float32\n",
      "obj_jnp_array is a JAX array\n",
      "58\n"
     ]
    }
   ],
   "source": [
    "a = 0\n",
    "for i in data:\n",
    "    a += 1\n",
    "    print(i.shape)\n",
    "    print(i.dtype)\n",
    "    if isinstance(i, jnp.ndarray):\n",
    "        print(\"obj_jnp_array is a JAX array\")\n",
    "print(a)"
   ],
   "metadata": {
    "collapsed": false,
    "ExecuteTime": {
     "end_time": "2024-03-29T17:25:26.127232200Z",
     "start_time": "2024-03-29T17:25:26.101483300Z"
    }
   },
   "id": "6434e31f4c98b6cb",
   "execution_count": 69
  },
  {
   "cell_type": "code",
   "outputs": [],
   "source": [
    "jax.config.update('jax_softmax_custom_jvp', False)"
   ],
   "metadata": {
    "collapsed": false,
    "ExecuteTime": {
     "end_time": "2024-03-24T09:26:31.382038600Z",
     "start_time": "2024-03-24T09:26:31.360532700Z"
    }
   },
   "id": "9fd4496ef13782c7",
   "execution_count": 16
  },
  {
   "cell_type": "code",
   "outputs": [
    {
     "data": {
      "text/plain": "Array([0., 0., 1., 0., 0.], dtype=float32)"
     },
     "execution_count": 17,
     "metadata": {},
     "output_type": "execute_result"
    }
   ],
   "source": [
    "jax.nn.softmax(jnp.array([2345,3456,6543,-6789,-9234]))"
   ],
   "metadata": {
    "collapsed": false,
    "ExecuteTime": {
     "end_time": "2024-03-24T09:26:31.565565300Z",
     "start_time": "2024-03-24T09:26:31.499538500Z"
    }
   },
   "id": "7aea9321e4236997",
   "execution_count": 17
  },
  {
   "cell_type": "code",
   "outputs": [],
   "source": [
    "from jax import lax\n",
    "def breakpoint_if_nonfinite(x):\n",
    "  is_finite = jnp.isfinite(x).all()\n",
    "  def true_fn(x):\n",
    "    pass\n",
    "  def false_fn(x):\n",
    "    jax.debug.breakpoint()\n",
    "  lax.cond(is_finite, true_fn, false_fn, x)\n",
    "\n",
    "@jax.jit\n",
    "def f(a, y):\n",
    "  z = a / y\n",
    "  breakpoint_if_nonfinite(z)\n",
    "  return z"
   ],
   "metadata": {
    "collapsed": false,
    "ExecuteTime": {
     "end_time": "2024-03-25T10:58:07.932238600Z",
     "start_time": "2024-03-25T10:58:07.898204200Z"
    }
   },
   "id": "393dae67e795b207",
   "execution_count": 25
  },
  {
   "cell_type": "code",
   "outputs": [
    {
     "name": "stdout",
     "output_type": "stream",
     "text": [
      "Entering jdb:\n",
      "Entering jdb:\n",
      "Entering jdb:\n"
     ]
    },
    {
     "data": {
      "text/plain": "Array([[1. , 1. , 0.5],\n       [2. , 2. , 1. ],\n       [3. , 3. , 1.5]], dtype=float32)"
     },
     "execution_count": 31,
     "metadata": {},
     "output_type": "execute_result"
    }
   ],
   "source": [
    "from jax import vmap\n",
    "vmap(f, in_axes=(0, None))(jnp.array([1., 2., 3.]), jnp.array([1., 1., 2.]))"
   ],
   "metadata": {
    "collapsed": false,
    "ExecuteTime": {
     "end_time": "2024-03-25T11:05:04.719477Z",
     "start_time": "2024-03-25T11:05:00.378709100Z"
    }
   },
   "id": "a38c86873b4d161c",
   "execution_count": 31
  },
  {
   "cell_type": "code",
   "outputs": [],
   "source": [
    "import matplotlib.pyplot as plt\n",
    "import jax.numpy as jnp\n",
    "import numpy as np\n",
    "meanE = np.load(\"result/meanE_L8_units4_cmi_pattern_no_decayrotationTrueangle1.5707963267948966_seed3.npy\")\n",
    "meanE_angle0 = np.load(\"result/meanE_L8_units4_cmi_pattern_no_decayrotationTrueangle0.0_seed3.npy\")\n",
    "meanE = meanE[~np.isnan(meanE)]\n",
    "meanE = jnp.append(meanE_angle0, meanE)\n",
    "line = []\n",
    "for i in range(meanE.shape[0]-1):\n",
    "    if np.abs(meanE[i]-meanE[i+1]) >30:\n",
    "        line.append(i)\n",
    "        print(meanE[i])\n",
    "        print(meanE[i-1])\n"
   ],
   "metadata": {
    "collapsed": false,
    "ExecuteTime": {
     "end_time": "2024-03-30T07:49:57.042664500Z",
     "start_time": "2024-03-30T07:49:56.988832900Z"
    }
   },
   "id": "b4dcd24319ec70f0",
   "execution_count": 84
  },
  {
   "cell_type": "code",
   "outputs": [
    {
     "data": {
      "text/plain": "Text(0.5, 1.0, 'Result of RWKV with p = 1')"
     },
     "execution_count": 97,
     "metadata": {},
     "output_type": "execute_result"
    },
    {
     "data": {
      "text/plain": "<Figure size 640x480 with 1 Axes>",
      "image/png": "[encoded data removed]"
     },
     "metadata": {},
     "output_type": "display_data"
    }
   ],
   "source": [
    "plt.plot(jnp.arange(meanE.shape[0]), meanE)\n",
    "for i in line:\n",
    "    plt.plot([i, i], [-64, -30], 'r', linewidth=0.7)\n",
    "plt.ylim(-64.5, -20)\n",
    "plt.xlabel(\"steps\")\n",
    "plt.ylabel(\"Energy\")\n",
    "plt.title(\"Result of RWKV with p = 1\")"
   ],
   "metadata": {
    "collapsed": false,
    "ExecuteTime": {
     "end_time": "2024-03-30T07:57:17.491825500Z",
     "start_time": "2024-03-30T07:57:17.283852500Z"
    }
   },
   "id": "96e700c1bb895407",
   "execution_count": 97
  },
  {
   "cell_type": "code",
   "outputs": [
    {
     "data": {
      "text/plain": "Array([0.        , 0.15707964, 0.31415927, 0.47123894, 0.62831855,\n       0.7853982 , 0.9424779 , 1.0995574 , 1.2566371 , 1.4137168 ,\n       1.5707964 ], dtype=float32, weak_type=True)"
     },
     "execution_count": 98,
     "metadata": {},
     "output_type": "execute_result"
    }
   ],
   "source": [
    "jnp.arange(11)*0.05*jnp.pi"
   ],
   "metadata": {
    "collapsed": false,
    "ExecuteTime": {
     "end_time": "2024-03-30T08:06:13.389877800Z",
     "start_time": "2024-03-30T08:06:13.310635900Z"
    }
   },
   "id": "c0d48b3a4ef0031",
   "execution_count": 98
  },
  {
   "cell_type": "code",
   "outputs": [
    {
     "data": {
      "text/plain": "(array([  6.,  27., 131., 298., 489., 475., 350., 149.,  61.,  14.]),\n array([-3.32512403, -2.67587066, -2.02661705, -1.37736368, -0.72811019,\n        -0.07885671,  0.57039678,  1.21965027,  1.86890364,  2.51815724,\n         3.16741061]),\n <BarContainer object of 10 artists>)"
     },
     "execution_count": 60,
     "metadata": {},
     "output_type": "execute_result"
    },
    {
     "data": {
      "text/plain": "<Figure size 640x480 with 1 Axes>",
      "image/png": "[encoded data removed]"
     },
     "metadata": {},
     "output_type": "display_data"
    }
   ],
   "source": [
    "plt.hist((b@a-jnp.mean(b@a))/jnp.std(b@a))"
   ],
   "metadata": {
    "collapsed": false,
    "ExecuteTime": {
     "end_time": "2024-03-25T18:03:47.249995500Z",
     "start_time": "2024-03-25T18:03:46.729743700Z"
    }
   },
   "id": "7e06a33270d44b71",
   "execution_count": 60
  },
  {
   "cell_type": "code",
   "outputs": [],
   "source": [
    "import jax\n",
    "import pickle\n",
    "import jax.numpy as jnp\n",
    "with open('params/params_L4_numsamples128_numunits4_rnntype_RWKV_rotation_True_angle0.3141592653589793.pkl', 'rb') as file:\n",
    "    a = pickle.load(file)\n",
    "\n",
    "RWKV_part = a[29:]  # This will contain elements from params[0] to params[28]\n",
    "# Combine them into the new structure\n",
    "params = (a[0], a[1], a[2], a[3], a[4], a[5], a[6], a[7], a[8], a[9], a[10], a[11], a[12], a[13], a[14], a[15], a[16], a[17], a[18], a[19], a[20], a[21], a[22], a[23], a[24], a[25], a[26], a[27], a[28], RWKV_part)"
   ],
   "metadata": {
    "collapsed": false,
    "ExecuteTime": {
     "end_time": "2024-04-05T11:22:31.045877Z",
     "start_time": "2024-04-05T11:22:31.029256Z"
    }
   },
   "id": "2ba0071ab4ad2e5e",
   "execution_count": 2
  },
  {
   "cell_type": "code",
   "outputs": [
    {
     "name": "stdout",
     "output_type": "stream",
     "text": [
      "[[[[-5.0134377 -4.5999002 -4.293059  ...  2.8252497  2.910975\n",
      "     3.0000076]\n",
      "   [-5.0300803 -5.008394  -4.891612  ...  2.7153285  2.864999\n",
      "     2.999089 ]\n",
      "   [-4.9637814 -4.969294  -4.8198314 ...  2.6029682  2.804292\n",
      "     3.0000606]\n",
      "   [-4.93078   -4.95347   -5.0239058 ...  2.5019543  2.69381\n",
      "     2.9994202]]\n",
      "\n",
      "  [[-4.945738  -4.5919914 -4.237987  ...  2.8272853  2.9113345\n",
      "     3.0005283]\n",
      "   [-5.012109  -5.0444365 -4.934914  ...  2.7111292  2.8561795\n",
      "     2.9999695]\n",
      "   [-4.94036   -5.0174475 -4.910972  ...  2.6063514  2.801672\n",
      "     2.999827 ]\n",
      "   [-4.9511395 -5.0130234 -5.0625596 ...  2.5782323  2.7301474\n",
      "     2.999673 ]]\n",
      "\n",
      "  [[-4.9032855 -4.537838  -4.3098483 ...  2.8130867  2.9129019\n",
      "     3.0005627]\n",
      "   [-5.074674  -4.943962  -4.8654523 ...  2.7109554  2.856976\n",
      "     2.999972 ]\n",
      "   [-5.055991  -4.9967976 -4.937926  ...  2.5879858  2.8026557\n",
      "     3.0000162]\n",
      "   [-4.994703  -5.0067377 -5.0516443 ...  2.434115   2.7525933\n",
      "     2.999936 ]]\n",
      "\n",
      "  [[-4.932931  -4.543366  -4.2373753 ...  2.821062   2.910761\n",
      "     3.0000637]\n",
      "   [-4.977551  -4.954557  -4.8568463 ...  2.7115119  2.8562243\n",
      "     2.9999988]\n",
      "   [-5.0300593 -4.9328837 -4.9312057 ...  2.60205    2.8021865\n",
      "     2.9999998]\n",
      "   [-4.9330654 -4.9321713 -5.035501  ...  2.4693606  2.731577\n",
      "     2.9991646]]]\n",
      "\n",
      "\n",
      " [[[-4.9556036 -4.515756  -4.1782565 ...  2.8416817  2.9545546\n",
      "     2.984584 ]\n",
      "   [-5.01656   -4.932812  -4.8212905 ...  2.6569443  2.8387725\n",
      "     2.9817395]\n",
      "   [-5.008318  -4.89498   -4.909499  ...  2.6625721  2.819313\n",
      "     3.0031943]\n",
      "   [-4.992121  -4.9880333 -5.004114  ...  2.5178392  2.7460225\n",
      "     2.9953759]]\n",
      "\n",
      "  [[-4.996032  -4.545202  -4.255045  ...  2.8050585  2.8911564\n",
      "     2.9925683]\n",
      "   [-5.0381684 -4.880654  -4.8402066 ...  2.6521492  2.8300912\n",
      "     2.9610136]\n",
      "   [-5.0672884 -5.0128255 -4.9290147 ...  2.604906   2.8010185\n",
      "     2.9843671]\n",
      "   [-4.9472365 -4.9563704 -4.9726014 ...  2.5502565  2.7954733\n",
      "     3.0613866]]\n",
      "\n",
      "  [[-4.9979897 -4.542241  -4.2038546 ...  2.8312185  2.9161713\n",
      "     2.999083 ]\n",
      "   [-5.0104847 -4.892451  -4.8751245 ...  2.6628351  2.8389208\n",
      "     2.9969137]\n",
      "   [-5.042272  -5.0364256 -4.9676185 ...  2.541647   2.7573824\n",
      "     2.9802246]\n",
      "   [-5.0138607 -4.953093  -4.973993  ...  2.5442002  2.7083118\n",
      "     2.9754784]]\n",
      "\n",
      "  [[-4.93687   -4.564368  -4.2260013 ...  2.8393724  2.9088957\n",
      "     3.0022423]\n",
      "   [-5.030117  -4.8884964 -4.861823  ...  2.6922045  2.8535519\n",
      "     2.9996557]\n",
      "   [-4.97816   -4.948136  -4.974344  ...  2.6076217  2.8109472\n",
      "     3.000722 ]\n",
      "   [-5.0206733 -5.025592  -5.0286746 ...  2.5155709  2.7535722\n",
      "     3.0016222]]]\n",
      "\n",
      "\n",
      " [[[-4.9376774 -4.531864  -4.272321  ...  2.7870584  2.8556795\n",
      "     2.9568014]\n",
      "   [-5.0219626 -4.927115  -4.880877  ...  2.7711287  2.8323689\n",
      "     3.0038867]\n",
      "   [-5.0105896 -4.9501657 -4.954942  ...  2.5846622  2.8077536\n",
      "     3.0288062]\n",
      "   [-4.9843607 -4.891237  -4.9979258 ...  2.5463681  2.7464356\n",
      "     2.9680552]]\n",
      "\n",
      "  [[-5.030047  -4.527712  -4.2381334 ...  2.8068538  2.9199305\n",
      "     2.9966433]\n",
      "   [-5.0532236 -4.9963465 -4.869845  ...  2.7096343  2.8663232\n",
      "     2.9933374]\n",
      "   [-4.9884787 -4.9782615 -4.9023085 ...  2.6114333  2.795157\n",
      "     3.00259  ]\n",
      "   [-4.920209  -4.9285035 -4.9748054 ...  2.4674702  2.7978635\n",
      "     3.0070722]]\n",
      "\n",
      "  [[-5.0781846 -4.5182557 -4.314509  ...  2.80456    2.9119654\n",
      "     2.9981005]\n",
      "   [-5.031234  -4.9675674 -4.8751473 ...  2.7189188  2.8650556\n",
      "     2.9920654]\n",
      "   [-4.9918776 -4.9822397 -4.9387064 ...  2.6451185  2.8042257\n",
      "     3.0048556]\n",
      "   [-4.9666567 -4.9819603 -4.9859266 ...  2.4311342  2.8018389\n",
      "     3.0018356]]\n",
      "\n",
      "  [[-4.9437194 -4.556531  -4.348502  ...  2.85374    2.933405\n",
      "     3.0058765]\n",
      "   [-4.9653826 -4.9192414 -4.828183  ...  2.7093687  2.8626735\n",
      "     3.0035582]\n",
      "   [-5.0178475 -5.028035  -4.969508  ...  2.6516638  2.7974946\n",
      "     3.0135949]\n",
      "   [-4.991475  -4.935581  -4.960736  ...  2.4677413  2.7334762\n",
      "     2.998833 ]]]\n",
      "\n",
      "\n",
      " [[[-4.985898  -4.6157045 -4.28542   ...  2.7981522  2.9095228\n",
      "     3.0381055]\n",
      "   [-5.0448647 -4.935904  -4.842585  ...  2.6535857  2.8485792\n",
      "     2.9952414]\n",
      "   [-4.9419675 -5.0730095 -4.946016  ...  2.6390014  2.7658396\n",
      "     2.985537 ]\n",
      "   [-4.972619  -5.0368056 -4.9344683 ...  2.5356808  2.7206697\n",
      "     2.998059 ]]\n",
      "\n",
      "  [[-5.0211616 -4.607465  -4.273696  ...  2.7838616  2.8770087\n",
      "     3.002292 ]\n",
      "   [-5.0041523 -4.9277773 -4.8342657 ...  2.685182   2.8573678\n",
      "     2.9984195]\n",
      "   [-4.9137387 -4.980101  -4.980954  ...  2.6161997  2.811397\n",
      "     3.0104997]\n",
      "   [-4.966661  -5.0123963 -4.951875  ...  2.5013688  2.6860056\n",
      "     2.9421523]]\n",
      "\n",
      "  [[-5.0275135 -4.6112247 -4.308243  ...  2.8302937  2.8806145\n",
      "     3.0031972]\n",
      "   [-4.9900627 -4.966668  -4.8748093 ...  2.698921   2.8574762\n",
      "     2.9969382]\n",
      "   [-4.954855  -4.950459  -4.987615  ...  2.6005676  2.8127115\n",
      "     2.993645 ]\n",
      "   [-5.010456  -5.0111084 -4.9561954 ...  2.5314395  2.7426472\n",
      "     2.9994948]]\n",
      "\n",
      "  [[-5.        -4.5599    -4.285055  ...  2.821364   2.9108982\n",
      "     3.       ]\n",
      "   [-5.        -4.9269133 -4.8396735 ...  2.7127848  2.8562384\n",
      "     3.       ]\n",
      "   [-5.        -4.9878626 -4.964047  ...  2.6057124  2.8019557\n",
      "     3.       ]\n",
      "   [-5.        -4.9979844 -4.9919376 ...  2.5001268  2.7480483\n",
      "     3.       ]]]]\n"
     ]
    }
   ],
   "source": [
    "print(RWKV_part[8])"
   ],
   "metadata": {
    "collapsed": false,
    "ExecuteTime": {
     "end_time": "2024-04-05T12:47:30.299981Z",
     "start_time": "2024-04-05T12:47:30.288982Z"
    }
   },
   "id": "c0f16c90cde90182",
   "execution_count": 51
  },
  {
   "cell_type": "code",
   "outputs": [
    {
     "name": "stdout",
     "output_type": "stream",
     "text": [
      "[[[[-1.6149085  -1.1700045  -0.69952494 ... -1.2016588  -0.7309297\n",
      "    -1.6940085 ]\n",
      "   [-1.7497382  -1.1807888  -0.67618823 ... -1.1236928  -0.742996\n",
      "    -1.6527205 ]\n",
      "   [-1.8447335  -1.2479618  -0.6906165  ... -1.1480905  -0.8503781\n",
      "    -1.6437966 ]\n",
      "   [-1.807436   -1.0555807  -0.8025814  ... -1.2801207  -0.691108\n",
      "    -1.6490577 ]]\n",
      "\n",
      "  [[-1.67452    -1.2500192  -0.7645985  ... -1.2171737  -0.58750767\n",
      "    -1.7029349 ]\n",
      "   [-1.7199824  -1.2445722  -0.7277808  ... -1.1132917  -0.69309276\n",
      "    -1.6673602 ]\n",
      "   [-1.6247469  -1.1690601  -0.58486146 ... -1.1835499  -0.65161926\n",
      "    -1.7047948 ]\n",
      "   [-1.7203814  -1.2141584  -0.88425624 ... -1.2665551  -0.83068967\n",
      "    -1.7036622 ]]\n",
      "\n",
      "  [[-1.7411804  -1.257325   -0.64183795 ... -1.2311928  -0.7110355\n",
      "    -1.6901618 ]\n",
      "   [-1.6607584  -1.2040884  -0.7187772  ... -1.1724224  -0.80077535\n",
      "    -1.7501286 ]\n",
      "   [-1.6788352  -1.2172216  -0.7131477  ... -1.0872823  -0.5733476\n",
      "    -1.5795779 ]\n",
      "   [-1.7316604  -1.1517369  -0.7047747  ... -1.0982475  -0.7979998\n",
      "    -1.6564951 ]]\n",
      "\n",
      "  [[-1.7351966  -1.2239538  -0.7865167  ... -1.1249305  -0.5997033\n",
      "    -1.6934763 ]\n",
      "   [-1.7561238  -1.1723214  -0.7312729  ... -1.1508702  -0.65996313\n",
      "    -1.5023937 ]\n",
      "   [-1.7238717  -1.1736983  -0.66086006 ... -1.2383487  -0.6207939\n",
      "    -1.7126015 ]\n",
      "   [-1.7633338  -1.3709323  -0.72264856 ... -1.2286137  -0.5748384\n",
      "    -1.7455481 ]]]\n",
      "\n",
      "\n",
      " [[[-1.5973233  -1.0996991  -0.63125867 ... -1.209881   -0.6613216\n",
      "    -1.7973447 ]\n",
      "   [-1.6796649  -1.249076   -0.7080399  ... -1.2300973  -0.74517274\n",
      "    -1.7745603 ]\n",
      "   [-1.6619594  -1.1706797  -0.5438573  ... -1.1964042  -0.7085223\n",
      "    -1.767462  ]\n",
      "   [-1.670455   -1.1999941  -0.49602672 ... -1.226448   -0.69623226\n",
      "    -1.7188433 ]]\n",
      "\n",
      "  [[-1.7260756  -1.1954622  -0.73737526 ... -1.1944352  -0.7173747\n",
      "    -1.6586742 ]\n",
      "   [-1.7905837  -1.1581755  -0.6848055  ... -1.2177409  -0.7019568\n",
      "    -1.6417439 ]\n",
      "   [-1.7202594  -1.2878478  -0.7450341  ... -1.2567666  -0.7212563\n",
      "    -1.6570896 ]\n",
      "   [-1.7037079  -1.2724012  -0.7115289  ... -1.1849618  -0.7490553\n",
      "    -1.7078525 ]]\n",
      "\n",
      "  [[-1.7180918  -1.2503413  -0.701526   ... -1.1329178  -0.81069183\n",
      "    -1.7336994 ]\n",
      "   [-1.6844553  -1.1233867  -0.6757896  ... -1.0892129  -0.6691146\n",
      "    -1.6157302 ]\n",
      "   [-1.6535811  -1.2011319  -0.7027843  ... -1.2021018  -0.8017534\n",
      "    -1.6846021 ]\n",
      "   [-1.7530998  -1.1426014  -0.75522745 ... -1.1633321  -0.7098415\n",
      "    -1.6524013 ]]\n",
      "\n",
      "  [[-1.6566398  -1.0970054  -0.6841832  ... -1.3090689  -0.59842026\n",
      "    -1.6935183 ]\n",
      "   [-1.7978753  -1.1866994  -0.7084244  ... -1.1988081  -0.65447164\n",
      "    -1.6266795 ]\n",
      "   [-1.6754285  -1.2755413  -0.7805215  ... -1.2388004  -0.78734785\n",
      "    -1.5757928 ]\n",
      "   [-1.7090368  -1.1851324  -0.65113056 ... -1.1859552  -0.7227487\n",
      "    -1.7101768 ]]]\n",
      "\n",
      "\n",
      " [[[-1.7080551  -1.243971   -0.7152776  ... -1.201971   -0.715467\n",
      "    -1.6977364 ]\n",
      "   [-1.6623405  -1.1142051  -0.6073001  ... -1.2563845  -0.687785\n",
      "    -1.7077503 ]\n",
      "   [-1.5659145  -1.2464651  -0.66338116 ... -1.2020955  -0.6878871\n",
      "    -1.748205  ]\n",
      "   [-1.6026831  -1.2223022  -0.82536256 ... -1.2170885  -0.6858726\n",
      "    -1.7573271 ]]\n",
      "\n",
      "  [[-1.5829939  -1.1171064  -0.648925   ... -1.1266835  -0.7449366\n",
      "    -1.639139  ]\n",
      "   [-1.6670936  -1.2157043  -0.7220544  ... -1.2787893  -0.74658144\n",
      "    -1.6790057 ]\n",
      "   [-1.6226194  -1.2012597  -0.74352056 ... -1.2868161  -0.7697718\n",
      "    -1.7106411 ]\n",
      "   [-1.7216125  -1.2596413  -0.65941095 ... -1.1339841  -0.6728526\n",
      "    -1.5644248 ]]\n",
      "\n",
      "  [[-1.592389   -1.1712801  -0.6622889  ... -1.2048744  -0.7196435\n",
      "    -1.6319687 ]\n",
      "   [-1.7257309  -1.2486174  -0.7019368  ... -1.1545705  -0.67219925\n",
      "    -1.7653825 ]\n",
      "   [-1.7038069  -1.2275249  -0.78843665 ... -1.2583028  -0.7200322\n",
      "    -1.696764  ]\n",
      "   [-1.7146342  -1.1103266  -0.67466116 ... -1.269      -0.6132317\n",
      "    -1.7318627 ]]\n",
      "\n",
      "  [[-1.7174479  -1.1978706  -0.7245517  ... -1.2571406  -0.61676586\n",
      "    -1.6797014 ]\n",
      "   [-1.733742   -1.2472366  -0.70719266 ... -1.1147779  -0.7385974\n",
      "    -1.6734693 ]\n",
      "   [-1.6878757  -1.2145036  -0.61827254 ... -1.1536915  -0.67256504\n",
      "    -1.8248887 ]\n",
      "   [-1.753274   -1.2277361  -0.7722903  ... -1.2261266  -0.67209816\n",
      "    -1.7060623 ]]]\n",
      "\n",
      "\n",
      " [[[-1.6799359  -1.1116966  -0.69250757 ... -1.2654845  -0.7463077\n",
      "    -1.8050753 ]\n",
      "   [-1.7296172  -1.1791297  -0.8111677  ... -1.2030054  -0.6622452\n",
      "    -1.7244556 ]\n",
      "   [-1.705372   -1.1704713  -0.6032731  ... -1.1948295  -0.7490177\n",
      "    -1.7762455 ]\n",
      "   [-1.7800949  -1.3117421  -0.76625586 ... -1.2468127  -0.6120515\n",
      "    -1.6975311 ]]\n",
      "\n",
      "  [[-1.6933748  -1.1567677  -0.6266935  ... -1.1866086  -0.73812014\n",
      "    -1.6686562 ]\n",
      "   [-1.6270819  -1.1537825  -0.70621514 ... -1.1860455  -0.5608104\n",
      "    -1.6442125 ]\n",
      "   [-1.7994263  -1.2074773  -0.7972891  ... -1.210426   -0.7766088\n",
      "    -1.6400859 ]\n",
      "   [-1.7566824  -1.1663607  -0.66941345 ... -1.2181115  -0.66166073\n",
      "    -1.7596942 ]]\n",
      "\n",
      "  [[-1.6869235  -1.320413   -0.66106033 ... -1.1316477  -0.68888795\n",
      "    -1.7472295 ]\n",
      "   [-1.7318738  -1.1878572  -0.724825   ... -1.1718768  -0.6629689\n",
      "    -1.6028055 ]\n",
      "   [-1.7620248  -1.1637727  -0.6835057  ... -1.2272857  -0.741258\n",
      "    -1.689531  ]\n",
      "   [-1.748261   -1.2120047  -0.73441225 ... -1.2780582  -0.72465193\n",
      "    -1.8275936 ]]\n",
      "\n",
      "  [[-1.691491   -1.1804127  -0.70874876 ... -1.17665    -0.7306173\n",
      "    -1.6797525 ]\n",
      "   [-1.6189349  -1.2377343  -0.68497515 ... -1.2390786  -0.6513051\n",
      "    -1.6814862 ]\n",
      "   [-1.6754537  -1.2066487  -0.710988   ... -1.1397446  -0.7315936\n",
      "    -1.6842756 ]\n",
      "   [-1.6875118  -1.302663   -0.62410474 ... -1.1577089  -0.73622525\n",
      "    -1.6555516 ]]]]\n"
     ]
    }
   ],
   "source": [
    "print(RWKV_part[9])"
   ],
   "metadata": {
    "collapsed": false,
    "ExecuteTime": {
     "end_time": "2024-04-05T13:02:09.460750Z",
     "start_time": "2024-04-05T13:02:09.441807Z"
    }
   },
   "id": "bcf0b585cc6d24e0",
   "execution_count": 61
  },
  {
   "cell_type": "code",
   "outputs": [
    {
     "data": {
      "text/plain": "Array(1.8921786e-09, dtype=float32, weak_type=True)"
     },
     "execution_count": 60,
     "metadata": {},
     "output_type": "execute_result"
    }
   ],
   "source": [
    "1/jnp.exp(jnp.exp(3))"
   ],
   "metadata": {
    "collapsed": false,
    "ExecuteTime": {
     "end_time": "2024-04-05T13:00:49.790824Z",
     "start_time": "2024-04-05T13:00:49.771497Z"
    }
   },
   "id": "e166721e6b26c007",
   "execution_count": 60
  },
  {
   "cell_type": "code",
   "outputs": [
    {
     "data": {
      "text/plain": "Array(0.00673795, dtype=float32, weak_type=True)"
     },
     "execution_count": 58,
     "metadata": {},
     "output_type": "execute_result"
    }
   ],
   "source": [
    "jnp.exp(-5)"
   ],
   "metadata": {
    "collapsed": false,
    "ExecuteTime": {
     "end_time": "2024-04-05T13:00:31.644884Z",
     "start_time": "2024-04-05T13:00:31.628467Z"
    }
   },
   "id": "723004283005077e",
   "execution_count": 58
  },
  {
   "cell_type": "code",
   "outputs": [],
   "source": [],
   "metadata": {
    "collapsed": false
   },
   "id": "9a58edb344031359"
  }
 ],
 "metadata": {
  "kernelspec": {
   "display_name": "Python 3",
   "language": "python",
   "name": "python3"
  },
  "language_info": {
   "codemirror_mode": {
    "name": "ipython",
    "version": 2
   },
   "file_extension": ".py",
   "mimetype": "text/x-python",
   "name": "python",
   "nbconvert_exporter": "python",
   "pygments_lexer": "ipython2",
   "version": "2.7.6"
  }
 },
 "nbformat": 4,
 "nbformat_minor": 5
}
