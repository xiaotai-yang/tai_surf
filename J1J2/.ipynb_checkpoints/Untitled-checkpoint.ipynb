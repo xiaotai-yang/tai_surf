{
 "cells": [
  {
   "cell_type": "code",
   "execution_count": 44,
   "id": "cd866536",
   "metadata": {},
   "outputs": [
    {
     "name": "stdout",
     "output_type": "stream",
     "text": [
      "1\n"
     ]
    }
   ],
   "source": [
    "import tensorflow as tf\n",
    "\n",
    "import sys\n",
    "print(1)"
   ]
  },
  {
   "cell_type": "code",
   "execution_count": 29,
   "id": "dc4e3101",
   "metadata": {},
   "outputs": [
    {
     "data": {
      "text/plain": [
       "array([0.88593384, 0.57841536, 0.50593254, 0.6262266 ])"
      ]
     },
     "execution_count": 29,
     "metadata": {},
     "output_type": "execute_result"
    }
   ],
   "source": [
    "np.load(\"tv_0.25position_60.npy\")"
   ]
  },
  {
   "cell_type": "code",
   "execution_count": 24,
   "id": "7f4661f6",
   "metadata": {},
   "outputs": [
    {
     "data": {
      "text/plain": [
       "array([[0.05209623, 0.05097875, 0.05574478, 0.0429248 ]])"
      ]
     },
     "execution_count": 24,
     "metadata": {},
     "output_type": "execute_result"
    }
   ],
   "source": [
    "np.load(\"tv_first_var0.0.npy\")"
   ]
  },
  {
   "cell_type": "code",
   "execution_count": 11,
   "id": "c9e87a1b",
   "metadata": {},
   "outputs": [
    {
     "data": {
      "text/plain": [
       "array([[0.10667124, 0.02259604, 0.04029338, 0.017396  , 0.02504426]])"
      ]
     },
     "execution_count": 11,
     "metadata": {},
     "output_type": "execute_result"
    }
   ],
   "source": [
    "np.load(\"tv_second_var0.24.npy\")"
   ]
  },
  {
   "cell_type": "code",
   "execution_count": 72,
   "id": "3c74bd9b",
   "metadata": {},
   "outputs": [
    {
     "ename": "NameError",
     "evalue": "name 'int32' is not defined",
     "output_type": "error",
     "traceback": [
      "\u001b[1;31m---------------------------------------------------------------------------\u001b[0m",
      "\u001b[1;31mNameError\u001b[0m                                 Traceback (most recent call last)",
      "Cell \u001b[1;32mIn[72], line 1\u001b[0m\n\u001b[1;32m----> 1\u001b[0m a \u001b[38;5;241m=\u001b[39m np\u001b[38;5;241m.\u001b[39marray([\u001b[38;5;241m1\u001b[39m,\u001b[38;5;241m2\u001b[39m,\u001b[38;5;241m3\u001b[39m,\u001b[38;5;241m-\u001b[39m\u001b[38;5;241m1\u001b[39m], dtype \u001b[38;5;241m=\u001b[39m \u001b[43mint32\u001b[49m)\n",
      "\u001b[1;31mNameError\u001b[0m: name 'int32' is not defined"
     ]
    }
   ],
   "source": [
    "a = np.array([1,2,3,-1])"
   ]
  },
  {
   "cell_type": "code",
   "execution_count": 71,
   "id": "a104e899",
   "metadata": {},
   "outputs": [
    {
     "data": {
      "text/plain": [
       "array([3], dtype=int64)"
      ]
     },
     "execution_count": 71,
     "metadata": {},
     "output_type": "execute_result"
    }
   ],
   "source": [
    "np.where(a==-1)[0]"
   ]
  },
  {
   "cell_type": "code",
   "execution_count": 51,
   "id": "a11805f6",
   "metadata": {},
   "outputs": [
    {
     "name": "stdout",
     "output_type": "stream",
     "text": [
      "(array([2, 3, 4], dtype=int64),)\n",
      "[ 4.  3. -1. -1. -1.  0.  0.  0.  0.  0.]\n"
     ]
    }
   ],
   "source": [
    "position = 4\n",
    "L = 10\n",
    "step = 2\n",
    "label = np.zeros((L))\n",
    "for i in range (position+1):   #position follows the label in python tradition\n",
    "    label[i] = np.abs(position-i)\n",
    "label[position] = -1\n",
    "length = np.max(label)\n",
    "output = 0\n",
    "# get the coordinate that we need to match\n",
    "for i in range (1, step+1):\n",
    "    pos_temp = np.where(label == i)\n",
    "    label[pos_temp] = -1\n",
    "\n",
    "label_where = np.where(label==-1)\n",
    "print(label_where)\n",
    "print(label)"
   ]
  },
  {
   "cell_type": "code",
   "execution_count": 52,
   "id": "53b8161f",
   "metadata": {},
   "outputs": [
    {
     "data": {
      "text/plain": [
       "array([4.])"
      ]
     },
     "execution_count": 52,
     "metadata": {},
     "output_type": "execute_result"
    }
   ],
   "source": [
    "label[np.where(label_where==np.array(2))[0]]"
   ]
  },
  {
   "cell_type": "code",
   "execution_count": 41,
   "id": "d7f58662",
   "metadata": {},
   "outputs": [
    {
     "ename": "AttributeError",
     "evalue": "module 'tensorflow' has no attribute 'contrib'",
     "output_type": "error",
     "traceback": [
      "\u001b[1;31m---------------------------------------------------------------------------\u001b[0m",
      "\u001b[1;31mAttributeError\u001b[0m                            Traceback (most recent call last)",
      "Cell \u001b[1;32mIn[41], line 26\u001b[0m\n\u001b[0;32m     22\u001b[0m np\u001b[38;5;241m.\u001b[39mrandom\u001b[38;5;241m.\u001b[39mseed(seed)  \u001b[38;5;66;03m# numpy pseudo-random generator\u001b[39;00m\n\u001b[0;32m     24\u001b[0m path \u001b[38;5;241m=\u001b[39m \u001b[38;5;124m\"\u001b[39m\u001b[38;5;124m/../Check_Points/J1J2/RNNwavefunction_N64_samp128_lradap0.0005_complexGRURNN_J1J20.24_units_64_zeromag.ckpt\u001b[39m\u001b[38;5;124m\"\u001b[39m\n\u001b[1;32m---> 26\u001b[0m wf\u001b[38;5;241m=\u001b[39mRNNwavefunction(N,units\u001b[38;5;241m=\u001b[39munits,cell\u001b[38;5;241m=\u001b[39m\u001b[43mtf\u001b[49m\u001b[38;5;241;43m.\u001b[39;49m\u001b[43mcontrib\u001b[49m\u001b[38;5;241m.\u001b[39mcudnn_rnn\u001b[38;5;241m.\u001b[39mCudnnCompatibleGRUCell, seed \u001b[38;5;241m=\u001b[39m seed) \u001b[38;5;66;03m# tensorflow pseudo-random generator\u001b[39;00m\n\u001b[0;32m     28\u001b[0m \u001b[38;5;28;01mwith\u001b[39;00m tf\u001b[38;5;241m.\u001b[39mcompat\u001b[38;5;241m.\u001b[39mv1\u001b[38;5;241m.\u001b[39mvariable_scope(wf\u001b[38;5;241m.\u001b[39mscope,reuse\u001b[38;5;241m=\u001b[39mtf\u001b[38;5;241m.\u001b[39mcompat\u001b[38;5;241m.\u001b[39mv1\u001b[38;5;241m.\u001b[39mAUTO_REUSE):\n\u001b[0;32m     29\u001b[0m     \u001b[38;5;28;01mwith\u001b[39;00m wf\u001b[38;5;241m.\u001b[39mgraph\u001b[38;5;241m.\u001b[39mas_default():\n",
      "\u001b[1;31mAttributeError\u001b[0m: module 'tensorflow' has no attribute 'contrib'"
     ]
    }
   ],
   "source": [
    "from ComplexRNNwavefunction import RNNwavefunction\n",
    "\n",
    "systemsize = 64\n",
    "J1_  = 1.0\n",
    "J2_ = 0.24\n",
    "Marshall_sign = True\n",
    "num_units = 64\n",
    "num_layers = 1\n",
    "numsamples = 128\n",
    "learningrate = 5*1e-4\n",
    "seed = 111\n",
    "N=systemsize #Number of spins\n",
    "lr = np.float64(learningrate)\n",
    "\n",
    "J1=+J1_*np.ones(N) # nearest neighbours couplings\n",
    "J2=+J2_*np.ones(N) # next-nearest neighbours couplings\n",
    "\n",
    "units = [num_units]\n",
    "\n",
    "#Seeding\n",
    "tf.compat.v1.reset_default_graph()\n",
    "np.random.seed(seed)  # numpy pseudo-random generator\n",
    "\n",
    "path = \"/../Check_Points/J1J2/RNNwavefunction_N64_samp128_lradap0.0005_complexGRURNN_J1J20.24_units_64_zeromag.ckpt\"\n",
    "\n",
    "wf=RNNwavefunction(N,units=units,cell=tf.contrib.cudnn_rnn.CudnnCompatibleGRUCell, seed = seed) # tensorflow pseudo-random generator\n",
    " \n",
    "with tf.compat.v1.variable_scope(wf.scope,reuse=tf.compat.v1.AUTO_REUSE):\n",
    "    with wf.graph.as_default():\n",
    "        saver=tf.compat.v1.train.Saver()"
   ]
  },
  {
   "cell_type": "code",
   "execution_count": 55,
   "id": "5b19e25c",
   "metadata": {},
   "outputs": [
    {
     "data": {
      "text/plain": [
       "1"
      ]
     },
     "execution_count": 55,
     "metadata": {},
     "output_type": "execute_result"
    }
   ],
   "source": [
    "len([[4,6]])"
   ]
  },
  {
   "cell_type": "code",
   "execution_count": 14,
   "id": "d888f5e2",
   "metadata": {},
   "outputs": [
    {
     "data": {
      "text/plain": [
       "array(2)"
      ]
     },
     "execution_count": 14,
     "metadata": {},
     "output_type": "execute_result"
    }
   ],
   "source": [
    "np.array(2)"
   ]
  },
  {
   "cell_type": "code",
   "execution_count": 17,
   "id": "9c0b638d",
   "metadata": {},
   "outputs": [
    {
     "data": {
      "text/plain": [
       "array([1], dtype=int64)"
      ]
     },
     "execution_count": 17,
     "metadata": {},
     "output_type": "execute_result"
    }
   ],
   "source": [
    "np.where(np.array([1,2,3])==np.array(2))[0]"
   ]
  },
  {
   "cell_type": "code",
   "execution_count": null,
   "id": "709d5117",
   "metadata": {},
   "outputs": [],
   "source": []
  }
 ],
 "metadata": {
  "kernelspec": {
   "display_name": "Python 3",
   "language": "python",
   "name": "python3"
  },
  "language_info": {
   "codemirror_mode": {
    "name": "ipython",
    "version": 3
   },
   "file_extension": ".py",
   "mimetype": "text/x-python",
   "name": "python",
   "nbconvert_exporter": "python",
   "pygments_lexer": "ipython3",
   "version": "3.6.13"
  }
 },
 "nbformat": 4,
 "nbformat_minor": 5
}
