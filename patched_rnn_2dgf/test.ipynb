{
 "cells": [
  {
   "cell_type": "code",
   "execution_count": 43,
   "id": "initial_id",
   "metadata": {
    "collapsed": true,
    "ExecuteTime": {
     "end_time": "2024-08-31T18:45:56.430304Z",
     "start_time": "2024-08-31T18:45:56.406325Z"
    }
   },
   "outputs": [
    {
     "data": {
      "text/plain": "False"
     },
     "execution_count": 43,
     "metadata": {},
     "output_type": "execute_result"
    }
   ],
   "source": [
    "a = 2\n",
    "a % 2 == True"
   ]
  },
  {
   "cell_type": "code",
   "outputs": [
    {
     "name": "stdout",
     "output_type": "stream",
     "text": [
      "0.0\n",
      "0.15707963267948966\n",
      "0.3141592653589793\n",
      "0.47123889803846897\n",
      "0.6283185307179586\n",
      "0.7853981633974483\n",
      "0.9424777960769379\n",
      "1.0995574287564276\n",
      "1.2566370614359172\n",
      "1.413716694115407\n",
      "1.5707963267948966\n"
     ]
    }
   ],
   "source": [
    "import jax.random\n",
    "import matplotlib.pyplot as plt\n",
    "import jax.numpy as jnp\n",
    "import netket as nk\n",
    "from scipy.sparse.linalg import eigsh\n",
    "import numpy as np\n",
    "from netket.operator.spin import sigmax,sigmaz\n",
    "import itertools\n",
    "    \n",
    "\n",
    "\n",
    "# Parameters\n",
    "ang_ = [0.0, 0.157, 0.314, 0.471, 0.628, 0.785, 0.942, 1.1, 1.257, 1.414, 1.571]\n",
    "a = 0\n",
    "for angle in jnp.linspace(0.0, jnp.pi/2, 11):\n",
    "    L = 4\n",
    "    ang = ang_[a] \n",
    "    print(angle)\n",
    "    # Define the hi space\n",
    "    hi = nk.hilbert.Spin(s=0.5, N=L**2)\n",
    "    \n",
    "    # Add the terms from the ITensor h\n",
    "    # First set of terms\n",
    "    h = - np.cos(angle) ** 3 * sigmaz(hi, 0) @  sigmax(hi, 1) * sigmax(hi, L)\n",
    "    h +=  np.cos(angle) ** 2 * np.sin(angle) *  sigmax(hi, 0) @  sigmax(hi, 1) * sigmax(hi, L)\n",
    "    h -=  np.cos(angle) ** 2 * np.sin(angle) *  sigmaz(hi, 0) @  sigmaz(hi, 1) * sigmax(hi, L)\n",
    "    h -=  np.cos(angle) ** 2 * np.sin(angle) *  sigmaz(hi, 0) @  sigmax(hi, 1) * sigmaz(hi, L)\n",
    "    h +=  np.cos(angle) * np.sin(angle) ** 2 *  sigmax(hi, 0) @  sigmaz(hi, 1) * sigmax(hi, L)\n",
    "    h +=  np.cos(angle) * np.sin(angle) ** 2 *  sigmax(hi, 0) @  sigmax(hi, 1) * sigmaz(hi, L)\n",
    "    h -=  np.cos(angle) * np.sin(angle) ** 2 *  sigmaz(hi, 0) @  sigmaz(hi, 1) * sigmaz(hi, L)\n",
    "    h +=  np.sin(angle) ** 3 * sigmax(hi, 0) @  sigmaz(hi, 1) * sigmaz(hi, L)\n",
    "    \n",
    "    h -= np.cos(angle) ** 3 * sigmaz(hi, L-1) @ sigmax(hi, L-2) @ sigmax(hi, 2*L-1)\n",
    "    h += np.cos(angle) ** 2 * np.sin(angle) * sigmax(hi, L-1) @ sigmax(hi, L-2) @ sigmax(hi, 2*L-1)\n",
    "    h -= np.cos(angle) ** 2 * np.sin(angle) * sigmaz(hi, L-1) @ sigmaz(hi, L-2) @ sigmax(hi, 2*L-1)\n",
    "    h -= np.cos(angle) ** 2 * np.sin(angle) * sigmaz(hi, L-1) @ sigmax(hi, L-2) @ sigmaz(hi, 2*L-1)\n",
    "    h += np.cos(angle) * np.sin(angle) ** 2 * sigmax(hi, L-1) @ sigmaz(hi, L-2) @ sigmax(hi, 2*L-1)\n",
    "    h += np.cos(angle) * np.sin(angle) ** 2 * sigmax(hi, L-1) @ sigmax(hi, L-2) @ sigmaz(hi, 2*L-1)\n",
    "    h -= np.cos(angle) * np.sin(angle) ** 2 * sigmaz(hi, L-1) @ sigmaz(hi, L-2) @ sigmaz(hi, 2*L-1)\n",
    "    h += np.sin(angle) ** 3 * sigmax(hi, L-1) @ sigmaz(hi, L-2) @ sigmaz(hi, 2*L-1)\n",
    "    \n",
    "    h -= np.cos(angle) ** 3 * sigmaz(hi, L*(L-1)) @ sigmax(hi, L*(L-2)) @ sigmax(hi, L*(L-1)+1)\n",
    "    h += np.cos(angle) ** 2 * np.sin(angle) * sigmax(hi, L*(L-1)) @ sigmax(hi, L*(L-2)) @ sigmax(hi, L*(L-1)+1)\n",
    "    h -= np.cos(angle) ** 2 * np.sin(angle) * sigmaz(hi, L*(L-1)) @ sigmaz(hi, L*(L-2)) @ sigmax(hi, L*(L-1)+1)\n",
    "    h -= np.cos(angle) ** 2 * np.sin(angle) * sigmaz(hi, L*(L-1)) @ sigmax(hi, L*(L-2)) @ sigmaz(hi, L*(L-1)+1)\n",
    "    h += np.cos(angle) * np.sin(angle) ** 2 * sigmax(hi, L*(L-1)) @ sigmaz(hi, L*(L-2)) @ sigmax(hi, L*(L-1)+1)\n",
    "    h += np.cos(angle) * np.sin(angle) ** 2 * sigmax(hi, L*(L-1)) @ sigmax(hi, L*(L-2)) @ sigmaz(hi, L*(L-1)+1)\n",
    "    h -= np.cos(angle) * np.sin(angle) ** 2 * sigmaz(hi, L*(L-1)) @ sigmaz(hi, L*(L-2)) @ sigmaz(hi, L*(L-1)+1)\n",
    "    h += np.sin(angle) ** 3 * sigmax(hi, L*(L-1)) @ sigmaz(hi, L*(L-2)) @ sigmaz(hi, L*(L-1)+1)\n",
    "    \n",
    "    \n",
    "    h -= np.cos(angle) ** 3 * sigmaz(hi, L*L-1) @ sigmax(hi, L*L-2) @ sigmax(hi, L*(L-1)-1)\n",
    "    h += np.cos(angle) ** 2 * np.sin(angle) * sigmax(hi, L*L-1) @ sigmax(hi, L*L-2) @ sigmax(hi, L*(L-1)-1)\n",
    "    h -= np.cos(angle) ** 2 * np.sin(angle) * sigmaz(hi, L*L-1) @ sigmaz(hi, L*L-2) @ sigmax(hi, L*(L-1)-1)\n",
    "    h -= np.cos(angle) ** 2 * np.sin(angle) * sigmaz(hi, L*L-1) @ sigmax(hi, L*L-2) @ sigmaz(hi, L*(L-1)-1)\n",
    "    h += np.cos(angle) * np.sin(angle) ** 2 * sigmax(hi, L*L-1) @ sigmaz(hi, L*L-2) @ sigmax(hi, L*(L-1)-1)\n",
    "    h += np.cos(angle) * np.sin(angle) ** 2 * sigmax(hi, L*L-1) @ sigmax(hi, L*L-2) @ sigmaz(hi, L*(L-1)-1)\n",
    "    h -= np.cos(angle) * np.sin(angle) ** 2 * sigmaz(hi, L*L-1) @ sigmaz(hi, L*L-2) @ sigmaz(hi, L*(L-1)-1)\n",
    "    h += np.sin(angle) ** 3 * sigmax(hi, L*L-1) @ sigmaz(hi, L*L-2) @ sigmaz(hi, L*(L-1)-1)\n",
    "    \n",
    "    \n",
    "    for i in range(1, L-1):\n",
    "        \n",
    "        h -= np.cos(angle) ** 4 * sigmaz(hi, i) @ sigmax(hi, i-1) @ sigmax(hi, i+1) @ sigmax(hi, i+L)\n",
    "        h += np.cos(angle) ** 3 * np.sin(angle) * sigmax(hi, i) @ sigmax(hi, i-1) @ sigmax(hi, i+1) @ sigmax(hi, i+L)\n",
    "        h -= np.cos(angle) ** 3 * np.sin(angle) * sigmaz(hi, i) @ sigmaz(hi, i-1) @ sigmax(hi, i+1) @ sigmax(hi, i+L)\n",
    "        h -= np.cos(angle) ** 3 * np.sin(angle) * sigmaz(hi, i) @ sigmax(hi, i-1) @ sigmaz(hi, i+1) @ sigmax(hi, i+L)\n",
    "        h -= np.cos(angle) ** 3 * np.sin(angle) * sigmaz(hi, i) @ sigmax(hi, i-1) @ sigmax(hi, i+1) @ sigmaz(hi, i+L)\n",
    "        h += np.cos(angle) ** 2 * np.sin(angle) ** 2 * sigmax(hi, i) @ sigmaz(hi, i-1) @ sigmax(hi, i+1) @ sigmax(hi, i+L)\n",
    "        h += np.cos(angle) ** 2 * np.sin(angle) ** 2 * sigmax(hi, i) @ sigmax(hi, i-1) @ sigmaz(hi, i+1) @ sigmax(hi, i+L)\n",
    "        h += np.cos(angle) ** 2 * np.sin(angle) ** 2 * sigmax(hi, i) @ sigmax(hi, i-1) @ sigmax(hi, i+1) @ sigmaz(hi, i+L)\n",
    "        h -= np.cos(angle) ** 2 * np.sin(angle) ** 2 * sigmaz(hi, i) @ sigmaz(hi, i-1) @ sigmaz(hi, i+1) @ sigmax(hi, i+L)\n",
    "        h -= np.cos(angle) ** 2 * np.sin(angle) ** 2 * sigmaz(hi, i) @ sigmaz(hi, i-1) @ sigmax(hi, i+1) @ sigmaz(hi, i+L)\n",
    "        h -= np.cos(angle) ** 2 * np.sin(angle) ** 2 * sigmaz(hi, i) @ sigmax(hi, i-1) @ sigmaz(hi, i+1) @ sigmaz(hi, i+L)\n",
    "        h += np.cos(angle) * np.sin(angle) ** 3 * sigmax(hi, i) @ sigmax(hi, i-1) @ sigmaz(hi, i+1) @ sigmaz(hi, i+L)\n",
    "        h += np.cos(angle) * np.sin(angle) ** 3 * sigmax(hi, i) @ sigmaz(hi, i-1) @ sigmax(hi, i+1) @ sigmaz(hi, i+L)\n",
    "        h += np.cos(angle) * np.sin(angle) ** 3 * sigmax(hi, i) @ sigmaz(hi, i-1) @ sigmaz(hi, i+1) @ sigmax(hi, i+L)\n",
    "        h -= np.cos(angle) * np.sin(angle) ** 3 * sigmaz(hi, i) @ sigmaz(hi, i-1) @ sigmaz(hi, i+1) @ sigmaz(hi, i+L)\n",
    "        h += np.sin(angle) ** 4 * sigmax(hi, i) @ sigmaz(hi, i-1) @ sigmaz(hi, i+1) @ sigmaz(hi, i+L)\n",
    "        \n",
    "        j = i*L\n",
    "        h -= np.cos(angle) ** 4 * sigmaz(hi, j) @ sigmax(hi, j-L) @ sigmax(hi, j+1) @ sigmax(hi, j+L)\n",
    "        h += np.cos(angle) ** 3 * np.sin(angle) * sigmax(hi, j) @ sigmax(hi, j-L) @ sigmax(hi, j+1) @ sigmax(hi, j+L)\n",
    "        h -= np.cos(angle) ** 3 * np.sin(angle) * sigmaz(hi, j) @ sigmaz(hi, j-L) @ sigmax(hi, j+1) @ sigmax(hi, j+L)\n",
    "        h -= np.cos(angle) ** 3 * np.sin(angle) * sigmaz(hi, j) @ sigmax(hi, j-L) @ sigmaz(hi, j+1) @ sigmax(hi, j+L)\n",
    "        h -= np.cos(angle) ** 3 * np.sin(angle) * sigmaz(hi, j) @ sigmax(hi, j-L) @ sigmax(hi, j+1) @ sigmaz(hi, j+L)\n",
    "        h += np.cos(angle) ** 2 * np.sin(angle) ** 2 * sigmax(hi, j) @ sigmaz(hi, j-L) @ sigmax(hi, j+1) @ sigmax(hi, j+L)\n",
    "        h += np.cos(angle) ** 2 * np.sin(angle) ** 2 * sigmax(hi, j) @ sigmax(hi, j-L) @ sigmaz(hi, j+1) @ sigmax(hi, j+L)\n",
    "        h += np.cos(angle) ** 2 * np.sin(angle) ** 2 * sigmax(hi, j) @ sigmax(hi, j-L) @ sigmax(hi, j+1) @ sigmaz(hi, j+L)\n",
    "        h -= np.cos(angle) ** 2 * np.sin(angle) ** 2 * sigmaz(hi, j) @ sigmaz(hi, j-L) @ sigmaz(hi, j+1) @ sigmax(hi, j+L)\n",
    "        h -= np.cos(angle) ** 2 * np.sin(angle) ** 2 * sigmaz(hi, j) @ sigmaz(hi, j-L) @ sigmax(hi, j+1) @ sigmaz(hi, j+L)\n",
    "        h -= np.cos(angle) ** 2 * np.sin(angle) ** 2 * sigmaz(hi, j) @ sigmax(hi, j-L) @ sigmaz(hi, j+1) @ sigmaz(hi, j+L)\n",
    "        h += np.cos(angle) * np.sin(angle) ** 3 * sigmax(hi, j) @ sigmax(hi, j-L) @ sigmaz(hi, j+1) @ sigmaz(hi, j+L)\n",
    "        h += np.cos(angle) * np.sin(angle) ** 3 * sigmax(hi, j) @ sigmaz(hi, j-L) @ sigmax(hi, j+1) @ sigmaz(hi, j+L)\n",
    "        h += np.cos(angle) * np.sin(angle) ** 3 * sigmax(hi, j) @ sigmaz(hi, j-L) @ sigmaz(hi, j+1) @ sigmax(hi, j+L)\n",
    "        h -= np.cos(angle) * np.sin(angle) ** 3 * sigmaz(hi, j) @ sigmaz(hi, j-L) @ sigmaz(hi, j+1) @ sigmaz(hi, j+L)\n",
    "        h += np.sin(angle) ** 4 * sigmax(hi, j) @ sigmaz(hi, j-L) @ sigmaz(hi, j+1) @ sigmaz(hi, j+L)\n",
    "        \n",
    "        j += L-1\n",
    "        \n",
    "        h -= np.cos(angle) ** 4 * sigmaz(hi, j) @ sigmax(hi, j-L) @ sigmax(hi, j-1) @ sigmax(hi, j+L)\n",
    "        h += np.cos(angle) ** 3 * np.sin(angle) * sigmax(hi, j) @ sigmax(hi, j-L) @ sigmax(hi, j-1) @ sigmax(hi, j+L)\n",
    "        h -= np.cos(angle) ** 3 * np.sin(angle) * sigmaz(hi, j) @ sigmaz(hi, j-L) @ sigmax(hi, j-1) @ sigmax(hi, j+L)\n",
    "        h -= np.cos(angle) ** 3 * np.sin(angle) * sigmaz(hi, j) @ sigmax(hi, j-L) @ sigmaz(hi, j-1) @ sigmax(hi, j+L)\n",
    "        h -= np.cos(angle) ** 3 * np.sin(angle) * sigmaz(hi, j) @ sigmax(hi, j-L) @ sigmax(hi, j-1) @ sigmaz(hi, j+L)\n",
    "        h += np.cos(angle) ** 2 * np.sin(angle) ** 2 * sigmax(hi, j) @ sigmaz(hi, j-L) @ sigmax(hi, j-1) @ sigmax(hi, j+L)\n",
    "        h += np.cos(angle) ** 2 * np.sin(angle) ** 2 * sigmax(hi, j) @ sigmax(hi, j-L) @ sigmaz(hi, j-1) @ sigmax(hi, j+L)\n",
    "        h += np.cos(angle) ** 2 * np.sin(angle) ** 2 * sigmax(hi, j) @ sigmax(hi, j-L) @ sigmax(hi, j-1) @ sigmaz(hi, j+L)\n",
    "        h -= np.cos(angle) ** 2 * np.sin(angle) ** 2 * sigmaz(hi, j) @ sigmaz(hi, j-L) @ sigmaz(hi, j-1) @ sigmax(hi, j+L)\n",
    "        h -= np.cos(angle) ** 2 * np.sin(angle) ** 2 * sigmaz(hi, j) @ sigmaz(hi, j-L) @ sigmax(hi, j-1) @ sigmaz(hi, j+L)\n",
    "        h -= np.cos(angle) ** 2 * np.sin(angle) ** 2 * sigmaz(hi, j) @ sigmax(hi, j-L) @ sigmaz(hi, j-1) @ sigmaz(hi, j+L)\n",
    "        h += np.cos(angle) * np.sin(angle) ** 3 * sigmax(hi, j) @ sigmax(hi, j-L) @ sigmaz(hi, j-1) @ sigmaz(hi, j+L)\n",
    "        h += np.cos(angle) * np.sin(angle) ** 3 * sigmax(hi, j) @ sigmaz(hi, j-L) @ sigmax(hi, j-1) @ sigmaz(hi, j+L)\n",
    "        h += np.cos(angle) * np.sin(angle) ** 3 * sigmax(hi, j) @ sigmaz(hi, j-L) @ sigmaz(hi, j-1) @ sigmax(hi, j+L)\n",
    "        h -= np.cos(angle) * np.sin(angle) ** 3 * sigmaz(hi, j) @ sigmaz(hi, j-L) @ sigmaz(hi, j-1) @ sigmaz(hi, j+L)\n",
    "        h += np.sin(angle) ** 4 * sigmax(hi, j) @ sigmaz(hi, j-L) @ sigmaz(hi, j-1) @ sigmaz(hi, j+L)\n",
    "        \n",
    "        i += L*(L-1)\n",
    "        h -= np.cos(angle) ** 4 * sigmaz(hi, i) @ sigmax(hi, i-1) @ sigmax(hi, i+1) @ sigmax(hi, i-L)\n",
    "        h += np.cos(angle) ** 3 * np.sin(angle) * sigmax(hi, i) @ sigmax(hi, i-1) @ sigmax(hi, i+1) @ sigmax(hi, i-L)\n",
    "        h -= np.cos(angle) ** 3 * np.sin(angle) * sigmaz(hi, i) @ sigmaz(hi, i-1) @ sigmax(hi, i+1) @ sigmax(hi, i-L)\n",
    "        h -= np.cos(angle) ** 3 * np.sin(angle) * sigmaz(hi, i) @ sigmax(hi, i-1) @ sigmaz(hi, i+1) @ sigmax(hi, i-L)\n",
    "        h -= np.cos(angle) ** 3 * np.sin(angle) * sigmaz(hi, i) @ sigmax(hi, i-1) @ sigmax(hi, i+1) @ sigmaz(hi, i-L)\n",
    "        h += np.cos(angle) ** 2 * np.sin(angle) ** 2 * sigmax(hi, i) @ sigmaz(hi, i-1) @ sigmax(hi, i+1) @ sigmax(hi, i-L)\n",
    "        h += np.cos(angle) ** 2 * np.sin(angle) ** 2 * sigmax(hi, i) @ sigmax(hi, i-1) @ sigmaz(hi, i+1) @ sigmax(hi, i-L)\n",
    "        h += np.cos(angle) ** 2 * np.sin(angle) ** 2 * sigmax(hi, i) @ sigmax(hi, i-1) @ sigmax(hi, i+1) @ sigmaz(hi, i-L)\n",
    "        h -= np.cos(angle) ** 2 * np.sin(angle) ** 2 * sigmaz(hi, i) @ sigmaz(hi, i-1) @ sigmaz(hi, i+1) @ sigmax(hi, i-L)\n",
    "        h -= np.cos(angle) ** 2 * np.sin(angle) ** 2 * sigmaz(hi, i) @ sigmaz(hi, i-1) @ sigmax(hi, i+1) @ sigmaz(hi, i-L)\n",
    "        h -= np.cos(angle) ** 2 * np.sin(angle) ** 2 * sigmaz(hi, i) @ sigmax(hi, i-1) @ sigmaz(hi, i+1) @ sigmaz(hi, i-L)\n",
    "        h += np.cos(angle) * np.sin(angle) ** 3 * sigmax(hi, i) @ sigmax(hi, i-1) @ sigmaz(hi, i+1) @ sigmaz(hi, i-L)\n",
    "        h += np.cos(angle) * np.sin(angle) ** 3 * sigmax(hi, i) @ sigmaz(hi, i-1) @ sigmax(hi, i+1) @ sigmaz(hi, i-L)\n",
    "        h += np.cos(angle) * np.sin(angle) ** 3 * sigmax(hi, i) @ sigmaz(hi, i-1) @ sigmaz(hi, i+1) @ sigmax(hi, i-L)\n",
    "        h -= np.cos(angle) * np.sin(angle) ** 3 * sigmaz(hi, i) @ sigmaz(hi, i-1) @ sigmaz(hi, i+1) @ sigmaz(hi, i-L)\n",
    "        h += np.sin(angle) ** 4 * sigmax(hi, i) @ sigmaz(hi, i-1) @ sigmaz(hi, i+1) @ sigmaz(hi, i-L)\n",
    "    \n",
    "    for i in range ((L-2)**2):\n",
    "        y = i // (L-2)\n",
    "        x = i % (L-2)\n",
    "        i = (y+1)*L+x+1\n",
    "        h -= np.cos(angle) ** 5 * sigmaz(hi, i) @ sigmax(hi, i-1) @ sigmax(hi, i+1) @ sigmax(hi, i-L) @ sigmax(hi, i+L)\n",
    "        h += np.cos(angle) ** 4 * np.sin(angle) * sigmax(hi, i) @ sigmax(hi, i-1) @ sigmax(hi, i+1) @ sigmax(hi, i-L) @ sigmax(hi, i+L)\n",
    "        h -= np.cos(angle) ** 4 * np.sin(angle) * sigmaz(hi, i) @ sigmaz(hi, i-1) @ sigmax(hi, i+1) @ sigmax(hi, i-L) @ sigmax(hi, i+L)\n",
    "        h -= np.cos(angle) ** 4 * np.sin(angle) * sigmaz(hi, i) @ sigmax(hi, i-1) @ sigmaz(hi, i+1) @ sigmax(hi, i-L) @ sigmax(hi, i+L)\n",
    "        h -= np.cos(angle) ** 4 * np.sin(angle) * sigmaz(hi, i) @ sigmax(hi, i-1) @ sigmax(hi, i+1) @ sigmaz(hi, i-L) @ sigmax(hi, i+L)\n",
    "        h -= np.cos(angle) ** 4 * np.sin(angle) * sigmaz(hi, i) @ sigmax(hi, i-1) @ sigmax(hi, i+1) @ sigmax(hi, i-L) @ sigmaz(hi, i+L)\n",
    "        \n",
    "        h += np.cos(angle) ** 3 * np.sin(angle) ** 2 * sigmax(hi, i) @ sigmaz(hi, i-1) @ sigmax(hi, i+1) @ sigmax(hi, i-L) @ sigmax(hi, i+L)\n",
    "        h += np.cos(angle) ** 3 * np.sin(angle) ** 2 * sigmax(hi, i) @ sigmax(hi, i-1) @ sigmaz(hi, i+1) @ sigmax(hi, i-L) @ sigmax(hi, i+L)\n",
    "        h += np.cos(angle) ** 3 * np.sin(angle) ** 2 * sigmax(hi, i) @ sigmax(hi, i-1) @ sigmax(hi, i+1) @ sigmaz(hi, i-L) @ sigmax(hi, i+L)\n",
    "        h += np.cos(angle) ** 3 * np.sin(angle) ** 2 * sigmax(hi, i) @ sigmax(hi, i-1) @ sigmax(hi, i+1) @ sigmax(hi, i-L) @ sigmaz(hi, i+L)\n",
    "        h -= np.cos(angle) ** 3 * np.sin(angle) ** 2 * sigmaz(hi, i) @ sigmaz(hi, i-1) @ sigmaz(hi, i+1) @ sigmax(hi, i-L) @ sigmax(hi, i+L)\n",
    "        h -= np.cos(angle) ** 3 * np.sin(angle) ** 2 * sigmaz(hi, i) @ sigmaz(hi, i-1) @ sigmax(hi, i+1) @ sigmaz(hi, i-L) @ sigmax(hi, i+L)\n",
    "        h -= np.cos(angle) ** 3 * np.sin(angle) ** 2 * sigmaz(hi, i) @ sigmaz(hi, i-1) @ sigmax(hi, i+1) @ sigmax(hi, i-L) @ sigmaz(hi, i+L)\n",
    "        h -= np.cos(angle) ** 3 * np.sin(angle) ** 2 * sigmaz(hi, i) @ sigmax(hi, i-1) @ sigmaz(hi, i+1) @ sigmaz(hi, i-L) @ sigmax(hi, i+L)\n",
    "        h -= np.cos(angle) ** 3 * np.sin(angle) ** 2 * sigmaz(hi, i) @ sigmax(hi, i-1) @ sigmaz(hi, i+1) @ sigmax(hi, i-L) @ sigmaz(hi, i+L)\n",
    "        h -= np.cos(angle) ** 3 * np.sin(angle) ** 2 * sigmaz(hi, i) @ sigmax(hi, i-1) @ sigmax(hi, i+1) @ sigmaz(hi, i-L) @ sigmaz(hi, i+L)\n",
    "        \n",
    "        h += np.cos(angle) ** 2 * np.sin(angle) ** 3 * sigmax(hi, i) @ sigmaz(hi, i-1) @ sigmaz(hi, i+1) @ sigmax(hi, i-L) @ sigmax(hi, i+L)\n",
    "        h += np.cos(angle) ** 2 * np.sin(angle) ** 3 * sigmax(hi, i) @ sigmaz(hi, i-1) @ sigmax(hi, i+1) @ sigmaz(hi, i-L) @ sigmax(hi, i+L)\n",
    "        h += np.cos(angle) ** 2 * np.sin(angle) ** 3 * sigmax(hi, i) @ sigmaz(hi, i-1) @ sigmax(hi, i+1) @ sigmax(hi, i-L) @ sigmaz(hi, i+L)\n",
    "        h += np.cos(angle) ** 2 * np.sin(angle) ** 3 * sigmax(hi, i) @ sigmax(hi, i-1) @ sigmaz(hi, i+1) @ sigmaz(hi, i-L) @ sigmax(hi, i+L)\n",
    "        h += np.cos(angle) ** 2 * np.sin(angle) ** 3 * sigmax(hi, i) @ sigmax(hi, i-1) @ sigmaz(hi, i+1) @ sigmax(hi, i-L) @ sigmaz(hi, i+L)\n",
    "        h += np.cos(angle) ** 2 * np.sin(angle) ** 3 * sigmax(hi, i) @ sigmax(hi, i-1) @ sigmax(hi, i+1) @ sigmaz(hi, i-L) @ sigmaz(hi, i+L)\n",
    "        h -= np.cos(angle) ** 2 * np.sin(angle) ** 3 * sigmaz(hi, i) @ sigmax(hi, i-1) @ sigmaz(hi, i+1) @ sigmaz(hi, i-L) @ sigmaz(hi, i+L)\n",
    "        h -= np.cos(angle) ** 2 * np.sin(angle) ** 3 * sigmaz(hi, i) @ sigmaz(hi, i-1) @ sigmax(hi, i+1) @ sigmaz(hi, i-L) @ sigmaz(hi, i+L)\n",
    "        h -= np.cos(angle) ** 2 * np.sin(angle) ** 3 * sigmaz(hi, i) @ sigmaz(hi, i-1) @ sigmaz(hi, i+1) @ sigmax(hi, i-L) @ sigmaz(hi, i+L)\n",
    "        h -= np.cos(angle) ** 2 * np.sin(angle) ** 3 * sigmaz(hi, i) @ sigmaz(hi, i-1) @ sigmaz(hi, i+1) @ sigmaz(hi, i-L) @ sigmax(hi, i+L)\n",
    "        \n",
    "        h -= np.cos(angle) * np.sin(angle) ** 4 * sigmaz(hi, i) @ sigmaz(hi, i-1) @ sigmaz(hi, i+1) @ sigmaz(hi, i-L) @ sigmaz(hi, i+L)\n",
    "        h += np.cos(angle) * np.sin(angle) ** 4 * sigmax(hi, i) @ sigmax(hi, i-1) @ sigmaz(hi, i+1) @ sigmaz(hi, i-L) @ sigmaz(hi, i+L)\n",
    "        h += np.cos(angle) * np.sin(angle) ** 4 * sigmax(hi, i) @ sigmaz(hi, i-1) @ sigmax(hi, i+1) @ sigmaz(hi, i-L) @ sigmaz(hi, i+L)\n",
    "        h += np.cos(angle) * np.sin(angle) ** 4 * sigmax(hi, i) @ sigmaz(hi, i-1) @ sigmaz(hi, i+1) @ sigmax(hi, i-L) @ sigmaz(hi, i+L)\n",
    "        h += np.cos(angle) * np.sin(angle) ** 4 * sigmax(hi, i) @ sigmaz(hi, i-1) @ sigmaz(hi, i+1) @ sigmaz(hi, i-L) @ sigmax(hi, i+L)\n",
    "        \n",
    "        h += np.sin(angle) ** 5 * sigmax(hi, i) @ sigmaz(hi, i-1) @ sigmaz(hi, i+1) @ sigmaz(hi, i-L) @ sigmaz(hi, i+L)\n",
    "        \n",
    "    H_ = h.to_sparse()\n",
    "    eig_vals, eig_vecs = eigsh(H_, k=1, which=\"SA\")\n",
    "    amp = np.zeros(2**L)\n",
    "    con = np.zeros(L)\n",
    "    np.save(\"eig_vec_thata_\"+str(ang), eig_vecs.ravel())\n",
    "    a += 1"
   ],
   "metadata": {
    "collapsed": false,
    "ExecuteTime": {
     "end_time": "2024-08-30T17:35:21.169493Z",
     "start_time": "2024-08-30T17:34:34.408205Z"
    }
   },
   "id": "b967b117b211b597",
   "execution_count": 23
  },
  {
   "cell_type": "code",
   "outputs": [
    {
     "name": "stdout",
     "output_type": "stream",
     "text": [
      "[-16.]\n"
     ]
    }
   ],
   "source": [
    "h =- sigmaz(hi, 0) @  sigmax(hi, 1) * sigmax(hi, L)\n",
    "h -= sigmaz(hi, L-1) @ sigmax(hi, L-2) @ sigmax(hi, 2*L-1)\n",
    "h -= sigmaz(hi, L*(L-1)) @ sigmax(hi, L*(L-2)) @ sigmax(hi, L*(L-1)+1)\n",
    "h -= sigmaz(hi, L*L-1) @ sigmax(hi, L*L-2) @ sigmax(hi, L*(L-1)-1)\n",
    "\n",
    "for i in range(1, L-1):\n",
    "    h -= sigmaz(hi, i) @ sigmax(hi, i-1) @ sigmax(hi, i+1) @ sigmax(hi, i+L)\n",
    "    j = i*L\n",
    "    h -= sigmaz(hi, j) @ sigmax(hi, j-L) @ sigmax(hi, j+1) @ sigmax(hi, j+L)\n",
    "    j = i*L+L-1\n",
    "    h -= sigmaz(hi, j) @ sigmax(hi, j-1) @ sigmax(hi, j+L) @ sigmax(hi, j-L)\n",
    "    i += L*(L-1)\n",
    "    h -= sigmaz(hi, i) @ sigmax(hi, i-1) @ sigmax(hi, i+1) @ sigmax(hi, i-L)\n",
    "    \n",
    "for i in range ((L-2)**2):\n",
    "    y = i // (L-2)\n",
    "    x = i % (L-2)\n",
    "    i = (y+1)*L+x+1\n",
    "    h -= sigmaz(hi, i) @ sigmax(hi, i-1) @ sigmax(hi, i+1) @ sigmax(hi, i-L) @ sigmax(hi, i+L)\n",
    "H_ = h.to_sparse()\n",
    "eig_vals, eig_vecs = eigsh(H_, k=1, which=\"SA\")\n",
    "print(eig_vals)"
   ],
   "metadata": {
    "collapsed": false,
    "ExecuteTime": {
     "end_time": "2024-08-30T17:28:41.669897Z",
     "start_time": "2024-08-30T17:28:40.701353Z"
    }
   },
   "id": "f566c92c54eb885f",
   "execution_count": 18
  },
  {
   "cell_type": "code",
   "outputs": [],
   "source": [
    "from jax.random import PRNGKey, categorical, split\n",
    "from jax import vmap\n",
    "key = PRNGKey(0)\n",
    "key_ = split(key, 32)\n",
    "prob = jnp.abs(eig_vecs.ravel())**2\n",
    "vmap_cat = vmap(categorical, in_axes=(0, None))\n",
    "state = vmap_cat(key_, prob)"
   ],
   "metadata": {
    "collapsed": false,
    "ExecuteTime": {
     "end_time": "2024-08-30T17:57:58.487445Z",
     "start_time": "2024-08-30T17:57:58.189732Z"
    }
   },
   "id": "8b7ba115e7aef6fb",
   "execution_count": 30
  },
  {
   "cell_type": "code",
   "outputs": [],
   "source": [
    "state_2 = int_to_binary_array(state, L**2)"
   ],
   "metadata": {
    "collapsed": false,
    "ExecuteTime": {
     "end_time": "2024-08-30T18:00:18.698336Z",
     "start_time": "2024-08-30T18:00:18.548896Z"
    }
   },
   "id": "c19f2585191f4606",
   "execution_count": 35
  },
  {
   "cell_type": "code",
   "outputs": [],
   "source": [
    "def int_to_binary_array(x, num_bits):\n",
    "    \"\"\"\n",
    "    Converts an array of integers to their binary representation arrays with a fixed number of bits.\n",
    "    This function is designed to be compatible with Jax's vmap for vectorization over an array of integers.\n",
    "\n",
    "    Parameters:\n",
    "    - x: An array of integers, the numbers to convert.\n",
    "    - num_bits: Integer, the fixed number of bits for the binary representation.\n",
    "\n",
    "    Returns:\n",
    "    - A 2D Jax array where each row is the binary representation of an integer in 'x'.\n",
    "    \"\"\"\n",
    "    # Create an array of bit positions: [2^(num_bits-1), 2^(num_bits-2), ..., 1]\n",
    "    powers_of_two = 2 ** jnp.arange(num_bits - 1, -1, -1)\n",
    "\n",
    "    # Expand dims of x and powers_of_two for broadcasting\n",
    "    x_expanded = x[:, None]\n",
    "    powers_of_two_expanded = powers_of_two[None, :]\n",
    "\n",
    "    # Perform bitwise AND between each number and each power of two, then right shift to get the bit value\n",
    "    binary_matrix = (x_expanded & powers_of_two_expanded) >> jnp.arange(num_bits - 1, -1, -1)\n",
    "\n",
    "    return binary_matrix.astype(jnp.int32)  # Ensure the result is integer\n"
   ],
   "metadata": {
    "collapsed": false,
    "ExecuteTime": {
     "end_time": "2024-08-30T18:00:03.820804Z",
     "start_time": "2024-08-30T18:00:03.801111Z"
    }
   },
   "id": "eb34e42cb753b907",
   "execution_count": 34
  },
  {
   "cell_type": "code",
   "outputs": [
    {
     "data": {
      "text/plain": "Array([ 9186, 42652, 24154, 64781, 38629, 45257, 52567, 55877, 51705,\n       19831, 42871, 64819,  6053, 35534, 60943,  8101, 28576, 16786,\n       37969, 15037, 59065,  5921, 51653, 15530,  2426, 48005, 38968,\n       30696,  8821, 28194, 39915, 35642], dtype=int64)"
     },
     "execution_count": 39,
     "metadata": {},
     "output_type": "execute_result"
    }
   ],
   "source": [
    "jnp.sum(2**(jnp.flip(jnp.arange(16)))*int_to_binary_array(state, 16), axis=1)"
   ],
   "metadata": {
    "collapsed": false,
    "ExecuteTime": {
     "end_time": "2024-08-30T18:46:42.270581Z",
     "start_time": "2024-08-30T18:46:42.228752Z"
    }
   },
   "id": "a9e91edbfb4e8fdd",
   "execution_count": 39
  },
  {
   "cell_type": "code",
   "outputs": [
    {
     "data": {
      "text/plain": "Array([ 9186, 42652, 24154, 64781, 38629, 45257, 52567, 55877, 51705,\n       19831, 42871, 64819,  6053, 35534, 60943,  8101, 28576, 16786,\n       37969, 15037, 59065,  5921, 51653, 15530,  2426, 48005, 38968,\n       30696,  8821, 28194, 39915, 35642], dtype=int64)"
     },
     "execution_count": 40,
     "metadata": {},
     "output_type": "execute_result"
    }
   ],
   "source": [
    "state"
   ],
   "metadata": {
    "collapsed": false,
    "ExecuteTime": {
     "end_time": "2024-08-30T18:46:45.004672Z",
     "start_time": "2024-08-30T18:46:44.996323Z"
    }
   },
   "id": "5cc693435d73b6c6",
   "execution_count": 40
  },
  {
   "cell_type": "code",
   "outputs": [],
   "source": [
    "def binary_array_to_int(binary_array, num_bits):\n",
    "    \"\"\"\n",
    "    Converts a 2D array of binary representations to their decimal equivalents.\n",
    "\n",
    "    Parameters:\n",
    "    - binary_array: A 2D Jax array where each row represents a binary number.\n",
    "\n",
    "    Returns:\n",
    "    - A 1D Jax array of integers, the decimal equivalents of the binary representations.\n",
    "    \"\"\"\n",
    "    powers_of_two = 2 ** jnp.arange(num_bits - 1, -1, -1)\n",
    "    # Multiply each bit by its corresponding power of two and sum the results\n",
    "    decimals = jnp.dot(binary_array, powers_of_two)\n",
    "    return decimals\n"
   ],
   "metadata": {
    "collapsed": false,
    "ExecuteTime": {
     "end_time": "2024-08-30T18:47:00.675063Z",
     "start_time": "2024-08-30T18:47:00.664240Z"
    }
   },
   "id": "e96451a6a5c944",
   "execution_count": 41
  },
  {
   "cell_type": "code",
   "outputs": [
    {
     "data": {
      "text/plain": "Array([ 9186, 42652, 24154, 64781, 38629, 45257, 52567, 55877, 51705,\n       19831, 42871, 64819,  6053, 35534, 60943,  8101, 28576, 16786,\n       37969, 15037, 59065,  5921, 51653, 15530,  2426, 48005, 38968,\n       30696,  8821, 28194, 39915, 35642], dtype=int64)"
     },
     "execution_count": 42,
     "metadata": {},
     "output_type": "execute_result"
    }
   ],
   "source": [
    "binary_array_to_int(state_2, L**2)"
   ],
   "metadata": {
    "collapsed": false,
    "ExecuteTime": {
     "end_time": "2024-08-30T18:47:05.604368Z",
     "start_time": "2024-08-30T18:47:05.566982Z"
    }
   },
   "id": "47bc34700fbe3755",
   "execution_count": 42
  },
  {
   "cell_type": "code",
   "outputs": [],
   "source": [],
   "metadata": {
    "collapsed": false
   },
   "id": "55e1870f924b8696"
  }
 ],
 "metadata": {
  "kernelspec": {
   "display_name": "Python 3",
   "language": "python",
   "name": "python3"
  },
  "language_info": {
   "codemirror_mode": {
    "name": "ipython",
    "version": 2
   },
   "file_extension": ".py",
   "mimetype": "text/x-python",
   "name": "python",
   "nbconvert_exporter": "python",
   "pygments_lexer": "ipython2",
   "version": "2.7.6"
  }
 },
 "nbformat": 4,
 "nbformat_minor": 5
}
