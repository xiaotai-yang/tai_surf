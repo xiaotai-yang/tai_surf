{
 "cells": [
  {
   "cell_type": "code",
   "execution_count": null,
   "metadata": {
    "collapsed": true
   },
   "outputs": [],
   "source": []
  },
  {
   "cell_type": "code",
   "execution_count": 99,
   "outputs": [],
   "source": [
    "from functools import partial\n",
    "import jax\n",
    "import jax.numpy as jnp\n",
    "\n",
    "def local_element_indices_2d(num_body, pauli_array, loc_array):\n",
    "    if pauli_array.shape[-1] != num_body:\n",
    "        raise ValueError(f\"Array has incorrect body of interactions {pauli_array.shape[-1]}. Expected body of interactions is {num_body}.\")\n",
    "\n",
    "    count_3s = jnp.sum(pauli_array == 3, axis = 1)\n",
    "    count_1s = jnp.sum(pauli_array == 1, axis = 1)\n",
    "\n",
    "    pauli_array_xz = {}\n",
    "    xloc_arrays = {}\n",
    "    zloc_arrays = {}\n",
    "    yloc_arrays = {}\n",
    "    xy_loc_arrays = {}\n",
    "\n",
    "    for i in range(num_body+1):    #z_number\n",
    "        for j in range (num_body+1-i):  #x_number\n",
    "            mask = ((count_3s == i)&(count_1s == j))\n",
    "            pauli_array_xz[i, j] = pauli_array[mask]\n",
    "\n",
    "            mask_x = (pauli_array_xz[i, j] == 1)\n",
    "            mask_y = (pauli_array_xz[i, j] == 2)\n",
    "            mask_z = (pauli_array_xz[i, j] == 3)\n",
    "\n",
    "            if mask_x.sum() != 0:\n",
    "                xloc_arrays[i, j] = loc_array[mask][mask_x].reshape(-1, j, 2)\n",
    "            elif mask_y.sum() != 0 or mask_z.sum() !=0:\n",
    "                if mask_y.sum()!=0:\n",
    "                    xloc_arrays[i, j] = jnp.array([[]]).reshape(pauli_array_xz[i ,j].shape[0], 0, 2).astype(int)\n",
    "                else:\n",
    "                    xloc_arrays[i, j] = jnp.array([[]]).reshape(pauli_array_xz[i, j].shape[0], 0, 2).astype(int)\n",
    "\n",
    "            if mask_y.sum() !=0:\n",
    "                yloc_arrays[i, j] = loc_array[mask][mask_y].reshape(-1, num_body-i-j, 2).astype(int)\n",
    "            elif mask_x.sum() != 0 or mask_z.sum() !=0:\n",
    "                if mask_x.sum()!=0:\n",
    "                    yloc_arrays[i, j] = jnp.array([[]]).reshape(pauli_array_xz[i, j].shape[0], 0, 2).astype(int)\n",
    "                else:\n",
    "                    yloc_arrays[i, j] = jnp.array([[]]).reshape(pauli_array_xz[i, j].shape[0], 0, 2).astype(int)\n",
    "\n",
    "            if mask_z.sum()!=0:\n",
    "                zloc_arrays[i, j] = loc_array[mask][mask_z].reshape(-1, i, 2).astype(int)\n",
    "            elif mask_x.sum() != 0 or mask_y.sum() !=0:\n",
    "                if mask_y.sum()!=0:\n",
    "                    zloc_arrays[i, j] = jnp.array([[]]).reshape(pauli_array_xz[i, j].shape[0], 0, 2).astype(int)\n",
    "                else:\n",
    "                    zloc_arrays[i, j] = jnp.array([[]]).reshape(pauli_array_xz[i, j].shape[0], 0, 2).astype(int)\n",
    "    print(\"xlco_arrays:\", xloc_arrays)\n",
    "    print(\"yloc_arrays:\", yloc_arrays)\n",
    "    for ind in (xloc_arrays):\n",
    "        xy_loc_arrays[ind] = jnp.concatenate((xloc_arrays[ind], yloc_arrays[ind]), axis=1).astype(int)\n",
    "    return  xy_loc_arrays, yloc_arrays, zloc_arrays\n",
    "@jax.jit\n",
    "def total_samples_2d(samples, xyloc):\n",
    "    def scan_array_element(sample_element, xyloc_arrays_element):\n",
    "        scan_samples = sample_element.at[xyloc_arrays_element[:,0], xyloc_arrays_element[:,1]].set((sample_element[xyloc_arrays_element[:,0], xyloc_arrays_element[:,1]]+1)%2)\n",
    "        return sample_element, scan_samples\n",
    "    sample_tmp = samples\n",
    "    for xyloc_ind in xyloc:\n",
    "        if xyloc[xyloc_ind].size != 0:\n",
    "            sample_tmp = jnp.append(sample_tmp, jax.lax.scan(scan_array_element, samples, xyloc[xyloc_ind])[1])\n",
    "    return sample_tmp.reshape(-1, samples.shape[0], samples.shape[1])\n",
    "\n",
    "@jax.jit\n",
    "def new_coe_2d(samples, coe_array, yloc, zloc):\n",
    "    def ycoe(sample_element, yloc_arrays_element):\n",
    "        scan_coe_tmp_y = ((-1)**sample_element[yloc_arrays_element[:,0],yloc_arrays_element[:,1]]*1j).prod()\n",
    "        return sample_element, scan_coe_tmp_y\n",
    "    def zcoe(sample_element, zloc_arrays_element):\n",
    "        scan_coe_tmp_z = ((-1)**sample_element[zloc_arrays_element[:,0], zloc_arrays_element[:,1]]).prod()\n",
    "        return sample_element, scan_coe_tmp_z\n",
    "    coe_tmp_y = jnp.array([1])\n",
    "    coe_tmp_z = jnp.array([1])\n",
    "    for yloc_ind in yloc:\n",
    "        if yloc[yloc_ind].shape[0] != 0:\n",
    "            coe_tmp_y = jnp.append(coe_tmp_y, jax.lax.scan(ycoe, samples, yloc[yloc_ind])[1])\n",
    "        else:\n",
    "            coe_tmp_y = jnp.append(coe_tmp_y, 1)\n",
    "    for zloc_ind in zloc:\n",
    "        if zloc_ind[1] == 0:\n",
    "            coe_tmp_z = coe_tmp_z.at([0]).set(jax.lax.scan(zcoe, samples, zloc[zloc_ind])[1].sum())\n",
    "        elif zloc[zloc_ind].shape[0] != 0:\n",
    "            coe_tmp_z = jnp.append(coe_tmp_z, jax.lax.scan(zcoe, samples, zloc[zloc_ind])[1])\n",
    "        else:\n",
    "            coe_tmp_z = jnp.append(coe_tmp_z, 1)\n",
    "    return coe_tmp_y*coe_tmp_z*jnp.concatenate((jnp.array([1]), coe_array), axis=0)"
   ],
   "metadata": {
    "collapsed": false,
    "ExecuteTime": {
     "end_time": "2023-11-07T08:08:03.766459700Z",
     "start_time": "2023-11-07T08:08:02.671403900Z"
    }
   }
  },
  {
   "cell_type": "code",
   "execution_count": 118,
   "outputs": [
    {
     "name": "stdout",
     "output_type": "stream",
     "text": [
      "pauli_array: [[1 3 3 3 3]\n",
      " [1 3 3 3 3]\n",
      " [1 3 3 3 3]\n",
      " [1 3 3 3 3]\n",
      " [1 3 3 3 3]\n",
      " [1 3 3 3 3]\n",
      " [1 3 3 3 3]\n",
      " [1 3 3 3 3]\n",
      " [1 3 3 3 3]\n",
      " [1 3 3 3 3]\n",
      " [1 3 3 3 3]\n",
      " [1 3 3 3 3]\n",
      " [1 3 3 3 3]\n",
      " [1 3 3 3 3]\n",
      " [1 3 3 3 3]\n",
      " [1 3 3 3 3]]\n",
      "loc_array: [[[1. 1.]\n",
      "  [1. 2.]\n",
      "  [2. 1.]\n",
      "  [0. 1.]\n",
      "  [1. 0.]]\n",
      "\n",
      " [[1. 2.]\n",
      "  [1. 3.]\n",
      "  [2. 2.]\n",
      "  [0. 2.]\n",
      "  [1. 1.]]\n",
      "\n",
      " [[1. 3.]\n",
      "  [1. 4.]\n",
      "  [2. 3.]\n",
      "  [0. 3.]\n",
      "  [1. 2.]]\n",
      "\n",
      " [[1. 4.]\n",
      "  [1. 5.]\n",
      "  [2. 4.]\n",
      "  [0. 4.]\n",
      "  [1. 3.]]\n",
      "\n",
      " [[2. 1.]\n",
      "  [2. 2.]\n",
      "  [3. 1.]\n",
      "  [1. 1.]\n",
      "  [2. 0.]]\n",
      "\n",
      " [[2. 2.]\n",
      "  [2. 3.]\n",
      "  [3. 2.]\n",
      "  [1. 2.]\n",
      "  [2. 1.]]\n",
      "\n",
      " [[2. 3.]\n",
      "  [2. 4.]\n",
      "  [3. 3.]\n",
      "  [1. 3.]\n",
      "  [2. 2.]]\n",
      "\n",
      " [[2. 4.]\n",
      "  [2. 5.]\n",
      "  [3. 4.]\n",
      "  [1. 4.]\n",
      "  [2. 3.]]\n",
      "\n",
      " [[3. 1.]\n",
      "  [3. 2.]\n",
      "  [4. 1.]\n",
      "  [2. 1.]\n",
      "  [3. 0.]]\n",
      "\n",
      " [[3. 2.]\n",
      "  [3. 3.]\n",
      "  [4. 2.]\n",
      "  [2. 2.]\n",
      "  [3. 1.]]\n",
      "\n",
      " [[3. 3.]\n",
      "  [3. 4.]\n",
      "  [4. 3.]\n",
      "  [2. 3.]\n",
      "  [3. 2.]]\n",
      "\n",
      " [[3. 4.]\n",
      "  [3. 5.]\n",
      "  [4. 4.]\n",
      "  [2. 4.]\n",
      "  [3. 3.]]\n",
      "\n",
      " [[4. 1.]\n",
      "  [4. 2.]\n",
      "  [5. 1.]\n",
      "  [3. 1.]\n",
      "  [4. 0.]]\n",
      "\n",
      " [[4. 2.]\n",
      "  [4. 3.]\n",
      "  [5. 2.]\n",
      "  [3. 2.]\n",
      "  [4. 1.]]\n",
      "\n",
      " [[4. 3.]\n",
      "  [4. 4.]\n",
      "  [5. 3.]\n",
      "  [3. 3.]\n",
      "  [4. 2.]]\n",
      "\n",
      " [[4. 4.]\n",
      "  [4. 5.]\n",
      "  [5. 4.]\n",
      "  [3. 4.]\n",
      "  [4. 3.]]]\n",
      "xlco_arrays: {(4, 1): Array([[[1., 1.]],\n",
      "\n",
      "       [[1., 2.]],\n",
      "\n",
      "       [[1., 3.]],\n",
      "\n",
      "       [[1., 4.]],\n",
      "\n",
      "       [[2., 1.]],\n",
      "\n",
      "       [[2., 2.]],\n",
      "\n",
      "       [[2., 3.]],\n",
      "\n",
      "       [[2., 4.]],\n",
      "\n",
      "       [[3., 1.]],\n",
      "\n",
      "       [[3., 2.]],\n",
      "\n",
      "       [[3., 3.]],\n",
      "\n",
      "       [[3., 4.]],\n",
      "\n",
      "       [[4., 1.]],\n",
      "\n",
      "       [[4., 2.]],\n",
      "\n",
      "       [[4., 3.]],\n",
      "\n",
      "       [[4., 4.]]], dtype=float32)}\n",
      "yloc_arrays: {(4, 1): Array([], dtype=int32)}\n",
      "zloc: {(4, 1): Array([[[1, 2],\n",
      "        [2, 1],\n",
      "        [0, 1],\n",
      "        [1, 0]],\n",
      "\n",
      "       [[1, 3],\n",
      "        [2, 2],\n",
      "        [0, 2],\n",
      "        [1, 1]],\n",
      "\n",
      "       [[1, 4],\n",
      "        [2, 3],\n",
      "        [0, 3],\n",
      "        [1, 2]],\n",
      "\n",
      "       [[1, 5],\n",
      "        [2, 4],\n",
      "        [0, 4],\n",
      "        [1, 3]],\n",
      "\n",
      "       [[2, 2],\n",
      "        [3, 1],\n",
      "        [1, 1],\n",
      "        [2, 0]],\n",
      "\n",
      "       [[2, 3],\n",
      "        [3, 2],\n",
      "        [1, 2],\n",
      "        [2, 1]],\n",
      "\n",
      "       [[2, 4],\n",
      "        [3, 3],\n",
      "        [1, 3],\n",
      "        [2, 2]],\n",
      "\n",
      "       [[2, 5],\n",
      "        [3, 4],\n",
      "        [1, 4],\n",
      "        [2, 3]],\n",
      "\n",
      "       [[3, 2],\n",
      "        [4, 1],\n",
      "        [2, 1],\n",
      "        [3, 0]],\n",
      "\n",
      "       [[3, 3],\n",
      "        [4, 2],\n",
      "        [2, 2],\n",
      "        [3, 1]],\n",
      "\n",
      "       [[3, 4],\n",
      "        [4, 3],\n",
      "        [2, 3],\n",
      "        [3, 2]],\n",
      "\n",
      "       [[3, 5],\n",
      "        [4, 4],\n",
      "        [2, 4],\n",
      "        [3, 3]],\n",
      "\n",
      "       [[4, 2],\n",
      "        [5, 1],\n",
      "        [3, 1],\n",
      "        [4, 0]],\n",
      "\n",
      "       [[4, 3],\n",
      "        [5, 2],\n",
      "        [3, 2],\n",
      "        [4, 1]],\n",
      "\n",
      "       [[4, 4],\n",
      "        [5, 3],\n",
      "        [3, 3],\n",
      "        [4, 2]],\n",
      "\n",
      "       [[4, 5],\n",
      "        [5, 4],\n",
      "        [3, 4],\n",
      "        [4, 3]]], dtype=int32)}\n"
     ]
    }
   ],
   "source": [
    "from jax import random\n",
    "from jax.random import PRNGKey, randint\n",
    "import numpy as np\n",
    "pauli_array = jnp.repeat(jnp.array([1,3,3,3,3])[None], 16, axis = 0).astype(int)\n",
    "print(\"pauli_array:\", pauli_array)\n",
    "loc_array = jnp.array([[]])\n",
    "for i in range (1, 5):\n",
    "    for j in range (1, 5):\n",
    "        loc_array = jnp.append(loc_array, jnp.array([[i,j],[i,j+1],[i+1,j],[i-1,j], [i, j-1]]))\n",
    "loc_array = loc_array.reshape(16, 5, 2)\n",
    "print(\"loc_array:\", loc_array)\n",
    "xy_loc, yloc, zloc = local_element_indices_2d(5, pauli_array, loc_array)\n",
    "print(\"zloc:\", zloc)"
   ],
   "metadata": {
    "collapsed": false,
    "ExecuteTime": {
     "end_time": "2023-11-07T09:33:21.785318700Z",
     "start_time": "2023-11-07T09:33:20.004989800Z"
    }
   }
  },
  {
   "cell_type": "code",
   "execution_count": 119,
   "outputs": [
    {
     "data": {
      "text/plain": "Array([[[1, 1, 1, 0, 0, 1],\n        [0, 1, 1, 1, 0, 1],\n        [1, 0, 1, 1, 1, 0],\n        [1, 1, 0, 1, 1, 1],\n        [0, 1, 1, 1, 1, 1],\n        [0, 1, 0, 1, 1, 1]],\n\n       [[1, 1, 1, 0, 0, 1],\n        [0, 0, 1, 1, 0, 1],\n        [1, 0, 1, 1, 1, 0],\n        [1, 1, 0, 1, 1, 1],\n        [0, 1, 1, 1, 1, 1],\n        [0, 1, 0, 1, 1, 1]],\n\n       [[1, 1, 1, 0, 0, 1],\n        [0, 1, 0, 1, 0, 1],\n        [1, 0, 1, 1, 1, 0],\n        [1, 1, 0, 1, 1, 1],\n        [0, 1, 1, 1, 1, 1],\n        [0, 1, 0, 1, 1, 1]],\n\n       [[1, 1, 1, 0, 0, 1],\n        [0, 1, 1, 0, 0, 1],\n        [1, 0, 1, 1, 1, 0],\n        [1, 1, 0, 1, 1, 1],\n        [0, 1, 1, 1, 1, 1],\n        [0, 1, 0, 1, 1, 1]],\n\n       [[1, 1, 1, 0, 0, 1],\n        [0, 1, 1, 1, 1, 1],\n        [1, 0, 1, 1, 1, 0],\n        [1, 1, 0, 1, 1, 1],\n        [0, 1, 1, 1, 1, 1],\n        [0, 1, 0, 1, 1, 1]],\n\n       [[1, 1, 1, 0, 0, 1],\n        [0, 1, 1, 1, 0, 1],\n        [1, 1, 1, 1, 1, 0],\n        [1, 1, 0, 1, 1, 1],\n        [0, 1, 1, 1, 1, 1],\n        [0, 1, 0, 1, 1, 1]],\n\n       [[1, 1, 1, 0, 0, 1],\n        [0, 1, 1, 1, 0, 1],\n        [1, 0, 0, 1, 1, 0],\n        [1, 1, 0, 1, 1, 1],\n        [0, 1, 1, 1, 1, 1],\n        [0, 1, 0, 1, 1, 1]],\n\n       [[1, 1, 1, 0, 0, 1],\n        [0, 1, 1, 1, 0, 1],\n        [1, 0, 1, 0, 1, 0],\n        [1, 1, 0, 1, 1, 1],\n        [0, 1, 1, 1, 1, 1],\n        [0, 1, 0, 1, 1, 1]],\n\n       [[1, 1, 1, 0, 0, 1],\n        [0, 1, 1, 1, 0, 1],\n        [1, 0, 1, 1, 0, 0],\n        [1, 1, 0, 1, 1, 1],\n        [0, 1, 1, 1, 1, 1],\n        [0, 1, 0, 1, 1, 1]],\n\n       [[1, 1, 1, 0, 0, 1],\n        [0, 1, 1, 1, 0, 1],\n        [1, 0, 1, 1, 1, 0],\n        [1, 0, 0, 1, 1, 1],\n        [0, 1, 1, 1, 1, 1],\n        [0, 1, 0, 1, 1, 1]],\n\n       [[1, 1, 1, 0, 0, 1],\n        [0, 1, 1, 1, 0, 1],\n        [1, 0, 1, 1, 1, 0],\n        [1, 1, 1, 1, 1, 1],\n        [0, 1, 1, 1, 1, 1],\n        [0, 1, 0, 1, 1, 1]],\n\n       [[1, 1, 1, 0, 0, 1],\n        [0, 1, 1, 1, 0, 1],\n        [1, 0, 1, 1, 1, 0],\n        [1, 1, 0, 0, 1, 1],\n        [0, 1, 1, 1, 1, 1],\n        [0, 1, 0, 1, 1, 1]],\n\n       [[1, 1, 1, 0, 0, 1],\n        [0, 1, 1, 1, 0, 1],\n        [1, 0, 1, 1, 1, 0],\n        [1, 1, 0, 1, 0, 1],\n        [0, 1, 1, 1, 1, 1],\n        [0, 1, 0, 1, 1, 1]],\n\n       [[1, 1, 1, 0, 0, 1],\n        [0, 1, 1, 1, 0, 1],\n        [1, 0, 1, 1, 1, 0],\n        [1, 1, 0, 1, 1, 1],\n        [0, 0, 1, 1, 1, 1],\n        [0, 1, 0, 1, 1, 1]],\n\n       [[1, 1, 1, 0, 0, 1],\n        [0, 1, 1, 1, 0, 1],\n        [1, 0, 1, 1, 1, 0],\n        [1, 1, 0, 1, 1, 1],\n        [0, 1, 0, 1, 1, 1],\n        [0, 1, 0, 1, 1, 1]],\n\n       [[1, 1, 1, 0, 0, 1],\n        [0, 1, 1, 1, 0, 1],\n        [1, 0, 1, 1, 1, 0],\n        [1, 1, 0, 1, 1, 1],\n        [0, 1, 1, 0, 1, 1],\n        [0, 1, 0, 1, 1, 1]],\n\n       [[1, 1, 1, 0, 0, 1],\n        [0, 1, 1, 1, 0, 1],\n        [1, 0, 1, 1, 1, 0],\n        [1, 1, 0, 1, 1, 1],\n        [0, 1, 1, 1, 0, 1],\n        [0, 1, 0, 1, 1, 1]]], dtype=int32)"
     },
     "execution_count": 119,
     "metadata": {},
     "output_type": "execute_result"
    }
   ],
   "source": [
    "from jax import vmap\n",
    "samples = jnp.array([[1,1,1,0,0,1],[0,1,1,1,0,1],[1,0,1,1,1,0],[1,1,0,1,1,1],[0,1,1,1,1,1],[0,1,0,1,1,1]])\n",
    "batch_totoal_samples_2d = vmap(total_samples_2d, (0, None))\n",
    "total_samples_2d(samples, xy_loc)"
   ],
   "metadata": {
    "collapsed": false,
    "ExecuteTime": {
     "end_time": "2023-11-07T09:33:26.384122500Z",
     "start_time": "2023-11-07T09:33:26.126201400Z"
    }
   }
  },
  {
   "cell_type": "code",
   "execution_count": 120,
   "outputs": [
    {
     "name": "stdout",
     "output_type": "stream",
     "text": [
      "(16, 0, 2)\n",
      "{(4, 1): Traced<ShapedArray(int32[16,4,2])>with<DynamicJaxprTrace(level=1/0)>}\n",
      "coe_tmp_y: Traced<ShapedArray(complex64[17])>with<DynamicJaxprTrace(level=1/0)>\n",
      "coe_tmp_z: Traced<ShapedArray(int32[17])>with<DynamicJaxprTrace(level=1/0)>\n"
     ]
    },
    {
     "data": {
      "text/plain": "Array([ 1.+0.j,  1.+0.j,  1.+0.j,  1.+0.j, -1.+0.j,  1.+0.j,  1.+0.j,\n        1.+0.j,  1.+0.j,  1.+0.j,  1.+0.j, -1.+0.j,  1.+0.j, -1.+0.j,\n        1.+0.j,  1.+0.j,  1.+0.j], dtype=complex64)"
     },
     "execution_count": 120,
     "metadata": {},
     "output_type": "execute_result"
    }
   ],
   "source": [
    "print(yloc[4,1].shape)\n",
    "coe_array = jnp.ones(16)\n",
    "new_coe_2d(samples, coe_array, yloc, zloc, 5)"
   ],
   "metadata": {
    "collapsed": false,
    "ExecuteTime": {
     "end_time": "2023-11-07T09:33:32.043208900Z",
     "start_time": "2023-11-07T09:33:31.744702800Z"
    }
   }
  },
  {
   "cell_type": "code",
   "execution_count": 115,
   "outputs": [
    {
     "data": {
      "text/plain": "Array([1, 3, 3, 3, 3, 3, 3, 3, 3, 3, 3, 3, 3, 3, 3], dtype=int32)"
     },
     "execution_count": 115,
     "metadata": {},
     "output_type": "execute_result"
    }
   ],
   "source": [
    "jnp.repeat(jnp.array([1,3,3,3,3]), jnp.array([1,2,3,4,5]), axis=0)\n",
    "jnp.repeat(jnp.log(sample_amp), jnp.ones(numsamples)*Nx*Ny+1, axis=0)"
   ],
   "metadata": {
    "collapsed": false,
    "ExecuteTime": {
     "end_time": "2023-11-07T09:12:51.614282900Z",
     "start_time": "2023-11-07T09:12:50.662605600Z"
    }
   }
  },
  {
   "cell_type": "code",
   "execution_count": 88,
   "outputs": [],
   "source": [
    "import jax.numpy as jnp\n",
    "\n",
    "Ny, Nx = 4, 4  # Define Ny and Nx with assumed values for demonstration\n",
    "\n",
    "# Pre-allocate bulk locations with array operations\n",
    "I, J = jnp.meshgrid(jnp.arange(1, Ny-1), jnp.arange(1, Nx-1), indexing='ij')\n",
    "bulk_coordinates = jnp.stack([I, J, I, J+1, I+1, J, I-1, J, I, J-1], axis=-1)\n",
    "loc_array_bulk = bulk_coordinates.reshape(-1, 5, 2)\n",
    "\n",
    "# Create edges excluding corners\n",
    "edge_top = jnp.stack([jnp.ones(Nx-2), jnp.arange(1, Nx-1)], axis=-1)\n",
    "edge_bottom = jnp.stack([jnp.full((Nx-2,), Ny-1), jnp.arange(1, Nx-1)], axis=-1)\n",
    "edge_left = jnp.stack([jnp.arange(1, Ny-1), jnp.zeros(Ny-2)], axis=-1)\n",
    "edge_right = jnp.stack([jnp.arange(1, Ny-1), jnp.full((Ny-2,), Nx-1)], axis=-1)\n",
    "edges = jnp.concatenate([edge_top, edge_bottom, edge_left, edge_right])\n",
    "loc_array_edge = jnp.repeat(edges[:, None, :], 4, axis=1) # Repeat the edge pattern\n",
    "\n",
    "# Fix the edge coordinates with appropriate values\n",
    "loc_array_edge = loc_array_edge.at[:, 1:, 0].add(1)  # Increment i or j based on direction\n",
    "loc_array_edge = loc_array_edge.at[:, 2, 1].set(0)    # Set j=0 for left edge increments\n",
    "loc_array_edge = loc_array_edge.at[:, 3, 0].set(Ny-1) # Set i=Ny-1 for bottom edge increments\n",
    "loc_array_edge = loc_array_edge.reshape(-1, 4, 2)\n",
    "\n",
    "# Pre-defined corner locations\n",
    "loc_array_corner = jnp.array([[[0,0],[0,1],[1,0]],\n",
    "                              [[0, Nx-1],[0, Nx-2], [1, Nx-1]],\n",
    "                              [[Ny-1, 0],[Ny-1, 1],[Ny-2,0]],\n",
    "                              [[Ny-1, Nx-1],[Ny-1, Nx-2],[Ny-2, Nx-1]]])\n",
    "\n",
    "# Pauli arrays can be created directly since their pattern doesn't depend on Ny or Nx\n",
    "pauli_array_bulk = jnp.tile(jnp.array([[1,3,3,3,3]]), ((Ny-2)*(Nx-2), 1))\n",
    "pauli_array_edge = jnp.tile(jnp.array([[1,3,3,3]]), ((Ny+Nx-4)*2, 1))\n",
    "pauli_array_corner = jnp.tile(jnp.array([[1,3,3]]), (4, 1))\n",
    "\n",
    "# It's assumed local_element_indices_2d function exists and operates on the inputs provided\n",
    "# xy_loc_bulk, yloc_bulk, zloc_bulk = local_element_indices_2d(5, pauli_array_bulk, loc_array_bulk)\n",
    "# xy_loc_edge, yloc_edge, zloc_edge = local_element_indices_2d(4, pauli_array_edge, loc_array_edge)\n",
    "# xy_loc_corner, yloc_corner, zloc_corner = local_element_indices_2d(3, pauli_array_corner, loc_array_corner)\n"
   ],
   "metadata": {
    "collapsed": false,
    "ExecuteTime": {
     "end_time": "2023-11-07T07:56:05.049743700Z",
     "start_time": "2023-11-07T07:56:04.786694200Z"
    }
   }
  },
  {
   "cell_type": "code",
   "execution_count": 94,
   "outputs": [
    {
     "data": {
      "text/plain": "[Array([[1, 1],\n        [2, 2]], dtype=int32),\n Array([[1, 2],\n        [1, 2]], dtype=int32)]"
     },
     "execution_count": 94,
     "metadata": {},
     "output_type": "execute_result"
    }
   ],
   "source": [
    "jnp.meshgrid(jnp.arange(1, Ny-1), jnp.arange(1, Nx-1), indexing='ij')"
   ],
   "metadata": {
    "collapsed": false,
    "ExecuteTime": {
     "end_time": "2023-11-07T07:57:49.527675900Z",
     "start_time": "2023-11-07T07:57:49.484282200Z"
    }
   }
  },
  {
   "cell_type": "code",
   "execution_count": 97,
   "outputs": [],
   "source": [
    "# Add edge coordinates excluding corners for the left and right sides of the grid\n",
    "edge_coordinates = []\n",
    "for i in range(1, Ny - 1):\n",
    "    edge_coordinates.extend([[i, 0], [i, 1], [i + 1, 0], [i - 1, 0]])\n",
    "    edge_coordinates.extend([[i, Nx - 1], [i, Nx - 2], [i + 1, Nx - 1], [i - 1, Nx - 1]])\n",
    "\n",
    "# Add edge coordinates excluding corners for the top and bottom of the grid\n",
    "for j in range(1, Nx - 1):\n",
    "    edge_coordinates.extend([[0, j], [1, j], [0, j - 1], [0, j + 1]])\n",
    "    edge_coordinates.extend([[Ny - 1, j], [Ny - 2, j], [Ny - 1, j - 1], [Ny - 1, j + 1]])\n",
    "\n",
    "# Convert list to a JAX array\n",
    "loc_array_edge = jnp.array(edge_coordinates).reshape(-1, 4, 2)"
   ],
   "metadata": {
    "collapsed": false,
    "ExecuteTime": {
     "end_time": "2023-11-07T08:00:32.215320600Z",
     "start_time": "2023-11-07T08:00:32.117666600Z"
    }
   }
  },
  {
   "cell_type": "code",
   "execution_count": 98,
   "outputs": [
    {
     "data": {
      "text/plain": "Array([[[1, 0],\n        [1, 1],\n        [2, 0],\n        [0, 0]],\n\n       [[1, 3],\n        [1, 2],\n        [2, 3],\n        [0, 3]],\n\n       [[2, 0],\n        [2, 1],\n        [3, 0],\n        [1, 0]],\n\n       [[2, 3],\n        [2, 2],\n        [3, 3],\n        [1, 3]],\n\n       [[0, 1],\n        [1, 1],\n        [0, 0],\n        [0, 2]],\n\n       [[3, 1],\n        [2, 1],\n        [3, 0],\n        [3, 2]],\n\n       [[0, 2],\n        [1, 2],\n        [0, 1],\n        [0, 3]],\n\n       [[3, 2],\n        [2, 2],\n        [3, 1],\n        [3, 3]]], dtype=int32)"
     },
     "execution_count": 98,
     "metadata": {},
     "output_type": "execute_result"
    }
   ],
   "source": [
    "loc_array_edge"
   ],
   "metadata": {
    "collapsed": false,
    "ExecuteTime": {
     "end_time": "2023-11-07T08:00:32.680141800Z",
     "start_time": "2023-11-07T08:00:32.623343400Z"
    }
   }
  },
  {
   "cell_type": "code",
   "execution_count": null,
   "outputs": [],
   "source": [],
   "metadata": {
    "collapsed": false
   }
  }
 ],
 "metadata": {
  "kernelspec": {
   "display_name": "Python 3",
   "language": "python",
   "name": "python3"
  },
  "language_info": {
   "codemirror_mode": {
    "name": "ipython",
    "version": 2
   },
   "file_extension": ".py",
   "mimetype": "text/x-python",
   "name": "python",
   "nbconvert_exporter": "python",
   "pygments_lexer": "ipython2",
   "version": "2.7.6"
  }
 },
 "nbformat": 4,
 "nbformat_minor": 0
}
