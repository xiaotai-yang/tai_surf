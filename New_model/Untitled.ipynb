{
 "cells": [
  {
   "cell_type": "code",
   "execution_count": 3,
   "id": "102a1593",
   "metadata": {},
   "outputs": [
    {
     "data": {
      "text/plain": [
       "Array([[-1.,  1., -1., -1.,  1., -1.,  1.,  1., -1.,  1.,  1., -1.,  1.,\n",
       "         1., -1.,  1.],\n",
       "       [-1.,  1.,  1., -1.,  1., -1., -1.,  1.,  1., -1., -1., -1., -1.,\n",
       "        -1., -1., -1.],\n",
       "       [-1., -1., -1.,  1., -1.,  1., -1.,  1.,  1.,  1., -1.,  1., -1.,\n",
       "        -1., -1., -1.]], dtype=float32)"
      ]
     },
     "execution_count": 3,
     "metadata": {},
     "output_type": "execute_result"
    }
   ],
   "source": [
    "import os\n",
    "\n",
    "import netket as nk\n",
    "import jax\n",
    "\n",
    "os.environ[\"JAX_PLATFORM_NAME\"] = \"cpu\"\n",
    "N = 16\n",
    "hi = nk.hilbert.Spin(s=1 / 2, N=N)\n",
    "\n",
    "hi.random_state(jax.random.PRNGKey(0), 3)"
   ]
  },
  {
   "cell_type": "code",
   "execution_count": 1,
   "id": "6273fc8e",
   "metadata": {},
   "outputs": [
    {
     "name": "stdout",
     "output_type": "stream",
     "text": [
      "[[[ 7  8]\n",
      "  [14 16]]\n",
      "\n",
      " [[27 30]\n",
      "  [36 40]]\n",
      "\n",
      " [[55 60]\n",
      "  [66 72]]]\n"
     ]
    }
   ],
   "source": [
    "import numpy as np\n",
    "\n",
    "# Create two matrices\n",
    "A = np.array([\n",
    "    [1, 2],\n",
    "    [3, 4],\n",
    "    [5, 6]\n",
    "])  # shape (3, 2)\n",
    "\n",
    "B = np.array([\n",
    "    [7, 8],\n",
    "    [9, 10],\n",
    "    [11, 12]\n",
    "])  # shape (3, 2)\n",
    "\n",
    "# Use einsum to combine them based on the given notation\n",
    "result = np.einsum('ij,ik->ijk', A, B)\n",
    "\n",
    "print(result)"
   ]
  },
  {
   "cell_type": "code",
   "execution_count": 28,
   "id": "29bc0905",
   "metadata": {},
   "outputs": [
    {
     "name": "stdout",
     "output_type": "stream",
     "text": [
      "(64,)\n"
     ]
    }
   ],
   "source": [
    "import jax\n",
    "import jax.numpy as jnp\n",
    "a = jnp.array([5, 5, 3, 7, 8, 9, 5, 4, 7, 3, 7, 6, 4, 7, 6, 3, 5, 5, 7, 4, 8, 7, 6, 6, 4, 7, 8, 6, 6, 5, 6, 7, 4, 8, 7, 6, 8, 8, 9, 6, 6, 7, 8, 6, 7, 6, 7, 7, 4, 5, 7, 7, 8, 6, 5, 5, 8, 3, 3, 6, 5, 6, 7, 5])\n",
    "print(a.shape)\n",
    "b = jnp.array([-45.35184 + 21.489334j, -117.237755 - 55.821297j, 13.05809 - 6.6686335j, -1.8015428 - 26.551735j, 27.481134 + 89.599266j, -131.04181 - 54.178467j, 20.16167 + 18.987633j, -0.44142523 - 14.184986j, 38.649475 + 20.572128j, 13.05809 - 6.6686335j, -49.774277 - 3.6967359j, -6.5255866 + 22.179987j, 74.988686 - 71.89591j, -91.02216 - 13.008495j, -32.626263 - 28.526405j, 13.05809 - 6.6686335j, 40.728558 - 38.645573j, -7.6570725 - 14.116476j, 132.40009 + 31.215141j, 44.037117 - 21.979649j, -60.149715 + 32.569298j, -0.7762764 + 78.285126j, 130.8504 - 126.36996j, 79.758286 + 96.03618j, 52.744812 + 25.310823j, -77.29226 - 60.273823j, 10.889438 + 53.343094j, 87.04318 + 70.87306j, -81.33234 + 5.16746j, -84.60018 + 64.88135j, -24.343653 + 17.501019j, 12.553313 - 122.52374j, -4.6513877 + 160.25992j, 27.322334 - 54.207096j, 83.84793 + 116.9084j, -34.16442 - 6.4569945j, -49.208984 + 81.38309j, -60.57276 - 11.973961j, 38.90931 + 73.6023j, 51.55862 - 60.340427j, -107.60134 - 11.233355j, 60.427227 + 32.802658j, -28.08213 - 17.219187j, -14.716694 - 14.8420925j, 60.427227 + 32.802658j, -94.69888 - 53.295433j, 75.70137 - 49.38348j, 53.98344 + 204.14307j, -0.44142523 - 14.184986j, 14.145003 - 81.795555j, -53.102676 + 51.655483j, -46.208874 - 116.56916j, 65.906235 - 239.49973j, -122.33703 + 29.709093j, 55.555965 - 11.455186j, 4.2045937 + 28.569904j, -63.219006 + 11.616227j, -16.35176 + 9.160267j, 13.05809 - 6.6686335j, 5.4683065 - 29.169634j, -3.4451563 - 262.06497j, -79.50907 - 40.722847j, -10.8586445 + 47.118j, -44.684013 + 81.660706j])\n",
    "\n"
   ]
  },
  {
   "cell_type": "code",
   "execution_count": 27,
   "id": "354b713a",
   "metadata": {},
   "outputs": [
    {
     "name": "stdout",
     "output_type": "stream",
     "text": [
      "[ -45.35184    +21.489334j   -45.35184    +21.489334j\n",
      "  -45.35184    +21.489334j   -45.35184    +21.489334j\n",
      "  -45.35184    +21.489334j  -117.237755   -55.821297j\n",
      " -117.237755   -55.821297j  -117.237755   -55.821297j\n",
      " -117.237755   -55.821297j  -117.237755   -55.821297j\n",
      "   13.05809     -6.6686335j   13.05809     -6.6686335j\n",
      "   13.05809     -6.6686335j   -1.8015428  -26.551735j\n",
      "   -1.8015428  -26.551735j    -1.8015428  -26.551735j\n",
      "   -1.8015428  -26.551735j    -1.8015428  -26.551735j\n",
      "   -1.8015428  -26.551735j    -1.8015428  -26.551735j\n",
      "   27.481134   +89.599266j    27.481134   +89.599266j\n",
      "   27.481134   +89.599266j    27.481134   +89.599266j\n",
      "   27.481134   +89.599266j    27.481134   +89.599266j\n",
      "   27.481134   +89.599266j    27.481134   +89.599266j\n",
      " -131.04181    -54.178467j  -131.04181    -54.178467j\n",
      " -131.04181    -54.178467j  -131.04181    -54.178467j\n",
      " -131.04181    -54.178467j  -131.04181    -54.178467j\n",
      " -131.04181    -54.178467j  -131.04181    -54.178467j\n",
      " -131.04181    -54.178467j    20.16167    +18.987633j\n",
      "   20.16167    +18.987633j    20.16167    +18.987633j\n",
      "   20.16167    +18.987633j    20.16167    +18.987633j\n",
      "   -0.44142523 -14.184986j    -0.44142523 -14.184986j\n",
      "   -0.44142523 -14.184986j    -0.44142523 -14.184986j\n",
      "   38.649475   +20.572128j    38.649475   +20.572128j\n",
      "   38.649475   +20.572128j    38.649475   +20.572128j\n",
      "   38.649475   +20.572128j    38.649475   +20.572128j\n",
      "   38.649475   +20.572128j    13.05809     -6.6686335j\n",
      "   13.05809     -6.6686335j   13.05809     -6.6686335j\n",
      "  -49.774277    -3.6967359j  -49.774277    -3.6967359j\n",
      "  -49.774277    -3.6967359j  -49.774277    -3.6967359j\n",
      "  -49.774277    -3.6967359j  -49.774277    -3.6967359j\n",
      "  -49.774277    -3.6967359j   -6.5255866  +22.179987j\n",
      "   -6.5255866  +22.179987j    -6.5255866  +22.179987j\n",
      "   -6.5255866  +22.179987j    -6.5255866  +22.179987j\n",
      "   -6.5255866  +22.179987j    74.988686   -71.89591j\n",
      "   74.988686   -71.89591j     74.988686   -71.89591j\n",
      "   74.988686   -71.89591j    -91.02216    -13.008495j\n",
      "  -91.02216    -13.008495j   -91.02216    -13.008495j\n",
      "  -91.02216    -13.008495j   -91.02216    -13.008495j\n",
      "  -91.02216    -13.008495j   -91.02216    -13.008495j\n",
      "  -32.626263   -28.526405j   -32.626263   -28.526405j\n",
      "  -32.626263   -28.526405j   -32.626263   -28.526405j\n",
      "  -32.626263   -28.526405j   -32.626263   -28.526405j\n",
      "   13.05809     -6.6686335j   13.05809     -6.6686335j\n",
      "   13.05809     -6.6686335j   40.728558   -38.645573j\n",
      "   40.728558   -38.645573j    40.728558   -38.645573j\n",
      "   40.728558   -38.645573j    40.728558   -38.645573j\n",
      "   -7.6570725  -14.116476j    -7.6570725  -14.116476j\n",
      "   -7.6570725  -14.116476j    -7.6570725  -14.116476j\n",
      "   -7.6570725  -14.116476j   132.40009    +31.215141j\n",
      "  132.40009    +31.215141j   132.40009    +31.215141j\n",
      "  132.40009    +31.215141j   132.40009    +31.215141j\n",
      "  132.40009    +31.215141j   132.40009    +31.215141j\n",
      "   44.037117   -21.979649j    44.037117   -21.979649j\n",
      "   44.037117   -21.979649j    44.037117   -21.979649j\n",
      "  -60.149715   +32.569298j   -60.149715   +32.569298j\n",
      "  -60.149715   +32.569298j   -60.149715   +32.569298j\n",
      "  -60.149715   +32.569298j   -60.149715   +32.569298j\n",
      "  -60.149715   +32.569298j   -60.149715   +32.569298j\n",
      "   -0.7762764  +78.285126j    -0.7762764  +78.285126j\n",
      "   -0.7762764  +78.285126j    -0.7762764  +78.285126j\n",
      "   -0.7762764  +78.285126j    -0.7762764  +78.285126j\n",
      "   -0.7762764  +78.285126j   130.8504    -126.36996j\n",
      "  130.8504    -126.36996j    130.8504    -126.36996j\n",
      "  130.8504    -126.36996j    130.8504    -126.36996j\n",
      "  130.8504    -126.36996j     79.758286   +96.03618j\n",
      "   79.758286   +96.03618j     79.758286   +96.03618j\n",
      "   79.758286   +96.03618j     79.758286   +96.03618j\n",
      "   79.758286   +96.03618j     52.744812   +25.310823j\n",
      "   52.744812   +25.310823j    52.744812   +25.310823j\n",
      "   52.744812   +25.310823j   -77.29226    -60.273823j\n",
      "  -77.29226    -60.273823j   -77.29226    -60.273823j\n",
      "  -77.29226    -60.273823j   -77.29226    -60.273823j\n",
      "  -77.29226    -60.273823j   -77.29226    -60.273823j\n",
      "   10.889438   +53.343094j    10.889438   +53.343094j\n",
      "   10.889438   +53.343094j    10.889438   +53.343094j\n",
      "   10.889438   +53.343094j    10.889438   +53.343094j\n",
      "   10.889438   +53.343094j    10.889438   +53.343094j\n",
      "   87.04318    +70.87306j     87.04318    +70.87306j\n",
      "   87.04318    +70.87306j     87.04318    +70.87306j\n",
      "   87.04318    +70.87306j     87.04318    +70.87306j\n",
      "  -81.33234     +5.16746j    -81.33234     +5.16746j\n",
      "  -81.33234     +5.16746j    -81.33234     +5.16746j\n",
      "  -81.33234     +5.16746j    -81.33234     +5.16746j\n",
      "  -84.60018    +64.88135j    -84.60018    +64.88135j\n",
      "  -84.60018    +64.88135j    -84.60018    +64.88135j\n",
      "  -84.60018    +64.88135j    -24.343653   +17.501019j\n",
      "  -24.343653   +17.501019j   -24.343653   +17.501019j\n",
      "  -24.343653   +17.501019j   -24.343653   +17.501019j\n",
      "  -24.343653   +17.501019j    12.553313  -122.52374j\n",
      "   12.553313  -122.52374j     12.553313  -122.52374j\n",
      "   12.553313  -122.52374j     12.553313  -122.52374j\n",
      "   12.553313  -122.52374j     12.553313  -122.52374j\n",
      "   -4.6513877 +160.25992j     -4.6513877 +160.25992j\n",
      "   -4.6513877 +160.25992j     -4.6513877 +160.25992j\n",
      "   27.322334   -54.207096j    27.322334   -54.207096j\n",
      "   27.322334   -54.207096j    27.322334   -54.207096j\n",
      "   27.322334   -54.207096j    27.322334   -54.207096j\n",
      "   27.322334   -54.207096j    27.322334   -54.207096j\n",
      "   83.84793   +116.9084j      83.84793   +116.9084j\n",
      "   83.84793   +116.9084j      83.84793   +116.9084j\n",
      "   83.84793   +116.9084j      83.84793   +116.9084j\n",
      "   83.84793   +116.9084j     -34.16442     -6.4569945j\n",
      "  -34.16442     -6.4569945j  -34.16442     -6.4569945j\n",
      "  -34.16442     -6.4569945j  -34.16442     -6.4569945j\n",
      "  -34.16442     -6.4569945j  -49.208984   +81.38309j\n",
      "  -49.208984   +81.38309j    -49.208984   +81.38309j\n",
      "  -49.208984   +81.38309j    -49.208984   +81.38309j\n",
      "  -49.208984   +81.38309j    -49.208984   +81.38309j\n",
      "  -49.208984   +81.38309j    -60.57276    -11.973961j\n",
      "  -60.57276    -11.973961j   -60.57276    -11.973961j\n",
      "  -60.57276    -11.973961j   -60.57276    -11.973961j\n",
      "  -60.57276    -11.973961j   -60.57276    -11.973961j\n",
      "  -60.57276    -11.973961j    38.90931    +73.6023j\n",
      "   38.90931    +73.6023j      38.90931    +73.6023j\n",
      "   38.90931    +73.6023j      38.90931    +73.6023j\n",
      "   38.90931    +73.6023j      38.90931    +73.6023j\n",
      "   38.90931    +73.6023j      38.90931    +73.6023j\n",
      "   51.55862    -60.340427j    51.55862    -60.340427j\n",
      "   51.55862    -60.340427j    51.55862    -60.340427j\n",
      "   51.55862    -60.340427j    51.55862    -60.340427j\n",
      " -107.60134    -11.233355j  -107.60134    -11.233355j\n",
      " -107.60134    -11.233355j  -107.60134    -11.233355j\n",
      " -107.60134    -11.233355j  -107.60134    -11.233355j\n",
      "   60.427227   +32.802658j    60.427227   +32.802658j\n",
      "   60.427227   +32.802658j    60.427227   +32.802658j\n",
      "   60.427227   +32.802658j    60.427227   +32.802658j\n",
      "   60.427227   +32.802658j   -28.08213    -17.219187j\n",
      "  -28.08213    -17.219187j   -28.08213    -17.219187j\n",
      "  -28.08213    -17.219187j   -28.08213    -17.219187j\n",
      "  -28.08213    -17.219187j   -28.08213    -17.219187j\n",
      "  -28.08213    -17.219187j   -14.716694   -14.8420925j\n",
      "  -14.716694   -14.8420925j  -14.716694   -14.8420925j\n",
      "  -14.716694   -14.8420925j  -14.716694   -14.8420925j\n",
      "  -14.716694   -14.8420925j   60.427227   +32.802658j\n",
      "   60.427227   +32.802658j    60.427227   +32.802658j\n",
      "   60.427227   +32.802658j    60.427227   +32.802658j\n",
      "   60.427227   +32.802658j    60.427227   +32.802658j\n",
      "  -94.69888    -53.295433j   -94.69888    -53.295433j\n",
      "  -94.69888    -53.295433j   -94.69888    -53.295433j\n",
      "  -94.69888    -53.295433j   -94.69888    -53.295433j\n",
      "   75.70137    -49.38348j     75.70137    -49.38348j\n",
      "   75.70137    -49.38348j     75.70137    -49.38348j\n",
      "   75.70137    -49.38348j     75.70137    -49.38348j\n",
      "   75.70137    -49.38348j     53.98344   +204.14307j\n",
      "   53.98344   +204.14307j     53.98344   +204.14307j\n",
      "   53.98344   +204.14307j     53.98344   +204.14307j\n",
      "   53.98344   +204.14307j     53.98344   +204.14307j\n",
      "   -0.44142523 -14.184986j    -0.44142523 -14.184986j\n",
      "   -0.44142523 -14.184986j    -0.44142523 -14.184986j\n",
      "   14.145003   -81.795555j    14.145003   -81.795555j\n",
      "   14.145003   -81.795555j    14.145003   -81.795555j\n",
      "   14.145003   -81.795555j   -53.102676   +51.655483j\n",
      "  -53.102676   +51.655483j   -53.102676   +51.655483j\n",
      "  -53.102676   +51.655483j   -53.102676   +51.655483j\n",
      "  -53.102676   +51.655483j   -53.102676   +51.655483j\n",
      "  -46.208874  -116.56916j    -46.208874  -116.56916j\n",
      "  -46.208874  -116.56916j    -46.208874  -116.56916j\n",
      "  -46.208874  -116.56916j    -46.208874  -116.56916j\n",
      "  -46.208874  -116.56916j     65.906235  -239.49973j\n",
      "   65.906235  -239.49973j     65.906235  -239.49973j\n",
      "   65.906235  -239.49973j     65.906235  -239.49973j\n",
      "   65.906235  -239.49973j     65.906235  -239.49973j\n",
      "   65.906235  -239.49973j   -122.33703    +29.709093j\n",
      " -122.33703    +29.709093j  -122.33703    +29.709093j\n",
      " -122.33703    +29.709093j  -122.33703    +29.709093j\n",
      " -122.33703    +29.709093j    55.555965   -11.455186j\n",
      "   55.555965   -11.455186j    55.555965   -11.455186j\n",
      "   55.555965   -11.455186j    55.555965   -11.455186j\n",
      "    4.2045937  +28.569904j     4.2045937  +28.569904j\n",
      "    4.2045937  +28.569904j     4.2045937  +28.569904j\n",
      "    4.2045937  +28.569904j   -63.219006   +11.616227j\n",
      "  -63.219006   +11.616227j   -63.219006   +11.616227j\n",
      "  -63.219006   +11.616227j   -63.219006   +11.616227j\n",
      "  -63.219006   +11.616227j   -63.219006   +11.616227j\n",
      "  -63.219006   +11.616227j   -16.35176     +9.160267j\n",
      "  -16.35176     +9.160267j   -16.35176     +9.160267j\n",
      "   13.05809     -6.6686335j   13.05809     -6.6686335j\n",
      "   13.05809     -6.6686335j    5.4683065  -29.169634j\n",
      "    5.4683065  -29.169634j     5.4683065  -29.169634j\n",
      "    5.4683065  -29.169634j     5.4683065  -29.169634j\n",
      "    5.4683065  -29.169634j    -3.4451563 -262.06497j\n",
      "   -3.4451563 -262.06497j     -3.4451563 -262.06497j\n",
      "   -3.4451563 -262.06497j     -3.4451563 -262.06497j\n",
      "  -79.50907    -40.722847j   -79.50907    -40.722847j\n",
      "  -79.50907    -40.722847j   -79.50907    -40.722847j\n",
      "  -79.50907    -40.722847j   -79.50907    -40.722847j\n",
      "  -10.8586445  +47.118j      -10.8586445  +47.118j\n",
      "  -10.8586445  +47.118j      -10.8586445  +47.118j\n",
      "  -10.8586445  +47.118j      -10.8586445  +47.118j\n",
      "  -10.8586445  +47.118j      -44.684013   +81.660706j\n",
      "  -44.684013   +81.660706j   -44.684013   +81.660706j\n",
      "  -44.684013   +81.660706j   -44.684013   +81.660706j ]\n"
     ]
    }
   ],
   "source": [
    "import time\n",
    "t = time.time()\n",
    "b = np.repeat(b,a,axis=0)\n",
    "\n",
    "print(b)"
   ]
  },
  {
   "cell_type": "code",
   "execution_count": 37,
   "id": "641ddaf1",
   "metadata": {},
   "outputs": [
    {
     "name": "stdout",
     "output_type": "stream",
     "text": [
      "[[[0 1 2 3 4]]]\n",
      "[[[ True  True False False False]\n",
      "  [False False  True  True False]]\n",
      "\n",
      " [[False  True  True False False]\n",
      "  [False False False  True  True]]]\n",
      "[[0.5       2.5      ]\n",
      " [1.3000001 4.1      ]]\n"
     ]
    }
   ],
   "source": [
    "def compute_block_sum(amp_off_diag, matrixelements_off_diag, ind1, ind2):\n",
    "    # Get the shape parameters\n",
    "    N, M = ind1.shape\n",
    "\n",
    "    # Create broadcastable indices for amp_off_diag and matrixelements_off_diag\n",
    "    broadcast_indices = jnp.arange(amp_off_diag.shape[0]).reshape(1, 1, -1)\n",
    "    print(broadcast_indices)\n",
    "    # Create masks based on ind1 and ind2\n",
    "    mask = (broadcast_indices >= ind1[:,:,None]) & (broadcast_indices < ind2[:,:,None])\n",
    "    print(mask)\n",
    "    # Use mask to compute the sum\n",
    "    result = jnp.sum(mask * amp_off_diag[None, None, :] * matrixelements_off_diag[None, None, :], axis=-1)\n",
    "\n",
    "    return result\n",
    "\n",
    "# Dummy values for testing\n",
    "amp_off_diag = jnp.array([1.0, 2.0, 3.0, 4.0, 5.0])\n",
    "matrixelements_off_diag = jnp.array([0.1, 0.2, 0.3, 0.4, 0.5])\n",
    "ind1 = jnp.array([[0, 2], [1, 3]])\n",
    "ind2 = jnp.array([[2, 4], [3, 5]])\n",
    "\n",
    "block_sum = compute_block_sum(amp_off_diag, matrixelements_off_diag, ind1, ind2)\n",
    "print(block_sum)\n"
   ]
  },
  {
   "cell_type": "code",
   "execution_count": 63,
   "id": "6b8732a5",
   "metadata": {},
   "outputs": [],
   "source": [
    "import jax\n",
    "from jax import grad\n",
    "@jax.jit\n",
    "def f_jax(p0, p1):\n",
    "    n, _ = p0.shape\n",
    "    P = jnp.concatenate([p0[None], p1[None], jnp.zeros((n - 2, n, n))])\n",
    "    \n",
    "    def body(P, i):\n",
    "        X = P[i - 1] @ P[i - 2]\n",
    "        X /= X.sum(1, keepdims=True)\n",
    "\n",
    "        return P.at[i].set(X), None\n",
    "\n",
    "    P, _ = jax.lax.scan(body, P, jnp.arange(2, n))\n",
    "    return P[-1, 0, 0]\n",
    "\n",
    "df_jax = jax.jit(grad(f_jax))"
   ]
  },
  {
   "cell_type": "code",
   "execution_count": 64,
   "id": "65fdd627",
   "metadata": {},
   "outputs": [
    {
     "name": "stdout",
     "output_type": "stream",
     "text": [
      "0.7\n"
     ]
    }
   ],
   "source": [
    "p0 = jnp.array([[1.0, 0.5],\n",
    "                [0.2, 0.8]])\n",
    "\n",
    "p1 = jnp.array([[0.7, 0.1],\n",
    "                [0.3, 0.9]])\n",
    "\n",
    "# Evaluating the function and its gradient\n",
    "f_val = f_jax(p0, p1)\n",
    "grad_val = df_jax(p0, p1)\n",
    "print(f_val)"
   ]
  },
  {
   "cell_type": "code",
   "execution_count": 55,
   "id": "17a06bf4",
   "metadata": {},
   "outputs": [
    {
     "data": {
      "text/plain": [
       "Array([[0.85      , 0.55      ],\n",
       "       [0.38      , 0.73999995]], dtype=float32)"
      ]
     },
     "execution_count": 55,
     "metadata": {},
     "output_type": "execute_result"
    }
   ],
   "source": [
    "p0@p1"
   ]
  },
  {
   "cell_type": "code",
   "execution_count": 54,
   "id": "419c0543",
   "metadata": {},
   "outputs": [
    {
     "data": {
      "text/plain": [
       "Array([[3.],\n",
       "       [3.],\n",
       "       [3.],\n",
       "       [3.],\n",
       "       [3.]], dtype=float32)"
      ]
     },
     "execution_count": 54,
     "metadata": {},
     "output_type": "execute_result"
    }
   ],
   "source": [
    "a = jnp.ones((5,3))\n",
    "a.sum(1,keepdims=True)"
   ]
  },
  {
   "cell_type": "code",
   "execution_count": 28,
   "id": "4f453c96",
   "metadata": {},
   "outputs": [
    {
     "name": "stdout",
     "output_type": "stream",
     "text": [
      "Optimized params: [ 8.7065134e-24  4.2048034e-24 -2.9724462e-24 -1.6939960e-22\n",
      "  1.3051768e-23 -2.3856550e-24  4.1510833e-23 -3.3717430e-23\n",
      "  8.2085527e-23 -1.3970014e-23]\n"
     ]
    }
   ],
   "source": [
    "import jax.numpy as jnp\n",
    "from jax import grad, jit, random\n",
    "import optax\n",
    "\n",
    "# Define a simple quadratic loss function: f(x) = x^2\n",
    "def loss_fn(params):\n",
    "    return jnp.sum(params ** 2)\n",
    "\n",
    "# Gradient of the loss function\n",
    "grad_loss_fn = grad(loss_fn)\n",
    "\n",
    "# Initialize parameters\n",
    "key = random.PRNGKey(0)\n",
    "params = random.normal(key, (10,))\n",
    "\n",
    "# Create the Adam optimizer\n",
    "lr = 0.01\n",
    "optimizer = optax.adam(lr)\n",
    "opt_state = optimizer.init(params)\n",
    "\n",
    "# Define a single update step\n",
    "@jit\n",
    "def update(params, opt_state):\n",
    "    gradient = grad_loss_fn(params)\n",
    "    updates, new_opt_state = optimizer.update(gradient, opt_state)\n",
    "    new_params = optax.apply_updates(params, updates)\n",
    "    return new_params, new_opt_state\n",
    "\n",
    "# Training loop\n",
    "num_steps = 1000\n",
    "for _ in range(num_steps):\n",
    "    params, opt_state = update(params, opt_state)\n",
    "\n",
    "print(\"Optimized params:\", jax.tree_map(\n",
    "      lambda a, b: a-b, params, params_old\n",
    "  ))\n"
   ]
  },
  {
   "cell_type": "code",
   "execution_count": 52,
   "id": "96842bd3",
   "metadata": {},
   "outputs": [
    {
     "name": "stdout",
     "output_type": "stream",
     "text": [
      "sigmas: [[[0 0 1 0]\n",
      "  [1 1 0 1]\n",
      "  [1 0 1 1]\n",
      "  [0 1 0 0]]\n",
      "\n",
      " [[1 1 0 0]\n",
      "  [1 0 0 0]\n",
      "  [0 0 1 1]\n",
      "  [1 1 1 0]]]\n"
     ]
    }
   ],
   "source": [
    "import jax.numpy as jnp\n",
    "import numpy as np\n",
    "\n",
    "# Example JAX array\n",
    "sigmas = jnp.array([\n",
    "    [[0, 0, 1, 0], [1, 1, 0, 1], [1, 0, 1, 1], [0, 1, 0, 0]],\n",
    "    [[1, 1, 0, 0], [1, 0, 0, 0], [0, 0, 1, 1], [1, 1, 1, 0]]\n",
    "    # ... and so on\n",
    "])\n",
    "\n",
    "# Convert the JAX array to a full string without truncation\n",
    "full_str_representation = np.array2string(sigmas, threshold=np.inf)\n",
    "\n",
    "# Print the full string\n",
    "print(\"sigmas:\", full_str_representation)\n"
   ]
  },
  {
   "cell_type": "code",
   "execution_count": 65,
   "id": "74ada75f",
   "metadata": {},
   "outputs": [],
   "source": [
    "ind1= [[0, 1, 2, 3, 4],\n",
    "       [0, 0, 0, 0, 1],\n",
    "       [0, 1, 2, 3, 1]]\n",
    "\n",
    "ind2= [[0, 1, 2, 3, 4],\n",
    "       [1, 1, 1, 1, 2],\n",
    "       [0, 1, 2, 3, 1]]\n",
    "sig = jnp.expand_dims(jnp.array([[0, 0, 1, 0],\n",
    "       [1, 1, 0, 1],\n",
    "       [1, 0, 1, 1],\n",
    "       [0, 1, 0, 0]]),axis=0).repeat(5, axis=0)"
   ]
  },
  {
   "cell_type": "code",
   "execution_count": 84,
   "id": "800e53af",
   "metadata": {},
   "outputs": [
    {
     "name": "stdout",
     "output_type": "stream",
     "text": [
      "152 ms ± 6.05 ms per loop (mean ± std. dev. of 7 runs, 10 loops each)\n"
     ]
    }
   ],
   "source": [
    "size = 3000\n",
    "x = random.normal(key, (size, size), dtype=jnp.float32)\n",
    "%timeit jnp.dot(x, x.T).block_until_ready()  # runs on the GPU\n",
    "a = jnp.zeros(4)"
   ]
  },
  {
   "cell_type": "code",
   "execution_count": 82,
   "id": "50b64cd0",
   "metadata": {},
   "outputs": [
    {
     "name": "stderr",
     "output_type": "stream",
     "text": [
      "<>:2: SyntaxWarning: 'int' object is not callable; perhaps you missed a comma?\n",
      "<>:2: SyntaxWarning: 'int' object is not callable; perhaps you missed a comma?\n",
      "C:\\Users\\Administrator\\AppData\\Local\\Temp\\ipykernel_25176\\1449478348.py:2: SyntaxWarning: 'int' object is not callable; perhaps you missed a comma?\n",
      "  jax.jit(lambda x: x**2 (a.shape[0]))\n"
     ]
    },
    {
     "data": {
      "text/plain": [
       "<PjitFunction of <function <lambda> at 0x000001FF3E19F010>>"
      ]
     },
     "execution_count": 82,
     "metadata": {},
     "output_type": "execute_result"
    }
   ],
   "source": [
    "a = jnp.zeros(4)\n",
    "jax.jit(lambda x: x**2 (a.shape[0])"
   ]
  },
  {
   "cell_type": "code",
   "execution_count": 73,
   "id": "331f3b15",
   "metadata": {},
   "outputs": [
    {
     "name": "stdout",
     "output_type": "stream",
     "text": [
      "10.0\n",
      "15.0\n"
     ]
    }
   ],
   "source": [
    "import jax.numpy as jnp\n",
    "from jax import lax\n",
    "\n",
    "def true_branch(x):\n",
    "    return x * 2\n",
    "\n",
    "def false_branch(x):\n",
    "    return x + 10\n",
    "\n",
    "def conditional_computation(pred, x):\n",
    "    return lax.cond(pred, x, true_branch, x, false_branch)\n",
    "\n",
    "# Test\n",
    "x_value = 5.0\n",
    "print(conditional_computation(True, x_value))  # Should print 10.0 (2 * 5)\n",
    "print(conditional_computation(False, x_value))  # Should print 15.0 (5 + 10)\n"
   ]
  },
  {
   "cell_type": "code",
   "execution_count": 23,
   "id": "b62558fd",
   "metadata": {},
   "outputs": [
    {
     "ename": "TracerBoolConversionError",
     "evalue": "Attempted boolean conversion of traced array with shape bool[]..\nThis BatchTracer with object id 2925627858816 was created on line:\n  C:\\Users\\Administrator\\AppData\\Local\\Temp\\ipykernel_1376\\332543546.py:12 (<module>)\nSee https://jax.readthedocs.io/en/latest/errors.html#jax.errors.TracerBoolConversionError",
     "output_type": "error",
     "traceback": [
      "\u001b[1;31m---------------------------------------------------------------------------\u001b[0m",
      "\u001b[1;31mTracerBoolConversionError\u001b[0m                 Traceback (most recent call last)",
      "Cell \u001b[1;32mIn[23], line 12\u001b[0m\n\u001b[0;32m      9\u001b[0m mask \u001b[38;5;241m=\u001b[39m x \u001b[38;5;241m!=\u001b[39m \u001b[38;5;241m0\u001b[39m  \u001b[38;5;66;03m# mask is [False, True, True, False, True]\u001b[39;00m\n\u001b[0;32m     11\u001b[0m vectorized_fun \u001b[38;5;241m=\u001b[39m vmap(fun, in_axes\u001b[38;5;241m=\u001b[39m(\u001b[38;5;241m0\u001b[39m, \u001b[38;5;241m0\u001b[39m))\n\u001b[1;32m---> 12\u001b[0m result \u001b[38;5;241m=\u001b[39m \u001b[43mvectorized_fun\u001b[49m\u001b[43m(\u001b[49m\u001b[43mx\u001b[49m\u001b[43m,\u001b[49m\u001b[43m \u001b[49m\u001b[43mmask\u001b[49m\u001b[43m)\u001b[49m\n",
      "    \u001b[1;31m[... skipping hidden 3 frame]\u001b[0m\n",
      "Cell \u001b[1;32mIn[23], line 6\u001b[0m, in \u001b[0;36mfun\u001b[1;34m(x, is_nonzero)\u001b[0m\n\u001b[0;32m      5\u001b[0m \u001b[38;5;28;01mdef\u001b[39;00m \u001b[38;5;21mfun\u001b[39m(x, is_nonzero):\n\u001b[1;32m----> 6\u001b[0m     \u001b[38;5;28;01mreturn\u001b[39;00m x \u001b[38;5;241m+\u001b[39m \u001b[38;5;241m1\u001b[39m \u001b[38;5;28;01mif\u001b[39;00m is_nonzero \u001b[38;5;28;01melse\u001b[39;00m x\n",
      "    \u001b[1;31m[... skipping hidden 1 frame]\u001b[0m\n",
      "File \u001b[1;32m~\\anaconda3\\lib\\site-packages\\jax\\_src\\core.py:1396\u001b[0m, in \u001b[0;36mconcretization_function_error.<locals>.error\u001b[1;34m(self, arg)\u001b[0m\n\u001b[0;32m   1395\u001b[0m \u001b[38;5;28;01mdef\u001b[39;00m \u001b[38;5;21merror\u001b[39m(\u001b[38;5;28mself\u001b[39m, arg):\n\u001b[1;32m-> 1396\u001b[0m   \u001b[38;5;28;01mraise\u001b[39;00m TracerBoolConversionError(arg)\n",
      "\u001b[1;31mTracerBoolConversionError\u001b[0m: Attempted boolean conversion of traced array with shape bool[]..\nThis BatchTracer with object id 2925627858816 was created on line:\n  C:\\Users\\Administrator\\AppData\\Local\\Temp\\ipykernel_1376\\332543546.py:12 (<module>)\nSee https://jax.readthedocs.io/en/latest/errors.html#jax.errors.TracerBoolConversionError"
     ]
    }
   ],
   "source": [
    "import jax.numpy as jnp\n",
    "from jax import vmap\n",
    "\n",
    "# Your function that depends on whether x is non-zero\n",
    "def fun(x, is_nonzero):\n",
    "    return x + 1 if is_nonzero else x\n",
    "\n",
    "x = jnp.array([0, 1, 2, 0, 3])\n",
    "mask = x != 0  # mask is [False, True, True, False, True]\n",
    "\n",
    "vectorized_fun = vmap(fun, in_axes=(0, 0))\n",
    "result = vectorized_fun(x, mask)\n"
   ]
  },
  {
   "cell_type": "code",
   "execution_count": 52,
   "id": "189a5c04",
   "metadata": {},
   "outputs": [
    {
     "name": "stdout",
     "output_type": "stream",
     "text": [
      "[1 2 3 4 5]\n"
     ]
    },
    {
     "ename": "AttributeError",
     "evalue": "module 'jax.ops' has no attribute 'index_update'",
     "output_type": "error",
     "traceback": [
      "\u001b[1;31m---------------------------------------------------------------------------\u001b[0m",
      "\u001b[1;31mAttributeError\u001b[0m                            Traceback (most recent call last)",
      "Cell \u001b[1;32mIn[52], line 12\u001b[0m\n\u001b[0;32m      9\u001b[0m arr \u001b[38;5;241m=\u001b[39m jnp\u001b[38;5;241m.\u001b[39marray([\u001b[38;5;241m1\u001b[39m, \u001b[38;5;241m2\u001b[39m, \u001b[38;5;241m3\u001b[39m, \u001b[38;5;241m4\u001b[39m, \u001b[38;5;241m5\u001b[39m])\n\u001b[0;32m     10\u001b[0m \u001b[38;5;28mprint\u001b[39m(arr)  \u001b[38;5;66;03m# [1 2 3 4 5]\u001b[39;00m\n\u001b[1;32m---> 12\u001b[0m swapped_arr \u001b[38;5;241m=\u001b[39m \u001b[43mswap_elements\u001b[49m\u001b[43m(\u001b[49m\u001b[43marr\u001b[49m\u001b[43m,\u001b[49m\u001b[43m \u001b[49m\u001b[38;5;241;43m1\u001b[39;49m\u001b[43m,\u001b[49m\u001b[43m \u001b[49m\u001b[38;5;241;43m3\u001b[39;49m\u001b[43m)\u001b[49m\n\u001b[0;32m     13\u001b[0m \u001b[38;5;28mprint\u001b[39m(swapped_arr)\n",
      "Cell \u001b[1;32mIn[52], line 5\u001b[0m, in \u001b[0;36mswap_elements\u001b[1;34m(arr, ind1, ind2)\u001b[0m\n\u001b[0;32m      4\u001b[0m \u001b[38;5;28;01mdef\u001b[39;00m \u001b[38;5;21mswap_elements\u001b[39m(arr, ind1, ind2):\n\u001b[1;32m----> 5\u001b[0m     \u001b[38;5;28;01mreturn\u001b[39;00m \u001b[43mjax\u001b[49m\u001b[38;5;241;43m.\u001b[39;49m\u001b[43mops\u001b[49m\u001b[38;5;241;43m.\u001b[39;49m\u001b[43mindex_update\u001b[49m(\n\u001b[0;32m      6\u001b[0m         jax\u001b[38;5;241m.\u001b[39mops\u001b[38;5;241m.\u001b[39mindex_update(arr, ind1, arr[ind2]),\n\u001b[0;32m      7\u001b[0m         ind2, arr[ind1]\n\u001b[0;32m      8\u001b[0m     )\n",
      "\u001b[1;31mAttributeError\u001b[0m: module 'jax.ops' has no attribute 'index_update'"
     ]
    }
   ],
   "source": [
    "import jax.numpy as jnp\n",
    "import jax.ops\n",
    "\n",
    "def swap_elements(arr, ind1, ind2):\n",
    "    return jax.ops.index_update(\n",
    "        jax.ops.index_update(arr, ind1, arr[ind2]),\n",
    "        ind2, arr[ind1]\n",
    "    )\n",
    "arr = jnp.array([1, 2, 3, 4, 5])\n",
    "print(arr)  # [1 2 3 4 5]\n",
    "\n",
    "swapped_arr = swap_elements(arr, 1, 3)\n",
    "print(swapped_arr)  # [1 4 3 2 5]\n"
   ]
  },
  {
   "cell_type": "code",
   "execution_count": 4,
   "id": "bebd5b53",
   "metadata": {},
   "outputs": [],
   "source": [
    "from netket.operator.spin import sigmax,sigmaz\n",
    "\n",
    "H = -1*sigmaz(hi,0)*sigmax(hi, 1)\n",
    "H += -1*sigmax(hi,N-3)*sigmaz(hi, N-2)*sigmaz(hi, N-1)\n",
    "H += -1*sigmax(hi,N-2)*sigmax(hi, N-1)\n",
    "H += sum([-1*sigmax(hi,i)*sigmaz(hi,(i+1))*sigmax(hi,i+2) for i in range(N-3)])"
   ]
  },
  {
   "cell_type": "code",
   "execution_count": 42,
   "id": "48ae42e3",
   "metadata": {},
   "outputs": [
    {
     "data": {
      "text/plain": [
       "Array([0.5, 0.4, 0.7], dtype=float32)"
      ]
     },
     "execution_count": 42,
     "metadata": {},
     "output_type": "execute_result"
    }
   ],
   "source": [
    "a = jnp.array([[.5,.4],[.6,.4],[.3,.7]])\n",
    "b = jnp.array([0,1,1])\n",
    "a[jnp.arange(3),b]"
   ]
  },
  {
   "cell_type": "code",
   "execution_count": 15,
   "id": "3616ac7c",
   "metadata": {},
   "outputs": [
    {
     "name": "stdout",
     "output_type": "stream",
     "text": [
      "[[[False  True  True False]\n",
      "  [False  True  True  True]\n",
      "  [ True False  True False]]\n",
      "\n",
      " [[ True  True False False]\n",
      "  [ True  True False False]\n",
      "  [False False False False]]]\n",
      "[[0 0 0 0 1 1]\n",
      " [0 1 1 1 1 1]\n",
      " [3 0 1 3 0 1]]\n"
     ]
    },
    {
     "ename": "TypeError",
     "evalue": "transpose requires ndarray or scalar arguments, got <class 'tuple'> at position 0.",
     "output_type": "error",
     "traceback": [
      "\u001b[1;31m---------------------------------------------------------------------------\u001b[0m",
      "\u001b[1;31mTypeError\u001b[0m                                 Traceback (most recent call last)",
      "Cell \u001b[1;32mIn[15], line 18\u001b[0m\n\u001b[0;32m     16\u001b[0m mask \u001b[38;5;241m=\u001b[39m (arr1[:,:\u001b[38;5;241m-\u001b[39m\u001b[38;5;241m1\u001b[39m, :] \u001b[38;5;241m!=\u001b[39m arr2[:, \u001b[38;5;241m1\u001b[39m:, :])\n\u001b[0;32m     17\u001b[0m \u001b[38;5;28mprint\u001b[39m(jnp\u001b[38;5;241m.\u001b[39marray(jnp\u001b[38;5;241m.\u001b[39mnonzero(mask)))\n\u001b[1;32m---> 18\u001b[0m indices \u001b[38;5;241m=\u001b[39m \u001b[43mjnp\u001b[49m\u001b[38;5;241;43m.\u001b[39;49m\u001b[43mtranspose\u001b[49m\u001b[43m(\u001b[49m\u001b[43mjnp\u001b[49m\u001b[38;5;241;43m.\u001b[39;49m\u001b[43mnonzero\u001b[49m\u001b[43m(\u001b[49m\u001b[43mmask\u001b[49m\u001b[43m)\u001b[49m\u001b[43m)\u001b[49m\n\u001b[0;32m     19\u001b[0m \u001b[38;5;28mprint\u001b[39m(arr1[indices[:, \u001b[38;5;241m0\u001b[39m], indices[:, \u001b[38;5;241m1\u001b[39m], indices[:, \u001b[38;5;241m2\u001b[39m]])\n\u001b[0;32m     20\u001b[0m \u001b[38;5;28mprint\u001b[39m(arr1[jnp\u001b[38;5;241m.\u001b[39marray(jnp\u001b[38;5;241m.\u001b[39mnonzero(mask))]\u001b[38;5;241m.\u001b[39mshape)\n",
      "File \u001b[1;32m~\\anaconda3\\lib\\site-packages\\jax\\_src\\numpy\\lax_numpy.py:553\u001b[0m, in \u001b[0;36mtranspose\u001b[1;34m(a, axes)\u001b[0m\n\u001b[0;32m    551\u001b[0m \u001b[38;5;129m@util\u001b[39m\u001b[38;5;241m.\u001b[39m_wraps(np\u001b[38;5;241m.\u001b[39mtranspose, lax_description\u001b[38;5;241m=\u001b[39m_ARRAY_VIEW_DOC)\n\u001b[0;32m    552\u001b[0m \u001b[38;5;28;01mdef\u001b[39;00m \u001b[38;5;21mtranspose\u001b[39m(a: ArrayLike, axes: Sequence[\u001b[38;5;28mint\u001b[39m] \u001b[38;5;241m|\u001b[39m \u001b[38;5;28;01mNone\u001b[39;00m \u001b[38;5;241m=\u001b[39m \u001b[38;5;28;01mNone\u001b[39;00m) \u001b[38;5;241m-\u001b[39m\u001b[38;5;241m>\u001b[39m Array:\n\u001b[1;32m--> 553\u001b[0m   \u001b[43mutil\u001b[49m\u001b[38;5;241;43m.\u001b[39;49m\u001b[43mcheck_arraylike\u001b[49m\u001b[43m(\u001b[49m\u001b[38;5;124;43m\"\u001b[39;49m\u001b[38;5;124;43mtranspose\u001b[39;49m\u001b[38;5;124;43m\"\u001b[39;49m\u001b[43m,\u001b[49m\u001b[43m \u001b[49m\u001b[43ma\u001b[49m\u001b[43m)\u001b[49m\n\u001b[0;32m    554\u001b[0m   axes_ \u001b[38;5;241m=\u001b[39m \u001b[38;5;28mlist\u001b[39m(\u001b[38;5;28mrange\u001b[39m(ndim(a))[::\u001b[38;5;241m-\u001b[39m\u001b[38;5;241m1\u001b[39m]) \u001b[38;5;28;01mif\u001b[39;00m axes \u001b[38;5;129;01mis\u001b[39;00m \u001b[38;5;28;01mNone\u001b[39;00m \u001b[38;5;28;01melse\u001b[39;00m axes\n\u001b[0;32m    555\u001b[0m   axes_ \u001b[38;5;241m=\u001b[39m [_canonicalize_axis(i, ndim(a)) \u001b[38;5;28;01mfor\u001b[39;00m i \u001b[38;5;129;01min\u001b[39;00m axes_]\n",
      "File \u001b[1;32m~\\anaconda3\\lib\\site-packages\\jax\\_src\\numpy\\util.py:328\u001b[0m, in \u001b[0;36mcheck_arraylike\u001b[1;34m(fun_name, *args)\u001b[0m\n\u001b[0;32m    325\u001b[0m pos, arg \u001b[38;5;241m=\u001b[39m \u001b[38;5;28mnext\u001b[39m((i, arg) \u001b[38;5;28;01mfor\u001b[39;00m i, arg \u001b[38;5;129;01min\u001b[39;00m \u001b[38;5;28menumerate\u001b[39m(args)\n\u001b[0;32m    326\u001b[0m                 \u001b[38;5;28;01mif\u001b[39;00m \u001b[38;5;129;01mnot\u001b[39;00m _arraylike(arg))\n\u001b[0;32m    327\u001b[0m msg \u001b[38;5;241m=\u001b[39m \u001b[38;5;124m\"\u001b[39m\u001b[38;5;132;01m{}\u001b[39;00m\u001b[38;5;124m requires ndarray or scalar arguments, got \u001b[39m\u001b[38;5;132;01m{}\u001b[39;00m\u001b[38;5;124m at position \u001b[39m\u001b[38;5;132;01m{}\u001b[39;00m\u001b[38;5;124m.\u001b[39m\u001b[38;5;124m\"\u001b[39m\n\u001b[1;32m--> 328\u001b[0m \u001b[38;5;28;01mraise\u001b[39;00m \u001b[38;5;167;01mTypeError\u001b[39;00m(msg\u001b[38;5;241m.\u001b[39mformat(fun_name, \u001b[38;5;28mtype\u001b[39m(arg), pos))\n",
      "\u001b[1;31mTypeError\u001b[0m: transpose requires ndarray or scalar arguments, got <class 'tuple'> at position 0."
     ]
    }
   ],
   "source": [
    "import jax.random\n",
    "import jax.numpy as jnp\n",
    "\n",
    "def random_binary_array(key, shape):\n",
    "    \"\"\"Generate a random binary array with given shape.\"\"\"\n",
    "    # Use bernoulli sampling with 50% probability\n",
    "    return jax.random.bernoulli(key, p=0.5, shape=shape)\n",
    "\n",
    "# Initialize a random key\n",
    "key = jax.random.PRNGKey(0)\n",
    "\n",
    "# Generate a random 5x5 array with 0s and 1s\n",
    "arr1 = random_binary_array(key, (2,3,4))\n",
    "arr2 = random_binary_array(key, (2,3,4))\n",
    "print(arr1)\n",
    "mask = (arr1[:,:-1, :] != arr2[:, 1:, :])\n",
    "print(jnp.array(jnp.nonzero(mask)))\n",
    "indices = jnp.transpose(jnp.nonzero(mask))\n",
    "print(arr1[indices[:, 0], indices[:, 1], indices[:, 2]])\n",
    "print(arr1[jnp.array(jnp.nonzero(mask))].shape)"
   ]
  },
  {
   "cell_type": "code",
   "execution_count": 16,
   "id": "8016c42f",
   "metadata": {},
   "outputs": [
    {
     "ename": "ValueError",
     "evalue": "too many values to unpack (expected 2)",
     "output_type": "error",
     "traceback": [
      "\u001b[1;31m---------------------------------------------------------------------------\u001b[0m",
      "\u001b[1;31mValueError\u001b[0m                                Traceback (most recent call last)",
      "Cell \u001b[1;32mIn[16], line 45\u001b[0m\n\u001b[0;32m     31\u001b[0m \u001b[38;5;66;03m# Example\u001b[39;00m\n\u001b[0;32m     32\u001b[0m arr_set \u001b[38;5;241m=\u001b[39m jnp\u001b[38;5;241m.\u001b[39marray([\n\u001b[0;32m     33\u001b[0m     [\n\u001b[0;32m     34\u001b[0m         [\u001b[38;5;241m0\u001b[39m, \u001b[38;5;241m1\u001b[39m, \u001b[38;5;241m0\u001b[39m],\n\u001b[1;32m   (...)\u001b[0m\n\u001b[0;32m     42\u001b[0m     ]\n\u001b[0;32m     43\u001b[0m ])\n\u001b[1;32m---> 45\u001b[0m mod_arrays \u001b[38;5;241m=\u001b[39m \u001b[43mproduce_modified_arrays\u001b[49m\u001b[43m(\u001b[49m\u001b[43marr_set\u001b[49m\u001b[43m)\u001b[49m\n\u001b[0;32m     46\u001b[0m \u001b[38;5;28mprint\u001b[39m(mod_arrays)\n",
      "Cell \u001b[1;32mIn[16], line 24\u001b[0m, in \u001b[0;36mproduce_modified_arrays\u001b[1;34m(arr)\u001b[0m\n\u001b[0;32m     21\u001b[0m down_diff_indices \u001b[38;5;241m=\u001b[39m jnp\u001b[38;5;241m.\u001b[39margwhere(diff_down)\n\u001b[0;32m     23\u001b[0m \u001b[38;5;66;03m# Handle right differences\u001b[39;00m\n\u001b[1;32m---> 24\u001b[0m modified_right \u001b[38;5;241m=\u001b[39m \u001b[43mlax\u001b[49m\u001b[38;5;241;43m.\u001b[39;49m\u001b[43mmap\u001b[49m\u001b[43m(\u001b[49m\u001b[38;5;28;43;01mlambda\u001b[39;49;00m\u001b[43m \u001b[49m\u001b[43midx\u001b[49m\u001b[43m:\u001b[49m\u001b[43m \u001b[49m\u001b[43mflip_right\u001b[49m\u001b[43m(\u001b[49m\u001b[43marr\u001b[49m\u001b[43m,\u001b[49m\u001b[43m \u001b[49m\u001b[43midx\u001b[49m\u001b[43m)\u001b[49m\u001b[43m,\u001b[49m\u001b[43m \u001b[49m\u001b[43mright_diff_indices\u001b[49m\u001b[43m)\u001b[49m\n\u001b[0;32m     26\u001b[0m \u001b[38;5;66;03m# Handle down differences\u001b[39;00m\n\u001b[0;32m     27\u001b[0m modified_down \u001b[38;5;241m=\u001b[39m lax\u001b[38;5;241m.\u001b[39mmap(\u001b[38;5;28;01mlambda\u001b[39;00m idx: flip_down(arr, idx), down_diff_indices)\n",
      "    \u001b[1;31m[... skipping hidden 12 frame]\u001b[0m\n",
      "Cell \u001b[1;32mIn[16], line 24\u001b[0m, in \u001b[0;36mproduce_modified_arrays.<locals>.<lambda>\u001b[1;34m(idx)\u001b[0m\n\u001b[0;32m     21\u001b[0m down_diff_indices \u001b[38;5;241m=\u001b[39m jnp\u001b[38;5;241m.\u001b[39margwhere(diff_down)\n\u001b[0;32m     23\u001b[0m \u001b[38;5;66;03m# Handle right differences\u001b[39;00m\n\u001b[1;32m---> 24\u001b[0m modified_right \u001b[38;5;241m=\u001b[39m lax\u001b[38;5;241m.\u001b[39mmap(\u001b[38;5;28;01mlambda\u001b[39;00m idx: \u001b[43mflip_right\u001b[49m\u001b[43m(\u001b[49m\u001b[43marr\u001b[49m\u001b[43m,\u001b[49m\u001b[43m \u001b[49m\u001b[43midx\u001b[49m\u001b[43m)\u001b[49m, right_diff_indices)\n\u001b[0;32m     26\u001b[0m \u001b[38;5;66;03m# Handle down differences\u001b[39;00m\n\u001b[0;32m     27\u001b[0m modified_down \u001b[38;5;241m=\u001b[39m lax\u001b[38;5;241m.\u001b[39mmap(\u001b[38;5;28;01mlambda\u001b[39;00m idx: flip_down(arr, idx), down_diff_indices)\n",
      "Cell \u001b[1;32mIn[16], line 10\u001b[0m, in \u001b[0;36mflip_right\u001b[1;34m(arr, indices)\u001b[0m\n\u001b[0;32m      9\u001b[0m \u001b[38;5;28;01mdef\u001b[39;00m \u001b[38;5;21mflip_right\u001b[39m(arr, indices):\n\u001b[1;32m---> 10\u001b[0m     i, j \u001b[38;5;241m=\u001b[39m indices\n\u001b[0;32m     11\u001b[0m     \u001b[38;5;28;01mreturn\u001b[39;00m arr\u001b[38;5;241m.\u001b[39mat[i, j]\u001b[38;5;241m.\u001b[39mset(arr[i, j\u001b[38;5;241m+\u001b[39m\u001b[38;5;241m1\u001b[39m])\u001b[38;5;241m.\u001b[39mat[i, j\u001b[38;5;241m+\u001b[39m\u001b[38;5;241m1\u001b[39m]\u001b[38;5;241m.\u001b[39mset(arr[i, j])\n",
      "\u001b[1;31mValueError\u001b[0m: too many values to unpack (expected 2)"
     ]
    }
   ],
   "source": [
    "import jax.numpy as jnp\n",
    "from jax import lax\n",
    "\n",
    "def find_neighbors_diff(arr):\n",
    "    diff_right = jnp.roll(arr, shift=-1, axis=2)[:, :, :-1] != arr[:, :, :-1]\n",
    "    diff_down = jnp.roll(arr, shift=-1, axis=1)[:, :-1, :] != arr[:, :-1, :]\n",
    "    return diff_right, diff_down\n",
    "\n",
    "def flip_right(arr, indices):\n",
    "    i, j = indices\n",
    "    return arr.at[i, j].set(arr[i, j+1]).at[i, j+1].set(arr[i, j])\n",
    "\n",
    "def flip_down(arr, indices):\n",
    "    i, j = indices\n",
    "    return arr.at[i, j].set(arr[i+1, j]).at[i+1, j].set(arr[i, j])\n",
    "\n",
    "def produce_modified_arrays(arr):\n",
    "    diff_right, diff_down = find_neighbors_diff(arr)\n",
    "    \n",
    "    right_diff_indices = jnp.argwhere(diff_right)\n",
    "    down_diff_indices = jnp.argwhere(diff_down)\n",
    "\n",
    "    # Handle right differences\n",
    "    modified_right = lax.map(lambda idx: flip_right(arr, idx), right_diff_indices)\n",
    "\n",
    "    # Handle down differences\n",
    "    modified_down = lax.map(lambda idx: flip_down(arr, idx), down_diff_indices)\n",
    "    \n",
    "    return jnp.concatenate([modified_right, modified_down])\n",
    "\n",
    "# Example\n",
    "arr_set = jnp.array([\n",
    "    [\n",
    "        [0, 1, 0],\n",
    "        [1, 0, 1],\n",
    "        [0, 1, 0]\n",
    "    ],\n",
    "    [\n",
    "        [0, 0, 1],\n",
    "        [1, 1, 0],\n",
    "        [1, 0, 1]\n",
    "    ]\n",
    "])\n",
    "\n",
    "mod_arrays = produce_modified_arrays(arr_set)\n",
    "print(mod_arrays)"
   ]
  },
  {
   "cell_type": "code",
   "execution_count": 2,
   "id": "0b800965",
   "metadata": {},
   "outputs": [
    {
     "name": "stderr",
     "output_type": "stream",
     "text": [
      "No GPU/TPU found, falling back to CPU. (Set TF_CPP_MIN_LOG_LEVEL=0 and rerun for more info.)\n"
     ]
    }
   ],
   "source": [
    "import jax.numpy as jnp\n",
    "from jax import grad, jit, vmap\n",
    "from jax import random\n",
    "# A helper function to randomly initialize weights and biases\n",
    "# for a dense neural network layer\n",
    "def random_layer_params(m, n, key, scale=1e-2):\n",
    "  w_key, b_key = random.split(key)\n",
    "  return scale * random.normal(w_key, (n, m)), scale * random.normal(b_key, (n,))\n",
    "\n",
    "# Initialize all layers for a fully-connected neural network with sizes \"sizes\"\n",
    "def init_network_params(sizes, key):\n",
    "  keys = random.split(key, len(sizes))\n",
    "  return [random_layer_params(m, n, k) for m, n, k in zip(sizes[:-1], sizes[1:], keys)]\n",
    "\n",
    "layer_sizes = [784, 512, 512, 10]\n",
    "step_size = 0.01\n",
    "num_epochs = 8\n",
    "batch_size = 128\n",
    "n_targets = 10\n",
    "params = init_network_params(layer_sizes, random.PRNGKey(0))"
   ]
  },
  {
   "cell_type": "code",
   "execution_count": 19,
   "id": "e14eed16",
   "metadata": {},
   "outputs": [],
   "source": [
    "import jax.numpy as jnp\n",
    "from jax import grad, jit, vmap\n",
    "from jax import random\n",
    "\n",
    "# A helper function to randomly initialize weights and biases\n",
    "# for a dense neural network layer\n",
    "def random_layer_params(m, n, key, scale=1e-2):\n",
    "    w_key, b_key = random.split(key)\n",
    "    return scale * random.normal(w_key, (n, m)), scale * random.normal(b_key, (n,))\n",
    "\n",
    "# Initialize all layers for a fully-connected neural network with sizes \"sizes\"\n",
    "def init_network_params(sizes, key):\n",
    "    keys = random.split(key, len(sizes))\n",
    "    return [random_layer_params(m, n, k) for m, n, k in zip(sizes[:-1], sizes[1:], keys)]\n",
    "\n",
    "layer_sizes = [784, 512, 512, 10]\n",
    "step_size = 0.01\n",
    "num_epochs = 8\n",
    "batch_size = 128\n",
    "n_targets = 10\n",
    "params = init_network_params(layer_sizes, random.PRNGKey(0))"
   ]
  },
  {
   "cell_type": "code",
   "execution_count": 77,
   "id": "a4d2b8ab",
   "metadata": {},
   "outputs": [
    {
     "name": "stdout",
     "output_type": "stream",
     "text": [
      "6.008327554319921\n",
      "6.008328\n",
      "6.0083275\n"
     ]
    }
   ],
   "source": [
    "import jax\n",
    "import jax.numpy as jnp\n",
    "\n",
    "# Define a function\n",
    "def f(x):\n",
    "    return jnp.abs((x+x**2*1j))\n",
    "\n",
    "# Compute the gradient\n",
    "grad_f = jax.grad(f)\n",
    "\n",
    "# JIT compile the gradient function\n",
    "jit_grad_f = jax.jit(grad_f)\n",
    "\n",
    "# Test the functions\n",
    "x_value = jnp.array(3.0)\n",
    "func = lambda x: (x**2+1)**(0.5)+x**2/(x**2+1)**(0.5)\n",
    "print(func(3))\n",
    "print(grad_f(x_value))  # Should print 6.0 (2*3)\n",
    "print(jit_grad_f(x_value))  # Also should print 6.0 but faster after the first call due to JIT compilation\n"
   ]
  },
  {
   "cell_type": "code",
   "execution_count": 3,
   "id": "adb9c83d",
   "metadata": {},
   "outputs": [],
   "source": [
    "import netket as nk\n",
    "import jax\n",
    "import jax.numpy as jnp\n",
    "from jax import grad, jit, vmap\n",
    "import jax.random as random\n",
    "from jax.random import PRNGKey, split, categorical\n",
    "from jax.lax import scan\n",
    "import jax.nn as nn\n",
    "import time\n",
    "from tqdm import tqdm\n",
    "\n",
    "\n",
    "def softmax (x):\n",
    "    return jnp.exp(x)/jnp.sum(jnp.exp(x))     \n",
    "def heavyside(inputs):\n",
    "    sign = jnp.sign(jnp.sign(inputs) + 0.1 ) #tf.sign(0) = 0, this is a way to cure that since I want tf.sign(0) = 1\n",
    "    return 0.5*(sign+1.0)\n",
    "\n",
    "def random_layer_params(m, n, ny, nx, key, scale=1e-2):\n",
    "    w_key, b_key = random.split(key)\n",
    "    outkey1, outkey2 = random.split(w_key)\n",
    "    return outkey1,  random.normal(w_key, (ny, nx, n, m)),  random.normal(b_key, (ny, nx, n))\n",
    "\n",
    "# Initialize all layers for a fully-connected neural network with sizes \"sizes\"\n",
    "def init_network_params(sizes, ny ,nx,  key):\n",
    "    outkey, keys = random.split(key, len(sizes)+1)\n",
    "    return outkey, [random_layer_params(ny, nx, m, n, k) for m, n, k in zip(sizes[:-1], sizes[1:], keys)]\n",
    "def one_hot_encoding(x, num_classes = 2):\n",
    "    \"\"\"Converts batched integer labels to one-hot encoded arrays.\"\"\"\n",
    "    return jnp.eye(num_classes)[x]\n",
    "def sample_discrete(key, probabilities, size=None):\n",
    "    \"\"\"Sample from a discrete distribution defined by probabilities.\"\"\"\n",
    "    logits = jnp.log(probabilities)\n",
    "    return categorical(key, logits, shape=size)\n",
    "\n",
    "def init_params(Nx, Ny, units, input_size, key):\n",
    "    hidden_size = 3*input_size\n",
    "    key, Winput = init_network_params([units, 2*input_size], Ny, Nx, key) #augment input dimension\n",
    "    key, Wrnn, brnn = init_network_params([3*units, hidden_size, hidden_size, \n",
    "                       2*units], Ny, Nx, key)  \n",
    "                # 2*units+augmen_input → hidden_layer → hidden layer → 2*rnn_state\n",
    "    key, Wamp, bamp = init_network_params([input_size, 2*self.units], Ny, Nx, key)\n",
    "    key, Wphase, bphase = init_network_params([input_size, 2*self.units], Ny, Nx, key)\n",
    "                # 2*units → output(amplitude)\n",
    "    rnn_states_init_x = random.normal(random.split(self.key)[0], (Nx, 2*units)) #states at vertical direction\n",
    "    rnn_states_init_y = random.normal(random.split(self.key)[1], (Ny, 2*units))\n",
    "    \n",
    "    return Winput, Wrnn, brnn, Wamp, bamp, Wphase, bphase, rnn_states_init_x, rnn_states_init_y\n",
    "\n",
    "class RNNwavefunction(object):\n",
    "    def __init__(self, systemsize_x, systemsize_y, units=10, mag_fixed = False, magnetization = 0):\n",
    "        self.key = PRNGKey(0)\n",
    "        self.Nx=systemsize_x  #number of sites in the 2d model\n",
    "        self.Ny=systemsize_y\n",
    "        self.N = self.Nx*self.Ny\n",
    "        self.magnetization = magnetization\n",
    "        self.mag_fixed = mag_fixed\n",
    "        self.input_size = 2\n",
    "        self.units = units\n",
    "        self.params = init_params(self.Nx, self.Ny, self.units, self.input_size, self.key)\n",
    "        self.Winput, self.Wrnn, self.brnn, self.Wamp, self.bamp, self.Wphase, self.bphase, self.rnn_states_init_x, self.rnn_states_init_y = self.params\n",
    "        self.inputs_init_x = jnp.repeat(jnp.expand_dims(jnp.array([1,0]), axis=0), self.Nx, axis=0)\n",
    "        self.inputs_init_y = jnp.repeat(jnp.expand_dims(jnp.array([1,0]), axis=0), self.Ny, axis=0)\n",
    "        \n",
    "    def normalization(self, probs, num_up, num_generated_spins, magnetization, num_samples):\n",
    "        num_down = num_generated_spins - num_up\n",
    "        activations_up = heavyside(((self.N+magnetization)//2-1) - num_up)\n",
    "        activations_down = heavyside(((self.N-magnetization)//2-1) - num_down)\n",
    "\n",
    "        probs_ = probs*jnp.stack([activations_down,activations_up], axis = 1).astype(jnp.float32)\n",
    "        probs__ = probs_/(jnp.reshape(jnp.linalg.norm(probs_, axis=1, ord=1), [num_samples,1])) #l1 normalizing\n",
    "        return probs__  \n",
    "\n",
    "    \n",
    "    def rnn_step(self, local_inputs, local_states, params):   #local_input is already concantenated\n",
    "        \n",
    "        Winput, Wrnn, brnn, Wamp, bamp, Wphase, bphase = params\n",
    "        encode_input = jnp.dot(Winput, local_input)  \n",
    "        layer1 = nn.relu(jnp.dot(Wrnn[0], jnp.concatenate((encode_input, local_states)))+brnn[0])\n",
    "        layer2 = nn.relu(jnp.dot(Wrnn[1], layer1)+brnn[1])\n",
    "        new_state = jnp.arcsinh(jnp.dot(Wrnn[2], layer2)+brnn[2])\n",
    "        prob = nn.softmax(jnp.dot(Wamp, new_state)+bamp)\n",
    "        phase = jnp.pi*nn.soft_sign(jnp.dot(Wphase, new_state)+bphase)\n",
    "              \n",
    "        \n",
    "        return new_state, prob, phase\n",
    "    \n",
    "    #need to deal with in place assignment of rnn units\n",
    "    def sample_amp(self, num_samples):\n",
    "        self.num_samples = num_samples\n",
    "        inputdim = 2\n",
    "        \n",
    "        self.batch_rnn_states_init_x = jnp.repeat(jnp.expand_dims(self.rnn_states_init_x, axis=0), self.num_samples, axis=0)\n",
    "        self.batch_rnn_states_init_y = jnp.repeat(jnp.expand_dims(self.rnn_states_init_y, axis=0), self.num_samples, axis=0)\n",
    "        \n",
    "        self.batch_inputs_init_x = jnp.repeat(jnp.expand_dims(self.inputs_init_x, axis=0), self.num_samples, axis = 0) #Important the real sample is at [1:-1, 1:-1]\n",
    "        self.batch_inputs_init_y = jnp.repeat(jnp.expand_dims(self.inputs_init_x, axis=0), self.num_samples, axis = 0)\n",
    "        \n",
    "        self.samples=jnp.zeros((self.num_samples, self.Ny, self.Nx))  \n",
    "        cond_prob = jnp.zeros((self.num_samples, self.Ny, self.Nx))\n",
    "        phase = jnp.zeros((self.num_samples, self.Ny, self.Nx))\n",
    "        num_generated_spins = 0\n",
    "        num_up = jnp.zeros(self.num_samples)\n",
    "        batch_rnn = vmap(self.rnn_step, (0, 0, None))\n",
    "        '''\n",
    "        for ny in range(-1,self.Ny+1): #Loop over the number of sites (# need modification)\n",
    "            for nx in range(-1,self.Nx+1):\n",
    "                rnn_states[str(ny)+str(nx)]= self.rnn.zero_state(numsamples, dtype=tf.float32)\n",
    "                inputs[str(ny)+str(nx)] = jnp.zeros((self.num_samples, inputdim)) #Feed the table b in tf.\n",
    "        '''\n",
    "        def scan_fun_1d(carry_1d, indices):\n",
    "            '''\n",
    "            rnn_state_x_1d, inputs_x_1d : ↓↓↓...↓\n",
    "            rnn_state_yi_1d, inputs_yi_1d : → or ←\n",
    "            mag_fixed : To apply U(1) symmetry\n",
    "            num_1d : count the indices of rnn_state_yi\n",
    "            key : for random number generation\n",
    "            num_samples\n",
    "            params_1d: rnn_parameters on that row\n",
    "            '''\n",
    "            ny, nx = indices\n",
    "            rnn_states_x_1d, rnn_states_yi_1d, num_1d, num_spin, num_up, key, inputs_x_1d, inputs_yi_1d, mag_fixed, magnetization, num_samples, params_1d = carry_1d \n",
    "            \n",
    "            rnn_states = jnp.concatenate(rnn_states_yi_1d, rnn_states_x_1d[num_1d])\n",
    "            rnn_inputs = jnp.concatenate(inputs_yi_1d, inputs_x_1d[num_1d])\n",
    "            \n",
    "            new_state, new_prob, new_phase = batch_rnn(rnn_inputs, rnn_states, params_1d[:, nx]) \n",
    "            # new_state will be stacked so that it will be the new input of rnn_state_x_1d of the next row \n",
    "            rnn_states_yi_1d = new_state\n",
    "            new_prob = self.normalization(new_prob , num_up, num_generated_spins, magnetization, num_samples)*(mag_fixed)+new_prob*(1-mag_fixed)\n",
    "            key, subkey = split(key)\n",
    "            samples_output =  categorical(subkey, jnp.log(new_prob), shape=(num_samples, 1)) #sampling\n",
    "            inputs_yi_1d = one_hot_encoding(samples_output) # one_hot_encoding of the sample\n",
    "            num_1d += 1 # move to the next step\n",
    "            num_up += 1-samples_output \n",
    "            num_spin += 1\n",
    "            \n",
    "            return (rnn_states_x_1d, rnn_states_yi_1d, num_1d, key, inputs_x_1d, inputs_yi_1d, mag_fixed, num_samples, \\\n",
    "                    params_1d), (samples_output, new_prob, new_state)\n",
    "        \n",
    "        def scan_fun_2d(carry_2d, indices):  # indices:[[0,0], [0,1], [0,2]...[0,Nx-1]]\n",
    "            \n",
    "            rnn_states_x, rnn_states_y, num_2d, num_1d, num_spin, num_up, key, inputs_x, inputs_y, mag_fixed, magnetization, num_samples, params = carry_2d\n",
    "            #rnn_states_x and rnn_states_y are of shape [Nx] and [Ny] \n",
    "            carry_1d = rnn_states_x, rnn_states_y[num_2d], num_1d, num_up, num_spin, key, inputs_x, inputs_y[num_2d], mag_fixed, magnetization, num_samples, params[:, num_2d]\n",
    "            _, y = lax.scan(scan_fun_1d, carry_1d, indices)\n",
    "            \n",
    "            row_samples, row_prob, rnn_states_x = y\n",
    "            rnn_states_x = jnp.flip(rnn_states_x, 1) # reverse the direction of input of for the next line\n",
    "            inputs_x = one_hot_encoding(row_samples)\n",
    "            inputs_x = jnp.flip(inputs_x, 1)\n",
    "            num_1d = 0\n",
    "            num_2d += 1\n",
    "            \n",
    "            return (rnn_states_x, rnn_states_y, num_2d, num_1d, key, inputs_x, inputs_y, mag_fixed, num_samples, params), (row_samples, row_prob)\n",
    "        \n",
    "        init = self.batch_rnn_states_init_x, self.batch_rnn_states_init_y, 0, 0, 0, jnp.zeros(self.num_samples), PRNGKey(3), self.batch_inputs_init_x, self.batch_inputs_init_y\\\n",
    "        , self.mag_fixed, self.magnetization, self.num_samples, (self.Winput, self.Wrnn, self.brnn, self.Wamp, self.bamp, self.Wphase, self.bphase)\n",
    "        \n",
    "        ny_nx_indices = [[(i, j) for i in range(self.Nx)] for j in range(self.Ny)] \n",
    "        \n",
    "        __, (samples, probs) = lax.scan(scan_fun_2d, init, ny_nx_indices)\n",
    "        \n",
    "        return samples, probs\n",
    "    \n",
    "\n",
    "             \n",
    "    def log_amp(self, samples):\n",
    "        # using vmap to batch num_samples, ny, nx dimenstion to make the computation parallel and using lax.scan to initialize input and states\n",
    "        # samples : (num_samples, Ny, Nx)\n",
    "        sample_input = one_hot_encoding(samples) \n",
    "        batch_amp_rnn = vmap(self.rnn_step,((0,1,2),(0,1,2), None))\n",
    "        params = (self.Winput, self.Wrnn, self.brnn, self.Wamp, self.bamp, self.Wphase, self.bphase)\n",
    "\n",
    "        def scan_ini_1d(carry_1d, indices):\n",
    "            ny, nx = indices\n",
    "            rnn_states_x_1d, rnn_states_yi_1d, num_1d, inputs_x_1d, inputs_yi_1d, num_samples = carry_1d\n",
    "            num_1d += 1\n",
    "\n",
    "            return jnp.concatenate(rnn_states_x_1d), jnp.concatenate(rnn_states_x_1d, )\n",
    "\n",
    "        def scan_ini_2d(carry_2d, indices):\n",
    "            rnn_states_x, rnn_states_y, num_2d, num_1d, inputs_x, inputs_y, num_samples = carry_2d\n",
    "            carry_1d = rnn_states_x, rnn_states_y[num_2d], num_1d, inputs_x, inputs_y[num_2d] \n",
    "\n",
    "            _, (rnn_states_x, inputs_x) = lax.scan(scan_ini_1d, carry_1d, indices)\n",
    "            rnn_states_x = jnp.flip(rnn_states_x, 1)\n",
    "            inputs_x = jnp.flip(inputs_x, 1)\n",
    "            num_2d += 1\n",
    "            num_1d = 0\n",
    "\n",
    "            return _, (rnn_states_x, inputs_x)\n",
    "\n",
    "        init = self.batch_rnn_states_init_x, self.batch_rnn_states_init_y, 0, 0, inputs_x, inputs_y, self.num_samples,\n",
    "        ny_nx_indices = [[(i, j) for i in range(self.Nx)] for j in range(self.Ny)] \n",
    "        _ , (global_states, global_inputs) = lax.scan(scan_ini_2d, init, ny_nx_indices)\n",
    "\n",
    "        rnn_states, cond_prob, phase= batch_amp_rnn(global_inputs, global_states, params)\n",
    "        log_prob = jnp.sum(jnp.log(cond_prob), axis = (1,2))\n",
    "\n",
    "        return log_prob"
   ]
  },
  {
   "cell_type": "code",
   "execution_count": 17,
   "id": "a6ba903b",
   "metadata": {},
   "outputs": [
    {
     "name": "stderr",
     "output_type": "stream",
     "text": [
      "usage: ipykernel_launcher.py [-h] [--L L] [--numunits NUMUNITS] [--lr LR]\n",
      "                             [--J1 J1] [--J2 J2] [--J3 J3]\n",
      "                             [--lrthreshold LRTHRESHOLD]\n",
      "                             [--lrdecaytime LRDECAYTIME]\n",
      "                             [--mag_fixed MAG_FIXED] [--Sz SZ]\n",
      "                             [--spinparity_fixed SPINPARITY_FIXED]\n",
      "                             [--spinparity_value SPINPARITY_VALUE]\n",
      "                             [--gradient_clip GRADIENT_CLIP]\n",
      "                             [--gradient_clipvalue GRADIENT_CLIPVALUE]\n",
      "                             [--normalized_gradients NORMALIZED_GRADIENTS]\n",
      "                             [--dotraining DOTRAINING] [--T0 T0]\n",
      "                             [--Nwarmup NWARMUP] [--Nannealing NANNEALING]\n",
      "                             [--Ntrain NTRAIN] [--Nconvergence NCONVERGENCE]\n",
      "                             [--numsamples NUMSAMPLES]\n",
      "                             [--testing_sample TESTING_SAMPLE]\n",
      "                             [--lrthreshold_convergence LRTHRESHOLD_CONVERGENCE]\n",
      "                             [--lrdecaytime_convergence LRDECAYTIME_CONVERGENCE]\n",
      "                             [--seed SEED]\n",
      "ipykernel_launcher.py: error: unrecognized arguments: -f C:\\Users\\Administrator\\AppData\\Roaming\\jupyter\\runtime\\kernel-3203b46d-dde1-41e4-b6e1-1fce7583c0f3.json\n"
     ]
    },
    {
     "ename": "SystemExit",
     "evalue": "2",
     "output_type": "error",
     "traceback": [
      "An exception has occurred, use %tb to see the full traceback.\n",
      "\u001b[1;31mSystemExit\u001b[0m\u001b[1;31m:\u001b[0m 2\n"
     ]
    }
   ],
   "source": [
    "import argparse\n",
    "import itertools\n",
    "import numpy as np\n",
    "import optax\n",
    "import jax\n",
    "from jax import numpy as jnp\n",
    "\n",
    "def clip_grad(g, clip_norm=1.0):\n",
    "    norm = jnp.linalg.norm(g)\n",
    "    scale = jnp.minimum(1.0, clip_norm / (norm + 1e-6))\n",
    "    return g * scale\n",
    "\n",
    "def compute_cost(log_amps_tensor, Eloc, Temperature):\n",
    "    # First term\n",
    "    term1 = 2 * jnp.real(jnp.mean(log_amps_tensor.conjugate() * jax.lax.stop_gradient(Eloc))\n",
    "                         - jnp.mean(log_amps_tensor.conjugate()) * jnp.mean(jax.lax.stop_gradient(Eloc)))\n",
    "    \n",
    "    # Second term\n",
    "    term2 = 4 * Temperature * (jnp.mean(jnp.real(log_amps_tensor) * jax.lax.stop_gradient(Eloc.real))\n",
    "                                           - jnp.mean(jnp.real(log_amps_tensor)) * jnp.mean(jax.lax.stop_gradient(Eloc.real)))\n",
    "\n",
    "    cost = term1 + term2\n",
    "    return cost\n",
    "\n",
    "def schedule(step: float, min_lr: float, max_lr: float, period: float) -> float:\n",
    "    \"\"\"Compute a learning rate that oscillates sinusoidally between min_lr and max_lr.\"\"\"\n",
    "    oscillation = (jnp.sin(jnp.pi * step / period) + 1) / 2  # Will be between 0 and 1\n",
    "    return min_lr + (max_lr - min_lr) * oscillation\n",
    "\n",
    "parser = argparse.ArgumentParser()\n",
    "parser.add_argument('--L', type = int, default=10)\n",
    "parser.add_argument('--numunits', type = int, default=100)\n",
    "parser.add_argument('--lr', type = float, default=5e-4)\n",
    "parser.add_argument('--J1', type = float, default=1.0) \n",
    "parser.add_argument('--J2', type = float, default=0.2)\n",
    "parser.add_argument('--J3', type = float, default=0.0)\n",
    "parser.add_argument('--lrthreshold', type = float, default=5e-4)\n",
    "parser.add_argument('--lrdecaytime', type = float, default=5000)\n",
    "parser.add_argument('--mag_fixed', type = bool, default=True)\n",
    "parser.add_argument('--Sz', type = int, default=0)\n",
    "parser.add_argument('--spinparity_fixed', type = bool, default=False)\n",
    "parser.add_argument('--spinparity_value', type = int, default=1)\n",
    "parser.add_argument('--gradient_clip', type = bool, default=True)\n",
    "parser.add_argument('--gradient_clipvalue', type = float, default=10.0)\n",
    "parser.add_argument('--normalized_gradients', type = bool, default=False)\n",
    "parser.add_argument('--dotraining', type = bool, default=True)\n",
    "parser.add_argument('--T0', type = float, default= 0.5)\n",
    "parser.add_argument('--Nwarmup', type = int, default=1000)\n",
    "parser.add_argument('--Nannealing', type = int, default=15) #10000\n",
    "parser.add_argument('--Ntrain', type = int, default=1000)\n",
    "parser.add_argument('--Nconvergence', type = int, default=20000)\n",
    "parser.add_argument('--numsamples', type = int, default=100)\n",
    "parser.add_argument('--testing_sample', type = int, default=5e+4)\n",
    "parser.add_argument('--lrthreshold_convergence', type = float, default=1e-4)\n",
    "parser.add_argument('--lrdecaytime_convergence', type = float, default=2500)\n",
    "parser.add_argument('--seed', type = int, default=1)\n",
    "\n",
    "args = parser.parse_args()\n",
    "\n",
    "num_units = args.numunits\n",
    "numsamples = args.numsamples\n",
    "lr=args.lr\n",
    "lrdecaytime = args.lrdecaytime\n",
    "lrdecaytime_conv = args.lrdecaytime_conv\n",
    "lrthreshold = args.lrthreshold\n",
    "lrthreshold_conv = args.lrthreshold_conv\n",
    "T0 = args.T0\n",
    "mag_fixed = args.mag_fixed\n",
    "magnetization = 2*args.Sz\n",
    "spinparity_fixed = args.spinparity_fixed\n",
    "spinparity_value = args.spinparity_value\n",
    "RNN_symmetry = args.RNN_symmetry\n",
    "J1 = args.J1\n",
    "J2 = args.J2\n",
    "J3 = args.J3\n",
    "gradient_clip = args.gradient_clip\n",
    "gradient_clipvalue = args.gradient_clipvalue\n",
    "normalized_gradients = args.normalized_gradients\n",
    "dotraining = args.dotraining\n",
    "Nwarmup = args.Nwarmup\n",
    "Nannealing = args.Nannealing\n",
    "Ntrain = args.Ntrain\n",
    "Nconvergence = args.Nconvergence\n",
    "numsteps = Nwarmup + (Nannealing+1)*Ntrain + Nconvergence\n",
    "testing_sample = args.testing_sample\n",
    "L = args.L\n",
    "Nx = L\n",
    "Ny = L\n",
    "\n",
    "meanEnergy=[]\n",
    "varEnergy=[]\n",
    "\n",
    "adam = optax.adam(lr)\n",
    "initial_learning_rate = 1e-2\n",
    "power = 1.0\n",
    "step = 1000\n",
    "\n",
    "optimizer = optax.chain(\n",
    "    optax.scale_by_schedule(lambda step: schedule(step, 1e-4, 1e-2, 500)),\n",
    "    optax.adam(learning_rate=1.0)  # Here, `learning_rate=1.0` acts as a multiplicative identity for the actual schedule.\n",
    ")\n",
    "\n",
    "N = Nx*Ny\n",
    "wf=RNNwavefunction(Nx, Ny, units=10, mag_fixed = False, magnetization = 0)\n",
    "\n",
    "samples = jnp.ones((numsamples, Nx, Ny), dtype=jnp.int32)\n",
    "adam_optimizer = optax.adam(lr)\n",
    "opt_state = adam_optimizer.init(params)\n",
    "\n",
    "if (J3 != 0):\n",
    "    factor = 12\n",
    "if (J3 == 0):\n",
    "    factor = 8\n",
    "if (J2 == 0):\n",
    "    factor = 4\n",
    "    \n",
    "sigmas=jnp.zeros(((factor*N+1)*numsamples,Nx, Ny), dtype=jnp.int32)\n",
    "H = jnp.zeros((factor*N+1)*numsamples, dtype=jnp.float32)\n",
    "log_amplitudes = jnp.zeros((factor*N+1)*numsamples, dtype=jnp.complex64)\n",
    "\n",
    "for it in range(starting_step, numsteps):\n",
    "\n",
    "    start = time.time()\n",
    "    '''\n",
    "    if it+1<=Nwarmup+Nannealing*Ntrain: #Before the end of annealing\n",
    "        lr_adap = max(lrthreshold, lr/(1+it/lrdecaytime))\n",
    "    elif it+1>Nwarmup+Nannealing*Ntrain: #After annealing -> finetuning the model during convergence\n",
    "        lr_adap = lrthreshold_conv/(1+(it-(Nwarmup+Nannealing*Ntrain))/lrdecaytime_conv)\n",
    "    ''' \n",
    "    \n",
    "    samples = wf.sample(numsamples)\n",
    "    log_amplitudes_ = wf.log_amp(samples)\n",
    "    \n",
    "    \n",
    "    Eloc = Get_Elocs(samples,J1,J2,J3, Nx, Ny, wf)\n",
    "    meanE = jnp.mean(Eloc)\n",
    "    varE = jnp.var(Eloc)\n",
    "\n",
    "    meanEnergy.append(meanE)\n",
    "    varEnergy.append(varE)\n",
    "    \n",
    "    loss = compute_cost(log_amplitudes_, Eloc, T)\n",
    "    \n",
    "    if (T0!=0):\n",
    "        if it+1<=Nwarmup:\n",
    "            if (it+1)%50==0:\n",
    "                print(\"Pre-annealing, warmup phase:\", (it+1), \"/\", Nwarmup)\n",
    "            T = T0\n",
    "        elif it+1 > Nwarmup and it+1<=Nwarmup+Nannealing*Ntrain:\n",
    "            if (it+1)%50==0:\n",
    "                print(\"Pre-annealing, annealing phase:\", (it+1-Nwarmup)//Ntrain, \"/\", Nannealing)\n",
    "            T = T0*(1-((it+1-Nwarmup)//Ntrain)/Nannealing)\n",
    "        else:\n",
    "            T = 0.0\n",
    "\n",
    "        if (it+1)%5 == 0:\n",
    "            print(\"Temperature = \", T)\n",
    "        meanF = jnp.mean(local_energies + 2*T*jnp.real(log_amplitudes_))\n",
    "        varF = jnp.var(local_energies + 2*T*jnp.real(log_amplitudes_))\n",
    "    if (it+1)%100==0 or it==0:\n",
    "        print(\"learning_rate =\", lr)\n",
    "        print(\"Magnetization =\", jnp.mean(jnp.sum(2*samples-1, axis = (1,2))))\n",
    "        if T0 != 0:\n",
    "            print('mean(E): {0}, varE: {1}, meanF: {2}, varF: {3}, #samples {4}, #Step {5} \\n\\n'.format(meanE,varE,meanF, varF, numsamples, it+1))\n",
    "        elif T0 == 0.0:\n",
    "            print('mean(E): {0}, varE: {1}, #samples {2}, #Step {3} \\n\\n'.format(meanE,varE,numsamples, it+1))\n",
    "\n",
    "    # Assuming params are your model's parameters:\n",
    "    optimizer_state = optimizer.init(params)\n",
    "\n",
    "    # Calculate gradients, for example, using `jax.grad`\n",
    "    grads = jax.grad(loss)(params)\n",
    "    \n",
    "    if gradient_clip == True:\n",
    "        grads = jax.tree_map(clip_grad, grads)\n",
    "    # Update the optimizer state and the parameters\n",
    "    updates, optimizer_state = optimizer.update(grads, optimizer_state)\n",
    "    params = optax.apply_updates(wf.params, updates)\n",
    "    \n",
    "    if (it%500 == 0):\n",
    "        np.save(\"params/params_L\"+str(L)+\".npy\", params)"
   ]
  },
  {
   "cell_type": "code",
   "execution_count": 11,
   "id": "479b9c3e",
   "metadata": {},
   "outputs": [
    {
     "data": {
      "text/plain": [
       "'                                    \\ndef Get_Elocs(J,J2, Nx, Ny, samples, sigmas, H, log_amplitudes, sigmaH, matrixelements, inputs, log_amps):\\n\\n    local_energies =jnp.zeros(samples.shape[0], dtype =jnp.complex64) #The type complex should be specified, otherwise the imaginary part will be discarded\\n\\n    slices, len_sigmas = J1J2J3_LocalEnergies(J1,J2,Nx,Ny,samples,sigmas, H, sigmaH, matrixelements)\\n\\n    steps = ceil(len_sigmas/20000)\\n\\n    for i in range(steps):\\n        if i < steps-1:\\n            cut = slice((i*len_sigmas)//steps,((i+1)*len_sigmas)//steps)\\n        else:\\n            cut = slice((i*len_sigmas)//steps,len_sigmas)\\n\\n        log_amplitudes[cut] = log_amps   #need to fix\\n        print(\"Step:\", i+1, \"/\", steps)\\n\\n    for n in range(len(slices)):\\n        s=slices[n]\\n        local_energies[n] = H[s].dot(jnp.exp(log_amplitudes[s]-log_amplitudes[s][0]))\\n\\n    return local_energies\\n'"
      ]
     },
     "execution_count": 11,
     "metadata": {},
     "output_type": "execute_result"
    }
   ],
   "source": [
    "import jax.numpy as jjnp\n",
    "import numpy as jnp\n",
    "import time\n",
    "from math import ceil\n",
    "\n",
    "\n",
    "def J1J2J3_MatrixElements(sigmap,J1,J2,J3,Nx,Ny):    #sigmap is the input basis\n",
    "\n",
    "    #the diagonal part is simply the sum of all Sz-Sz interactions\n",
    "\n",
    "    diag = (jnp.sum((sigmap[:-1]*sigmap[1:]-0.5)*2)+jnp.sum((sigmap[:,:-1]*sigmap[:,1:]-0.5)*2))*0.25 #J1 interactions\n",
    "    diag += (jnp.sum((sigmap[:-1,:-1]*sigmap[1:,1:]-0.5)*2)+jnp.sum((sigmap[1:,:-1]*sigmap[:-1,1:]-0.5)*2))*0.25 #J2 interactions\n",
    "    diag += (jnp.sum((sigmap[:-2]*sigmap[2:]-0.5)*2)+jnp.sum((sigmap[:,:-2]*sigmap[:,2:]-0.5)*2))*0.25 #J3 interactions\n",
    "    matrixelements = jnp.array([diag])   \n",
    "    sigmas = jnp.expand_dims(sigmap, axis=0)\n",
    "\n",
    "\n",
    "    #off-diagonal part\n",
    "    #J1 ↓\n",
    "    mask = (sigmap[:-1, :] != sigmap[1:, :])           \n",
    "    ind1 = jnp.array(jnp.nonzero(mask))\n",
    "    ind2 = ind1+jnp.array([[1],[0]]) \n",
    "\n",
    "    sig = jnp.repeat(jnp.expand_dims(sigmap, axis=0), mask.sum(), axis=0)\n",
    "    sig.at[jnp.arange(mask.sum()), ind1[0] , ind1[1]], sig[jnp.arange(mask.sum()), ind2[0] , ind2[1]]\\\n",
    "    .set(sig[jnp.arange(mask.sum()), ind2[0] , ind2[1]], sig[jnp.arange(mask.sum()), ind1[0] , ind1[1]])\n",
    "    matrixelements = jnp.vstack((matrixelements, jnp.repeat(-0.5*J1, mask.sum())))\n",
    "    sigmas = jnp.vstack((sigmas, sig))\n",
    "    \n",
    "    #J1 →\n",
    "    mask = (sigmap[:, :-1] != sigmap[:, 1:])           \n",
    "    ind1 = jnp.array(jnp.nonzero(mask))\n",
    "    ind2 = ind1+jnp.array([[0],[1]]) \n",
    "\n",
    "    sig = jnp.repeat(jnp.expand_dims(sigmap, axis=0), mask.sum(), axis=0)\n",
    "    sig.at[jnp.arange(mask.sum()), ind1[0] , ind1[1]], sig[jnp.arange(mask.sum()), ind2[0] , ind2[1]]\\\n",
    "    .set(sig[jnp.arange(mask.sum()), ind2[0] , ind2[1]], sig[jnp.arange(mask.sum()), ind1[0] , ind1[1]])\n",
    "    \n",
    "    matrixelements = jnp.vstack((matrixelements, jnp.repeat(-0.5*J1, mask.sum())))\n",
    "    sigmas = jnp.vstack((sigmas, sig))\n",
    "                               \n",
    "    if (J2!=0):                           \n",
    "        #J2 →↓\n",
    "        mask = (sigmap[:-1, :-1] != sigmap[1:, 1:])           \n",
    "        ind1 = jnp.array(jnp.nonzero(mask))\n",
    "        ind2 = ind1+jnp.array([[1],[1]]) \n",
    "\n",
    "        sig = jnp.repeat(jnp.expand_dims(sigmap, axis=0), mask.sum(), axis=0)\n",
    "        sig.at[jnp.arange(mask.sum()), ind1[0] , ind1[1]], sig[jnp.arange(mask.sum()), ind2[0] , ind2[1]]\\\n",
    "        .set(sig[jnp.arange(mask.sum()), ind2[0] , ind2[1]], sig[jnp.arange(mask.sum()), ind1[0] , ind1[1]])\n",
    "        matrixelements = jnp.vstack((matrixelements, jnp.repeat(-0.5*J2, mask.sum())))\n",
    "        sigmas = jnp.vstack((sigmas, sig))   \n",
    "\n",
    "        #J2 ←↓\n",
    "        mask = (sigmap[1:, :-1] != sigmap[:-1, 1:])           \n",
    "        ind1 = jnp.array(jnp.nonzero(mask))\n",
    "        ind2 = ind1+jnp.array([[-1],[1]]) \n",
    "\n",
    "        sig = jnp.repeat(jnp.expand_dims(sigmap, axis=0), mask.sum(), axis=0)\n",
    "        sig.at[jnp.arange(mask.sum()), ind1[0] , ind1[1]], sig[jnp.arange(mask.sum()), ind2[0] , ind2[1]]\\\n",
    "        .set(sig[jnp.arange(mask.sum()), ind2[0] , ind2[1]], sig[jnp.arange(mask.sum()), ind1[0] , ind1[1]])\n",
    "\n",
    "        matrixelements = jnp.vstack((matrixelements, jnp.repeat(-0.5*J2, mask.sum())))\n",
    "        sigmas = jnp.vstack((sigmas, sig))    \n",
    "    \n",
    "    \n",
    "    if (J3!=0):\n",
    "    #J3 ↓↓\n",
    "        mask = (sigmap[:2, :] != sigmap[2:, :])           \n",
    "        ind1 = jnp.array(jnp.nonzero(mask))\n",
    "        ind2 = ind1+jnp.array([[2],[0]]) \n",
    "\n",
    "        sig = jnp.repeat(jnp.expand_dims(sigmap, axis=0), mask.sum(), axis=0)\n",
    "        sig.at[jnp.arange(mask.sum()), ind1[0] , ind1[1]], sig[jnp.arange(mask.sum()), ind2[0] , ind2[1]]\\\n",
    "        .set(sig[jnp.arange(mask.sum()), ind2[0] , ind2[1]], sig[jnp.arange(mask.sum()), ind1[0] , ind1[1]])\n",
    "        matrixelements = jnp.vstack((matrixelements, jnp.repeat(-0.5*J3, mask.sum())))\n",
    "        sigmas = jnp.vstack((sigmas, sig))\n",
    "\n",
    "    #J3 →→\n",
    "        mask = (sigmap[:, :-2] != sigmap[:, 2:])           \n",
    "        ind1 = jnp.array(jnp.nonzero(mask))\n",
    "        ind2 = ind1+jnp.array([[0],[1]]) \n",
    "\n",
    "        sig = jnp.repeat(jnp.expand_dims(sigmap, axis=0), mask.sum(), axis=0)\n",
    "        sig.at[jnp.arange(mask.sum()), ind1[0] , ind1[1]], sig[jnp.arange(mask.sum()), ind2[0] , ind2[1]]\\\n",
    "        .set(sig[jnp.arange(mask.sum()), ind2[0] , ind2[1]], sig[jnp.arange(mask.sum()), ind1[0] , ind1[1]])\n",
    "        matrixelements = jnp.vstack((matrixelements, jnp.repeat(-0.5*J3, mask.sum())))\n",
    "        sigmas = jnp.vstack((sigmas, sig))   \n",
    "\n",
    "    return matrixelements, sigmas\n",
    "'''\n",
    "def J1J2J3_LocalEnergies(J1,J2,J3,Nx,Ny,sigmasp,sigmas,H,sigmaH,matrixelements):\n",
    "\n",
    "    slices=[]\n",
    "    sigmas_length = 0\n",
    "    numsamples =sigmasp.shape[0]\n",
    "\n",
    "    for n in range(numsamples):\n",
    "        sigmap=sigmasp[n,:]\n",
    "        num = J1J2J3_MatrixElements(J1,J2,J3,Nx,Ny,sigmap, sigmaH, matrixelements)\n",
    "        slices.append(slice(sigmas_length,sigmas_length + num))\n",
    "        s = slices[n]\n",
    "\n",
    "        if (len(H[s])!=num):\n",
    "            print(\"error\")\n",
    "            print(H[s].shape,s, matrixelements[:num].shape)\n",
    "\n",
    "        H[s] = matrixelements[:num]\n",
    "        sigmas[s] = sigmaH[:num]\n",
    "\n",
    "        sigmas_length += num #Increasing the length of matrix elements sigmas\n",
    "\n",
    "\n",
    "    return slices,sigmas_length\n",
    "########################################################################################\n",
    "'''\n",
    "\n",
    "def Get_Samples_and_Elocs(J1,J2,J3, Nx, Ny, samples, sigmas, rnn):\n",
    "\n",
    "    local_energies = jnp.zeros(samples.shape[0], dtype =jnp.complex64) \n",
    "            \n",
    "    batch_matrixelement = vmap(J1J2J3_MatrixElements, (0,))\n",
    "    matrixelements, sigmas = batch_matrixelement(samples, J1, J2, J3, Nx, Ny)\n",
    "                                    \n",
    "    log_prob = rnn.log_amp(sigmas)\n",
    "    local_E = jnp.sum(matrixelements*jnp.exp(log_prob)/jnp.exp(log_prob[:,0]), axis=1)\n",
    "                                    \n",
    "    '''                                    \n",
    "    steps = ceil(len_sigmas/20000)\n",
    "\n",
    "    for i in range(steps):\n",
    "        if i < steps-1:\n",
    "            cut = slice((i*len_sigmas)//steps,((i+1)*len_sigmas)//steps)\n",
    "        else:\n",
    "            cut = slice((i*len_sigmas)//steps,len_sigmas)\n",
    "\n",
    "        log_amplitudes[cut] = log_amps  # need to fix\n",
    "\n",
    "    for n in range(len(slices)):\n",
    "        s=slices[n]\n",
    "        local_energies[n] = H[s].dot(jnp.exp(log_amplitudes[s]-log_amplitudes[s][0]))\n",
    "    '''\n",
    "                                    \n",
    "    return samples, local_E\n",
    "                                    \n",
    "def Get_Elocs(J1,J2,J3, Nx, Ny, samples, sigmas, rnn):\n",
    "\n",
    "    local_energies = jnp.zeros(samples.shape[0], dtype =jnp.complex64) \n",
    "            \n",
    "    batch_matrixelement = vmap(J1J2J3_MatrixElements, (0,))\n",
    "    matrixelements, sigmas = batch_matrixelement(samples, J1, J2, J3, Nx, Ny)\n",
    "                                    \n",
    "    log_prob = rnn.log_amp(sigmas)\n",
    "    local_E = jnp.sum(matrixelements*jnp.exp(log_prob)/jnp.exp(log_prob[:,0]), axis=1)\n",
    "    \n",
    "    return local_E\n",
    "'''                                    \n",
    "def Get_Elocs(J,J2, Nx, Ny, samples, sigmas, H, log_amplitudes, sigmaH, matrixelements, inputs, log_amps):\n",
    "\n",
    "    local_energies =jnp.zeros(samples.shape[0], dtype =jnp.complex64) #The type complex should be specified, otherwise the imaginary part will be discarded\n",
    "\n",
    "    slices, len_sigmas = J1J2J3_LocalEnergies(J1,J2,Nx,Ny,samples,sigmas, H, sigmaH, matrixelements)\n",
    "\n",
    "    steps = ceil(len_sigmas/20000)\n",
    "\n",
    "    for i in range(steps):\n",
    "        if i < steps-1:\n",
    "            cut = slice((i*len_sigmas)//steps,((i+1)*len_sigmas)//steps)\n",
    "        else:\n",
    "            cut = slice((i*len_sigmas)//steps,len_sigmas)\n",
    "\n",
    "        log_amplitudes[cut] = log_amps   #need to fix\n",
    "        print(\"Step:\", i+1, \"/\", steps)\n",
    "\n",
    "    for n in range(len(slices)):\n",
    "        s=slices[n]\n",
    "        local_energies[n] = H[s].dot(jnp.exp(log_amplitudes[s]-log_amplitudes[s][0]))\n",
    "\n",
    "    return local_energies\n",
    "'''"
   ]
  },
  {
   "cell_type": "code",
   "execution_count": 27,
   "id": "62c6087c",
   "metadata": {},
   "outputs": [],
   "source": [
    "from jax.example_libraries import optimizers\n",
    "# 1. Initialize the Adam optimizer\n",
    "step_size = 1e-3  # This is the learning rate\n",
    "opt_init, opt_update, get_params = optimizers.adam(step_size)\n",
    "opt_state = opt_init(params)\n",
    "\n",
    "def one_hot(x, k, dtype=jnp.float32):\n",
    "    \"\"\"Create a one-hot encoding of x of size k.\"\"\"\n",
    "    return jnp.array(x[:, None] == jnp.arange(k), dtype)\n",
    "  \n",
    "def accuracy(params, images, targets):\n",
    "    target_class = jnp.argmax(targets, axis=1)\n",
    "    predicted_class = jnp.argmax(batched_predict(params, images), axis=1)\n",
    "    return jnp.mean(predicted_class == target_class)\n",
    "\n",
    "def loss(params, images, targets):\n",
    "\n",
    "    preds = batched_predict(params, images)\n",
    "    return -jnp.mean(preds * targets)\n",
    "\n",
    "@jit\n",
    "def update(i, opt_state, x, y):   \n",
    "    params = get_params(opt_state)\n",
    "    grads = grad(loss)(params, x, y)\n",
    "    return opt_update(i, grads, opt_state)\n"
   ]
  },
  {
   "cell_type": "code",
   "execution_count": 1,
   "id": "619bfcc6",
   "metadata": {},
   "outputs": [
    {
     "name": "stderr",
     "output_type": "stream",
     "text": [
      "No GPU/TPU found, falling back to CPU. (Set TF_CPP_MIN_LOG_LEVEL=0 and rerun for more info.)\n"
     ]
    },
    {
     "data": {
      "text/plain": [
       "Array([2., 2., 2., 2., 2.], dtype=float32)"
      ]
     },
     "execution_count": 1,
     "metadata": {},
     "output_type": "execute_result"
    }
   ],
   "source": [
    "import jax.numpy as jnp\n",
    "3-jnp.ones(5)"
   ]
  },
  {
   "cell_type": "code",
   "execution_count": 39,
   "id": "b5e644a1",
   "metadata": {},
   "outputs": [
    {
     "ename": "TypeError",
     "evalue": "Indexer must have integer or boolean type, got indexer with type float64 at position 0, indexer value [[-0.87181784 -0.13588471 -1.76559334]\n [ 0.22557418 -1.32635791 -0.64412577]\n [ 0.95800807 -0.03642215 -1.8372651 ]]",
     "output_type": "error",
     "traceback": [
      "\u001b[1;31m---------------------------------------------------------------------------\u001b[0m",
      "\u001b[1;31mTypeError\u001b[0m                                 Traceback (most recent call last)",
      "Cell \u001b[1;32mIn[39], line 4\u001b[0m\n\u001b[0;32m      2\u001b[0m \u001b[38;5;250m    \u001b[39m\u001b[38;5;124;03m\"\"\"Converts batched integer labels to one-hot encoded arrays.\"\"\"\u001b[39;00m\n\u001b[0;32m      3\u001b[0m     \u001b[38;5;28;01mreturn\u001b[39;00m jnp\u001b[38;5;241m.\u001b[39meye(num_classes)[x]\n\u001b[1;32m----> 4\u001b[0m \u001b[43mone_hot_encoding\u001b[49m\u001b[43m(\u001b[49m\u001b[43mjax\u001b[49m\u001b[38;5;241;43m.\u001b[39;49m\u001b[43mrandom\u001b[49m\u001b[38;5;241;43m.\u001b[39;49m\u001b[43mnormal\u001b[49m\u001b[43m(\u001b[49m\u001b[43mPRNGKey\u001b[49m\u001b[43m(\u001b[49m\u001b[38;5;241;43m0\u001b[39;49m\u001b[43m)\u001b[49m\u001b[43m,\u001b[49m\u001b[43m(\u001b[49m\u001b[38;5;241;43m3\u001b[39;49m\u001b[43m,\u001b[49m\u001b[38;5;241;43m3\u001b[39;49m\u001b[43m)\u001b[49m\u001b[43m)\u001b[49m\u001b[43m)\u001b[49m\n",
      "Cell \u001b[1;32mIn[39], line 3\u001b[0m, in \u001b[0;36mone_hot_encoding\u001b[1;34m(x, num_classes)\u001b[0m\n\u001b[0;32m      1\u001b[0m \u001b[38;5;28;01mdef\u001b[39;00m \u001b[38;5;21mone_hot_encoding\u001b[39m(x, num_classes \u001b[38;5;241m=\u001b[39m \u001b[38;5;241m2\u001b[39m):\n\u001b[0;32m      2\u001b[0m \u001b[38;5;250m    \u001b[39m\u001b[38;5;124;03m\"\"\"Converts batched integer labels to one-hot encoded arrays.\"\"\"\u001b[39;00m\n\u001b[1;32m----> 3\u001b[0m     \u001b[38;5;28;01mreturn\u001b[39;00m \u001b[43mjnp\u001b[49m\u001b[38;5;241;43m.\u001b[39;49m\u001b[43meye\u001b[49m\u001b[43m(\u001b[49m\u001b[43mnum_classes\u001b[49m\u001b[43m)\u001b[49m\u001b[43m[\u001b[49m\u001b[43mx\u001b[49m\u001b[43m]\u001b[49m\n",
      "File \u001b[1;32m~\\anaconda3\\lib\\site-packages\\jax\\_src\\array.py:319\u001b[0m, in \u001b[0;36mArrayImpl.__getitem__\u001b[1;34m(self, idx)\u001b[0m\n\u001b[0;32m    317\u001b[0m   \u001b[38;5;28;01mreturn\u001b[39;00m lax_numpy\u001b[38;5;241m.\u001b[39m_rewriting_take(\u001b[38;5;28mself\u001b[39m, idx)\n\u001b[0;32m    318\u001b[0m \u001b[38;5;28;01melse\u001b[39;00m:\n\u001b[1;32m--> 319\u001b[0m   \u001b[38;5;28;01mreturn\u001b[39;00m \u001b[43mlax_numpy\u001b[49m\u001b[38;5;241;43m.\u001b[39;49m\u001b[43m_rewriting_take\u001b[49m\u001b[43m(\u001b[49m\u001b[38;5;28;43mself\u001b[39;49m\u001b[43m,\u001b[49m\u001b[43m \u001b[49m\u001b[43midx\u001b[49m\u001b[43m)\u001b[49m\n",
      "File \u001b[1;32m~\\anaconda3\\lib\\site-packages\\jax\\_src\\numpy\\lax_numpy.py:4291\u001b[0m, in \u001b[0;36m_rewriting_take\u001b[1;34m(arr, idx, indices_are_sorted, unique_indices, mode, fill_value)\u001b[0m\n\u001b[0;32m   4288\u001b[0m       \u001b[38;5;28;01mreturn\u001b[39;00m lax\u001b[38;5;241m.\u001b[39mdynamic_index_in_dim(arr, idx, keepdims\u001b[38;5;241m=\u001b[39m\u001b[38;5;28;01mFalse\u001b[39;00m)\n\u001b[0;32m   4290\u001b[0m treedef, static_idx, dynamic_idx \u001b[38;5;241m=\u001b[39m _split_index_for_jit(idx, arr\u001b[38;5;241m.\u001b[39mshape)\n\u001b[1;32m-> 4291\u001b[0m \u001b[38;5;28;01mreturn\u001b[39;00m \u001b[43m_gather\u001b[49m\u001b[43m(\u001b[49m\u001b[43marr\u001b[49m\u001b[43m,\u001b[49m\u001b[43m \u001b[49m\u001b[43mtreedef\u001b[49m\u001b[43m,\u001b[49m\u001b[43m \u001b[49m\u001b[43mstatic_idx\u001b[49m\u001b[43m,\u001b[49m\u001b[43m \u001b[49m\u001b[43mdynamic_idx\u001b[49m\u001b[43m,\u001b[49m\u001b[43m \u001b[49m\u001b[43mindices_are_sorted\u001b[49m\u001b[43m,\u001b[49m\n\u001b[0;32m   4292\u001b[0m \u001b[43m               \u001b[49m\u001b[43munique_indices\u001b[49m\u001b[43m,\u001b[49m\u001b[43m \u001b[49m\u001b[43mmode\u001b[49m\u001b[43m,\u001b[49m\u001b[43m \u001b[49m\u001b[43mfill_value\u001b[49m\u001b[43m)\u001b[49m\n",
      "File \u001b[1;32m~\\anaconda3\\lib\\site-packages\\jax\\_src\\numpy\\lax_numpy.py:4300\u001b[0m, in \u001b[0;36m_gather\u001b[1;34m(arr, treedef, static_idx, dynamic_idx, indices_are_sorted, unique_indices, mode, fill_value)\u001b[0m\n\u001b[0;32m   4297\u001b[0m \u001b[38;5;28;01mdef\u001b[39;00m \u001b[38;5;21m_gather\u001b[39m(arr, treedef, static_idx, dynamic_idx, indices_are_sorted,\n\u001b[0;32m   4298\u001b[0m             unique_indices, mode, fill_value):\n\u001b[0;32m   4299\u001b[0m   idx \u001b[38;5;241m=\u001b[39m _merge_static_and_dynamic_indices(treedef, static_idx, dynamic_idx)\n\u001b[1;32m-> 4300\u001b[0m   indexer \u001b[38;5;241m=\u001b[39m \u001b[43m_index_to_gather\u001b[49m\u001b[43m(\u001b[49m\u001b[43mshape\u001b[49m\u001b[43m(\u001b[49m\u001b[43marr\u001b[49m\u001b[43m)\u001b[49m\u001b[43m,\u001b[49m\u001b[43m \u001b[49m\u001b[43midx\u001b[49m\u001b[43m)\u001b[49m  \u001b[38;5;66;03m# shared with _scatter_update\u001b[39;00m\n\u001b[0;32m   4301\u001b[0m   y \u001b[38;5;241m=\u001b[39m arr\n\u001b[0;32m   4303\u001b[0m   \u001b[38;5;28;01mif\u001b[39;00m fill_value \u001b[38;5;129;01mis\u001b[39;00m \u001b[38;5;129;01mnot\u001b[39;00m \u001b[38;5;28;01mNone\u001b[39;00m:\n",
      "File \u001b[1;32m~\\anaconda3\\lib\\site-packages\\jax\\_src\\numpy\\lax_numpy.py:4588\u001b[0m, in \u001b[0;36m_index_to_gather\u001b[1;34m(x_shape, idx, normalize_indices)\u001b[0m\n\u001b[0;32m   4584\u001b[0m \u001b[38;5;28;01mif\u001b[39;00m (abstract_i \u001b[38;5;129;01mis\u001b[39;00m \u001b[38;5;129;01mnot\u001b[39;00m \u001b[38;5;28;01mNone\u001b[39;00m \u001b[38;5;129;01mand\u001b[39;00m\n\u001b[0;32m   4585\u001b[0m     \u001b[38;5;129;01mnot\u001b[39;00m (issubdtype(abstract_i\u001b[38;5;241m.\u001b[39mdtype, integer) \u001b[38;5;129;01mor\u001b[39;00m issubdtype(abstract_i\u001b[38;5;241m.\u001b[39mdtype, bool_))):\n\u001b[0;32m   4586\u001b[0m   msg \u001b[38;5;241m=\u001b[39m (\u001b[38;5;124m\"\u001b[39m\u001b[38;5;124mIndexer must have integer or boolean type, got indexer \u001b[39m\u001b[38;5;124m\"\u001b[39m\n\u001b[0;32m   4587\u001b[0m          \u001b[38;5;124m\"\u001b[39m\u001b[38;5;124mwith type \u001b[39m\u001b[38;5;132;01m{}\u001b[39;00m\u001b[38;5;124m at position \u001b[39m\u001b[38;5;132;01m{}\u001b[39;00m\u001b[38;5;124m, indexer value \u001b[39m\u001b[38;5;132;01m{}\u001b[39;00m\u001b[38;5;124m\"\u001b[39m)\n\u001b[1;32m-> 4588\u001b[0m   \u001b[38;5;28;01mraise\u001b[39;00m \u001b[38;5;167;01mTypeError\u001b[39;00m(msg\u001b[38;5;241m.\u001b[39mformat(abstract_i\u001b[38;5;241m.\u001b[39mdtype\u001b[38;5;241m.\u001b[39mname, idx_pos, i))\n\u001b[0;32m   4590\u001b[0m msg \u001b[38;5;241m=\u001b[39m \u001b[38;5;124m\"\u001b[39m\u001b[38;5;124mIndexing mode not yet supported. Open a feature request!\u001b[39m\u001b[38;5;130;01m\\n\u001b[39;00m\u001b[38;5;132;01m{}\u001b[39;00m\u001b[38;5;124m\"\u001b[39m\n\u001b[0;32m   4591\u001b[0m \u001b[38;5;28;01mraise\u001b[39;00m \u001b[38;5;167;01mIndexError\u001b[39;00m(msg\u001b[38;5;241m.\u001b[39mformat(idx))\n",
      "\u001b[1;31mTypeError\u001b[0m: Indexer must have integer or boolean type, got indexer with type float64 at position 0, indexer value [[-0.87181784 -0.13588471 -1.76559334]\n [ 0.22557418 -1.32635791 -0.64412577]\n [ 0.95800807 -0.03642215 -1.8372651 ]]"
     ]
    }
   ],
   "source": [
    "def one_hot_encoding(x, num_classes = 2):\n",
    "    \"\"\"Converts batched integer labels to one-hot encoded arrays.\"\"\"\n",
    "    return jnp.eye(num_classes)[x]\n",
    "one_hot_encoding(jax.random.normal(PRNGKey(0),(3,3)))"
   ]
  },
  {
   "cell_type": "code",
   "execution_count": 29,
   "id": "f44a8081",
   "metadata": {},
   "outputs": [
    {
     "name": "stdout",
     "output_type": "stream",
     "text": [
      "[2 3 2 3 3 3 3 3 1 2]\n"
     ]
    }
   ],
   "source": [
    "import jax.numpy as jnp\n",
    "from jax.random import categorical, PRNGKey\n",
    "\n",
    "def sample_discrete(key, probabilities, size=None):\n",
    "    \"\"\"Sample from a discrete distribution defined by probabilities.\"\"\"\n",
    "    logits = jnp.log(probabilities)\n",
    "    return categorical(key, logits, shape=size)\n",
    "\n",
    "# Example\n",
    "key = PRNGKey(0)\n",
    "probabilities = jnp.array([0.1, 0.2, 0.3, 0.4])\n",
    "samples = sample_discrete(key, probabilities, size=(10,))\n",
    "\n",
    "print(samples)"
   ]
  },
  {
   "cell_type": "code",
   "execution_count": 44,
   "id": "9d4a41d7",
   "metadata": {},
   "outputs": [
    {
     "ename": "ValueError",
     "evalue": "Incompatible shapes for broadcasting: shapes=[(2, 10), (2,)]",
     "output_type": "error",
     "traceback": [
      "\u001b[1;31m---------------------------------------------------------------------------\u001b[0m",
      "\u001b[1;31mValueError\u001b[0m                                Traceback (most recent call last)",
      "File \u001b[1;32m~\\anaconda3\\lib\\site-packages\\jax\\_src\\lax\\lax.py:146\u001b[0m, in \u001b[0;36mbroadcast_shapes\u001b[1;34m(*shapes)\u001b[0m\n\u001b[0;32m    145\u001b[0m \u001b[38;5;28;01mtry\u001b[39;00m:\n\u001b[1;32m--> 146\u001b[0m   \u001b[38;5;28;01mreturn\u001b[39;00m \u001b[43m_broadcast_shapes_cached\u001b[49m\u001b[43m(\u001b[49m\u001b[38;5;241;43m*\u001b[39;49m\u001b[43mshapes\u001b[49m\u001b[43m)\u001b[49m\n\u001b[0;32m    147\u001b[0m \u001b[38;5;28;01mexcept\u001b[39;00m:\n",
      "File \u001b[1;32m~\\anaconda3\\lib\\site-packages\\jax\\_src\\util.py:263\u001b[0m, in \u001b[0;36mcache.<locals>.wrap.<locals>.wrapper\u001b[1;34m(*args, **kwargs)\u001b[0m\n\u001b[0;32m    262\u001b[0m \u001b[38;5;28;01melse\u001b[39;00m:\n\u001b[1;32m--> 263\u001b[0m   \u001b[38;5;28;01mreturn\u001b[39;00m cached(config\u001b[38;5;241m.\u001b[39m_trace_context(), \u001b[38;5;241m*\u001b[39margs, \u001b[38;5;241m*\u001b[39m\u001b[38;5;241m*\u001b[39mkwargs)\n",
      "File \u001b[1;32m~\\anaconda3\\lib\\site-packages\\jax\\_src\\util.py:256\u001b[0m, in \u001b[0;36mcache.<locals>.wrap.<locals>.cached\u001b[1;34m(_, *args, **kwargs)\u001b[0m\n\u001b[0;32m    254\u001b[0m \u001b[38;5;129m@functools\u001b[39m\u001b[38;5;241m.\u001b[39mlru_cache(max_size)\n\u001b[0;32m    255\u001b[0m \u001b[38;5;28;01mdef\u001b[39;00m \u001b[38;5;21mcached\u001b[39m(_, \u001b[38;5;241m*\u001b[39margs, \u001b[38;5;241m*\u001b[39m\u001b[38;5;241m*\u001b[39mkwargs):\n\u001b[1;32m--> 256\u001b[0m   \u001b[38;5;28;01mreturn\u001b[39;00m f(\u001b[38;5;241m*\u001b[39margs, \u001b[38;5;241m*\u001b[39m\u001b[38;5;241m*\u001b[39mkwargs)\n",
      "File \u001b[1;32m~\\anaconda3\\lib\\site-packages\\jax\\_src\\lax\\lax.py:152\u001b[0m, in \u001b[0;36m_broadcast_shapes_cached\u001b[1;34m(*shapes)\u001b[0m\n\u001b[0;32m    150\u001b[0m \u001b[38;5;129m@cache\u001b[39m()\n\u001b[0;32m    151\u001b[0m \u001b[38;5;28;01mdef\u001b[39;00m \u001b[38;5;21m_broadcast_shapes_cached\u001b[39m(\u001b[38;5;241m*\u001b[39mshapes: \u001b[38;5;28mtuple\u001b[39m[\u001b[38;5;28mint\u001b[39m, \u001b[38;5;241m.\u001b[39m\u001b[38;5;241m.\u001b[39m\u001b[38;5;241m.\u001b[39m]) \u001b[38;5;241m-\u001b[39m\u001b[38;5;241m>\u001b[39m \u001b[38;5;28mtuple\u001b[39m[\u001b[38;5;28mint\u001b[39m, \u001b[38;5;241m.\u001b[39m\u001b[38;5;241m.\u001b[39m\u001b[38;5;241m.\u001b[39m]:\n\u001b[1;32m--> 152\u001b[0m   \u001b[38;5;28;01mreturn\u001b[39;00m \u001b[43m_broadcast_shapes_uncached\u001b[49m\u001b[43m(\u001b[49m\u001b[38;5;241;43m*\u001b[39;49m\u001b[43mshapes\u001b[49m\u001b[43m)\u001b[49m\n",
      "File \u001b[1;32m~\\anaconda3\\lib\\site-packages\\jax\\_src\\lax\\lax.py:168\u001b[0m, in \u001b[0;36m_broadcast_shapes_uncached\u001b[1;34m(*shapes)\u001b[0m\n\u001b[0;32m    167\u001b[0m \u001b[38;5;28;01mif\u001b[39;00m result_shape \u001b[38;5;129;01mis\u001b[39;00m \u001b[38;5;28;01mNone\u001b[39;00m:\n\u001b[1;32m--> 168\u001b[0m   \u001b[38;5;28;01mraise\u001b[39;00m \u001b[38;5;167;01mValueError\u001b[39;00m(\u001b[38;5;124mf\u001b[39m\u001b[38;5;124m\"\u001b[39m\u001b[38;5;124mIncompatible shapes for broadcasting: shapes=\u001b[39m\u001b[38;5;132;01m{\u001b[39;00m\u001b[38;5;28mlist\u001b[39m(shapes)\u001b[38;5;132;01m}\u001b[39;00m\u001b[38;5;124m\"\u001b[39m)\n\u001b[0;32m    169\u001b[0m \u001b[38;5;28;01mreturn\u001b[39;00m result_shape\n",
      "\u001b[1;31mValueError\u001b[0m: Incompatible shapes for broadcasting: shapes=[(2, 10), (2,)]",
      "\nDuring handling of the above exception, another exception occurred:\n",
      "\u001b[1;31mValueError\u001b[0m                                Traceback (most recent call last)",
      "Cell \u001b[1;32mIn[44], line 16\u001b[0m\n\u001b[0;32m     13\u001b[0m probabilities \u001b[38;5;241m=\u001b[39m jnp\u001b[38;5;241m.\u001b[39marray([[\u001b[38;5;241m0.1\u001b[39m, \u001b[38;5;241m0.2\u001b[39m, \u001b[38;5;241m0.3\u001b[39m, \u001b[38;5;241m0.4\u001b[39m],[\u001b[38;5;241m0.2\u001b[39m, \u001b[38;5;241m0.2\u001b[39m,\u001b[38;5;241m0.2\u001b[39m, \u001b[38;5;241m0.4\u001b[39m]])\n\u001b[0;32m     15\u001b[0m \u001b[38;5;28;01mfor\u001b[39;00m _ \u001b[38;5;129;01min\u001b[39;00m \u001b[38;5;28mrange\u001b[39m(\u001b[38;5;241m5\u001b[39m):\n\u001b[1;32m---> 16\u001b[0m     key, samples \u001b[38;5;241m=\u001b[39m \u001b[43msample_discrete\u001b[49m\u001b[43m(\u001b[49m\u001b[43mkey\u001b[49m\u001b[43m,\u001b[49m\u001b[43m \u001b[49m\u001b[43mprobabilities\u001b[49m\u001b[43m,\u001b[49m\u001b[43m \u001b[49m\u001b[43msize\u001b[49m\u001b[38;5;241;43m=\u001b[39;49m\u001b[43m(\u001b[49m\u001b[38;5;241;43m2\u001b[39;49m\u001b[43m,\u001b[49m\u001b[38;5;241;43m10\u001b[39;49m\u001b[43m)\u001b[49m\u001b[43m)\u001b[49m\n\u001b[0;32m     17\u001b[0m     \u001b[38;5;28mprint\u001b[39m(samples)\n",
      "Cell \u001b[1;32mIn[44], line 8\u001b[0m, in \u001b[0;36msample_discrete\u001b[1;34m(key, probabilities, size)\u001b[0m\n\u001b[0;32m      6\u001b[0m logits \u001b[38;5;241m=\u001b[39m jnp\u001b[38;5;241m.\u001b[39mlog(probabilities)\n\u001b[0;32m      7\u001b[0m key, subkey \u001b[38;5;241m=\u001b[39m split(key)\n\u001b[1;32m----> 8\u001b[0m samples \u001b[38;5;241m=\u001b[39m \u001b[43mcategorical\u001b[49m\u001b[43m(\u001b[49m\u001b[43msubkey\u001b[49m\u001b[43m,\u001b[49m\u001b[43m \u001b[49m\u001b[43mlogits\u001b[49m\u001b[43m,\u001b[49m\u001b[43m \u001b[49m\u001b[43mshape\u001b[49m\u001b[38;5;241;43m=\u001b[39;49m\u001b[43msize\u001b[49m\u001b[43m)\u001b[49m\n\u001b[0;32m      9\u001b[0m \u001b[38;5;28;01mreturn\u001b[39;00m key, samples\n",
      "File \u001b[1;32m~\\anaconda3\\lib\\site-packages\\jax\\_src\\random.py:1523\u001b[0m, in \u001b[0;36mcategorical\u001b[1;34m(key, logits, axis, shape)\u001b[0m\n\u001b[0;32m   1521\u001b[0m \u001b[38;5;28;01melse\u001b[39;00m:\n\u001b[0;32m   1522\u001b[0m   shape \u001b[38;5;241m=\u001b[39m \u001b[38;5;28mtuple\u001b[39m(shape)\n\u001b[1;32m-> 1523\u001b[0m   \u001b[43m_check_shape\u001b[49m\u001b[43m(\u001b[49m\u001b[38;5;124;43m\"\u001b[39;49m\u001b[38;5;124;43mcategorical\u001b[39;49m\u001b[38;5;124;43m\"\u001b[39;49m\u001b[43m,\u001b[49m\u001b[43m \u001b[49m\u001b[43mshape\u001b[49m\u001b[43m,\u001b[49m\u001b[43m \u001b[49m\u001b[43mbatch_shape\u001b[49m\u001b[43m)\u001b[49m\n\u001b[0;32m   1525\u001b[0m shape_prefix \u001b[38;5;241m=\u001b[39m shape[:\u001b[38;5;28mlen\u001b[39m(shape)\u001b[38;5;241m-\u001b[39m\u001b[38;5;28mlen\u001b[39m(batch_shape)]\n\u001b[0;32m   1526\u001b[0m logits_shape \u001b[38;5;241m=\u001b[39m \u001b[38;5;28mlist\u001b[39m(shape[\u001b[38;5;28mlen\u001b[39m(shape) \u001b[38;5;241m-\u001b[39m \u001b[38;5;28mlen\u001b[39m(batch_shape):])\n",
      "File \u001b[1;32m~\\anaconda3\\lib\\site-packages\\jax\\_src\\random.py:289\u001b[0m, in \u001b[0;36m_check_shape\u001b[1;34m(name, shape, *param_shapes)\u001b[0m\n\u001b[0;32m    286\u001b[0m shape \u001b[38;5;241m=\u001b[39m core\u001b[38;5;241m.\u001b[39mas_named_shape(shape)\n\u001b[0;32m    288\u001b[0m \u001b[38;5;28;01mif\u001b[39;00m param_shapes:\n\u001b[1;32m--> 289\u001b[0m   shape_ \u001b[38;5;241m=\u001b[39m \u001b[43mlax\u001b[49m\u001b[38;5;241;43m.\u001b[39;49m\u001b[43mbroadcast_shapes\u001b[49m\u001b[43m(\u001b[49m\u001b[43mshape\u001b[49m\u001b[38;5;241;43m.\u001b[39;49m\u001b[43mpositional\u001b[49m\u001b[43m,\u001b[49m\u001b[43m \u001b[49m\u001b[38;5;241;43m*\u001b[39;49m\u001b[43mparam_shapes\u001b[49m\u001b[43m)\u001b[49m\n\u001b[0;32m    290\u001b[0m   \u001b[38;5;28;01mif\u001b[39;00m shape\u001b[38;5;241m.\u001b[39mpositional \u001b[38;5;241m!=\u001b[39m shape_:\n\u001b[0;32m    291\u001b[0m     msg \u001b[38;5;241m=\u001b[39m (\u001b[38;5;124m\"\u001b[39m\u001b[38;5;132;01m{}\u001b[39;00m\u001b[38;5;124m parameter shapes must be broadcast-compatible with shape \u001b[39m\u001b[38;5;124m\"\u001b[39m\n\u001b[0;32m    292\u001b[0m            \u001b[38;5;124m\"\u001b[39m\u001b[38;5;124margument, and the result of broadcasting the shapes must equal \u001b[39m\u001b[38;5;124m\"\u001b[39m\n\u001b[0;32m    293\u001b[0m            \u001b[38;5;124m\"\u001b[39m\u001b[38;5;124mthe shape argument, but got result \u001b[39m\u001b[38;5;132;01m{}\u001b[39;00m\u001b[38;5;124m for shape argument \u001b[39m\u001b[38;5;132;01m{}\u001b[39;00m\u001b[38;5;124m.\u001b[39m\u001b[38;5;124m\"\u001b[39m)\n",
      "File \u001b[1;32m~\\anaconda3\\lib\\site-packages\\jax\\_src\\lax\\lax.py:148\u001b[0m, in \u001b[0;36mbroadcast_shapes\u001b[1;34m(*shapes)\u001b[0m\n\u001b[0;32m    146\u001b[0m   \u001b[38;5;28;01mreturn\u001b[39;00m _broadcast_shapes_cached(\u001b[38;5;241m*\u001b[39mshapes)\n\u001b[0;32m    147\u001b[0m \u001b[38;5;28;01mexcept\u001b[39;00m:\n\u001b[1;32m--> 148\u001b[0m   \u001b[38;5;28;01mreturn\u001b[39;00m \u001b[43m_broadcast_shapes_uncached\u001b[49m\u001b[43m(\u001b[49m\u001b[38;5;241;43m*\u001b[39;49m\u001b[43mshapes\u001b[49m\u001b[43m)\u001b[49m\n",
      "File \u001b[1;32m~\\anaconda3\\lib\\site-packages\\jax\\_src\\lax\\lax.py:168\u001b[0m, in \u001b[0;36m_broadcast_shapes_uncached\u001b[1;34m(*shapes)\u001b[0m\n\u001b[0;32m    166\u001b[0m result_shape \u001b[38;5;241m=\u001b[39m _try_broadcast_shapes(shape_list)\n\u001b[0;32m    167\u001b[0m \u001b[38;5;28;01mif\u001b[39;00m result_shape \u001b[38;5;129;01mis\u001b[39;00m \u001b[38;5;28;01mNone\u001b[39;00m:\n\u001b[1;32m--> 168\u001b[0m   \u001b[38;5;28;01mraise\u001b[39;00m \u001b[38;5;167;01mValueError\u001b[39;00m(\u001b[38;5;124mf\u001b[39m\u001b[38;5;124m\"\u001b[39m\u001b[38;5;124mIncompatible shapes for broadcasting: shapes=\u001b[39m\u001b[38;5;132;01m{\u001b[39;00m\u001b[38;5;28mlist\u001b[39m(shapes)\u001b[38;5;132;01m}\u001b[39;00m\u001b[38;5;124m\"\u001b[39m)\n\u001b[0;32m    169\u001b[0m \u001b[38;5;28;01mreturn\u001b[39;00m result_shape\n",
      "\u001b[1;31mValueError\u001b[0m: Incompatible shapes for broadcasting: shapes=[(2, 10), (2,)]"
     ]
    }
   ],
   "source": [
    "import jax.numpy as jnp\n",
    "from jax.random import categorical, PRNGKey, split\n",
    "\n",
    "def sample_discrete(key, probabilities, size=None):\n",
    "    \"\"\"Sample from a discrete distribution defined by probabilities and return new key.\"\"\"\n",
    "    logits = jnp.log(probabilities)\n",
    "    key, subkey = split(key)\n",
    "    samples = categorical(subkey, logits, shape=size)\n",
    "    return key, samples\n",
    "\n",
    "# Example\n",
    "key = PRNGKey(0)\n",
    "probabilities = jnp.array([[0.1, 0.2, 0.3, 0.4],[0.2, 0.2,0.2, 0.4]])\n",
    "\n",
    "for _ in range(5):\n",
    "    key, samples = sample_discrete(key, probabilities, size=(2,10))\n",
    "    print(samples)"
   ]
  },
  {
   "cell_type": "code",
   "execution_count": 41,
   "id": "efe4a461",
   "metadata": {},
   "outputs": [
    {
     "name": "stdout",
     "output_type": "stream",
     "text": [
      "(2, 5, 2)\n"
     ]
    }
   ],
   "source": [
    "import jax.numpy as jnp\n",
    "\n",
    "def one_hot_encoding(x, num_classes=2):\n",
    "    \"\"\"Converts batched integer labels to one-hot encoded arrays.\"\"\"\n",
    "    return jnp.eye(num_classes)[x]\n",
    "\n",
    "# Example\n",
    "batch_labels = jnp.array([[0, 1, 0, 1, 1],[0,1,1,1,1]])\n",
    "encoded = one_hot_encoding(batch_labels)\n",
    "print(encoded.shape)"
   ]
  },
  {
   "cell_type": "code",
   "execution_count": 52,
   "id": "347d5c01",
   "metadata": {},
   "outputs": [],
   "source": [
    "    def one_hot_encoding(self, x, num_classes = 2):\n",
    "    \"\"\"Converts batched integer labels to one-hot encoded arrays.\"\"\"\n",
    "        return jnp.eye(num_classes)[x]"
   ]
  },
  {
   "cell_type": "code",
   "execution_count": 61,
   "id": "345345cd",
   "metadata": {},
   "outputs": [],
   "source": [
    "a = jnp.zeros((2,2))"
   ]
  },
  {
   "cell_type": "code",
   "execution_count": 104,
   "id": "ec491c92",
   "metadata": {},
   "outputs": [
    {
     "name": "stdout",
     "output_type": "stream",
     "text": [
      "[[0 0 1 1 0]\n",
      " [0 1 0 1 1]\n",
      " [1 1 1 0 1]\n",
      " [1 0 1 1 1]\n",
      " [1 0 1 1 0]]\n"
     ]
    }
   ],
   "source": [
    "\n",
    "\n",
    "def generate_matrix(rows, cols):\n",
    "    return jax.random.choice(random.PRNGKey(1),jnp.array([0, 1]), shape=(5,5))\n",
    "\n",
    "rows, cols = 5, 5  # for example\n",
    "matrix = generate_matrix(rows, cols)\n",
    "print(matrix)"
   ]
  },
  {
   "cell_type": "code",
   "execution_count": 105,
   "id": "2157ba4e",
   "metadata": {},
   "outputs": [],
   "source": [
    "matrix1 = matrix[:-1,:-1]*matrix[1:,1:]\n",
    "mask1 = (matrix[:-1] == matrix[1:])"
   ]
  },
  {
   "cell_type": "code",
   "execution_count": 146,
   "id": "3575e153",
   "metadata": {},
   "outputs": [
    {
     "data": {
      "text/plain": [
       "Array([[ True, False, False,  True, False],\n",
       "       [False,  True, False, False,  True],\n",
       "       [ True, False,  True, False,  True],\n",
       "       [ True,  True,  True,  True, False]], dtype=bool)"
      ]
     },
     "execution_count": 146,
     "metadata": {},
     "output_type": "execute_result"
    }
   ],
   "source": [
    "mask1"
   ]
  },
  {
   "cell_type": "code",
   "execution_count": 171,
   "id": "4ec5c694",
   "metadata": {},
   "outputs": [],
   "source": [
    "swap = jnp.stack((matrix[1:], matrix[:-1]), axis=-1)"
   ]
  },
  {
   "cell_type": "code",
   "execution_count": 173,
   "id": "700a741f",
   "metadata": {},
   "outputs": [
    {
     "data": {
      "text/plain": [
       "Array([[0, 0, 1, 1, 0],\n",
       "       [0, 1, 0, 1, 1],\n",
       "       [1, 1, 1, 0, 1],\n",
       "       [1, 0, 1, 1, 1]], dtype=int32)"
      ]
     },
     "execution_count": 173,
     "metadata": {},
     "output_type": "execute_result"
    }
   ],
   "source": [
    "jnp.where(mask1[:, :,], swap[:,:,0], swap[:,:,1])"
   ]
  },
  {
   "cell_type": "code",
   "execution_count": 156,
   "id": "bc4f8130",
   "metadata": {},
   "outputs": [
    {
     "data": {
      "text/plain": [
       "Array([[1, 1, 2, 2, 3, 3, 3, 4, 4, 4, 4],\n",
       "       [0, 3, 1, 4, 0, 2, 4, 0, 1, 2, 3]], dtype=int32)"
      ]
     },
     "execution_count": 156,
     "metadata": {},
     "output_type": "execute_result"
    }
   ],
   "source": [
    "(jnp.array(jnp.nonzero(mask1))+jnp.array([[1],[0]]))"
   ]
  },
  {
   "cell_type": "code",
   "execution_count": 166,
   "id": "8bfc1b83",
   "metadata": {},
   "outputs": [
    {
     "data": {
      "text/plain": [
       "Array([0, 1, 1, 1, 1, 1, 1, 1, 0, 1, 1], dtype=int32)"
      ]
     },
     "execution_count": 166,
     "metadata": {},
     "output_type": "execute_result"
    }
   ],
   "source": [
    "jnp.repeat(jnp.expand_dims(matrix[:,:], axis=0), mask1.sum(), axis=0)[jnp.arange(11), [1, 1, 2, 2, 3, 3, 3, 4, 4, 4, 4], [0, 3, 1, 4, 0, 2, 4, 0, 1, 2, 3]]"
   ]
  },
  {
   "cell_type": "code",
   "execution_count": null,
   "id": "6cca6b59",
   "metadata": {},
   "outputs": [],
   "source": []
  },
  {
   "cell_type": "code",
   "execution_count": 27,
   "id": "900f9b4f",
   "metadata": {},
   "outputs": [],
   "source": [
    "import netket as nk\n",
    "import jax\n",
    "import jax.numpy as jnp\n",
    "from jax import grad, jit, vmap\n",
    "from jax.random import PRNGKey, split, categorical\n",
    "from jax.lax import scan\n",
    "import jax.nn as nn\n",
    "\n",
    "\n",
    "a = jax.random.normal(PRNGKey(0), (5,5))\n",
    "a = a+jax.random.normal(PRNGKey(0), (5,5))"
   ]
  },
  {
   "cell_type": "code",
   "execution_count": 36,
   "id": "35dbae21",
   "metadata": {},
   "outputs": [
    {
     "data": {
      "text/plain": [
       "(2, 5, 5)"
      ]
     },
     "execution_count": 36,
     "metadata": {},
     "output_type": "execute_result"
    }
   ],
   "source": [
    "jnp.repeat(jnp.expand_dims(jax.random.normal(PRNGKey(0), (5,5)), axis=0), 2, axis=0).shape"
   ]
  },
  {
   "cell_type": "code",
   "execution_count": 1,
   "id": "8293a148",
   "metadata": {},
   "outputs": [],
   "source": [
    "import jax.numpy as jnp\n",
    "\n",
    "def sinusoidal_schedule(step: float, min_lr: float, max_lr: float, period: float) -> float:\n",
    "    \"\"\"Compute a learning rate that oscillates sinusoidally between min_lr and max_lr.\"\"\"\n",
    "    oscillation = (jnp.sin(jnp.pi * step / period) + 1) / 2  # Will be between 0 and 1\n",
    "    return min_lr + (max_lr - min_lr) * oscillation\n"
   ]
  },
  {
   "cell_type": "code",
   "execution_count": 2,
   "id": "591e0b99",
   "metadata": {},
   "outputs": [
    {
     "name": "stderr",
     "output_type": "stream",
     "text": [
      "No GPU/TPU found, falling back to CPU. (Set TF_CPP_MIN_LOG_LEVEL=0 and rerun for more info.)\n"
     ]
    },
    {
     "data": {
      "image/png": "[encoded data removed]",
      "text/plain": [
       "<Figure size 640x480 with 1 Axes>"
      ]
     },
     "metadata": {},
     "output_type": "display_data"
    }
   ],
   "source": [
    "import matplotlib.pyplot as plt\n",
    "\n",
    "steps = jnp.arange(1000)  # Example: visualize for 1000 steps\n",
    "lr_values = jnp.array([sinusoidal_schedule(step, 1e-4, 1e-2, 500) for step in steps])\n",
    "\n",
    "plt.plot(steps, lr_values)\n",
    "plt.xlabel(\"Steps\")\n",
    "plt.ylabel(\"Learning Rate\")\n",
    "plt.title(\"Custom Sinusoidal Learning Rate Schedule\")\n",
    "plt.show()\n"
   ]
  },
  {
   "cell_type": "code",
   "execution_count": 208,
   "id": "9ac873f8",
   "metadata": {},
   "outputs": [
    {
     "ename": "IndexError",
     "evalue": "index 3 is out of bounds for axis 1 with size 3",
     "output_type": "error",
     "traceback": [
      "\u001b[1;31m---------------------------------------------------------------------------\u001b[0m",
      "\u001b[1;31mIndexError\u001b[0m                                Traceback (most recent call last)",
      "Cell \u001b[1;32mIn[208], line 57\u001b[0m\n\u001b[0;32m     55\u001b[0m sigmap \u001b[38;5;241m=\u001b[39m np\u001b[38;5;241m.\u001b[39marray([[\u001b[38;5;241m1\u001b[39m, \u001b[38;5;241m0\u001b[39m, \u001b[38;5;241m1\u001b[39m], [\u001b[38;5;241m0\u001b[39m, \u001b[38;5;241m1\u001b[39m, \u001b[38;5;241m0\u001b[39m], [\u001b[38;5;241m1\u001b[39m, \u001b[38;5;241m1\u001b[39m, \u001b[38;5;241m1\u001b[39m]])\n\u001b[0;32m     56\u001b[0m J1, J2, J3 \u001b[38;5;241m=\u001b[39m \u001b[38;5;241m1\u001b[39m, \u001b[38;5;241m2\u001b[39m, \u001b[38;5;241m3\u001b[39m\n\u001b[1;32m---> 57\u001b[0m matrixelements, sigmas \u001b[38;5;241m=\u001b[39m \u001b[43mcompute_elements\u001b[49m\u001b[43m(\u001b[49m\u001b[43msigmap\u001b[49m\u001b[43m,\u001b[49m\u001b[43m \u001b[49m\u001b[43mJ1\u001b[49m\u001b[43m,\u001b[49m\u001b[43m \u001b[49m\u001b[43mJ2\u001b[49m\u001b[43m,\u001b[49m\u001b[43m \u001b[49m\u001b[43mJ3\u001b[49m\u001b[43m)\u001b[49m\n\u001b[0;32m     58\u001b[0m \u001b[38;5;28mprint\u001b[39m(matrixelements)\n\u001b[0;32m     59\u001b[0m \u001b[38;5;28mprint\u001b[39m(sigmas)\n",
      "Cell \u001b[1;32mIn[208], line 42\u001b[0m, in \u001b[0;36mcompute_elements\u001b[1;34m(sigmap, J1, J2, J3)\u001b[0m\n\u001b[0;32m     38\u001b[0m ind2 \u001b[38;5;241m=\u001b[39m ind1 \u001b[38;5;241m+\u001b[39m np\u001b[38;5;241m.\u001b[39marray(direction)[:, \u001b[38;5;28;01mNone\u001b[39;00m]\n\u001b[0;32m     40\u001b[0m sig \u001b[38;5;241m=\u001b[39m np\u001b[38;5;241m.\u001b[39mrepeat(sigmap[\u001b[38;5;28;01mNone\u001b[39;00m, \u001b[38;5;241m.\u001b[39m\u001b[38;5;241m.\u001b[39m\u001b[38;5;241m.\u001b[39m], n_matches, axis\u001b[38;5;241m=\u001b[39m\u001b[38;5;241m0\u001b[39m)\n\u001b[0;32m     41\u001b[0m sig[np\u001b[38;5;241m.\u001b[39marange(n_matches), ind1[\u001b[38;5;241m0\u001b[39m], ind1[\u001b[38;5;241m1\u001b[39m]], sig[np\u001b[38;5;241m.\u001b[39marange(n_matches), ind2[\u001b[38;5;241m0\u001b[39m], ind2[\u001b[38;5;241m1\u001b[39m]] \u001b[38;5;241m=\u001b[39m \\\n\u001b[1;32m---> 42\u001b[0m \u001b[43msig\u001b[49m\u001b[43m[\u001b[49m\u001b[43mnp\u001b[49m\u001b[38;5;241;43m.\u001b[39;49m\u001b[43marange\u001b[49m\u001b[43m(\u001b[49m\u001b[43mn_matches\u001b[49m\u001b[43m)\u001b[49m\u001b[43m,\u001b[49m\u001b[43m \u001b[49m\u001b[43mind2\u001b[49m\u001b[43m[\u001b[49m\u001b[38;5;241;43m0\u001b[39;49m\u001b[43m]\u001b[49m\u001b[43m,\u001b[49m\u001b[43m \u001b[49m\u001b[43mind2\u001b[49m\u001b[43m[\u001b[49m\u001b[38;5;241;43m1\u001b[39;49m\u001b[43m]\u001b[49m\u001b[43m]\u001b[49m, sig[np\u001b[38;5;241m.\u001b[39marange(n_matches), ind1[\u001b[38;5;241m0\u001b[39m], ind1[\u001b[38;5;241m1\u001b[39m]]\n\u001b[0;32m     44\u001b[0m matrixelements[current_num:current_num \u001b[38;5;241m+\u001b[39m n_matches] \u001b[38;5;241m=\u001b[39m \u001b[38;5;241m-\u001b[39m\u001b[38;5;241m0.5\u001b[39m \u001b[38;5;241m*\u001b[39m J\n\u001b[0;32m     45\u001b[0m sigmas[current_num:current_num \u001b[38;5;241m+\u001b[39m n_matches] \u001b[38;5;241m=\u001b[39m sig\n",
      "\u001b[1;31mIndexError\u001b[0m: index 3 is out of bounds for axis 1 with size 3"
     ]
    }
   ],
   "source": [
    "import numpy as np\n",
    "\n",
    "def compute_elements(sigmap, J1, J2, J3):\n",
    "    # Preallocate space for the results\n",
    "    max_elements = np.product(sigmap.shape) * 6 # Assuming at most 6 masks\n",
    "    matrixelements = np.zeros(max_elements)\n",
    "    sigmas = np.zeros((max_elements, *sigmap.shape))\n",
    "    current_num = 0\n",
    "    \n",
    "    directions = [\n",
    "        ((-1, 0), J1),  # J1 ↓\n",
    "        ((0, -1), J1),  # J1 →\n",
    "        ((-1, -1), J2), # J2 →↓\n",
    "        ((1, -1), J2),  # J2 ←↓\n",
    "        ((-2, 0), J3),  # J3 ↓↓\n",
    "        ((0, -2), J3),  # J3 →→\n",
    "    ]\n",
    "\n",
    "    for direction, J in directions:\n",
    "        dx, dy = direction\n",
    "        shifted = np.roll(sigmap, shift=direction, axis=(0, 1))\n",
    "        mask = (sigmap != shifted)\n",
    "        \n",
    "        if dx > 0:\n",
    "            mask[:dx, :] = 0\n",
    "        if dx < 0:\n",
    "            mask[dx:, :] = 0\n",
    "        if dy > 0:\n",
    "            mask[:, :dy] = 0\n",
    "        if dy < 0:\n",
    "            mask[:, dy:] = 0\n",
    "        \n",
    "        n_matches = np.sum(mask)\n",
    "        if n_matches == 0:\n",
    "            continue\n",
    "        \n",
    "        ind1 = np.array(np.nonzero(mask))\n",
    "        ind2 = ind1 + np.array(direction)[:, None]\n",
    "        \n",
    "        sig = np.repeat(sigmap[None, ...], n_matches, axis=0)\n",
    "        sig[np.arange(n_matches), ind1[0], ind1[1]], sig[np.arange(n_matches), ind2[0], ind2[1]] = \\\n",
    "        sig[np.arange(n_matches), ind2[0], ind2[1]], sig[np.arange(n_matches), ind1[0], ind1[1]]\n",
    "\n",
    "        matrixelements[current_num:current_num + n_matches] = -0.5 * J\n",
    "        sigmas[current_num:current_num + n_matches] = sig\n",
    "        current_num += n_matches\n",
    "\n",
    "    # Trim the unused preallocated space\n",
    "    matrixelements = matrixelements[:current_num]\n",
    "    sigmas = sigmas[:current_num]\n",
    "\n",
    "    return matrixelements, sigmas\n",
    "\n",
    "# Example usage\n",
    "sigmap = np.array([[1, 0, 1], [0, 1, 0], [1, 1, 1]])\n",
    "J1, J2, J3 = 1, 2, 3\n",
    "matrixelements, sigmas = compute_elements(sigmap, J1, J2, J3)\n",
    "print(matrixelements)\n",
    "print(sigmas)\n"
   ]
  },
  {
   "cell_type": "code",
   "execution_count": 31,
   "id": "f7909dac",
   "metadata": {},
   "outputs": [
    {
     "data": {
      "text/plain": [
       "2"
      ]
     },
     "execution_count": 31,
     "metadata": {},
     "output_type": "execute_result"
    }
   ],
   "source": [
    "import netket as nk\n",
    "import jax\n",
    "import jax.numpy as jnp\n",
    "from jax import grad, jit, vmap\n",
    "import jax.random as random\n",
    "from jax.random import PRNGKey, split, categorical\n",
    "from jax.lax import scan\n",
    "import jax.nn as nn\n",
    "import time\n",
    "from tqdm import tqdm\n",
    "\n",
    "def random_layer_params(m, n, ny, nx, key, scale=1e-2):\n",
    "    w_key, b_key = random.split(key)\n",
    "    #outkey1, outkey2 = random.split(w_key)\n",
    "    return  random.normal(w_key, (ny, nx, m, n)),  random.normal(b_key, (ny, nx, n))\n",
    "sizes = [6,4,3,2]\n",
    "keys = random.split(PRNGKey(0), len(sizes))\n",
    "nx = 3\n",
    "ny = 3\n",
    "len([random_layer_params(ny, nx, m, n, k) for m, n, k in zip(sizes[:-1], sizes[1:], keys[1:])][:][0])"
   ]
  },
  {
   "cell_type": "code",
   "execution_count": null,
   "id": "2fa43b18",
   "metadata": {},
   "outputs": [],
   "source": [
    "    for nx in range(Nx):\n",
    "        for ny in range(Ny):\n",
    "            \n",
    "            # J1 interactions\n",
    "            \n",
    "            if nx != (Nx-1):  \n",
    "                if sigmap[nx,ny] != sigmap[(nx+1),ny]:\n",
    "                    diag-=0.25*J1 \n",
    "                else:\n",
    "                    diag+=0.25*J1\n",
    "                    \n",
    "            if ny != (Ny-1):   \n",
    "                if sigmap[nx,ny] != sigmap[nx,(ny+1)]:\n",
    "                    diag-=0.25*J1  \n",
    "                else:\n",
    "                    diag+=0.25*J1\n",
    "                \n",
    "                # J2 interactions\n",
    "                \n",
    "                if nx!= Nx-1 : \n",
    "                    if sigmap[nx, ny] != sigmap[nx+1, ny+1]:\n",
    "                        diag-=0.25*J2\n",
    "                    else:\n",
    "                        diag+=0.25*J2\n",
    "                if nx!=0 :\n",
    "                    if sigmap[nx, ny] != sigmap[nx-1, ny+1]:\n",
    "                        diag-=0.25*J2\n",
    "                    else:\n",
    "                        diag+=0.25*J2\n",
    "                        \n",
    "            # J3 interactions\n",
    "            if nx != (Nx-2) and nx!= (Nx-1): \n",
    "                if sigmap[nx,ny] != sigmap[(nx+2),ny]:\n",
    "                    diag-=0.25*J3 #add a negative energy contribution\n",
    "                else:\n",
    "                    diag+=0.25*J3                \n",
    "            if ny != (Ny-2) and ny!= (Ny-1): \n",
    "                if sigmap[nx,ny] != sigmap[nx,(ny+2)]:\n",
    "                    diag-=0.25*J3 #add a negative energy contribution\n",
    "                else:\n",
    "                    diag+=0.25*J3"
   ]
  },
  {
   "cell_type": "code",
   "execution_count": null,
   "id": "517faddd",
   "metadata": {},
   "outputs": [],
   "source": [
    "        def scan_fun(carry, indices):\n",
    "            ny, nx = indices\n",
    "            direction = int((nx%2)*2-1)\n",
    "            rnn_states, cond_prob, phase, key, samples, inputs, num_up, num_generated_spins = carry\n",
    "            \n",
    "            local_inputs = jnp.concatenate((inputs[ny,nx+direction], inputs[ny-1, nx]), axis = 1)\n",
    "            local_states = jnp.concatenate((rnn_state_y[nx, ny], rnn_state_x[ny, nx]), axis = 1)\n",
    "            if (nx%2 == 0):\n",
    "                    local_inputs = jnp.concatenate((inputs[ny,nx+direction], inputs[ny-1, nx]), axis = 1)\n",
    "                    local_states = jnp.concatenate((rnn_state_y[nx, ny], rnn_state_x[ny, nx]), axis = 1)\n",
    "                    '''\n",
    "                    | | | | |\n",
    "                   -*-*-*-*-*-\n",
    "                    | | | | |\n",
    "                   -*-*-*-*-*-\n",
    "                    | | | | |\n",
    "                    '''\n",
    "                    rnn_states_x[:, ny, nx+1], rnn_states_y[:, nx, ny+1], cond_prob[:, ny-1, nx-1], phase[:, ny-1, nx-1] \\\n",
    "                    = batch_rnn(local_inputs, local_states, ny, nx)   # h hidden state    \n",
    "           \n",
    "                    self.key, self.subkey = split(self.key)       \n",
    "                    prob = self.normalization(prob , num_up, num_generated_spins, self.magnetization)*(self.mag_fixed)+prob*(1-self.mag_fixed)\n",
    "                   \n",
    "                    self.samples[:,ny-1,nx-1] = self.sample_discrete(self.subkey, prob, size = (self.num_samples, 1))\n",
    "                    inputs[ny, nx] = one_hot_encoding(samples[:,ny,nx])\n",
    "                    num_up += 1-samples[:,ny-1,nx-1]\n",
    "                    num_generated_spins += 1\n",
    "                \n",
    "            return (rnn_states_x, rnn_states_y, cond_prob, phase, key, samples, inputs, num_up, num_generated_spins), samples    \n",
    "        \n",
    "        ny_nx_indices = [[(i, j) for j in range(1, self.Ny+1)] for i in range(1, self.Ny+1)]    \n",
    "        _, self.samples = lax.scan(scan_fun, init_carry, ny_nx_indices)\n",
    "                               \n",
    "        return self.samples"
   ]
  },
  {
   "cell_type": "code",
   "execution_count": 9,
   "id": "35c62d73",
   "metadata": {},
   "outputs": [],
   "source": [
    "import netket as nk\n",
    "import jax\n",
    "import jax.numpy as jnp\n",
    "from jax import grad, jit, vmap\n",
    "import jax.random as random\n",
    "from jax.random import PRNGKey, split, categorical\n",
    "from jax.lax import scan\n",
    "import jax.nn as nn\n",
    "import time\n",
    "from tqdm import tqdm\n",
    "\n",
    "def random_layer_params(m, n, ny, nx, key, scale=1e-2):\n",
    "    w_key, b_key = random.split(key)\n",
    "    #outkey1, outkey2 = random.split(w_key)\n",
    "    return  random.normal(w_key, (ny, nx, m, n)),  random.normal(b_key, (ny, nx, n))\n",
    "sizes = [6,4]\n",
    "keys = random.split(PRNGKey(0), len(sizes)+1)\n",
    "nx = 3\n",
    "ny = 3\n",
    "\n",
    "x = jnp.arange(12).reshape(3,4)"
   ]
  },
  {
   "cell_type": "code",
   "execution_count": 32,
   "id": "3a106f6b",
   "metadata": {},
   "outputs": [
    {
     "data": {
      "text/plain": [
       "Array(0, dtype=int64, weak_type=True)"
      ]
     },
     "execution_count": 32,
     "metadata": {},
     "output_type": "execute_result"
    }
   ],
   "source": [
    "import jax.lax as lax\n",
    "from jax.random import PRNGKey\n",
    "jnp.array(0)\n"
   ]
  },
  {
   "cell_type": "code",
   "execution_count": 142,
   "id": "75d7e69d",
   "metadata": {},
   "outputs": [],
   "source": [
    "a = ny_nx_indices = jnp.array([[(i, j) for i in range(3)] for j in range(3)])"
   ]
  },
  {
   "cell_type": "code",
   "execution_count": 145,
   "id": "e61e033a",
   "metadata": {},
   "outputs": [
    {
     "name": "stdout",
     "output_type": "stream",
     "text": [
      "Traced<ShapedArray(int64[])>with<DynamicJaxprTrace(level=2/0)>\n"
     ]
    },
    {
     "data": {
      "text/plain": [
       "((Array([7.8, 8.8, 9.8], dtype=float64, weak_type=True),\n",
       "  Array(1, dtype=int64, weak_type=True),\n",
       "  [Array(1, dtype=int64, weak_type=True),\n",
       "   Array(1, dtype=int64, weak_type=True)]),\n",
       " Array([1.1, 2.2, 4.4], dtype=float64, weak_type=True))"
      ]
     },
     "execution_count": 145,
     "metadata": {},
     "output_type": "execute_result"
    }
   ],
   "source": [
    "@jit\n",
    "def scan(x, y):\n",
    "    alpha, beta, gamma = x\n",
    "    r, s = y[0]\n",
    "    print(r)\n",
    "    k = alpha[r]+beta, beta \n",
    "    return (alpha+k[0], beta, gamma), k[0]\n",
    "\n",
    "lax.scan(scan, (jnp.arange(3)+0.1, 1, [1,1]), a)\n"
   ]
  },
  {
   "cell_type": "code",
   "execution_count": 37,
   "id": "b5afd4d9",
   "metadata": {},
   "outputs": [
    {
     "name": "stdout",
     "output_type": "stream",
     "text": [
      "(10,)\n"
     ]
    }
   ],
   "source": [
    "print(jnp.arange(10).shape)"
   ]
  },
  {
   "cell_type": "code",
   "execution_count": 64,
   "id": "ba7429d3",
   "metadata": {},
   "outputs": [
    {
     "data": {
      "text/plain": [
       "Array(1, dtype=int64)"
      ]
     },
     "execution_count": 64,
     "metadata": {},
     "output_type": "execute_result"
    }
   ],
   "source": [
    "import jax.numpy as jnp\n",
    "from jax import jit\n",
    "\n",
    "L = jnp.array([1, 2, 3])\n",
    "\n",
    "@jit\n",
    "def func(i):\n",
    "    return jnp.array(L[i])\n",
    "\n",
    "func(0)"
   ]
  },
  {
   "cell_type": "code",
   "execution_count": 59,
   "id": "50c8d115",
   "metadata": {},
   "outputs": [
    {
     "data": {
      "text/plain": [
       "Array(3., dtype=float64)"
      ]
     },
     "execution_count": 59,
     "metadata": {},
     "output_type": "execute_result"
    }
   ],
   "source": [
    "y"
   ]
  },
  {
   "cell_type": "code",
   "execution_count": 126,
   "id": "9f9a4cf5",
   "metadata": {},
   "outputs": [
    {
     "data": {
      "text/plain": [
       "3"
      ]
     },
     "execution_count": 126,
     "metadata": {},
     "output_type": "execute_result"
    }
   ],
   "source": [
    "def random_layer_params(ny, nx, m, n, key, scale=1e-2):\n",
    "    w_key,b_key = random.split(key)\n",
    "    #outkey1, outkey2 = random.split(w_key)\n",
    "    return  random.normal(w_key, (ny, nx, m, n)),  random.normal(b_key, (ny, nx, n))\n",
    "\n",
    "# Initialize all layers for a fully-connected neural network with sizes \"sizes\"\n",
    "def init_network_params(sizes, ny ,nx,  key):\n",
    "    keys = random.split(key, len(sizes))\n",
    "    outkey = keys[0]\n",
    "    return outkey, [random_layer_params(ny, nx,m, n, k) for m, n, k in zip(sizes[:-1], sizes[1:], keys[1:])]\n",
    "\n",
    "a = init_network_params([3,4,5,6],2,2, PRNGKey(0))[1][0]\n",
    "len(init_network_params([3,4,5,6],2,2, PRNGKey(0))[1])"
   ]
  },
  {
   "cell_type": "code",
   "execution_count": 124,
   "id": "7909ef46",
   "metadata": {},
   "outputs": [
    {
     "ename": "TypeError",
     "evalue": "list indices must be integers or slices, not tuple",
     "output_type": "error",
     "traceback": [
      "\u001b[1;31m---------------------------------------------------------------------------\u001b[0m",
      "\u001b[1;31mTypeError\u001b[0m                                 Traceback (most recent call last)",
      "Cell \u001b[1;32mIn[124], line 1\u001b[0m\n\u001b[1;32m----> 1\u001b[0m c, d \u001b[38;5;241m=\u001b[39m \u001b[43minit_network_params\u001b[49m\u001b[43m(\u001b[49m\u001b[43m[\u001b[49m\u001b[38;5;241;43m3\u001b[39;49m\u001b[43m,\u001b[49m\u001b[38;5;241;43m4\u001b[39;49m\u001b[43m,\u001b[49m\u001b[38;5;241;43m5\u001b[39;49m\u001b[43m,\u001b[49m\u001b[38;5;241;43m6\u001b[39;49m\u001b[43m]\u001b[49m\u001b[43m,\u001b[49m\u001b[38;5;241;43m2\u001b[39;49m\u001b[43m,\u001b[49m\u001b[38;5;241;43m2\u001b[39;49m\u001b[43m,\u001b[49m\u001b[43m \u001b[49m\u001b[43mPRNGKey\u001b[49m\u001b[43m(\u001b[49m\u001b[38;5;241;43m0\u001b[39;49m\u001b[43m)\u001b[49m\u001b[43m)\u001b[49m\u001b[43m[\u001b[49m\u001b[38;5;241;43m1\u001b[39;49m\u001b[43m]\u001b[49m\u001b[43m[\u001b[49m\u001b[43m:\u001b[49m\u001b[43m,\u001b[49m\u001b[38;5;241;43m0\u001b[39;49m\u001b[43m]\u001b[49m\n",
      "\u001b[1;31mTypeError\u001b[0m: list indices must be integers or slices, not tuple"
     ]
    }
   ],
   "source": [
    "c, d = init_network_params([3,4,5,6],2,2, PRNGKey(0))[1][:,0]"
   ]
  },
  {
   "cell_type": "code",
   "execution_count": 12,
   "id": "fed7bb0f",
   "metadata": {},
   "outputs": [
    {
     "data": {
      "text/plain": [
       "Array(-1., dtype=float32, weak_type=True)"
      ]
     },
     "execution_count": 12,
     "metadata": {},
     "output_type": "execute_result"
    }
   ],
   "source": [
    "jnp.sign(jnp.sign(-0.1) + 0.1 )"
   ]
  },
  {
   "cell_type": "code",
   "execution_count": 17,
   "id": "ec7f7a20",
   "metadata": {},
   "outputs": [],
   "source": [
    "a = jnp.array([[1,2],[3,4]])"
   ]
  },
  {
   "cell_type": "code",
   "execution_count": 40,
   "id": "1b77e323",
   "metadata": {},
   "outputs": [],
   "source": [
    "import jax\n",
    "from jax import lax\n",
    "from jax import vmap\n",
    "from functools import partial\n",
    "\n",
    "@partial(jax.jit, static_argnums=(1,2))\n",
    "def compute_means(A, ind1, ind2):\n",
    "    # Use jnp.concatenate to add 0 as the starting index\n",
    "\n",
    "    return jnp.mean(lax.dynamic_slice(A, ind1, ind2))\n",
    "batch_cm = vmap(compute_means, (None, 0, 0))\n",
    "# Example usage\n",
    "A = jnp.array([1, 2, 3, 4, 5, 6, 7, 8, 9, 10])\n",
    "ind1 = jnp.array([[0],[2], [5], [8]])\n",
    "ind2 = jnp.array([[2], [5], [8], [10]])\n",
    "\n",
    "batch_cm(A, ind1, ind2)\n",
    " "
   ]
  },
  {
   "cell_type": "code",
   "execution_count": 59,
   "id": "1fe8ce1d",
   "metadata": {},
   "outputs": [
    {
     "ename": "IndexError",
     "evalue": "Array slice indices must have static start/stop/step to be used with NumPy indexing syntax. Found slice(Traced<ShapedArray(int32[])>with<BatchTrace(level=1/0)> with\n  val = Array([0, 2, 6, 8], dtype=int32)\n  batch_dim = 0, Traced<ShapedArray(int32[])>with<BatchTrace(level=1/0)> with\n  val = Array([ 2,  4,  8, 10], dtype=int32)\n  batch_dim = 0, None). To index a statically sized array at a dynamic position, try lax.dynamic_slice/dynamic_update_slice (JAX does not support dynamically sized arrays within JIT compiled functions).",
     "output_type": "error",
     "traceback": [
      "\u001b[1;31m---------------------------------------------------------------------------\u001b[0m",
      "\u001b[1;31mIndexError\u001b[0m                                Traceback (most recent call last)",
      "Cell \u001b[1;32mIn[59], line 14\u001b[0m\n\u001b[0;32m     10\u001b[0m     \u001b[38;5;28;01mreturn\u001b[39;00m A[i:j]\n\u001b[0;32m     12\u001b[0m vmap_extract \u001b[38;5;241m=\u001b[39m vmap(extract_subarrays, in_axes\u001b[38;5;241m=\u001b[39m(\u001b[38;5;28;01mNone\u001b[39;00m, \u001b[38;5;241m0\u001b[39m, \u001b[38;5;241m0\u001b[39m))\n\u001b[1;32m---> 14\u001b[0m result \u001b[38;5;241m=\u001b[39m \u001b[43mvmap_extract\u001b[49m\u001b[43m(\u001b[49m\u001b[43mA\u001b[49m\u001b[43m,\u001b[49m\u001b[43m \u001b[49m\u001b[43mind1\u001b[49m\u001b[43m,\u001b[49m\u001b[43m \u001b[49m\u001b[43mind2\u001b[49m\u001b[43m)\u001b[49m\n\u001b[0;32m     15\u001b[0m \u001b[38;5;28mprint\u001b[39m(result)\n",
      "    \u001b[1;31m[... skipping hidden 15 frame]\u001b[0m\n",
      "Cell \u001b[1;32mIn[59], line 10\u001b[0m, in \u001b[0;36mextract_subarrays\u001b[1;34m(A, i, j)\u001b[0m\n\u001b[0;32m      8\u001b[0m \u001b[38;5;129m@partial\u001b[39m(jax\u001b[38;5;241m.\u001b[39mjit, static_argnums\u001b[38;5;241m=\u001b[39m(\u001b[38;5;241m1\u001b[39m,\u001b[38;5;241m2\u001b[39m))\n\u001b[0;32m      9\u001b[0m \u001b[38;5;28;01mdef\u001b[39;00m \u001b[38;5;21mextract_subarrays\u001b[39m(A, i, j):\n\u001b[1;32m---> 10\u001b[0m     \u001b[38;5;28;01mreturn\u001b[39;00m \u001b[43mA\u001b[49m\u001b[43m[\u001b[49m\u001b[43mi\u001b[49m\u001b[43m:\u001b[49m\u001b[43mj\u001b[49m\u001b[43m]\u001b[49m\n",
      "File \u001b[1;32m~\\anaconda3\\lib\\site-packages\\jax\\_src\\numpy\\array_methods.py:728\u001b[0m, in \u001b[0;36m_forward_operator_to_aval.<locals>.op\u001b[1;34m(self, *args)\u001b[0m\n\u001b[0;32m    727\u001b[0m \u001b[38;5;28;01mdef\u001b[39;00m \u001b[38;5;21mop\u001b[39m(\u001b[38;5;28mself\u001b[39m, \u001b[38;5;241m*\u001b[39margs):\n\u001b[1;32m--> 728\u001b[0m   \u001b[38;5;28;01mreturn\u001b[39;00m \u001b[38;5;28;43mgetattr\u001b[39;49m\u001b[43m(\u001b[49m\u001b[38;5;28;43mself\u001b[39;49m\u001b[38;5;241;43m.\u001b[39;49m\u001b[43maval\u001b[49m\u001b[43m,\u001b[49m\u001b[43m \u001b[49m\u001b[38;5;124;43mf\u001b[39;49m\u001b[38;5;124;43m\"\u001b[39;49m\u001b[38;5;124;43m_\u001b[39;49m\u001b[38;5;132;43;01m{\u001b[39;49;00m\u001b[43mname\u001b[49m\u001b[38;5;132;43;01m}\u001b[39;49;00m\u001b[38;5;124;43m\"\u001b[39;49m\u001b[43m)\u001b[49m\u001b[43m(\u001b[49m\u001b[38;5;28;43mself\u001b[39;49m\u001b[43m,\u001b[49m\u001b[43m \u001b[49m\u001b[38;5;241;43m*\u001b[39;49m\u001b[43margs\u001b[49m\u001b[43m)\u001b[49m\n",
      "File \u001b[1;32m~\\anaconda3\\lib\\site-packages\\jax\\_src\\numpy\\array_methods.py:341\u001b[0m, in \u001b[0;36m_getitem\u001b[1;34m(self, item)\u001b[0m\n\u001b[0;32m    340\u001b[0m \u001b[38;5;28;01mdef\u001b[39;00m \u001b[38;5;21m_getitem\u001b[39m(\u001b[38;5;28mself\u001b[39m, item):\n\u001b[1;32m--> 341\u001b[0m   \u001b[38;5;28;01mreturn\u001b[39;00m \u001b[43mlax_numpy\u001b[49m\u001b[38;5;241;43m.\u001b[39;49m\u001b[43m_rewriting_take\u001b[49m\u001b[43m(\u001b[49m\u001b[38;5;28;43mself\u001b[39;49m\u001b[43m,\u001b[49m\u001b[43m \u001b[49m\u001b[43mitem\u001b[49m\u001b[43m)\u001b[49m\n",
      "File \u001b[1;32m~\\anaconda3\\lib\\site-packages\\jax\\_src\\numpy\\lax_numpy.py:4291\u001b[0m, in \u001b[0;36m_rewriting_take\u001b[1;34m(arr, idx, indices_are_sorted, unique_indices, mode, fill_value)\u001b[0m\n\u001b[0;32m   4288\u001b[0m       \u001b[38;5;28;01mreturn\u001b[39;00m lax\u001b[38;5;241m.\u001b[39mdynamic_index_in_dim(arr, idx, keepdims\u001b[38;5;241m=\u001b[39m\u001b[38;5;28;01mFalse\u001b[39;00m)\n\u001b[0;32m   4290\u001b[0m treedef, static_idx, dynamic_idx \u001b[38;5;241m=\u001b[39m _split_index_for_jit(idx, arr\u001b[38;5;241m.\u001b[39mshape)\n\u001b[1;32m-> 4291\u001b[0m \u001b[38;5;28;01mreturn\u001b[39;00m \u001b[43m_gather\u001b[49m\u001b[43m(\u001b[49m\u001b[43marr\u001b[49m\u001b[43m,\u001b[49m\u001b[43m \u001b[49m\u001b[43mtreedef\u001b[49m\u001b[43m,\u001b[49m\u001b[43m \u001b[49m\u001b[43mstatic_idx\u001b[49m\u001b[43m,\u001b[49m\u001b[43m \u001b[49m\u001b[43mdynamic_idx\u001b[49m\u001b[43m,\u001b[49m\u001b[43m \u001b[49m\u001b[43mindices_are_sorted\u001b[49m\u001b[43m,\u001b[49m\n\u001b[0;32m   4292\u001b[0m \u001b[43m               \u001b[49m\u001b[43munique_indices\u001b[49m\u001b[43m,\u001b[49m\u001b[43m \u001b[49m\u001b[43mmode\u001b[49m\u001b[43m,\u001b[49m\u001b[43m \u001b[49m\u001b[43mfill_value\u001b[49m\u001b[43m)\u001b[49m\n",
      "File \u001b[1;32m~\\anaconda3\\lib\\site-packages\\jax\\_src\\numpy\\lax_numpy.py:4300\u001b[0m, in \u001b[0;36m_gather\u001b[1;34m(arr, treedef, static_idx, dynamic_idx, indices_are_sorted, unique_indices, mode, fill_value)\u001b[0m\n\u001b[0;32m   4297\u001b[0m \u001b[38;5;28;01mdef\u001b[39;00m \u001b[38;5;21m_gather\u001b[39m(arr, treedef, static_idx, dynamic_idx, indices_are_sorted,\n\u001b[0;32m   4298\u001b[0m             unique_indices, mode, fill_value):\n\u001b[0;32m   4299\u001b[0m   idx \u001b[38;5;241m=\u001b[39m _merge_static_and_dynamic_indices(treedef, static_idx, dynamic_idx)\n\u001b[1;32m-> 4300\u001b[0m   indexer \u001b[38;5;241m=\u001b[39m \u001b[43m_index_to_gather\u001b[49m\u001b[43m(\u001b[49m\u001b[43mshape\u001b[49m\u001b[43m(\u001b[49m\u001b[43marr\u001b[49m\u001b[43m)\u001b[49m\u001b[43m,\u001b[49m\u001b[43m \u001b[49m\u001b[43midx\u001b[49m\u001b[43m)\u001b[49m  \u001b[38;5;66;03m# shared with _scatter_update\u001b[39;00m\n\u001b[0;32m   4301\u001b[0m   y \u001b[38;5;241m=\u001b[39m arr\n\u001b[0;32m   4303\u001b[0m   \u001b[38;5;28;01mif\u001b[39;00m fill_value \u001b[38;5;129;01mis\u001b[39;00m \u001b[38;5;129;01mnot\u001b[39;00m \u001b[38;5;28;01mNone\u001b[39;00m:\n",
      "File \u001b[1;32m~\\anaconda3\\lib\\site-packages\\jax\\_src\\numpy\\lax_numpy.py:4552\u001b[0m, in \u001b[0;36m_index_to_gather\u001b[1;34m(x_shape, idx, normalize_indices)\u001b[0m\n\u001b[0;32m   4543\u001b[0m \u001b[38;5;28;01mif\u001b[39;00m \u001b[38;5;129;01mnot\u001b[39;00m \u001b[38;5;28mall\u001b[39m(_is_slice_element_none_or_constant(elt)\n\u001b[0;32m   4544\u001b[0m            \u001b[38;5;28;01mfor\u001b[39;00m elt \u001b[38;5;129;01min\u001b[39;00m (start, stop, step)):\n\u001b[0;32m   4545\u001b[0m   msg \u001b[38;5;241m=\u001b[39m (\u001b[38;5;124m\"\u001b[39m\u001b[38;5;124mArray slice indices must have static start/stop/step to be used \u001b[39m\u001b[38;5;124m\"\u001b[39m\n\u001b[0;32m   4546\u001b[0m          \u001b[38;5;124m\"\u001b[39m\u001b[38;5;124mwith NumPy indexing syntax. \u001b[39m\u001b[38;5;124m\"\u001b[39m\n\u001b[0;32m   4547\u001b[0m          \u001b[38;5;124mf\u001b[39m\u001b[38;5;124m\"\u001b[39m\u001b[38;5;124mFound slice(\u001b[39m\u001b[38;5;132;01m{\u001b[39;00mstart\u001b[38;5;132;01m}\u001b[39;00m\u001b[38;5;124m, \u001b[39m\u001b[38;5;132;01m{\u001b[39;00mstop\u001b[38;5;132;01m}\u001b[39;00m\u001b[38;5;124m, \u001b[39m\u001b[38;5;132;01m{\u001b[39;00mstep\u001b[38;5;132;01m}\u001b[39;00m\u001b[38;5;124m). \u001b[39m\u001b[38;5;124m\"\u001b[39m\n\u001b[1;32m   (...)\u001b[0m\n\u001b[0;32m   4550\u001b[0m          \u001b[38;5;124m\"\u001b[39m\u001b[38;5;124mdynamic_update_slice (JAX does not support dynamically sized \u001b[39m\u001b[38;5;124m\"\u001b[39m\n\u001b[0;32m   4551\u001b[0m          \u001b[38;5;124m\"\u001b[39m\u001b[38;5;124marrays within JIT compiled functions).\u001b[39m\u001b[38;5;124m\"\u001b[39m)\n\u001b[1;32m-> 4552\u001b[0m   \u001b[38;5;28;01mraise\u001b[39;00m \u001b[38;5;167;01mIndexError\u001b[39;00m(msg)\n\u001b[0;32m   4553\u001b[0m \u001b[38;5;28;01mif\u001b[39;00m \u001b[38;5;129;01mnot\u001b[39;00m core\u001b[38;5;241m.\u001b[39mis_constant_dim(x_shape[x_axis]):\n\u001b[0;32m   4554\u001b[0m   msg \u001b[38;5;241m=\u001b[39m (\u001b[38;5;124m\"\u001b[39m\u001b[38;5;124mCannot use NumPy slice indexing on an array dimension whose \u001b[39m\u001b[38;5;124m\"\u001b[39m\n\u001b[0;32m   4555\u001b[0m          \u001b[38;5;124mf\u001b[39m\u001b[38;5;124m\"\u001b[39m\u001b[38;5;124msize is not statically known (\u001b[39m\u001b[38;5;132;01m{\u001b[39;00mx_shape[x_axis]\u001b[38;5;132;01m}\u001b[39;00m\u001b[38;5;124m). \u001b[39m\u001b[38;5;124m\"\u001b[39m\n\u001b[0;32m   4556\u001b[0m          \u001b[38;5;124m\"\u001b[39m\u001b[38;5;124mTry using lax.dynamic_slice/dynamic_update_slice\u001b[39m\u001b[38;5;124m\"\u001b[39m)\n",
      "\u001b[1;31mIndexError\u001b[0m: Array slice indices must have static start/stop/step to be used with NumPy indexing syntax. Found slice(Traced<ShapedArray(int32[])>with<BatchTrace(level=1/0)> with\n  val = Array([0, 2, 6, 8], dtype=int32)\n  batch_dim = 0, Traced<ShapedArray(int32[])>with<BatchTrace(level=1/0)> with\n  val = Array([ 2,  4,  8, 10], dtype=int32)\n  batch_dim = 0, None). To index a statically sized array at a dynamic position, try lax.dynamic_slice/dynamic_update_slice (JAX does not support dynamically sized arrays within JIT compiled functions)."
     ]
    }
   ],
   "source": [
    "import jax.numpy as jnp\n",
    "from jax import vmap, jit\n",
    "\n",
    "A = jnp.array([1, 2, 3, 4, 5, 6, 7, 8, 9, 10])\n",
    "ind1 = jnp.array([0, 2, 6, 8])\n",
    "ind2 = jnp.array([2, 4, 8, 10])\n",
    "\n",
    "@partial(jax.jit, static_argnums=(1,2))\n",
    "def extract_subarrays(A, i, j):\n",
    "    return A[i:j]\n",
    "\n",
    "vmap_extract = vmap(extract_subarrays, in_axes=(None, 0, 0))\n",
    "\n",
    "result = vmap_extract(A, ind1, ind2)\n",
    "print(result)"
   ]
  },
  {
   "cell_type": "code",
   "execution_count": 56,
   "id": "7f0b0152",
   "metadata": {},
   "outputs": [
    {
     "ename": "ValueError",
     "evalue": "Non-hashable static arguments are not supported. An error occurred during a call to 'compute_means' while trying to hash an object of type <class 'list'>, [0, 1]. The error was:\nTypeError: unhashable type: 'list'\n",
     "output_type": "error",
     "traceback": [
      "\u001b[1;31m---------------------------------------------------------------------------\u001b[0m",
      "\u001b[1;31mValueError\u001b[0m                                Traceback (most recent call last)",
      "Cell \u001b[1;32mIn[56], line 1\u001b[0m\n\u001b[1;32m----> 1\u001b[0m \u001b[43mcompute_means\u001b[49m\u001b[43m(\u001b[49m\u001b[43mA\u001b[49m\u001b[43m,\u001b[49m\u001b[43m \u001b[49m\u001b[43m[\u001b[49m\u001b[38;5;241;43m0\u001b[39;49m\u001b[43m,\u001b[49m\u001b[38;5;241;43m1\u001b[39;49m\u001b[43m]\u001b[49m\u001b[43m,\u001b[49m\u001b[43m \u001b[49m\u001b[43m[\u001b[49m\u001b[38;5;241;43m2\u001b[39;49m\u001b[43m,\u001b[49m\u001b[38;5;241;43m3\u001b[39;49m\u001b[43m]\u001b[49m\u001b[43m)\u001b[49m\n",
      "\u001b[1;31mValueError\u001b[0m: Non-hashable static arguments are not supported. An error occurred during a call to 'compute_means' while trying to hash an object of type <class 'list'>, [0, 1]. The error was:\nTypeError: unhashable type: 'list'\n"
     ]
    }
   ],
   "source": [
    "compute_means(A, [0,1], [2,3])"
   ]
  },
  {
   "cell_type": "code",
   "execution_count": 29,
   "id": "b41b8775",
   "metadata": {},
   "outputs": [
    {
     "ename": "ValueError",
     "evalue": "The truth value of an array with more than one element is ambiguous. Use a.any() or a.all()",
     "output_type": "error",
     "traceback": [
      "\u001b[1;31m---------------------------------------------------------------------------\u001b[0m",
      "\u001b[1;31mValueError\u001b[0m                                Traceback (most recent call last)",
      "Cell \u001b[1;32mIn[29], line 4\u001b[0m\n\u001b[0;32m      2\u001b[0m ind1 \u001b[38;5;241m=\u001b[39m jnp\u001b[38;5;241m.\u001b[39marray([\u001b[38;5;241m2\u001b[39m, \u001b[38;5;241m5\u001b[39m, \u001b[38;5;241m8\u001b[39m, \u001b[38;5;241m10\u001b[39m])\n\u001b[0;32m      3\u001b[0m ind2 \u001b[38;5;241m=\u001b[39m jnp\u001b[38;5;241m.\u001b[39marray([\u001b[38;5;241m0\u001b[39m, \u001b[38;5;241m2\u001b[39m, \u001b[38;5;241m5\u001b[39m, \u001b[38;5;241m8\u001b[39m])\n\u001b[1;32m----> 4\u001b[0m \u001b[43mA\u001b[49m\u001b[43m[\u001b[49m\u001b[43mind1\u001b[49m\u001b[43m:\u001b[49m\u001b[43mind2\u001b[49m\u001b[43m]\u001b[49m\n",
      "File \u001b[1;32m~\\anaconda3\\lib\\site-packages\\jax\\_src\\array.py:319\u001b[0m, in \u001b[0;36mArrayImpl.__getitem__\u001b[1;34m(self, idx)\u001b[0m\n\u001b[0;32m    317\u001b[0m   \u001b[38;5;28;01mreturn\u001b[39;00m lax_numpy\u001b[38;5;241m.\u001b[39m_rewriting_take(\u001b[38;5;28mself\u001b[39m, idx)\n\u001b[0;32m    318\u001b[0m \u001b[38;5;28;01melse\u001b[39;00m:\n\u001b[1;32m--> 319\u001b[0m   \u001b[38;5;28;01mreturn\u001b[39;00m \u001b[43mlax_numpy\u001b[49m\u001b[38;5;241;43m.\u001b[39;49m\u001b[43m_rewriting_take\u001b[49m\u001b[43m(\u001b[49m\u001b[38;5;28;43mself\u001b[39;49m\u001b[43m,\u001b[49m\u001b[43m \u001b[49m\u001b[43midx\u001b[49m\u001b[43m)\u001b[49m\n",
      "File \u001b[1;32m~\\anaconda3\\lib\\site-packages\\jax\\_src\\numpy\\lax_numpy.py:4291\u001b[0m, in \u001b[0;36m_rewriting_take\u001b[1;34m(arr, idx, indices_are_sorted, unique_indices, mode, fill_value)\u001b[0m\n\u001b[0;32m   4288\u001b[0m       \u001b[38;5;28;01mreturn\u001b[39;00m lax\u001b[38;5;241m.\u001b[39mdynamic_index_in_dim(arr, idx, keepdims\u001b[38;5;241m=\u001b[39m\u001b[38;5;28;01mFalse\u001b[39;00m)\n\u001b[0;32m   4290\u001b[0m treedef, static_idx, dynamic_idx \u001b[38;5;241m=\u001b[39m _split_index_for_jit(idx, arr\u001b[38;5;241m.\u001b[39mshape)\n\u001b[1;32m-> 4291\u001b[0m \u001b[38;5;28;01mreturn\u001b[39;00m \u001b[43m_gather\u001b[49m\u001b[43m(\u001b[49m\u001b[43marr\u001b[49m\u001b[43m,\u001b[49m\u001b[43m \u001b[49m\u001b[43mtreedef\u001b[49m\u001b[43m,\u001b[49m\u001b[43m \u001b[49m\u001b[43mstatic_idx\u001b[49m\u001b[43m,\u001b[49m\u001b[43m \u001b[49m\u001b[43mdynamic_idx\u001b[49m\u001b[43m,\u001b[49m\u001b[43m \u001b[49m\u001b[43mindices_are_sorted\u001b[49m\u001b[43m,\u001b[49m\n\u001b[0;32m   4292\u001b[0m \u001b[43m               \u001b[49m\u001b[43munique_indices\u001b[49m\u001b[43m,\u001b[49m\u001b[43m \u001b[49m\u001b[43mmode\u001b[49m\u001b[43m,\u001b[49m\u001b[43m \u001b[49m\u001b[43mfill_value\u001b[49m\u001b[43m)\u001b[49m\n",
      "File \u001b[1;32m~\\anaconda3\\lib\\site-packages\\jax\\_src\\numpy\\lax_numpy.py:4300\u001b[0m, in \u001b[0;36m_gather\u001b[1;34m(arr, treedef, static_idx, dynamic_idx, indices_are_sorted, unique_indices, mode, fill_value)\u001b[0m\n\u001b[0;32m   4297\u001b[0m \u001b[38;5;28;01mdef\u001b[39;00m \u001b[38;5;21m_gather\u001b[39m(arr, treedef, static_idx, dynamic_idx, indices_are_sorted,\n\u001b[0;32m   4298\u001b[0m             unique_indices, mode, fill_value):\n\u001b[0;32m   4299\u001b[0m   idx \u001b[38;5;241m=\u001b[39m _merge_static_and_dynamic_indices(treedef, static_idx, dynamic_idx)\n\u001b[1;32m-> 4300\u001b[0m   indexer \u001b[38;5;241m=\u001b[39m \u001b[43m_index_to_gather\u001b[49m\u001b[43m(\u001b[49m\u001b[43mshape\u001b[49m\u001b[43m(\u001b[49m\u001b[43marr\u001b[49m\u001b[43m)\u001b[49m\u001b[43m,\u001b[49m\u001b[43m \u001b[49m\u001b[43midx\u001b[49m\u001b[43m)\u001b[49m  \u001b[38;5;66;03m# shared with _scatter_update\u001b[39;00m\n\u001b[0;32m   4301\u001b[0m   y \u001b[38;5;241m=\u001b[39m arr\n\u001b[0;32m   4303\u001b[0m   \u001b[38;5;28;01mif\u001b[39;00m fill_value \u001b[38;5;129;01mis\u001b[39;00m \u001b[38;5;129;01mnot\u001b[39;00m \u001b[38;5;28;01mNone\u001b[39;00m:\n",
      "File \u001b[1;32m~\\anaconda3\\lib\\site-packages\\jax\\_src\\numpy\\lax_numpy.py:4520\u001b[0m, in \u001b[0;36m_index_to_gather\u001b[1;34m(x_shape, idx, normalize_indices)\u001b[0m\n\u001b[0;32m   4518\u001b[0m   step \u001b[38;5;241m=\u001b[39m \u001b[38;5;28;01mNone\u001b[39;00m\n\u001b[0;32m   4519\u001b[0m \u001b[38;5;28;01mif\u001b[39;00m step \u001b[38;5;129;01mis\u001b[39;00m \u001b[38;5;28;01mNone\u001b[39;00m:\n\u001b[1;32m-> 4520\u001b[0m   \u001b[38;5;28;01mif\u001b[39;00m start \u001b[38;5;129;01mis\u001b[39;00m \u001b[38;5;28;01mNone\u001b[39;00m \u001b[38;5;129;01mor\u001b[39;00m core\u001b[38;5;241m.\u001b[39mdefinitely_equal(start, \u001b[38;5;241m0\u001b[39m):\n\u001b[0;32m   4521\u001b[0m     start \u001b[38;5;241m=\u001b[39m \u001b[38;5;28;01mNone\u001b[39;00m\n\u001b[0;32m   4522\u001b[0m   \u001b[38;5;28;01mif\u001b[39;00m stop \u001b[38;5;129;01mis\u001b[39;00m \u001b[38;5;28;01mNone\u001b[39;00m \u001b[38;5;129;01mor\u001b[39;00m (\u001b[38;5;129;01mnot\u001b[39;00m \u001b[38;5;28misinstance\u001b[39m(stop, core\u001b[38;5;241m.\u001b[39mTracer) \u001b[38;5;129;01mand\u001b[39;00m\n\u001b[0;32m   4523\u001b[0m       stop \u001b[38;5;241m>\u001b[39m\u001b[38;5;241m=\u001b[39m x_shape[x_axis]):\n",
      "File \u001b[1;32m~\\anaconda3\\lib\\site-packages\\jax\\_src\\array.py:259\u001b[0m, in \u001b[0;36mArrayImpl.__bool__\u001b[1;34m(self)\u001b[0m\n\u001b[0;32m    258\u001b[0m \u001b[38;5;28;01mdef\u001b[39;00m \u001b[38;5;21m__bool__\u001b[39m(\u001b[38;5;28mself\u001b[39m):\n\u001b[1;32m--> 259\u001b[0m   \u001b[38;5;28;01mreturn\u001b[39;00m \u001b[38;5;28;43mbool\u001b[39;49m\u001b[43m(\u001b[49m\u001b[38;5;28;43mself\u001b[39;49m\u001b[38;5;241;43m.\u001b[39;49m\u001b[43m_value\u001b[49m\u001b[43m)\u001b[49m\n",
      "\u001b[1;31mValueError\u001b[0m: The truth value of an array with more than one element is ambiguous. Use a.any() or a.all()"
     ]
    }
   ],
   "source": [
    "A = jnp.array([1, 2, 3, 4, 5, 6, 7, 8, 9, 10])\n",
    "ind1 = jnp.array([2, 5, 8, 10])\n",
    "ind2 = jnp.array([0, 2, 5, 8])\n",
    "A[ind1:ind2]"
   ]
  },
  {
   "cell_type": "code",
   "execution_count": 153,
   "id": "f78f682e",
   "metadata": {},
   "outputs": [
    {
     "data": {
      "text/plain": [
       "Array([[1., 1., 1.],\n",
       "       [1., 1., 1.],\n",
       "       [1., 1., 1.],\n",
       "       [1., 1., 1.]], dtype=float64)"
      ]
     },
     "execution_count": 153,
     "metadata": {},
     "output_type": "execute_result"
    }
   ],
   "source": [
    "jnp.concatenate((jnp.ones((2,3)), jnp.ones((2,3))))"
   ]
  },
  {
   "cell_type": "code",
   "execution_count": 151,
   "id": "63eb7b6a",
   "metadata": {},
   "outputs": [
    {
     "data": {
      "text/plain": [
       "Array([[1., 1., 1.],\n",
       "       [1., 1., 1.]], dtype=float64)"
      ]
     },
     "execution_count": 151,
     "metadata": {},
     "output_type": "execute_result"
    }
   ],
   "source": [
    "jnp.ones((2,3))"
   ]
  },
  {
   "cell_type": "code",
   "execution_count": 3,
   "id": "90dc50e8",
   "metadata": {},
   "outputs": [
    {
     "data": {
      "text/plain": [
       "(10, 2)"
      ]
     },
     "execution_count": 3,
     "metadata": {},
     "output_type": "execute_result"
    }
   ],
   "source": [
    "import jax\n",
    "import jax.numpy as jnp\n",
    "\n",
    "jnp.stack([jnp.zeros(10),jnp.zeros(10)], axis=1).shape"
   ]
  },
  {
   "cell_type": "code",
   "execution_count": 6,
   "id": "a9b5db23",
   "metadata": {},
   "outputs": [
    {
     "data": {
      "text/plain": [
       "(3, 3)"
      ]
     },
     "execution_count": 6,
     "metadata": {},
     "output_type": "execute_result"
    }
   ],
   "source": [
    "jnp.repeat(jnp.expand_dims(jnp.zeros(3), axis =0), 3, axis=0).shape"
   ]
  },
  {
   "cell_type": "code",
   "execution_count": null,
   "id": "df03d826",
   "metadata": {},
   "outputs": [],
   "source": []
  }
 ],
 "metadata": {
  "kernelspec": {
   "display_name": "Python 3 (ipykernel)",
   "language": "python",
   "name": "python3"
  },
  "language_info": {
   "codemirror_mode": {
    "name": "ipython",
    "version": 3
   },
   "file_extension": ".py",
   "mimetype": "text/x-python",
   "name": "python",
   "nbconvert_exporter": "python",
   "pygments_lexer": "ipython3",
   "version": "3.10.9"
  }
 },
 "nbformat": 4,
 "nbformat_minor": 5
}
