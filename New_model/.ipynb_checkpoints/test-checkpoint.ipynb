{
 "cells": [
  {
   "cell_type": "code",
   "execution_count": 1,
   "id": "a861ccb0",
   "metadata": {},
   "outputs": [
    {
     "name": "stderr",
     "output_type": "stream",
     "text": [
      "No GPU/TPU found, falling back to CPU. (Set TF_CPP_MIN_LOG_LEVEL=0 and rerun for more info.)\n",
      "usage: ipykernel_launcher.py [-h] [--L L] [--numunits NUMUNITS] [--lr LR]\n",
      "                             [--J1 J1] [--J2 J2] [--J3 J3]\n",
      "                             [--lrthreshold LRTHRESHOLD]\n",
      "                             [--lrdecaytime LRDECAYTIME]\n",
      "                             [--mag_fixed MAG_FIXED] [--Sz SZ]\n",
      "                             [--spinparity_fixed SPINPARITY_FIXED]\n",
      "                             [--spinparity_value SPINPARITY_VALUE]\n",
      "                             [--gradient_clip GRADIENT_CLIP]\n",
      "                             [--gradient_clipvalue GRADIENT_CLIPVALUE]\n",
      "                             [--dotraining DOTRAINING] [--T0 T0]\n",
      "                             [--Nwarmup NWARMUP] [--Nannealing NANNEALING]\n",
      "                             [--Ntrain NTRAIN] [--Nconvergence NCONVERGENCE]\n",
      "                             [--numsamples NUMSAMPLES]\n",
      "                             [--testing_sample TESTING_SAMPLE]\n",
      "                             [--lrthreshold_convergence LRTHRESHOLD_CONVERGENCE]\n",
      "                             [--lrdecaytime_convergence LRDECAYTIME_CONVERGENCE]\n",
      "                             [--seed SEED] [--rnn_type RNN_TYPE]\n",
      "ipykernel_launcher.py: error: unrecognized arguments: -f C:\\Users\\Administrator\\AppData\\Roaming\\jupyter\\runtime\\kernel-4055e1b3-3ed0-420b-87f9-d8cc632a6825.json\n"
     ]
    },
    {
     "ename": "SystemExit",
     "evalue": "2",
     "output_type": "error",
     "traceback": [
      "An exception has occurred, use %tb to see the full traceback.\n",
      "\u001b[1;31mSystemExit\u001b[0m\u001b[1;31m:\u001b[0m 2\n"
     ]
    },
    {
     "name": "stderr",
     "output_type": "stream",
     "text": [
      "C:\\Users\\Administrator\\anaconda3\\lib\\site-packages\\IPython\\core\\interactiveshell.py:3468: UserWarning: To exit: use 'exit', 'quit', or Ctrl-D.\n",
      "  warn(\"To exit: use 'exit', 'quit', or Ctrl-D.\", stacklevel=1)\n"
     ]
    }
   ],
   "source": [
    "import Running"
   ]
  },
  {
   "cell_type": "code",
   "execution_count": null,
   "id": "b9d9c804",
   "metadata": {},
   "outputs": [],
   "source": [
    "%timeit jax.lax.stop_gradient(Get_Elocs(J1,J2,J3, Nx, Ny, samples, params, fixed_params)).block_until_ready()"
   ]
  }
 ],
 "metadata": {
  "kernelspec": {
   "display_name": "Python 3 (ipykernel)",
   "language": "python",
   "name": "python3"
  },
  "language_info": {
   "codemirror_mode": {
    "name": "ipython",
    "version": 3
   },
   "file_extension": ".py",
   "mimetype": "text/x-python",
   "name": "python",
   "nbconvert_exporter": "python",
   "pygments_lexer": "ipython3",
   "version": "3.10.9"
  }
 },
 "nbformat": 4,
 "nbformat_minor": 5
}
