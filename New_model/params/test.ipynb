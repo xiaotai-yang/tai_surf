{
 "cells": [
  {
   "cell_type": "code",
   "execution_count": 1,
   "metadata": {
    "collapsed": true,
    "ExecuteTime": {
     "end_time": "2023-11-03T02:30:25.490302900Z",
     "start_time": "2023-11-03T02:30:24.528484400Z"
    }
   },
   "outputs": [],
   "source": [
    "import jax\n",
    "import pickle\n",
    "with open('params_L10.pkl', 'rb') as file:\n",
    "    loaded_params = pickle.load(file)"
   ]
  },
  {
   "cell_type": "code",
   "execution_count": 5,
   "outputs": [
    {
     "name": "stdout",
     "output_type": "stream",
     "text": [
      "(10, 10, 64, 132)\n",
      "(10, 10, 64)\n",
      "(10, 10, 64, 132)\n",
      "(10, 10, 64)\n",
      "(10, 10, 64, 132)\n",
      "(10, 10, 64)\n",
      "(10, 10, 64, 128)\n",
      "(10, 10, 64)\n",
      "(10, 10, 64, 4)\n",
      "(10, 10, 64)\n",
      "(10, 10, 2, 64)\n",
      "(10, 10, 2)\n",
      "(10, 10, 2, 64)\n",
      "(10, 10, 2)\n"
     ]
    }
   ],
   "source": [
    "for i in loaded_params:\n",
    "    print(i.shape)"
   ],
   "metadata": {
    "collapsed": false,
    "ExecuteTime": {
     "end_time": "2023-11-03T02:31:00.763834400Z",
     "start_time": "2023-11-03T02:31:00.747948800Z"
    }
   }
  },
  {
   "cell_type": "code",
   "execution_count": null,
   "outputs": [],
   "source": [],
   "metadata": {
    "collapsed": false
   }
  }
 ],
 "metadata": {
  "kernelspec": {
   "display_name": "Python 3",
   "language": "python",
   "name": "python3"
  },
  "language_info": {
   "codemirror_mode": {
    "name": "ipython",
    "version": 2
   },
   "file_extension": ".py",
   "mimetype": "text/x-python",
   "name": "python",
   "nbconvert_exporter": "python",
   "pygments_lexer": "ipython2",
   "version": "2.7.6"
  }
 },
 "nbformat": 4,
 "nbformat_minor": 0
}
