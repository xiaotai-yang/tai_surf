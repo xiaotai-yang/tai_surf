{
 "cells": [
  {
   "cell_type": "code",
   "execution_count": 1,
   "id": "c1079bbd",
   "metadata": {},
   "outputs": [
    {
     "name": "stdout",
     "output_type": "stream",
     "text": [
      "repeat_time: 0.4806060791015625\n",
      "in_place_time: 0.03299975395202637\n",
      "matrixelement_t: 4.802164316177368\n",
      "calculation_t: 1.4358296394348145\n",
      "total_t: 7.752635955810547\n",
      "learning_rate = 0.0005\n",
      "Magnetization = 0.0\n",
      "mean(E): (-28.603303909301758-0.07571999728679657j), varE: 150.47775268554688, meanF: (-28.603303909301758-0.07571999728679657j), varF: 150.47775268554688, #samples 128, #Step 1 \n",
      "\n",
      "\n",
      "grad_time: 4.299529790878296\n",
      "repeat_time: 0.29901909828186035\n",
      "in_place_time: 0.034102439880371094\n",
      "matrixelement_t: 2.6519711017608643\n",
      "calculation_t: 0.40782761573791504\n",
      "total_t: 3.2309107780456543\n",
      "Temperature =  0.0\n",
      "learning_rate = 0.0005\n",
      "Magnetization = 0.0\n",
      "mean(E): (-30.748153686523438-0.024274364113807678j), varE: 149.49444580078125, meanF: (-30.748153686523438-0.024274364113807678j), varF: 149.49444580078125, #samples 128, #Step 2 \n",
      "\n",
      "\n",
      "grad_time: 0.03331899642944336\n",
      "repeat_time: 0.25586390495300293\n",
      "in_place_time: 0.03444218635559082\n",
      "matrixelement_t: 2.7700181007385254\n",
      "calculation_t: 0.4623434543609619\n",
      "total_t: 3.4065756797790527\n",
      "learning_rate = 0.0005\n",
      "Magnetization = 0.0\n",
      "mean(E): (-31.959457397460938-0.04649330675601959j), varE: 147.890625, meanF: (-31.959457397460938-0.04649330675601959j), varF: 147.890625, #samples 128, #Step 3 \n",
      "\n",
      "\n",
      "grad_time: 0.033187150955200195\n",
      "repeat_time: 0.2635509967803955\n",
      "in_place_time: 0.035121917724609375\n",
      "matrixelement_t: 2.7785756587982178\n",
      "calculation_t: 0.41031718254089355\n",
      "total_t: 3.3643741607666016\n",
      "Temperature =  0.0\n",
      "learning_rate = 0.0005\n",
      "Magnetization = 0.0\n",
      "mean(E): (-33.060699462890625-0.002611197531223297j), varE: 156.81886291503906, meanF: (-33.060699462890625-0.002611197531223297j), varF: 156.81886291503906, #samples 128, #Step 4 \n",
      "\n",
      "\n",
      "grad_time: 0.03307604789733887\n"
     ]
    }
   ],
   "source": [
    "import sys\n",
    "\n",
    "# Remove -f and its associated value from sys.argv\n",
    "if '-f' in sys.argv:\n",
    "    f_index = sys.argv.index('-f')\n",
    "    sys.argv.pop(f_index)  # Remove '-f'\n",
    "    sys.argv.pop(f_index)  # Remove the value associated with '-f'\n",
    "\n",
    "# Rest of your code\n",
    "\n",
    "import Running\n",
    "i"
   ]
  },
  {
   "cell_type": "code",
   "execution_count": 2,
   "id": "b640c77e",
   "metadata": {},
   "outputs": [
    {
     "ename": "AttributeError",
     "evalue": "'tuple' object has no attribute 'block_until_ready'",
     "output_type": "error",
     "traceback": [
      "\u001b[1;31m---------------------------------------------------------------------------\u001b[0m",
      "\u001b[1;31mAttributeError\u001b[0m                            Traceback (most recent call last)",
      "Cell \u001b[1;32mIn[2], line 4\u001b[0m\n\u001b[0;32m      2\u001b[0m \u001b[38;5;28;01mfrom\u001b[39;00m \u001b[38;5;21;01mRunning\u001b[39;00m \u001b[38;5;28;01mimport\u001b[39;00m \u001b[38;5;241m*\u001b[39m\n\u001b[0;32m      3\u001b[0m \u001b[38;5;28;01mfrom\u001b[39;00m \u001b[38;5;21;01mHelperfunction\u001b[39;00m \u001b[38;5;28;01mimport\u001b[39;00m \u001b[38;5;241m*\u001b[39m\n\u001b[1;32m----> 4\u001b[0m \u001b[43mget_ipython\u001b[49m\u001b[43m(\u001b[49m\u001b[43m)\u001b[49m\u001b[38;5;241;43m.\u001b[39;49m\u001b[43mrun_line_magic\u001b[49m\u001b[43m(\u001b[49m\u001b[38;5;124;43m'\u001b[39;49m\u001b[38;5;124;43mtimeit\u001b[39;49m\u001b[38;5;124;43m'\u001b[39;49m\u001b[43m,\u001b[49m\u001b[43m \u001b[49m\u001b[38;5;124;43m'\u001b[39;49m\u001b[38;5;124;43mgrad_f(params, fixed_params, samples, Eloc, T).block_until_ready()\u001b[39;49m\u001b[38;5;124;43m'\u001b[39;49m\u001b[43m)\u001b[49m\n",
      "File \u001b[1;32m~\\anaconda3\\lib\\site-packages\\IPython\\core\\interactiveshell.py:2369\u001b[0m, in \u001b[0;36mInteractiveShell.run_line_magic\u001b[1;34m(self, magic_name, line, _stack_depth)\u001b[0m\n\u001b[0;32m   2367\u001b[0m     kwargs[\u001b[38;5;124m'\u001b[39m\u001b[38;5;124mlocal_ns\u001b[39m\u001b[38;5;124m'\u001b[39m] \u001b[38;5;241m=\u001b[39m \u001b[38;5;28mself\u001b[39m\u001b[38;5;241m.\u001b[39mget_local_scope(stack_depth)\n\u001b[0;32m   2368\u001b[0m \u001b[38;5;28;01mwith\u001b[39;00m \u001b[38;5;28mself\u001b[39m\u001b[38;5;241m.\u001b[39mbuiltin_trap:\n\u001b[1;32m-> 2369\u001b[0m     result \u001b[38;5;241m=\u001b[39m fn(\u001b[38;5;241m*\u001b[39margs, \u001b[38;5;241m*\u001b[39m\u001b[38;5;241m*\u001b[39mkwargs)\n\u001b[0;32m   2371\u001b[0m \u001b[38;5;66;03m# The code below prevents the output from being displayed\u001b[39;00m\n\u001b[0;32m   2372\u001b[0m \u001b[38;5;66;03m# when using magics with decodator @output_can_be_silenced\u001b[39;00m\n\u001b[0;32m   2373\u001b[0m \u001b[38;5;66;03m# when the last Python token in the expression is a ';'.\u001b[39;00m\n\u001b[0;32m   2374\u001b[0m \u001b[38;5;28;01mif\u001b[39;00m \u001b[38;5;28mgetattr\u001b[39m(fn, magic\u001b[38;5;241m.\u001b[39mMAGIC_OUTPUT_CAN_BE_SILENCED, \u001b[38;5;28;01mFalse\u001b[39;00m):\n",
      "File \u001b[1;32m~\\anaconda3\\lib\\site-packages\\IPython\\core\\magics\\execution.py:1163\u001b[0m, in \u001b[0;36mExecutionMagics.timeit\u001b[1;34m(self, line, cell, local_ns)\u001b[0m\n\u001b[0;32m   1161\u001b[0m \u001b[38;5;28;01mfor\u001b[39;00m index \u001b[38;5;129;01min\u001b[39;00m \u001b[38;5;28mrange\u001b[39m(\u001b[38;5;241m0\u001b[39m, \u001b[38;5;241m10\u001b[39m):\n\u001b[0;32m   1162\u001b[0m     number \u001b[38;5;241m=\u001b[39m \u001b[38;5;241m10\u001b[39m \u001b[38;5;241m*\u001b[39m\u001b[38;5;241m*\u001b[39m index\n\u001b[1;32m-> 1163\u001b[0m     time_number \u001b[38;5;241m=\u001b[39m \u001b[43mtimer\u001b[49m\u001b[38;5;241;43m.\u001b[39;49m\u001b[43mtimeit\u001b[49m\u001b[43m(\u001b[49m\u001b[43mnumber\u001b[49m\u001b[43m)\u001b[49m\n\u001b[0;32m   1164\u001b[0m     \u001b[38;5;28;01mif\u001b[39;00m time_number \u001b[38;5;241m>\u001b[39m\u001b[38;5;241m=\u001b[39m \u001b[38;5;241m0.2\u001b[39m:\n\u001b[0;32m   1165\u001b[0m         \u001b[38;5;28;01mbreak\u001b[39;00m\n",
      "File \u001b[1;32m~\\anaconda3\\lib\\site-packages\\IPython\\core\\magics\\execution.py:157\u001b[0m, in \u001b[0;36mTimer.timeit\u001b[1;34m(self, number)\u001b[0m\n\u001b[0;32m    155\u001b[0m gc\u001b[38;5;241m.\u001b[39mdisable()\n\u001b[0;32m    156\u001b[0m \u001b[38;5;28;01mtry\u001b[39;00m:\n\u001b[1;32m--> 157\u001b[0m     timing \u001b[38;5;241m=\u001b[39m \u001b[38;5;28;43mself\u001b[39;49m\u001b[38;5;241;43m.\u001b[39;49m\u001b[43minner\u001b[49m\u001b[43m(\u001b[49m\u001b[43mit\u001b[49m\u001b[43m,\u001b[49m\u001b[43m \u001b[49m\u001b[38;5;28;43mself\u001b[39;49m\u001b[38;5;241;43m.\u001b[39;49m\u001b[43mtimer\u001b[49m\u001b[43m)\u001b[49m\n\u001b[0;32m    158\u001b[0m \u001b[38;5;28;01mfinally\u001b[39;00m:\n\u001b[0;32m    159\u001b[0m     \u001b[38;5;28;01mif\u001b[39;00m gcold:\n",
      "File \u001b[1;32m<magic-timeit>:1\u001b[0m, in \u001b[0;36minner\u001b[1;34m(_it, _timer)\u001b[0m\n",
      "\u001b[1;31mAttributeError\u001b[0m: 'tuple' object has no attribute 'block_until_ready'"
     ]
    }
   ],
   "source": [
    "import jax\n",
    "from Running import *\n",
    "from Helperfunction import *\n",
    "%timeit grad_f(params, fixed_params, samples, Eloc, T).block_until_ready()"
   ]
  },
  {
   "cell_type": "code",
   "execution_count": 5,
   "id": "d7de872d",
   "metadata": {},
   "outputs": [
    {
     "name": "stdout",
     "output_type": "stream",
     "text": [
      "22.7 ns ± 0.289 ns per loop (mean ± std. dev. of 7 runs, 10,000,000 loops each)\n"
     ]
    }
   ],
   "source": [
    "def wrapper():\n",
    "    results = J1J2J3_MatrixElements(samples, J1, J2, J3, Nx, Ny, params,sample_amp)\n",
    "    if isinstance(results, tuple):\n",
    "        _ = [result.block_until_ready() for result in results]\n",
    "    else:\n",
    "        results.block_until_ready()\n",
    "%timeit wrapper"
   ]
  },
  {
   "cell_type": "code",
   "execution_count": 6,
   "id": "58ca4b0c",
   "metadata": {},
   "outputs": [
    {
     "name": "stdout",
     "output_type": "stream",
     "text": [
      "repeat_time: 0.0037860870361328125\n"
     ]
    },
    {
     "data": {
      "text/plain": [
       "0.08096551895141602"
      ]
     },
     "execution_count": 6,
     "metadata": {},
     "output_type": "execute_result"
    }
   ],
   "source": [
    "t = time.time()\n",
    "results = J1J2J3_MatrixElements(samples, J1, J2, J3, Nx, Ny, params,sample_amp)\n",
    "time.time()-t"
   ]
  },
  {
   "cell_type": "code",
   "execution_count": 8,
   "id": "2dfa9061",
   "metadata": {},
   "outputs": [
    {
     "data": {
      "text/plain": [
       "Array([[1, 2, 1, 2, 1, 2],\n",
       "       [1, 2, 1, 2, 1, 2]], dtype=int32)"
      ]
     },
     "execution_count": 8,
     "metadata": {},
     "output_type": "execute_result"
    }
   ],
   "source": [
    "jnp.tile(jnp.array([1,2]), jnp.array([2,3]))"
   ]
  },
  {
   "cell_type": "code",
   "execution_count": 9,
   "id": "af8cb0e0",
   "metadata": {},
   "outputs": [
    {
     "data": {
      "text/plain": [
       "Array([0., 0., 0., 0., 0.], dtype=float32)"
      ]
     },
     "execution_count": 9,
     "metadata": {},
     "output_type": "execute_result"
    }
   ],
   "source": [
    "jnp.array(np.zeros(5))"
   ]
  },
  {
   "cell_type": "code",
   "execution_count": 2,
   "id": "aace2077",
   "metadata": {},
   "outputs": [],
   "source": [
    "import optax\n",
    "warmup_cosine_decay_scheduler = optax.warmup_cosine_decay_schedule(init_value=0.0001, peak_value=0.001,\n",
    "                                                                   warmup_steps=100,\n",
    "                                                                   decay_steps=1000, end_value=0.00001)\n",
    "optimizer = optax.adamw(learning_rate=warmup_cosine_decay_scheduler)"
   ]
  },
  {
   "cell_type": "code",
   "execution_count": 7,
   "id": "9a7480c7",
   "metadata": {},
   "outputs": [
    {
     "name": "stdout",
     "output_type": "stream",
     "text": [
      "0.0001360001\n"
     ]
    }
   ],
   "source": [
    "print(warmup_cosine_decay_scheduler(4))"
   ]
  },
  {
   "cell_type": "code",
   "execution_count": 9,
   "id": "dab79a05",
   "metadata": {},
   "outputs": [
    {
     "data": {
      "text/plain": [
       "array([], dtype=float64)"
      ]
     },
     "execution_count": 9,
     "metadata": {},
     "output_type": "execute_result"
    }
   ],
   "source": [
    "import numpy as np\n",
    "np.zeros(0)"
   ]
  },
  {
   "cell_type": "code",
   "execution_count": null,
   "id": "0c40a43d",
   "metadata": {},
   "outputs": [],
   "source": []
  }
 ],
 "metadata": {
  "kernelspec": {
   "display_name": "Python 3 (ipykernel)",
   "language": "python",
   "name": "python3"
  },
  "language_info": {
   "codemirror_mode": {
    "name": "ipython",
    "version": 3
   },
   "file_extension": ".py",
   "mimetype": "text/x-python",
   "name": "python",
   "nbconvert_exporter": "python",
   "pygments_lexer": "ipython3",
   "version": "3.10.9"
  }
 },
 "nbformat": 4,
 "nbformat_minor": 5
}
