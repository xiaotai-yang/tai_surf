{
 "cells": [
  {
   "cell_type": "code",
   "execution_count": 1,
   "id": "c1079bbd",
   "metadata": {},
   "outputs": [
    {
     "name": "stdout",
     "output_type": "stream",
     "text": [
      "repeat_time: 0.4453744888305664\n",
      "Eloc_t: 0.029999971389770508\n",
      "learning_rate = 0.0005\n",
      "Magnetization = 0.0\n",
      "mean(E): (-28.28955078125-0.3277186453342438j), varE: 142.76849365234375, meanF: (-28.28955078125-0.3277186453342438j), varF: 142.76849365234375, #samples 64, #Step 1 \n",
      "\n",
      "\n",
      "grad_time: 4.239964246749878\n",
      "repeat_time: 0.24409127235412598\n",
      "Eloc_t: 0.0\n",
      "Temperature =  0.0\n",
      "learning_rate = 0.0005\n",
      "Magnetization = 0.0\n",
      "mean(E): (-29.71847915649414-0.3621041476726532j), varE: 129.6810760498047, meanF: (-29.71847915649414-0.3621041476726532j), varF: 129.6810760498047, #samples 64, #Step 2 \n",
      "\n",
      "\n",
      "grad_time: 0.01999974250793457\n",
      "repeat_time: 0.2428743839263916\n",
      "Eloc_t: 0.0\n",
      "learning_rate = 0.0005\n",
      "Magnetization = 0.0\n",
      "mean(E): (-30.844345092773438-0.3848680853843689j), varE: 123.86844635009766, meanF: (-30.844345092773438-0.3848680853843689j), varF: 123.86844635009766, #samples 64, #Step 3 \n",
      "\n",
      "\n",
      "grad_time: 0.01900005340576172\n",
      "repeat_time: 0.24806833267211914\n",
      "Eloc_t: 0.0\n",
      "Temperature =  0.0\n",
      "learning_rate = 0.0005\n",
      "Magnetization = 0.0\n",
      "mean(E): (-31.963937759399414-0.2575896382331848j), varE: 125.85242462158203, meanF: (-31.963937759399414-0.2575896382331848j), varF: 125.85242462158203, #samples 64, #Step 4 \n",
      "\n",
      "\n",
      "grad_time: 0.022564172744750977\n",
      "repeat_time: 0.25234317779541016\n",
      "Eloc_t: 0.0\n",
      "learning_rate = 0.0005\n",
      "Magnetization = 0.0\n",
      "mean(E): (-33.58606719970703-0.26026633381843567j), varE: 134.69140625, meanF: (-33.58606719970703-0.26026633381843567j), varF: 134.69140625, #samples 64, #Step 5 \n",
      "\n",
      "\n",
      "grad_time: 0.019067764282226562\n"
     ]
    }
   ],
   "source": [
    "import sys\n",
    "\n",
    "# Remove -f and its associated value from sys.argv\n",
    "if '-f' in sys.argv:\n",
    "    f_index = sys.argv.index('-f')\n",
    "    sys.argv.pop(f_index)  # Remove '-f'\n",
    "    sys.argv.pop(f_index)  # Remove the value associated with '-f'\n",
    "\n",
    "# Rest of your code\n",
    "\n",
    "import Running\n"
   ]
  },
  {
   "cell_type": "code",
   "execution_count": 2,
   "id": "b640c77e",
   "metadata": {},
   "outputs": [
    {
     "name": "stdout",
     "output_type": "stream",
     "text": [
      "repeat_time: 0.0035734176635742188\n"
     ]
    },
    {
     "ename": "AttributeError",
     "evalue": "'tuple' object has no attribute 'block_until_ready'",
     "output_type": "error",
     "traceback": [
      "\u001b[1;31m---------------------------------------------------------------------------\u001b[0m",
      "\u001b[1;31mAttributeError\u001b[0m                            Traceback (most recent call last)",
      "Cell \u001b[1;32mIn[2], line 4\u001b[0m\n\u001b[0;32m      2\u001b[0m \u001b[38;5;28;01mfrom\u001b[39;00m \u001b[38;5;21;01mRunning\u001b[39;00m \u001b[38;5;28;01mimport\u001b[39;00m \u001b[38;5;241m*\u001b[39m\n\u001b[0;32m      3\u001b[0m \u001b[38;5;28;01mfrom\u001b[39;00m \u001b[38;5;21;01mHelperfunction\u001b[39;00m \u001b[38;5;28;01mimport\u001b[39;00m \u001b[38;5;241m*\u001b[39m\n\u001b[1;32m----> 4\u001b[0m \u001b[43mget_ipython\u001b[49m\u001b[43m(\u001b[49m\u001b[43m)\u001b[49m\u001b[38;5;241;43m.\u001b[39;49m\u001b[43mrun_line_magic\u001b[49m\u001b[43m(\u001b[49m\u001b[38;5;124;43m'\u001b[39;49m\u001b[38;5;124;43mtimeit\u001b[39;49m\u001b[38;5;124;43m'\u001b[39;49m\u001b[43m,\u001b[49m\u001b[43m \u001b[49m\u001b[38;5;124;43m'\u001b[39;49m\u001b[38;5;124;43mJ1J2J3_MatrixElements(samples, J1, J2, J3, Nx, Ny, params,sample_amp).block_until_ready()\u001b[39;49m\u001b[38;5;124;43m'\u001b[39;49m\u001b[43m)\u001b[49m\n",
      "File \u001b[1;32m~\\anaconda3\\lib\\site-packages\\IPython\\core\\interactiveshell.py:2369\u001b[0m, in \u001b[0;36mInteractiveShell.run_line_magic\u001b[1;34m(self, magic_name, line, _stack_depth)\u001b[0m\n\u001b[0;32m   2367\u001b[0m     kwargs[\u001b[38;5;124m'\u001b[39m\u001b[38;5;124mlocal_ns\u001b[39m\u001b[38;5;124m'\u001b[39m] \u001b[38;5;241m=\u001b[39m \u001b[38;5;28mself\u001b[39m\u001b[38;5;241m.\u001b[39mget_local_scope(stack_depth)\n\u001b[0;32m   2368\u001b[0m \u001b[38;5;28;01mwith\u001b[39;00m \u001b[38;5;28mself\u001b[39m\u001b[38;5;241m.\u001b[39mbuiltin_trap:\n\u001b[1;32m-> 2369\u001b[0m     result \u001b[38;5;241m=\u001b[39m fn(\u001b[38;5;241m*\u001b[39margs, \u001b[38;5;241m*\u001b[39m\u001b[38;5;241m*\u001b[39mkwargs)\n\u001b[0;32m   2371\u001b[0m \u001b[38;5;66;03m# The code below prevents the output from being displayed\u001b[39;00m\n\u001b[0;32m   2372\u001b[0m \u001b[38;5;66;03m# when using magics with decodator @output_can_be_silenced\u001b[39;00m\n\u001b[0;32m   2373\u001b[0m \u001b[38;5;66;03m# when the last Python token in the expression is a ';'.\u001b[39;00m\n\u001b[0;32m   2374\u001b[0m \u001b[38;5;28;01mif\u001b[39;00m \u001b[38;5;28mgetattr\u001b[39m(fn, magic\u001b[38;5;241m.\u001b[39mMAGIC_OUTPUT_CAN_BE_SILENCED, \u001b[38;5;28;01mFalse\u001b[39;00m):\n",
      "File \u001b[1;32m~\\anaconda3\\lib\\site-packages\\IPython\\core\\magics\\execution.py:1163\u001b[0m, in \u001b[0;36mExecutionMagics.timeit\u001b[1;34m(self, line, cell, local_ns)\u001b[0m\n\u001b[0;32m   1161\u001b[0m \u001b[38;5;28;01mfor\u001b[39;00m index \u001b[38;5;129;01min\u001b[39;00m \u001b[38;5;28mrange\u001b[39m(\u001b[38;5;241m0\u001b[39m, \u001b[38;5;241m10\u001b[39m):\n\u001b[0;32m   1162\u001b[0m     number \u001b[38;5;241m=\u001b[39m \u001b[38;5;241m10\u001b[39m \u001b[38;5;241m*\u001b[39m\u001b[38;5;241m*\u001b[39m index\n\u001b[1;32m-> 1163\u001b[0m     time_number \u001b[38;5;241m=\u001b[39m \u001b[43mtimer\u001b[49m\u001b[38;5;241;43m.\u001b[39;49m\u001b[43mtimeit\u001b[49m\u001b[43m(\u001b[49m\u001b[43mnumber\u001b[49m\u001b[43m)\u001b[49m\n\u001b[0;32m   1164\u001b[0m     \u001b[38;5;28;01mif\u001b[39;00m time_number \u001b[38;5;241m>\u001b[39m\u001b[38;5;241m=\u001b[39m \u001b[38;5;241m0.2\u001b[39m:\n\u001b[0;32m   1165\u001b[0m         \u001b[38;5;28;01mbreak\u001b[39;00m\n",
      "File \u001b[1;32m~\\anaconda3\\lib\\site-packages\\IPython\\core\\magics\\execution.py:157\u001b[0m, in \u001b[0;36mTimer.timeit\u001b[1;34m(self, number)\u001b[0m\n\u001b[0;32m    155\u001b[0m gc\u001b[38;5;241m.\u001b[39mdisable()\n\u001b[0;32m    156\u001b[0m \u001b[38;5;28;01mtry\u001b[39;00m:\n\u001b[1;32m--> 157\u001b[0m     timing \u001b[38;5;241m=\u001b[39m \u001b[38;5;28;43mself\u001b[39;49m\u001b[38;5;241;43m.\u001b[39;49m\u001b[43minner\u001b[49m\u001b[43m(\u001b[49m\u001b[43mit\u001b[49m\u001b[43m,\u001b[49m\u001b[43m \u001b[49m\u001b[38;5;28;43mself\u001b[39;49m\u001b[38;5;241;43m.\u001b[39;49m\u001b[43mtimer\u001b[49m\u001b[43m)\u001b[49m\n\u001b[0;32m    158\u001b[0m \u001b[38;5;28;01mfinally\u001b[39;00m:\n\u001b[0;32m    159\u001b[0m     \u001b[38;5;28;01mif\u001b[39;00m gcold:\n",
      "File \u001b[1;32m<magic-timeit>:1\u001b[0m, in \u001b[0;36minner\u001b[1;34m(_it, _timer)\u001b[0m\n",
      "\u001b[1;31mAttributeError\u001b[0m: 'tuple' object has no attribute 'block_until_ready'"
     ]
    }
   ],
   "source": [
    "import jax\n",
    "from Running import *\n",
    "from Helperfunction import *\n",
    "%timeit J1J2J3_MatrixElements(samples, J1, J2, J3, Nx, Ny, params,sample_amp).block_until_ready()"
   ]
  },
  {
   "cell_type": "code",
   "execution_count": 5,
   "id": "d7de872d",
   "metadata": {},
   "outputs": [
    {
     "name": "stdout",
     "output_type": "stream",
     "text": [
      "22.7 ns ± 0.289 ns per loop (mean ± std. dev. of 7 runs, 10,000,000 loops each)\n"
     ]
    }
   ],
   "source": [
    "def wrapper():\n",
    "    results = J1J2J3_MatrixElements(samples, J1, J2, J3, Nx, Ny, params,sample_amp)\n",
    "    if isinstance(results, tuple):\n",
    "        _ = [result.block_until_ready() for result in results]\n",
    "    else:\n",
    "        results.block_until_ready()\n",
    "%timeit wrapper"
   ]
  },
  {
   "cell_type": "code",
   "execution_count": 6,
   "id": "58ca4b0c",
   "metadata": {},
   "outputs": [
    {
     "name": "stdout",
     "output_type": "stream",
     "text": [
      "repeat_time: 0.0037860870361328125\n"
     ]
    },
    {
     "data": {
      "text/plain": [
       "0.08096551895141602"
      ]
     },
     "execution_count": 6,
     "metadata": {},
     "output_type": "execute_result"
    }
   ],
   "source": [
    "t = time.time()\n",
    "results = J1J2J3_MatrixElements(samples, J1, J2, J3, Nx, Ny, params,sample_amp)\n",
    "time.time()-t"
   ]
  },
  {
   "cell_type": "code",
   "execution_count": null,
   "id": "2dfa9061",
   "metadata": {},
   "outputs": [],
   "source": []
  }
 ],
 "metadata": {
  "kernelspec": {
   "display_name": "Python 3 (ipykernel)",
   "language": "python",
   "name": "python3"
  },
  "language_info": {
   "codemirror_mode": {
    "name": "ipython",
    "version": 3
   },
   "file_extension": ".py",
   "mimetype": "text/x-python",
   "name": "python",
   "nbconvert_exporter": "python",
   "pygments_lexer": "ipython3",
   "version": "3.10.9"
  }
 },
 "nbformat": 4,
 "nbformat_minor": 5
}
