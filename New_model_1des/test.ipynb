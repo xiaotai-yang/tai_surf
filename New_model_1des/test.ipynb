{
 "cells": [
  {
   "cell_type": "code",
   "execution_count": 2,
   "metadata": {
    "collapsed": true,
    "ExecuteTime": {
     "end_time": "2023-12-30T15:09:19.224153200Z",
     "start_time": "2023-12-30T15:09:17.182927900Z"
    }
   },
   "outputs": [],
   "source": [
    "import jax.numpy as jnp\n",
    "\n",
    "N = 10  # Assuming some value for N\n",
    "# Create a range of values from 0 to N-3\n",
    "i_values = jnp.arange(N-3)[:, None]  # Reshape to use broadcasting\n",
    "# Create the loc_array_bulk using broadcasting\n",
    "loc_array_bulk = i_values + jnp.array([0, 1, 2])\n"
   ]
  },
  {
   "cell_type": "code",
   "execution_count": 5,
   "outputs": [
    {
     "data": {
      "text/plain": "Array([False, False,  True], dtype=bool)"
     },
     "execution_count": 5,
     "metadata": {},
     "output_type": "execute_result"
    }
   ],
   "source": [
    "a = jnp.array([True, False, True])\n",
    "b = jnp.array([True, True, False])\n",
    "(a != b) & (b == False)"
   ],
   "metadata": {
    "collapsed": false,
    "ExecuteTime": {
     "end_time": "2023-12-30T15:09:52.006168800Z",
     "start_time": "2023-12-30T15:09:51.951286600Z"
    }
   }
  },
  {
   "cell_type": "code",
   "outputs": [
    {
     "name": "stdout",
     "output_type": "stream",
     "text": [
      "[[1 3 5]\n",
      " [2 4 6]]\n"
     ]
    }
   ],
   "source": [
    "import jax.numpy as jnp\n",
    "\n",
    "# Example arrays\n",
    "array_odd = jnp.array([1, 3, 5])  # Elements for odd indices\n",
    "array_even = jnp.array([2, 4, 6]) # Elements for even indices\n",
    "\n",
    "# Stack the arrays and reshape\n",
    "new_array = jnp.vstack((array_odd, array_even)).T.reshape(-1)\n",
    "\n",
    "# Print the new array\n",
    "print(new_array)\n"
   ],
   "metadata": {
    "collapsed": false,
    "ExecuteTime": {
     "end_time": "2023-12-27T16:27:19.685714Z",
     "start_time": "2023-12-27T16:27:19.676191300Z"
    }
   },
   "execution_count": 7
  },
  {
   "cell_type": "code",
   "outputs": [],
   "source": [],
   "metadata": {
    "collapsed": false
   }
  }
 ],
 "metadata": {
  "kernelspec": {
   "display_name": "Python 3",
   "language": "python",
   "name": "python3"
  },
  "language_info": {
   "codemirror_mode": {
    "name": "ipython",
    "version": 2
   },
   "file_extension": ".py",
   "mimetype": "text/x-python",
   "name": "python",
   "nbconvert_exporter": "python",
   "pygments_lexer": "ipython2",
   "version": "2.7.6"
  }
 },
 "nbformat": 4,
 "nbformat_minor": 0
}
