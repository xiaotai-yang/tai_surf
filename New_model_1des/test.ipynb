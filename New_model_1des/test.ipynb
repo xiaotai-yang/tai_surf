{
 "cells": [
  {
   "cell_type": "code",
   "execution_count": 2,
   "metadata": {
    "collapsed": true,
    "ExecuteTime": {
     "end_time": "2023-12-30T15:09:19.224153200Z",
     "start_time": "2023-12-30T15:09:17.182927900Z"
    }
   },
   "outputs": [],
   "source": [
    "import jax.numpy as jnp\n",
    "\n",
    "N = 10  # Assuming some value for N\n",
    "# Create a range of values from 0 to N-3\n",
    "i_values = jnp.arange(N-3)[:, None]  # Reshape to use broadcasting\n",
    "# Create the loc_array_bulk using broadcasting\n",
    "loc_array_bulk = i_values + jnp.array([0, 1, 2])\n"
   ]
  },
  {
   "cell_type": "code",
   "execution_count": 5,
   "outputs": [
    {
     "data": {
      "text/plain": "Array([False, False,  True], dtype=bool)"
     },
     "execution_count": 5,
     "metadata": {},
     "output_type": "execute_result"
    }
   ],
   "source": [
    "a = jnp.array([True, False, True])\n",
    "b = jnp.array([True, True, False])\n",
    "(a != b) & (b == False)"
   ],
   "metadata": {
    "collapsed": false,
    "ExecuteTime": {
     "end_time": "2023-12-30T15:09:52.006168800Z",
     "start_time": "2023-12-30T15:09:51.951286600Z"
    }
   }
  },
  {
   "cell_type": "code",
   "outputs": [],
   "source": [
    "import numpy as np\n",
    "t1 = np.random.rand(1000000)\n",
    "t2 = np.random.rand(1000000)*(1-t1)\n",
    "t3 = np.random.rand(1000000)*(1-t1-t2)\n",
    "t4 = 1-t1-t2-t3\n",
    "p1 = np.random.rand(1000000)*2*np.pi\n",
    "p2 = np.random.rand(1000000)*2*np.pi\n",
    "p3 = np.random.rand(1000000)*2*np.pi\n",
    "p4 = np.random.rand(1000000)*2*np.pi\n",
    "x1 = np.sqrt(t1)*np.exp(1j*p1)\n",
    "x2 = np.sqrt(t2)*np.exp(1j*p2)\n",
    "x3 = np.sqrt(t3)*np.exp(1j*p3)\n",
    "x4 = np.sqrt(t4)*np.exp(1j*p4)"
   ],
   "metadata": {
    "collapsed": false,
    "ExecuteTime": {
     "end_time": "2024-01-16T17:36:51.017182600Z",
     "start_time": "2024-01-16T17:36:50.201383100Z"
    }
   },
   "execution_count": 78
  },
  {
   "cell_type": "code",
   "outputs": [
    {
     "data": {
      "text/plain": "1000000.0"
     },
     "execution_count": 79,
     "metadata": {},
     "output_type": "execute_result"
    }
   ],
   "source": [
    "np.sum(np.abs(x1)**2+np.abs(x2)**2+np.abs(x3)**2+np.abs(x4)**2)"
   ],
   "metadata": {
    "collapsed": false,
    "ExecuteTime": {
     "end_time": "2024-01-16T17:36:51.156941500Z",
     "start_time": "2024-01-16T17:36:51.023490100Z"
    }
   },
   "execution_count": 79
  },
  {
   "cell_type": "code",
   "outputs": [],
   "source": [
    "px1 = np.abs(x1)**2\n",
    "px2 = np.abs(x2)**2\n",
    "px3 = np.abs(x3)**2\n",
    "px4 = np.abs(x4)**2\n",
    "px1x4 = px1+px4\n",
    "px2x3 = px2+px3\n",
    "C = 2*x1*x4-2*x2*x3\n",
    "cp1 = (1+np.sqrt(1-np.abs(C)**2))/2\n",
    "cp2 = (1-np.sqrt(1-np.abs(C)**2))/2\n",
    "a1 = -px1*np.log(px1)-px2*np.log(px2)-px3*np.log(px3)-px4*np.log(px4)+px1x4*np.log(px1x4)+px2x3*np.log(px2x3)\n",
    "b1 = -cp1*np.log(cp1)-cp2*np.log(cp2)"
   ],
   "metadata": {
    "collapsed": false,
    "ExecuteTime": {
     "end_time": "2024-01-16T17:36:51.674381700Z",
     "start_time": "2024-01-16T17:36:51.152937900Z"
    }
   },
   "execution_count": 80
  },
  {
   "cell_type": "code",
   "outputs": [
    {
     "name": "stdout",
     "output_type": "stream",
     "text": [
      "(-0.6955850017902521+0.19609206259357648j) (0.05270686824463031-0.3134852381631305j) (-0.10491433363726148+0.5133506686988841j) (0.2637844027233604-0.18038919643270798j)\n"
     ]
    }
   ],
   "source": [
    "print(x1[636373], x2[636373], x3[636373], x4[636373])"
   ],
   "metadata": {
    "collapsed": false,
    "ExecuteTime": {
     "end_time": "2024-01-16T17:36:53.181543100Z",
     "start_time": "2024-01-16T17:36:53.158729700Z"
    }
   },
   "execution_count": 81
  },
  {
   "cell_type": "code",
   "outputs": [
    {
     "name": "stdout",
     "output_type": "stream",
     "text": [
      "1000000\n"
     ]
    }
   ],
   "source": [
    "print(np.sum(a1>b1))"
   ],
   "metadata": {
    "collapsed": false,
    "ExecuteTime": {
     "end_time": "2024-01-16T17:36:53.400685800Z",
     "start_time": "2024-01-16T17:36:53.380195900Z"
    }
   },
   "execution_count": 82
  },
  {
   "cell_type": "code",
   "outputs": [],
   "source": [
    "import numpy as np\n",
    "a0 = np.random.rand(10000)\n",
    "a1 = np.random.rand(10000)\n",
    "a2 = np.random.rand(10000)\n",
    "a3 = np.random.rand(10000)\n",
    "x0 = a0**2+a1**2+a2**2+a3**2\n",
    "x1 = np.sqrt((a0**2+a1**2-a2**2-a3**2)**2+4*(a0*a2+a1*a3)**2)\n",
    "Sa = -a0*np.log(a0)-a1*np.log(a1)-a2*np.log(a2)-a3*np.log(a3)\n",
    "Sx = -x0*np.log(x0)-x1*np.log(x1)"
   ],
   "metadata": {
    "collapsed": false,
    "ExecuteTime": {
     "end_time": "2024-01-16T11:31:39.086227900Z",
     "start_time": "2024-01-16T11:31:39.064807900Z"
    }
   },
   "execution_count": 20
  },
  {
   "cell_type": "code",
   "outputs": [
    {
     "name": "stdout",
     "output_type": "stream",
     "text": [
      "431\n"
     ]
    },
    {
     "data": {
      "text/plain": "417"
     },
     "execution_count": 17,
     "metadata": {},
     "output_type": "execute_result"
    }
   ],
   "source": [
    "print(np.sum(a0+a1+a2+a3<=1))\n",
    "np.sum((Sa>Sx)&(a0+a1+a2+a3<=1))"
   ],
   "metadata": {
    "collapsed": false,
    "ExecuteTime": {
     "end_time": "2024-01-16T11:30:52.622820300Z",
     "start_time": "2024-01-16T11:30:52.608048800Z"
    }
   },
   "execution_count": 17
  },
  {
   "cell_type": "code",
   "outputs": [],
   "source": [],
   "metadata": {
    "collapsed": false
   }
  }
 ],
 "metadata": {
  "kernelspec": {
   "display_name": "Python 3",
   "language": "python",
   "name": "python3"
  },
  "language_info": {
   "codemirror_mode": {
    "name": "ipython",
    "version": 2
   },
   "file_extension": ".py",
   "mimetype": "text/x-python",
   "name": "python",
   "nbconvert_exporter": "python",
   "pygments_lexer": "ipython2",
   "version": "2.7.6"
  }
 },
 "nbformat": 4,
 "nbformat_minor": 0
}
