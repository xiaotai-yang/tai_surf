{
 "cells": [
  {
   "cell_type": "code",
   "execution_count": 180,
   "id": "initial_id",
   "metadata": {
    "collapsed": true,
    "ExecuteTime": {
     "end_time": "2023-12-29T14:30:57.037896Z",
     "start_time": "2023-12-29T14:30:51.156592700Z"
    }
   },
   "outputs": [
    {
     "ename": "AttributeError",
     "evalue": "module 'quimb' has no attribute 'hamiltonian'",
     "output_type": "error",
     "traceback": [
      "\u001B[1;31m---------------------------------------------------------------------------\u001B[0m",
      "\u001B[1;31mAttributeError\u001B[0m                            Traceback (most recent call last)",
      "Cell \u001B[1;32mIn[180], line 10\u001B[0m\n\u001B[0;32m      7\u001B[0m J \u001B[38;5;241m=\u001B[39m \u001B[38;5;241m1.0\u001B[39m\n\u001B[0;32m      9\u001B[0m \u001B[38;5;66;03m# Initialize the Hamiltonian as a zero matrix\u001B[39;00m\n\u001B[1;32m---> 10\u001B[0m H \u001B[38;5;241m=\u001B[39m \u001B[43mqu\u001B[49m\u001B[38;5;241;43m.\u001B[39;49m\u001B[43mhamiltonian\u001B[49m(\u001B[38;5;241m0\u001B[39m, dims\u001B[38;5;241m=\u001B[39m[\u001B[38;5;241m2\u001B[39m]\u001B[38;5;241m*\u001B[39mL)\n\u001B[0;32m     12\u001B[0m \u001B[38;5;66;03m# Add the interaction terms\u001B[39;00m\n\u001B[0;32m     13\u001B[0m \u001B[38;5;28;01mfor\u001B[39;00m i \u001B[38;5;129;01min\u001B[39;00m \u001B[38;5;28mrange\u001B[39m(L\u001B[38;5;241m-\u001B[39m\u001B[38;5;241m1\u001B[39m):\n",
      "\u001B[1;31mAttributeError\u001B[0m: module 'quimb' has no attribute 'hamiltonian'"
     ]
    }
   ],
   "source": [
    "import quimb as qu\n",
    "\n",
    "# Define the number of sites\n",
    "L = 10\n",
    "\n",
    "# Define the interaction strength\n",
    "J = 1.0\n",
    "\n",
    "# Initialize the Hamiltonian as a zero matrix\n",
    "H = qu.hamiltonian(0, dims=[2]*L)\n",
    "\n",
    "# Add the interaction terms\n",
    "for i in range(L-1):\n",
    "    H += J * qu.hamiltonian('Z', [i, i+1], dims=[2]*L)\n",
    "\n",
    "# Print the Hamiltonian\n",
    "print(H)\n"
   ]
  },
  {
   "cell_type": "code",
   "outputs": [],
   "source": [],
   "metadata": {
    "collapsed": false
   },
   "id": "ad985b7ebecfef2f"
  },
  {
   "cell_type": "code",
   "outputs": [],
   "source": [
    "a1 = random.normal(PRNGKey(0), (4,))\n",
    "w1 = random.normal(PRNGKey(1), (4, 4))\n",
    "w2 = random.normal(PRNGKey(2), (4, 4))\n",
    "w3 = random.normal(PRNGKey(3), (4, 4))"
   ],
   "metadata": {
    "collapsed": false,
    "ExecuteTime": {
     "end_time": "2023-12-28T16:14:50.724718400Z",
     "start_time": "2023-12-28T16:14:50.474984800Z"
    }
   },
   "id": "847a081c5ddd4fc3",
   "execution_count": 160
  },
  {
   "cell_type": "code",
   "outputs": [],
   "source": [
    "def f(a1):\n",
    "    a2 = jnp.dot(w1, a1)\n",
    "    a2a = jnp.sin(a2)\n",
    "    a3 = jnp.dot(w2, a2a)\n",
    "    a3a = jnp.sin(a3)\n",
    "    a4 = jnp.dot(w3, a3a)\n",
    "    return a4"
   ],
   "metadata": {
    "collapsed": false,
    "ExecuteTime": {
     "end_time": "2023-12-28T16:14:50.740518600Z",
     "start_time": "2023-12-28T16:14:50.726730200Z"
    }
   },
   "id": "13d2fcdae5143927",
   "execution_count": 161
  },
  {
   "cell_type": "code",
   "outputs": [],
   "source": [
    "a2 = jnp.dot(w1, a1)\n",
    "a2a = jnp.sin(a2)\n",
    "a3 = jnp.dot(w2, a2a)\n",
    "a3a = jnp.sin(a3)\n",
    "a4 = jnp.dot(w3, a3a)"
   ],
   "metadata": {
    "collapsed": false,
    "ExecuteTime": {
     "end_time": "2023-12-28T16:15:42.484320600Z",
     "start_time": "2023-12-28T16:15:42.440696800Z"
    }
   },
   "id": "20aaae3287ceb62e",
   "execution_count": 168
  },
  {
   "cell_type": "code",
   "outputs": [
    {
     "data": {
      "text/plain": "Array(1.0969937, dtype=float32)"
     },
     "execution_count": 169,
     "metadata": {},
     "output_type": "execute_result"
    }
   ],
   "source": [
    "jnp.trace(jacobian_matrix_)"
   ],
   "metadata": {
    "collapsed": false,
    "ExecuteTime": {
     "end_time": "2023-12-28T16:15:43.939415300Z",
     "start_time": "2023-12-28T16:15:43.921110500Z"
    }
   },
   "id": "edb5f7b16831711",
   "execution_count": 169
  },
  {
   "cell_type": "code",
   "outputs": [
    {
     "ename": "ValueError",
     "evalue": "Incompatible shapes for broadcasting: shapes=[(4, 4), (10,)]",
     "output_type": "error",
     "traceback": [
      "\u001B[1;31m---------------------------------------------------------------------------\u001B[0m",
      "\u001B[1;31mValueError\u001B[0m                                Traceback (most recent call last)",
      "    \u001B[1;31m[... skipping hidden 1 frame]\u001B[0m\n",
      "File \u001B[1;32m~\\anaconda3\\lib\\site-packages\\jax\\_src\\util.py:263\u001B[0m, in \u001B[0;36mcache.<locals>.wrap.<locals>.wrapper\u001B[1;34m(*args, **kwargs)\u001B[0m\n\u001B[0;32m    262\u001B[0m \u001B[38;5;28;01melse\u001B[39;00m:\n\u001B[1;32m--> 263\u001B[0m   \u001B[38;5;28;01mreturn\u001B[39;00m cached(config\u001B[38;5;241m.\u001B[39mconfig\u001B[38;5;241m.\u001B[39m_trace_context(), \u001B[38;5;241m*\u001B[39margs, \u001B[38;5;241m*\u001B[39m\u001B[38;5;241m*\u001B[39mkwargs)\n",
      "File \u001B[1;32m~\\anaconda3\\lib\\site-packages\\jax\\_src\\util.py:256\u001B[0m, in \u001B[0;36mcache.<locals>.wrap.<locals>.cached\u001B[1;34m(_, *args, **kwargs)\u001B[0m\n\u001B[0;32m    254\u001B[0m \u001B[38;5;129m@functools\u001B[39m\u001B[38;5;241m.\u001B[39mlru_cache(max_size)\n\u001B[0;32m    255\u001B[0m \u001B[38;5;28;01mdef\u001B[39;00m \u001B[38;5;21mcached\u001B[39m(_, \u001B[38;5;241m*\u001B[39margs, \u001B[38;5;241m*\u001B[39m\u001B[38;5;241m*\u001B[39mkwargs):\n\u001B[1;32m--> 256\u001B[0m   \u001B[38;5;28;01mreturn\u001B[39;00m f(\u001B[38;5;241m*\u001B[39margs, \u001B[38;5;241m*\u001B[39m\u001B[38;5;241m*\u001B[39mkwargs)\n",
      "File \u001B[1;32m~\\anaconda3\\lib\\site-packages\\jax\\_src\\lax\\lax.py:152\u001B[0m, in \u001B[0;36m_broadcast_shapes_cached\u001B[1;34m(*shapes)\u001B[0m\n\u001B[0;32m    150\u001B[0m \u001B[38;5;129m@cache\u001B[39m()\n\u001B[0;32m    151\u001B[0m \u001B[38;5;28;01mdef\u001B[39;00m \u001B[38;5;21m_broadcast_shapes_cached\u001B[39m(\u001B[38;5;241m*\u001B[39mshapes: \u001B[38;5;28mtuple\u001B[39m[\u001B[38;5;28mint\u001B[39m, \u001B[38;5;241m.\u001B[39m\u001B[38;5;241m.\u001B[39m\u001B[38;5;241m.\u001B[39m]) \u001B[38;5;241m-\u001B[39m\u001B[38;5;241m>\u001B[39m \u001B[38;5;28mtuple\u001B[39m[\u001B[38;5;28mint\u001B[39m, \u001B[38;5;241m.\u001B[39m\u001B[38;5;241m.\u001B[39m\u001B[38;5;241m.\u001B[39m]:\n\u001B[1;32m--> 152\u001B[0m   \u001B[38;5;28;01mreturn\u001B[39;00m \u001B[43m_broadcast_shapes_uncached\u001B[49m\u001B[43m(\u001B[49m\u001B[38;5;241;43m*\u001B[39;49m\u001B[43mshapes\u001B[49m\u001B[43m)\u001B[49m\n",
      "File \u001B[1;32m~\\anaconda3\\lib\\site-packages\\jax\\_src\\lax\\lax.py:168\u001B[0m, in \u001B[0;36m_broadcast_shapes_uncached\u001B[1;34m(*shapes)\u001B[0m\n\u001B[0;32m    167\u001B[0m \u001B[38;5;28;01mif\u001B[39;00m result_shape \u001B[38;5;129;01mis\u001B[39;00m \u001B[38;5;28;01mNone\u001B[39;00m:\n\u001B[1;32m--> 168\u001B[0m   \u001B[38;5;28;01mraise\u001B[39;00m \u001B[38;5;167;01mValueError\u001B[39;00m(\u001B[38;5;124mf\u001B[39m\u001B[38;5;124m\"\u001B[39m\u001B[38;5;124mIncompatible shapes for broadcasting: shapes=\u001B[39m\u001B[38;5;132;01m{\u001B[39;00m\u001B[38;5;28mlist\u001B[39m(shapes)\u001B[38;5;132;01m}\u001B[39;00m\u001B[38;5;124m\"\u001B[39m)\n\u001B[0;32m    169\u001B[0m \u001B[38;5;28;01mreturn\u001B[39;00m result_shape\n",
      "\u001B[1;31mValueError\u001B[0m: Incompatible shapes for broadcasting: shapes=[(4, 4), (10,)]",
      "\nDuring handling of the above exception, another exception occurred:\n",
      "\u001B[1;31mValueError\u001B[0m                                Traceback (most recent call last)",
      "Cell \u001B[1;32mIn[170], line 1\u001B[0m\n\u001B[1;32m----> 1\u001B[0m \u001B[38;5;28mprint\u001B[39m(\u001B[43mw1\u001B[49m\u001B[38;5;241;43m*\u001B[39;49m\u001B[43mnp\u001B[49m\u001B[38;5;241;43m.\u001B[39;49m\u001B[43marange\u001B[49m\u001B[43m(\u001B[49m\u001B[38;5;241;43m10\u001B[39;49m\u001B[43m)\u001B[49m)\n",
      "File \u001B[1;32m~\\anaconda3\\lib\\site-packages\\jax\\_src\\numpy\\array_methods.py:256\u001B[0m, in \u001B[0;36m_defer_to_unrecognized_arg.<locals>.deferring_binary_op\u001B[1;34m(self, other)\u001B[0m\n\u001B[0;32m    254\u001B[0m args \u001B[38;5;241m=\u001B[39m (other, \u001B[38;5;28mself\u001B[39m) \u001B[38;5;28;01mif\u001B[39;00m swap \u001B[38;5;28;01melse\u001B[39;00m (\u001B[38;5;28mself\u001B[39m, other)\n\u001B[0;32m    255\u001B[0m \u001B[38;5;28;01mif\u001B[39;00m \u001B[38;5;28misinstance\u001B[39m(other, _accepted_binop_types):\n\u001B[1;32m--> 256\u001B[0m   \u001B[38;5;28;01mreturn\u001B[39;00m \u001B[43mbinary_op\u001B[49m\u001B[43m(\u001B[49m\u001B[38;5;241;43m*\u001B[39;49m\u001B[43margs\u001B[49m\u001B[43m)\u001B[49m\n\u001B[0;32m    257\u001B[0m \u001B[38;5;66;03m# Note: don't use isinstance here, because we don't want to raise for\u001B[39;00m\n\u001B[0;32m    258\u001B[0m \u001B[38;5;66;03m# subclasses, e.g. NamedTuple objects that may override operators.\u001B[39;00m\n\u001B[0;32m    259\u001B[0m \u001B[38;5;28;01mif\u001B[39;00m \u001B[38;5;28mtype\u001B[39m(other) \u001B[38;5;129;01min\u001B[39;00m _rejected_binop_types:\n",
      "    \u001B[1;31m[... skipping hidden 12 frame]\u001B[0m\n",
      "File \u001B[1;32m~\\anaconda3\\lib\\site-packages\\jax\\_src\\numpy\\ufuncs.py:96\u001B[0m, in \u001B[0;36m_maybe_bool_binop.<locals>.fn\u001B[1;34m(x1, x2)\u001B[0m\n\u001B[0;32m     95\u001B[0m \u001B[38;5;28;01mdef\u001B[39;00m \u001B[38;5;21mfn\u001B[39m(x1, x2, \u001B[38;5;241m/\u001B[39m):\n\u001B[1;32m---> 96\u001B[0m   x1, x2 \u001B[38;5;241m=\u001B[39m \u001B[43mpromote_args\u001B[49m\u001B[43m(\u001B[49m\u001B[43mnumpy_fn\u001B[49m\u001B[38;5;241;43m.\u001B[39;49m\u001B[38;5;18;43m__name__\u001B[39;49m\u001B[43m,\u001B[49m\u001B[43m \u001B[49m\u001B[43mx1\u001B[49m\u001B[43m,\u001B[49m\u001B[43m \u001B[49m\u001B[43mx2\u001B[49m\u001B[43m)\u001B[49m\n\u001B[0;32m     97\u001B[0m   \u001B[38;5;28;01mreturn\u001B[39;00m lax_fn(x1, x2) \u001B[38;5;28;01mif\u001B[39;00m x1\u001B[38;5;241m.\u001B[39mdtype \u001B[38;5;241m!=\u001B[39m np\u001B[38;5;241m.\u001B[39mbool_ \u001B[38;5;28;01melse\u001B[39;00m bool_lax_fn(x1, x2)\n",
      "File \u001B[1;32m~\\anaconda3\\lib\\site-packages\\jax\\_src\\numpy\\util.py:363\u001B[0m, in \u001B[0;36mpromote_args\u001B[1;34m(fun_name, *args)\u001B[0m\n\u001B[0;32m    361\u001B[0m check_arraylike(fun_name, \u001B[38;5;241m*\u001B[39margs)\n\u001B[0;32m    362\u001B[0m _check_no_float0s(fun_name, \u001B[38;5;241m*\u001B[39margs)\n\u001B[1;32m--> 363\u001B[0m \u001B[38;5;28;01mreturn\u001B[39;00m \u001B[43mpromote_shapes\u001B[49m\u001B[43m(\u001B[49m\u001B[43mfun_name\u001B[49m\u001B[43m,\u001B[49m\u001B[43m \u001B[49m\u001B[38;5;241;43m*\u001B[39;49m\u001B[43mpromote_dtypes\u001B[49m\u001B[43m(\u001B[49m\u001B[38;5;241;43m*\u001B[39;49m\u001B[43margs\u001B[49m\u001B[43m)\u001B[49m\u001B[43m)\u001B[49m\n",
      "File \u001B[1;32m~\\anaconda3\\lib\\site-packages\\jax\\_src\\numpy\\util.py:248\u001B[0m, in \u001B[0;36mpromote_shapes\u001B[1;34m(fun_name, *args)\u001B[0m\n\u001B[0;32m    246\u001B[0m \u001B[38;5;28;01mif\u001B[39;00m config\u001B[38;5;241m.\u001B[39mnumpy_rank_promotion\u001B[38;5;241m.\u001B[39mvalue \u001B[38;5;241m!=\u001B[39m \u001B[38;5;124m\"\u001B[39m\u001B[38;5;124mallow\u001B[39m\u001B[38;5;124m\"\u001B[39m:\n\u001B[0;32m    247\u001B[0m   _rank_promotion_warning_or_error(fun_name, shapes)\n\u001B[1;32m--> 248\u001B[0m result_rank \u001B[38;5;241m=\u001B[39m \u001B[38;5;28mlen\u001B[39m(\u001B[43mlax\u001B[49m\u001B[38;5;241;43m.\u001B[39;49m\u001B[43mbroadcast_shapes\u001B[49m\u001B[43m(\u001B[49m\u001B[38;5;241;43m*\u001B[39;49m\u001B[43mshapes\u001B[49m\u001B[43m)\u001B[49m)\n\u001B[0;32m    249\u001B[0m \u001B[38;5;28;01mreturn\u001B[39;00m [_broadcast_to(arg, (\u001B[38;5;241m1\u001B[39m,) \u001B[38;5;241m*\u001B[39m (result_rank \u001B[38;5;241m-\u001B[39m \u001B[38;5;28mlen\u001B[39m(shp)) \u001B[38;5;241m+\u001B[39m shp)\n\u001B[0;32m    250\u001B[0m         \u001B[38;5;28;01mfor\u001B[39;00m arg, shp \u001B[38;5;129;01min\u001B[39;00m \u001B[38;5;28mzip\u001B[39m(args, shapes)]\n",
      "    \u001B[1;31m[... skipping hidden 1 frame]\u001B[0m\n",
      "File \u001B[1;32m~\\anaconda3\\lib\\site-packages\\jax\\_src\\lax\\lax.py:168\u001B[0m, in \u001B[0;36m_broadcast_shapes_uncached\u001B[1;34m(*shapes)\u001B[0m\n\u001B[0;32m    166\u001B[0m result_shape \u001B[38;5;241m=\u001B[39m _try_broadcast_shapes(shape_list)\n\u001B[0;32m    167\u001B[0m \u001B[38;5;28;01mif\u001B[39;00m result_shape \u001B[38;5;129;01mis\u001B[39;00m \u001B[38;5;28;01mNone\u001B[39;00m:\n\u001B[1;32m--> 168\u001B[0m   \u001B[38;5;28;01mraise\u001B[39;00m \u001B[38;5;167;01mValueError\u001B[39;00m(\u001B[38;5;124mf\u001B[39m\u001B[38;5;124m\"\u001B[39m\u001B[38;5;124mIncompatible shapes for broadcasting: shapes=\u001B[39m\u001B[38;5;132;01m{\u001B[39;00m\u001B[38;5;28mlist\u001B[39m(shapes)\u001B[38;5;132;01m}\u001B[39;00m\u001B[38;5;124m\"\u001B[39m)\n\u001B[0;32m    169\u001B[0m \u001B[38;5;28;01mreturn\u001B[39;00m result_shape\n",
      "\u001B[1;31mValueError\u001B[0m: Incompatible shapes for broadcasting: shapes=[(4, 4), (10,)]"
     ]
    }
   ],
   "source": [
    "print(w1*np.arange(10))"
   ],
   "metadata": {
    "collapsed": false,
    "ExecuteTime": {
     "end_time": "2023-12-28T16:15:44.330006500Z",
     "start_time": "2023-12-28T16:15:44.233845400Z"
    }
   },
   "id": "2b58b26e7a9de606",
   "execution_count": 170
  },
  {
   "cell_type": "code",
   "outputs": [
    {
     "name": "stdout",
     "output_type": "stream",
     "text": [
      "1.0969937\n"
     ]
    }
   ],
   "source": [
    "tmp1 = jnp.dot(w3*jnp.cos(a3), w2)\n",
    "a3prime = jnp.dot(tmp1*jnp.cos(a2), w1)\n",
    "print(jnp.trace(a3prime))"
   ],
   "metadata": {
    "collapsed": false,
    "ExecuteTime": {
     "end_time": "2023-12-28T16:15:44.669144300Z",
     "start_time": "2023-12-28T16:15:44.615255800Z"
    }
   },
   "id": "618a49709615256e",
   "execution_count": 171
  },
  {
   "cell_type": "code",
   "outputs": [
    {
     "name": "stdout",
     "output_type": "stream",
     "text": [
      "1.0969942\n"
     ]
    }
   ],
   "source": [
    "tmp = jnp.einsum('ab,b,bc-> ac', w3, jnp.cos(a3), w2)\n",
    "final = jnp.einsum('ab,b,bc-> ac', tmp, jnp.cos(a2), w1)\n",
    "print(jnp.trace(final))\n"
   ],
   "metadata": {
    "collapsed": false,
    "ExecuteTime": {
     "end_time": "2023-12-28T16:15:44.907648900Z",
     "start_time": "2023-12-28T16:15:44.870556800Z"
    }
   },
   "id": "81e7ceedb3682983",
   "execution_count": 172
  },
  {
   "cell_type": "code",
   "outputs": [],
   "source": [
    "def h(a2a):\n",
    "    a3 = jnp.dot(w2, a2a)\n",
    "    a3a = jnp.sin(a3)\n",
    "    a4 = jnp.dot(w3, a3a)\n",
    "    return a4\n",
    "def k(a3):\n",
    "    a3a = jnp.sin(a3)\n",
    "    a4 = jnp.dot(w3, a3a)\n",
    "    return a4"
   ],
   "metadata": {
    "collapsed": false,
    "ExecuteTime": {
     "end_time": "2023-12-28T16:15:45.097578300Z",
     "start_time": "2023-12-28T16:15:45.072008600Z"
    }
   },
   "id": "831324ecb479c194",
   "execution_count": 173
  },
  {
   "cell_type": "code",
   "outputs": [
    {
     "name": "stdout",
     "output_type": "stream",
     "text": [
      "[[ 1.6747543  -0.99533826  0.84662145 -0.7347188 ]\n",
      " [ 0.7806493  -0.5360816   0.4985824  -0.8108842 ]\n",
      " [ 0.37664634 -0.42467034 -0.14767969 -0.7029713 ]\n",
      " [-0.91273946  0.6144608  -1.3632437  -0.30421022]]\n",
      "[[ 1.6764153   0.8682407  -0.4822424   0.06036609]\n",
      " [ 0.922981    0.7227854  -0.05123625 -0.7770437 ]\n",
      " [ 0.68734634  0.12545048 -0.3690089  -0.340322  ]\n",
      " [-0.25852078 -0.83786345 -0.23895714 -0.31750754]]\n"
     ]
    }
   ],
   "source": [
    "jacobian_matrix_ = jax.jacfwd(h)(a2a)\n",
    "jacobian_matrix__ = jax.jacfwd(k)(a3)\n",
    "print(jacobian_matrix_)\n",
    "print(jacobian_matrix__)"
   ],
   "metadata": {
    "collapsed": false,
    "ExecuteTime": {
     "end_time": "2023-12-28T16:15:45.546471500Z",
     "start_time": "2023-12-28T16:15:45.502142900Z"
    }
   },
   "id": "f7c50647fc81ebf",
   "execution_count": 174
  },
  {
   "cell_type": "code",
   "outputs": [
    {
     "name": "stdout",
     "output_type": "stream",
     "text": [
      "[[ 1.6747544  -0.9953382   0.84662145 -0.7347188 ]\n",
      " [ 0.7806493  -0.5360816   0.4985824  -0.8108842 ]\n",
      " [ 0.37664637 -0.42467028 -0.14767972 -0.7029712 ]\n",
      " [-0.9127395   0.61446095 -1.3632438  -0.3042102 ]]\n",
      "[[ 1.6764153   0.8682407  -0.4822424   0.06036609]\n",
      " [ 0.922981    0.7227854  -0.05123625 -0.7770437 ]\n",
      " [ 0.68734634  0.12545048 -0.3690089  -0.340322  ]\n",
      " [-0.25852078 -0.83786345 -0.23895714 -0.31750754]]\n"
     ]
    }
   ],
   "source": [
    "print(jnp.dot((w3*jnp.cos(a3)), w2))\n",
    "print(w3*jnp.cos(a3))\n"
   ],
   "metadata": {
    "collapsed": false,
    "ExecuteTime": {
     "end_time": "2023-12-28T16:20:03.575430600Z",
     "start_time": "2023-12-28T16:20:03.567549200Z"
    }
   },
   "id": "1012ec6fe761afe8",
   "execution_count": 179
  },
  {
   "cell_type": "code",
   "outputs": [
    {
     "data": {
      "text/plain": "Array([ 1.0488347, -0.8257268, -0.9081995,  0.3947487], dtype=float32)"
     },
     "execution_count": 176,
     "metadata": {},
     "output_type": "execute_result"
    }
   ],
   "source": [
    "a2"
   ],
   "metadata": {
    "collapsed": false,
    "ExecuteTime": {
     "end_time": "2023-12-28T16:15:46.320094400Z",
     "start_time": "2023-12-28T16:15:46.289882700Z"
    }
   },
   "id": "fe249b090dfe4b8f",
   "execution_count": 176
  },
  {
   "cell_type": "code",
   "outputs": [
    {
     "data": {
      "text/plain": "Array([ 1.0488347, -0.8257268, -0.9081995,  0.3947487], dtype=float32)"
     },
     "execution_count": 177,
     "metadata": {},
     "output_type": "execute_result"
    }
   ],
   "source": [
    "jnp.dot(w1,a1)"
   ],
   "metadata": {
    "collapsed": false,
    "ExecuteTime": {
     "end_time": "2023-12-28T16:15:47.039834700Z",
     "start_time": "2023-12-28T16:15:47.030834300Z"
    }
   },
   "id": "67993c13536a0374",
   "execution_count": 177
  },
  {
   "cell_type": "code",
   "outputs": [],
   "source": [],
   "metadata": {
    "collapsed": false
   },
   "id": "319c2b6cdf7971c2"
  }
 ],
 "metadata": {
  "kernelspec": {
   "display_name": "Python 3",
   "language": "python",
   "name": "python3"
  },
  "language_info": {
   "codemirror_mode": {
    "name": "ipython",
    "version": 2
   },
   "file_extension": ".py",
   "mimetype": "text/x-python",
   "name": "python",
   "nbconvert_exporter": "python",
   "pygments_lexer": "ipython2",
   "version": "2.7.6"
  }
 },
 "nbformat": 4,
 "nbformat_minor": 5
}
