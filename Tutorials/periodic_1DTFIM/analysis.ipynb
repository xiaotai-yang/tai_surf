{
 "cells": [
  {
   "cell_type": "code",
   "execution_count": 1,
   "id": "d965638b",
   "metadata": {},
   "outputs": [],
   "source": [
    "import numpy as np\n",
    "import matplotlib.pyplot as plt\n",
    "probs_all_basis = np.load(\"probs_all_basis.npy\")"
   ]
  },
  {
   "cell_type": "code",
   "execution_count": 2,
   "id": "89190077",
   "metadata": {
    "scrolled": true
   },
   "outputs": [
    {
     "name": "stdout",
     "output_type": "stream",
     "text": [
      "(1024,)\n",
      "[1. 1. 1. ... 1. 1. 1.]\n"
     ]
    }
   ],
   "source": [
    "print(probs_all_basis[:,0].shape)\n",
    "print(np.ones(1024))"
   ]
  },
  {
   "cell_type": "code",
   "execution_count": 3,
   "id": "e0dd3107",
   "metadata": {},
   "outputs": [
    {
     "name": "stdout",
     "output_type": "stream",
     "text": [
      "[0.08271936 0.02032938 0.00886399 ... 0.00943382 0.02010798 0.0865899 ]\n",
      "(1024,)\n",
      "(512,)\n"
     ]
    }
   ],
   "source": [
    "p_abc = np.ones((1024))\n",
    "for i in range (10):\n",
    "    p_abc*= probs_all_basis[:,i]\n",
    "log_p_abc = np.log(p_abc)\n",
    "print(p_abc)\n",
    "print(p_abc.shape)\n",
    "print(np.unique(np.sum(np.split(p_abc, 2), axis = 0)).shape)"
   ]
  },
  {
   "cell_type": "code",
   "execution_count": 87,
   "id": "2e1c3083",
   "metadata": {},
   "outputs": [
    {
     "name": "stdout",
     "output_type": "stream",
     "text": [
      "9\n",
      "10\n",
      "9\n",
      "10\n",
      "9\n",
      "10\n",
      "9\n",
      "10\n",
      "9\n",
      "10\n",
      "9\n",
      "10\n",
      "9\n",
      "10\n",
      "9\n",
      "10\n",
      "9\n",
      "10\n",
      "9\n",
      "10\n",
      "9\n",
      "10\n",
      "9\n",
      "10\n",
      "9\n",
      "10\n",
      "9\n",
      "10\n",
      "9\n",
      "10\n",
      "9\n",
      "10\n",
      "9\n",
      "10\n",
      "9\n",
      "10\n",
      "9\n",
      "10\n",
      "9\n",
      "10\n",
      "9\n",
      "10\n",
      "9\n",
      "10\n",
      "9\n",
      "10\n",
      "9\n",
      "10\n",
      "9\n",
      "10\n",
      "9\n",
      "10\n",
      "9\n",
      "10\n",
      "9\n",
      "10\n",
      "9\n",
      "10\n",
      "9\n",
      "10\n",
      "9\n",
      "10\n",
      "9\n",
      "10\n",
      "9\n",
      "10\n",
      "9\n",
      "10\n",
      "9\n",
      "10\n",
      "9\n",
      "10\n"
     ]
    }
   ],
   "source": [
    "N = 1024\n",
    "system_size = 10\n",
    "# initialization\n",
    "\n",
    "p_abc_new = np.ones((system_size, system_size+1, N))\n",
    "p_ab = np.ones((system_size, system_size, N))\n",
    "p_bc = np.ones((system_size, system_size, N))\n",
    "p_b = np.ones((system_size, system_size, N))\n",
    "\n",
    "cmi = []\n",
    "for i in range (system_size-1):\n",
    "    cmi.append(np.array([]))\n",
    "for x in range (system_size):\n",
    "    for i in range (x+1,system_size):\n",
    "        for j in range (i, system_size):     # i, j is the cut position\n",
    "            for k in range (j+1 ,system_size+1):\n",
    "                    \n",
    "                p_abc_new = np.ones((system_size, system_size+1, N))\n",
    "                p_ab = np.ones((system_size, system_size, N))\n",
    "                p_bc = np.ones((system_size, system_size, N))\n",
    "                p_b = np.ones((system_size, system_size, N))\n",
    "                \n",
    "                p_abc_new[x, k, :2**(k-x)] = np.sum(np.split(np.sum(np.split(p_abc, 2**k), axis = 1), 2**x) , axis = 0)\n",
    "                \n",
    "                p_ab[i-1, j-1, :2**(j-x)] = np.sum(np.split(p_abc_new[x, k, :2**(k-x)], 2**(j-x)), axis = 1)\n",
    "                \n",
    "                p_bc[i - 1, j - 1, : int(2**(k-i))] = np.sum(np.split(p_abc_new[x, k, :2**(k-x)], 2**(i-x)), axis = 0)\n",
    "                if (j == i):\n",
    "                    pass\n",
    "                else :\n",
    "                    p_b[i - 1, j - 1, : 2**(j-i)] = np.sum(np.split(p_ab[i - 1, j - 1, :2**(j-x)], 2**(i-x)), axis = 0)\n",
    "                cmi[j-i] = np.append(cmi[j-i],(np.sum(-p_ab[i-1, j-1]*np.log(p_ab[i-1, j-1]) -p_bc[i-1, j-1]*np.log(p_bc[i-1, j-1]) \\\n",
    "                                   + p_abc_new[x, k]*np.log(p_abc_new[x,k]) + p_b[i-1, j-1]*np.log(p_b[i-1, j-1]))))\n",
    "                                            "
   ]
  },
  {
   "cell_type": "code",
   "execution_count": 91,
   "id": "36ed512d",
   "metadata": {},
   "outputs": [],
   "source": [
    "log_cmi = []\n",
    "for i in range (system_size-1):\n",
    "    log_cmi.append(np.array([]))\n",
    "    log_cmi[i] = np.append(log_cmi[i], np.log(cmi[i]))\n",
    "\n",
    "log_cmi_data = np.zeros(9)\n",
    "log_cmi_var = np.zeros(9)\n",
    "for i in range (len(log_cmi_data)):\n",
    "    log_cmi_data[i] = np.average(log_cmi[i])\n",
    "    log_cmi_var[i] = np.std(log_cmi[i])"
   ]
  },
  {
   "cell_type": "code",
   "execution_count": 109,
   "id": "546ce061",
   "metadata": {},
   "outputs": [
    {
     "name": "stderr",
     "output_type": "stream",
     "text": [
      "No handles with labels found to put in legend.\n"
     ]
    },
    {
     "data": {
      "image/png": "[encoded data removed]",
      "text/plain": [
       "<Figure size 432x288 with 1 Axes>"
      ]
     },
     "metadata": {
      "needs_background": "light"
     },
     "output_type": "display_data"
    }
   ],
   "source": [
    "a, b = np.polyfit(np.arange(system_size-1), log_cmi_data, 1)\n",
    "r2 = 1 - np.sum((a*np.arange(system_size-1)+b*np.ones(system_size-1)-log_cmi_data)**2) \\\n",
    "/np.sum((log_cmi_data - np.sum(log_cmi_data)/(system_size-1))**2) \n",
    "ls = 'dotted'\n",
    "\n",
    "plt.scatter(np.arange(system_size-1), log_cmi_data, s = 15 )\n",
    "plt.errorbar(np.arange(system_size-1), log_cmi_data, yerr = log_cmi_var, linestyle='None')\n",
    "plt.plot(np.arange(system_size-1), a*np.arange(system_size-1)+b*np.ones(system_size-1))\n",
    "\n",
    "\n",
    "plt.xlabel(\"distance\")\n",
    "plt.ylabel(\"log_cmi\")\n",
    "plt.figtext(0.7,0.7,'R2 = ' + str(np.round(r2,3)))\n",
    "plt.title(\"1DTFIM_cmi_decay_general\")\n",
    "plt.legend()\n",
    "plt.savefig(\"1DTFIM_cmi_decay_general.png\", dpi = 200)"
   ]
  },
  {
   "cell_type": "code",
   "execution_count": null,
   "id": "63742868",
   "metadata": {},
   "outputs": [],
   "source": [
    "p_ab = np.ones((system_size, system_size, N))\n",
    "log_p_ab = np.ones((system_size, system_size, N))\n",
    "p_bc = np.ones((system_size, system_size, N))\n",
    "log_p_bc = np.ones((system_size, system_size, N))\n",
    "p_b = np.ones((system_size, system_size, N))\n",
    "log_p_b = np.ones((system_size, system_size, N))\n",
    "p_ab_test = np.ones((system_size, system_size, N))\n",
    "for i in range (1,system_size):\n",
    "    for j in range (i, system_size):     # i, j is the cut position\n",
    "        p_ab[i-1, j-1, :2**j] = np.sum(np.split(p_abc, 2**j), axis = 1)\n",
    "        p_bc[i - 1, j - 1, : int(N/2**i)] = np.sum(np.split(p_abc, 2**i), axis = 0)\n",
    "   \n",
    "        if (j == i):\n",
    "            continue\n",
    "        else :\n",
    "            p_b[i - 1, j - 1, : 2**(j-i)] = np.sum(np.split(p_ab[i - 1, j - 1, :2**j], 2**i), axis = 0)"
   ]
  },
  {
   "cell_type": "code",
   "execution_count": 5,
   "id": "b8d513d8",
   "metadata": {},
   "outputs": [
    {
     "name": "stdout",
     "output_type": "stream",
     "text": [
      "[[[0.4993634  0.50063663 1.         ... 1.         1.         1.        ]\n",
      "  [0.37542038 0.12394302 0.12469673 ... 1.         1.         1.        ]\n",
      "  [0.3013082  0.07411218 0.03804907 ... 1.         1.         1.        ]\n",
      "  ...\n",
      "  [0.12576984 0.02519156 0.01163813 ... 1.         1.         1.        ]\n",
      "  [0.10304874 0.02272111 0.01019917 ... 1.         1.         1.        ]\n",
      "  [1.         1.         1.         ... 1.         1.         1.        ]]\n",
      "\n",
      " [[1.         1.         1.         ... 1.         1.         1.        ]\n",
      "  [0.37542038 0.12394302 0.12469673 ... 1.         1.         1.        ]\n",
      "  [0.3013082  0.07411218 0.03804907 ... 1.         1.         1.        ]\n",
      "  ...\n",
      "  [0.12576984 0.02519156 0.01163813 ... 1.         1.         1.        ]\n",
      "  [0.10304874 0.02272111 0.01019917 ... 1.         1.         1.        ]\n",
      "  [1.         1.         1.         ... 1.         1.         1.        ]]\n",
      "\n",
      " [[1.         1.         1.         ... 1.         1.         1.        ]\n",
      "  [1.         1.         1.         ... 1.         1.         1.        ]\n",
      "  [0.3013082  0.07411218 0.03804907 ... 1.         1.         1.        ]\n",
      "  ...\n",
      "  [0.12576984 0.02519156 0.01163813 ... 1.         1.         1.        ]\n",
      "  [0.10304874 0.02272111 0.01019917 ... 1.         1.         1.        ]\n",
      "  [1.         1.         1.         ... 1.         1.         1.        ]]\n",
      "\n",
      " ...\n",
      "\n",
      " [[1.         1.         1.         ... 1.         1.         1.        ]\n",
      "  [1.         1.         1.         ... 1.         1.         1.        ]\n",
      "  [1.         1.         1.         ... 1.         1.         1.        ]\n",
      "  ...\n",
      "  [0.12576984 0.02519156 0.01163813 ... 1.         1.         1.        ]\n",
      "  [0.10304874 0.02272111 0.01019917 ... 1.         1.         1.        ]\n",
      "  [1.         1.         1.         ... 1.         1.         1.        ]]\n",
      "\n",
      " [[1.         1.         1.         ... 1.         1.         1.        ]\n",
      "  [1.         1.         1.         ... 1.         1.         1.        ]\n",
      "  [1.         1.         1.         ... 1.         1.         1.        ]\n",
      "  ...\n",
      "  [1.         1.         1.         ... 1.         1.         1.        ]\n",
      "  [0.10304874 0.02272111 0.01019917 ... 1.         1.         1.        ]\n",
      "  [1.         1.         1.         ... 1.         1.         1.        ]]\n",
      "\n",
      " [[1.         1.         1.         ... 1.         1.         1.        ]\n",
      "  [1.         1.         1.         ... 1.         1.         1.        ]\n",
      "  [1.         1.         1.         ... 1.         1.         1.        ]\n",
      "  ...\n",
      "  [1.         1.         1.         ... 1.         1.         1.        ]\n",
      "  [1.         1.         1.         ... 1.         1.         1.        ]\n",
      "  [1.         1.         1.         ... 1.         1.         1.        ]]]\n",
      "a\n",
      "[[[1. 1. 1. ... 1. 1. 1.]\n",
      "  [1. 1. 1. ... 1. 1. 1.]\n",
      "  [1. 1. 1. ... 1. 1. 1.]\n",
      "  ...\n",
      "  [1. 1. 1. ... 1. 1. 1.]\n",
      "  [1. 1. 1. ... 1. 1. 1.]\n",
      "  [1. 1. 1. ... 1. 1. 1.]]\n",
      "\n",
      " [[1. 1. 1. ... 1. 1. 1.]\n",
      "  [1. 1. 1. ... 1. 1. 1.]\n",
      "  [1. 1. 1. ... 1. 1. 1.]\n",
      "  ...\n",
      "  [1. 1. 1. ... 1. 1. 1.]\n",
      "  [1. 1. 1. ... 1. 1. 1.]\n",
      "  [1. 1. 1. ... 1. 1. 1.]]\n",
      "\n",
      " [[1. 1. 1. ... 1. 1. 1.]\n",
      "  [1. 1. 1. ... 1. 1. 1.]\n",
      "  [1. 1. 1. ... 1. 1. 1.]\n",
      "  ...\n",
      "  [1. 1. 1. ... 1. 1. 1.]\n",
      "  [1. 1. 1. ... 1. 1. 1.]\n",
      "  [1. 1. 1. ... 1. 1. 1.]]\n",
      "\n",
      " ...\n",
      "\n",
      " [[1. 1. 1. ... 1. 1. 1.]\n",
      "  [1. 1. 1. ... 1. 1. 1.]\n",
      "  [1. 1. 1. ... 1. 1. 1.]\n",
      "  ...\n",
      "  [1. 1. 1. ... 1. 1. 1.]\n",
      "  [1. 1. 1. ... 1. 1. 1.]\n",
      "  [1. 1. 1. ... 1. 1. 1.]]\n",
      "\n",
      " [[1. 1. 1. ... 1. 1. 1.]\n",
      "  [1. 1. 1. ... 1. 1. 1.]\n",
      "  [1. 1. 1. ... 1. 1. 1.]\n",
      "  ...\n",
      "  [1. 1. 1. ... 1. 1. 1.]\n",
      "  [1. 1. 1. ... 1. 1. 1.]\n",
      "  [1. 1. 1. ... 1. 1. 1.]]\n",
      "\n",
      " [[1. 1. 1. ... 1. 1. 1.]\n",
      "  [1. 1. 1. ... 1. 1. 1.]\n",
      "  [1. 1. 1. ... 1. 1. 1.]\n",
      "  ...\n",
      "  [1. 1. 1. ... 1. 1. 1.]\n",
      "  [1. 1. 1. ... 1. 1. 1.]\n",
      "  [1. 1. 1. ... 1. 1. 1.]]]\n"
     ]
    }
   ],
   "source": [
    "print(p_ab)\n",
    "print(\"a\")\n",
    "print(p_ab_test)"
   ]
  },
  {
   "cell_type": "code",
   "execution_count": 6,
   "id": "3da44540",
   "metadata": {},
   "outputs": [
    {
     "name": "stdout",
     "output_type": "stream",
     "text": [
      "(10, 10, 1024)\n",
      "(10, 10, 1024)\n",
      "(1024,)\n"
     ]
    }
   ],
   "source": [
    "cmi = np.zeros((system_size, system_size))  # conditional mutual information\n",
    "print(p_ab.shape)\n",
    "print(p_bc.shape)\n",
    "print(p_abc.shape)\n",
    "for i in range (0, system_size-1):\n",
    "    for j in range (i , system_size-1):\n",
    "        cmi[i, j] = np.sum(-p_ab[i, j]*np.log(p_ab[i, j]) -p_bc[i, j]*np.log(p_bc[i, j]) + p_abc*log_p_abc + p_b[i, j]*np.log(p_b[i, j]))\n",
    "cmi = cmi[:-1,:-1]"
   ]
  },
  {
   "cell_type": "code",
   "execution_count": 7,
   "id": "02f3bc24",
   "metadata": {},
   "outputs": [
    {
     "name": "stdout",
     "output_type": "stream",
     "text": [
      "[1.76194698e-01 1.65702840e-02 4.55917992e-03 1.53114509e-03\n",
      " 5.23285507e-04 1.74720736e-04 5.78626957e-05 1.97515109e-05\n",
      " 6.28090736e-06]\n"
     ]
    }
   ],
   "source": [
    "\n",
    "cmi_distance = np.zeros(system_size-1)\n",
    "\n",
    "for i in range(0, system_size-1):\n",
    "    for j in range(i, system_size-1):\n",
    "        cmi_distance[j - i] += cmi[i, j]/(system_size-(j-i))\n",
    "print(cmi_distance)"
   ]
  },
  {
   "cell_type": "code",
   "execution_count": 8,
   "id": "7066296c",
   "metadata": {},
   "outputs": [
    {
     "data": {
      "text/plain": [
       "0.9866327332978017"
      ]
     },
     "execution_count": 8,
     "metadata": {},
     "output_type": "execute_result"
    }
   ],
   "source": [
    "\n",
    "a, b = np.polyfit(np.arange(system_size-1), np.log(cmi_distance), 1)\n",
    "r2 = 1 - np.sum((a*np.arange(system_size-1)+b*np.ones(system_size-1)-np.log(cmi_distance))**2) \\\n",
    "/np.sum((np.log(cmi_distance) - np.sum(np.log(cmi_distance))/(system_size-1))**2)\n",
    "r2"
   ]
  },
  {
   "cell_type": "code",
   "execution_count": 9,
   "id": "cbc780eb",
   "metadata": {},
   "outputs": [
    {
     "name": "stderr",
     "output_type": "stream",
     "text": [
      "No handles with labels found to put in legend.\n"
     ]
    },
    {
     "data": {
      "image/png": "[encoded data removed]",
      "text/plain": [
       "<Figure size 432x288 with 1 Axes>"
      ]
     },
     "metadata": {
      "needs_background": "light"
     },
     "output_type": "display_data"
    }
   ],
   "source": [
    "\n",
    "plt.scatter(np.arange(system_size-1), np.log(cmi_distance))\n",
    "plt.plot(np.arange(system_size-1), a*np.arange(system_size-1)+b*np.ones(system_size-1))\n",
    "plt.xlabel(\"distance\")\n",
    "plt.ylabel(\"log_cmi\")\n",
    "plt.figtext(0.7,0.7,'R2 = ' + str(np.round(r2,3)))\n",
    "plt.title(\"1DTFIM_cmi_decay\")\n",
    "plt.legend()\n",
    "plt.savefig(\"1DTFIM_cmi_decay.png\", dpi = 200)"
   ]
  },
  {
   "cell_type": "code",
   "execution_count": 136,
   "id": "1220442a",
   "metadata": {},
   "outputs": [
    {
     "data": {
      "text/plain": [
       "array([[ 1.02414222e+03,  9.90540048e-03, -2.84805390e-02,\n",
       "        -1.24704659e-01, -1.99140819e-01, -2.47619828e-01,\n",
       "        -2.84792882e-01, -3.20977706e-01, -3.52831031e-01,\n",
       "        -1.02931811e+03],\n",
       "       [ 0.00000000e+00,  1.02418884e+03,  1.81398781e-02,\n",
       "        -9.48706211e-02, -2.01903296e-01, -3.01122722e-01,\n",
       "        -4.06043003e-01, -4.68974828e-01, -5.30865417e-01,\n",
       "        -1.02931811e+03],\n",
       "       [ 0.00000000e+00,  0.00000000e+00,  1.02421737e+03,\n",
       "         2.32592424e-02, -1.19781336e-01, -2.50526451e-01,\n",
       "        -3.78778853e-01, -5.02592848e-01, -5.80311524e-01,\n",
       "        -1.02931811e+03],\n",
       "       [ 0.00000000e+00,  0.00000000e+00,  0.00000000e+00,\n",
       "         1.02423016e+03,  2.49832260e-02, -1.36875720e-01,\n",
       "        -2.87688828e-01, -4.14257030e-01, -5.42530233e-01,\n",
       "        -1.02931811e+03],\n",
       "       [ 0.00000000e+00,  0.00000000e+00,  0.00000000e+00,\n",
       "         0.00000000e+00,  1.02422953e+03,  2.39796711e-02,\n",
       "        -1.43568466e-01, -2.89370079e-01, -4.25584430e-01,\n",
       "        -1.02931811e+03],\n",
       "       [ 0.00000000e+00,  0.00000000e+00,  0.00000000e+00,\n",
       "         0.00000000e+00,  0.00000000e+00,  1.02421887e+03,\n",
       "         2.10269615e-02, -1.40362193e-01, -2.86727628e-01,\n",
       "        -1.02931811e+03],\n",
       "       [ 0.00000000e+00,  0.00000000e+00,  0.00000000e+00,\n",
       "         0.00000000e+00,  0.00000000e+00,  0.00000000e+00,\n",
       "         1.02420160e+03,  1.67495040e-02, -1.34973305e-01,\n",
       "        -1.02931811e+03],\n",
       "       [ 0.00000000e+00,  0.00000000e+00,  0.00000000e+00,\n",
       "         0.00000000e+00,  0.00000000e+00,  0.00000000e+00,\n",
       "         0.00000000e+00,  1.02418036e+03,  1.11787623e-02,\n",
       "        -1.02931811e+03],\n",
       "       [ 0.00000000e+00,  0.00000000e+00,  0.00000000e+00,\n",
       "         0.00000000e+00,  0.00000000e+00,  0.00000000e+00,\n",
       "         0.00000000e+00,  0.00000000e+00,  1.02415301e+03,\n",
       "        -1.02931811e+03],\n",
       "       [ 0.00000000e+00,  0.00000000e+00,  0.00000000e+00,\n",
       "         0.00000000e+00,  0.00000000e+00,  0.00000000e+00,\n",
       "         0.00000000e+00,  0.00000000e+00,  0.00000000e+00,\n",
       "        -1.02931811e+03]])"
      ]
     },
     "execution_count": 136,
     "metadata": {},
     "output_type": "execute_result"
    }
   ],
   "source": [
    "cmi"
   ]
  },
  {
   "cell_type": "code",
   "execution_count": 200,
   "id": "c2023e84",
   "metadata": {},
   "outputs": [
    {
     "name": "stdout",
     "output_type": "stream",
     "text": [
      "[1 2 3 4]\n"
     ]
    },
    {
     "data": {
      "text/plain": [
       "array([1, 3, 2, 4])"
      ]
     },
     "execution_count": 200,
     "metadata": {},
     "output_type": "execute_result"
    }
   ],
   "source": [
    "a = np.array([1, 3, 2, 2,1,3,4])\n",
    "auni = np.unique(a , return_index= True)\n",
    "print(a[auni[1]])\n",
    "auni[1]\n",
    "a[np.sort(auni[1])]"
   ]
  },
  {
   "cell_type": "code",
   "execution_count": 23,
   "id": "c7812bfd",
   "metadata": {},
   "outputs": [
    {
     "data": {
      "text/plain": [
       "[array([], dtype=float64),\n",
       " array([], dtype=float64),\n",
       " array([], dtype=float64),\n",
       " array([], dtype=float64),\n",
       " array([], dtype=float64),\n",
       " array([], dtype=float64),\n",
       " array([], dtype=float64),\n",
       " array([], dtype=float64)]"
      ]
     },
     "execution_count": 23,
     "metadata": {},
     "output_type": "execute_result"
    }
   ],
   "source": [
    "cmi = []\n",
    "for i in range (system_size-2):\n",
    "    cmi.append(np.array([]))\n",
    "cmi"
   ]
  },
  {
   "cell_type": "code",
   "execution_count": 80,
   "id": "1084985b",
   "metadata": {},
   "outputs": [
    {
     "name": "stdout",
     "output_type": "stream",
     "text": [
      "1 2\n",
      "1 3\n",
      "2 3\n"
     ]
    }
   ],
   "source": [
    "for i in range (1,3):\n",
    "    for j in range (i+1, 4):\n",
    "        print(i, j)\n"
   ]
  },
  {
   "cell_type": "code",
   "execution_count": null,
   "id": "1e4285a8",
   "metadata": {},
   "outputs": [],
   "source": []
  }
 ],
 "metadata": {
  "kernelspec": {
   "display_name": "Python 3",
   "language": "python",
   "name": "python3"
  },
  "language_info": {
   "codemirror_mode": {
    "name": "ipython",
    "version": 3
   },
   "file_extension": ".py",
   "mimetype": "text/x-python",
   "name": "python",
   "nbconvert_exporter": "python",
   "pygments_lexer": "ipython3",
   "version": "3.6.13"
  }
 },
 "nbformat": 4,
 "nbformat_minor": 5
}
