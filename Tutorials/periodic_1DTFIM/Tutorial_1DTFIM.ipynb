{
 "cells": [
  {
   "cell_type": "markdown",
   "metadata": {
    "colab_type": "text",
    "id": "64aq4ZKbZPdW"
   },
   "source": [
    "# Tutorial: Ground State of 1D Transverse-field Ferromagnetic Ising Model (TFIM) with RNN wavefunctions\n",
    "\n",
    "Code by **Mohamed Hibat Allah** and **Martin Ganahl**.\n",
    "\n"
   ]
  },
  {
   "cell_type": "markdown",
   "metadata": {
    "colab_type": "text",
    "id": "SM5KKhReRnHb"
   },
   "source": [
    "**This notebook is intended to help the reader to get familiarized with Exact Diagonalization (ED) and Positive Recurrent Neural Networks (pRNN) wavefunctions. Here, we just explore small system sizes for pedagogical purposes and to keep the running time very short.**\n",
    "\n",
    "\n",
    "Check if you specifying the right \"path\" below to the google colab notebook on Drive to make sure everything below is working properly\n",
    "\n",
    "Make sure also you use a GPU by going to \"Runtime/Change Runtime type\" in Google Colaboratory to get a speedup"
   ]
  },
  {
   "cell_type": "code",
   "execution_count": 0,
   "metadata": {
    "colab": {
     "base_uri": "https://localhost:8080/",
     "height": 36
    },
    "colab_type": "code",
    "executionInfo": {
     "elapsed": 1522,
     "status": "ok",
     "timestamp": 1581260390811,
     "user": {
      "displayName": "Mohamed Hibat Allah",
      "photoUrl": "https://lh4.googleusercontent.com/-NN_4cqAjH6U/AAAAAAAAAAI/AAAAAAAAA5s/M6vFCZPEjP0/s64/photo.jpg",
      "userId": "11447742370504927382"
     },
     "user_tz": 300
    },
    "id": "g_lu1pgdX0vr",
    "outputId": "cf7cfa3f-efbe-4e25-94f8-8fb2390f9b5b"
   },
   "outputs": [
    {
     "name": "stdout",
     "output_type": "stream",
     "text": [
      "Drive already mounted at /content/gdrive/; to attempt to forcibly remount, call drive.mount(\"/content/gdrive/\", force_remount=True).\n"
     ]
    }
   ],
   "source": [
    "from google.colab import drive\n",
    "drive.mount('/content/gdrive/')\n",
    "import sys\n",
    "path = 'gdrive/My Drive/RNNWavefunctions/RNNWavefunctions-master/1DTFIM'\n",
    "sys.path.append(path)"
   ]
  },
  {
   "cell_type": "code",
   "execution_count": 3,
   "metadata": {},
   "outputs": [
    {
     "data": {
      "text/plain": [
       "array([[0, 0, 0],\n",
       "       [0, 0, 1],\n",
       "       [0, 1, 0],\n",
       "       [0, 1, 1],\n",
       "       [1, 0, 0],\n",
       "       [1, 0, 1],\n",
       "       [1, 1, 0],\n",
       "       [1, 1, 1]])"
      ]
     },
     "execution_count": 3,
     "metadata": {},
     "output_type": "execute_result"
    }
   ],
   "source": [
    "import itertools\n",
    "np.array(list(itertools.product([0, 1], repeat=3)))"
   ]
  },
  {
   "cell_type": "code",
   "execution_count": 2,
   "metadata": {
    "ExecuteTime": {
     "end_time": "2023-07-06T19:59:31.585773400Z",
     "start_time": "2023-07-06T19:59:30.503479400Z"
    },
    "colab": {},
    "colab_type": "code",
    "id": "AR5TEw4sZrkm"
   },
   "outputs": [],
   "source": [
    "import numpy as np\n",
    "import matplotlib.pyplot as plt\n",
    "from matplotlib import rcParams\n",
    "\n",
    "rcParams['axes.labelsize']  = 20\n",
    "rcParams['font.serif']      = ['Computer Modern']\n",
    "rcParams['font.size']       = 10\n",
    "rcParams['legend.fontsize'] = 20\n",
    "rcParams['xtick.labelsize'] = 20\n",
    "rcParams['ytick.labelsize'] = 20"
   ]
  },
  {
   "cell_type": "markdown",
   "metadata": {
    "colab_type": "text",
    "id": "j4tkqj6qipmp"
   },
   "source": [
    "## **Calculating the ground state energy of 1DTFIM using Exact Diagonalization (ED)**"
   ]
  },
  {
   "cell_type": "markdown",
   "metadata": {
    "colab_type": "text",
    "id": "KzO3B4RWaXxA"
   },
   "source": [
    "Here, we attempt to calculate the ground state and the ground state energy of the 1D Transverse field Ising Model with Open Boundary Conditions using Exact diagonalization.\n",
    "\n",
    "The Hamiltonian is given as follows:\n",
    "\n",
    "$$\\hat{H}_{\\text{TFIM}} = - \\sum_{\\langle i,j \\rangle} \\hat{\\sigma}^{z}_i \\hat{\\sigma}^{z}_j - B_x \\sum_{i} \\hat{\\sigma}^{x}_i $$\n",
    "\n",
    "where ${\\bf \\sigma}_i$ are pauli matrices.  Here,\n",
    "$\\langle i,j \\rangle$ denote\n",
    "nearest neighbor pairs."
   ]
  },
  {
   "cell_type": "code",
   "execution_count": 7,
   "metadata": {
    "ExecuteTime": {
     "end_time": "2023-07-06T20:00:08.105636Z",
     "start_time": "2023-07-06T20:00:08.071941400Z"
    },
    "colab": {},
    "colab_type": "code",
    "id": "ssa4VPWUitU-"
   },
   "outputs": [],
   "source": [
    "def IsingMatrixElements(Jz,Bx,sigmap):\n",
    "    \"\"\"\n",
    "    computes the matrix element of the open Ising Hamiltonian for a given state sigmap\n",
    "    -----------------------------------------------------------------------------------\n",
    "    Parameters:\n",
    "    Jz: np.ndarray of shape (N), respectively, and dtype=float:\n",
    "                Ising parameters\n",
    "    sigmap:     np.ndarrray of dtype=int and shape (N)\n",
    "                spin-state, integer encoded (using 0 for down spin and 1 for up spin)\n",
    "                A sample of spins can be fed here.\n",
    "    Bx: Transvers magnetic field (N)\n",
    "    -----------------------------------------------------------------------------------            \n",
    "    Returns: 2-tuple of type (np.ndarray,np.ndarray)\n",
    "             sigmas:         np.ndarray of dtype=int and shape (?,N)\n",
    "                             the states for which there exist non-zero matrix elements for given sigmap\n",
    "             matrixelements: np.ndarray of dtype=float and shape (?)\n",
    "                             the non-zero matrix elements\n",
    "    \"\"\"\n",
    "    #the diagonal part is simply the sum of all Sz-Sz interactions\n",
    "    diag=0\n",
    "    \n",
    "    sigmas=[]\n",
    "    matrix_elements=[]\n",
    "    N = Jz.shape[0]\n",
    "    \n",
    "    for site in range(N-1):\n",
    "        if sigmap[site]==sigmap[site+1]: #if the two neighouring spins are the same (We use open Boundary Conditions)\n",
    "            diag-=Jz[site] #add a negative energy contribution (We use ferromagnetic couplings)\n",
    "        else:\n",
    "            diag+=Jz[site]\n",
    "            \n",
    "    matrix_elements.append(diag)\n",
    "    sigmas.append(sigmap)\n",
    "    \n",
    "    #off-diagonal part (For the transverse Ising Model)\n",
    "    for site in range(N):\n",
    "        if Bx[site] != 0:\n",
    "            sig = np.copy(sigmap)\n",
    "            sig[site]=np.abs(1-sig[site])\n",
    "            matrix_elements.append(-Bx[site])\n",
    "            sigmas.append(sig)    \n",
    "\n",
    "    return np.array(sigmas),np.array(matrix_elements)\n",
    "\n",
    "def ED_1DTFIM(N=10, h = 1):\n",
    "  \"\"\"\n",
    "  Returns a tuple (eta,U)\n",
    "    eta = a list of energy eigenvalues.\n",
    "    U = a list of energy eigenvectors\n",
    "  \"\"\"\n",
    "  Jz=+np.ones(N)\n",
    "  Bx=+h*np.ones(N)\n",
    "\n",
    "  basis = []\n",
    "  #Generate a z-basis\n",
    "  for i in range(2**N):\n",
    "      basis_temp = np.zeros((N))\n",
    "      a = np.array([int(d) for d in bin(i)[2:]])\n",
    "      l = len(a)\n",
    "      basis_temp[N-l:] = a\n",
    "      \n",
    "      basis.append(basis_temp)\n",
    "  basis = np.array(basis)\n",
    "      \n",
    "  H=np.zeros((basis.shape[0],basis.shape[0])) #prepare the hamiltonian\n",
    "  for n in range(basis.shape[0]):\n",
    "      sigmas,elements=IsingMatrixElements(Jz,Bx,basis[n])\n",
    "      for m in range(sigmas.shape[0]):\n",
    "          for b in range(basis.shape[0]):\n",
    "              if np.all(basis[b,:]==sigmas[m,:]):\n",
    "                  H[n,b]=elements[m]\n",
    "                  break\n",
    "  eta,U=np.linalg.eigh(H) #diagonalize\n",
    "  return eta,U\n"
   ]
  },
  {
   "cell_type": "markdown",
   "metadata": {
    "colab_type": "text",
    "id": "S7ZohOddPLWS"
   },
   "source": [
    "It may take some time to do exact diagonalization. You can try up to $N=12$ spins otherwise you have to wait for a very long time."
   ]
  },
  {
   "cell_type": "code",
   "execution_count": 8,
   "metadata": {
    "ExecuteTime": {
     "end_time": "2023-07-06T20:01:11.404451400Z",
     "start_time": "2023-07-06T20:00:10.717973500Z"
    },
    "colab": {
     "base_uri": "https://localhost:8080/",
     "height": 55
    },
    "colab_type": "code",
    "executionInfo": {
     "elapsed": 26093,
     "status": "ok",
     "timestamp": 1581260415432,
     "user": {
      "displayName": "Mohamed Hibat Allah",
      "photoUrl": "https://lh4.googleusercontent.com/-NN_4cqAjH6U/AAAAAAAAAAI/AAAAAAAAA5s/M6vFCZPEjP0/s64/photo.jpg",
      "userId": "11447742370504927382"
     },
     "user_tz": 300
    },
    "id": "FrXZBzMcjGc6",
    "outputId": "8c90315c-0462-4438-d5c7-bd10a6fe817c"
   },
   "outputs": [
    {
     "name": "stdout",
     "output_type": "stream",
     "text": [
      "The ground state energy is:\n",
      "-12.38148999965475\n"
     ]
    }
   ],
   "source": [
    "eta, U = ED_1DTFIM(N=10, h = 1)\n",
    "\n",
    "print('The ground state energy is:')\n",
    "print(min(eta))\n",
    "E_exact = min(eta)"
   ]
  },
  {
   "cell_type": "markdown",
   "metadata": {
    "colab_type": "text",
    "id": "3xmDq6XVlrVh"
   },
   "source": [
    "## **Representing the ground state**"
   ]
  },
  {
   "cell_type": "markdown",
   "metadata": {
    "colab_type": "text",
    "id": "ZZf0mWkBa72x"
   },
   "source": [
    "Sometimes it is useful to represent the ground state in a plot as shown below, to know some information about the properties of the ground state, such as symmetries, sign of the amplitudes,..."
   ]
  },
  {
   "cell_type": "code",
   "execution_count": 4,
   "metadata": {
    "ExecuteTime": {
     "end_time": "2023-07-06T20:02:02.187066700Z",
     "start_time": "2023-07-06T20:02:01.579415200Z"
    },
    "colab": {
     "base_uri": "https://localhost:8080/",
     "height": 411
    },
    "colab_type": "code",
    "executionInfo": {
     "elapsed": 26081,
     "status": "ok",
     "timestamp": 1581260415438,
     "user": {
      "displayName": "Mohamed Hibat Allah",
      "photoUrl": "https://lh4.googleusercontent.com/-NN_4cqAjH6U/AAAAAAAAAAI/AAAAAAAAA5s/M6vFCZPEjP0/s64/photo.jpg",
      "userId": "11447742370504927382"
     },
     "user_tz": 300
    },
    "id": "eoZ1mC7llQtS",
    "outputId": "cc3c8052-a72a-4f57-c780-68c865c2ec02"
   },
   "outputs": [
    {
     "data": {
      "image/png": "[encoded data removed]",
      "text/plain": [
       "<Figure size 1000x600 with 1 Axes>"
      ]
     },
     "metadata": {},
     "output_type": "display_data"
    }
   ],
   "source": [
    "fig, ax = plt.subplots(figsize=(10,6))\n",
    "\n",
    "ground_state = -U[:,np.nonzero(eta==np.min(eta))[0][0]]\n",
    "\n",
    "plt.plot(ground_state,label=\"Ground state\")\n",
    "\n",
    "ax.set_xlabel(r'Basis index', fontsize = 25)\n",
    "ax.set_ylabel('Amplitude', fontsize = 25)\n",
    "\n",
    "plt.show()"
   ]
  },
  {
   "cell_type": "code",
   "execution_count": 4,
   "metadata": {},
   "outputs": [
    {
     "name": "stdout",
     "output_type": "stream",
     "text": [
      "Tensor(\"Const_1:0\", shape=(3,), dtype=int32)\n",
      "[1 2 3]\n"
     ]
    }
   ],
   "source": [
    "import tensorflow as tf\n",
    "\n",
    "# Create a tensor\n",
    "tensor = tf.constant([1, 2, 3])\n",
    "\n",
    "# Start a session\n",
    "with tf.Session() as sess:\n",
    "    # Run the session to evaluate the tensor\n",
    "    tensor_value = sess.run(tensor)\n",
    "    print(tensor_value)\n"
   ]
  },
  {
   "cell_type": "markdown",
   "metadata": {
    "colab_type": "text",
    "id": "7wj7-yrgbh3s"
   },
   "source": [
    "We notice here that the amplitudes of the ground state in the z-basis do not change sign, hence we can use a positive recurrent neural network wavefunction (pRNN wavefunction)."
   ]
  },
  {
   "cell_type": "markdown",
   "metadata": {
    "colab_type": "text",
    "id": "p__YUOmUiuES"
   },
   "source": [
    "## **Calculating the ground state energy using an RNN wavefunction**"
   ]
  },
  {
   "cell_type": "markdown",
   "metadata": {
    "colab_type": "text",
    "id": "saskRC4Ob1rI"
   },
   "source": [
    "After that we obtained the ground state energy from exact diagonalization, we are going to value as a reference to assess the quality of the variational energy calculated by the pRNN wavefunction"
   ]
  },
  {
   "cell_type": "code",
   "execution_count": 2,
   "metadata": {
    "ExecuteTime": {
     "end_time": "2023-07-06T20:02:14.963895800Z",
     "start_time": "2023-07-06T20:02:05.966244300Z"
    },
    "colab": {
     "base_uri": "https://localhost:8080/",
     "height": 1000
    },
    "colab_type": "code",
    "executionInfo": {
     "elapsed": 15478,
     "status": "ok",
     "timestamp": 1581260763138,
     "user": {
      "displayName": "Mohamed Hibat Allah",
      "photoUrl": "https://lh4.googleusercontent.com/-NN_4cqAjH6U/AAAAAAAAAAI/AAAAAAAAA5s/M6vFCZPEjP0/s64/photo.jpg",
      "userId": "11447742370504927382"
     },
     "user_tz": 300
    },
    "id": "t65l5kn5XjNa",
    "outputId": "062bf103-10e9-45a7-ffbb-7d32c9bcee26"
   },
   "outputs": [
    {
     "name": "stdout",
     "output_type": "stream",
     "text": [
      "\n",
      "WARNING: The TensorFlow contrib module will not be included in TensorFlow 2.0.\n",
      "For more information, please see:\n",
      "  * https://github.com/tensorflow/community/blob/master/rfcs/20180907-contrib-sunset.md\n",
      "  * https://github.com/tensorflow/addons\n",
      "If you depend on functionality not listed there, please file an issue.\n",
      "\n",
      "The number of variational parameters of the pRNN wavefunction is 422\n",
      "\n",
      "\n",
      "Tensor(\"Sum_3:0\", shape=(200,), dtype=float64)\n",
      "mean(E): -9.990968439138983, var(E): 7.6946667695762425, #samples 200, #Step 0 \n",
      "\n",
      "\n",
      "mean(E): -11.069058962189672, var(E): 5.360646926920672, #samples 200, #Step 10 \n",
      "\n",
      "\n",
      "mean(E): -11.448397650035622, var(E): 2.3989758057666664, #samples 200, #Step 20 \n",
      "\n",
      "\n",
      "mean(E): -11.878031593802884, var(E): 1.6295993232121004, #samples 200, #Step 30 \n",
      "\n",
      "\n",
      "mean(E): -11.868904751439018, var(E): 0.9845019925655825, #samples 200, #Step 40 \n",
      "\n",
      "\n",
      "mean(E): -11.90994433755751, var(E): 1.0525119357193882, #samples 200, #Step 50 \n",
      "\n",
      "\n",
      "mean(E): -12.139724407907362, var(E): 0.6807234287490966, #samples 200, #Step 60 \n",
      "\n",
      "\n",
      "mean(E): -12.197705447520635, var(E): 0.4321811265234324, #samples 200, #Step 70 \n",
      "\n",
      "\n",
      "mean(E): -12.147042319913837, var(E): 0.32854517250174803, #samples 200, #Step 80 \n",
      "\n",
      "\n",
      "mean(E): -12.232251429895308, var(E): 0.20447050206618744, #samples 200, #Step 90 \n",
      "\n",
      "\n",
      "mean(E): -12.26276512515994, var(E): 0.19786024738335647, #samples 200, #Step 100 \n",
      "\n",
      "\n",
      "mean(E): -12.250010352106699, var(E): 0.1868765923345493, #samples 200, #Step 110 \n",
      "\n",
      "\n",
      "mean(E): -12.32048590772828, var(E): 0.11367443369731994, #samples 200, #Step 120 \n",
      "\n",
      "\n",
      "mean(E): -12.322446998734426, var(E): 0.12156328293949749, #samples 200, #Step 130 \n",
      "\n",
      "\n",
      "mean(E): -12.308762646397202, var(E): 0.10842031586502543, #samples 200, #Step 140 \n",
      "\n",
      "\n",
      "mean(E): -12.346401275243679, var(E): 0.0875091378852418, #samples 200, #Step 150 \n",
      "\n",
      "\n",
      "mean(E): -12.377103125870313, var(E): 0.0901156857998666, #samples 200, #Step 160 \n",
      "\n",
      "\n",
      "mean(E): -12.391122730964625, var(E): 0.10611431750599415, #samples 200, #Step 170 \n",
      "\n",
      "\n",
      "mean(E): -12.354873467340163, var(E): 0.0764061887486554, #samples 200, #Step 180 \n",
      "\n",
      "\n",
      "mean(E): -12.377852703588179, var(E): 0.0815796154016131, #samples 200, #Step 190 \n",
      "\n",
      "\n",
      "mean(E): -12.386618831473383, var(E): 0.06881401366936228, #samples 200, #Step 200 \n",
      "\n",
      "\n",
      "mean(E): -12.376306892543177, var(E): 0.06282949076042295, #samples 200, #Step 210 \n",
      "\n",
      "\n",
      "mean(E): -12.369516404346832, var(E): 0.06115814291468796, #samples 200, #Step 220 \n",
      "\n",
      "\n",
      "mean(E): -12.368265281024067, var(E): 0.05949221638509796, #samples 200, #Step 230 \n",
      "\n",
      "\n",
      "mean(E): -12.35885450295225, var(E): 0.04526097014581245, #samples 200, #Step 240 \n",
      "\n",
      "\n",
      "mean(E): -12.36424485256195, var(E): 0.0427329089452458, #samples 200, #Step 250 \n",
      "\n",
      "\n",
      "mean(E): -12.348267622835918, var(E): 0.04997946849581077, #samples 200, #Step 260 \n",
      "\n",
      "\n",
      "mean(E): -12.379834324567373, var(E): 0.040116799242346665, #samples 200, #Step 270 \n",
      "\n",
      "\n",
      "mean(E): -12.36387855527039, var(E): 0.033501221198366106, #samples 200, #Step 280 \n",
      "\n",
      "\n",
      "mean(E): -12.36073088857896, var(E): 0.04131234245330038, #samples 200, #Step 290 \n",
      "\n",
      "\n",
      "mean(E): -12.371758754374625, var(E): 0.039122997569926876, #samples 200, #Step 300 \n",
      "\n",
      "\n",
      "mean(E): -12.365182297077459, var(E): 0.04060982255926054, #samples 200, #Step 310 \n",
      "\n",
      "\n",
      "mean(E): -12.370985766650506, var(E): 0.04333142122304583, #samples 200, #Step 320 \n",
      "\n",
      "\n",
      "mean(E): -12.370793698832847, var(E): 0.039515698973072874, #samples 200, #Step 330 \n",
      "\n",
      "\n",
      "mean(E): -12.385826063260021, var(E): 0.034596524546879205, #samples 200, #Step 340 \n",
      "\n",
      "\n",
      "mean(E): -12.376631823603363, var(E): 0.039434630023117305, #samples 200, #Step 350 \n",
      "\n",
      "\n",
      "mean(E): -12.372288846373749, var(E): 0.030360670537193615, #samples 200, #Step 360 \n",
      "\n",
      "\n",
      "mean(E): -12.36885532120356, var(E): 0.030964089469421575, #samples 200, #Step 370 \n",
      "\n",
      "\n",
      "mean(E): -12.376878302062813, var(E): 0.02643574921497243, #samples 200, #Step 380 \n",
      "\n",
      "\n",
      "mean(E): -12.367279851101863, var(E): 0.030837683677427067, #samples 200, #Step 390 \n",
      "\n",
      "\n",
      "mean(E): -12.3910817174675, var(E): 0.030337148117343508, #samples 200, #Step 400 \n",
      "\n",
      "\n",
      "mean(E): -12.379844561744099, var(E): 0.023538221926406706, #samples 200, #Step 410 \n",
      "\n",
      "\n",
      "mean(E): -12.366633584177201, var(E): 0.037338327405692685, #samples 200, #Step 420 \n",
      "\n",
      "\n",
      "mean(E): -12.368486261541745, var(E): 0.021718950903383084, #samples 200, #Step 430 \n",
      "\n",
      "\n",
      "mean(E): -12.371695658684338, var(E): 0.024594480075366024, #samples 200, #Step 440 \n",
      "\n",
      "\n",
      "mean(E): -12.366764460090913, var(E): 0.026713683784900258, #samples 200, #Step 450 \n",
      "\n",
      "\n",
      "mean(E): -12.391446722995934, var(E): 0.03092738688798228, #samples 200, #Step 460 \n",
      "\n",
      "\n",
      "mean(E): -12.373411861605154, var(E): 0.02294831980765901, #samples 200, #Step 470 \n",
      "\n",
      "\n",
      "mean(E): -12.384563557214033, var(E): 0.02279527880575415, #samples 200, #Step 480 \n",
      "\n",
      "\n",
      "mean(E): -12.36918784096259, var(E): 0.01906152345346545, #samples 200, #Step 490 \n",
      "\n",
      "\n",
      "mean(E): -12.356199350784282, var(E): 0.023606025645631478, #samples 200, #Step 500 \n",
      "\n",
      "\n",
      "mean(E): -12.383253704657688, var(E): 0.023241873885458668, #samples 200, #Step 510 \n",
      "\n",
      "\n",
      "mean(E): -12.372460051588098, var(E): 0.02663274120616144, #samples 200, #Step 520 \n",
      "\n",
      "\n",
      "mean(E): -12.383146255709413, var(E): 0.022445624132568513, #samples 200, #Step 530 \n",
      "\n",
      "\n",
      "mean(E): -12.381904212576096, var(E): 0.023733683298316995, #samples 200, #Step 540 \n",
      "\n",
      "\n",
      "mean(E): -12.377555962868632, var(E): 0.02069893304366983, #samples 200, #Step 550 \n",
      "\n",
      "\n",
      "mean(E): -12.386397251842245, var(E): 0.0197490104657216, #samples 200, #Step 560 \n",
      "\n",
      "\n",
      "mean(E): -12.370600646060538, var(E): 0.01938003757869228, #samples 200, #Step 570 \n",
      "\n",
      "\n",
      "mean(E): -12.381526795775462, var(E): 0.019520762226436603, #samples 200, #Step 580 \n",
      "\n",
      "\n",
      "mean(E): -12.382475619081553, var(E): 0.016932780592882488, #samples 200, #Step 590 \n",
      "\n",
      "\n",
      "mean(E): -12.374354972739233, var(E): 0.020423948368757504, #samples 200, #Step 600 \n",
      "\n",
      "\n",
      "mean(E): -12.368256160526984, var(E): 0.01613932417225669, #samples 200, #Step 610 \n",
      "\n",
      "\n",
      "mean(E): -12.388552359557035, var(E): 0.018567129602642157, #samples 200, #Step 620 \n",
      "\n",
      "\n",
      "mean(E): -12.379967912061055, var(E): 0.015284821180258423, #samples 200, #Step 630 \n",
      "\n",
      "\n",
      "mean(E): -12.371226300143789, var(E): 0.017069527582322958, #samples 200, #Step 640 \n",
      "\n",
      "\n",
      "mean(E): -12.378965779563046, var(E): 0.014103697395574535, #samples 200, #Step 650 \n",
      "\n",
      "\n",
      "mean(E): -12.380455748302634, var(E): 0.015799568792279298, #samples 200, #Step 660 \n",
      "\n",
      "\n",
      "mean(E): -12.37104769373896, var(E): 0.017321640490894942, #samples 200, #Step 670 \n",
      "\n",
      "\n",
      "mean(E): -12.37632027965529, var(E): 0.016686337388069798, #samples 200, #Step 680 \n",
      "\n",
      "\n",
      "mean(E): -12.382393504006812, var(E): 0.017634380772306, #samples 200, #Step 690 \n",
      "\n",
      "\n",
      "mean(E): -12.358818534318583, var(E): 0.014283849402162313, #samples 200, #Step 700 \n",
      "\n",
      "\n",
      "mean(E): -12.364912546596743, var(E): 0.01647677983647157, #samples 200, #Step 710 \n",
      "\n",
      "\n",
      "mean(E): -12.388515422693462, var(E): 0.015800690760810296, #samples 200, #Step 720 \n",
      "\n",
      "\n",
      "mean(E): -12.369381105713737, var(E): 0.013734488195198206, #samples 200, #Step 730 \n",
      "\n",
      "\n",
      "mean(E): -12.372492352588903, var(E): 0.013744292846508861, #samples 200, #Step 740 \n",
      "\n",
      "\n",
      "mean(E): -12.377352264268016, var(E): 0.01561364460111844, #samples 200, #Step 750 \n",
      "\n",
      "\n",
      "mean(E): -12.382075868387847, var(E): 0.0130578447410215, #samples 200, #Step 760 \n",
      "\n",
      "\n",
      "mean(E): -12.38333079194085, var(E): 0.013733067936878087, #samples 200, #Step 770 \n",
      "\n",
      "\n",
      "mean(E): -12.380255929918771, var(E): 0.013595625499364983, #samples 200, #Step 780 \n",
      "\n",
      "\n",
      "mean(E): -12.382258342117145, var(E): 0.014106897974955058, #samples 200, #Step 790 \n",
      "\n",
      "\n",
      "mean(E): -12.385984159434347, var(E): 0.012205885533152187, #samples 200, #Step 800 \n",
      "\n",
      "\n",
      "mean(E): -12.375381208254094, var(E): 0.011381133038098927, #samples 200, #Step 810 \n",
      "\n",
      "\n",
      "mean(E): -12.398154269783104, var(E): 0.013829319582058908, #samples 200, #Step 820 \n",
      "\n",
      "\n",
      "mean(E): -12.388842468183025, var(E): 0.011140749441899998, #samples 200, #Step 830 \n",
      "\n",
      "\n",
      "mean(E): -12.376928889123748, var(E): 0.010910046797339378, #samples 200, #Step 840 \n",
      "\n",
      "\n",
      "mean(E): -12.38863824051125, var(E): 0.013420465805170995, #samples 200, #Step 850 \n",
      "\n",
      "\n",
      "mean(E): -12.377079469592768, var(E): 0.011146189751388449, #samples 200, #Step 860 \n",
      "\n",
      "\n",
      "mean(E): -12.383472520544323, var(E): 0.013386678192985528, #samples 200, #Step 870 \n",
      "\n",
      "\n",
      "mean(E): -12.38535818676441, var(E): 0.01230301640170902, #samples 200, #Step 880 \n",
      "\n",
      "\n",
      "mean(E): -12.3791959130765, var(E): 0.010765126621644992, #samples 200, #Step 890 \n",
      "\n",
      "\n",
      "mean(E): -12.37932251618885, var(E): 0.011568744654133182, #samples 200, #Step 900 \n",
      "\n",
      "\n",
      "mean(E): -12.381182298589701, var(E): 0.008908653346657372, #samples 200, #Step 910 \n",
      "\n",
      "\n",
      "mean(E): -12.372123003531314, var(E): 0.008916621087877137, #samples 200, #Step 920 \n",
      "\n",
      "\n",
      "mean(E): -12.385170577093334, var(E): 0.010719773188956276, #samples 200, #Step 930 \n",
      "\n",
      "\n"
     ]
    },
    {
     "name": "stdout",
     "output_type": "stream",
     "text": [
      "mean(E): -12.390336626068379, var(E): 0.008715773489333804, #samples 200, #Step 940 \n",
      "\n",
      "\n",
      "mean(E): -12.380191208521987, var(E): 0.01114004640487211, #samples 200, #Step 950 \n",
      "\n",
      "\n",
      "mean(E): -12.381170148541955, var(E): 0.007924526091289805, #samples 200, #Step 960 \n",
      "\n",
      "\n",
      "mean(E): -12.379625985444706, var(E): 0.010772255210776549, #samples 200, #Step 970 \n",
      "\n",
      "\n",
      "mean(E): -12.370691654822384, var(E): 0.010856658645193211, #samples 200, #Step 980 \n",
      "\n",
      "\n",
      "mean(E): -12.39007251179982, var(E): 0.012794543029252772, #samples 200, #Step 990 \n",
      "\n",
      "\n",
      "mean(E): -12.375093833609249, var(E): 0.010295257161775847, #samples 200, #Step 1000 \n",
      "\n",
      "\n"
     ]
    }
   ],
   "source": [
    "from TrainingRNN_1DTFIM import run_1DTFIM\n",
    "\n",
    "#numsteps = number of training iterations\n",
    "#systemsize = number of physical spins\n",
    "#Bx = transverse magnetic field\n",
    "#numsamples = number of samples used for training\n",
    "numsamples = 200\n",
    "#num_units = number of memory units of the hidden state of the RNN\n",
    "#num_layers = number of vertically stacked RNN cells\n",
    "\n",
    "#This function trains a pRNN wavefunction for 1DTFIM with the corresponding hyperparams\n",
    "RNNEnergy, varRNNEnergy = run_1DTFIM(numsteps = 1000, systemsize = 10, Bx = +1, num_units = 10,  num_layers = 1, numsamples = numsamples, learningrate = 5e-3, seed = 111)\n",
    "\n",
    "#RNNEnergy is a numpy array of the variational energy of the pRNN wavefunction\n",
    "#varRNNEnergy is a numpy array of the variance of the variational energy of the pRNN wavefunction"
   ]
  },
  {
   "cell_type": "markdown",
   "metadata": {
    "colab_type": "text",
    "id": "peYQlfmihIW-"
   },
   "source": [
    "## **Comparison of RNN results with ED**"
   ]
  },
  {
   "cell_type": "markdown",
   "metadata": {
    "colab_type": "text",
    "id": "hXamMx9PclH1"
   },
   "source": [
    "After we got the variational energies for each time step, we can now compare the RNN results with exact diagonalization"
   ]
  },
  {
   "cell_type": "code",
   "execution_count": 9,
   "metadata": {
    "colab": {
     "base_uri": "https://localhost:8080/",
     "height": 55
    },
    "colab_type": "code",
    "executionInfo": {
     "elapsed": 877,
     "status": "ok",
     "timestamp": 1581260770335,
     "user": {
      "displayName": "Mohamed Hibat Allah",
      "photoUrl": "https://lh4.googleusercontent.com/-NN_4cqAjH6U/AAAAAAAAAAI/AAAAAAAAA5s/M6vFCZPEjP0/s64/photo.jpg",
      "userId": "11447742370504927382"
     },
     "user_tz": 300
    },
    "id": "1mbmXNmgdIQP",
    "outputId": "f3eb211f-dd70-4c6f-9249-3d71a36718b1"
   },
   "outputs": [
    {
     "name": "stdout",
     "output_type": "stream",
     "text": [
      "Ground state energy =  -12.381094103372368 +- 0.0008217347476502177\n",
      "Exact ground state energy =  -12.38148999965475\n"
     ]
    }
   ],
   "source": [
    "#Computing the ground state energy by taking average over the last 100 iterations\n",
    "print(\"Ground state energy = \", np.mean(RNNEnergy[-100:]), \"+-\", np.sqrt(np.max(varRNNEnergy[-100:])/(numsamples*100))) #We use np.max(varRNNEnergy[-100:]) to estimate an upper bound on the error\n",
    "print(\"Exact ground state energy = \", E_exact)"
   ]
  },
  {
   "cell_type": "markdown",
   "metadata": {
    "colab_type": "text",
    "id": "2Z_9__WGeOHU"
   },
   "source": [
    "Amazing! We can also plot the variational energy and the energy variance where we observe convergence during the last iterations."
   ]
  },
  {
   "cell_type": "code",
   "execution_count": 10,
   "metadata": {
    "colab": {
     "base_uri": "https://localhost:8080/",
     "height": 411
    },
    "colab_type": "code",
    "executionInfo": {
     "elapsed": 1300,
     "status": "ok",
     "timestamp": 1581260778334,
     "user": {
      "displayName": "Mohamed Hibat Allah",
      "photoUrl": "https://lh4.googleusercontent.com/-NN_4cqAjH6U/AAAAAAAAAAI/AAAAAAAAA5s/M6vFCZPEjP0/s64/photo.jpg",
      "userId": "11447742370504927382"
     },
     "user_tz": 300
    },
    "id": "S6U81Z0rhHaH",
    "outputId": "b3d58e0e-26f2-4568-e65c-78b5bf39a9bf"
   },
   "outputs": [
    {
     "data": {
      "image/png": "[encoded data removed]",
      "text/plain": [
       "<Figure size 720x432 with 1 Axes>"
      ]
     },
     "metadata": {
      "needs_background": "light"
     },
     "output_type": "display_data"
    }
   ],
   "source": [
    "fig, ax = plt.subplots(figsize=(10,6))\n",
    "\n",
    "ax.plot(np.arange(1, len(RNNEnergy)+1), RNNEnergy, \"b-\", label=\"Variational energy of the RNN\")\n",
    "ax.plot(np.arange(1, len(RNNEnergy)+1), [E_exact]*len(RNNEnergy), \"k--\", label=\"Exact energy\")\n",
    "\n",
    "ax.set_xlabel(r'Training step', fontsize = 25)\n",
    "ax.set_ylabel('Variational energy', fontsize = 25)\n",
    "plt.legend()\n",
    "\n",
    "plt.show()"
   ]
  },
  {
   "cell_type": "markdown",
   "metadata": {
    "colab_type": "text",
    "id": "48mlVcvhkXAA"
   },
   "source": [
    "### **Energy variance**"
   ]
  },
  {
   "cell_type": "code",
   "execution_count": 0,
   "metadata": {
    "colab": {
     "base_uri": "https://localhost:8080/",
     "height": 411
    },
    "colab_type": "code",
    "executionInfo": {
     "elapsed": 1248,
     "status": "ok",
     "timestamp": 1581260786035,
     "user": {
      "displayName": "Mohamed Hibat Allah",
      "photoUrl": "https://lh4.googleusercontent.com/-NN_4cqAjH6U/AAAAAAAAAAI/AAAAAAAAA5s/M6vFCZPEjP0/s64/photo.jpg",
      "userId": "11447742370504927382"
     },
     "user_tz": 300
    },
    "id": "mdFR_2yHj05j",
    "outputId": "2a55d20b-bbc1-4bb0-bbde-ae652bbbeca7"
   },
   "outputs": [
    {
     "data": {
      "image/png": "[encoded data removed]",
      "text/plain": [
       "<Figure size 720x432 with 1 Axes>"
      ]
     },
     "metadata": {
      "tags": []
     },
     "output_type": "display_data"
    }
   ],
   "source": [
    "fig, ax = plt.subplots(figsize=(10,6))\n",
    "\n",
    "ax.semilogy(np.arange(1, len(RNNEnergy)+1), varRNNEnergy, \"b-\", label=\"Energy variance of the RNN\")\n",
    "\n",
    "ax.set_xlabel(r'Training step', fontsize = 25)\n",
    "ax.set_ylabel('Energy variance', fontsize = 25)\n",
    "plt.legend()\n",
    "\n",
    "plt.show()"
   ]
  },
  {
   "cell_type": "markdown",
   "metadata": {
    "colab_type": "text",
    "id": "cvav7t7Efi7O"
   },
   "source": [
    "## **Explorations**"
   ]
  },
  {
   "cell_type": "markdown",
   "metadata": {
    "colab_type": "text",
    "id": "rlcpx-jqfniT"
   },
   "source": [
    "- If you want to explore large system sizes with the pRNN wavefunction, here are some ground states energy of 1DTFIM at the critical point (Bx = 1) given by DMRG and can be considered exact:\n",
    "\n",
    "\n",
    "> N=20 : -25.1077971081\n",
    "\n",
    "> N=30 : -37.8380982304\n",
    "\n",
    "> N=40 : -50.5694337844\n",
    "\n",
    "> N=50 : -63.3011891370\n",
    "\n",
    "> N=60 : -76.0331561023\n",
    "\n",
    "> N=70 : -88.7652446334\n",
    "\n",
    "> N=80 : -101.4974094169\n",
    "\n",
    "> N=90 : -114.2296251736\n",
    "\n",
    "> N=100 : -126.9618766964\n",
    "\n",
    "> N=1000 : -1272.8762945220\n",
    "\n",
    "- You can also play with the hyperparameters (memory units, number of layers, number of samples, learning rate) to obtain better accuracies.\n",
    "\n",
    " "
   ]
  }
 ],
 "metadata": {
  "accelerator": "GPU",
  "colab": {
   "authorship_tag": "ABX9TyPnQCOwHT5nFwFq7zbNCtac",
   "collapsed_sections": [],
   "name": "Tutorial_1DTFIM.ipynb",
   "provenance": []
  },
  "kernelspec": {
   "display_name": "Python 3",
   "language": "python",
   "name": "python3"
  },
  "language_info": {
   "codemirror_mode": {
    "name": "ipython",
    "version": 3
   },
   "file_extension": ".py",
   "mimetype": "text/x-python",
   "name": "python",
   "nbconvert_exporter": "python",
   "pygments_lexer": "ipython3",
   "version": "3.6.13"
  }
 },
 "nbformat": 4,
 "nbformat_minor": 1
}
