{
 "cells": [
  {
   "cell_type": "code",
   "execution_count": 7,
   "id": "e0e813c2",
   "metadata": {},
   "outputs": [],
   "source": [
    "import numpy as np\n",
    "import matplotlib.pyplot as plt\n",
    "probs_all_basis = np.load(\"probs_all_basis.npy\")"
   ]
  },
  {
   "cell_type": "code",
   "execution_count": 8,
   "id": "612fa24f",
   "metadata": {},
   "outputs": [],
   "source": [
    "log_probs_all_basis = np.log(log_probs_all_basis)"
   ]
  },
  {
   "cell_type": "code",
   "execution_count": 48,
   "id": "4fa8d65e",
   "metadata": {
    "scrolled": false
   },
   "outputs": [
    {
     "name": "stdout",
     "output_type": "stream",
     "text": [
      "[-0.69442115 -0.28528772 -0.21991275 -0.18544805 -0.16916702 -0.16561929\n",
      " -0.17087516 -0.18257059 -0.1992515  -0.21974834]\n",
      "[-0.69442115 -0.28528772 -0.21991275 -0.18544805 -0.16916702 -0.16561929\n",
      " -0.17087516 -0.18257059 -0.1992515  -1.62313514]\n"
     ]
    }
   ],
   "source": [
    "print(log_probs_all_basis[0])\n",
    "print(log_probs_all_basis[1])"
   ]
  },
  {
   "cell_type": "code",
   "execution_count": 28,
   "id": "a9b371a1",
   "metadata": {
    "scrolled": true
   },
   "outputs": [
    {
     "name": "stdout",
     "output_type": "stream",
     "text": [
      "(1024,)\n",
      "[1. 1. 1. ... 1. 1. 1.]\n"
     ]
    }
   ],
   "source": [
    "print(probs_all_basis[:,0].shape)\n",
    "print(np.ones(1024))"
   ]
  },
  {
   "cell_type": "code",
   "execution_count": 52,
   "id": "da8e8be9",
   "metadata": {},
   "outputs": [
    {
     "name": "stdout",
     "output_type": "stream",
     "text": [
      "[0.08271936 0.02032938 0.00886399 ... 0.00943382 0.02010798 0.0865899 ]\n",
      "(1024,)\n",
      "(512,)\n"
     ]
    }
   ],
   "source": [
    "p_abc = np.ones((1024))\n",
    "for i in range (10):\n",
    "    p_abc*= probs_all_basis[:,i]\n",
    "log_p_abc = np.log(p_abc)\n",
    "print(p_abc)\n",
    "print(p_abc.shape)\n",
    "print(np.unique(np.sum(np.split(p_abc, 2), axis = 0)).shape)"
   ]
  },
  {
   "cell_type": "code",
   "execution_count": 55,
   "id": "3b38b9d5",
   "metadata": {},
   "outputs": [
    {
     "name": "stderr",
     "output_type": "stream",
     "text": [
      "C:\\Users\\Administrator\\anaconda3\\envs\\RNN\\lib\\site-packages\\ipykernel_launcher.py:22: RuntimeWarning: divide by zero encountered in log\n",
      "C:\\Users\\Administrator\\anaconda3\\envs\\RNN\\lib\\site-packages\\ipykernel_launcher.py:25: RuntimeWarning: divide by zero encountered in log\n",
      "C:\\Users\\Administrator\\anaconda3\\envs\\RNN\\lib\\site-packages\\ipykernel_launcher.py:30: RuntimeWarning: divide by zero encountered in log\n"
     ]
    }
   ],
   "source": [
    "N = 1024\n",
    "system_size = 9\n",
    "# initialization\n",
    "\n",
    "p_ab = np.zeros((9, 9, N))\n",
    "log_p_ab = np.zeros((9, 9, N))\n",
    "p_bc = np.zeros((9, 9, N))\n",
    "log_p_bc = np.zeros((9, 9, N))\n",
    "p_b = np.zeros((9, 9, N))\n",
    "log_p_b = np.zeros((9, 9, N))\n",
    "\n",
    "\n",
    "\n",
    "for i in range (1,9):\n",
    "    for j in range (i, 9):\n",
    "        p_ab[i ,j] = 1\n",
    "        for k in range (j):\n",
    "            p_ab[i ,j]*=probs_all_basis[:,k] #calculate p_ab\n",
    "            \n",
    "        p_ab[i, j, :2**j] = np.unique(p_ab[i, j])  # get rid of repeated part\n",
    "        p_ab[i, j, 2**j:] = 0                      # get rid of repeated part\n",
    "        log_p_ab[i, j] = np.log(p_ab[i, j])\n",
    "        \n",
    "        p_bc[i, j, : int(N/2**i)] = np.sum(np.split(p_abc, 2**i), axis = 0)\n",
    "        log_p_bc[i ,j] = np.log(p_bc[i ,j])\n",
    "        if (j == i):\n",
    "            continue\n",
    "        else :\n",
    "            p_b[i, j, : 2**(j-i)] = np.sum(np.split(p_ab[i, j, :2**j], 2**i), axis = 0)\n",
    "            log_p_b[i ,j] = np.log(p_b[i ,j])\n",
    "        "
   ]
  },
  {
   "cell_type": "code",
   "execution_count": null,
   "id": "a002d990",
   "metadata": {},
   "outputs": [],
   "source": [
    "for i in range (1, 9):\n",
    "    for j in range (i , 9):"
   ]
  }
 ],
 "metadata": {
  "kernelspec": {
   "display_name": "Python 3",
   "language": "python",
   "name": "python3"
  },
  "language_info": {
   "codemirror_mode": {
    "name": "ipython",
    "version": 3
   },
   "file_extension": ".py",
   "mimetype": "text/x-python",
   "name": "python",
   "nbconvert_exporter": "python",
   "pygments_lexer": "ipython3",
   "version": "3.6.13"
  }
 },
 "nbformat": 4,
 "nbformat_minor": 5
}
