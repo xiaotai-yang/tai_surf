{
 "cells": [
  {
   "cell_type": "markdown",
   "metadata": {
    "colab_type": "text",
    "id": "RhM4scTVRx-n"
   },
   "source": [
    "# Tutorial: Ground State of 1D J1-J2 Model with RNN wavefunctions\n",
    "\n",
    "Code by **Mohamed Hibat Allah** and **Martin Ganahl**.\n",
    "\n"
   ]
  },
  {
   "cell_type": "markdown",
   "metadata": {
    "colab_type": "text",
    "id": "64aq4ZKbZPdW"
   },
   "source": [
    "**This notebook is intended to help the reader to get familiarized with Exact Diagonalization (ED) and Complex Recurrent Neural Networks (cRNN) wavefunctions. Here, we just explore small system sizes for pedagogical purposes and to keep the running time very short.**\n",
    "\n",
    "Check if you specifying the right \"path\" below to the google colab notebook on Drive to make sure everything below is working properly\n",
    "\n",
    "Make sure also you use a GPU by going to \"Runtime/Change Runtime type\" in Google Colaboratory to get a speedup"
   ]
  },
  {
   "cell_type": "code",
   "execution_count": 1,
   "metadata": {
    "colab": {
     "base_uri": "https://localhost:8080/",
     "height": 110
    },
    "colab_type": "code",
    "executionInfo": {
     "elapsed": 21553,
     "status": "ok",
     "timestamp": 1581340377614,
     "user": {
      "displayName": "Mohamed Hibat Allah",
      "photoUrl": "https://lh4.googleusercontent.com/-NN_4cqAjH6U/AAAAAAAAAAI/AAAAAAAAA5s/M6vFCZPEjP0/s64/photo.jpg",
      "userId": "11447742370504927382"
     },
     "user_tz": 300
    },
    "id": "Te081Vh12r4N",
    "outputId": "e29e7cde-bfa6-4324-dd61-983591408aa6"
   },
   "outputs": [
    {
     "ename": "ModuleNotFoundError",
     "evalue": "No module named 'google.colab'",
     "output_type": "error",
     "traceback": [
      "\u001b[1;31m---------------------------------------------------------------------------\u001b[0m",
      "\u001b[1;31mModuleNotFoundError\u001b[0m                       Traceback (most recent call last)",
      "\u001b[1;32m<ipython-input-1-2cac22845c33>\u001b[0m in \u001b[0;36m<module>\u001b[1;34m\u001b[0m\n\u001b[1;32m----> 1\u001b[1;33m \u001b[1;32mfrom\u001b[0m \u001b[0mgoogle\u001b[0m\u001b[1;33m.\u001b[0m\u001b[0mcolab\u001b[0m \u001b[1;32mimport\u001b[0m \u001b[0mdrive\u001b[0m\u001b[1;33m\u001b[0m\u001b[1;33m\u001b[0m\u001b[0m\n\u001b[0m\u001b[0;32m      2\u001b[0m \u001b[0mdrive\u001b[0m\u001b[1;33m.\u001b[0m\u001b[0mmount\u001b[0m\u001b[1;33m(\u001b[0m\u001b[1;34m'/content/gdrive/'\u001b[0m\u001b[1;33m)\u001b[0m\u001b[1;33m\u001b[0m\u001b[1;33m\u001b[0m\u001b[0m\n\u001b[0;32m      3\u001b[0m \u001b[1;32mimport\u001b[0m \u001b[0msys\u001b[0m\u001b[1;33m\u001b[0m\u001b[1;33m\u001b[0m\u001b[0m\n\u001b[0;32m      4\u001b[0m \u001b[0msys\u001b[0m\u001b[1;33m.\u001b[0m\u001b[0mpath\u001b[0m\u001b[1;33m.\u001b[0m\u001b[0mappend\u001b[0m\u001b[1;33m(\u001b[0m\u001b[1;34m'gdrive/My Drive/RNNWavefunctions/RNNWavefunctions-master/J1J2'\u001b[0m\u001b[1;33m)\u001b[0m\u001b[1;33m\u001b[0m\u001b[1;33m\u001b[0m\u001b[0m\n",
      "\u001b[1;31mModuleNotFoundError\u001b[0m: No module named 'google.colab'"
     ]
    }
   ],
   "source": [
    "from google.colab import drive\n",
    "drive.mount('/content/gdrive/')\n",
    "import sys\n",
    "sys.path.append('gdrive/My Drive/RNNWavefunctions/RNNWavefunctions-master/J1J2')"
   ]
  },
  {
   "cell_type": "code",
   "execution_count": 2,
   "metadata": {},
   "outputs": [
    {
     "name": "stdout",
     "output_type": "stream",
     "text": [
      "0.0\n"
     ]
    }
   ],
   "source": [
    "import tensorflow as tf\n",
    "def heavyside(inputs):\n",
    "    sign = tf.sign(tf.sign(inputs) + 0.1 ) #tf.sign(0) = 0, this is a way to cure that since I want tf.sign(0) = 1\n",
    "    return 0.5*(sign+1.0)\n",
    "with tf.Session() as sess:\n",
    "    a = sess.run(heavyside(-0.1))\n",
    "    print(a)"
   ]
  },
  {
   "cell_type": "code",
   "execution_count": 3,
   "metadata": {
    "colab": {},
    "colab_type": "code",
    "id": "a4bQ-SMm20WM"
   },
   "outputs": [],
   "source": [
    "import numpy as np\n",
    "import matplotlib.pyplot as plt\n",
    "\n",
    "from matplotlib import rcParams\n",
    "rcParams['axes.labelsize']  = 20\n",
    "rcParams['font.serif']      = ['Computer Modern']\n",
    "rcParams['font.size']       = 10\n",
    "rcParams['legend.fontsize'] = 20\n",
    "rcParams['xtick.labelsize'] = 20\n",
    "rcParams['ytick.labelsize'] = 20"
   ]
  },
  {
   "cell_type": "markdown",
   "metadata": {
    "colab_type": "text",
    "id": "j4tkqj6qipmp"
   },
   "source": [
    "## **Calculating the ground state energy of 1D J1J2 using Exact Diagonalization (ED)**"
   ]
  },
  {
   "cell_type": "markdown",
   "metadata": {
    "colab_type": "text",
    "id": "KzO3B4RWaXxA"
   },
   "source": [
    "Here, we attempt to calculate the ground state and the ground state energy of the 1D J1-J2 mode with Open Boundary Conditions using Exact diagonalization.\n",
    "\n",
    "The Hamiltonian is given as follows:\n",
    "\n",
    "$$     \\hat{H}_{J_1J_2} = J_1 \\sum_{\\langle i,j \\rangle} \\hat{{\\bf S}}_i \\cdot \\hat{{\\bf S}}_{j} + J_2 \\sum_{\\langle \\langle i,j \\rangle \\rangle} \\hat{{\\bf S}}_i \\cdot \\hat{{\\bf S}}_{j}.\n",
    " $$\n",
    "\n",
    "where ${\\bf S}_i$ is a spin-1/2 operator.  Here,\n",
    "$\\langle i,j \\rangle$ and $\\langle \\langle i,j \\rangle \\rangle$ denote\n",
    "nearest and next-to-nearest neighbor pairs, respectively. "
   ]
  },
  {
   "cell_type": "code",
   "execution_count": 4,
   "metadata": {
    "colab": {},
    "colab_type": "code",
    "id": "iqIMYDx5205l"
   },
   "outputs": [],
   "source": [
    "def J1J2MatrixElements(J1,J2,Bz,sigmap, periodic = True):\n",
    "\n",
    "    \"\"\"\n",
    "    computes the matrix element of the 1D J1-J2 model for a given state sigmap\n",
    "    -----------------------------------------------------------------------------------\n",
    "    Parameters:\n",
    "    J1, J2: np.ndarray of shape (N), respectively, and dtype=float:\n",
    "                Ising parameters\n",
    "    sigmap:     np.ndarrray of dtype=int and shape (N)\n",
    "                spin-state, integer encoded (using 0 for down spin and 1 for up spin)\n",
    "                A sample of spins can be fed here.\n",
    "    Bx: Transvers magnetic field (N)\n",
    "    periodic: False = open boundary conditions and True = periodic boundary conditions\n",
    "    -----------------------------------------------------------------------------------            \n",
    "    Returns: 2-tuple of type (np.ndarray,np.ndarray)\n",
    "             sigmas:         np.ndarray of dtype=int and shape (?,N)\n",
    "                             the states for which there exist non-zero matrix elements for given sigmap\n",
    "             matrixelements: np.ndarray of dtype=float and shape (?)\n",
    "                             the non-zero matrix elements\n",
    "    \"\"\"\n",
    "\n",
    "    sigmas=[]\n",
    "    matrixelements=[]\n",
    "    N=len(Bz)\n",
    "    #the diagonal part is simply the sum of all Sz-Sz interactions plus a B field\n",
    "    diag=np.dot(sigmap-0.5,Bz)\n",
    "\n",
    "    if periodic:\n",
    "        limit = N\n",
    "    else:\n",
    "        limit = N-1\n",
    "\n",
    "    for site in range(limit):\n",
    "        if sigmap[site]!=sigmap[(site+1)%N]: #if the two neighouring spins are opposite\n",
    "            diag-=0.25*J1[site] #add a negative energy contribution\n",
    "        else:\n",
    "            diag+=0.25*J1[site]\n",
    "        if site<(limit-1) and J2[site] != 0.0:\n",
    "            if sigmap[site]!=sigmap[(site+2)%N]: #if the two second neighouring spins are opposite\n",
    "                diag-=0.25*J2[site] #add a negative energy contribution\n",
    "            else:\n",
    "                diag+=0.25*J2[site]\n",
    "    matrixelements.append(diag) #add the diagonal part to the matrix elements\n",
    "    sigmas.append(np.copy(sigmap))\n",
    "\n",
    "    #off-diagonal part:\n",
    "    for site in range(limit):\n",
    "        if J1[site] != 0.0:\n",
    "            if sigmap[site]!=sigmap[(site+1)%N]:\n",
    "                sig=np.copy(sigmap)\n",
    "                sig[site]=sig[(site+1)%N] #Make the two neighbouring spins equal.\n",
    "                sig[(site+1)%N]=sigmap[site]\n",
    "                sigmas.append(sig) #The last fours lines are meant to flip the two neighbouring spins (that the effect of applying J+ and J-)\n",
    "                matrixelements.append(J1[site]/2)\n",
    "    for site in range(limit-1):\n",
    "        if J2[site] != 0.0:\n",
    "            if sigmap[site]!=sigmap[(site+2)%N]:\n",
    "                sig=np.copy(sigmap)\n",
    "                sig[site]=sig[(site+2)%N] #Make the two neighbouring spins equal.\n",
    "                sig[(site+2)%N]=sigmap[site]\n",
    "                sigmas.append(sig) #The last fours lines are meant to flip the two neighbouring spins (that the effect of applying J+ and J-)\n",
    "                matrixelements.append(J2[site]/2)\n",
    "\n",
    "    return np.array(sigmas),np.array(matrixelements)\n",
    "\n",
    "\n",
    "def ED_j1j2(N,j1 = 1.0,j2 =0.0, periodic=False):\n",
    "    \"\"\"\n",
    "    Returns a tuple (eta,U)\n",
    "      eta = a list of energy eigenvalues.\n",
    "      U = a list of energy eigenvectors\n",
    "    \"\"\"\n",
    "    basis = []\n",
    "\n",
    "    #Generate a basis\n",
    "    for i in range(2**N):\n",
    "        basis_temp = np.zeros((N))\n",
    "        a = np.array([int(d) for d in bin(i)[2:]])\n",
    "        l = len(a)\n",
    "        basis_temp[N-l:] = a\n",
    "\n",
    "        basis.append(basis_temp)\n",
    "\n",
    "    basis = np.array(basis)\n",
    "\n",
    "\n",
    "    J1=j1*np.ones(N)\n",
    "    J2=j2*np.ones(N)\n",
    "    Bz=np.zeros(N)\n",
    "\n",
    "    H=np.zeros((basis.shape[0],basis.shape[0])) #prepare the hamiltonian\n",
    "    for n in range(basis.shape[0]):\n",
    "        sigmas,elements=J1J2MatrixElements(J1,J2,Bz,np.reshape(basis[n,:],(N)),periodic) # choose one basis for calculating energy\n",
    "        for m in range(sigmas.shape[0]):     # the configuration that contributes to the energy\n",
    "            for b in range(basis.shape[0]):\n",
    "                if np.all(basis[b,:]==sigmas[m,:]):\n",
    "                    H[b,n]=elements[m]\n",
    "    eta,U=np.linalg.eigh(H) #diagonalize\n",
    "    return eta,U"
   ]
  },
  {
   "cell_type": "markdown",
   "metadata": {
    "colab_type": "text",
    "id": "F9pmTmurO6Op"
   },
   "source": [
    "It may take some time to do exact diagonalization. You can try up to $N=12$ spins otherwise you have to wait for a very long time.\n",
    "\n",
    "Here we choose $J_2 = 0.2$, you are encouraged to try other values if you are curious."
   ]
  },
  {
   "cell_type": "code",
   "execution_count": null,
   "metadata": {
    "colab": {
     "base_uri": "https://localhost:8080/",
     "height": 54
    },
    "colab_type": "code",
    "executionInfo": {
     "elapsed": 70714,
     "status": "ok",
     "timestamp": 1581340426808,
     "user": {
      "displayName": "Mohamed Hibat Allah",
      "photoUrl": "https://lh4.googleusercontent.com/-NN_4cqAjH6U/AAAAAAAAAAI/AAAAAAAAA5s/M6vFCZPEjP0/s64/photo.jpg",
      "userId": "11447742370504927382"
     },
     "user_tz": 300
    },
    "id": "S9WGz8gU7tiI",
    "outputId": "92967320-e1f6-4f4e-9f64-cd63f800d7ff"
   },
   "outputs": [],
   "source": [
    "N=14\n",
    "eta,U=ED_j1j2(N, j1 = 1.0, j2=0.2, periodic = True)\n",
    "\n",
    "print('the ground state energy is:')\n",
    "E_exact = min(eta)\n",
    "print(E_exact)"
   ]
  },
  {
   "cell_type": "markdown",
   "metadata": {
    "colab_type": "text",
    "id": "3xmDq6XVlrVh"
   },
   "source": [
    "## **Representing the ground state**"
   ]
  },
  {
   "cell_type": "markdown",
   "metadata": {
    "colab_type": "text",
    "id": "ZZf0mWkBa72x"
   },
   "source": [
    "Sometimes it is useful to represent the ground state in a plot as shown below, to know some information about the properties of the ground state, such as symmetries, sign of the amplitudes,..."
   ]
  },
  {
   "cell_type": "code",
   "execution_count": 5,
   "metadata": {
    "colab": {
     "base_uri": "https://localhost:8080/",
     "height": 417
    },
    "colab_type": "code",
    "executionInfo": {
     "elapsed": 70892,
     "status": "ok",
     "timestamp": 1581340427002,
     "user": {
      "displayName": "Mohamed Hibat Allah",
      "photoUrl": "https://lh4.googleusercontent.com/-NN_4cqAjH6U/AAAAAAAAAAI/AAAAAAAAA5s/M6vFCZPEjP0/s64/photo.jpg",
      "userId": "11447742370504927382"
     },
     "user_tz": 300
    },
    "id": "7uuosHmalOVx",
    "outputId": "3684401b-435f-4f0d-af69-2a0624fe2780"
   },
   "outputs": [
    {
     "data": {
      "image/png": "[encoded data removed]",
      "text/plain": [
       "<Figure size 720x432 with 1 Axes>"
      ]
     },
     "metadata": {
      "tags": []
     },
     "output_type": "display_data"
    }
   ],
   "source": [
    "fig, ax = plt.subplots(figsize=(10,6))\n",
    "\n",
    "ground_state = U[:,np.nonzero(eta==np.min(eta))[0][0]]\n",
    "\n",
    "plt.plot(ground_state,label=\"Ground state\")\n",
    "\n",
    "ax.set_xlabel(r'Basis index', fontsize = 25)\n",
    "ax.set_ylabel('Amplitude', fontsize = 25)\n",
    "\n",
    "plt.show()"
   ]
  },
  {
   "cell_type": "markdown",
   "metadata": {
    "colab_type": "text",
    "id": "7wj7-yrgbh3s"
   },
   "source": [
    "We notice here that the amplitudes of the ground state in the z-basis change the sign, hence we can use a complex recurrent neural network wavefunction (cRNN wavefunction) to take account of the fluctuating sign."
   ]
  },
  {
   "cell_type": "markdown",
   "metadata": {
    "colab_type": "text",
    "id": "p__YUOmUiuES"
   },
   "source": [
    "## **Calculating the ground state energy using an RNN wavefunction**"
   ]
  },
  {
   "cell_type": "markdown",
   "metadata": {
    "colab_type": "text",
    "id": "saskRC4Ob1rI"
   },
   "source": [
    "After that we obtained the ground state energy from exact diagonalization, we are going to value as a reference to assess the quality of the variational energy calculated by the cRNN wavefunction.\n",
    "\n",
    "Here we choose $J_2 = 0.2$ in the same way as exact diagonalization above."
   ]
  },
  {
   "cell_type": "code",
   "execution_count": 2,
   "metadata": {
    "colab": {
     "base_uri": "https://localhost:8080/",
     "height": 1000
    },
    "colab_type": "code",
    "executionInfo": {
     "elapsed": 199176,
     "status": "ok",
     "timestamp": 1581340555305,
     "user": {
      "displayName": "Mohamed Hibat Allah",
      "photoUrl": "https://lh4.googleusercontent.com/-NN_4cqAjH6U/AAAAAAAAAAI/AAAAAAAAA5s/M6vFCZPEjP0/s64/photo.jpg",
      "userId": "11447742370504927382"
     },
     "user_tz": 300
    },
    "id": "5xN7kugP4JJ1",
    "outputId": "2b2df754-d0d5-4639-b380-a8064187be4e"
   },
   "outputs": [
    {
     "ename": "IndentationError",
     "evalue": "unexpected indent (ComplexRNNwavefunction.py, line 94)",
     "output_type": "error",
     "traceback": [
      "Traceback \u001b[1;36m(most recent call last)\u001b[0m:\n",
      "  File \u001b[0;32m\"C:\\Users\\Administrator\\anaconda3\\envs\\RNN\\lib\\site-packages\\IPython\\core\\interactiveshell.py\"\u001b[0m, line \u001b[0;32m3343\u001b[0m, in \u001b[0;35mrun_code\u001b[0m\n    exec(code_obj, self.user_global_ns, self.user_ns)\n",
      "  File \u001b[0;32m\"<ipython-input-2-cc8133d81ec7>\"\u001b[0m, line \u001b[0;32m1\u001b[0m, in \u001b[0;35m<module>\u001b[0m\n    from TrainingRNN_J1J2 import run_J1J2\n",
      "\u001b[1;36m  File \u001b[1;32m\"C:\\Users\\Administrator\\PycharmProjects\\RNNWavefunctions\\Tutorials\\J1J2\\TrainingRNN_J1J2.py\"\u001b[1;36m, line \u001b[1;32m8\u001b[1;36m, in \u001b[1;35m<module>\u001b[1;36m\u001b[0m\n\u001b[1;33m    from ComplexRNNwavefunction import RNNwavefunction\u001b[0m\n",
      "\u001b[1;36m  File \u001b[1;32m\"C:\\Users\\Administrator\\PycharmProjects\\RNNWavefunctions\\Tutorials\\J1J2\\ComplexRNNwavefunction.py\"\u001b[1;36m, line \u001b[1;32m94\u001b[0m\n\u001b[1;33m    sample_temp=tf.reshape(tf.random.categorical(tf.log(output_ampl**2),num_samples=1),[-1,])\u001b[0m\n\u001b[1;37m    ^\u001b[0m\n\u001b[1;31mIndentationError\u001b[0m\u001b[1;31m:\u001b[0m unexpected indent\n"
     ]
    }
   ],
   "source": [
    "from TrainingRNN_J1J2 import run_J1J2\n",
    "\n",
    "#numsteps = number of training iterations\n",
    "#systemsize = the number of physical spins\n",
    "#J1_, J2_ = the coupling parameters of the J1-J2 Hamiltonian\n",
    "#Marshall_sign: True = A marshall sign is applied on top of the cRNN wavefunction, False = no prior is applied\n",
    "#numsamples = number of samples used for training\n",
    "numsamples = 200\n",
    "#num_units = number of memory units of the hidden state of the RNN\n",
    "#num_layers = number of vertically stacked RNN cells\n",
    "\n",
    "#This function trains a cRNN wavefunction for 1D J1J2 with the corresponding hyperparams\n",
    "RNNEnergy, varRNNEnergy = run_J1J2(numsteps = 30000, systemsize = 14, J1_  = 1.0, J2_ = 0.2, Marshall_sign = False, num_units = 10, num_layers = 1, numsamples = numsamples, learningrate = 5e-4, seed = 111)\n",
    "\n",
    "#RNNEnergy is a numpy array of the variational energy of the cRNN wavefunction\n",
    "#varRNNEnergy is a numpy array of the variance of the variational energy of the cRNN wavefunction"
   ]
  },
  {
   "cell_type": "markdown",
   "metadata": {
    "colab_type": "text",
    "id": "peYQlfmihIW-"
   },
   "source": [
    "## **Comparison of RNN results with ED**"
   ]
  },
  {
   "cell_type": "markdown",
   "metadata": {
    "colab_type": "text",
    "id": "hXamMx9PclH1"
   },
   "source": [
    "After we got the variational energies for each time step, we can now compare the RNN results with exact diagonalization"
   ]
  },
  {
   "cell_type": "code",
   "execution_count": 7,
   "metadata": {
    "colab": {
     "base_uri": "https://localhost:8080/",
     "height": 54
    },
    "colab_type": "code",
    "executionInfo": {
     "elapsed": 199164,
     "status": "ok",
     "timestamp": 1581340555311,
     "user": {
      "displayName": "Mohamed Hibat Allah",
      "photoUrl": "https://lh4.googleusercontent.com/-NN_4cqAjH6U/AAAAAAAAAAI/AAAAAAAAA5s/M6vFCZPEjP0/s64/photo.jpg",
      "userId": "11447742370504927382"
     },
     "user_tz": 300
    },
    "id": "1mbmXNmgdIQP",
    "outputId": "eb76216e-83fd-456a-dbfd-914527d288b7"
   },
   "outputs": [
    {
     "name": "stdout",
     "output_type": "stream",
     "text": [
      "Ground state energy =  (-3.9647076-0.00012957472j) +- 0.002005918529793412\n",
      "Exact ground state energy =  -3.9855798336170905\n"
     ]
    }
   ],
   "source": [
    "#Computing the ground state energy by taking average over the last 100 iterations\n",
    "print(\"Ground state energy = \", np.mean(RNNEnergy[-100:]), \"+-\", np.sqrt(np.max(varRNNEnergy[-100:])/(numsamples*100))) #We use np.max(varRNNEnergy[-100:]) to estimate an upper bound on the error\n",
    "print(\"Exact ground state energy = \", E_exact)"
   ]
  },
  {
   "cell_type": "markdown",
   "metadata": {
    "colab_type": "text",
    "id": "2Z_9__WGeOHU"
   },
   "source": [
    "Awesome! We can also plot the variational energy and the energy variance where we observe convergence during the last iterations"
   ]
  },
  {
   "cell_type": "code",
   "execution_count": 8,
   "metadata": {
    "colab": {
     "base_uri": "https://localhost:8080/",
     "height": 448
    },
    "colab_type": "code",
    "executionInfo": {
     "elapsed": 199523,
     "status": "ok",
     "timestamp": 1581340555687,
     "user": {
      "displayName": "Mohamed Hibat Allah",
      "photoUrl": "https://lh4.googleusercontent.com/-NN_4cqAjH6U/AAAAAAAAAAI/AAAAAAAAA5s/M6vFCZPEjP0/s64/photo.jpg",
      "userId": "11447742370504927382"
     },
     "user_tz": 300
    },
    "id": "S6U81Z0rhHaH",
    "outputId": "dd158549-c947-4821-e12f-27aeca04e8e7"
   },
   "outputs": [
    {
     "name": "stderr",
     "output_type": "stream",
     "text": [
      "C:\\Users\\Administrator\\anaconda3\\envs\\RNN\\lib\\site-packages\\numpy\\core\\numeric.py:538: ComplexWarning: Casting complex values to real discards the imaginary part\n",
      "  return array(a, dtype, copy=False, order=order)\n"
     ]
    },
    {
     "data": {
      "image/png": "[encoded data removed]",
      "text/plain": [
       "<Figure size 720x432 with 1 Axes>"
      ]
     },
     "metadata": {
      "needs_background": "light"
     },
     "output_type": "display_data"
    }
   ],
   "source": [
    "fig, ax = plt.subplots(figsize=(10,6))\n",
    "\n",
    "ax.plot(np.arange(1, len(RNNEnergy)+1), RNNEnergy, \"b-\", label=\"Variational energy of the RNN\")\n",
    "ax.plot(np.arange(1, len(RNNEnergy)+1), [E_exact]*len(RNNEnergy), \"k--\", label=\"Exact energy\")\n",
    "\n",
    "ax.set_xlabel(r'Training step', fontsize = 25)\n",
    "ax.set_ylabel('Variational energy', fontsize = 25)\n",
    "plt.legend()\n",
    "\n",
    "plt.show()"
   ]
  },
  {
   "cell_type": "markdown",
   "metadata": {
    "colab_type": "text",
    "id": "48mlVcvhkXAA"
   },
   "source": [
    "### **Energy variance**"
   ]
  },
  {
   "cell_type": "code",
   "execution_count": 9,
   "metadata": {
    "colab": {
     "base_uri": "https://localhost:8080/",
     "height": 411
    },
    "colab_type": "code",
    "executionInfo": {
     "elapsed": 200053,
     "status": "ok",
     "timestamp": 1581340556231,
     "user": {
      "displayName": "Mohamed Hibat Allah",
      "photoUrl": "https://lh4.googleusercontent.com/-NN_4cqAjH6U/AAAAAAAAAAI/AAAAAAAAA5s/M6vFCZPEjP0/s64/photo.jpg",
      "userId": "11447742370504927382"
     },
     "user_tz": 300
    },
    "id": "mdFR_2yHj05j",
    "outputId": "953c0a6a-1978-4a0b-edaf-662c42569c2f"
   },
   "outputs": [
    {
     "data": {
      "image/png": "[encoded data removed]",
      "text/plain": [
       "<Figure size 720x432 with 1 Axes>"
      ]
     },
     "metadata": {
      "tags": []
     },
     "output_type": "display_data"
    }
   ],
   "source": [
    "fig, ax = plt.subplots(figsize=(10,6))\n",
    "\n",
    "ax.semilogy(np.arange(1, len(RNNEnergy)+1), varRNNEnergy, \"b-\", label=\"Energy variance of the RNN\")\n",
    "\n",
    "ax.set_xlabel(r'Training step', fontsize = 25)\n",
    "ax.set_ylabel('Energy variance', fontsize = 25)\n",
    "plt.legend()\n",
    "\n",
    "plt.show()"
   ]
  },
  {
   "cell_type": "markdown",
   "metadata": {
    "colab_type": "text",
    "id": "ehLLYDaHuD80"
   },
   "source": [
    "In the beginning, the variance is small since the cRNN wavefunction was initially trapped in a local mimimum."
   ]
  },
  {
   "cell_type": "markdown",
   "metadata": {
    "colab_type": "text",
    "id": "cvav7t7Efi7O"
   },
   "source": [
    "## **Explorations**"
   ]
  },
  {
   "cell_type": "markdown",
   "metadata": {
    "colab_type": "text",
    "id": "rlcpx-jqfniT"
   },
   "source": [
    "- If you want to explore large system sizes with the cRNN wavefunction, here are some ground states energy of J1-J2 model (with open boundary conditions) given by DMRG and can be considered exact:\n",
    "\n",
    "> N = 100 (J1 = 1)\n",
    " >>  J2 = 0.0: -44.127739860\n",
    "\n",
    " >>  J2 = 0.2: -40.73881897\n",
    "\n",
    " >>  J2 = 0.5 (Majumdar-Ghosh point): -37.5\n",
    "\n",
    " >>  J2 = 0.8: -42.07006\n",
    "\n",
    "- You can also play with the hyperparameters (memory units, number of layers, number of samples, learning rate, Marshall sign) to obtain better accuracies.\n",
    "\n",
    " "
   ]
  }
 ],
 "metadata": {
  "colab": {
   "authorship_tag": "ABX9TyMyagzwzdXp5twy9w1O9LcG",
   "collapsed_sections": [],
   "name": "Tutorial_1DJ1J2.ipynb",
   "provenance": []
  },
  "kernelspec": {
   "display_name": "Python 3",
   "language": "python",
   "name": "python3"
  },
  "language_info": {
   "codemirror_mode": {
    "name": "ipython",
    "version": 3
   },
   "file_extension": ".py",
   "mimetype": "text/x-python",
   "name": "python",
   "nbconvert_exporter": "python",
   "pygments_lexer": "ipython3",
   "version": "3.6.13"
  }
 },
 "nbformat": 4,
 "nbformat_minor": 1
}
