{
 "cells": [
  {
   "cell_type": "code",
   "execution_count": 1,
   "id": "d965638b",
   "metadata": {},
   "outputs": [],
   "source": [
    "import numpy as np\n",
    "import matplotlib.pyplot as plt\n",
    "N = 1024\n",
    "system_size = 10\n",
    "\n",
    "amps_all_basis = np.load(\"amps_all_basis.npy\")\n",
    "amps_all_basis += np.random.rand(N, system_size)/(1e+9)\n",
    "log_amps_all_basis = np.log(amps_all_basis)"
   ]
  },
  {
   "cell_type": "code",
   "execution_count": 2,
   "id": "3f8ed6f2",
   "metadata": {
    "scrolled": false
   },
   "outputs": [
    {
     "name": "stdout",
     "output_type": "stream",
     "text": [
      "1.0000000511160203\n",
      "(1024, 10)\n"
     ]
    }
   ],
   "source": [
    "N = 1024\n",
    "system_size = 10\n",
    "p_test = np.ones(N)\n",
    "for i in range (system_size):\n",
    "    p_test*= (np.abs(amps_all_basis)**2)[:,i]\n",
    "    \n",
    "print(np.sum(p_test))\n",
    "probs_all_basis = np.abs(amps_all_basis)**2\n",
    "print(probs_all_basis.shape)"
   ]
  },
  {
   "cell_type": "code",
   "execution_count": 3,
   "id": "89190077",
   "metadata": {
    "scrolled": true
   },
   "outputs": [
    {
     "name": "stdout",
     "output_type": "stream",
     "text": [
      "(1024,)\n",
      "[1. 1. 1. ... 1. 1. 1.]\n"
     ]
    }
   ],
   "source": [
    "print(probs_all_basis[:,0].shape)\n",
    "print(np.ones(1024))"
   ]
  },
  {
   "cell_type": "code",
   "execution_count": 4,
   "id": "e0dd3107",
   "metadata": {},
   "outputs": [
    {
     "name": "stdout",
     "output_type": "stream",
     "text": [
      "[8.75967360e-98 6.07651238e-79 1.67178668e-80 ... 3.32114658e-78\n",
      " 3.93426145e-81 4.41843562e-99]\n",
      "(1024,)\n",
      "(512,)\n"
     ]
    }
   ],
   "source": [
    "p_abc = np.ones((1024))\n",
    "for i in range (10):\n",
    "    p_abc*= probs_all_basis[:,i]\n",
    "log_p_abc = np.log(p_abc)\n",
    "print(p_abc)\n",
    "print(p_abc.shape)\n",
    "print(np.unique(np.sum(np.split(p_abc, 2), axis = 0)).shape)"
   ]
  },
  {
   "cell_type": "code",
   "execution_count": 5,
   "id": "2e1c3083",
   "metadata": {},
   "outputs": [],
   "source": [
    "\n",
    "# initialization\n",
    "\n",
    "p_ab = np.ones((system_size, system_size, N))\n",
    "log_p_ab = np.ones((system_size, system_size, N))\n",
    "p_bc = np.ones((system_size, system_size, N))\n",
    "log_p_bc = np.ones((system_size, system_size, N))\n",
    "p_b = np.ones((system_size, system_size, N))\n",
    "log_p_b = np.ones((system_size, system_size, N))\n",
    "\n",
    "\n",
    "\n",
    "for i in range (1,system_size):\n",
    "    for j in range (i, system_size):     # i, j is the cut position\n",
    "        p_ab[i-1, j-1, :2**j] = np.sum(np.split(p_abc, 2**j), axis = 1)\n",
    "        p_bc[i - 1, j - 1, : int(N/2**i)] = np.sum(np.split(p_abc, 2**i), axis = 0)\n",
    "   \n",
    "        if (j == i):\n",
    "            continue\n",
    "        else :\n",
    "            p_b[i - 1, j - 1, : 2**(j-i)] = np.sum(np.split(p_ab[i - 1, j - 1, :2**j], 2**i), axis = 0)\n",
    "            "
   ]
  },
  {
   "cell_type": "code",
   "execution_count": 6,
   "id": "63cb49d4",
   "metadata": {},
   "outputs": [],
   "source": [
    "N = 1024\n",
    "system_size = 10\n",
    "# initialization\n",
    "\n",
    "p_abc_new = np.ones((system_size, system_size+1, N))\n",
    "p_ab = np.ones((system_size, system_size, N))\n",
    "p_bc = np.ones((system_size, system_size, N))\n",
    "p_b = np.ones((system_size, system_size, N))\n",
    "\n",
    "cmi = []\n",
    "for i in range (system_size-1):\n",
    "    cmi.append(np.array([]))\n",
    "for x in range (system_size):\n",
    "    for i in range (x+1,system_size):\n",
    "        for j in range (i, system_size):     # i, j is the cut position\n",
    "            for k in range (j+1 ,system_size+1):\n",
    "                    \n",
    "                p_abc_new = np.ones((system_size, system_size+1, N))\n",
    "                p_ab = np.ones((system_size, system_size, N))\n",
    "                p_bc = np.ones((system_size, system_size, N))\n",
    "                p_b = np.ones((system_size, system_size, N))\n",
    "                \n",
    "                p_abc_new[x, k, :2**(k-x)] = np.sum(np.split(np.sum(np.split(p_abc, 2**k), axis = 1), 2**x) , axis = 0)\n",
    "                \n",
    "                p_ab[i-1, j-1, :2**(j-x)] = np.sum(np.split(p_abc_new[x, k, :2**(k-x)], 2**(j-x)), axis = 1)\n",
    "                \n",
    "                p_bc[i - 1, j - 1, : int(2**(k-i))] = np.sum(np.split(p_abc_new[x, k, :2**(k-x)], 2**(i-x)), axis = 0)\n",
    "                if (j == i):\n",
    "                    pass\n",
    "                else :\n",
    "                    p_b[i - 1, j - 1, : 2**(j-i)] = np.sum(np.split(p_ab[i - 1, j - 1, :2**(j-x)], 2**(i-x)), axis = 0)\n",
    "                cmi[j-i] = np.append(cmi[j-i],(np.sum(-p_ab[i-1, j-1]*np.log(p_ab[i-1, j-1]) -p_bc[i-1, j-1]*np.log(p_bc[i-1, j-1]) \\\n",
    "                                   + p_abc_new[x, k]*np.log(p_abc_new[x,k]) + p_b[i-1, j-1]*np.log(p_b[i-1, j-1]))))\n",
    "                                            "
   ]
  },
  {
   "cell_type": "code",
   "execution_count": 7,
   "id": "d94fd685",
   "metadata": {},
   "outputs": [],
   "source": [
    "log_cmi = []\n",
    "for i in range (system_size-1):\n",
    "    log_cmi.append(np.array([]))\n",
    "    log_cmi[i] = np.append(log_cmi[i], np.log(cmi[i]))\n",
    "\n",
    "log_cmi_data = np.zeros(9)\n",
    "log_cmi_var = np.zeros(9)\n",
    "for i in range (len(log_cmi_data)):\n",
    "    log_cmi_data[i] = np.average(log_cmi[i])\n",
    "    log_cmi_var[i] = np.std(log_cmi[i])"
   ]
  },
  {
   "cell_type": "code",
   "execution_count": 15,
   "id": "965649f6",
   "metadata": {},
   "outputs": [
    {
     "name": "stdout",
     "output_type": "stream",
     "text": [
      "[array([-4.30591083, -3.8667135 , -3.67929314, -3.57902407, -2.99270061,\n",
      "       -1.89105077, -1.09028653, -0.64935762, -0.36652318, -4.12461865,\n",
      "       -3.68304013, -3.48962383, -2.82402616, -1.62893521, -0.78181584,\n",
      "       -0.31189435, -0.03740091, -4.13852423, -3.69031354, -2.83077752,\n",
      "       -1.53002887, -0.64931885, -0.1669418 ,  0.09885527, -4.1899834 ,\n",
      "       -2.90187182, -1.46977524, -0.562898  , -0.07724679,  0.17999102,\n",
      "       -3.03384727, -1.42409829, -0.4957811 , -0.01180207,  0.23764662,\n",
      "       -1.58102261, -0.52258115, -0.01389413,  0.24015498, -0.9438443 ,\n",
      "       -0.23719645,  0.07473187, -0.90669169, -0.35989404, -1.14682791,\n",
      "       -4.7408501 , -4.31293396, -4.12905865, -3.78524838, -2.8350813 ,\n",
      "       -2.00290432, -1.49983839, -1.26005511, -4.45394462, -4.01803427,\n",
      "       -3.51518811, -2.44711043, -1.57403046, -1.06480624, -0.84003948,\n",
      "       -4.383273  , -3.50624728, -2.26043761, -1.35217613, -0.84741563,\n",
      "       -0.636186  , -3.65423785, -2.13948716, -1.2010514 , -0.70564703,\n",
      "       -0.50579864, -2.2537641 , -1.18084361, -0.66558547, -0.46448619,\n",
      "       -1.59001768, -0.87378643, -0.62480043, -1.52511037, -1.07666385,\n",
      "       -1.91811257, -4.96619501, -4.54487641, -4.14963287, -3.30877955,\n",
      "       -2.51334592, -2.03745807, -1.8528715 , -4.62735461, -3.87760754,\n",
      "       -2.83046751, -1.98683952, -1.51983064, -1.3506834 , -3.94889356,\n",
      "       -2.58894178, -1.70356766, -1.24924643, -1.09218275, -2.67375447,\n",
      "       -1.6358843 , -1.15992554, -1.00097004, -2.05812663, -1.37469885,\n",
      "       -1.16975299, -2.04505083, -1.65007888, -2.4486315 , -5.09476773,\n",
      "       -4.43124188, -3.52696059, -2.7630191 , -2.35010768, -2.21414878,\n",
      "       -4.25964632, -3.01267117, -2.19231786, -1.7898656 , -1.66432399,\n",
      "       -3.03235175, -2.04366151, -1.61485217, -1.48498096, -2.48582363,\n",
      "       -1.83811637, -1.6595841 , -2.52559446, -2.15205326, -2.81365894,\n",
      "       -4.78473647, -3.65371321, -2.90615852, -2.55422526, -2.45107515,\n",
      "       -3.48324096, -2.5465411 , -2.15882347, -2.04670419, -3.00477096,\n",
      "       -2.37352175, -2.20395562, -3.04171728, -2.65783626, -3.07699582,\n",
      "       -4.32987031, -3.44129663, -3.07770698, -2.96976522, -3.87475132,\n",
      "       -3.18702742, -2.99453961, -3.70152843, -3.25491042, -3.27944561,\n",
      "       -6.26294851, -4.7796507 , -4.43007742, -4.54274573, -3.94806185,\n",
      "       -3.42964225, -5.48444767, -4.67945116, -3.54447114, -3.74014693]), array([-4.90109425, -4.44371344, -4.23953296, -3.30598123, -1.9846802 ,\n",
      "       -1.13124424, -0.6755182 , -0.38617515, -4.71311734, -4.244515  ,\n",
      "       -3.14198927, -1.71497262, -0.81779311, -0.33422987, -0.05432926,\n",
      "       -4.70855418, -3.14607574, -1.60652691, -0.68031956, -0.1859652 ,\n",
      "        0.08430452, -3.22454722, -1.53790531, -0.58985159, -0.09374507,\n",
      "        0.16725875, -1.64716409, -0.57809704, -0.06172947,  0.19895809,\n",
      "       -0.94875347, -0.24790078,  0.0636146 , -0.9170228 , -0.37328913,\n",
      "       -1.22454241, -5.368102  , -4.91077118, -4.27069978, -2.9960817 ,\n",
      "       -2.06979561, -1.53974861, -1.29132178, -5.0584032 , -4.01131213,\n",
      "       -2.59145843, -1.63180744, -1.09912622, -0.8673556 , -4.04413314,\n",
      "       -2.38792079, -1.40164232, -0.87698221, -0.66005496, -2.38777288,\n",
      "       -1.29099695, -0.75948409, -0.54966595, -1.59940646, -0.89411522,\n",
      "       -0.6473048 , -1.54437041, -1.10428962, -2.09448761, -5.61251635,\n",
      "       -4.73293672, -3.52027995, -2.60332323, -2.0924049 , -1.8983428 ,\n",
      "       -4.51718749, -3.01176669, -2.06083545, -1.56557255, -1.38916825,\n",
      "       -2.88556121, -1.81549751, -1.31884223, -1.15135696, -2.07316254,\n",
      "       -1.40847119, -1.20888469, -2.07766083, -1.69963261, -2.77001369,\n",
      "       -5.15491467, -3.76078839, -2.86519111, -2.41653614, -2.27188386,\n",
      "       -3.35146794, -2.32759173, -1.87826348, -1.74187678, -2.50897804,\n",
      "       -1.89234521, -1.72426247, -2.57886695, -2.23528985, -3.31774371,\n",
      "       -4.04335843, -3.07198557, -2.6679243 , -2.55304162, -3.04398843,\n",
      "       -2.46801228, -2.31818451, -3.13265255, -2.7999085 , -3.80106674,\n",
      "       -3.9710365 , -3.41441918, -3.26633171, -3.88562745, -3.53016199,\n",
      "       -4.27597365, -5.03698233, -4.60437565, -4.75043692, -5.27201028]), array([-5.4459414 , -4.96529633, -3.5327383 , -2.04032763, -1.15456969,\n",
      "       -0.690243  , -0.39717997, -5.22768411, -3.37494407, -1.7661391 ,\n",
      "       -0.83833953, -0.34684845, -0.0638524 , -3.38131199, -1.65252684,\n",
      "       -0.69828573, -0.19688547,  0.07598125, -1.74264452, -0.66429587,\n",
      "       -0.13841063,  0.13303177, -0.99866869, -0.29096497,  0.02716322,\n",
      "       -0.93340137, -0.38793241, -1.2421633 , -5.91308534, -4.67677047,\n",
      "       -3.09401658, -2.10744107, -1.56173392, -1.30842928, -4.44356871,\n",
      "       -2.68011881, -1.66484459, -1.11838744, -0.88260166, -2.59970476,\n",
      "       -1.47548667, -0.92001857, -0.69455209, -1.6973815 , -0.97796993,\n",
      "       -0.72297032, -1.57526405, -1.13494966, -2.13707032, -5.26900718,\n",
      "       -3.6519968 , -2.65391306, -2.12244784, -1.92302038, -3.26269762,\n",
      "       -2.15048359, -1.61924262, -1.43396112, -2.23554848, -1.55295687,\n",
      "       -1.34559802, -2.1309077 , -1.75595205, -2.85548582, -4.04587339,\n",
      "       -2.97199095, -2.4833975 , -2.32947578, -2.77262947, -2.13857669,\n",
      "       -1.96498202, -2.66834987, -2.33352716, -3.47050842, -3.54770625,\n",
      "       -2.95925282, -2.80832268, -3.29390454, -2.97970778, -4.06205319,\n",
      "       -4.26572903, -3.94805334, -4.73696263, -5.65081959]), array([-5.9286377 , -3.69244569, -2.07407724, -1.16835035, -0.69888275,\n",
      "       -0.40361793, -3.54550338, -1.79802328, -0.85082602, -0.35446807,\n",
      "       -0.06958856, -1.84793353, -0.76909022, -0.23916893,  0.04395902,\n",
      "       -1.08004889, -0.36285943, -0.03331953, -0.96976446, -0.41677991,\n",
      "       -1.2544095 , -5.01989845, -3.15553192, -2.12993708, -1.57470709,\n",
      "       -1.31848481, -2.86819974, -1.72897542, -1.15501615, -0.91142441,\n",
      "       -1.86839062, -1.12634492, -0.85566016, -1.64552492, -1.19684466,\n",
      "       -2.16730794, -3.87325616, -2.72988836, -2.16639954, -1.9588812 ,\n",
      "       -2.54921658, -1.83405968, -1.60904856, -2.25677224, -1.87437734,\n",
      "       -2.91852625, -3.39005416, -2.71863443, -2.52757602, -2.89453097,\n",
      "       -2.55540268, -3.59042589, -3.76935021, -3.45727712, -4.29043209,\n",
      "       -5.24941407]), array([-3.80546286, -2.09548773, -1.17695037, -0.70425197, -0.40761168,\n",
      "       -1.98944095, -0.92078097, -0.39646708, -0.10101063, -1.18458832,\n",
      "       -0.46248089, -0.11948525, -1.03252883, -0.46577176, -1.27298839,\n",
      "       -3.3239439 , -2.18711964, -1.60712559, -1.34348328, -2.11473672,\n",
      "       -1.35382191, -1.06377564, -1.77287358, -1.3070004 , -2.21425549,\n",
      "       -3.11370512, -2.36660228, -2.1183858 , -2.50567115, -2.10426695,\n",
      "       -3.0207909 , -3.43399165, -3.07595593, -3.80155622, -4.77377692]), array([-2.29500056, -1.25187411, -0.75029035, -0.44162882, -1.34156552,\n",
      "       -0.62376935, -0.2650709 , -1.12748295, -0.54213566, -1.30362656,\n",
      "       -2.57401273, -1.80513369, -1.49198985, -1.98350389, -1.49394581,\n",
      "       -2.29475186, -3.00855658, -2.57979512, -3.21105087, -4.27676078]), array([-1.68628105, -0.99029232, -0.6120707 , -1.29286052, -0.68178103,\n",
      "       -1.35612349, -2.42788276, -1.90585402, -2.44301077, -3.63338224]), array([-1.68060601, -1.02996376, -1.46433805, -2.80557197]), array([-1.76750306])]\n"
     ]
    }
   ],
   "source": [
    "print(log_cmi)"
   ]
  },
  {
   "cell_type": "code",
   "execution_count": 20,
   "id": "56099a12",
   "metadata": {},
   "outputs": [],
   "source": [
    "log_cmi_data = -log_cmi_data"
   ]
  },
  {
   "cell_type": "code",
   "execution_count": 21,
   "id": "2987624b",
   "metadata": {},
   "outputs": [
    {
     "name": "stderr",
     "output_type": "stream",
     "text": [
      "No artists with labels found to put in legend.  Note that artists whose label start with an underscore are ignored when legend() is called with no argument.\n"
     ]
    },
    {
     "data": {
      "image/png": "[encoded data removed]",
      "text/plain": [
       "<Figure size 640x480 with 1 Axes>"
      ]
     },
     "metadata": {},
     "output_type": "display_data"
    }
   ],
   "source": [
    "\n",
    "a, b = np.polyfit(np.arange(system_size-1), log_cmi_data, 1)\n",
    "r2 = 1 - np.sum((a*np.arange(system_size-1)+b*np.ones(system_size-1)-log_cmi_data)**2) \\\n",
    "/np.sum((log_cmi_data - np.sum(log_cmi_data)/(system_size-1))**2) \n",
    "ls = 'dotted'\n",
    "\n",
    "plt.scatter(np.arange(system_size-1), log_cmi_data, s = 15 )\n",
    "plt.errorbar(np.arange(system_size-1), log_cmi_data, yerr = log_cmi_var, linestyle='None')\n",
    "plt.plot(np.arange(system_size-1), a*np.arange(system_size-1)+b*np.ones(system_size-1))\n",
    "\n",
    "\n",
    "plt.xlabel(\"distance\")\n",
    "plt.ylabel(\"log_cmi\")\n",
    "plt.figtext(0.7,0.7,'R2 = ' + str(np.round(r2,3)))\n",
    "plt.title(\"1DJ1J2_cmi_decay_general\")\n",
    "plt.legend()\n",
    "plt.savefig(\"1DJ1J2_cmi_decay_general.png\", dpi = 200)"
   ]
  },
  {
   "cell_type": "code",
   "execution_count": 22,
   "id": "3da44540",
   "metadata": {},
   "outputs": [
    {
     "name": "stdout",
     "output_type": "stream",
     "text": [
      "(10, 10, 1024)\n",
      "(10, 10, 1024)\n",
      "(1024,)\n"
     ]
    }
   ],
   "source": [
    "cmi = np.zeros((system_size, system_size))  # conditional mutual information\n",
    "print(p_ab.shape)\n",
    "print(p_bc.shape)\n",
    "print(p_abc.shape)\n",
    "for i in range (0, system_size-1):\n",
    "    for j in range (i , system_size-1):\n",
    "        cmi[i, j] = np.sum(-p_ab[i, j]*np.log(p_ab[i, j]) -p_bc[i, j]*np.log(p_bc[i, j]) + p_abc*log_p_abc + p_b[i, j]*np.log(p_b[i, j]))\n",
    "cmi = cmi[:-1,:-1]"
   ]
  },
  {
   "cell_type": "code",
   "execution_count": 24,
   "id": "f67573ce",
   "metadata": {},
   "outputs": [],
   "source": [
    "cmi = -cmi"
   ]
  },
  {
   "cell_type": "code",
   "execution_count": 25,
   "id": "02f3bc24",
   "metadata": {},
   "outputs": [
    {
     "name": "stdout",
     "output_type": "stream",
     "text": [
      "[4.61125418 4.7037859  4.7037859  4.7037859  4.7037859  4.7037859\n",
      " 4.7037859  4.7037859  4.7037859 ]\n",
      "1.548367695531266\n"
     ]
    }
   ],
   "source": [
    "\n",
    "cmi_distance = np.zeros(system_size-1)\n",
    "\n",
    "for i in range(0, system_size-1):\n",
    "    for j in range(i, system_size-1):\n",
    "        cmi_distance[j - i] += cmi[i, j]/(system_size-(j-i)-1)\n",
    "print(cmi_distance)\n",
    "print(np.log(cmi_distance[-1]))"
   ]
  },
  {
   "cell_type": "code",
   "execution_count": 26,
   "id": "7066296c",
   "metadata": {},
   "outputs": [
    {
     "data": {
      "text/plain": [
       "0.3000000000000097"
      ]
     },
     "execution_count": 26,
     "metadata": {},
     "output_type": "execute_result"
    }
   ],
   "source": [
    "\n",
    "a, b = np.polyfit(np.arange(system_size-1), np.log(cmi_distance), 1)\n",
    "r2 = 1 - np.sum((a*np.arange(system_size-1)+b*np.ones(system_size-1)-np.log(cmi_distance))**2) \\\n",
    "/np.sum((np.log(cmi_distance) - np.sum(np.log(cmi_distance))/(system_size-1))**2)\n",
    "r2"
   ]
  },
  {
   "cell_type": "code",
   "execution_count": 27,
   "id": "cbc780eb",
   "metadata": {},
   "outputs": [
    {
     "name": "stderr",
     "output_type": "stream",
     "text": [
      "No artists with labels found to put in legend.  Note that artists whose label start with an underscore are ignored when legend() is called with no argument.\n"
     ]
    },
    {
     "data": {
      "image/png": "[encoded data removed]",
      "text/plain": [
       "<Figure size 640x480 with 1 Axes>"
      ]
     },
     "metadata": {},
     "output_type": "display_data"
    }
   ],
   "source": [
    "\n",
    "plt.scatter(np.arange(system_size-1), np.log(cmi_distance))\n",
    "plt.plot(np.arange(system_size-1), a*np.arange(system_size-1)+b*np.ones(system_size-1))\n",
    "plt.xlabel(\"distance\")\n",
    "plt.ylabel(\"log_cmi\")\n",
    "plt.figtext(0.7,0.7,'R2 = ' + str(np.round(r2,3)))\n",
    "plt.title(\"1DJ1J2_cmi_decay\")\n",
    "plt.legend()\n",
    "plt.savefig(\"1DJ1J2_cmi_decay.png\", dpi = 200)"
   ]
  },
  {
   "cell_type": "code",
   "execution_count": 28,
   "id": "1220442a",
   "metadata": {},
   "outputs": [
    {
     "data": {
      "text/plain": [
       "array([[ 4.7037859,  4.7037859,  4.7037859,  4.7037859,  4.7037859,\n",
       "         4.7037859,  4.7037859,  4.7037859,  4.7037859],\n",
       "       [-0.       ,  4.7037859,  4.7037859,  4.7037859,  4.7037859,\n",
       "         4.7037859,  4.7037859,  4.7037859,  4.7037859],\n",
       "       [-0.       , -0.       ,  4.7037859,  4.7037859,  4.7037859,\n",
       "         4.7037859,  4.7037859,  4.7037859,  4.7037859],\n",
       "       [-0.       , -0.       , -0.       ,  4.7037859,  4.7037859,\n",
       "         4.7037859,  4.7037859,  4.7037859,  4.7037859],\n",
       "       [-0.       , -0.       , -0.       , -0.       ,  4.7037859,\n",
       "         4.7037859,  4.7037859,  4.7037859,  4.7037859],\n",
       "       [-0.       , -0.       , -0.       , -0.       , -0.       ,\n",
       "         4.7037859,  4.7037859,  4.7037859,  4.7037859],\n",
       "       [-0.       , -0.       , -0.       , -0.       , -0.       ,\n",
       "        -0.       ,  4.7037859,  4.7037859,  4.7037859],\n",
       "       [-0.       , -0.       , -0.       , -0.       , -0.       ,\n",
       "        -0.       , -0.       ,  4.7037859,  4.7037859],\n",
       "       [-0.       , -0.       , -0.       , -0.       , -0.       ,\n",
       "        -0.       , -0.       , -0.       ,  3.8710004]])"
      ]
     },
     "execution_count": 28,
     "metadata": {},
     "output_type": "execute_result"
    }
   ],
   "source": [
    "cmi"
   ]
  },
  {
   "cell_type": "code",
   "execution_count": 200,
   "id": "c2023e84",
   "metadata": {},
   "outputs": [
    {
     "name": "stdout",
     "output_type": "stream",
     "text": [
      "[1 2 3 4]\n"
     ]
    },
    {
     "data": {
      "text/plain": [
       "array([1, 3, 2, 4])"
      ]
     },
     "execution_count": 200,
     "metadata": {},
     "output_type": "execute_result"
    }
   ],
   "source": [
    "a = np.array([1, 3, 2, 2,1,3,4])\n",
    "auni = np.unique(a , return_index= True)\n",
    "print(a[auni[1]])\n",
    "auni[1]\n",
    "a[np.sort(auni[1])]"
   ]
  },
  {
   "cell_type": "code",
   "execution_count": 6,
   "id": "c7812bfd",
   "metadata": {},
   "outputs": [
    {
     "data": {
      "text/plain": [
       "array([list([0, 1, 2, 3]), list([2, 3, 4])], dtype=object)"
      ]
     },
     "execution_count": 6,
     "metadata": {},
     "output_type": "execute_result"
    }
   ],
   "source": [
    "np.array([[0,1,2,3], [2,3,4]])"
   ]
  },
  {
   "cell_type": "code",
   "execution_count": 1,
   "id": "1084985b",
   "metadata": {},
   "outputs": [],
   "source": [
    "import numpy as np"
   ]
  },
  {
   "cell_type": "code",
   "execution_count": 9,
   "id": "d38868ad",
   "metadata": {},
   "outputs": [
    {
     "name": "stdout",
     "output_type": "stream",
     "text": [
      "[0]\n",
      "[1]\n",
      "[1 0]\n",
      "[1 1]\n",
      "[1 0 0]\n",
      "[1 0 1]\n",
      "[1 1 0]\n",
      "[1 1 1]\n",
      "[1 0 0 0]\n",
      "[1 0 0 1]\n",
      "[1 0 1 0]\n",
      "[1 0 1 1]\n",
      "[1 1 0 0]\n",
      "[1 1 0 1]\n",
      "[1 1 1 0]\n",
      "[1 1 1 1]\n"
     ]
    }
   ],
   "source": [
    "N = 4\n",
    "basis=[]\n",
    "for i in range(2**N):\n",
    "    basis_temp = np.zeros((N))\n",
    "    a = np.array([int(d) for d in bin(i)[2:]])\n",
    "    print(a)\n",
    "    l = len(a)\n",
    "    basis_temp[N-l:] = a\n",
    "\n",
    "    basis.append(basis_temp)"
   ]
  },
  {
   "cell_type": "code",
   "execution_count": 6,
   "id": "8a6a5b84",
   "metadata": {},
   "outputs": [
    {
     "data": {
      "text/plain": [
       "array([1, 1, 1, 1])"
      ]
     },
     "execution_count": 6,
     "metadata": {},
     "output_type": "execute_result"
    }
   ],
   "source": [
    "np.array([int(d) for d in bin(i)[2:]])"
   ]
  },
  {
   "cell_type": "code",
   "execution_count": 14,
   "id": "bf0f9a5e",
   "metadata": {},
   "outputs": [
    {
     "data": {
      "text/plain": [
       "array([[0, 0, 0],\n",
       "       [0, 0, 1],\n",
       "       [0, 1, 0],\n",
       "       [0, 1, 1],\n",
       "       [1, 0, 0],\n",
       "       [1, 0, 1],\n",
       "       [1, 1, 0],\n",
       "       [1, 1, 1]])"
      ]
     },
     "execution_count": 14,
     "metadata": {},
     "output_type": "execute_result"
    }
   ],
   "source": [
    "import itertools\n",
    "np.array(list(itertools.product([0, 1], repeat=3)))"
   ]
  },
  {
   "cell_type": "code",
   "execution_count": 23,
   "id": "75dfdc72",
   "metadata": {},
   "outputs": [
    {
     "name": "stdout",
     "output_type": "stream",
     "text": [
      "[-1.19741194  0.78247467  0.36009986 -0.15407292 -0.09541611 -0.89117249\n",
      "  0.28013096 -1.04501972  0.22750229 -1.47650747]\n",
      "[-3.20939287+0.j         -0.46504217-2.0805039j  -1.75126614-2.05983967j\n",
      " -1.48015795-1.18962891j -1.86549851-2.2697704j   2.35920298+0.j        ]\n",
      "[-1.19741194  0.78247467  0.36009986 -0.15407292 -0.09541611 -0.89117249\n",
      "  0.28013096 -1.04501972  0.22750229 -1.47650747]\n"
     ]
    }
   ],
   "source": [
    "ini = np.random.normal(size=10)\n",
    "print(ini)\n",
    "fft_ini = np.fft.rfft(ini)\n",
    "print(fft_ini)\n",
    "end = np.fft.irfft(fft_ini)\n",
    "print(end)"
   ]
  },
  {
   "cell_type": "code",
   "execution_count": 22,
   "id": "b94a481d",
   "metadata": {},
   "outputs": [
    {
     "name": "stdout",
     "output_type": "stream",
     "text": [
      "[ 0.00711117 -1.63324506 -0.92383365 -1.56931322  1.38355142 -0.51416267\n",
      "  1.37078223  0.28460925  0.37246539  0.15567392]\n",
      "[-1.06636122+0.00000000e+00j -2.67579586+4.04003335e+00j\n",
      "  1.37290345+1.38574443e+00j  1.23572328-1.62434916e-01j\n",
      " -2.10735158+1.58933714e+00j  5.48651433+4.44089210e-16j\n",
      " -2.10735158-1.58933714e+00j  1.23572328+1.62434916e-01j\n",
      "  1.37290345-1.38574443e+00j -2.67579586-4.04003335e+00j]\n"
     ]
    }
   ],
   "source": [
    "ini_copy = np.copy(ini)\n",
    "ini_2 = np.zeros((10))\n",
    "for i in range (10):\n",
    "    ini_2[i] = ini_copy[i-1]\n",
    "print(ini_2)\n",
    "print(np.cos(np.fft.fft(ini_2)))"
   ]
  },
  {
   "cell_type": "code",
   "execution_count": null,
   "id": "cfc176e3",
   "metadata": {},
   "outputs": [],
   "source": []
  }
 ],
 "metadata": {
  "kernelspec": {
   "display_name": "Python 3 (ipykernel)",
   "language": "python",
   "name": "python3"
  },
  "language_info": {
   "codemirror_mode": {
    "name": "ipython",
    "version": 3
   },
   "file_extension": ".py",
   "mimetype": "text/x-python",
   "name": "python",
   "nbconvert_exporter": "python",
   "pygments_lexer": "ipython3",
   "version": "3.10.9"
  }
 },
 "nbformat": 4,
 "nbformat_minor": 5
}
