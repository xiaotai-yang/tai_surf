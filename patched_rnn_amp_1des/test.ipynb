{
 "cells": [
  {
   "cell_type": "code",
   "execution_count": 11,
   "metadata": {
    "collapsed": true,
    "ExecuteTime": {
     "end_time": "2024-08-17T15:18:13.023274Z",
     "start_time": "2024-08-17T15:18:12.999563Z"
    }
   },
   "outputs": [],
   "source": [
    "import jax.numpy as jnp\n",
    "N = 16\n",
    "ang = 0.0\n",
    "M = jnp.load(\"../entanglement_swapping/DMRG/mps_tensors/tensor_\"+str(N)+\"_angle_\"+str(ang)+\".npy\")\n",
    "M0 = jnp.load(\"../entanglement_swapping/DMRG/mps_tensors/tensor_init_\"+str(N)+\"_angle_\"+str(ang)+\".npy\")\n",
    "Mlast = jnp.load(\"../entanglement_swapping/DMRG/mps_tensors/tensor_last_\"+str(N)+\"_angle_\"+str(ang)+\".npy\")"
   ]
  },
  {
   "cell_type": "code",
   "outputs": [
    {
     "data": {
      "text/plain": "Array([ 0,  1,  2,  3,  4,  5,  6,  7,  8,  9, 10, 11, 12, 13], dtype=int32)"
     },
     "execution_count": 15,
     "metadata": {},
     "output_type": "execute_result"
    }
   ],
   "source": [
    "jnp.arange(14)"
   ],
   "metadata": {
    "collapsed": false,
    "ExecuteTime": {
     "end_time": "2024-08-17T15:20:35.294123Z",
     "start_time": "2024-08-17T15:20:35.282760Z"
    }
   },
   "execution_count": 15
  },
  {
   "cell_type": "code",
   "outputs": [
    {
     "name": "stdout",
     "output_type": "stream",
     "text": [
      "int32\n",
      "int32\n"
     ]
    },
    {
     "data": {
      "text/plain": "Array([0., 0.], dtype=float32)"
     },
     "execution_count": 23,
     "metadata": {},
     "output_type": "execute_result"
    }
   ],
   "source": [
    "samples = jnp.ones(N, dtype=jnp.int32)\n",
    "a = jnp.zeros(2, dtype=jnp.float32)\n",
    "def log_phase_dmrg(samples, M0, M, Mlast):\n",
    "\n",
    "    def scan_fun(vec, indices):\n",
    "        n = indices\n",
    "        print(n.dtype)\n",
    "        print(samples[n+1].dtype)\n",
    "        vec = M[:,samples[n+1],:,n] @ vec\n",
    "\n",
    "        return vec, None\n",
    "    amp, _ = jax.lax.scan(scan_fun, a, jnp.arange(N-2))\n",
    "    return amp\n",
    "log_phase_dmrg(samples, M0, M, Mlast)"
   ],
   "metadata": {
    "collapsed": false,
    "ExecuteTime": {
     "end_time": "2024-08-17T15:24:05.957984Z",
     "start_time": "2024-08-17T15:24:05.792350Z"
    }
   },
   "execution_count": 23
  },
  {
   "cell_type": "code",
   "execution_count": 3,
   "outputs": [
    {
     "name": "stdout",
     "output_type": "stream",
     "text": [
      "Flattened parameters: [1.  2.  3.  4.  5.  2.5 0.5 1.5]\n",
      "Unflattened parameters: [Array([1., 2., 3.], dtype=float32), Array([4., 5.], dtype=float32), Array(2.5, dtype=float32), Array([0.5, 1.5], dtype=float32)]\n"
     ]
    }
   ],
   "source": [
    "import jax\n",
    "import jax.numpy as jnp\n",
    "from jax.flatten_util import ravel_pytree\n",
    "\n",
    "# Define a pytree structure\n",
    "params = [\n",
    "        jnp.array([1.0, 2.0, 3.0]), \n",
    "        jnp.array([4.0, 5.0]),\n",
    "        2.5,\n",
    "        jnp.array([0.5, 1.5])\n",
    "    ]\n",
    "\n",
    "\n",
    "# Flatten the pytree into a single 1D array\n",
    "flat_params, unflatten = ravel_pytree(params)\n",
    "\n",
    "# Now flat_params is a single 1D array containing all the parameters\n",
    "print(\"Flattened parameters:\", flat_params)\n",
    "\n",
    "# Do something with flat_params (e.g., pass through an optimizer)\n",
    "\n",
    "# Then unflatten the optimized parameters back to the original structure\n",
    "new_params = unflatten(flat_params)\n",
    "\n",
    "# new_params has the same structure as params\n",
    "print(\"Unflattened parameters:\", new_params)\n"
   ],
   "metadata": {
    "collapsed": false,
    "ExecuteTime": {
     "end_time": "2024-01-28T18:08:43.523566700Z",
     "start_time": "2024-01-28T18:08:43.460793400Z"
    }
   }
  },
  {
   "cell_type": "code",
   "outputs": [],
   "source": [
    "import numpy as np\n",
    "t1 = np.random.rand(1000000)\n",
    "t2 = np.random.rand(1000000)*(1-t1)\n",
    "t3 = np.random.rand(1000000)*(1-t1-t2)\n",
    "t4 = 1-t1-t2-t3\n",
    "p1 = np.random.rand(1000000)*2*np.pi\n",
    "p2 = np.random.rand(1000000)*2*np.pi\n",
    "p3 = np.random.rand(1000000)*2*np.pi\n",
    "p4 = np.random.rand(1000000)*2*np.pi\n",
    "x1 = np.sqrt(t1)*np.exp(1j*p1)\n",
    "x2 = np.sqrt(t2)*np.exp(1j*p2)\n",
    "x3 = np.sqrt(t3)*np.exp(1j*p3)\n",
    "x4 = np.sqrt(t4)*np.exp(1j*p4)"
   ],
   "metadata": {
    "collapsed": false,
    "ExecuteTime": {
     "end_time": "2024-01-16T17:36:51.017182600Z",
     "start_time": "2024-01-16T17:36:50.201383100Z"
    }
   },
   "execution_count": 78
  },
  {
   "cell_type": "code",
   "outputs": [
    {
     "data": {
      "text/plain": "1000000.0"
     },
     "execution_count": 79,
     "metadata": {},
     "output_type": "execute_result"
    }
   ],
   "source": [
    "np.sum(np.abs(x1)**2+np.abs(x2)**2+np.abs(x3)**2+np.abs(x4)**2)"
   ],
   "metadata": {
    "collapsed": false,
    "ExecuteTime": {
     "end_time": "2024-01-16T17:36:51.156941500Z",
     "start_time": "2024-01-16T17:36:51.023490100Z"
    }
   },
   "execution_count": 79
  },
  {
   "cell_type": "code",
   "outputs": [],
   "source": [
    "px1 = np.abs(x1)**2\n",
    "px2 = np.abs(x2)**2\n",
    "px3 = np.abs(x3)**2\n",
    "px4 = np.abs(x4)**2\n",
    "px1x4 = px1+px4\n",
    "px2x3 = px2+px3\n",
    "C = 2*x1*x4-2*x2*x3\n",
    "cp1 = (1+np.sqrt(1-np.abs(C)**2))/2\n",
    "cp2 = (1-np.sqrt(1-np.abs(C)**2))/2\n",
    "a1 = -px1*np.log(px1)-px2*np.log(px2)-px3*np.log(px3)-px4*np.log(px4)+px1x4*np.log(px1x4)+px2x3*np.log(px2x3)\n",
    "b1 = -cp1*np.log(cp1)-cp2*np.log(cp2)"
   ],
   "metadata": {
    "collapsed": false,
    "ExecuteTime": {
     "end_time": "2024-01-16T17:36:51.674381700Z",
     "start_time": "2024-01-16T17:36:51.152937900Z"
    }
   },
   "execution_count": 80
  },
  {
   "cell_type": "code",
   "outputs": [
    {
     "name": "stdout",
     "output_type": "stream",
     "text": [
      "(-0.6955850017902521+0.19609206259357648j) (0.05270686824463031-0.3134852381631305j) (-0.10491433363726148+0.5133506686988841j) (0.2637844027233604-0.18038919643270798j)\n"
     ]
    }
   ],
   "source": [
    "print(x1[636373], x2[636373], x3[636373], x4[636373])"
   ],
   "metadata": {
    "collapsed": false,
    "ExecuteTime": {
     "end_time": "2024-01-16T17:36:53.181543100Z",
     "start_time": "2024-01-16T17:36:53.158729700Z"
    }
   },
   "execution_count": 81
  },
  {
   "cell_type": "code",
   "outputs": [
    {
     "name": "stdout",
     "output_type": "stream",
     "text": [
      "1000000\n"
     ]
    }
   ],
   "source": [
    "print(np.sum(a1>b1))"
   ],
   "metadata": {
    "collapsed": false,
    "ExecuteTime": {
     "end_time": "2024-01-16T17:36:53.400685800Z",
     "start_time": "2024-01-16T17:36:53.380195900Z"
    }
   },
   "execution_count": 82
  },
  {
   "cell_type": "code",
   "outputs": [],
   "source": [
    "import numpy as np\n",
    "a0 = np.random.rand(10000)\n",
    "a1 = np.random.rand(10000)\n",
    "a2 = np.random.rand(10000)\n",
    "a3 = np.random.rand(10000)\n",
    "x0 = a0**2+a1**2+a2**2+a3**2\n",
    "x1 = np.sqrt((a0**2+a1**2-a2**2-a3**2)**2+4*(a0*a2+a1*a3)**2)\n",
    "Sa = -a0*np.log(a0)-a1*np.log(a1)-a2*np.log(a2)-a3*np.log(a3)\n",
    "Sx = -x0*np.log(x0)-x1*np.log(x1)"
   ],
   "metadata": {
    "collapsed": false,
    "ExecuteTime": {
     "end_time": "2024-01-16T11:31:39.086227900Z",
     "start_time": "2024-01-16T11:31:39.064807900Z"
    }
   },
   "execution_count": 20
  },
  {
   "cell_type": "code",
   "outputs": [
    {
     "name": "stdout",
     "output_type": "stream",
     "text": [
      "431\n"
     ]
    },
    {
     "data": {
      "text/plain": "417"
     },
     "execution_count": 17,
     "metadata": {},
     "output_type": "execute_result"
    }
   ],
   "source": [
    "print(np.sum(a0+a1+a2+a3<=1))\n",
    "np.sum((Sa>Sx)&(a0+a1+a2+a3<=1))"
   ],
   "metadata": {
    "collapsed": false,
    "ExecuteTime": {
     "end_time": "2024-01-16T11:30:52.622820300Z",
     "start_time": "2024-01-16T11:30:52.608048800Z"
    }
   },
   "execution_count": 17
  },
  {
   "cell_type": "code",
   "outputs": [],
   "source": [],
   "metadata": {
    "collapsed": false
   }
  }
 ],
 "metadata": {
  "kernelspec": {
   "display_name": "Python 3",
   "language": "python",
   "name": "python3"
  },
  "language_info": {
   "codemirror_mode": {
    "name": "ipython",
    "version": 2
   },
   "file_extension": ".py",
   "mimetype": "text/x-python",
   "name": "python",
   "nbconvert_exporter": "python",
   "pygments_lexer": "ipython2",
   "version": "2.7.6"
  }
 },
 "nbformat": 4,
 "nbformat_minor": 0
}
