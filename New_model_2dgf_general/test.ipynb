{
 "cells": [
  {
   "cell_type": "code",
   "execution_count": 20,
   "metadata": {
    "collapsed": true,
    "ExecuteTime": {
     "end_time": "2023-12-12T11:37:50.099835600Z",
     "start_time": "2023-12-12T11:37:50.076171200Z"
    }
   },
   "outputs": [],
   "source": [
    "import netket as nk\n",
    "import jax\n",
    "import jax.numpy as jnp\n",
    "from jax import grad, jit, vmap\n",
    "import jax.random as random\n",
    "from jax.random import PRNGKey, split, categorical\n",
    "import jax.lax as lax\n",
    "from jax.lax import scan\n",
    "import jax.nn as nn\n",
    "import time\n",
    "from tqdm import tqdm\n",
    "from functools import partial\n",
    "import time\n",
    "from math import ceil\n",
    "import itertools\n",
    "from RNNfunction import *\n",
    "import numpy as np\n",
    "\n",
    "def local_element_indices_2d(num_body, pauli_array, loc_array):\n",
    "    '''\n",
    "\n",
    "    Args:\n",
    "        num_body: The length of each Pauli string.\n",
    "        pauli_array: The corresponding Pauli string of the Hamiltonian term.\n",
    "        Ex: [[3,1,1,1,1],....[3,1,1,1,1]]\n",
    "        loc_array: The location that the Hamiltonian term acts on.\n",
    "        Ex: [[1,1],[1, 2], [2, 1], [1, 0], [0 ,1]]....[[Ny-2,Nx-2], [Ny-2, Nx-1], [Ny-1, Nx-2], [Ny-2, Nx-3], [Ny-3, Nx-2]]\n",
    "\n",
    "    Returns:\n",
    "        xy_loc_arrays, yloc_arrays, zloc_arrays\n",
    "        They are all dictionarys that: [pauli_z terms, pauli_x terms]: The location that the Hamiltonian term acts on.\n",
    "        For example:\n",
    "        zloc_bulk: {(4, 1): Array([[[1, 2], [2, 1], [1, 0], [0, 1]],...\n",
    "        [[2, 3], [3, 2], [2, 1], [1, 2]]]}\n",
    "     '''\n",
    "    if pauli_array.shape[-1] != num_body:\n",
    "        raise ValueError(f\"Array has incorrect body of interactions {pauli_array.shape[-1]}. Expected body of interactions is {num_body}.\")\n",
    "\n",
    "    #Count the number of pauli_Z and pauli_X for each term in the Hamiltonian\n",
    "    count_3s = jnp.sum(pauli_array == 3, axis = 1)\n",
    "    count_1s = jnp.sum(pauli_array == 1, axis = 1)\n",
    "\n",
    "    pauli_array_xz = {}\n",
    "    xloc_arrays = {}\n",
    "    zloc_arrays = {}\n",
    "    yloc_arrays = {}\n",
    "    xy_loc_arrays = {}\n",
    "\n",
    "    for i in range(num_body+1):    #z_number\n",
    "        for j in range (num_body+1-i):  #x_number\n",
    "            mask = ((count_3s == i)&(count_1s == j))  #mask for the interaction with i pauli_Z and j pauli_X\n",
    "            pauli_array_xz[i, j] = pauli_array[mask]\n",
    "\n",
    "            mask_x = (pauli_array_xz[i, j] == 1)\n",
    "            mask_y = (pauli_array_xz[i, j] == 2)\n",
    "            mask_z = (pauli_array_xz[i, j] == 3)\n",
    "\n",
    "            if mask_x.sum() != 0:\n",
    "                xloc_arrays[i, j] = loc_array[mask][mask_x].reshape(-1, j, 2)\n",
    "            elif mask_y.sum() != 0 or mask_z.sum() !=0:\n",
    "                if mask_y.sum()!=0:\n",
    "                    xloc_arrays[i, j] = jnp.array([[]]).reshape(pauli_array_xz[i ,j].shape[0], 0, 2).astype(int)\n",
    "                else:\n",
    "                    xloc_arrays[i, j] = jnp.array([[]]).reshape(pauli_array_xz[i, j].shape[0], 0, 2).astype(int)\n",
    "\n",
    "            if mask_y.sum() !=0:\n",
    "                yloc_arrays[i, j] = loc_array[mask][mask_y].reshape(-1, num_body-i-j, 2).astype(int)\n",
    "            elif mask_x.sum() != 0 or mask_z.sum() !=0:\n",
    "                if mask_x.sum()!=0:\n",
    "                    yloc_arrays[i, j] = jnp.array([[]]).reshape(pauli_array_xz[i, j].shape[0], 0, 2).astype(int)\n",
    "                else:\n",
    "                    yloc_arrays[i, j] = jnp.array([[]]).reshape(pauli_array_xz[i, j].shape[0], 0, 2).astype(int)\n",
    "\n",
    "            if mask_z.sum()!=0:\n",
    "                zloc_arrays[i, j] = loc_array[mask][mask_z].reshape(-1, i, 2).astype(int)\n",
    "            elif mask_x.sum() != 0 or mask_y.sum() !=0:\n",
    "                if mask_y.sum()!=0:\n",
    "                    zloc_arrays[i, j] = jnp.array([[]]).reshape(pauli_array_xz[i, j].shape[0], 0, 2).astype(int)\n",
    "                else:\n",
    "                    zloc_arrays[i, j] = jnp.array([[]]).reshape(pauli_array_xz[i, j].shape[0], 0, 2).astype(int)\n",
    "\n",
    "    for ind in (xloc_arrays):\n",
    "        xy_loc_arrays[ind] = jnp.concatenate((xloc_arrays[ind], yloc_arrays[ind]), axis=1).astype(int)\n",
    "    return  xy_loc_arrays, yloc_arrays, zloc_arrays\n",
    "\n",
    "@jax.jit\n",
    "def total_samples_2d(sample, xyloc_arrays):\n",
    "    def single_samples_2d(sample, xy_loc_array_element):\n",
    "        return sample.at[xy_loc_array_element[:, 0], xy_loc_array_element[:, 1]].set((sample[xy_loc_array_element[:, 0], xy_loc_array_element[:, 1]] + 1) % 2)\n",
    "    results = []\n",
    "    vmap_single_samples_2d = vmap(single_samples_2d, (None, 0))\n",
    "    for i in xyloc_arrays:\n",
    "        xy_loc_arrays_elements = xyloc_arrays[i]\n",
    "        tmp = vmap_single_samples_2d(sample, xy_loc_arrays_elements)\n",
    "        results.append(tmp)\n",
    "    # Concatenate all results along axis=0\n",
    "    concatenated_result = jnp.concatenate(results, axis=0)\n",
    "    return concatenated_result\n",
    "\n",
    "@jax.jit\n",
    "def new_coe_2d(sample, coe_array_off_diag, yloc, zloc):\n",
    "    def ycoe(single_sample, yloc_arrays_element):\n",
    "        return ((0-1j)**single_sample[yloc_arrays_element[:,0],yloc_arrays_element[:,1]]).prod()\n",
    "    def zcoe(single_sample, zloc_arrays_element):\n",
    "        return ((-1+0j)**single_sample[zloc_arrays_element[:,0], zloc_arrays_element[:,1]]).prod()\n",
    "\n",
    "    tmp_y = []\n",
    "    tmp_z = []\n",
    "    vmap_ycoe = vmap(ycoe, (None, 0))\n",
    "    vmap_zcoe = vmap(zcoe, (None, 0))\n",
    "\n",
    "    for i in yloc:\n",
    "        tmp_y.append(lax.cond(yloc[i].shape[1] != 0, lambda: vmap_ycoe(sample, yloc[i]), lambda: jnp.repeat(jnp.array([1. + 0j]), yloc[i].shape[0])))\n",
    "    for i in zloc:\n",
    "        tmp_z.append(lax.cond(zloc[i].shape[1] != 0, lambda: vmap_zcoe(sample, zloc[i]), lambda: jnp.repeat(jnp.array([1. + 0j]), zloc[i].shape[0])))\n",
    "    coe_tmp_y = jnp.concatenate(tmp_y, axis = 0)\n",
    "    coe_tmp_z = jnp.concatenate(tmp_z, axis = 0)\n",
    "\n",
    "    return coe_tmp_y * coe_tmp_z * coe_array_off_diag\n",
    "@jax.jit\n",
    "def diag_coe(samples, zloc_bulk_diag, zloc_edge_diag, zloc_corner_diag, coe_bulk_diag, coe_edge_diag, coe_corner_diag):\n",
    "    def scan_z(samples, z_array):\n",
    "        return ((-1) ** samples[z_array[:, 0], z_array[:, 1]]).prod()\n",
    "    vmap_scan_z = vmap(scan_z, (None, 0))\n",
    "    coe_bulk = (vmap_scan_z(samples, zloc_bulk_diag)*coe_bulk_diag).sum() if zloc_bulk_diag.size!=0 else 0\n",
    "    coe_edge = (vmap_scan_z(samples, zloc_edge_diag)*coe_edge_diag).sum() if zloc_edge_diag.size!=0 else 0\n",
    "    coe_corner = (vmap_scan_z(samples, zloc_corner_diag)*coe_corner_diag).sum() if zloc_corner_diag.size!=0 else 0\n",
    "    return coe_bulk+coe_edge+coe_corner\n",
    "def location_pauli_label(loc_array_bulk, loc_array_edge, loc_array_corner, Ny, Nx):\n",
    "    '''\n",
    "    Args:\n",
    "        loc_array_bulk, loc_array_edge, loc_array_corner: Each element is the \"location\" that the Hamiltonian term acts on.\n",
    "\n",
    "    Returns:\n",
    "        Three dictionaries that label the location of the Hamiltonian term.\n",
    "    For example,\n",
    "    1. (0, 1) [[0. 4.]]\n",
    "    means that the Hamiltonian terms act on the 0th row and 1st column of the grid\n",
    "    is the 4th element of the 0th term in the Hamiltonian.\n",
    "\n",
    "    2. (1, 2) [[0. 1.]\n",
    "              [1. 0.]\n",
    "              [3. 4.]]\n",
    "    means that the Hamiltonian terms act on the 1st row and 2nd column of the grid\n",
    "    is the 1st, 0th, 4th element of the 0th, 1st, 3rd terms in the Hamiltonian.\n",
    "    '''\n",
    "\n",
    "    label_bulk = {}\n",
    "    label_edge = {}\n",
    "    label_corner = {}\n",
    "    # yi, xi : the location to label how many operation is acted on\n",
    "    # y , x : The location of the loc_array that we can use to access the location to label\n",
    "    for yi in range (Ny):\n",
    "        for xi in range(Nx):\n",
    "            y = 0\n",
    "            tmp = jnp.array([])\n",
    "            for i in loc_array_bulk:\n",
    "                x = 0\n",
    "                for j in i:\n",
    "                    if (j == jnp.array([yi, xi])).all():\n",
    "                        tmp = jnp.append(tmp, jnp.array([y, x]))\n",
    "                    x += 1\n",
    "                y += 1\n",
    "            label_bulk[yi, xi] = tmp.reshape(-1, 2)\n",
    "    for yi in range (Ny):\n",
    "        for xi in range(Nx):\n",
    "            y = 0\n",
    "            tmp = jnp.array([])\n",
    "            for i in loc_array_edge:\n",
    "                x = 0\n",
    "                for j in i:\n",
    "                    if (j == jnp.array([yi, xi])).all():\n",
    "                        tmp = jnp.append(tmp, jnp.array([y, x]))\n",
    "                    x += 1\n",
    "                y += 1\n",
    "            label_edge[yi, xi] = tmp.reshape(-1, 2)\n",
    "    for yi in range (Ny):\n",
    "        for xi in range(Nx):\n",
    "            y = 0\n",
    "            tmp = jnp.array([])\n",
    "            for i in loc_array_corner:\n",
    "                x = 0\n",
    "                for j in i:\n",
    "                    if (j == jnp.array([yi, xi])).all():\n",
    "                        tmp = jnp.append(tmp, jnp.array([y, x]))\n",
    "                    x += 1\n",
    "                y += 1\n",
    "            label_corner[yi, xi] = tmp.reshape(-1, 2)\n",
    "    return label_bulk, label_edge, label_corner\n",
    "\n",
    "def loc_array_gf(Ny, Nx):\n",
    "    '''\n",
    "    Inputs\n",
    "    Ny, Nx : The size of the grid\n",
    "\n",
    "    Outputs:\n",
    "    The location that each Hamiltonian term acts on.\n",
    "    Specifically,\n",
    "\n",
    "    For loc_array bulk: it is [[[1, 1], [1, 2], [2, 1], [1, 0], [0 ,1]]....[[Ny-2,Nx-2], [Ny-2, Nx-1], [Ny-1, Nx-2], [Ny-2, Nx-3], [Ny-3, Nx-2]]\n",
    "    For single element, the order inside is :\n",
    "        4\n",
    "    3   0   1\n",
    "        2\n",
    "    For the entire array, it follows that it moves right first until the boundary and then go to the first element of the next row.\n",
    "\n",
    "    For loc_array corner: it is [[[0, 0],[0 ,1], [1, 0]]...[[Ny - 1, Nx - 1], [Ny - 1, Nx - 2], [Ny - 2, Nx - 1]]]\n",
    "    For single element, the order inside follows that dealing with x-axis first and then y-axis.\n",
    "    '''\n",
    "    I, J = jnp.meshgrid(jnp.arange(1, Ny - 1), jnp.arange(1, Nx - 1), indexing='ij')\n",
    "    bulk_coordinates = jnp.stack([I, J, I, J + 1, I + 1, J, I, J - 1, I - 1, J], axis=-1)\n",
    "    loc_array_bulk = bulk_coordinates.reshape(-1, 5, 2)\n",
    "\n",
    "    # Add edge coordinates excluding corners for the left and right sides of the grid\n",
    "    edge_coordinates = []\n",
    "    for i in range(1, Ny - 1):\n",
    "        edge_coordinates.extend([[i, 0], [i, 1], [i + 1, 0], [i - 1, 0]])\n",
    "        edge_coordinates.extend([[i, Nx - 1], [i, Nx - 2], [i + 1, Nx - 1], [i - 1, Nx - 1]])\n",
    "\n",
    "    # Add edge coordinates excluding corners for the top and bottom of the grid\n",
    "    for j in range(1, Nx - 1):\n",
    "        edge_coordinates.extend([[0, j], [1, j], [0, j - 1], [0, j + 1]])\n",
    "        edge_coordinates.extend([[Ny - 1, j], [Ny - 2, j], [Ny - 1, j - 1], [Ny - 1, j + 1]])\n",
    "\n",
    "    # Convert list to a JAX array\n",
    "    loc_array_edge = jnp.array(edge_coordinates).reshape(-1, 4, 2)\n",
    "\n",
    "    loc_array_corner = jnp.array([[[0, 0], [0, 1], [1, 0]],\n",
    "                                  [[0, Nx - 1], [0, Nx - 2], [1, Nx - 1]],\n",
    "                                  [[Ny - 1, 0], [Ny - 1, 1], [Ny - 2, 0]],\n",
    "                                  [[Ny - 1, Nx - 1], [Ny - 1, Nx - 2], [Ny - 2, Nx - 1]]])\n",
    "    return loc_array_bulk, loc_array_edge, loc_array_corner\n",
    "def pauli_cmi_pattern(pauli_array_bulk, pauli_array_edge, pauli_array_corner, label_bulk, label_edge, label_corner, cmi_pattern, key, sparsity, L):\n",
    "    '''\n",
    "    Input : pauli_array\n",
    "    Output : pauli_array with the pattern(no_decay, decay, random or ordered_random)\n",
    "    '''\n",
    "    if (cmi_pattern == \"no_decay\"):\n",
    "        print(\"Pattern: no_decay\")\n",
    "        for i in label_bulk:\n",
    "            pauli_array_bulk = pauli_array_bulk.at[label_bulk[i][:,0].astype(int), label_bulk[i][:,1].astype(int)].set(pauli_array_bulk[label_bulk[i][:,0].astype(int), label_bulk[i][:,1].astype(int)])\n",
    "        for i in label_edge:\n",
    "            pauli_array_edge = pauli_array_edge.at[label_edge[i][:,0].astype(int), label_edge[i][:,1].astype(int)].set(pauli_array_edge[label_edge[i][:,0].astype(int), label_edge[i][:,1].astype(int)])\n",
    "        for i in label_corner:\n",
    "            pauli_array_corner = pauli_array_corner.at[label_corner[i][:,0].astype(int), label_corner[i][:,1].astype(int)].set(pauli_array_corner[label_corner[i][:,0].astype(int), label_corner[i][:,1].astype(int)])\n",
    "    elif(cmi_pattern == \"random\"):\n",
    "        print(\"Pattern:random\")\n",
    "        for i in label_bulk:\n",
    "            key, subkey = split(key, 2)\n",
    "            p = jax.random.uniform(subkey, jnp.array([1]), float, 0 , 1)\n",
    "            if p>0.5:\n",
    "                pauli_array_bulk = pauli_array_bulk.at[label_bulk[i][:,0].astype(int), label_bulk[i][:,1].astype(int)].set(pauli_array_bulk[label_bulk[i][:,0].astype(int), label_bulk[i][:,1].astype(int)])\n",
    "                pauli_array_edge = pauli_array_edge.at[label_edge[i][:,0].astype(int), label_edge[i][:,1].astype(int)].set(pauli_array_edge[label_edge[i][:,0].astype(int), label_edge[i][:,1].astype(int)])\n",
    "                pauli_array_corner = pauli_array_corner.at[label_corner[i][:,0].astype(int), label_corner[i][:,1].astype(int)].set(pauli_array_corner[label_corner[i][:,0].astype(int), label_corner[i][:,1].astype(int)])\n",
    "    elif (cmi_pattern == \"ordered_random\"):\n",
    "        print(\"Pattern:ordered_random\")\n",
    "        for i in label_bulk:\n",
    "            if (i[0]%2 == 0):\n",
    "                if ((i[0]*L+i[1]+1)%sparsity==0):\n",
    "                    pauli_array_bulk = pauli_array_bulk.at[\n",
    "                        label_bulk[i][:, 0].astype(int), label_bulk[i][:, 1].astype(int)].set(\n",
    "                        pauli_array_bulk[label_bulk[i][:, 0].astype(int), label_bulk[i][:, 1].astype(int)])\n",
    "                    pauli_array_edge = pauli_array_edge.at[\n",
    "                        label_edge[i][:, 0].astype(int), label_edge[i][:, 1].astype(int)].set(\n",
    "                        pauli_array_edge[label_edge[i][:, 0].astype(int), label_edge[i][:, 1].astype(int)])\n",
    "                    pauli_array_corner = pauli_array_corner.at[\n",
    "                        label_corner[i][:, 0].astype(int), label_corner[i][:, 1].astype(int)].set(\n",
    "                        pauli_array_corner[label_corner[i][:, 0].astype(int), label_corner[i][:, 1].astype(int)])\n",
    "            elif (i[0]%2 == 1):\n",
    "                if (((i[0]+1)*L-i[1])%sparsity==0):\n",
    "                    pauli_array_bulk = pauli_array_bulk.at[\n",
    "                        label_bulk[i][:, 0].astype(int), label_bulk[i][:, 1].astype(int)].set(\n",
    "                        pauli_array_bulk[label_bulk[i][:, 0].astype(int), label_bulk[i][:, 1].astype(int)])\n",
    "                    pauli_array_edge = pauli_array_edge.at[\n",
    "                        label_edge[i][:, 0].astype(int), label_edge[i][:, 1].astype(int)].set(\n",
    "                        pauli_array_edge[label_edge[i][:, 0].astype(int), label_edge[i][:, 1].astype(int)])\n",
    "                    pauli_array_corner = pauli_array_corner.at[\n",
    "                        label_corner[i][:, 0].astype(int), label_corner[i][:, 1].astype(int)].set(\n",
    "                        pauli_array_corner[label_corner[i][:, 0].astype(int), label_corner[i][:, 1].astype(int)])\n",
    "    else:\n",
    "        print(\"Pattern:decay\")\n",
    "    return pauli_array_bulk, pauli_array_edge, pauli_array_corner\n",
    "\n",
    "def off_diag_count(xy_loc_bulk, xy_loc_edge, xy_loc_corner):\n",
    "    off_diag_bulk_count, off_diag_edge_count, off_diag_corner_count = 0, 0, 0\n",
    "    for i in xy_loc_bulk:\n",
    "        if i[1] != 0:\n",
    "            off_diag_bulk_count += xy_loc_bulk[i].shape[0]\n",
    "        else:\n",
    "            diag_bulk_count = 1\n",
    "    for i in xy_loc_edge:\n",
    "        if i[1] != 0:\n",
    "            off_diag_edge_count += xy_loc_edge[i].shape[0]\n",
    "        else:\n",
    "            diag_edge_count = 1\n",
    "    for i in xy_loc_corner:\n",
    "        if i[1] != 0:\n",
    "            off_diag_corner_count += xy_loc_corner[i].shape[0]\n",
    "        else:\n",
    "            diag_corner_count = 1\n",
    "    return off_diag_bulk_count, off_diag_edge_count, off_diag_corner_count\n",
    "import netket as nk\n",
    "import jax\n",
    "import jax.numpy as jnp\n",
    "from jax import grad, jit, vmap\n",
    "import jax.random as random\n",
    "from jax.random import PRNGKey, split, categorical\n",
    "import jax.lax as lax\n",
    "from jax.lax import scan\n",
    "import jax.nn as nn\n",
    "import time\n",
    "from tqdm import tqdm\n",
    "from functools import partial\n",
    "import time\n",
    "from math import ceil\n",
    "import itertools\n",
    "from RNNfunction import *\n",
    "import numpy as np\n",
    "\n",
    "def generate_combinations(length):\n",
    "    set1 = [1] * length\n",
    "    set2 = [3] * length\n",
    "    combinations = list(itertools.product(*zip(set1, set2)))\n",
    "    return jnp.array(combinations)\n",
    "\n",
    "\n",
    "def all_coe(array, x, y):\n",
    "    # Function to calculate x^n * y^m for a single element\n",
    "    def calculate_product(element):\n",
    "        n = jnp.sum(element == 1)  # Count of 1s\n",
    "        m = jnp.sum(element == 3)  # Count of 3s\n",
    "        return x ** n * y ** m\n",
    "\n",
    "    coe = jnp.apply_along_axis(calculate_product, 1, array)\n",
    "    return coe\n",
    "\n",
    "\n",
    "def linear_cycling_with_hold(schedule_step, max_lr, min_lr, cycle_steps):\n",
    "    if schedule_step <= 8 * cycle_steps:\n",
    "        cycle = jnp.floor(1 + schedule_step / (2 * cycle_steps))\n",
    "        x = jnp.abs(schedule_step / cycle_steps - 2 * cycle + 1)\n",
    "        lr = min_lr + (max_lr - min_lr) * jnp.maximum(0, (1 - x))\n",
    "    else:\n",
    "        lr = 2 * min_lr\n",
    "    return lr\n",
    "\n",
    "\n",
    "@partial(jax.jit, static_argnames=['fixed_parameters'])\n",
    "def compute_cost(parameters, fixed_parameters, samples, Eloc, Temperature):\n",
    "    samples = jax.lax.stop_gradient(samples)\n",
    "    Eloc = jax.lax.stop_gradient(Eloc)\n",
    "\n",
    "    # First term\n",
    "\n",
    "    log_amps_tensor = log_amp(samples, parameters, fixed_parameters)\n",
    "    term1 = 2 * jnp.real(jnp.mean(log_amps_tensor.conjugate() * (Eloc - jnp.mean(Eloc))))\n",
    "    # Second term\n",
    "\n",
    "    term2 = 4 * Temperature * (jnp.mean(jnp.real(log_amps_tensor) * jax.lax.stop_gradient(jnp.real(log_amps_tensor)))\n",
    "                               - jnp.mean(jnp.real(log_amps_tensor)) * jnp.mean(\n",
    "                jax.lax.stop_gradient(jnp.real(log_amps_tensor))))\n",
    "\n",
    "    cost = term1 + term2\n",
    "\n",
    "    return cost\n",
    "\n",
    "def clip_grad(g, clip_norm=10.0):\n",
    "    norm = jnp.linalg.norm(g)\n",
    "    scale = jnp.minimum(1.0, clip_norm / (norm + 1e-6))\n",
    "    return g * scale\n",
    "\n",
    "def schedule(step: float, min_lr: float, max_lr: float, period: float) -> float:\n",
    "    \"\"\"Compute a learning rate that oscillates sinusoidally between min_lr and max_lr.\"\"\"\n",
    "    oscillation = (jnp.sin(jnp.pi * step / period) + 1) / 2  # Will be between 0 and 1\n",
    "    return min_lr + (max_lr - min_lr) * oscillation"
   ]
  },
  {
   "cell_type": "code",
   "execution_count": 33,
   "outputs": [],
   "source": [
    "Ny, Nx = 4, 4\n",
    "angle = 0.\n",
    "pauli_array_bulk, pauli_array_edge, pauli_array_corner = jnp.repeat(generate_combinations(5), (Ny-2)*(Nx-2), axis=0), jnp.repeat(generate_combinations(4),(Ny+Nx-4)*2, axis=0), jnp.repeat(generate_combinations(3), 4, axis=0)\n",
    "x, y = jnp.cos(angle), jnp.sin(angle)\n",
    "pauli_array_bulk_coe, pauli_array_edge_coe, pauli_array_corner_coe = all_coe(pauli_array_bulk, x, y), all_coe(pauli_array_edge, x, y), all_coe(pauli_array_corner, x, y)\n",
    "loc_array_bulk, loc_array_edge, loc_array_corner = loc_array_gf(Ny, Nx)\n",
    "\n",
    "loc_array_bulk = jnp.repeat(loc_array_bulk, 32, axis=0)\n",
    "loc_array_edge = jnp.repeat(loc_array_edge, 16, axis=0)\n",
    "loc_array_corner = jnp.repeat(loc_array_corner, 8, axis=0)"
   ],
   "metadata": {
    "collapsed": false,
    "ExecuteTime": {
     "end_time": "2023-12-12T11:41:56.462968Z",
     "start_time": "2023-12-12T11:41:56.397221200Z"
    }
   }
  },
  {
   "cell_type": "code",
   "execution_count": 32,
   "outputs": [
    {
     "ename": "IndexError",
     "evalue": "boolean index did not match shape of indexed array in index 0: got (128,), expected (4,)",
     "output_type": "error",
     "traceback": [
      "\u001B[1;31m---------------------------------------------------------------------------\u001B[0m",
      "\u001B[1;31mIndexError\u001B[0m                                Traceback (most recent call last)",
      "Cell \u001B[1;32mIn[32], line 1\u001B[0m\n\u001B[1;32m----> 1\u001B[0m xy_loc_bulk, yloc_bulk, zloc_bulk \u001B[38;5;241m=\u001B[39m \u001B[43mlocal_element_indices_2d\u001B[49m\u001B[43m(\u001B[49m\u001B[38;5;241;43m5\u001B[39;49m\u001B[43m,\u001B[49m\u001B[43m \u001B[49m\u001B[43mpauli_array_bulk\u001B[49m\u001B[43m,\u001B[49m\u001B[43m \u001B[49m\u001B[43mloc_array_bulk\u001B[49m\u001B[43m)\u001B[49m\n\u001B[0;32m      2\u001B[0m xy_loc_edge, yloc_edge, zloc_edge \u001B[38;5;241m=\u001B[39m local_element_indices_2d(\u001B[38;5;241m4\u001B[39m, pauli_array_edge, loc_array_edge)\n\u001B[0;32m      3\u001B[0m xy_loc_corner, yloc_corner, zloc_corner \u001B[38;5;241m=\u001B[39m local_element_indices_2d(\u001B[38;5;241m3\u001B[39m, pauli_array_corner, loc_array_corner)\n",
      "Cell \u001B[1;32mIn[20], line 59\u001B[0m, in \u001B[0;36mlocal_element_indices_2d\u001B[1;34m(num_body, pauli_array, loc_array)\u001B[0m\n\u001B[0;32m     56\u001B[0m mask_z \u001B[38;5;241m=\u001B[39m (pauli_array_xz[i, j] \u001B[38;5;241m==\u001B[39m \u001B[38;5;241m3\u001B[39m)\n\u001B[0;32m     58\u001B[0m \u001B[38;5;28;01mif\u001B[39;00m mask_x\u001B[38;5;241m.\u001B[39msum() \u001B[38;5;241m!=\u001B[39m \u001B[38;5;241m0\u001B[39m:\n\u001B[1;32m---> 59\u001B[0m     xloc_arrays[i, j] \u001B[38;5;241m=\u001B[39m \u001B[43mloc_array\u001B[49m\u001B[43m[\u001B[49m\u001B[43mmask\u001B[49m\u001B[43m]\u001B[49m[mask_x]\u001B[38;5;241m.\u001B[39mreshape(\u001B[38;5;241m-\u001B[39m\u001B[38;5;241m1\u001B[39m, j, \u001B[38;5;241m2\u001B[39m)\n\u001B[0;32m     60\u001B[0m \u001B[38;5;28;01melif\u001B[39;00m mask_y\u001B[38;5;241m.\u001B[39msum() \u001B[38;5;241m!=\u001B[39m \u001B[38;5;241m0\u001B[39m \u001B[38;5;129;01mor\u001B[39;00m mask_z\u001B[38;5;241m.\u001B[39msum() \u001B[38;5;241m!=\u001B[39m\u001B[38;5;241m0\u001B[39m:\n\u001B[0;32m     61\u001B[0m     \u001B[38;5;28;01mif\u001B[39;00m mask_y\u001B[38;5;241m.\u001B[39msum()\u001B[38;5;241m!=\u001B[39m\u001B[38;5;241m0\u001B[39m:\n",
      "File \u001B[1;32m~\\anaconda3\\lib\\site-packages\\jax\\_src\\array.py:323\u001B[0m, in \u001B[0;36mArrayImpl.__getitem__\u001B[1;34m(self, idx)\u001B[0m\n\u001B[0;32m    321\u001B[0m   \u001B[38;5;28;01mreturn\u001B[39;00m lax_numpy\u001B[38;5;241m.\u001B[39m_rewriting_take(\u001B[38;5;28mself\u001B[39m, idx)\n\u001B[0;32m    322\u001B[0m \u001B[38;5;28;01melse\u001B[39;00m:\n\u001B[1;32m--> 323\u001B[0m   \u001B[38;5;28;01mreturn\u001B[39;00m \u001B[43mlax_numpy\u001B[49m\u001B[38;5;241;43m.\u001B[39;49m\u001B[43m_rewriting_take\u001B[49m\u001B[43m(\u001B[49m\u001B[38;5;28;43mself\u001B[39;49m\u001B[43m,\u001B[49m\u001B[43m \u001B[49m\u001B[43midx\u001B[49m\u001B[43m)\u001B[49m\n",
      "File \u001B[1;32m~\\anaconda3\\lib\\site-packages\\jax\\_src\\numpy\\lax_numpy.py:4322\u001B[0m, in \u001B[0;36m_rewriting_take\u001B[1;34m(arr, idx, indices_are_sorted, unique_indices, mode, fill_value)\u001B[0m\n\u001B[0;32m   4316\u001B[0m     \u001B[38;5;28;01mif\u001B[39;00m (\u001B[38;5;28misinstance\u001B[39m(aval, core\u001B[38;5;241m.\u001B[39mDShapedArray) \u001B[38;5;129;01mand\u001B[39;00m aval\u001B[38;5;241m.\u001B[39mshape \u001B[38;5;241m==\u001B[39m () \u001B[38;5;129;01mand\u001B[39;00m\n\u001B[0;32m   4317\u001B[0m         dtypes\u001B[38;5;241m.\u001B[39missubdtype(aval\u001B[38;5;241m.\u001B[39mdtype, np\u001B[38;5;241m.\u001B[39minteger) \u001B[38;5;129;01mand\u001B[39;00m\n\u001B[0;32m   4318\u001B[0m         \u001B[38;5;129;01mnot\u001B[39;00m dtypes\u001B[38;5;241m.\u001B[39missubdtype(aval\u001B[38;5;241m.\u001B[39mdtype, dtypes\u001B[38;5;241m.\u001B[39mbool_) \u001B[38;5;129;01mand\u001B[39;00m\n\u001B[0;32m   4319\u001B[0m         \u001B[38;5;28misinstance\u001B[39m(arr\u001B[38;5;241m.\u001B[39mshape[\u001B[38;5;241m0\u001B[39m], \u001B[38;5;28mint\u001B[39m)):\n\u001B[0;32m   4320\u001B[0m       \u001B[38;5;28;01mreturn\u001B[39;00m lax\u001B[38;5;241m.\u001B[39mdynamic_index_in_dim(arr, idx, keepdims\u001B[38;5;241m=\u001B[39m\u001B[38;5;28;01mFalse\u001B[39;00m)\n\u001B[1;32m-> 4322\u001B[0m treedef, static_idx, dynamic_idx \u001B[38;5;241m=\u001B[39m \u001B[43m_split_index_for_jit\u001B[49m\u001B[43m(\u001B[49m\u001B[43midx\u001B[49m\u001B[43m,\u001B[49m\u001B[43m \u001B[49m\u001B[43marr\u001B[49m\u001B[38;5;241;43m.\u001B[39;49m\u001B[43mshape\u001B[49m\u001B[43m)\u001B[49m\n\u001B[0;32m   4323\u001B[0m \u001B[38;5;28;01mreturn\u001B[39;00m _gather(arr, treedef, static_idx, dynamic_idx, indices_are_sorted,\n\u001B[0;32m   4324\u001B[0m                unique_indices, mode, fill_value)\n",
      "File \u001B[1;32m~\\anaconda3\\lib\\site-packages\\jax\\_src\\numpy\\lax_numpy.py:4400\u001B[0m, in \u001B[0;36m_split_index_for_jit\u001B[1;34m(idx, shape)\u001B[0m\n\u001B[0;32m   4396\u001B[0m   \u001B[38;5;28;01mraise\u001B[39;00m \u001B[38;5;167;01mTypeError\u001B[39;00m(\u001B[38;5;124mf\u001B[39m\u001B[38;5;124m\"\u001B[39m\u001B[38;5;124mJAX does not support string indexing; got \u001B[39m\u001B[38;5;132;01m{\u001B[39;00midx\u001B[38;5;132;01m=}\u001B[39;00m\u001B[38;5;124m\"\u001B[39m)\n\u001B[0;32m   4398\u001B[0m \u001B[38;5;66;03m# Expand any (concrete) boolean indices. We can then use advanced integer\u001B[39;00m\n\u001B[0;32m   4399\u001B[0m \u001B[38;5;66;03m# indexing logic to handle them.\u001B[39;00m\n\u001B[1;32m-> 4400\u001B[0m idx \u001B[38;5;241m=\u001B[39m \u001B[43m_expand_bool_indices\u001B[49m\u001B[43m(\u001B[49m\u001B[43midx\u001B[49m\u001B[43m,\u001B[49m\u001B[43m \u001B[49m\u001B[43mshape\u001B[49m\u001B[43m)\u001B[49m\n\u001B[0;32m   4402\u001B[0m leaves, treedef \u001B[38;5;241m=\u001B[39m tree_flatten(idx)\n\u001B[0;32m   4403\u001B[0m dynamic \u001B[38;5;241m=\u001B[39m [\u001B[38;5;28;01mNone\u001B[39;00m] \u001B[38;5;241m*\u001B[39m \u001B[38;5;28mlen\u001B[39m(leaves)\n",
      "File \u001B[1;32m~\\anaconda3\\lib\\site-packages\\jax\\_src\\numpy\\lax_numpy.py:4722\u001B[0m, in \u001B[0;36m_expand_bool_indices\u001B[1;34m(idx, shape)\u001B[0m\n\u001B[0;32m   4720\u001B[0m     expected_shape \u001B[38;5;241m=\u001B[39m shape[start: start \u001B[38;5;241m+\u001B[39m _ndim(i)]\n\u001B[0;32m   4721\u001B[0m     \u001B[38;5;28;01mif\u001B[39;00m i_shape \u001B[38;5;241m!=\u001B[39m expected_shape:\n\u001B[1;32m-> 4722\u001B[0m       \u001B[38;5;28;01mraise\u001B[39;00m \u001B[38;5;167;01mIndexError\u001B[39;00m(\u001B[38;5;124m\"\u001B[39m\u001B[38;5;124mboolean index did not match shape of indexed array in index \u001B[39m\u001B[38;5;124m\"\u001B[39m\n\u001B[0;32m   4723\u001B[0m                        \u001B[38;5;124mf\u001B[39m\u001B[38;5;124m\"\u001B[39m\u001B[38;5;132;01m{\u001B[39;00mdim_number\u001B[38;5;132;01m}\u001B[39;00m\u001B[38;5;124m: got \u001B[39m\u001B[38;5;132;01m{\u001B[39;00mi_shape\u001B[38;5;132;01m}\u001B[39;00m\u001B[38;5;124m, expected \u001B[39m\u001B[38;5;132;01m{\u001B[39;00mexpected_shape\u001B[38;5;132;01m}\u001B[39;00m\u001B[38;5;124m\"\u001B[39m)\n\u001B[0;32m   4724\u001B[0m     out\u001B[38;5;241m.\u001B[39mextend(np\u001B[38;5;241m.\u001B[39mwhere(i))\n\u001B[0;32m   4725\u001B[0m \u001B[38;5;28;01melse\u001B[39;00m:\n",
      "\u001B[1;31mIndexError\u001B[0m: boolean index did not match shape of indexed array in index 0: got (128,), expected (4,)"
     ]
    }
   ],
   "source": [
    "xy_loc_bulk, yloc_bulk, zloc_bulk = local_element_indices_2d(5, pauli_array_bulk, loc_array_bulk)\n",
    "xy_loc_edge, yloc_edge, zloc_edge = local_element_indices_2d(4, pauli_array_edge, loc_array_edge)\n",
    "xy_loc_corner, yloc_corner, zloc_corner = local_element_indices_2d(3, pauli_array_corner, loc_array_corner)\n"
   ],
   "metadata": {
    "collapsed": false,
    "ExecuteTime": {
     "end_time": "2023-12-12T11:41:34.696793500Z",
     "start_time": "2023-12-12T11:41:34.617952Z"
    }
   }
  },
  {
   "cell_type": "code",
   "execution_count": 28,
   "outputs": [
    {
     "data": {
      "text/plain": "{(0,\n  3): Array([[[0, 0],\n         [0, 1],\n         [1, 0]],\n \n        [[0, 0],\n         [0, 1],\n         [1, 0]],\n \n        [[0, 0],\n         [0, 1],\n         [1, 0]],\n \n        [[0, 0],\n         [0, 1],\n         [1, 0]]], dtype=int32),\n (1,\n  2): Array([[[0, 0],\n         [0, 1]],\n \n        [[0, 0],\n         [0, 1]],\n \n        [[0, 0],\n         [0, 1]],\n \n        [[0, 0],\n         [0, 1]],\n \n        [[0, 3],\n         [1, 3]],\n \n        [[0, 3],\n         [1, 3]],\n \n        [[0, 3],\n         [1, 3]],\n \n        [[0, 3],\n         [1, 3]],\n \n        [[3, 1],\n         [2, 0]],\n \n        [[3, 1],\n         [2, 0]],\n \n        [[3, 1],\n         [2, 0]],\n \n        [[3, 1],\n         [2, 0]]], dtype=int32),\n (2,\n  1): Array([[[0, 3]],\n \n        [[0, 3]],\n \n        [[0, 3]],\n \n        [[0, 3]],\n \n        [[3, 1]],\n \n        [[3, 1]],\n \n        [[3, 1]],\n \n        [[3, 1]],\n \n        [[2, 3]],\n \n        [[2, 3]],\n \n        [[2, 3]],\n \n        [[2, 3]]], dtype=int32),\n (3, 0): Array([], dtype=int32)}"
     },
     "execution_count": 28,
     "metadata": {},
     "output_type": "execute_result"
    }
   ],
   "source": [
    "def all_coe(array, x, y):\n",
    "    # Function to calculate x^n * y^m for a single element\n",
    "    def calculate_product(element):\n",
    "        n = jnp.sum(element == 1)  # Count of 1s\n",
    "        m = jnp.sum(element == 3)  # Count of 3s\n",
    "        return x ** n * y ** m\n",
    "    comb_num = 2**(array.shape[1])\n",
    "    coe = jnp.apply_along_axis(calculate_product, 1, array)[:-comb_num+1]\n",
    "    return coe\n"
   ],
   "metadata": {
    "collapsed": false,
    "ExecuteTime": {
     "end_time": "2023-12-12T11:40:24.752256400Z",
     "start_time": "2023-12-12T11:40:24.687634300Z"
    }
   }
  },
  {
   "cell_type": "code",
   "execution_count": 36,
   "outputs": [
    {
     "data": {
      "text/plain": "Array([[ True, False, False],\n       [ True,  True, False]], dtype=bool)"
     },
     "execution_count": 36,
     "metadata": {},
     "output_type": "execute_result"
    }
   ],
   "source": [
    "array1 = jnp.array([[True, False, True],[True, True, True]])\n",
    "array2 = jnp.array([True, True, False])\n",
    "array1 == array2"
   ],
   "metadata": {
    "collapsed": false,
    "ExecuteTime": {
     "end_time": "2023-12-12T17:07:30.108315100Z",
     "start_time": "2023-12-12T17:07:30.067416300Z"
    }
   }
  },
  {
   "cell_type": "code",
   "execution_count": 9,
   "outputs": [
    {
     "data": {
      "text/plain": "[<matplotlib.lines.Line2D at 0x255e89fe1a0>]"
     },
     "execution_count": 9,
     "metadata": {},
     "output_type": "execute_result"
    },
    {
     "data": {
      "text/plain": "<Figure size 640x480 with 1 Axes>",
      "image/png": "[encoded data removed]"
     },
     "metadata": {},
     "output_type": "display_data"
    }
   ],
   "source": [
    "\n",
    "for i in range (10000):\n",
    "    lr.append(scheduler(i))\n",
    "import matplotlib.pyplot as plt\n",
    "plt.plot(lr)"
   ],
   "metadata": {
    "collapsed": false,
    "ExecuteTime": {
     "end_time": "2023-11-17T17:13:05.542064500Z",
     "start_time": "2023-11-17T17:13:04.239510Z"
    }
   }
  },
  {
   "cell_type": "code",
   "execution_count": null,
   "outputs": [],
   "source": [],
   "metadata": {
    "collapsed": false
   }
  },
  {
   "cell_type": "code",
   "execution_count": 7,
   "outputs": [],
   "source": [
    "from functools import partial\n",
    "import jax\n",
    "import jax.numpy as jnp\n",
    "\n",
    "def local_element_indices_2d(num_body, pauli_array, loc_array):\n",
    "    if pauli_array.shape[-1] != num_body:\n",
    "        raise ValueError(f\"Array has incorrect body of interactions {pauli_array.shape[-1]}. Expected body of interactions is {num_body}.\")\n",
    "\n",
    "    count_3s = jnp.sum(pauli_array == 3, axis = 1)\n",
    "    count_1s = jnp.sum(pauli_array == 1, axis = 1)\n",
    "\n",
    "    pauli_array_xz = {}\n",
    "    xloc_arrays = {}\n",
    "    zloc_arrays = {}\n",
    "    yloc_arrays = {}\n",
    "    xy_loc_arrays = {}\n",
    "\n",
    "    for i in range(num_body+1):    #z_number\n",
    "        for j in range (num_body+1-i):  #x_number\n",
    "            mask = ((count_3s == i)&(count_1s == j))\n",
    "            pauli_array_xz[i, j] = pauli_array[mask]\n",
    "\n",
    "            mask_x = (pauli_array_xz[i, j] == 1)\n",
    "            mask_y = (pauli_array_xz[i, j] == 2)\n",
    "            mask_z = (pauli_array_xz[i, j] == 3)\n",
    "\n",
    "            if mask_x.sum() != 0:\n",
    "                xloc_arrays[i, j] = loc_array[mask][mask_x].reshape(-1, j, 2)\n",
    "            elif mask_y.sum() != 0 or mask_z.sum() !=0:\n",
    "                if mask_y.sum()!=0:\n",
    "                    xloc_arrays[i, j] = jnp.array([[]]).reshape(pauli_array_xz[i ,j].shape[0], 0, 2).astype(int)\n",
    "                else:\n",
    "                    xloc_arrays[i, j] = jnp.array([[]]).reshape(pauli_array_xz[i, j].shape[0], 0, 2).astype(int)\n",
    "\n",
    "            if mask_y.sum() !=0:\n",
    "                yloc_arrays[i, j] = loc_array[mask][mask_y].reshape(-1, num_body-i-j, 2).astype(int)\n",
    "            elif mask_x.sum() != 0 or mask_z.sum() !=0:\n",
    "                if mask_x.sum()!=0:\n",
    "                    yloc_arrays[i, j] = jnp.array([[]]).reshape(pauli_array_xz[i, j].shape[0], 0, 2).astype(int)\n",
    "                else:\n",
    "                    yloc_arrays[i, j] = jnp.array([[]]).reshape(pauli_array_xz[i, j].shape[0], 0, 2).astype(int)\n",
    "\n",
    "            if mask_z.sum()!=0:\n",
    "                zloc_arrays[i, j] = loc_array[mask][mask_z].reshape(-1, i, 2).astype(int)\n",
    "            elif mask_x.sum() != 0 or mask_y.sum() !=0:\n",
    "                if mask_y.sum()!=0:\n",
    "                    zloc_arrays[i, j] = jnp.array([[]]).reshape(pauli_array_xz[i, j].shape[0], 0, 2).astype(int)\n",
    "                else:\n",
    "                    zloc_arrays[i, j] = jnp.array([[]]).reshape(pauli_array_xz[i, j].shape[0], 0, 2).astype(int)\n",
    "    print(\"xlco_arrays:\", xloc_arrays)\n",
    "    print(\"yloc_arrays:\", yloc_arrays)\n",
    "    for ind in (xloc_arrays):\n",
    "        xy_loc_arrays[ind] = jnp.concatenate((xloc_arrays[ind], yloc_arrays[ind]), axis=1).astype(int)\n",
    "    return  xy_loc_arrays, yloc_arrays, zloc_arrays\n",
    "@jax.jit\n",
    "def total_samples_2d(samples, xyloc):\n",
    "    def scan_array_element(sample_element, xyloc_arrays_element):\n",
    "        scan_samples = sample_element.at[xyloc_arrays_element[:,0], xyloc_arrays_element[:,1]].set((sample_element[xyloc_arrays_element[:,0], xyloc_arrays_element[:,1]]+1)%2)\n",
    "        return sample_element, scan_samples\n",
    "    sample_tmp = samples\n",
    "    for xyloc_ind in xyloc:\n",
    "        if xyloc[xyloc_ind].size != 0:\n",
    "            sample_tmp = jnp.append(sample_tmp, jax.lax.scan(scan_array_element, samples, xyloc[xyloc_ind])[1])\n",
    "    print(xyloc[xyloc_ind])\n",
    "    return sample_tmp.reshape(-1, samples.shape[0], samples.shape[1])\n",
    "\n",
    "@jax.jit\n",
    "def new_coe_2d(samples, coe_array, yloc, zloc):\n",
    "    def ycoe(sample_element, yloc_arrays_element):\n",
    "        scan_coe_tmp_y = ((-1)**sample_element[yloc_arrays_element[:,0],yloc_arrays_element[:,1]]*1j).prod()\n",
    "        return sample_element, scan_coe_tmp_y\n",
    "    def zcoe(sample_element, zloc_arrays_element):\n",
    "        scan_coe_tmp_z = ((-1)**sample_element[zloc_arrays_element[:,0], zloc_arrays_element[:,1]]).prod()\n",
    "        return sample_element, scan_coe_tmp_z\n",
    "    coe_tmp_y = jnp.array([1])\n",
    "    coe_tmp_z = jnp.array([1])\n",
    "    for yloc_ind in yloc:\n",
    "        if yloc[yloc_ind].shape[0] != 0:\n",
    "            coe_tmp_y = jnp.append(coe_tmp_y, jax.lax.scan(ycoe, samples, yloc[yloc_ind])[1])\n",
    "        else:\n",
    "            coe_tmp_y = jnp.append(coe_tmp_y, 1)\n",
    "    for zloc_ind in zloc:\n",
    "        if zloc_ind[1] == 0:\n",
    "            coe_tmp_z = coe_tmp_z.at([0]).set(jax.lax.scan(zcoe, samples, zloc[zloc_ind])[1].sum())\n",
    "        elif zloc[zloc_ind].shape[0] != 0:\n",
    "            coe_tmp_z = jnp.append(coe_tmp_z, jax.lax.scan(zcoe, samples, zloc[zloc_ind])[1])\n",
    "        else:\n",
    "            coe_tmp_z = jnp.append(coe_tmp_z, 1)\n",
    "    return coe_tmp_y*coe_tmp_z*jnp.concatenate((jnp.array([1]), coe_array), axis=0)"
   ],
   "metadata": {
    "collapsed": false,
    "ExecuteTime": {
     "end_time": "2023-12-10T16:29:46.821241400Z",
     "start_time": "2023-12-10T16:29:46.757935600Z"
    }
   }
  },
  {
   "cell_type": "code",
   "execution_count": 8,
   "outputs": [
    {
     "name": "stdout",
     "output_type": "stream",
     "text": [
      "pauli_array: [[1 3 3 3 3]\n",
      " [1 3 3 3 3]\n",
      " [1 3 3 3 3]\n",
      " [1 3 3 3 3]\n",
      " [1 3 3 3 3]\n",
      " [1 3 3 3 3]\n",
      " [1 3 3 3 3]\n",
      " [1 3 3 3 3]\n",
      " [1 3 3 3 3]\n",
      " [1 3 3 3 3]\n",
      " [1 3 3 3 3]\n",
      " [1 3 3 3 3]\n",
      " [1 3 3 3 3]\n",
      " [1 3 3 3 3]\n",
      " [1 3 3 3 3]\n",
      " [1 3 3 3 3]]\n",
      "loc_array: [[[1. 1.]\n",
      "  [1. 2.]\n",
      "  [2. 1.]\n",
      "  [0. 1.]\n",
      "  [1. 0.]]\n",
      "\n",
      " [[1. 2.]\n",
      "  [1. 3.]\n",
      "  [2. 2.]\n",
      "  [0. 2.]\n",
      "  [1. 1.]]\n",
      "\n",
      " [[1. 3.]\n",
      "  [1. 4.]\n",
      "  [2. 3.]\n",
      "  [0. 3.]\n",
      "  [1. 2.]]\n",
      "\n",
      " [[1. 4.]\n",
      "  [1. 5.]\n",
      "  [2. 4.]\n",
      "  [0. 4.]\n",
      "  [1. 3.]]\n",
      "\n",
      " [[2. 1.]\n",
      "  [2. 2.]\n",
      "  [3. 1.]\n",
      "  [1. 1.]\n",
      "  [2. 0.]]\n",
      "\n",
      " [[2. 2.]\n",
      "  [2. 3.]\n",
      "  [3. 2.]\n",
      "  [1. 2.]\n",
      "  [2. 1.]]\n",
      "\n",
      " [[2. 3.]\n",
      "  [2. 4.]\n",
      "  [3. 3.]\n",
      "  [1. 3.]\n",
      "  [2. 2.]]\n",
      "\n",
      " [[2. 4.]\n",
      "  [2. 5.]\n",
      "  [3. 4.]\n",
      "  [1. 4.]\n",
      "  [2. 3.]]\n",
      "\n",
      " [[3. 1.]\n",
      "  [3. 2.]\n",
      "  [4. 1.]\n",
      "  [2. 1.]\n",
      "  [3. 0.]]\n",
      "\n",
      " [[3. 2.]\n",
      "  [3. 3.]\n",
      "  [4. 2.]\n",
      "  [2. 2.]\n",
      "  [3. 1.]]\n",
      "\n",
      " [[3. 3.]\n",
      "  [3. 4.]\n",
      "  [4. 3.]\n",
      "  [2. 3.]\n",
      "  [3. 2.]]\n",
      "\n",
      " [[3. 4.]\n",
      "  [3. 5.]\n",
      "  [4. 4.]\n",
      "  [2. 4.]\n",
      "  [3. 3.]]\n",
      "\n",
      " [[4. 1.]\n",
      "  [4. 2.]\n",
      "  [5. 1.]\n",
      "  [3. 1.]\n",
      "  [4. 0.]]\n",
      "\n",
      " [[4. 2.]\n",
      "  [4. 3.]\n",
      "  [5. 2.]\n",
      "  [3. 2.]\n",
      "  [4. 1.]]\n",
      "\n",
      " [[4. 3.]\n",
      "  [4. 4.]\n",
      "  [5. 3.]\n",
      "  [3. 3.]\n",
      "  [4. 2.]]\n",
      "\n",
      " [[4. 4.]\n",
      "  [4. 5.]\n",
      "  [5. 4.]\n",
      "  [3. 4.]\n",
      "  [4. 3.]]]\n",
      "xlco_arrays: {(4, 1): Array([[[1., 1.]],\n",
      "\n",
      "       [[1., 2.]],\n",
      "\n",
      "       [[1., 3.]],\n",
      "\n",
      "       [[1., 4.]],\n",
      "\n",
      "       [[2., 1.]],\n",
      "\n",
      "       [[2., 2.]],\n",
      "\n",
      "       [[2., 3.]],\n",
      "\n",
      "       [[2., 4.]],\n",
      "\n",
      "       [[3., 1.]],\n",
      "\n",
      "       [[3., 2.]],\n",
      "\n",
      "       [[3., 3.]],\n",
      "\n",
      "       [[3., 4.]],\n",
      "\n",
      "       [[4., 1.]],\n",
      "\n",
      "       [[4., 2.]],\n",
      "\n",
      "       [[4., 3.]],\n",
      "\n",
      "       [[4., 4.]]], dtype=float32)}\n",
      "yloc_arrays: {(4, 1): Array([], dtype=int32)}\n",
      "zloc: {(4, 1): Array([[[1, 2],\n",
      "        [2, 1],\n",
      "        [0, 1],\n",
      "        [1, 0]],\n",
      "\n",
      "       [[1, 3],\n",
      "        [2, 2],\n",
      "        [0, 2],\n",
      "        [1, 1]],\n",
      "\n",
      "       [[1, 4],\n",
      "        [2, 3],\n",
      "        [0, 3],\n",
      "        [1, 2]],\n",
      "\n",
      "       [[1, 5],\n",
      "        [2, 4],\n",
      "        [0, 4],\n",
      "        [1, 3]],\n",
      "\n",
      "       [[2, 2],\n",
      "        [3, 1],\n",
      "        [1, 1],\n",
      "        [2, 0]],\n",
      "\n",
      "       [[2, 3],\n",
      "        [3, 2],\n",
      "        [1, 2],\n",
      "        [2, 1]],\n",
      "\n",
      "       [[2, 4],\n",
      "        [3, 3],\n",
      "        [1, 3],\n",
      "        [2, 2]],\n",
      "\n",
      "       [[2, 5],\n",
      "        [3, 4],\n",
      "        [1, 4],\n",
      "        [2, 3]],\n",
      "\n",
      "       [[3, 2],\n",
      "        [4, 1],\n",
      "        [2, 1],\n",
      "        [3, 0]],\n",
      "\n",
      "       [[3, 3],\n",
      "        [4, 2],\n",
      "        [2, 2],\n",
      "        [3, 1]],\n",
      "\n",
      "       [[3, 4],\n",
      "        [4, 3],\n",
      "        [2, 3],\n",
      "        [3, 2]],\n",
      "\n",
      "       [[3, 5],\n",
      "        [4, 4],\n",
      "        [2, 4],\n",
      "        [3, 3]],\n",
      "\n",
      "       [[4, 2],\n",
      "        [5, 1],\n",
      "        [3, 1],\n",
      "        [4, 0]],\n",
      "\n",
      "       [[4, 3],\n",
      "        [5, 2],\n",
      "        [3, 2],\n",
      "        [4, 1]],\n",
      "\n",
      "       [[4, 4],\n",
      "        [5, 3],\n",
      "        [3, 3],\n",
      "        [4, 2]],\n",
      "\n",
      "       [[4, 5],\n",
      "        [5, 4],\n",
      "        [3, 4],\n",
      "        [4, 3]]], dtype=int32)}\n"
     ]
    }
   ],
   "source": [
    "from jax import random\n",
    "from jax.random import PRNGKey, randint\n",
    "import numpy as np\n",
    "pauli_array = jnp.repeat(jnp.array([1,3,3,3,3])[None], 16, axis = 0).astype(int)\n",
    "print(\"pauli_array:\", pauli_array)\n",
    "loc_array = jnp.array([[]])\n",
    "for i in range (1, 5):\n",
    "    for j in range (1, 5):\n",
    "        loc_array = jnp.append(loc_array, jnp.array([[i,j],[i,j+1],[i+1,j],[i-1,j], [i, j-1]]))\n",
    "loc_array = loc_array.reshape(16, 5, 2)\n",
    "print(\"loc_array:\", loc_array)\n",
    "xy_loc, yloc, zloc = local_element_indices_2d(5, pauli_array, loc_array)\n",
    "print(\"zloc:\", zloc)"
   ],
   "metadata": {
    "collapsed": false,
    "ExecuteTime": {
     "end_time": "2023-12-10T16:29:47.360883100Z",
     "start_time": "2023-12-10T16:29:47.205973200Z"
    }
   }
  },
  {
   "cell_type": "code",
   "execution_count": 7,
   "outputs": [],
   "source": [
    "import jax.numpy as jnp\n",
    "\n",
    "Ny, Nx = 4, 4  # Define Ny and Nx with assumed values for demonstration\n",
    "\n",
    "# Pre-allocate bulk locations with array operations\n",
    "I, J = jnp.meshgrid(jnp.arange(1, Ny-1), jnp.arange(1, Nx-1), indexing='ij')\n",
    "bulk_coordinates = jnp.stack([I, J, I, J+1, I+1, J, I-1, J, I, J-1], axis=-1)\n",
    "loc_array_bulk = bulk_coordinates.reshape(-1, 5, 2)\n",
    "\n",
    "# Create edges excluding corners\n",
    "edge_top = jnp.stack([jnp.ones(Nx-2), jnp.arange(1, Nx-1)], axis=-1)\n",
    "edge_bottom = jnp.stack([jnp.full((Nx-2,), Ny-1), jnp.arange(1, Nx-1)], axis=-1)\n",
    "edge_left = jnp.stack([jnp.arange(1, Ny-1), jnp.zeros(Ny-2)], axis=-1)\n",
    "edge_right = jnp.stack([jnp.arange(1, Ny-1), jnp.full((Ny-2,), Nx-1)], axis=-1)\n",
    "edges = jnp.concatenate([edge_top, edge_bottom, edge_left, edge_right])\n",
    "loc_array_edge = jnp.repeat(edges[:, None, :], 4, axis=1) # Repeat the edge pattern\n",
    "\n",
    "# Fix the edge coordinates with appropriate values\n",
    "loc_array_edge = loc_array_edge.at[:, 1:, 0].add(1)  # Increment i or j based on direction\n",
    "loc_array_edge = loc_array_edge.at[:, 2, 1].set(0)    # Set j=0 for left edge increments\n",
    "loc_array_edge = loc_array_edge.at[:, 3, 0].set(Ny-1) # Set i=Ny-1 for bottom edge increments\n",
    "loc_array_edge = loc_array_edge.reshape(-1, 4, 2)\n",
    "\n",
    "# Pre-defined corner locations\n",
    "loc_array_corner = jnp.array([[[0,0],[0,1],[1,0]],\n",
    "                              [[0, Nx-1],[0, Nx-2], [1, Nx-1]],\n",
    "                              [[Ny-1, 0],[Ny-1, 1],[Ny-2,0]],\n",
    "                              [[Ny-1, Nx-1],[Ny-1, Nx-2],[Ny-2, Nx-1]]])\n",
    "\n",
    "# Pauli arrays can be created directly since their pattern doesn't depend on Ny or Nx\n",
    "pauli_array_bulk = jnp.tile(jnp.array([[1,3,3,3,3]]), ((Ny-2)*(Nx-2), 1))\n",
    "pauli_array_edge = jnp.tile(jnp.array([[1,3,3,3]]), ((Ny+Nx-4)*2, 1))\n",
    "pauli_array_corner = jnp.tile(jnp.array([[1,3,3]]), (4, 1))\n",
    "\n",
    "# It's assumed local_element_indices_2d function exists and operates on the inputs provided\n",
    "# xy_loc_bulk, yloc_bulk, zloc_bulk = local_element_indices_2d(5, pauli_array_bulk, loc_array_bulk)\n",
    "# xy_loc_edge, yloc_edge, zloc_edge = local_element_indices_2d(4, pauli_array_edge, loc_array_edge)\n",
    "# xy_loc_corner, yloc_corner, zloc_corner = local_element_indices_2d(3, pauli_array_corner, loc_array_corner)\n"
   ],
   "metadata": {
    "collapsed": false,
    "ExecuteTime": {
     "end_time": "2023-11-10T14:10:52.643240600Z",
     "start_time": "2023-11-10T14:10:51.921804100Z"
    }
   }
  },
  {
   "cell_type": "code",
   "execution_count": 94,
   "outputs": [
    {
     "data": {
      "text/plain": "[Array([[1, 1],\n        [2, 2]], dtype=int32),\n Array([[1, 2],\n        [1, 2]], dtype=int32)]"
     },
     "execution_count": 94,
     "metadata": {},
     "output_type": "execute_result"
    }
   ],
   "source": [
    "jnp.meshgrid(jnp.arange(1, Ny-1), jnp.arange(1, Nx-1), indexing='ij')"
   ],
   "metadata": {
    "collapsed": false,
    "ExecuteTime": {
     "end_time": "2023-11-07T07:57:49.527675900Z",
     "start_time": "2023-11-07T07:57:49.484282200Z"
    }
   }
  },
  {
   "cell_type": "code",
   "execution_count": 97,
   "outputs": [],
   "source": [
    "# Add edge coordinates excluding corners for the left and right sides of the grid\n",
    "edge_coordinates = []\n",
    "for i in range(1, Ny - 1):\n",
    "    edge_coordinates.extend([[i, 0], [i, 1], [i + 1, 0], [i - 1, 0]])\n",
    "    edge_coordinates.extend([[i, Nx - 1], [i, Nx - 2], [i + 1, Nx - 1], [i - 1, Nx - 1]])\n",
    "\n",
    "# Add edge coordinates excluding corners for the top and bottom of the grid\n",
    "for j in range(1, Nx - 1):\n",
    "    edge_coordinates.extend([[0, j], [1, j], [0, j - 1], [0, j + 1]])\n",
    "    edge_coordinates.extend([[Ny - 1, j], [Ny - 2, j], [Ny - 1, j - 1], [Ny - 1, j + 1]])\n",
    "\n",
    "# Convert list to a JAX array\n",
    "loc_array_edge = jnp.array(edge_coordinates).reshape(-1, 4, 2)"
   ],
   "metadata": {
    "collapsed": false,
    "ExecuteTime": {
     "end_time": "2023-11-07T08:00:32.215320600Z",
     "start_time": "2023-11-07T08:00:32.117666600Z"
    }
   }
  },
  {
   "cell_type": "code",
   "execution_count": 128,
   "outputs": [
    {
     "ename": "ValueError",
     "evalue": "invalid mode for variance scaling initializer: average",
     "output_type": "error",
     "traceback": [
      "\u001B[1;31m---------------------------------------------------------------------------\u001B[0m",
      "\u001B[1;31mValueError\u001B[0m                                Traceback (most recent call last)",
      "Cell \u001B[1;32mIn[128], line 31\u001B[0m\n\u001B[0;32m     28\u001B[0m     \u001B[38;5;28;01mreturn\u001B[39;00m {\u001B[38;5;124m\"\u001B[39m\u001B[38;5;124mW_\u001B[39m\u001B[38;5;124m\"\u001B[39m \u001B[38;5;241m+\u001B[39m name: W, \u001B[38;5;124m\"\u001B[39m\u001B[38;5;124mb_\u001B[39m\u001B[38;5;124m\"\u001B[39m \u001B[38;5;241m+\u001B[39m name: b, \u001B[38;5;124m\"\u001B[39m\u001B[38;5;124mWg_\u001B[39m\u001B[38;5;124m\"\u001B[39m \u001B[38;5;241m+\u001B[39m name: Wg, \u001B[38;5;124m\"\u001B[39m\u001B[38;5;124mbg_\u001B[39m\u001B[38;5;124m\"\u001B[39m \u001B[38;5;241m+\u001B[39m name: bg, \u001B[38;5;124m\"\u001B[39m\u001B[38;5;124mWmerge_\u001B[39m\u001B[38;5;124m\"\u001B[39m \u001B[38;5;241m+\u001B[39m name: Wmerge}\n\u001B[0;32m     30\u001B[0m \u001B[38;5;66;03m# Use the function to create variables\u001B[39;00m\n\u001B[1;32m---> 31\u001B[0m variables \u001B[38;5;241m=\u001B[39m \u001B[43mcreate_variables\u001B[49m\u001B[43m(\u001B[49m\u001B[38;5;124;43m'\u001B[39;49m\u001B[38;5;124;43mexample\u001B[39;49m\u001B[38;5;124;43m'\u001B[39;49m\u001B[43m,\u001B[49m\u001B[43m \u001B[49m\u001B[43mnum_units\u001B[49m\u001B[38;5;241;43m=\u001B[39;49m\u001B[38;5;241;43m512\u001B[39;49m\u001B[43m,\u001B[49m\u001B[43m \u001B[49m\u001B[43mnum_in\u001B[49m\u001B[38;5;241;43m=\u001B[39;49m\u001B[38;5;241;43m256\u001B[39;49m\u001B[43m,\u001B[49m\u001B[43m \u001B[49m\u001B[43mdtype\u001B[49m\u001B[38;5;241;43m=\u001B[39;49m\u001B[43mjnp\u001B[49m\u001B[38;5;241;43m.\u001B[39;49m\u001B[43mfloat32\u001B[49m\u001B[43m)\u001B[49m\n\u001B[0;32m     33\u001B[0m \u001B[38;5;66;03m# Access variables like this:\u001B[39;00m\n\u001B[0;32m     34\u001B[0m W \u001B[38;5;241m=\u001B[39m variables[\u001B[38;5;124m\"\u001B[39m\u001B[38;5;124mW_example\u001B[39m\u001B[38;5;124m\"\u001B[39m]\n",
      "Cell \u001B[1;32mIn[128], line 22\u001B[0m, in \u001B[0;36mcreate_variables\u001B[1;34m(name, num_units, num_in, dtype)\u001B[0m\n\u001B[0;32m     19\u001B[0m \u001B[38;5;66;03m# Split key for each variable\u001B[39;00m\n\u001B[0;32m     20\u001B[0m W_key, b_key, Wg_key, bg_key, Wmerge_key \u001B[38;5;241m=\u001B[39m random\u001B[38;5;241m.\u001B[39msplit(key, \u001B[38;5;241m5\u001B[39m)\n\u001B[1;32m---> 22\u001B[0m W \u001B[38;5;241m=\u001B[39m \u001B[43mglorot_init\u001B[49m\u001B[43m(\u001B[49m\u001B[43mW_key\u001B[49m\u001B[43m,\u001B[49m\u001B[43m \u001B[49m\u001B[43mW_shape\u001B[49m\u001B[43m,\u001B[49m\u001B[43m \u001B[49m\u001B[43mdtype\u001B[49m\u001B[43m)\u001B[49m\n\u001B[0;32m     23\u001B[0m b \u001B[38;5;241m=\u001B[39m glorot_init(b_key, b_shape, dtype)\n\u001B[0;32m     24\u001B[0m Wg \u001B[38;5;241m=\u001B[39m glorot_init(Wg_key, Wg_shape, dtype)\n",
      "File \u001B[1;32m~\\anaconda3\\lib\\site-packages\\jax\\_src\\nn\\initializers.py:322\u001B[0m, in \u001B[0;36mvariance_scaling.<locals>.init\u001B[1;34m(key, shape, dtype)\u001B[0m\n\u001B[0;32m    320\u001B[0m \u001B[38;5;28;01melif\u001B[39;00m mode \u001B[38;5;241m==\u001B[39m \u001B[38;5;124m\"\u001B[39m\u001B[38;5;124mfan_avg\u001B[39m\u001B[38;5;124m\"\u001B[39m: denominator \u001B[38;5;241m=\u001B[39m (fan_in \u001B[38;5;241m+\u001B[39m fan_out) \u001B[38;5;241m/\u001B[39m \u001B[38;5;241m2\u001B[39m\n\u001B[0;32m    321\u001B[0m \u001B[38;5;28;01melse\u001B[39;00m:\n\u001B[1;32m--> 322\u001B[0m   \u001B[38;5;28;01mraise\u001B[39;00m \u001B[38;5;167;01mValueError\u001B[39;00m(\n\u001B[0;32m    323\u001B[0m     \u001B[38;5;124mf\u001B[39m\u001B[38;5;124m\"\u001B[39m\u001B[38;5;124minvalid mode for variance scaling initializer: \u001B[39m\u001B[38;5;132;01m{\u001B[39;00mmode\u001B[38;5;132;01m}\u001B[39;00m\u001B[38;5;124m\"\u001B[39m)\n\u001B[0;32m    324\u001B[0m variance \u001B[38;5;241m=\u001B[39m jnp\u001B[38;5;241m.\u001B[39marray(scale \u001B[38;5;241m/\u001B[39m denominator, dtype\u001B[38;5;241m=\u001B[39mdtype)\n\u001B[0;32m    326\u001B[0m \u001B[38;5;28;01mif\u001B[39;00m distribution \u001B[38;5;241m==\u001B[39m \u001B[38;5;124m\"\u001B[39m\u001B[38;5;124mtruncated_normal\u001B[39m\u001B[38;5;124m\"\u001B[39m:\n",
      "\u001B[1;31mValueError\u001B[0m: invalid mode for variance scaling initializer: average"
     ]
    }
   ],
   "source": [
    "import jax\n",
    "import jax.numpy as jnp\n",
    "from jax import random\n",
    "\n",
    "def create_variables(name, num_units, num_in, dtype):\n",
    "    key = random.PRNGKey(0)  # You should pass a PRNGKey as an argument for reproducibility\n",
    "\n",
    "    # JAX uses glorot_uniform as the default which is a fan_avg uniform distribution.\n",
    "    # It's equivalent to TensorFlow's VarianceScaling with scale=1.0, mode='fan_avg', distribution='uniform'.\n",
    "    glorot_init = jax.nn.initializers.variance_scaling(1.0, \"average\", \"uniform\")\n",
    "\n",
    "    # Create variables\n",
    "    W_shape = (num_units, 2 * num_units, 2 * num_in)\n",
    "    b_shape = (num_units,)\n",
    "    Wg_shape = (num_units, 2 * num_units, 2 * num_in)\n",
    "    bg_shape = (num_units,)\n",
    "    Wmerge_shape = (2 * num_units, num_units)\n",
    "\n",
    "    # Split key for each variable\n",
    "    W_key, b_key, Wg_key, bg_key, Wmerge_key = random.split(key, 5)\n",
    "\n",
    "    W = glorot_init(W_key, W_shape, dtype)\n",
    "    b = glorot_init(b_key, b_shape, dtype)\n",
    "    Wg = glorot_init(Wg_key, Wg_shape, dtype)\n",
    "    bg = glorot_init(bg_key, bg_shape, dtype)\n",
    "    Wmerge = glorot_init(Wmerge_key, Wmerge_shape, dtype)\n",
    "\n",
    "    return {\"W_\" + name: W, \"b_\" + name: b, \"Wg_\" + name: Wg, \"bg_\" + name: bg, \"Wmerge_\" + name: Wmerge}\n",
    "\n",
    "# Use the function to create variables\n",
    "variables = create_variables('example', num_units=512, num_in=256, dtype=jnp.float32)\n",
    "\n",
    "# Access variables like this:\n",
    "W = variables[\"W_example\"]\n",
    "b = variables[\"b_example\"]\n",
    "Wg = variables[\"Wg_example\"]\n",
    "bg = variables[\"bg_example\"]\n",
    "Wmerge = variables[\"Wmerge_example\"]\n"
   ],
   "metadata": {
    "collapsed": false,
    "ExecuteTime": {
     "end_time": "2023-11-08T09:06:15.593324600Z",
     "start_time": "2023-11-08T09:06:15.179430Z"
    }
   }
  },
  {
   "cell_type": "code",
   "execution_count": 2,
   "outputs": [
    {
     "data": {
      "text/plain": "Array(4, dtype=int32, weak_type=True)"
     },
     "execution_count": 2,
     "metadata": {},
     "output_type": "execute_result"
    }
   ],
   "source": [
    "import jax\n",
    "import jax.numpy as jnp\n",
    "import jax.lax as lax\n",
    "lax.cond(0., lambda x: x+1, lambda x: x+2, 2)"
   ],
   "metadata": {
    "collapsed": false,
    "ExecuteTime": {
     "end_time": "2023-11-10T14:10:33.503613500Z",
     "start_time": "2023-11-10T14:10:32.528254500Z"
    }
   }
  },
  {
   "cell_type": "code",
   "execution_count": 9,
   "outputs": [],
   "source": [
    "def location_pauli_label(loc_array_bulk, loc_array_edge, loc_array_corner):\n",
    "    label_bulk = {}\n",
    "    label_edge = {}\n",
    "    label_corner = {}\n",
    "    # yi, xi : the location to label how many operation is acted on\n",
    "    # y , x : The location of the loc_array that we can use to access the location to label\n",
    "    for yi in range (4):\n",
    "        for xi in range(4):\n",
    "            y = 0\n",
    "            tmp = jnp.array([])\n",
    "            for i in loc_array_bulk:\n",
    "                x = 0\n",
    "                for j in i:\n",
    "                    if (j == jnp.array([yi, xi])).all():\n",
    "                        tmp = jnp.append(tmp, jnp.array([y, x]))\n",
    "                    x += 1\n",
    "                y += 1\n",
    "            label_bulk[yi, xi] = tmp.reshape(-1, 2)\n",
    "    for yi in range (4):\n",
    "        for xi in range(4):\n",
    "            y = 0\n",
    "            tmp = jnp.array([])\n",
    "            for i in loc_array_edge:\n",
    "                x = 0\n",
    "                for j in i:\n",
    "                    if (j == jnp.array([yi, xi])).all():\n",
    "                        tmp = jnp.append(tmp, jnp.array([y, x]))\n",
    "                    x += 1\n",
    "                y += 1\n",
    "            label_edge[yi, xi] = tmp.reshape(-1, 2)\n",
    "    for yi in range (4):\n",
    "        for xi in range(4):\n",
    "            y = 0\n",
    "            tmp = jnp.array([])\n",
    "            for i in loc_array_corner:\n",
    "                x = 0\n",
    "                for j in i:\n",
    "                    if (j == jnp.array([yi, xi])).all():\n",
    "                        tmp = jnp.append(tmp, jnp.array([y, x]))\n",
    "                    x += 1\n",
    "                y += 1\n",
    "            label_corner[yi, xi] = tmp.reshape(-1, 2)\n",
    "    return label_bulk, label_edge, label_corner"
   ],
   "metadata": {
    "collapsed": false,
    "ExecuteTime": {
     "end_time": "2023-11-15T16:10:10.245754Z",
     "start_time": "2023-11-15T16:10:10.236173800Z"
    }
   }
  },
  {
   "cell_type": "code",
   "execution_count": 21,
   "outputs": [],
   "source": [
    "label_bulk, label_edge, label_corner = location_pauli_label(loc_array_bulk, loc_array_edge, loc_array_corner)\n",
    "pauli_array_bulk, pauli_array_edge, pauli_array_corner  = jnp.repeat(jnp.array([1,3,3,3,3])[None], (Ny-2)*(Nx-2), axis=0), jnp.repeat(jnp.array([1,3,3,3])[None], (Ny+Nx-4)*2, axis=0), jnp.repeat(jnp.array([1,3,3])[None], 4, axis=0)\n"
   ],
   "metadata": {
    "collapsed": false,
    "ExecuteTime": {
     "end_time": "2023-11-15T16:59:28.551943400Z",
     "start_time": "2023-11-15T16:59:28.010206600Z"
    }
   }
  },
  {
   "cell_type": "code",
   "execution_count": 55,
   "outputs": [
    {
     "data": {
      "text/plain": "Array([[1, 1, 1, 1, 1],\n       [3, 3, 3, 3, 3],\n       [3, 3, 3, 3, 3],\n       [1, 1, 1, 1, 1]], dtype=int32)"
     },
     "execution_count": 55,
     "metadata": {},
     "output_type": "execute_result"
    }
   ],
   "source": [
    "pauli_array_bulk"
   ],
   "metadata": {
    "collapsed": false,
    "ExecuteTime": {
     "end_time": "2023-11-15T18:06:53.816624500Z",
     "start_time": "2023-11-15T18:06:53.763305400Z"
    }
   }
  },
  {
   "cell_type": "code",
   "execution_count": 56,
   "outputs": [
    {
     "ename": "TypeError",
     "evalue": "'ArrayImpl' object is not callable",
     "output_type": "error",
     "traceback": [
      "\u001B[1;31m---------------------------------------------------------------------------\u001B[0m",
      "\u001B[1;31mTypeError\u001B[0m                                 Traceback (most recent call last)",
      "Cell \u001B[1;32mIn[56], line 5\u001B[0m\n\u001B[0;32m      3\u001B[0m pauli_array_corner \u001B[38;5;241m=\u001B[39m jnp\u001B[38;5;241m.\u001B[39mrepeat(jnp\u001B[38;5;241m.\u001B[39marray([\u001B[38;5;241m1\u001B[39m,\u001B[38;5;241m3\u001B[39m,\u001B[38;5;241m3\u001B[39m])[\u001B[38;5;28;01mNone\u001B[39;00m], \u001B[38;5;241m4\u001B[39m, axis\u001B[38;5;241m=\u001B[39m\u001B[38;5;241m0\u001B[39m)\n\u001B[0;32m      4\u001B[0m \u001B[38;5;66;03m# The location that each Hamiltonian term acts on\u001B[39;00m\n\u001B[1;32m----> 5\u001B[0m loc_array_bulk, loc_array_edge, loc_array_corner \u001B[38;5;241m=\u001B[39m \u001B[43mloc_array\u001B[49m\u001B[43m(\u001B[49m\u001B[38;5;241;43m4\u001B[39;49m\u001B[43m,\u001B[49m\u001B[43m \u001B[49m\u001B[38;5;241;43m4\u001B[39;49m\u001B[43m)\u001B[49m\n\u001B[0;32m      6\u001B[0m \u001B[38;5;66;03m# We group the location that each Hamiltonian term acts on according to how many x,y,z they have in each term\u001B[39;00m\n\u001B[0;32m      7\u001B[0m xy_loc_bulk, yloc_bulk, zloc_bulk \u001B[38;5;241m=\u001B[39m local_element_indices_2d(\u001B[38;5;241m5\u001B[39m, pauli_array_bulk, loc_array_bulk)\n",
      "\u001B[1;31mTypeError\u001B[0m: 'ArrayImpl' object is not callable"
     ]
    }
   ],
   "source": [
    "pauli_array_bulk = jnp.repeat(jnp.array([1,3,3,3,3])[None], (Ny-2)*(Nx-2), axis=0)\n",
    "pauli_array_edge = jnp.repeat(jnp.array([1,3,3,3])[None], (Ny+Nx-4)*2, axis=0)\n",
    "pauli_array_corner = jnp.repeat(jnp.array([1,3,3])[None], 4, axis=0)\n",
    "# The location that each Hamiltonian term acts on\n",
    "loc_array_bulk, loc_array_edge, loc_array_corner = loc_array(4, 4)\n",
    "# We group the location that each Hamiltonian term acts on according to how many x,y,z they have in each term\n",
    "xy_loc_bulk, yloc_bulk, zloc_bulk = local_element_indices_2d(5, pauli_array_bulk, loc_array_bulk)\n",
    "xy_loc_edge, yloc_edge, zloc_edge = local_element_indices_2d(4, pauli_array_edge, loc_array_edge)\n",
    "xy_loc_corner, yloc_corner, zloc_corner = local_element_indices_2d(3, pauli_array_corner, loc_array_corner)\n",
    "# label_xxx[y, x] is a dict datatype and it is the location of loc_array_xxx such that pauli_array_bulk.at[label[i][:,0].astype(int), label[i][:,1].astype(int)] will\n",
    "# show the pauli matrix that acts on lattice location\n",
    "label_bulk, label_edge, label_corner = location_pauli_label(loc_array_bulk, loc_array_edge, loc_array_corner)\n",
    "for i in label_bulk:\n",
    "    pauli_array_bulk = pauli_array_bulk.at[label_bulk[i][:,0].astype(int), label_bulk[i][:,1].astype(int)].set(-pauli_array_bulk[label_bulk[i][:,0].astype(int), label_bulk[i][:,1].astype(int)]+4)\n",
    "for i in label_edge:\n",
    "    pauli_array_edge = pauli_array_edge.at[label_edge[i][:,0].astype(int), label_edge[i][:,1].astype(int)].set(-pauli_array_edge[label_edge[i][:,0].astype(int), label_edge[i][:,1].astype(int)]+4)\n",
    "for i in label_corner:\n",
    "    pauli_array_corner = pauli_array_corner.at[label_corner[i][:,0].astype(int), label_corner[i][:,1].astype(int)].set(-pauli_array_corner[label_corner[i][:,0].astype(int), label_corner[i][:,1].astype(int)]+4)\n"
   ],
   "metadata": {
    "collapsed": false,
    "ExecuteTime": {
     "end_time": "2023-11-15T18:08:53.094058900Z",
     "start_time": "2023-11-15T18:08:52.991810100Z"
    }
   }
  },
  {
   "cell_type": "code",
   "execution_count": 27,
   "outputs": [
    {
     "data": {
      "text/plain": "Array([[3, 1, 1],\n       [3, 1, 1],\n       [3, 1, 1],\n       [3, 1, 1]], dtype=int32)"
     },
     "execution_count": 27,
     "metadata": {},
     "output_type": "execute_result"
    }
   ],
   "source": [
    "pauli_array_corner"
   ],
   "metadata": {
    "collapsed": false,
    "ExecuteTime": {
     "end_time": "2023-11-10T14:19:07.021984300Z",
     "start_time": "2023-11-10T14:19:07.002131Z"
    }
   }
  },
  {
   "cell_type": "code",
   "execution_count": 19,
   "outputs": [],
   "source": [
    "def loc_array(Ny, Nx):\n",
    "    I, J = jnp.meshgrid(jnp.arange(1, Ny - 1), jnp.arange(1, Nx - 1), indexing='ij')\n",
    "    bulk_coordinates = jnp.stack([I, J, I, J + 1, I + 1, J, I - 1, J, I, J - 1], axis=-1)\n",
    "    loc_array_bulk = bulk_coordinates.reshape(-1, 5, 2)\n",
    "\n",
    "    # Add edge coordinates excluding corners for the left and right sides of the grid\n",
    "    edge_coordinates = []\n",
    "    for i in range(1, Ny - 1):\n",
    "        edge_coordinates.extend([[i, 0], [i, 1], [i + 1, 0], [i - 1, 0]])\n",
    "        edge_coordinates.extend([[i, Nx - 1], [i, Nx - 2], [i + 1, Nx - 1], [i - 1, Nx - 1]])\n",
    "\n",
    "    # Add edge coordinates excluding corners for the top and bottom of the grid\n",
    "    for j in range(1, Nx - 1):\n",
    "        edge_coordinates.extend([[0, j], [1, j], [0, j - 1], [0, j + 1]])\n",
    "        edge_coordinates.extend([[Ny - 1, j], [Ny - 2, j], [Ny - 1, j - 1], [Ny - 1, j + 1]])\n",
    "\n",
    "    # Convert list to a JAX array\n",
    "    loc_array_edge = jnp.array(edge_coordinates).reshape(-1, 4, 2)\n",
    "\n",
    "    loc_array_corner = jnp.array([[[0, 0], [0, 1], [1, 0]],\n",
    "                                  [[0, Nx - 1], [0, Nx - 2], [1, Nx - 1]],\n",
    "                                  [[Ny - 1, 0], [Ny - 1, 1], [Ny - 2, 0]],\n",
    "                                  [[Ny - 1, Nx - 1], [Ny - 1, Nx - 2], [Ny - 2, Nx - 1]]])\n",
    "    return loc_array_bulk, loc_array_edge, loc_array_corner"
   ],
   "metadata": {
    "collapsed": false,
    "ExecuteTime": {
     "end_time": "2023-11-10T14:17:47.301319900Z",
     "start_time": "2023-11-10T14:17:47.263191100Z"
    }
   }
  },
  {
   "cell_type": "code",
   "execution_count": 42,
   "outputs": [],
   "source": [
    "import jax\n",
    "from jax.random import PRNGKey\n",
    "p = jax.random.uniform(PRNGKey(1), jnp.array([1]), float, 0 , 1)"
   ],
   "metadata": {
    "collapsed": false,
    "ExecuteTime": {
     "end_time": "2023-11-11T00:58:09.159490800Z",
     "start_time": "2023-11-11T00:58:09.127596200Z"
    }
   }
  },
  {
   "cell_type": "code",
   "execution_count": 30,
   "outputs": [],
   "source": [
    "from jax.random import split, PRNGKey\n",
    "import jax\n",
    "import jax.numpy as jnp\n",
    "Ny, Nx = 6, 6\n",
    "key = PRNGKey(0)\n",
    "pauli_array_bulk = jnp.repeat(jnp.array([1, 3, 3, 3, 3])[None], (Ny - 2) * (Nx - 2), axis=0)\n",
    "pauli_array_edge = jnp.repeat(jnp.array([1, 3, 3, 3])[None], (Ny + Nx - 4) * 2, axis=0)\n",
    "pauli_array_corner = jnp.repeat(jnp.array([1, 3, 3])[None], 4, axis=0)\n",
    "# The location that each Hamiltonian term acts on\n",
    "loc_array_bulk, loc_array_edge, loc_array_corner = loc_array(Ny, Nx)\n",
    "# label_xxx[y, x] is a dict datatype and it is the location of loc_array_xxx such that pauli_array_bulk.at[label[i][:,0].astype(int), label[i][:,1].astype(int)] will\n",
    "# show the pauli matrix that acts on lattice location\n",
    "label_bulk, label_edge, label_corner = location_pauli_label(loc_array_bulk, loc_array_edge, loc_array_corner, Ny, Nx)\n",
    "for i in label_bulk:\n",
    "    key, subkey = split(key, 2)\n",
    "    p = jax.random.uniform(subkey, jnp.array([1]), float, 0 , 1)\n",
    "    if p>0.5:\n",
    "        pauli_array_bulk = pauli_array_bulk.at[label_bulk[i][:,0].astype(int), label_bulk[i][:,1].astype(int)].set(-pauli_array_bulk[label_bulk[i][:,0].astype(int), label_bulk[i][:,1].astype(int)]+4)\n",
    "for i in label_edge:\n",
    "    key, subkey = split(key, 2)\n",
    "    p = jax.random.uniform(subkey, jnp.array([1]), float, 0, 1)\n",
    "    if p > 0.5:\n",
    "        pauli_array_edge = pauli_array_edge.at[label_edge[i][:,0].astype(int), label_edge[i][:,1].astype(int)].set(-pauli_array_edge[label_edge[i][:,0].astype(int), label_edge[i][:,1].astype(int)]+4)\n",
    "for i in label_corner:\n",
    "    key, subkey = split(key, 2)\n",
    "    p = jax.random.uniform(subkey, jnp.array([1]), float, 0, 1)\n",
    "    if p > 0.5:\n",
    "        pauli_array_corner = pauli_array_corner.at[label_corner[i][:,0].astype(int), label_corner[i][:,1].astype(int)].set(-pauli_array_corner[label_corner[i][:,0].astype(int), label_corner[i][:,1].astype(int)]+4)\n",
    "\n",
    "# We group the location that each Hamiltonian term acts on according to how many x,y,z they have in each term\n",
    "xy_loc_bulk, yloc_bulk, zloc_bulk = local_element_indices_2d(5, pauli_array_bulk, loc_array_bulk)\n",
    "xy_loc_edge, yloc_edge, zloc_edge = local_element_indices_2d(4, pauli_array_edge, loc_array_edge)\n",
    "xy_loc_corner, yloc_corner, zloc_corner = local_element_indices_2d(3, pauli_array_corner, loc_array_corner)\n"
   ],
   "metadata": {
    "collapsed": false,
    "ExecuteTime": {
     "end_time": "2023-11-11T07:21:27.735019Z",
     "start_time": "2023-11-11T07:21:23.521879900Z"
    }
   }
  },
  {
   "cell_type": "code",
   "execution_count": 31,
   "outputs": [
    {
     "name": "stdout",
     "output_type": "stream",
     "text": [
      "(1, 4)\n",
      "(2, 3)\n",
      "(3, 2)\n"
     ]
    }
   ],
   "source": [
    "basis_count = 0\n",
    "diag_count = 0\n",
    "\n",
    "for i in xy_loc_bulk:\n",
    "    print(i)\n",
    "    if i[1] != 0:\n",
    "        basis_count += xy_loc_bulk[i].shape[0]\n",
    "    else:\n",
    "        diag_count = 1\n",
    "for i in xy_loc_edge:\n",
    "    if i[1] != 0:\n",
    "        basis_count += xy_loc_edge[i].shape[0]\n",
    "    else:\n",
    "        diag_count = 1\n",
    "for i in xy_loc_corner:\n",
    "    if i[1] != 0:\n",
    "        basis_count += xy_loc_corner[i].shape[0]\n",
    "    else:\n",
    "        diag_count = 1\n",
    "\n",
    "if (5, 0) in xy_loc_bulk:\n",
    "    del xy_loc_bulk[(5, 0)]\n",
    "if (4, 0) in xy_loc_edge:\n",
    "    del xy_loc_edge[(4, 0)]\n",
    "if (3, 0) in xy_loc_corner:\n",
    "    del xy_loc_corner[(3, 0)]\n"
   ],
   "metadata": {
    "collapsed": false,
    "ExecuteTime": {
     "end_time": "2023-11-11T07:21:27.828813300Z",
     "start_time": "2023-11-11T07:21:27.754499900Z"
    }
   }
  },
  {
   "cell_type": "code",
   "execution_count": 32,
   "outputs": [
    {
     "name": "stdout",
     "output_type": "stream",
     "text": [
      "{(0, 3): Array([[[0, 5],\n",
      "        [0, 4],\n",
      "        [1, 5]]], dtype=int32), (1, 2): Array([[[0, 0],\n",
      "        [1, 0]]], dtype=int32), (2, 1): Array([[[4, 5]]], dtype=int32)}\n"
     ]
    }
   ],
   "source": [
    "print(xy_loc_corner)"
   ],
   "metadata": {
    "collapsed": false,
    "ExecuteTime": {
     "end_time": "2023-11-11T07:21:29.643877300Z",
     "start_time": "2023-11-11T07:21:29.607357200Z"
    }
   }
  },
  {
   "cell_type": "code",
   "execution_count": 33,
   "outputs": [
    {
     "data": {
      "text/plain": "<function __main__.<lambda>(x)>"
     },
     "execution_count": 33,
     "metadata": {},
     "output_type": "execute_result"
    }
   ],
   "source": [
    "lambda x: 1\n"
   ],
   "metadata": {
    "collapsed": false,
    "ExecuteTime": {
     "end_time": "2023-11-11T08:20:50.739249800Z",
     "start_time": "2023-11-11T08:20:50.646987800Z"
    }
   }
  },
  {
   "cell_type": "code",
   "execution_count": 4,
   "outputs": [],
   "source": [
    "label_bulk = {}\n",
    "label_edge = {}\n",
    "label_corner = {}\n",
    "# yi, xi : the location to label how many operation is acted on\n",
    "# y , x : The location of the loc_array that we can use to access the location to label\n",
    "for yi in range (Ny):\n",
    "    for xi in range(Nx):\n",
    "        y = 0\n",
    "        tmp = jnp.array([])\n",
    "        for i in loc_array_bulk:\n",
    "            x = 0\n",
    "            for j in i:\n",
    "                if (j == jnp.array([yi, xi])).all():\n",
    "                    tmp = jnp.append(tmp, jnp.array([y, x]))\n",
    "                x += 1\n",
    "            y += 1\n",
    "        label_bulk[yi, xi] = tmp.reshape(-1, 2)\n",
    "for yi in range (Ny):\n",
    "    for xi in range(Nx):\n",
    "        y = 0\n",
    "        tmp = jnp.array([])\n",
    "        for i in loc_array_edge:\n",
    "            x = 0\n",
    "            for j in i:\n",
    "                if (j == jnp.array([yi, xi])).all():\n",
    "                    tmp = jnp.append(tmp, jnp.array([y, x]))\n",
    "                x += 1\n",
    "            y += 1\n",
    "        label_edge[yi, xi] = tmp.reshape(-1, 2)\n",
    "for yi in range (Ny):\n",
    "    for xi in range(Nx):\n",
    "        y = 0\n",
    "        tmp = jnp.array([])\n",
    "        for i in loc_array_corner:\n",
    "            x = 0\n",
    "            for j in i:\n",
    "                if (j == jnp.array([yi, xi])).all():\n",
    "                    tmp = jnp.append(tmp, jnp.array([y, x]))\n",
    "                x += 1\n",
    "            y += 1\n",
    "        label_corner[yi, xi] = tmp.reshape(-1, 2)"
   ],
   "metadata": {
    "collapsed": false,
    "ExecuteTime": {
     "end_time": "2023-12-12T09:16:45.341888500Z",
     "start_time": "2023-12-12T09:16:43.071465Z"
    }
   }
  },
  {
   "cell_type": "code",
   "execution_count": 7,
   "outputs": [
    {
     "name": "stdout",
     "output_type": "stream",
     "text": [
      "(0, 0) []\n",
      "(0, 1) [[0. 4.]]\n",
      "(0, 2) [[1. 4.]]\n",
      "(0, 3) []\n",
      "(1, 0) [[0. 3.]]\n",
      "(1, 1) [[0. 0.]\n",
      " [1. 3.]\n",
      " [2. 4.]]\n",
      "(1, 2) [[0. 1.]\n",
      " [1. 0.]\n",
      " [3. 4.]]\n",
      "(1, 3) [[1. 1.]]\n",
      "(2, 0) [[2. 3.]]\n",
      "(2, 1) [[0. 2.]\n",
      " [2. 0.]\n",
      " [3. 3.]]\n",
      "(2, 2) [[1. 2.]\n",
      " [2. 1.]\n",
      " [3. 0.]]\n",
      "(2, 3) [[3. 1.]]\n",
      "(3, 0) []\n",
      "(3, 1) [[2. 2.]]\n",
      "(3, 2) [[3. 2.]]\n",
      "(3, 3) []\n"
     ]
    }
   ],
   "source": [
    "for i in label_bulk:\n",
    "    print(i, label_bulk[i])"
   ],
   "metadata": {
    "collapsed": false,
    "ExecuteTime": {
     "end_time": "2023-12-12T09:18:22.073369300Z",
     "start_time": "2023-12-12T09:18:21.978468900Z"
    }
   }
  },
  {
   "cell_type": "code",
   "execution_count": 5,
   "outputs": [
    {
     "name": "stdout",
     "output_type": "stream",
     "text": [
      "(0, 0) [] [3 3] [1]\n",
      "(0, 1) [3] [1 3] [3]\n",
      "(0, 2) [3] [3 1] [3]\n",
      "(0, 3) [] [3 3] [1]\n",
      "(1, 0) [3] [1 3] [3]\n",
      "(1, 1) [1 3 3] [3 3] []\n",
      "(1, 2) [3 1 3] [3 3] []\n",
      "(1, 3) [3] [1 3] [3]\n",
      "(2, 0) [3] [3 1] [3]\n",
      "(2, 1) [3 1 3] [3 3] []\n",
      "(2, 2) [3 3 1] [3 3] []\n",
      "(2, 3) [3] [3 1] [3]\n",
      "(3, 0) [] [3 3] [1]\n",
      "(3, 1) [3] [1 3] [3]\n",
      "(3, 2) [3] [3 1] [3]\n",
      "(3, 3) [] [3 3] [1]\n"
     ]
    }
   ],
   "source": [
    "for i in label_bulk:\n",
    "    print(i , pauli_array_bulk[label_bulk[i][:,0].astype(int), label_bulk[i][:,1].astype(int)], pauli_array_edge[label_edge[i][:, 0].astype(int), label_edge[i][:, 1].astype(int)], pauli_array_corner[label_corner[i][:, 0].astype(int), label_corner[i][:, 1].astype(int)])"
   ],
   "metadata": {
    "collapsed": false,
    "ExecuteTime": {
     "end_time": "2023-12-12T09:16:51.941522900Z",
     "start_time": "2023-12-12T09:16:49.240743100Z"
    }
   }
  },
  {
   "cell_type": "code",
   "execution_count": 66,
   "outputs": [],
   "source": [
    "for i in label_bulk:\n",
    "    if (sum(i)%2==1):\n",
    "        pauli_array_bulk = pauli_array_bulk.at[\n",
    "            label_bulk[i][:, 0].astype(int), label_bulk[i][:, 1].astype(int)].set(\n",
    "            -pauli_array_bulk[label_bulk[i][:, 0].astype(int), label_bulk[i][:, 1].astype(int)] + 4)\n",
    "        pauli_array_edge = pauli_array_edge.at[\n",
    "            label_edge[i][:, 0].astype(int), label_edge[i][:, 1].astype(int)].set(\n",
    "            -pauli_array_edge[label_edge[i][:, 0].astype(int), label_edge[i][:, 1].astype(int)] + 4)\n",
    "        pauli_array_corner = pauli_array_corner.at[\n",
    "            label_corner[i][:, 0].astype(int), label_corner[i][:, 1].astype(int)].set(\n",
    "            -pauli_array_corner[label_corner[i][:, 0].astype(int), label_corner[i][:, 1].astype(int)] + 4)"
   ],
   "metadata": {
    "collapsed": false,
    "ExecuteTime": {
     "end_time": "2023-11-15T18:12:13.819376300Z",
     "start_time": "2023-11-15T18:12:13.596687100Z"
    }
   }
  },
  {
   "cell_type": "code",
   "execution_count": 45,
   "outputs": [
    {
     "name": "stdout",
     "output_type": "stream",
     "text": [
      "(0, 0) [] [3 3] [1]\n",
      "(0, 1) [1] [3 1] [1]\n",
      "(0, 2) [3] [3 1] [3]\n",
      "(0, 3) [] [1 1] [3]\n",
      "(1, 0) [1] [3 1] [1]\n",
      "(1, 1) [1 3 3] [3 3] []\n",
      "(1, 2) [1 3 1] [1 1] []\n",
      "(1, 3) [3] [1 3] [3]\n",
      "(2, 0) [3] [3 1] [3]\n",
      "(2, 1) [1 3 1] [1 1] []\n",
      "(2, 2) [3 3 1] [3 3] []\n",
      "(2, 3) [1] [1 3] [1]\n",
      "(3, 0) [] [1 1] [3]\n",
      "(3, 1) [3] [1 3] [3]\n",
      "(3, 2) [1] [1 3] [1]\n",
      "(3, 3) [] [3 3] [1]\n"
     ]
    }
   ],
   "source": [
    "for i in label_bulk:\n",
    "    print(i , pauli_array_bulk[label_bulk[i][:,0].astype(int), label_bulk[i][:,1].astype(int)], pauli_array_edge[label_edge[i][:, 0].astype(int), label_edge[i][:, 1].astype(int)], pauli_array_corner[label_corner[i][:, 0].astype(int), label_corner[i][:, 1].astype(int)])"
   ],
   "metadata": {
    "collapsed": false,
    "ExecuteTime": {
     "end_time": "2023-11-15T17:48:53.841262500Z",
     "start_time": "2023-11-15T17:48:53.533167300Z"
    }
   }
  },
  {
   "cell_type": "code",
   "execution_count": 48,
   "outputs": [
    {
     "data": {
      "text/plain": "Array([[1, 1, 1],\n       [3, 3, 3],\n       [3, 3, 3],\n       [1, 1, 1]], dtype=int32)"
     },
     "execution_count": 48,
     "metadata": {},
     "output_type": "execute_result"
    }
   ],
   "source": [
    "pauli_array_corner"
   ],
   "metadata": {
    "collapsed": false,
    "ExecuteTime": {
     "end_time": "2023-11-15T17:52:30.174879500Z",
     "start_time": "2023-11-15T17:52:30.109759600Z"
    }
   }
  },
  {
   "cell_type": "code",
   "execution_count": 11,
   "outputs": [
    {
     "name": "stdout",
     "output_type": "stream",
     "text": [
      "[[1 3 3 3 3]\n",
      " [1 3 3 3 3]\n",
      " [1 3 3 3 3]\n",
      " [1 3 3 3 3]]\n",
      "zloc_bulk: {(4, 1): Array([[[1, 2],\n",
      "        [2, 1],\n",
      "        [1, 0],\n",
      "        [0, 1]],\n",
      "\n",
      "       [[1, 3],\n",
      "        [2, 2],\n",
      "        [1, 1],\n",
      "        [0, 2]],\n",
      "\n",
      "       [[2, 2],\n",
      "        [3, 1],\n",
      "        [2, 0],\n",
      "        [1, 1]],\n",
      "\n",
      "       [[2, 3],\n",
      "        [3, 2],\n",
      "        [2, 1],\n",
      "        [1, 2]]], dtype=int32)}\n"
     ]
    }
   ],
   "source": [
    "def off_diag_count(xy_loc_bulk, xy_loc_edge, xy_loc_corner):\n",
    "    off_diag_bulk_count, off_diag_edge_count, off_diag_corner_count = 0, 0, 0\n",
    "    for i in xy_loc_bulk:\n",
    "        if i[1] != 0:\n",
    "            off_diag_bulk_count += xy_loc_bulk[i].shape[0]\n",
    "        else:\n",
    "            diag_bulk_count = 1\n",
    "    for i in xy_loc_edge:\n",
    "        if i[1] != 0:\n",
    "            off_diag_edge_count += xy_loc_edge[i].shape[0]\n",
    "        else:\n",
    "            diag_edge_count = 1\n",
    "    for i in xy_loc_corner:\n",
    "        if i[1] != 0:\n",
    "            off_diag_corner_count += xy_loc_corner[i].shape[0]\n",
    "        else:\n",
    "            diag_corner_count = 1\n",
    "    return off_diag_bulk_count, off_diag_edge_count, off_diag_corner_count\n",
    "print(pauli_array_bulk)\n",
    "xy_loc_bulk, yloc_bulk, zloc_bulk = local_element_indices_2d(5, pauli_array_bulk, loc_array_bulk)\n",
    "xy_loc_edge, yloc_edge, zloc_edge = local_element_indices_2d(4, pauli_array_edge, loc_array_edge)\n",
    "xy_loc_corner, yloc_corner, zloc_corner = local_element_indices_2d(3, pauli_array_corner, loc_array_corner)\n",
    "\n",
    "print(\"zloc_bulk:\", zloc_bulk)\n",
    "off_diag_bulk_count, off_diag_edge_count, off_diag_corner_count= off_diag_count(xy_loc_bulk, xy_loc_edge, xy_loc_corner)\n",
    "zloc_bulk_diag, zloc_edge_diag, zloc_corner_diag = jnp.array([]), jnp.array([]), jnp.array([])\n",
    "coe_bulk_diag, coe_edge_diag, coe_corner_diag = jnp.array([]), jnp.array([]), jnp.array([])\n",
    "\n",
    "if (5, 0) in xy_loc_bulk:\n",
    "    print(\"yes\")\n",
    "    if zloc_bulk[(5, 0)].size!=0:\n",
    "        print(\"yes\")\n",
    "        zloc_bulk_diag = zloc_bulk[(5, 0)]     #label the diagonal term by zloc_bulk_diag\n",
    "        coe_bulk_diag = -jnp.ones(zloc_bulk_diag.shape[0]) #Here is the coefficient for the diagonal term. We can change it later if we want\n",
    "    del xy_loc_bulk[(5, 0)]\n",
    "    del yloc_bulk[(5, 0)]\n",
    "    del zloc_bulk[(5, 0)]\n",
    "if (4, 0) in xy_loc_edge:\n",
    "    if z_loc_edge[(4, 0)].size!=0:\n",
    "        zloc_edge_diag = zloc_edge[(4, 0)]\n",
    "        coe_edge_diag = -jnp.ones(zloc_edge_diag.shape[0])\n",
    "    del xy_loc_edge[(4, 0)]\n",
    "    del yloc_edge[(4, 0)]\n",
    "    del zloc_edge[(4, 0)]\n",
    "if (3, 0) in xy_loc_corner:\n",
    "    if xy_loc_corner[(3, 0)].size!=0:\n",
    "        zloc_corner_diag = zloc_corner[(3, 0)]\n",
    "        coe_corner_diag = -jnp.ones(zloc_corner_diag.shape[0])\n",
    "    del xy_loc_corner[(3, 0)]\n",
    "    del yloc_corner[(3, 0)]\n",
    "    del zloc_corner[(3, 0)]\n"
   ],
   "metadata": {
    "collapsed": false,
    "ExecuteTime": {
     "end_time": "2023-12-12T09:45:18.355636400Z",
     "start_time": "2023-12-12T09:45:14.819167400Z"
    }
   }
  },
  {
   "cell_type": "code",
   "execution_count": 79,
   "outputs": [
    {
     "name": "stdout",
     "output_type": "stream",
     "text": [
      "[[[1 2]\n",
      "  [1 3]\n",
      "  [2 2]\n",
      "  [1 1]\n",
      "  [0 2]]\n",
      "\n",
      " [[2 1]\n",
      "  [2 2]\n",
      "  [3 1]\n",
      "  [2 0]\n",
      "  [1 1]]]\n"
     ]
    }
   ],
   "source": [
    "print(zloc_bulk_diag)"
   ],
   "metadata": {
    "collapsed": false,
    "ExecuteTime": {
     "end_time": "2023-11-15T18:15:59.585546800Z",
     "start_time": "2023-11-15T18:15:59.513528100Z"
    }
   }
  },
  {
   "cell_type": "code",
   "execution_count": 49,
   "outputs": [],
   "source": [
    "@jax.jit\n",
    "def diag_coe(samples, zloc_bulk_diag, zloc_edge_diag, zloc_corner_diag, coe_bulk_diag, coe_edge_diag, coe_corner_diag):\n",
    "    def scan_z(samples, z_array):\n",
    "        return ((-1) ** samples[z_array[:, 0], z_array[:, 1]]).prod()\n",
    "    vmap_scan_z = vmap(scan_z, (None, 0))\n",
    "    coe_bulk = (vmap_scan_z(samples, zloc_bulk_diag)*coe_bulk_diag).sum() if zloc_bulk_diag.size!=0 else 0\n",
    "    coe_edge = (vmap_scan_z(samples, zloc_edge_diag)*coe_edge_diag).sum() if zloc_edge_diag.size!=0 else 0\n",
    "    coe_corner = (vmap_scan_z(samples, zloc_corner_diag)*coe_corner_diag).sum() if zloc_corner_diag.size!=0 else 0\n",
    "    return coe_bulk+coe_edge+coe_corner"
   ],
   "metadata": {
    "collapsed": false,
    "ExecuteTime": {
     "end_time": "2023-11-15T18:03:47.674540800Z",
     "start_time": "2023-11-15T18:03:47.625039300Z"
    }
   }
  },
  {
   "cell_type": "code",
   "execution_count": 14,
   "outputs": [
    {
     "data": {
      "text/plain": "Array([[1, 1, 1, 1, 1],\n       [1, 1, 1, 1, 1],\n       [1, 1, 1, 1, 3],\n       [1, 1, 1, 1, 3],\n       [1, 1, 1, 3, 1],\n       [1, 1, 1, 3, 1],\n       [1, 1, 1, 3, 3],\n       [1, 1, 1, 3, 3],\n       [1, 1, 3, 1, 1],\n       [1, 1, 3, 1, 1],\n       [1, 1, 3, 1, 3],\n       [1, 1, 3, 1, 3],\n       [1, 1, 3, 3, 1],\n       [1, 1, 3, 3, 1],\n       [1, 1, 3, 3, 3],\n       [1, 1, 3, 3, 3],\n       [1, 3, 1, 1, 1],\n       [1, 3, 1, 1, 1],\n       [1, 3, 1, 1, 3],\n       [1, 3, 1, 1, 3],\n       [1, 3, 1, 3, 1],\n       [1, 3, 1, 3, 1],\n       [1, 3, 1, 3, 3],\n       [1, 3, 1, 3, 3],\n       [1, 3, 3, 1, 1],\n       [1, 3, 3, 1, 1],\n       [1, 3, 3, 1, 3],\n       [1, 3, 3, 1, 3],\n       [1, 3, 3, 3, 1],\n       [1, 3, 3, 3, 1],\n       [1, 3, 3, 3, 3],\n       [1, 3, 3, 3, 3],\n       [3, 1, 1, 1, 1],\n       [3, 1, 1, 1, 1],\n       [3, 1, 1, 1, 3],\n       [3, 1, 1, 1, 3],\n       [3, 1, 1, 3, 1],\n       [3, 1, 1, 3, 1],\n       [3, 1, 1, 3, 3],\n       [3, 1, 1, 3, 3],\n       [3, 1, 3, 1, 1],\n       [3, 1, 3, 1, 1],\n       [3, 1, 3, 1, 3],\n       [3, 1, 3, 1, 3],\n       [3, 1, 3, 3, 1],\n       [3, 1, 3, 3, 1],\n       [3, 1, 3, 3, 3],\n       [3, 1, 3, 3, 3],\n       [3, 3, 1, 1, 1],\n       [3, 3, 1, 1, 1],\n       [3, 3, 1, 1, 3],\n       [3, 3, 1, 1, 3],\n       [3, 3, 1, 3, 1],\n       [3, 3, 1, 3, 1],\n       [3, 3, 1, 3, 3],\n       [3, 3, 1, 3, 3],\n       [3, 3, 3, 1, 1],\n       [3, 3, 3, 1, 1],\n       [3, 3, 3, 1, 3],\n       [3, 3, 3, 1, 3],\n       [3, 3, 3, 3, 1],\n       [3, 3, 3, 3, 1],\n       [3, 3, 3, 3, 3],\n       [3, 3, 3, 3, 3]], dtype=int32)"
     },
     "execution_count": 14,
     "metadata": {},
     "output_type": "execute_result"
    }
   ],
   "source": [
    "import itertools\n",
    "import jax.numpy as jnp\n",
    "\n",
    "# Define the two sets\n",
    "set1 = [1, 1, 1, 1, 1]\n",
    "set2 = [3, 3, 3, 3, 3]\n",
    "\n",
    "# Generate all combinations\n",
    "combinations = list(itertools.product(*zip(set1, set2)))\n",
    "\n",
    "# Convert to JAX array\n",
    "jax_combinations = jnp.array(combinations)\n",
    "\n",
    "pauljnp.repeat(jax_combinations, 2, axis=0)\n"
   ],
   "metadata": {
    "collapsed": false,
    "ExecuteTime": {
     "end_time": "2023-12-12T11:00:28.861348300Z",
     "start_time": "2023-12-12T11:00:28.759948Z"
    }
   }
  },
  {
   "cell_type": "code",
   "execution_count": 15,
   "outputs": [],
   "source": [
    "import jax.numpy as jnp\n",
    "\n",
    "def calculate_powers(array, x, y):\n",
    "    # Function to calculate x^n * y^m for each element\n",
    "    def calculate_element_power(element):\n",
    "        count_1 = jnp.sum(element == 1)\n",
    "        count_3 = jnp.sum(element == 3)\n",
    "        return x ** count_1 * y ** count_3\n",
    "\n",
    "    # Apply the calculation to each element in the array\n",
    "    return jnp.apply_along_axis(calculate_element_power, 1, array)\n",
    "\n",
    "# Define x and y\n",
    "x = 0.5# Assign a value to x\n",
    "y = 0.2 # Assign a value to y\n",
    "\n",
    "# Apply the function to your arrays\n",
    "pauli_array_bulk_values = calculate_powers(pauli_array_bulk, x, y)\n"
   ],
   "metadata": {
    "collapsed": false,
    "ExecuteTime": {
     "end_time": "2023-12-12T11:06:27.222455900Z",
     "start_time": "2023-12-12T11:06:27.145960100Z"
    }
   }
  },
  {
   "cell_type": "code",
   "execution_count": 18,
   "outputs": [
    {
     "name": "stdout",
     "output_type": "stream",
     "text": [
      "[[1 3 3 3 3]\n",
      " [1 3 3 3 3]\n",
      " [1 3 3 3 3]\n",
      " [1 3 3 3 3]]\n"
     ]
    },
    {
     "data": {
      "text/plain": "Array([0.0008, 0.0008, 0.0008, 0.0008], dtype=float32)"
     },
     "execution_count": 18,
     "metadata": {},
     "output_type": "execute_result"
    }
   ],
   "source": [
    "print(pauli_array_bulk)\n",
    "pauli_array_bulk_values"
   ],
   "metadata": {
    "collapsed": false,
    "ExecuteTime": {
     "end_time": "2023-12-12T11:06:48.029534400Z",
     "start_time": "2023-12-12T11:06:47.969636900Z"
    }
   }
  },
  {
   "cell_type": "code",
   "execution_count": 88,
   "outputs": [],
   "source": [
    "bulk = pauli_array_bulk\n",
    "edge = pauli_array_edge\n",
    "corner = pauli_array_corner\n",
    "key = PRNGKey(0)\n",
    "for i in label_bulk:\n",
    "    key, subkey = split(key, 2)\n",
    "    p = jax.random.uniform(subkey, jnp.array([1]), float, 0 , 1)\n",
    "    if p>0.5:\n",
    "        pauli_array_bulk = pauli_array_bulk.at[label_bulk[i][:,0].astype(int), label_bulk[i][:,1].astype(int)].set(-pauli_array_bulk[label_bulk[i][:,0].astype(int), label_bulk[i][:,1].astype(int)]+4)\n",
    "        pauli_array_edge = pauli_array_edge.at[label_edge[i][:,0].astype(int), label_edge[i][:,1].astype(int)].set(-pauli_array_edge[label_edge[i][:,0].astype(int), label_edge[i][:,1].astype(int)]+4)\n",
    "        pauli_array_corner = pauli_array_corner.at[label_corner[i][:,0].astype(int), label_corner[i][:,1].astype(int)].set(-pauli_array_corner[label_corner[i][:,0].astype(int), label_corner[i][:,1].astype(int)]+4)"
   ],
   "metadata": {
    "collapsed": false,
    "ExecuteTime": {
     "end_time": "2023-11-12T08:05:37.609266400Z",
     "start_time": "2023-11-12T08:05:37.357950400Z"
    }
   }
  },
  {
   "cell_type": "code",
   "execution_count": 89,
   "outputs": [
    {
     "data": {
      "text/plain": "(Array([[1, 3, 3, 3, 3],\n        [1, 3, 3, 3, 3],\n        [1, 3, 3, 3, 3],\n        [1, 3, 3, 3, 3]], dtype=int32),\n Array([[3, 1, 3, 3, 3],\n        [3, 3, 3, 1, 1],\n        [1, 3, 3, 3, 1],\n        [1, 1, 1, 3, 1]], dtype=int32))"
     },
     "execution_count": 89,
     "metadata": {},
     "output_type": "execute_result"
    }
   ],
   "source": [
    "bulk, pauli_array_bulk"
   ],
   "metadata": {
    "collapsed": false,
    "ExecuteTime": {
     "end_time": "2023-11-12T08:05:41.937382900Z",
     "start_time": "2023-11-12T08:05:41.934367500Z"
    }
   }
  },
  {
   "cell_type": "code",
   "execution_count": 90,
   "outputs": [
    {
     "data": {
      "text/plain": "(Array([[1, 3, 3, 3],\n        [1, 3, 3, 3],\n        [1, 3, 3, 3],\n        [1, 3, 3, 3],\n        [1, 3, 3, 3],\n        [1, 3, 3, 3],\n        [1, 3, 3, 3],\n        [1, 3, 3, 3]], dtype=int32),\n Array([[1, 1, 3, 3],\n        [1, 1, 1, 1],\n        [1, 3, 1, 3],\n        [3, 3, 1, 3],\n        [1, 1, 3, 1],\n        [1, 3, 1, 1],\n        [3, 1, 3, 1],\n        [3, 3, 3, 1]], dtype=int32))"
     },
     "execution_count": 90,
     "metadata": {},
     "output_type": "execute_result"
    }
   ],
   "source": [
    "edge, pauli_array_edge"
   ],
   "metadata": {
    "collapsed": false,
    "ExecuteTime": {
     "end_time": "2023-11-12T08:05:46.363365200Z",
     "start_time": "2023-11-12T08:05:46.302950400Z"
    }
   }
  },
  {
   "cell_type": "code",
   "execution_count": 91,
   "outputs": [
    {
     "data": {
      "text/plain": "(Array([[1, 3, 3],\n        [1, 3, 3],\n        [1, 3, 3],\n        [1, 3, 3]], dtype=int32),\n Array([[1, 3, 3],\n        [3, 1, 3],\n        [3, 3, 3],\n        [3, 1, 1]], dtype=int32))"
     },
     "execution_count": 91,
     "metadata": {},
     "output_type": "execute_result"
    }
   ],
   "source": [
    "corner, pauli_array_corner"
   ],
   "metadata": {
    "collapsed": false,
    "ExecuteTime": {
     "end_time": "2023-11-12T08:05:50.422256900Z",
     "start_time": "2023-11-12T08:05:50.413104Z"
    }
   }
  },
  {
   "cell_type": "code",
   "execution_count": null,
   "outputs": [],
   "source": [],
   "metadata": {
    "collapsed": false
   }
  },
  {
   "cell_type": "code",
   "execution_count": 2,
   "outputs": [],
   "source": [
    "import numpy as np\n",
    "decay_meanE = np.load(\"meanE_L6cmi_pattern_decay.npy\")\n",
    "no_decay_meanE = np.load(\"meanE_L6cmi_pattern_no_decay.npy\")\n",
    "random_meanE_seed1 = np.load(\"meanE_L6cmi_pattern_random_seed1.npy\")\n",
    "random_meanE_seed2 = np.load(\"meanE_L6cmi_pattern_random_seed2.npy\")\n",
    "random_meanE_seed3 = np.load(\"meanE_L6cmi_pattern_random_seed3.npy\")\n",
    "decay_varE = np.load(\"varE_L6cmi_pattern_decay.npy\")\n",
    "no_decay_varE = np.load(\"varE_L6cmi_pattern_no_decay.npy\")\n",
    "random_varE_seed1 = np.load(\"varE_L6cmi_pattern_random_seed1.npy\")\n",
    "random_varE_seed2 = np.load(\"varE_L6cmi_pattern_random_seed2.npy\")\n",
    "random_varE_seed3 = np.load(\"varE_L6cmi_pattern_random_seed3.npy\")"
   ],
   "metadata": {
    "collapsed": false,
    "ExecuteTime": {
     "end_time": "2023-11-12T09:43:05.639765600Z",
     "start_time": "2023-11-12T09:43:05.534238500Z"
    }
   }
  },
  {
   "cell_type": "code",
   "execution_count": 8,
   "outputs": [
    {
     "name": "stderr",
     "output_type": "stream",
     "text": [
      "C:\\Users\\Administrator\\anaconda3\\lib\\site-packages\\matplotlib\\cbook\\__init__.py:1335: ComplexWarning: Casting complex values to real discards the imaginary part\n",
      "  return np.asarray(x, float)\n"
     ]
    },
    {
     "data": {
      "text/plain": "<Figure size 640x480 with 1 Axes>",
      "image/png": "[encoded data removed]"
     },
     "metadata": {},
     "output_type": "display_data"
    }
   ],
   "source": [
    "import matplotlib.pyplot as plt\n",
    "plt.plot(decay_meanE, label=\"decay\")\n",
    "plt.plot(no_decay_meanE, label=\"no_decay\")\n",
    "plt.plot(random_meanE_seed1, label=\"random_seed1\")\n",
    "plt.plot(random_meanE_seed2, label=\"random_seed2\")\n",
    "plt.plot(random_meanE_seed3, label=\"random_seed3\")\n",
    "plt.ylim(-36, -15)\n",
    "plt.legend()\n",
    "plt.xlabel(\"steps\")\n",
    "plt.ylabel(\"meanE\")\n",
    "plt.title(\"L=6_graph_state\")\n",
    "plt.show()"
   ],
   "metadata": {
    "collapsed": false,
    "ExecuteTime": {
     "end_time": "2023-11-12T09:46:01.315550300Z",
     "start_time": "2023-11-12T09:46:01.100533800Z"
    }
   }
  },
  {
   "cell_type": "code",
   "execution_count": 80,
   "outputs": [
    {
     "name": "stdout",
     "output_type": "stream",
     "text": [
      "1\n",
      "2\n",
      "3\n"
     ]
    }
   ],
   "source": [
    "for i in (1,2,3):\n",
    "    print(i)"
   ],
   "metadata": {
    "collapsed": false,
    "ExecuteTime": {
     "end_time": "2023-11-16T18:04:12.113327600Z",
     "start_time": "2023-11-16T18:04:12.101397100Z"
    }
   }
  },
  {
   "cell_type": "code",
   "execution_count": 83,
   "outputs": [
    {
     "data": {
      "text/plain": "<function optax._src.schedule.piecewise_constant_schedule.<locals>.schedule(count)>"
     },
     "execution_count": 83,
     "metadata": {},
     "output_type": "execute_result"
    }
   ],
   "source": [
    "import optax\n",
    "optax.piecewise_constant_schedule(0.1, boundaries_and_scales=None)"
   ],
   "metadata": {
    "collapsed": false,
    "ExecuteTime": {
     "end_time": "2023-11-16T18:10:29.536998200Z",
     "start_time": "2023-11-16T18:10:29.522876Z"
    }
   }
  },
  {
   "cell_type": "code",
   "execution_count": 84,
   "outputs": [],
   "source": [
    "steps = [1000, 2000, 3000]  # Steps at which to change the learning rate\n",
    "values = [0.01, 0.001, 0.0001]  # Corresponding learning rates\n",
    "\n",
    "# Step 3: Create a step schedule\n",
    "lr_schedule = optax.piecewise_constant_schedule(init_value=0.1,  # Initial learning rate\n",
    "                                                boundaries_and_scales={steps[i]: values[i] for i in range(len(steps))})"
   ],
   "metadata": {
    "collapsed": false,
    "ExecuteTime": {
     "end_time": "2023-11-16T18:12:58.796062900Z",
     "start_time": "2023-11-16T18:12:58.761142700Z"
    }
   }
  },
  {
   "cell_type": "code",
   "execution_count": 86,
   "outputs": [
    {
     "data": {
      "text/plain": "Array(0.1, dtype=float32, weak_type=True)"
     },
     "execution_count": 86,
     "metadata": {},
     "output_type": "execute_result"
    }
   ],
   "source": [
    "lr_schedule(100)"
   ],
   "metadata": {
    "collapsed": false,
    "ExecuteTime": {
     "end_time": "2023-11-16T18:13:05.850424700Z",
     "start_time": "2023-11-16T18:13:05.826054300Z"
    }
   }
  },
  {
   "cell_type": "code",
   "execution_count": null,
   "outputs": [],
   "source": [],
   "metadata": {
    "collapsed": false
   }
  }
 ],
 "metadata": {
  "kernelspec": {
   "display_name": "Python 3",
   "language": "python",
   "name": "python3"
  },
  "language_info": {
   "codemirror_mode": {
    "name": "ipython",
    "version": 2
   },
   "file_extension": ".py",
   "mimetype": "text/x-python",
   "name": "python",
   "nbconvert_exporter": "python",
   "pygments_lexer": "ipython2",
   "version": "2.7.6"
  }
 },
 "nbformat": 4,
 "nbformat_minor": 0
}
