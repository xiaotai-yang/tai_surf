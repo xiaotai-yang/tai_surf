{
 "cells": [
  {
   "cell_type": "code",
   "execution_count": 20,
   "metadata": {
    "collapsed": true,
    "ExecuteTime": {
     "end_time": "2023-12-12T11:37:50.099835600Z",
     "start_time": "2023-12-12T11:37:50.076171200Z"
    }
   },
   "outputs": [],
   "source": [
    "import netket as nk\n",
    "import jax\n",
    "import jax.numpy as jnp\n",
    "from jax import grad, jit, vmap\n",
    "import jax.random as random\n",
    "from jax.random import PRNGKey, split, categorical\n",
    "import jax.lax as lax\n",
    "from jax.lax import scan\n",
    "import jax.nn as nn\n",
    "import time\n",
    "from tqdm import tqdm\n",
    "from functools import partial\n",
    "import time\n",
    "from math import ceil\n",
    "import itertools\n",
    "from RNNfunction import *\n",
    "import numpy as np\n",
    "\n",
    "def local_element_indices_2d(num_body, pauli_array, loc_array):\n",
    "    '''\n",
    "\n",
    "    Args:\n",
    "        num_body: The length of each Pauli string.\n",
    "        pauli_array: The corresponding Pauli string of the Hamiltonian term.\n",
    "        Ex: [[3,1,1,1,1],....[3,1,1,1,1]]\n",
    "        loc_array: The location that the Hamiltonian term acts on.\n",
    "        Ex: [[1,1],[1, 2], [2, 1], [1, 0], [0 ,1]]....[[Ny-2,Nx-2], [Ny-2, Nx-1], [Ny-1, Nx-2], [Ny-2, Nx-3], [Ny-3, Nx-2]]\n",
    "\n",
    "    Returns:\n",
    "        xy_loc_arrays, yloc_arrays, zloc_arrays\n",
    "        They are all dictionarys that: [pauli_z terms, pauli_x terms]: The location that the Hamiltonian term acts on.\n",
    "        For example:\n",
    "        zloc_bulk: {(4, 1): Array([[[1, 2], [2, 1], [1, 0], [0, 1]],...\n",
    "        [[2, 3], [3, 2], [2, 1], [1, 2]]]}\n",
    "     '''\n",
    "    if pauli_array.shape[-1] != num_body:\n",
    "        raise ValueError(f\"Array has incorrect body of interactions {pauli_array.shape[-1]}. Expected body of interactions is {num_body}.\")\n",
    "\n",
    "    #Count the number of pauli_Z and pauli_X for each term in the Hamiltonian\n",
    "    count_3s = jnp.sum(pauli_array == 3, axis = 1)\n",
    "    count_1s = jnp.sum(pauli_array == 1, axis = 1)\n",
    "\n",
    "    pauli_array_xz = {}\n",
    "    xloc_arrays = {}\n",
    "    zloc_arrays = {}\n",
    "    yloc_arrays = {}\n",
    "    xy_loc_arrays = {}\n",
    "\n",
    "    for i in range(num_body+1):    #z_number\n",
    "        for j in range (num_body+1-i):  #x_number\n",
    "            mask = ((count_3s == i)&(count_1s == j))  #mask for the interaction with i pauli_Z and j pauli_X\n",
    "            pauli_array_xz[i, j] = pauli_array[mask]\n",
    "\n",
    "            mask_x = (pauli_array_xz[i, j] == 1)\n",
    "            mask_y = (pauli_array_xz[i, j] == 2)\n",
    "            mask_z = (pauli_array_xz[i, j] == 3)\n",
    "\n",
    "            if mask_x.sum() != 0:\n",
    "                xloc_arrays[i, j] = loc_array[mask][mask_x].reshape(-1, j, 2)\n",
    "            elif mask_y.sum() != 0 or mask_z.sum() !=0:\n",
    "                if mask_y.sum()!=0:\n",
    "                    xloc_arrays[i, j] = jnp.array([[]]).reshape(pauli_array_xz[i ,j].shape[0], 0, 2).astype(int)\n",
    "                else:\n",
    "                    xloc_arrays[i, j] = jnp.array([[]]).reshape(pauli_array_xz[i, j].shape[0], 0, 2).astype(int)\n",
    "\n",
    "            if mask_y.sum() !=0:\n",
    "                yloc_arrays[i, j] = loc_array[mask][mask_y].reshape(-1, num_body-i-j, 2).astype(int)\n",
    "            elif mask_x.sum() != 0 or mask_z.sum() !=0:\n",
    "                if mask_x.sum()!=0:\n",
    "                    yloc_arrays[i, j] = jnp.array([[]]).reshape(pauli_array_xz[i, j].shape[0], 0, 2).astype(int)\n",
    "                else:\n",
    "                    yloc_arrays[i, j] = jnp.array([[]]).reshape(pauli_array_xz[i, j].shape[0], 0, 2).astype(int)\n",
    "\n",
    "            if mask_z.sum()!=0:\n",
    "                zloc_arrays[i, j] = loc_array[mask][mask_z].reshape(-1, i, 2).astype(int)\n",
    "            elif mask_x.sum() != 0 or mask_y.sum() !=0:\n",
    "                if mask_y.sum()!=0:\n",
    "                    zloc_arrays[i, j] = jnp.array([[]]).reshape(pauli_array_xz[i, j].shape[0], 0, 2).astype(int)\n",
    "                else:\n",
    "                    zloc_arrays[i, j] = jnp.array([[]]).reshape(pauli_array_xz[i, j].shape[0], 0, 2).astype(int)\n",
    "\n",
    "    for ind in (xloc_arrays):\n",
    "        xy_loc_arrays[ind] = jnp.concatenate((xloc_arrays[ind], yloc_arrays[ind]), axis=1).astype(int)\n",
    "    return  xy_loc_arrays, yloc_arrays, zloc_arrays\n",
    "\n",
    "@jax.jit\n",
    "def total_samples_2d(sample, xyloc_arrays):\n",
    "    def single_samples_2d(sample, xy_loc_array_element):\n",
    "        return sample.at[xy_loc_array_element[:, 0], xy_loc_array_element[:, 1]].set((sample[xy_loc_array_element[:, 0], xy_loc_array_element[:, 1]] + 1) % 2)\n",
    "    results = []\n",
    "    vmap_single_samples_2d = vmap(single_samples_2d, (None, 0))\n",
    "    for i in xyloc_arrays:\n",
    "        xy_loc_arrays_elements = xyloc_arrays[i]\n",
    "        tmp = vmap_single_samples_2d(sample, xy_loc_arrays_elements)\n",
    "        results.append(tmp)\n",
    "    # Concatenate all results along axis=0\n",
    "    concatenated_result = jnp.concatenate(results, axis=0)\n",
    "    return concatenated_result\n",
    "\n",
    "@jax.jit\n",
    "def new_coe_2d(sample, coe_array_off_diag, yloc, zloc):\n",
    "    def ycoe(single_sample, yloc_arrays_element):\n",
    "        return ((0-1j)**single_sample[yloc_arrays_element[:,0],yloc_arrays_element[:,1]]).prod()\n",
    "    def zcoe(single_sample, zloc_arrays_element):\n",
    "        return ((-1+0j)**single_sample[zloc_arrays_element[:,0], zloc_arrays_element[:,1]]).prod()\n",
    "\n",
    "    tmp_y = []\n",
    "    tmp_z = []\n",
    "    vmap_ycoe = vmap(ycoe, (None, 0))\n",
    "    vmap_zcoe = vmap(zcoe, (None, 0))\n",
    "\n",
    "    for i in yloc:\n",
    "        tmp_y.append(lax.cond(yloc[i].shape[1] != 0, lambda: vmap_ycoe(sample, yloc[i]), lambda: jnp.repeat(jnp.array([1. + 0j]), yloc[i].shape[0])))\n",
    "    for i in zloc:\n",
    "        tmp_z.append(lax.cond(zloc[i].shape[1] != 0, lambda: vmap_zcoe(sample, zloc[i]), lambda: jnp.repeat(jnp.array([1. + 0j]), zloc[i].shape[0])))\n",
    "    coe_tmp_y = jnp.concatenate(tmp_y, axis = 0)\n",
    "    coe_tmp_z = jnp.concatenate(tmp_z, axis = 0)\n",
    "\n",
    "    return coe_tmp_y * coe_tmp_z * coe_array_off_diag\n",
    "@jax.jit\n",
    "def diag_coe(samples, zloc_bulk_diag, zloc_edge_diag, zloc_corner_diag, coe_bulk_diag, coe_edge_diag, coe_corner_diag):\n",
    "    def scan_z(samples, z_array):\n",
    "        return ((-1) ** samples[z_array[:, 0], z_array[:, 1]]).prod()\n",
    "    vmap_scan_z = vmap(scan_z, (None, 0))\n",
    "    coe_bulk = (vmap_scan_z(samples, zloc_bulk_diag)*coe_bulk_diag).sum() if zloc_bulk_diag.size!=0 else 0\n",
    "    coe_edge = (vmap_scan_z(samples, zloc_edge_diag)*coe_edge_diag).sum() if zloc_edge_diag.size!=0 else 0\n",
    "    coe_corner = (vmap_scan_z(samples, zloc_corner_diag)*coe_corner_diag).sum() if zloc_corner_diag.size!=0 else 0\n",
    "    return coe_bulk+coe_edge+coe_corner\n",
    "def location_pauli_label(loc_array_bulk, loc_array_edge, loc_array_corner, Ny, Nx):\n",
    "    '''\n",
    "    Args:\n",
    "        loc_array_bulk, loc_array_edge, loc_array_corner: Each element is the \"location\" that the Hamiltonian term acts on.\n",
    "\n",
    "    Returns:\n",
    "        Three dictionaries that label the location of the Hamiltonian term.\n",
    "    For example,\n",
    "    1. (0, 1) [[0. 4.]]\n",
    "    means that the Hamiltonian terms act on the 0th row and 1st column of the grid\n",
    "    is the 4th element of the 0th term in the Hamiltonian.\n",
    "\n",
    "    2. (1, 2) [[0. 1.]\n",
    "              [1. 0.]\n",
    "              [3. 4.]]\n",
    "    means that the Hamiltonian terms act on the 1st row and 2nd column of the grid\n",
    "    is the 1st, 0th, 4th element of the 0th, 1st, 3rd terms in the Hamiltonian.\n",
    "    '''\n",
    "\n",
    "    label_bulk = {}\n",
    "    label_edge = {}\n",
    "    label_corner = {}\n",
    "    # yi, xi : the location to label how many operation is acted on\n",
    "    # y , x : The location of the loc_array that we can use to access the location to label\n",
    "    for yi in range (Ny):\n",
    "        for xi in range(Nx):\n",
    "            y = 0\n",
    "            tmp = jnp.array([])\n",
    "            for i in loc_array_bulk:\n",
    "                x = 0\n",
    "                for j in i:\n",
    "                    if (j == jnp.array([yi, xi])).all():\n",
    "                        tmp = jnp.append(tmp, jnp.array([y, x]))\n",
    "                    x += 1\n",
    "                y += 1\n",
    "            label_bulk[yi, xi] = tmp.reshape(-1, 2)\n",
    "    for yi in range (Ny):\n",
    "        for xi in range(Nx):\n",
    "            y = 0\n",
    "            tmp = jnp.array([])\n",
    "            for i in loc_array_edge:\n",
    "                x = 0\n",
    "                for j in i:\n",
    "                    if (j == jnp.array([yi, xi])).all():\n",
    "                        tmp = jnp.append(tmp, jnp.array([y, x]))\n",
    "                    x += 1\n",
    "                y += 1\n",
    "            label_edge[yi, xi] = tmp.reshape(-1, 2)\n",
    "    for yi in range (Ny):\n",
    "        for xi in range(Nx):\n",
    "            y = 0\n",
    "            tmp = jnp.array([])\n",
    "            for i in loc_array_corner:\n",
    "                x = 0\n",
    "                for j in i:\n",
    "                    if (j == jnp.array([yi, xi])).all():\n",
    "                        tmp = jnp.append(tmp, jnp.array([y, x]))\n",
    "                    x += 1\n",
    "                y += 1\n",
    "            label_corner[yi, xi] = tmp.reshape(-1, 2)\n",
    "    return label_bulk, label_edge, label_corner\n",
    "\n",
    "def loc_array_gf(Ny, Nx):\n",
    "    '''\n",
    "    Inputs\n",
    "    Ny, Nx : The size of the grid\n",
    "\n",
    "    Outputs:\n",
    "    The location that each Hamiltonian term acts on.\n",
    "    Specifically,\n",
    "\n",
    "    For loc_array bulk: it is [[[1, 1], [1, 2], [2, 1], [1, 0], [0 ,1]]....[[Ny-2,Nx-2], [Ny-2, Nx-1], [Ny-1, Nx-2], [Ny-2, Nx-3], [Ny-3, Nx-2]]\n",
    "    For single element, the order inside is :\n",
    "        4\n",
    "    3   0   1\n",
    "        2\n",
    "    For the entire array, it follows that it moves right first until the boundary and then go to the first element of the next row.\n",
    "\n",
    "    For loc_array corner: it is [[[0, 0],[0 ,1], [1, 0]]...[[Ny - 1, Nx - 1], [Ny - 1, Nx - 2], [Ny - 2, Nx - 1]]]\n",
    "    For single element, the order inside follows that dealing with x-axis first and then y-axis.\n",
    "    '''\n",
    "    I, J = jnp.meshgrid(jnp.arange(1, Ny - 1), jnp.arange(1, Nx - 1), indexing='ij')\n",
    "    bulk_coordinates = jnp.stack([I, J, I, J + 1, I + 1, J, I, J - 1, I - 1, J], axis=-1)\n",
    "    loc_array_bulk = bulk_coordinates.reshape(-1, 5, 2)\n",
    "\n",
    "    # Add edge coordinates excluding corners for the left and right sides of the grid\n",
    "    edge_coordinates = []\n",
    "    for i in range(1, Ny - 1):\n",
    "        edge_coordinates.extend([[i, 0], [i, 1], [i + 1, 0], [i - 1, 0]])\n",
    "        edge_coordinates.extend([[i, Nx - 1], [i, Nx - 2], [i + 1, Nx - 1], [i - 1, Nx - 1]])\n",
    "\n",
    "    # Add edge coordinates excluding corners for the top and bottom of the grid\n",
    "    for j in range(1, Nx - 1):\n",
    "        edge_coordinates.extend([[0, j], [1, j], [0, j - 1], [0, j + 1]])\n",
    "        edge_coordinates.extend([[Ny - 1, j], [Ny - 2, j], [Ny - 1, j - 1], [Ny - 1, j + 1]])\n",
    "\n",
    "    # Convert list to a JAX array\n",
    "    loc_array_edge = jnp.array(edge_coordinates).reshape(-1, 4, 2)\n",
    "\n",
    "    loc_array_corner = jnp.array([[[0, 0], [0, 1], [1, 0]],\n",
    "                                  [[0, Nx - 1], [0, Nx - 2], [1, Nx - 1]],\n",
    "                                  [[Ny - 1, 0], [Ny - 1, 1], [Ny - 2, 0]],\n",
    "                                  [[Ny - 1, Nx - 1], [Ny - 1, Nx - 2], [Ny - 2, Nx - 1]]])\n",
    "    return loc_array_bulk, loc_array_edge, loc_array_corner\n",
    "def pauli_cmi_pattern(pauli_array_bulk, pauli_array_edge, pauli_array_corner, label_bulk, label_edge, label_corner, cmi_pattern, key, sparsity, L):\n",
    "    '''\n",
    "    Input : pauli_array\n",
    "    Output : pauli_array with the pattern(no_decay, decay, random or ordered_random)\n",
    "    '''\n",
    "    if (cmi_pattern == \"no_decay\"):\n",
    "        print(\"Pattern: no_decay\")\n",
    "        for i in label_bulk:\n",
    "            pauli_array_bulk = pauli_array_bulk.at[label_bulk[i][:,0].astype(int), label_bulk[i][:,1].astype(int)].set(pauli_array_bulk[label_bulk[i][:,0].astype(int), label_bulk[i][:,1].astype(int)])\n",
    "        for i in label_edge:\n",
    "            pauli_array_edge = pauli_array_edge.at[label_edge[i][:,0].astype(int), label_edge[i][:,1].astype(int)].set(pauli_array_edge[label_edge[i][:,0].astype(int), label_edge[i][:,1].astype(int)])\n",
    "        for i in label_corner:\n",
    "            pauli_array_corner = pauli_array_corner.at[label_corner[i][:,0].astype(int), label_corner[i][:,1].astype(int)].set(pauli_array_corner[label_corner[i][:,0].astype(int), label_corner[i][:,1].astype(int)])\n",
    "    elif(cmi_pattern == \"random\"):\n",
    "        print(\"Pattern:random\")\n",
    "        for i in label_bulk:\n",
    "            key, subkey = split(key, 2)\n",
    "            p = jax.random.uniform(subkey, jnp.array([1]), float, 0 , 1)\n",
    "            if p>0.5:\n",
    "                pauli_array_bulk = pauli_array_bulk.at[label_bulk[i][:,0].astype(int), label_bulk[i][:,1].astype(int)].set(pauli_array_bulk[label_bulk[i][:,0].astype(int), label_bulk[i][:,1].astype(int)])\n",
    "                pauli_array_edge = pauli_array_edge.at[label_edge[i][:,0].astype(int), label_edge[i][:,1].astype(int)].set(pauli_array_edge[label_edge[i][:,0].astype(int), label_edge[i][:,1].astype(int)])\n",
    "                pauli_array_corner = pauli_array_corner.at[label_corner[i][:,0].astype(int), label_corner[i][:,1].astype(int)].set(pauli_array_corner[label_corner[i][:,0].astype(int), label_corner[i][:,1].astype(int)])\n",
    "    elif (cmi_pattern == \"ordered_random\"):\n",
    "        print(\"Pattern:ordered_random\")\n",
    "        for i in label_bulk:\n",
    "            if (i[0]%2 == 0):\n",
    "                if ((i[0]*L+i[1]+1)%sparsity==0):\n",
    "                    pauli_array_bulk = pauli_array_bulk.at[\n",
    "                        label_bulk[i][:, 0].astype(int), label_bulk[i][:, 1].astype(int)].set(\n",
    "                        pauli_array_bulk[label_bulk[i][:, 0].astype(int), label_bulk[i][:, 1].astype(int)])\n",
    "                    pauli_array_edge = pauli_array_edge.at[\n",
    "                        label_edge[i][:, 0].astype(int), label_edge[i][:, 1].astype(int)].set(\n",
    "                        pauli_array_edge[label_edge[i][:, 0].astype(int), label_edge[i][:, 1].astype(int)])\n",
    "                    pauli_array_corner = pauli_array_corner.at[\n",
    "                        label_corner[i][:, 0].astype(int), label_corner[i][:, 1].astype(int)].set(\n",
    "                        pauli_array_corner[label_corner[i][:, 0].astype(int), label_corner[i][:, 1].astype(int)])\n",
    "            elif (i[0]%2 == 1):\n",
    "                if (((i[0]+1)*L-i[1])%sparsity==0):\n",
    "                    pauli_array_bulk = pauli_array_bulk.at[\n",
    "                        label_bulk[i][:, 0].astype(int), label_bulk[i][:, 1].astype(int)].set(\n",
    "                        pauli_array_bulk[label_bulk[i][:, 0].astype(int), label_bulk[i][:, 1].astype(int)])\n",
    "                    pauli_array_edge = pauli_array_edge.at[\n",
    "                        label_edge[i][:, 0].astype(int), label_edge[i][:, 1].astype(int)].set(\n",
    "                        pauli_array_edge[label_edge[i][:, 0].astype(int), label_edge[i][:, 1].astype(int)])\n",
    "                    pauli_array_corner = pauli_array_corner.at[\n",
    "                        label_corner[i][:, 0].astype(int), label_corner[i][:, 1].astype(int)].set(\n",
    "                        pauli_array_corner[label_corner[i][:, 0].astype(int), label_corner[i][:, 1].astype(int)])\n",
    "    else:\n",
    "        print(\"Pattern:decay\")\n",
    "    return pauli_array_bulk, pauli_array_edge, pauli_array_corner\n",
    "\n",
    "def off_diag_count(xy_loc_bulk, xy_loc_edge, xy_loc_corner):\n",
    "    off_diag_bulk_count, off_diag_edge_count, off_diag_corner_count = 0, 0, 0\n",
    "    for i in xy_loc_bulk:\n",
    "        if i[1] != 0:\n",
    "            off_diag_bulk_count += xy_loc_bulk[i].shape[0]\n",
    "        else:\n",
    "            diag_bulk_count = 1\n",
    "    for i in xy_loc_edge:\n",
    "        if i[1] != 0:\n",
    "            off_diag_edge_count += xy_loc_edge[i].shape[0]\n",
    "        else:\n",
    "            diag_edge_count = 1\n",
    "    for i in xy_loc_corner:\n",
    "        if i[1] != 0:\n",
    "            off_diag_corner_count += xy_loc_corner[i].shape[0]\n",
    "        else:\n",
    "            diag_corner_count = 1\n",
    "    return off_diag_bulk_count, off_diag_edge_count, off_diag_corner_count\n",
    "import netket as nk\n",
    "import jax\n",
    "import jax.numpy as jnp\n",
    "from jax import grad, jit, vmap\n",
    "import jax.random as random\n",
    "from jax.random import PRNGKey, split, categorical\n",
    "import jax.lax as lax\n",
    "from jax.lax import scan\n",
    "import jax.nn as nn\n",
    "import time\n",
    "from tqdm import tqdm\n",
    "from functools import partial\n",
    "import time\n",
    "from math import ceil\n",
    "import itertools\n",
    "from RNNfunction import *\n",
    "import numpy as np\n",
    "\n",
    "def generate_combinations(length):\n",
    "    set1 = [1] * length\n",
    "    set2 = [3] * length\n",
    "    combinations = list(itertools.product(*zip(set1, set2)))\n",
    "    return jnp.array(combinations)\n",
    "\n",
    "\n",
    "def all_coe(array, x, y):\n",
    "    # Function to calculate x^n * y^m for a single element\n",
    "    def calculate_product(element):\n",
    "        n = jnp.sum(element == 1)  # Count of 1s\n",
    "        m = jnp.sum(element == 3)  # Count of 3s\n",
    "        return x ** n * y ** m\n",
    "\n",
    "    coe = jnp.apply_along_axis(calculate_product, 1, array)\n",
    "    return coe\n",
    "\n",
    "\n",
    "def linear_cycling_with_hold(schedule_step, max_lr, min_lr, cycle_steps):\n",
    "    if schedule_step <= 8 * cycle_steps:\n",
    "        cycle = jnp.floor(1 + schedule_step / (2 * cycle_steps))\n",
    "        x = jnp.abs(schedule_step / cycle_steps - 2 * cycle + 1)\n",
    "        lr = min_lr + (max_lr - min_lr) * jnp.maximum(0, (1 - x))\n",
    "    else:\n",
    "        lr = 2 * min_lr\n",
    "    return lr\n",
    "\n",
    "\n",
    "@partial(jax.jit, static_argnames=['fixed_parameters'])\n",
    "def compute_cost(parameters, fixed_parameters, samples, Eloc, Temperature):\n",
    "    samples = jax.lax.stop_gradient(samples)\n",
    "    Eloc = jax.lax.stop_gradient(Eloc)\n",
    "\n",
    "    # First term\n",
    "\n",
    "    log_amps_tensor = log_amp(samples, parameters, fixed_parameters)\n",
    "    term1 = 2 * jnp.real(jnp.mean(log_amps_tensor.conjugate() * (Eloc - jnp.mean(Eloc))))\n",
    "    # Second term\n",
    "\n",
    "    term2 = 4 * Temperature * (jnp.mean(jnp.real(log_amps_tensor) * jax.lax.stop_gradient(jnp.real(log_amps_tensor)))\n",
    "                               - jnp.mean(jnp.real(log_amps_tensor)) * jnp.mean(\n",
    "                jax.lax.stop_gradient(jnp.real(log_amps_tensor))))\n",
    "\n",
    "    cost = term1 + term2\n",
    "\n",
    "    return cost\n",
    "\n",
    "def clip_grad(g, clip_norm=10.0):\n",
    "    norm = jnp.linalg.norm(g)\n",
    "    scale = jnp.minimum(1.0, clip_norm / (norm + 1e-6))\n",
    "    return g * scale\n",
    "\n",
    "def schedule(step: float, min_lr: float, max_lr: float, period: float) -> float:\n",
    "    \"\"\"Compute a learning rate that oscillates sinusoidally between min_lr and max_lr.\"\"\"\n",
    "    oscillation = (jnp.sin(jnp.pi * step / period) + 1) / 2  # Will be between 0 and 1\n",
    "    return min_lr + (max_lr - min_lr) * oscillation"
   ]
  },
  {
   "cell_type": "code",
   "execution_count": 33,
   "outputs": [],
   "source": [
    "Ny, Nx = 4, 4\n",
    "angle = 0.\n",
    "pauli_array_bulk, pauli_array_edge, pauli_array_corner = jnp.repeat(generate_combinations(5), (Ny-2)*(Nx-2), axis=0), jnp.repeat(generate_combinations(4),(Ny+Nx-4)*2, axis=0), jnp.repeat(generate_combinations(3), 4, axis=0)\n",
    "x, y = jnp.cos(angle), jnp.sin(angle)\n",
    "pauli_array_bulk_coe, pauli_array_edge_coe, pauli_array_corner_coe = all_coe(pauli_array_bulk, x, y), all_coe(pauli_array_edge, x, y), all_coe(pauli_array_corner, x, y)\n",
    "loc_array_bulk, loc_array_edge, loc_array_corner = loc_array_gf(Ny, Nx)\n",
    "\n",
    "loc_array_bulk = jnp.repeat(loc_array_bulk, 32, axis=0)\n",
    "loc_array_edge = jnp.repeat(loc_array_edge, 16, axis=0)\n",
    "loc_array_corner = jnp.repeat(loc_array_corner, 8, axis=0)"
   ],
   "metadata": {
    "collapsed": false,
    "ExecuteTime": {
     "end_time": "2023-12-12T11:41:56.462968Z",
     "start_time": "2023-12-12T11:41:56.397221200Z"
    }
   }
  },
  {
   "cell_type": "code",
   "execution_count": 32,
   "outputs": [
    {
     "ename": "IndexError",
     "evalue": "boolean index did not match shape of indexed array in index 0: got (128,), expected (4,)",
     "output_type": "error",
     "traceback": [
      "\u001B[1;31m---------------------------------------------------------------------------\u001B[0m",
      "\u001B[1;31mIndexError\u001B[0m                                Traceback (most recent call last)",
      "Cell \u001B[1;32mIn[32], line 1\u001B[0m\n\u001B[1;32m----> 1\u001B[0m xy_loc_bulk, yloc_bulk, zloc_bulk \u001B[38;5;241m=\u001B[39m \u001B[43mlocal_element_indices_2d\u001B[49m\u001B[43m(\u001B[49m\u001B[38;5;241;43m5\u001B[39;49m\u001B[43m,\u001B[49m\u001B[43m \u001B[49m\u001B[43mpauli_array_bulk\u001B[49m\u001B[43m,\u001B[49m\u001B[43m \u001B[49m\u001B[43mloc_array_bulk\u001B[49m\u001B[43m)\u001B[49m\n\u001B[0;32m      2\u001B[0m xy_loc_edge, yloc_edge, zloc_edge \u001B[38;5;241m=\u001B[39m local_element_indices_2d(\u001B[38;5;241m4\u001B[39m, pauli_array_edge, loc_array_edge)\n\u001B[0;32m      3\u001B[0m xy_loc_corner, yloc_corner, zloc_corner \u001B[38;5;241m=\u001B[39m local_element_indices_2d(\u001B[38;5;241m3\u001B[39m, pauli_array_corner, loc_array_corner)\n",
      "Cell \u001B[1;32mIn[20], line 59\u001B[0m, in \u001B[0;36mlocal_element_indices_2d\u001B[1;34m(num_body, pauli_array, loc_array)\u001B[0m\n\u001B[0;32m     56\u001B[0m mask_z \u001B[38;5;241m=\u001B[39m (pauli_array_xz[i, j] \u001B[38;5;241m==\u001B[39m \u001B[38;5;241m3\u001B[39m)\n\u001B[0;32m     58\u001B[0m \u001B[38;5;28;01mif\u001B[39;00m mask_x\u001B[38;5;241m.\u001B[39msum() \u001B[38;5;241m!=\u001B[39m \u001B[38;5;241m0\u001B[39m:\n\u001B[1;32m---> 59\u001B[0m     xloc_arrays[i, j] \u001B[38;5;241m=\u001B[39m \u001B[43mloc_array\u001B[49m\u001B[43m[\u001B[49m\u001B[43mmask\u001B[49m\u001B[43m]\u001B[49m[mask_x]\u001B[38;5;241m.\u001B[39mreshape(\u001B[38;5;241m-\u001B[39m\u001B[38;5;241m1\u001B[39m, j, \u001B[38;5;241m2\u001B[39m)\n\u001B[0;32m     60\u001B[0m \u001B[38;5;28;01melif\u001B[39;00m mask_y\u001B[38;5;241m.\u001B[39msum() \u001B[38;5;241m!=\u001B[39m \u001B[38;5;241m0\u001B[39m \u001B[38;5;129;01mor\u001B[39;00m mask_z\u001B[38;5;241m.\u001B[39msum() \u001B[38;5;241m!=\u001B[39m\u001B[38;5;241m0\u001B[39m:\n\u001B[0;32m     61\u001B[0m     \u001B[38;5;28;01mif\u001B[39;00m mask_y\u001B[38;5;241m.\u001B[39msum()\u001B[38;5;241m!=\u001B[39m\u001B[38;5;241m0\u001B[39m:\n",
      "File \u001B[1;32m~\\anaconda3\\lib\\site-packages\\jax\\_src\\array.py:323\u001B[0m, in \u001B[0;36mArrayImpl.__getitem__\u001B[1;34m(self, idx)\u001B[0m\n\u001B[0;32m    321\u001B[0m   \u001B[38;5;28;01mreturn\u001B[39;00m lax_numpy\u001B[38;5;241m.\u001B[39m_rewriting_take(\u001B[38;5;28mself\u001B[39m, idx)\n\u001B[0;32m    322\u001B[0m \u001B[38;5;28;01melse\u001B[39;00m:\n\u001B[1;32m--> 323\u001B[0m   \u001B[38;5;28;01mreturn\u001B[39;00m \u001B[43mlax_numpy\u001B[49m\u001B[38;5;241;43m.\u001B[39;49m\u001B[43m_rewriting_take\u001B[49m\u001B[43m(\u001B[49m\u001B[38;5;28;43mself\u001B[39;49m\u001B[43m,\u001B[49m\u001B[43m \u001B[49m\u001B[43midx\u001B[49m\u001B[43m)\u001B[49m\n",
      "File \u001B[1;32m~\\anaconda3\\lib\\site-packages\\jax\\_src\\numpy\\lax_numpy.py:4322\u001B[0m, in \u001B[0;36m_rewriting_take\u001B[1;34m(arr, idx, indices_are_sorted, unique_indices, mode, fill_value)\u001B[0m\n\u001B[0;32m   4316\u001B[0m     \u001B[38;5;28;01mif\u001B[39;00m (\u001B[38;5;28misinstance\u001B[39m(aval, core\u001B[38;5;241m.\u001B[39mDShapedArray) \u001B[38;5;129;01mand\u001B[39;00m aval\u001B[38;5;241m.\u001B[39mshape \u001B[38;5;241m==\u001B[39m () \u001B[38;5;129;01mand\u001B[39;00m\n\u001B[0;32m   4317\u001B[0m         dtypes\u001B[38;5;241m.\u001B[39missubdtype(aval\u001B[38;5;241m.\u001B[39mdtype, np\u001B[38;5;241m.\u001B[39minteger) \u001B[38;5;129;01mand\u001B[39;00m\n\u001B[0;32m   4318\u001B[0m         \u001B[38;5;129;01mnot\u001B[39;00m dtypes\u001B[38;5;241m.\u001B[39missubdtype(aval\u001B[38;5;241m.\u001B[39mdtype, dtypes\u001B[38;5;241m.\u001B[39mbool_) \u001B[38;5;129;01mand\u001B[39;00m\n\u001B[0;32m   4319\u001B[0m         \u001B[38;5;28misinstance\u001B[39m(arr\u001B[38;5;241m.\u001B[39mshape[\u001B[38;5;241m0\u001B[39m], \u001B[38;5;28mint\u001B[39m)):\n\u001B[0;32m   4320\u001B[0m       \u001B[38;5;28;01mreturn\u001B[39;00m lax\u001B[38;5;241m.\u001B[39mdynamic_index_in_dim(arr, idx, keepdims\u001B[38;5;241m=\u001B[39m\u001B[38;5;28;01mFalse\u001B[39;00m)\n\u001B[1;32m-> 4322\u001B[0m treedef, static_idx, dynamic_idx \u001B[38;5;241m=\u001B[39m \u001B[43m_split_index_for_jit\u001B[49m\u001B[43m(\u001B[49m\u001B[43midx\u001B[49m\u001B[43m,\u001B[49m\u001B[43m \u001B[49m\u001B[43marr\u001B[49m\u001B[38;5;241;43m.\u001B[39;49m\u001B[43mshape\u001B[49m\u001B[43m)\u001B[49m\n\u001B[0;32m   4323\u001B[0m \u001B[38;5;28;01mreturn\u001B[39;00m _gather(arr, treedef, static_idx, dynamic_idx, indices_are_sorted,\n\u001B[0;32m   4324\u001B[0m                unique_indices, mode, fill_value)\n",
      "File \u001B[1;32m~\\anaconda3\\lib\\site-packages\\jax\\_src\\numpy\\lax_numpy.py:4400\u001B[0m, in \u001B[0;36m_split_index_for_jit\u001B[1;34m(idx, shape)\u001B[0m\n\u001B[0;32m   4396\u001B[0m   \u001B[38;5;28;01mraise\u001B[39;00m \u001B[38;5;167;01mTypeError\u001B[39;00m(\u001B[38;5;124mf\u001B[39m\u001B[38;5;124m\"\u001B[39m\u001B[38;5;124mJAX does not support string indexing; got \u001B[39m\u001B[38;5;132;01m{\u001B[39;00midx\u001B[38;5;132;01m=}\u001B[39;00m\u001B[38;5;124m\"\u001B[39m)\n\u001B[0;32m   4398\u001B[0m \u001B[38;5;66;03m# Expand any (concrete) boolean indices. We can then use advanced integer\u001B[39;00m\n\u001B[0;32m   4399\u001B[0m \u001B[38;5;66;03m# indexing logic to handle them.\u001B[39;00m\n\u001B[1;32m-> 4400\u001B[0m idx \u001B[38;5;241m=\u001B[39m \u001B[43m_expand_bool_indices\u001B[49m\u001B[43m(\u001B[49m\u001B[43midx\u001B[49m\u001B[43m,\u001B[49m\u001B[43m \u001B[49m\u001B[43mshape\u001B[49m\u001B[43m)\u001B[49m\n\u001B[0;32m   4402\u001B[0m leaves, treedef \u001B[38;5;241m=\u001B[39m tree_flatten(idx)\n\u001B[0;32m   4403\u001B[0m dynamic \u001B[38;5;241m=\u001B[39m [\u001B[38;5;28;01mNone\u001B[39;00m] \u001B[38;5;241m*\u001B[39m \u001B[38;5;28mlen\u001B[39m(leaves)\n",
      "File \u001B[1;32m~\\anaconda3\\lib\\site-packages\\jax\\_src\\numpy\\lax_numpy.py:4722\u001B[0m, in \u001B[0;36m_expand_bool_indices\u001B[1;34m(idx, shape)\u001B[0m\n\u001B[0;32m   4720\u001B[0m     expected_shape \u001B[38;5;241m=\u001B[39m shape[start: start \u001B[38;5;241m+\u001B[39m _ndim(i)]\n\u001B[0;32m   4721\u001B[0m     \u001B[38;5;28;01mif\u001B[39;00m i_shape \u001B[38;5;241m!=\u001B[39m expected_shape:\n\u001B[1;32m-> 4722\u001B[0m       \u001B[38;5;28;01mraise\u001B[39;00m \u001B[38;5;167;01mIndexError\u001B[39;00m(\u001B[38;5;124m\"\u001B[39m\u001B[38;5;124mboolean index did not match shape of indexed array in index \u001B[39m\u001B[38;5;124m\"\u001B[39m\n\u001B[0;32m   4723\u001B[0m                        \u001B[38;5;124mf\u001B[39m\u001B[38;5;124m\"\u001B[39m\u001B[38;5;132;01m{\u001B[39;00mdim_number\u001B[38;5;132;01m}\u001B[39;00m\u001B[38;5;124m: got \u001B[39m\u001B[38;5;132;01m{\u001B[39;00mi_shape\u001B[38;5;132;01m}\u001B[39;00m\u001B[38;5;124m, expected \u001B[39m\u001B[38;5;132;01m{\u001B[39;00mexpected_shape\u001B[38;5;132;01m}\u001B[39;00m\u001B[38;5;124m\"\u001B[39m)\n\u001B[0;32m   4724\u001B[0m     out\u001B[38;5;241m.\u001B[39mextend(np\u001B[38;5;241m.\u001B[39mwhere(i))\n\u001B[0;32m   4725\u001B[0m \u001B[38;5;28;01melse\u001B[39;00m:\n",
      "\u001B[1;31mIndexError\u001B[0m: boolean index did not match shape of indexed array in index 0: got (128,), expected (4,)"
     ]
    }
   ],
   "source": [
    "xy_loc_bulk, yloc_bulk, zloc_bulk = local_element_indices_2d(5, pauli_array_bulk, loc_array_bulk)\n",
    "xy_loc_edge, yloc_edge, zloc_edge = local_element_indices_2d(4, pauli_array_edge, loc_array_edge)\n",
    "xy_loc_corner, yloc_corner, zloc_corner = local_element_indices_2d(3, pauli_array_corner, loc_array_corner)\n"
   ],
   "metadata": {
    "collapsed": false,
    "ExecuteTime": {
     "end_time": "2023-12-12T11:41:34.696793500Z",
     "start_time": "2023-12-12T11:41:34.617952Z"
    }
   }
  },
  {
   "cell_type": "code",
   "execution_count": 28,
   "outputs": [
    {
     "data": {
      "text/plain": "{(0,\n  3): Array([[[0, 0],\n         [0, 1],\n         [1, 0]],\n \n        [[0, 0],\n         [0, 1],\n         [1, 0]],\n \n        [[0, 0],\n         [0, 1],\n         [1, 0]],\n \n        [[0, 0],\n         [0, 1],\n         [1, 0]]], dtype=int32),\n (1,\n  2): Array([[[0, 0],\n         [0, 1]],\n \n        [[0, 0],\n         [0, 1]],\n \n        [[0, 0],\n         [0, 1]],\n \n        [[0, 0],\n         [0, 1]],\n \n        [[0, 3],\n         [1, 3]],\n \n        [[0, 3],\n         [1, 3]],\n \n        [[0, 3],\n         [1, 3]],\n \n        [[0, 3],\n         [1, 3]],\n \n        [[3, 1],\n         [2, 0]],\n \n        [[3, 1],\n         [2, 0]],\n \n        [[3, 1],\n         [2, 0]],\n \n        [[3, 1],\n         [2, 0]]], dtype=int32),\n (2,\n  1): Array([[[0, 3]],\n \n        [[0, 3]],\n \n        [[0, 3]],\n \n        [[0, 3]],\n \n        [[3, 1]],\n \n        [[3, 1]],\n \n        [[3, 1]],\n \n        [[3, 1]],\n \n        [[2, 3]],\n \n        [[2, 3]],\n \n        [[2, 3]],\n \n        [[2, 3]]], dtype=int32),\n (3, 0): Array([], dtype=int32)}"
     },
     "execution_count": 28,
     "metadata": {},
     "output_type": "execute_result"
    }
   ],
   "source": [
    "def all_coe(array, x, y):\n",
    "    # Function to calculate x^n * y^m for a single element\n",
    "    def calculate_product(element):\n",
    "        n = jnp.sum(element == 1)  # Count of 1s\n",
    "        m = jnp.sum(element == 3)  # Count of 3s\n",
    "        return x ** n * y ** m\n",
    "    comb_num = 2**(array.shape[1])\n",
    "    coe = jnp.apply_along_axis(calculate_product, 1, array)[:-comb_num+1]\n",
    "    return coe\n"
   ],
   "metadata": {
    "collapsed": false,
    "ExecuteTime": {
     "end_time": "2023-12-12T11:40:24.752256400Z",
     "start_time": "2023-12-12T11:40:24.687634300Z"
    }
   }
  },
  {
   "cell_type": "code",
   "execution_count": 36,
   "outputs": [
    {
     "data": {
      "text/plain": "Array([[ True, False, False],\n       [ True,  True, False]], dtype=bool)"
     },
     "execution_count": 36,
     "metadata": {},
     "output_type": "execute_result"
    }
   ],
   "source": [
    "array1 = jnp.array([[True, False, True],[True, True, True]])\n",
    "array2 = jnp.array([True, True, False])\n",
    "array1 == array2"
   ],
   "metadata": {
    "collapsed": false,
    "ExecuteTime": {
     "end_time": "2023-12-12T17:07:30.108315100Z",
     "start_time": "2023-12-12T17:07:30.067416300Z"
    }
   }
  },
  {
   "cell_type": "code",
   "execution_count": 9,
   "outputs": [
    {
     "data": {
      "text/plain": "[<matplotlib.lines.Line2D at 0x255e89fe1a0>]"
     },
     "execution_count": 9,
     "metadata": {},
     "output_type": "execute_result"
    },
    {
     "data": {
      "text/plain": "<Figure size 640x480 with 1 Axes>",
      "image/png": "[encoded data removed]"
     },
     "metadata": {},
     "output_type": "display_data"
    }
   ],
   "source": [
    "\n",
    "for i in range (10000):\n",
    "    lr.append(scheduler(i))\n",
    "import matplotlib.pyplot as plt\n",
    "plt.plot(lr)"
   ],
   "metadata": {
    "collapsed": false,
    "ExecuteTime": {
     "end_time": "2023-11-17T17:13:05.542064500Z",
     "start_time": "2023-11-17T17:13:04.239510Z"
    }
   }
  },
  {
   "cell_type": "code",
   "execution_count": null,
   "outputs": [],
   "source": [],
   "metadata": {
    "collapsed": false
   }
  },
  {
   "cell_type": "code",
   "execution_count": 7,
   "outputs": [],
   "source": [
    "from functools import partial\n",
    "import jax\n",
    "import jax.numpy as jnp\n",
    "\n",
    "def local_element_indices_2d(num_body, pauli_array, loc_array):\n",
    "    if pauli_array.shape[-1] != num_body:\n",
    "        raise ValueError(f\"Array has incorrect body of interactions {pauli_array.shape[-1]}. Expected body of interactions is {num_body}.\")\n",
    "\n",
    "    count_3s = jnp.sum(pauli_array == 3, axis = 1)\n",
    "    count_1s = jnp.sum(pauli_array == 1, axis = 1)\n",
    "\n",
    "    pauli_array_xz = {}\n",
    "    xloc_arrays = {}\n",
    "    zloc_arrays = {}\n",
    "    yloc_arrays = {}\n",
    "    xy_loc_arrays = {}\n",
    "\n",
    "    for i in range(num_body+1):    #z_number\n",
    "        for j in range (num_body+1-i):  #x_number\n",
    "            mask = ((count_3s == i)&(count_1s == j))\n",
    "            pauli_array_xz[i, j] = pauli_array[mask]\n",
    "\n",
    "            mask_x = (pauli_array_xz[i, j] == 1)\n",
    "            mask_y = (pauli_array_xz[i, j] == 2)\n",
    "            mask_z = (pauli_array_xz[i, j] == 3)\n",
    "\n",
    "            if mask_x.sum() != 0:\n",
    "                xloc_arrays[i, j] = loc_array[mask][mask_x].reshape(-1, j, 2)\n",
    "            elif mask_y.sum() != 0 or mask_z.sum() !=0:\n",
    "                if mask_y.sum()!=0:\n",
    "                    xloc_arrays[i, j] = jnp.array([[]]).reshape(pauli_array_xz[i ,j].shape[0], 0, 2).astype(int)\n",
    "                else:\n",
    "                    xloc_arrays[i, j] = jnp.array([[]]).reshape(pauli_array_xz[i, j].shape[0], 0, 2).astype(int)\n",
    "\n",
    "            if mask_y.sum() !=0:\n",
    "                yloc_arrays[i, j] = loc_array[mask][mask_y].reshape(-1, num_body-i-j, 2).astype(int)\n",
    "            elif mask_x.sum() != 0 or mask_z.sum() !=0:\n",
    "                if mask_x.sum()!=0:\n",
    "                    yloc_arrays[i, j] = jnp.array([[]]).reshape(pauli_array_xz[i, j].shape[0], 0, 2).astype(int)\n",
    "                else:\n",
    "                    yloc_arrays[i, j] = jnp.array([[]]).reshape(pauli_array_xz[i, j].shape[0], 0, 2).astype(int)\n",
    "\n",
    "            if mask_z.sum()!=0:\n",
    "                zloc_arrays[i, j] = loc_array[mask][mask_z].reshape(-1, i, 2).astype(int)\n",
    "            elif mask_x.sum() != 0 or mask_y.sum() !=0:\n",
    "                if mask_y.sum()!=0:\n",
    "                    zloc_arrays[i, j] = jnp.array([[]]).reshape(pauli_array_xz[i, j].shape[0], 0, 2).astype(int)\n",
    "                else:\n",
    "                    zloc_arrays[i, j] = jnp.array([[]]).reshape(pauli_array_xz[i, j].shape[0], 0, 2).astype(int)\n",
    "    print(\"xlco_arrays:\", xloc_arrays)\n",
    "    print(\"yloc_arrays:\", yloc_arrays)\n",
    "    for ind in (xloc_arrays):\n",
    "        xy_loc_arrays[ind] = jnp.concatenate((xloc_arrays[ind], yloc_arrays[ind]), axis=1).astype(int)\n",
    "    return  xy_loc_arrays, yloc_arrays, zloc_arrays\n",
    "@jax.jit\n",
    "def total_samples_2d(samples, xyloc):\n",
    "    def scan_array_element(sample_element, xyloc_arrays_element):\n",
    "        scan_samples = sample_element.at[xyloc_arrays_element[:,0], xyloc_arrays_element[:,1]].set((sample_element[xyloc_arrays_element[:,0], xyloc_arrays_element[:,1]]+1)%2)\n",
    "        return sample_element, scan_samples\n",
    "    sample_tmp = samples\n",
    "    for xyloc_ind in xyloc:\n",
    "        if xyloc[xyloc_ind].size != 0:\n",
    "            sample_tmp = jnp.append(sample_tmp, jax.lax.scan(scan_array_element, samples, xyloc[xyloc_ind])[1])\n",
    "    print(xyloc[xyloc_ind])\n",
    "    return sample_tmp.reshape(-1, samples.shape[0], samples.shape[1])\n",
    "\n",
    "@jax.jit\n",
    "def new_coe_2d(samples, coe_array, yloc, zloc):\n",
    "    def ycoe(sample_element, yloc_arrays_element):\n",
    "        scan_coe_tmp_y = ((-1)**sample_element[yloc_arrays_element[:,0],yloc_arrays_element[:,1]]*1j).prod()\n",
    "        return sample_element, scan_coe_tmp_y\n",
    "    def zcoe(sample_element, zloc_arrays_element):\n",
    "        scan_coe_tmp_z = ((-1)**sample_element[zloc_arrays_element[:,0], zloc_arrays_element[:,1]]).prod()\n",
    "        return sample_element, scan_coe_tmp_z\n",
    "    coe_tmp_y = jnp.array([1])\n",
    "    coe_tmp_z = jnp.array([1])\n",
    "    for yloc_ind in yloc:\n",
    "        if yloc[yloc_ind].shape[0] != 0:\n",
    "            coe_tmp_y = jnp.append(coe_tmp_y, jax.lax.scan(ycoe, samples, yloc[yloc_ind])[1])\n",
    "        else:\n",
    "            coe_tmp_y = jnp.append(coe_tmp_y, 1)\n",
    "    for zloc_ind in zloc:\n",
    "        if zloc_ind[1] == 0:\n",
    "            coe_tmp_z = coe_tmp_z.at([0]).set(jax.lax.scan(zcoe, samples, zloc[zloc_ind])[1].sum())\n",
    "        elif zloc[zloc_ind].shape[0] != 0:\n",
    "            coe_tmp_z = jnp.append(coe_tmp_z, jax.lax.scan(zcoe, samples, zloc[zloc_ind])[1])\n",
    "        else:\n",
    "            coe_tmp_z = jnp.append(coe_tmp_z, 1)\n",
    "    return coe_tmp_y*coe_tmp_z*jnp.concatenate((jnp.array([1]), coe_array), axis=0)"
   ],
   "metadata": {
    "collapsed": false,
    "ExecuteTime": {
     "end_time": "2023-12-10T16:29:46.821241400Z",
     "start_time": "2023-12-10T16:29:46.757935600Z"
    }
   }
  },
  {
   "cell_type": "code",
   "execution_count": 8,
   "outputs": [
    {
     "name": "stdout",
     "output_type": "stream",
     "text": [
      "pauli_array: [[1 3 3 3 3]\n",
      " [1 3 3 3 3]\n",
      " [1 3 3 3 3]\n",
      " [1 3 3 3 3]\n",
      " [1 3 3 3 3]\n",
      " [1 3 3 3 3]\n",
      " [1 3 3 3 3]\n",
      " [1 3 3 3 3]\n",
      " [1 3 3 3 3]\n",
      " [1 3 3 3 3]\n",
      " [1 3 3 3 3]\n",
      " [1 3 3 3 3]\n",
      " [1 3 3 3 3]\n",
      " [1 3 3 3 3]\n",
      " [1 3 3 3 3]\n",
      " [1 3 3 3 3]]\n",
      "loc_array: [[[1. 1.]\n",
      "  [1. 2.]\n",
      "  [2. 1.]\n",
      "  [0. 1.]\n",
      "  [1. 0.]]\n",
      "\n",
      " [[1. 2.]\n",
      "  [1. 3.]\n",
      "  [2. 2.]\n",
      "  [0. 2.]\n",
      "  [1. 1.]]\n",
      "\n",
      " [[1. 3.]\n",
      "  [1. 4.]\n",
      "  [2. 3.]\n",
      "  [0. 3.]\n",
      "  [1. 2.]]\n",
      "\n",
      " [[1. 4.]\n",
      "  [1. 5.]\n",
      "  [2. 4.]\n",
      "  [0. 4.]\n",
      "  [1. 3.]]\n",
      "\n",
      " [[2. 1.]\n",
      "  [2. 2.]\n",
      "  [3. 1.]\n",
      "  [1. 1.]\n",
      "  [2. 0.]]\n",
      "\n",
      " [[2. 2.]\n",
      "  [2. 3.]\n",
      "  [3. 2.]\n",
      "  [1. 2.]\n",
      "  [2. 1.]]\n",
      "\n",
      " [[2. 3.]\n",
      "  [2. 4.]\n",
      "  [3. 3.]\n",
      "  [1. 3.]\n",
      "  [2. 2.]]\n",
      "\n",
      " [[2. 4.]\n",
      "  [2. 5.]\n",
      "  [3. 4.]\n",
      "  [1. 4.]\n",
      "  [2. 3.]]\n",
      "\n",
      " [[3. 1.]\n",
      "  [3. 2.]\n",
      "  [4. 1.]\n",
      "  [2. 1.]\n",
      "  [3. 0.]]\n",
      "\n",
      " [[3. 2.]\n",
      "  [3. 3.]\n",
      "  [4. 2.]\n",
      "  [2. 2.]\n",
      "  [3. 1.]]\n",
      "\n",
      " [[3. 3.]\n",
      "  [3. 4.]\n",
      "  [4. 3.]\n",
      "  [2. 3.]\n",
      "  [3. 2.]]\n",
      "\n",
      " [[3. 4.]\n",
      "  [3. 5.]\n",
      "  [4. 4.]\n",
      "  [2. 4.]\n",
      "  [3. 3.]]\n",
      "\n",
      " [[4. 1.]\n",
      "  [4. 2.]\n",
      "  [5. 1.]\n",
      "  [3. 1.]\n",
      "  [4. 0.]]\n",
      "\n",
      " [[4. 2.]\n",
      "  [4. 3.]\n",
      "  [5. 2.]\n",
      "  [3. 2.]\n",
      "  [4. 1.]]\n",
      "\n",
      " [[4. 3.]\n",
      "  [4. 4.]\n",
      "  [5. 3.]\n",
      "  [3. 3.]\n",
      "  [4. 2.]]\n",
      "\n",
      " [[4. 4.]\n",
      "  [4. 5.]\n",
      "  [5. 4.]\n",
      "  [3. 4.]\n",
      "  [4. 3.]]]\n",
      "xlco_arrays: {(4, 1): Array([[[1., 1.]],\n",
      "\n",
      "       [[1., 2.]],\n",
      "\n",
      "       [[1., 3.]],\n",
      "\n",
      "       [[1., 4.]],\n",
      "\n",
      "       [[2., 1.]],\n",
      "\n",
      "       [[2., 2.]],\n",
      "\n",
      "       [[2., 3.]],\n",
      "\n",
      "       [[2., 4.]],\n",
      "\n",
      "       [[3., 1.]],\n",
      "\n",
      "       [[3., 2.]],\n",
      "\n",
      "       [[3., 3.]],\n",
      "\n",
      "       [[3., 4.]],\n",
      "\n",
      "       [[4., 1.]],\n",
      "\n",
      "       [[4., 2.]],\n",
      "\n",
      "       [[4., 3.]],\n",
      "\n",
      "       [[4., 4.]]], dtype=float32)}\n",
      "yloc_arrays: {(4, 1): Array([], dtype=int32)}\n",
      "zloc: {(4, 1): Array([[[1, 2],\n",
      "        [2, 1],\n",
      "        [0, 1],\n",
      "        [1, 0]],\n",
      "\n",
      "       [[1, 3],\n",
      "        [2, 2],\n",
      "        [0, 2],\n",
      "        [1, 1]],\n",
      "\n",
      "       [[1, 4],\n",
      "        [2, 3],\n",
      "        [0, 3],\n",
      "        [1, 2]],\n",
      "\n",
      "       [[1, 5],\n",
      "        [2, 4],\n",
      "        [0, 4],\n",
      "        [1, 3]],\n",
      "\n",
      "       [[2, 2],\n",
      "        [3, 1],\n",
      "        [1, 1],\n",
      "        [2, 0]],\n",
      "\n",
      "       [[2, 3],\n",
      "        [3, 2],\n",
      "        [1, 2],\n",
      "        [2, 1]],\n",
      "\n",
      "       [[2, 4],\n",
      "        [3, 3],\n",
      "        [1, 3],\n",
      "        [2, 2]],\n",
      "\n",
      "       [[2, 5],\n",
      "        [3, 4],\n",
      "        [1, 4],\n",
      "        [2, 3]],\n",
      "\n",
      "       [[3, 2],\n",
      "        [4, 1],\n",
      "        [2, 1],\n",
      "        [3, 0]],\n",
      "\n",
      "       [[3, 3],\n",
      "        [4, 2],\n",
      "        [2, 2],\n",
      "        [3, 1]],\n",
      "\n",
      "       [[3, 4],\n",
      "        [4, 3],\n",
      "        [2, 3],\n",
      "        [3, 2]],\n",
      "\n",
      "       [[3, 5],\n",
      "        [4, 4],\n",
      "        [2, 4],\n",
      "        [3, 3]],\n",
      "\n",
      "       [[4, 2],\n",
      "        [5, 1],\n",
      "        [3, 1],\n",
      "        [4, 0]],\n",
      "\n",
      "       [[4, 3],\n",
      "        [5, 2],\n",
      "        [3, 2],\n",
      "        [4, 1]],\n",
      "\n",
      "       [[4, 4],\n",
      "        [5, 3],\n",
      "        [3, 3],\n",
      "        [4, 2]],\n",
      "\n",
      "       [[4, 5],\n",
      "        [5, 4],\n",
      "        [3, 4],\n",
      "        [4, 3]]], dtype=int32)}\n"
     ]
    }
   ],
   "source": [
    "from jax import random\n",
    "from jax.random import PRNGKey, randint\n",
    "import numpy as np\n",
    "pauli_array = jnp.repeat(jnp.array([1,3,3,3,3])[None], 16, axis = 0).astype(int)\n",
    "print(\"pauli_array:\", pauli_array)\n",
    "loc_array = jnp.array([[]])\n",
    "for i in range (1, 5):\n",
    "    for j in range (1, 5):\n",
    "        loc_array = jnp.append(loc_array, jnp.array([[i,j],[i,j+1],[i+1,j],[i-1,j], [i, j-1]]))\n",
    "loc_array = loc_array.reshape(16, 5, 2)\n",
    "print(\"loc_array:\", loc_array)\n",
    "xy_loc, yloc, zloc = local_element_indices_2d(5, pauli_array, loc_array)\n",
    "print(\"zloc:\", zloc)"
   ],
   "metadata": {
    "collapsed": false,
    "ExecuteTime": {
     "end_time": "2023-12-10T16:29:47.360883100Z",
     "start_time": "2023-12-10T16:29:47.205973200Z"
    }
   }
  },
  {
   "cell_type": "code",
   "execution_count": 7,
   "outputs": [],
   "source": [
    "import jax.numpy as jnp\n",
    "\n",
    "Ny, Nx = 4, 4  # Define Ny and Nx with assumed values for demonstration\n",
    "\n",
    "# Pre-allocate bulk locations with array operations\n",
    "I, J = jnp.meshgrid(jnp.arange(1, Ny-1), jnp.arange(1, Nx-1), indexing='ij')\n",
    "bulk_coordinates = jnp.stack([I, J, I, J+1, I+1, J, I-1, J, I, J-1], axis=-1)\n",
    "loc_array_bulk = bulk_coordinates.reshape(-1, 5, 2)\n",
    "\n",
    "# Create edges excluding corners\n",
    "edge_top = jnp.stack([jnp.ones(Nx-2), jnp.arange(1, Nx-1)], axis=-1)\n",
    "edge_bottom = jnp.stack([jnp.full((Nx-2,), Ny-1), jnp.arange(1, Nx-1)], axis=-1)\n",
    "edge_left = jnp.stack([jnp.arange(1, Ny-1), jnp.zeros(Ny-2)], axis=-1)\n",
    "edge_right = jnp.stack([jnp.arange(1, Ny-1), jnp.full((Ny-2,), Nx-1)], axis=-1)\n",
    "edges = jnp.concatenate([edge_top, edge_bottom, edge_left, edge_right])\n",
    "loc_array_edge = jnp.repeat(edges[:, None, :], 4, axis=1) # Repeat the edge pattern\n",
    "\n",
    "# Fix the edge coordinates with appropriate values\n",
    "loc_array_edge = loc_array_edge.at[:, 1:, 0].add(1)  # Increment i or j based on direction\n",
    "loc_array_edge = loc_array_edge.at[:, 2, 1].set(0)    # Set j=0 for left edge increments\n",
    "loc_array_edge = loc_array_edge.at[:, 3, 0].set(Ny-1) # Set i=Ny-1 for bottom edge increments\n",
    "loc_array_edge = loc_array_edge.reshape(-1, 4, 2)\n",
    "\n",
    "# Pre-defined corner locations\n",
    "loc_array_corner = jnp.array([[[0,0],[0,1],[1,0]],\n",
    "                              [[0, Nx-1],[0, Nx-2], [1, Nx-1]],\n",
    "                              [[Ny-1, 0],[Ny-1, 1],[Ny-2,0]],\n",
    "                              [[Ny-1, Nx-1],[Ny-1, Nx-2],[Ny-2, Nx-1]]])\n",
    "\n",
    "# Pauli arrays can be created directly since their pattern doesn't depend on Ny or Nx\n",
    "pauli_array_bulk = jnp.tile(jnp.array([[1,3,3,3,3]]), ((Ny-2)*(Nx-2), 1))\n",
    "pauli_array_edge = jnp.tile(jnp.array([[1,3,3,3]]), ((Ny+Nx-4)*2, 1))\n",
    "pauli_array_corner = jnp.tile(jnp.array([[1,3,3]]), (4, 1))\n",
    "\n",
    "# It's assumed local_element_indices_2d function exists and operates on the inputs provided\n",
    "# xy_loc_bulk, yloc_bulk, zloc_bulk = local_element_indices_2d(5, pauli_array_bulk, loc_array_bulk)\n",
    "# xy_loc_edge, yloc_edge, zloc_edge = local_element_indices_2d(4, pauli_array_edge, loc_array_edge)\n",
    "# xy_loc_corner, yloc_corner, zloc_corner = local_element_indices_2d(3, pauli_array_corner, loc_array_corner)\n"
   ],
   "metadata": {
    "collapsed": false,
    "ExecuteTime": {
     "end_time": "2023-11-10T14:10:52.643240600Z",
     "start_time": "2023-11-10T14:10:51.921804100Z"
    }
   }
  },
  {
   "cell_type": "code",
   "execution_count": 94,
   "outputs": [
    {
     "data": {
      "text/plain": "[Array([[1, 1],\n        [2, 2]], dtype=int32),\n Array([[1, 2],\n        [1, 2]], dtype=int32)]"
     },
     "execution_count": 94,
     "metadata": {},
     "output_type": "execute_result"
    }
   ],
   "source": [
    "jnp.meshgrid(jnp.arange(1, Ny-1), jnp.arange(1, Nx-1), indexing='ij')"
   ],
   "metadata": {
    "collapsed": false,
    "ExecuteTime": {
     "end_time": "2023-11-07T07:57:49.527675900Z",
     "start_time": "2023-11-07T07:57:49.484282200Z"
    }
   }
  },
  {
   "cell_type": "code",
   "execution_count": 97,
   "outputs": [],
   "source": [
    "# Add edge coordinates excluding corners for the left and right sides of the grid\n",
    "edge_coordinates = []\n",
    "for i in range(1, Ny - 1):\n",
    "    edge_coordinates.extend([[i, 0], [i, 1], [i + 1, 0], [i - 1, 0]])\n",
    "    edge_coordinates.extend([[i, Nx - 1], [i, Nx - 2], [i + 1, Nx - 1], [i - 1, Nx - 1]])\n",
    "\n",
    "# Add edge coordinates excluding corners for the top and bottom of the grid\n",
    "for j in range(1, Nx - 1):\n",
    "    edge_coordinates.extend([[0, j], [1, j], [0, j - 1], [0, j + 1]])\n",
    "    edge_coordinates.extend([[Ny - 1, j], [Ny - 2, j], [Ny - 1, j - 1], [Ny - 1, j + 1]])\n",
    "\n",
    "# Convert list to a JAX array\n",
    "loc_array_edge = jnp.array(edge_coordinates).reshape(-1, 4, 2)"
   ],
   "metadata": {
    "collapsed": false,
    "ExecuteTime": {
     "end_time": "2023-11-07T08:00:32.215320600Z",
     "start_time": "2023-11-07T08:00:32.117666600Z"
    }
   }
  },
  {
   "cell_type": "code",
   "execution_count": 128,
   "outputs": [
    {
     "ename": "ValueError",
     "evalue": "invalid mode for variance scaling initializer: average",
     "output_type": "error",
     "traceback": [
      "\u001B[1;31m---------------------------------------------------------------------------\u001B[0m",
      "\u001B[1;31mValueError\u001B[0m                                Traceback (most recent call last)",
      "Cell \u001B[1;32mIn[128], line 31\u001B[0m\n\u001B[0;32m     28\u001B[0m     \u001B[38;5;28;01mreturn\u001B[39;00m {\u001B[38;5;124m\"\u001B[39m\u001B[38;5;124mW_\u001B[39m\u001B[38;5;124m\"\u001B[39m \u001B[38;5;241m+\u001B[39m name: W, \u001B[38;5;124m\"\u001B[39m\u001B[38;5;124mb_\u001B[39m\u001B[38;5;124m\"\u001B[39m \u001B[38;5;241m+\u001B[39m name: b, \u001B[38;5;124m\"\u001B[39m\u001B[38;5;124mWg_\u001B[39m\u001B[38;5;124m\"\u001B[39m \u001B[38;5;241m+\u001B[39m name: Wg, \u001B[38;5;124m\"\u001B[39m\u001B[38;5;124mbg_\u001B[39m\u001B[38;5;124m\"\u001B[39m \u001B[38;5;241m+\u001B[39m name: bg, \u001B[38;5;124m\"\u001B[39m\u001B[38;5;124mWmerge_\u001B[39m\u001B[38;5;124m\"\u001B[39m \u001B[38;5;241m+\u001B[39m name: Wmerge}\n\u001B[0;32m     30\u001B[0m \u001B[38;5;66;03m# Use the function to create variables\u001B[39;00m\n\u001B[1;32m---> 31\u001B[0m variables \u001B[38;5;241m=\u001B[39m \u001B[43mcreate_variables\u001B[49m\u001B[43m(\u001B[49m\u001B[38;5;124;43m'\u001B[39;49m\u001B[38;5;124;43mexample\u001B[39;49m\u001B[38;5;124;43m'\u001B[39;49m\u001B[43m,\u001B[49m\u001B[43m \u001B[49m\u001B[43mnum_units\u001B[49m\u001B[38;5;241;43m=\u001B[39;49m\u001B[38;5;241;43m512\u001B[39;49m\u001B[43m,\u001B[49m\u001B[43m \u001B[49m\u001B[43mnum_in\u001B[49m\u001B[38;5;241;43m=\u001B[39;49m\u001B[38;5;241;43m256\u001B[39;49m\u001B[43m,\u001B[49m\u001B[43m \u001B[49m\u001B[43mdtype\u001B[49m\u001B[38;5;241;43m=\u001B[39;49m\u001B[43mjnp\u001B[49m\u001B[38;5;241;43m.\u001B[39;49m\u001B[43mfloat32\u001B[49m\u001B[43m)\u001B[49m\n\u001B[0;32m     33\u001B[0m \u001B[38;5;66;03m# Access variables like this:\u001B[39;00m\n\u001B[0;32m     34\u001B[0m W \u001B[38;5;241m=\u001B[39m variables[\u001B[38;5;124m\"\u001B[39m\u001B[38;5;124mW_example\u001B[39m\u001B[38;5;124m\"\u001B[39m]\n",
      "Cell \u001B[1;32mIn[128], line 22\u001B[0m, in \u001B[0;36mcreate_variables\u001B[1;34m(name, num_units, num_in, dtype)\u001B[0m\n\u001B[0;32m     19\u001B[0m \u001B[38;5;66;03m# Split key for each variable\u001B[39;00m\n\u001B[0;32m     20\u001B[0m W_key, b_key, Wg_key, bg_key, Wmerge_key \u001B[38;5;241m=\u001B[39m random\u001B[38;5;241m.\u001B[39msplit(key, \u001B[38;5;241m5\u001B[39m)\n\u001B[1;32m---> 22\u001B[0m W \u001B[38;5;241m=\u001B[39m \u001B[43mglorot_init\u001B[49m\u001B[43m(\u001B[49m\u001B[43mW_key\u001B[49m\u001B[43m,\u001B[49m\u001B[43m \u001B[49m\u001B[43mW_shape\u001B[49m\u001B[43m,\u001B[49m\u001B[43m \u001B[49m\u001B[43mdtype\u001B[49m\u001B[43m)\u001B[49m\n\u001B[0;32m     23\u001B[0m b \u001B[38;5;241m=\u001B[39m glorot_init(b_key, b_shape, dtype)\n\u001B[0;32m     24\u001B[0m Wg \u001B[38;5;241m=\u001B[39m glorot_init(Wg_key, Wg_shape, dtype)\n",
      "File \u001B[1;32m~\\anaconda3\\lib\\site-packages\\jax\\_src\\nn\\initializers.py:322\u001B[0m, in \u001B[0;36mvariance_scaling.<locals>.init\u001B[1;34m(key, shape, dtype)\u001B[0m\n\u001B[0;32m    320\u001B[0m \u001B[38;5;28;01melif\u001B[39;00m mode \u001B[38;5;241m==\u001B[39m \u001B[38;5;124m\"\u001B[39m\u001B[38;5;124mfan_avg\u001B[39m\u001B[38;5;124m\"\u001B[39m: denominator \u001B[38;5;241m=\u001B[39m (fan_in \u001B[38;5;241m+\u001B[39m fan_out) \u001B[38;5;241m/\u001B[39m \u001B[38;5;241m2\u001B[39m\n\u001B[0;32m    321\u001B[0m \u001B[38;5;28;01melse\u001B[39;00m:\n\u001B[1;32m--> 322\u001B[0m   \u001B[38;5;28;01mraise\u001B[39;00m \u001B[38;5;167;01mValueError\u001B[39;00m(\n\u001B[0;32m    323\u001B[0m     \u001B[38;5;124mf\u001B[39m\u001B[38;5;124m\"\u001B[39m\u001B[38;5;124minvalid mode for variance scaling initializer: \u001B[39m\u001B[38;5;132;01m{\u001B[39;00mmode\u001B[38;5;132;01m}\u001B[39;00m\u001B[38;5;124m\"\u001B[39m)\n\u001B[0;32m    324\u001B[0m variance \u001B[38;5;241m=\u001B[39m jnp\u001B[38;5;241m.\u001B[39marray(scale \u001B[38;5;241m/\u001B[39m denominator, dtype\u001B[38;5;241m=\u001B[39mdtype)\n\u001B[0;32m    326\u001B[0m \u001B[38;5;28;01mif\u001B[39;00m distribution \u001B[38;5;241m==\u001B[39m \u001B[38;5;124m\"\u001B[39m\u001B[38;5;124mtruncated_normal\u001B[39m\u001B[38;5;124m\"\u001B[39m:\n",
      "\u001B[1;31mValueError\u001B[0m: invalid mode for variance scaling initializer: average"
     ]
    }
   ],
   "source": [
    "import jax\n",
    "import jax.numpy as jnp\n",
    "from jax import random\n",
    "\n",
    "def create_variables(name, num_units, num_in, dtype):\n",
    "    key = random.PRNGKey(0)  # You should pass a PRNGKey as an argument for reproducibility\n",
    "\n",
    "    # JAX uses glorot_uniform as the default which is a fan_avg uniform distribution.\n",
    "    # It's equivalent to TensorFlow's VarianceScaling with scale=1.0, mode='fan_avg', distribution='uniform'.\n",
    "    glorot_init = jax.nn.initializers.variance_scaling(1.0, \"average\", \"uniform\")\n",
    "\n",
    "    # Create variables\n",
    "    W_shape = (num_units, 2 * num_units, 2 * num_in)\n",
    "    b_shape = (num_units,)\n",
    "    Wg_shape = (num_units, 2 * num_units, 2 * num_in)\n",
    "    bg_shape = (num_units,)\n",
    "    Wmerge_shape = (2 * num_units, num_units)\n",
    "\n",
    "    # Split key for each variable\n",
    "    W_key, b_key, Wg_key, bg_key, Wmerge_key = random.split(key, 5)\n",
    "\n",
    "    W = glorot_init(W_key, W_shape, dtype)\n",
    "    b = glorot_init(b_key, b_shape, dtype)\n",
    "    Wg = glorot_init(Wg_key, Wg_shape, dtype)\n",
    "    bg = glorot_init(bg_key, bg_shape, dtype)\n",
    "    Wmerge = glorot_init(Wmerge_key, Wmerge_shape, dtype)\n",
    "\n",
    "    return {\"W_\" + name: W, \"b_\" + name: b, \"Wg_\" + name: Wg, \"bg_\" + name: bg, \"Wmerge_\" + name: Wmerge}\n",
    "\n",
    "# Use the function to create variables\n",
    "variables = create_variables('example', num_units=512, num_in=256, dtype=jnp.float32)\n",
    "\n",
    "# Access variables like this:\n",
    "W = variables[\"W_example\"]\n",
    "b = variables[\"b_example\"]\n",
    "Wg = variables[\"Wg_example\"]\n",
    "bg = variables[\"bg_example\"]\n",
    "Wmerge = variables[\"Wmerge_example\"]\n"
   ],
   "metadata": {
    "collapsed": false,
    "ExecuteTime": {
     "end_time": "2023-11-08T09:06:15.593324600Z",
     "start_time": "2023-11-08T09:06:15.179430Z"
    }
   }
  },
  {
   "cell_type": "code",
   "execution_count": 2,
   "outputs": [
    {
     "data": {
      "text/plain": "Array(4, dtype=int32, weak_type=True)"
     },
     "execution_count": 2,
     "metadata": {},
     "output_type": "execute_result"
    }
   ],
   "source": [
    "import jax\n",
    "import jax.numpy as jnp\n",
    "import jax.lax as lax\n",
    "lax.cond(0., lambda x: x+1, lambda x: x+2, 2)"
   ],
   "metadata": {
    "collapsed": false,
    "ExecuteTime": {
     "end_time": "2023-11-10T14:10:33.503613500Z",
     "start_time": "2023-11-10T14:10:32.528254500Z"
    }
   }
  },
  {
   "cell_type": "code",
   "execution_count": 9,
   "outputs": [],
   "source": [
    "def location_pauli_label(loc_array_bulk, loc_array_edge, loc_array_corner):\n",
    "    label_bulk = {}\n",
    "    label_edge = {}\n",
    "    label_corner = {}\n",
    "    # yi, xi : the location to label how many operation is acted on\n",
    "    # y , x : The location of the loc_array that we can use to access the location to label\n",
    "    for yi in range (4):\n",
    "        for xi in range(4):\n",
    "            y = 0\n",
    "            tmp = jnp.array([])\n",
    "            for i in loc_array_bulk:\n",
    "                x = 0\n",
    "                for j in i:\n",
    "                    if (j == jnp.array([yi, xi])).all():\n",
    "                        tmp = jnp.append(tmp, jnp.array([y, x]))\n",
    "                    x += 1\n",
    "                y += 1\n",
    "            label_bulk[yi, xi] = tmp.reshape(-1, 2)\n",
    "    for yi in range (4):\n",
    "        for xi in range(4):\n",
    "            y = 0\n",
    "            tmp = jnp.array([])\n",
    "            for i in loc_array_edge:\n",
    "                x = 0\n",
    "                for j in i:\n",
    "                    if (j == jnp.array([yi, xi])).all():\n",
    "                        tmp = jnp.append(tmp, jnp.array([y, x]))\n",
    "                    x += 1\n",
    "                y += 1\n",
    "            label_edge[yi, xi] = tmp.reshape(-1, 2)\n",
    "    for yi in range (4):\n",
    "        for xi in range(4):\n",
    "            y = 0\n",
    "            tmp = jnp.array([])\n",
    "            for i in loc_array_corner:\n",
    "                x = 0\n",
    "                for j in i:\n",
    "                    if (j == jnp.array([yi, xi])).all():\n",
    "                        tmp = jnp.append(tmp, jnp.array([y, x]))\n",
    "                    x += 1\n",
    "                y += 1\n",
    "            label_corner[yi, xi] = tmp.reshape(-1, 2)\n",
    "    return label_bulk, label_edge, label_corner"
   ],
   "metadata": {
    "collapsed": false,
    "ExecuteTime": {
     "end_time": "2023-11-15T16:10:10.245754Z",
     "start_time": "2023-11-15T16:10:10.236173800Z"
    }
   }
  },
  {
   "cell_type": "code",
   "execution_count": 21,
   "outputs": [],
   "source": [
    "label_bulk, label_edge, label_corner = location_pauli_label(loc_array_bulk, loc_array_edge, loc_array_corner)\n",
    "pauli_array_bulk, pauli_array_edge, pauli_array_corner  = jnp.repeat(jnp.array([1,3,3,3,3])[None], (Ny-2)*(Nx-2), axis=0), jnp.repeat(jnp.array([1,3,3,3])[None], (Ny+Nx-4)*2, axis=0), jnp.repeat(jnp.array([1,3,3])[None], 4, axis=0)\n"
   ],
   "metadata": {
    "collapsed": false,
    "ExecuteTime": {
     "end_time": "2023-11-15T16:59:28.551943400Z",
     "start_time": "2023-11-15T16:59:28.010206600Z"
    }
   }
  },
  {
   "cell_type": "code",
   "execution_count": 55,
   "outputs": [
    {
     "data": {
      "text/plain": "Array([[1, 1, 1, 1, 1],\n       [3, 3, 3, 3, 3],\n       [3, 3, 3, 3, 3],\n       [1, 1, 1, 1, 1]], dtype=int32)"
     },
     "execution_count": 55,
     "metadata": {},
     "output_type": "execute_result"
    }
   ],
   "source": [
    "pauli_array_bulk"
   ],
   "metadata": {
    "collapsed": false,
    "ExecuteTime": {
     "end_time": "2023-11-15T18:06:53.816624500Z",
     "start_time": "2023-11-15T18:06:53.763305400Z"
    }
   }
  },
  {
   "cell_type": "code",
   "execution_count": 56,
   "outputs": [
    {
     "ename": "TypeError",
     "evalue": "'ArrayImpl' object is not callable",
     "output_type": "error",
     "traceback": [
      "\u001B[1;31m---------------------------------------------------------------------------\u001B[0m",
      "\u001B[1;31mTypeError\u001B[0m                                 Traceback (most recent call last)",
      "Cell \u001B[1;32mIn[56], line 5\u001B[0m\n\u001B[0;32m      3\u001B[0m pauli_array_corner \u001B[38;5;241m=\u001B[39m jnp\u001B[38;5;241m.\u001B[39mrepeat(jnp\u001B[38;5;241m.\u001B[39marray([\u001B[38;5;241m1\u001B[39m,\u001B[38;5;241m3\u001B[39m,\u001B[38;5;241m3\u001B[39m])[\u001B[38;5;28;01mNone\u001B[39;00m], \u001B[38;5;241m4\u001B[39m, axis\u001B[38;5;241m=\u001B[39m\u001B[38;5;241m0\u001B[39m)\n\u001B[0;32m      4\u001B[0m \u001B[38;5;66;03m# The location that each Hamiltonian term acts on\u001B[39;00m\n\u001B[1;32m----> 5\u001B[0m loc_array_bulk, loc_array_edge, loc_array_corner \u001B[38;5;241m=\u001B[39m \u001B[43mloc_array\u001B[49m\u001B[43m(\u001B[49m\u001B[38;5;241;43m4\u001B[39;49m\u001B[43m,\u001B[49m\u001B[43m \u001B[49m\u001B[38;5;241;43m4\u001B[39;49m\u001B[43m)\u001B[49m\n\u001B[0;32m      6\u001B[0m \u001B[38;5;66;03m# We group the location that each Hamiltonian term acts on according to how many x,y,z they have in each term\u001B[39;00m\n\u001B[0;32m      7\u001B[0m xy_loc_bulk, yloc_bulk, zloc_bulk \u001B[38;5;241m=\u001B[39m local_element_indices_2d(\u001B[38;5;241m5\u001B[39m, pauli_array_bulk, loc_array_bulk)\n",
      "\u001B[1;31mTypeError\u001B[0m: 'ArrayImpl' object is not callable"
     ]
    }
   ],
   "source": [
    "pauli_array_bulk = jnp.repeat(jnp.array([1,3,3,3,3])[None], (Ny-2)*(Nx-2), axis=0)\n",
    "pauli_array_edge = jnp.repeat(jnp.array([1,3,3,3])[None], (Ny+Nx-4)*2, axis=0)\n",
    "pauli_array_corner = jnp.repeat(jnp.array([1,3,3])[None], 4, axis=0)\n",
    "# The location that each Hamiltonian term acts on\n",
    "loc_array_bulk, loc_array_edge, loc_array_corner = loc_array(4, 4)\n",
    "# We group the location that each Hamiltonian term acts on according to how many x,y,z they have in each term\n",
    "xy_loc_bulk, yloc_bulk, zloc_bulk = local_element_indices_2d(5, pauli_array_bulk, loc_array_bulk)\n",
    "xy_loc_edge, yloc_edge, zloc_edge = local_element_indices_2d(4, pauli_array_edge, loc_array_edge)\n",
    "xy_loc_corner, yloc_corner, zloc_corner = local_element_indices_2d(3, pauli_array_corner, loc_array_corner)\n",
    "# label_xxx[y, x] is a dict datatype and it is the location of loc_array_xxx such that pauli_array_bulk.at[label[i][:,0].astype(int), label[i][:,1].astype(int)] will\n",
    "# show the pauli matrix that acts on lattice location\n",
    "label_bulk, label_edge, label_corner = location_pauli_label(loc_array_bulk, loc_array_edge, loc_array_corner)\n",
    "for i in label_bulk:\n",
    "    pauli_array_bulk = pauli_array_bulk.at[label_bulk[i][:,0].astype(int), label_bulk[i][:,1].astype(int)].set(-pauli_array_bulk[label_bulk[i][:,0].astype(int), label_bulk[i][:,1].astype(int)]+4)\n",
    "for i in label_edge:\n",
    "    pauli_array_edge = pauli_array_edge.at[label_edge[i][:,0].astype(int), label_edge[i][:,1].astype(int)].set(-pauli_array_edge[label_edge[i][:,0].astype(int), label_edge[i][:,1].astype(int)]+4)\n",
    "for i in label_corner:\n",
    "    pauli_array_corner = pauli_array_corner.at[label_corner[i][:,0].astype(int), label_corner[i][:,1].astype(int)].set(-pauli_array_corner[label_corner[i][:,0].astype(int), label_corner[i][:,1].astype(int)]+4)\n"
   ],
   "metadata": {
    "collapsed": false,
    "ExecuteTime": {
     "end_time": "2023-11-15T18:08:53.094058900Z",
     "start_time": "2023-11-15T18:08:52.991810100Z"
    }
   }
  },
  {
   "cell_type": "code",
   "execution_count": 27,
   "outputs": [
    {
     "data": {
      "text/plain": "Array([[3, 1, 1],\n       [3, 1, 1],\n       [3, 1, 1],\n       [3, 1, 1]], dtype=int32)"
     },
     "execution_count": 27,
     "metadata": {},
     "output_type": "execute_result"
    }
   ],
   "source": [
    "pauli_array_corner"
   ],
   "metadata": {
    "collapsed": false,
    "ExecuteTime": {
     "end_time": "2023-11-10T14:19:07.021984300Z",
     "start_time": "2023-11-10T14:19:07.002131Z"
    }
   }
  },
  {
   "cell_type": "code",
   "execution_count": 19,
   "outputs": [],
   "source": [
    "def loc_array(Ny, Nx):\n",
    "    I, J = jnp.meshgrid(jnp.arange(1, Ny - 1), jnp.arange(1, Nx - 1), indexing='ij')\n",
    "    bulk_coordinates = jnp.stack([I, J, I, J + 1, I + 1, J, I - 1, J, I, J - 1], axis=-1)\n",
    "    loc_array_bulk = bulk_coordinates.reshape(-1, 5, 2)\n",
    "\n",
    "    # Add edge coordinates excluding corners for the left and right sides of the grid\n",
    "    edge_coordinates = []\n",
    "    for i in range(1, Ny - 1):\n",
    "        edge_coordinates.extend([[i, 0], [i, 1], [i + 1, 0], [i - 1, 0]])\n",
    "        edge_coordinates.extend([[i, Nx - 1], [i, Nx - 2], [i + 1, Nx - 1], [i - 1, Nx - 1]])\n",
    "\n",
    "    # Add edge coordinates excluding corners for the top and bottom of the grid\n",
    "    for j in range(1, Nx - 1):\n",
    "        edge_coordinates.extend([[0, j], [1, j], [0, j - 1], [0, j + 1]])\n",
    "        edge_coordinates.extend([[Ny - 1, j], [Ny - 2, j], [Ny - 1, j - 1], [Ny - 1, j + 1]])\n",
    "\n",
    "    # Convert list to a JAX array\n",
    "    loc_array_edge = jnp.array(edge_coordinates).reshape(-1, 4, 2)\n",
    "\n",
    "    loc_array_corner = jnp.array([[[0, 0], [0, 1], [1, 0]],\n",
    "                                  [[0, Nx - 1], [0, Nx - 2], [1, Nx - 1]],\n",
    "                                  [[Ny - 1, 0], [Ny - 1, 1], [Ny - 2, 0]],\n",
    "                                  [[Ny - 1, Nx - 1], [Ny - 1, Nx - 2], [Ny - 2, Nx - 1]]])\n",
    "    return loc_array_bulk, loc_array_edge, loc_array_corner"
   ],
   "metadata": {
    "collapsed": false,
    "ExecuteTime": {
     "end_time": "2023-11-10T14:17:47.301319900Z",
     "start_time": "2023-11-10T14:17:47.263191100Z"
    }
   }
  },
  {
   "cell_type": "code",
   "execution_count": 42,
   "outputs": [],
   "source": [
    "import jax\n",
    "from jax.random import PRNGKey\n",
    "p = jax.random.uniform(PRNGKey(1), jnp.array([1]), float, 0 , 1)"
   ],
   "metadata": {
    "collapsed": false,
    "ExecuteTime": {
     "end_time": "2023-11-11T00:58:09.159490800Z",
     "start_time": "2023-11-11T00:58:09.127596200Z"
    }
   }
  },
  {
   "cell_type": "code",
   "execution_count": 30,
   "outputs": [],
   "source": [
    "from jax.random import split, PRNGKey\n",
    "import jax\n",
    "import jax.numpy as jnp\n",
    "Ny, Nx = 6, 6\n",
    "key = PRNGKey(0)\n",
    "pauli_array_bulk = jnp.repeat(jnp.array([1, 3, 3, 3, 3])[None], (Ny - 2) * (Nx - 2), axis=0)\n",
    "pauli_array_edge = jnp.repeat(jnp.array([1, 3, 3, 3])[None], (Ny + Nx - 4) * 2, axis=0)\n",
    "pauli_array_corner = jnp.repeat(jnp.array([1, 3, 3])[None], 4, axis=0)\n",
    "# The location that each Hamiltonian term acts on\n",
    "loc_array_bulk, loc_array_edge, loc_array_corner = loc_array(Ny, Nx)\n",
    "# label_xxx[y, x] is a dict datatype and it is the location of loc_array_xxx such that pauli_array_bulk.at[label[i][:,0].astype(int), label[i][:,1].astype(int)] will\n",
    "# show the pauli matrix that acts on lattice location\n",
    "label_bulk, label_edge, label_corner = location_pauli_label(loc_array_bulk, loc_array_edge, loc_array_corner, Ny, Nx)\n",
    "for i in label_bulk:\n",
    "    key, subkey = split(key, 2)\n",
    "    p = jax.random.uniform(subkey, jnp.array([1]), float, 0 , 1)\n",
    "    if p>0.5:\n",
    "        pauli_array_bulk = pauli_array_bulk.at[label_bulk[i][:,0].astype(int), label_bulk[i][:,1].astype(int)].set(-pauli_array_bulk[label_bulk[i][:,0].astype(int), label_bulk[i][:,1].astype(int)]+4)\n",
    "for i in label_edge:\n",
    "    key, subkey = split(key, 2)\n",
    "    p = jax.random.uniform(subkey, jnp.array([1]), float, 0, 1)\n",
    "    if p > 0.5:\n",
    "        pauli_array_edge = pauli_array_edge.at[label_edge[i][:,0].astype(int), label_edge[i][:,1].astype(int)].set(-pauli_array_edge[label_edge[i][:,0].astype(int), label_edge[i][:,1].astype(int)]+4)\n",
    "for i in label_corner:\n",
    "    key, subkey = split(key, 2)\n",
    "    p = jax.random.uniform(subkey, jnp.array([1]), float, 0, 1)\n",
    "    if p > 0.5:\n",
    "        pauli_array_corner = pauli_array_corner.at[label_corner[i][:,0].astype(int), label_corner[i][:,1].astype(int)].set(-pauli_array_corner[label_corner[i][:,0].astype(int), label_corner[i][:,1].astype(int)]+4)\n",
    "\n",
    "# We group the location that each Hamiltonian term acts on according to how many x,y,z they have in each term\n",
    "xy_loc_bulk, yloc_bulk, zloc_bulk = local_element_indices_2d(5, pauli_array_bulk, loc_array_bulk)\n",
    "xy_loc_edge, yloc_edge, zloc_edge = local_element_indices_2d(4, pauli_array_edge, loc_array_edge)\n",
    "xy_loc_corner, yloc_corner, zloc_corner = local_element_indices_2d(3, pauli_array_corner, loc_array_corner)\n"
   ],
   "metadata": {
    "collapsed": false,
    "ExecuteTime": {
     "end_time": "2023-11-11T07:21:27.735019Z",
     "start_time": "2023-11-11T07:21:23.521879900Z"
    }
   }
  },
  {
   "cell_type": "code",
   "execution_count": 31,
   "outputs": [
    {
     "name": "stdout",
     "output_type": "stream",
     "text": [
      "(1, 4)\n",
      "(2, 3)\n",
      "(3, 2)\n"
     ]
    }
   ],
   "source": [
    "basis_count = 0\n",
    "diag_count = 0\n",
    "\n",
    "for i in xy_loc_bulk:\n",
    "    print(i)\n",
    "    if i[1] != 0:\n",
    "        basis_count += xy_loc_bulk[i].shape[0]\n",
    "    else:\n",
    "        diag_count = 1\n",
    "for i in xy_loc_edge:\n",
    "    if i[1] != 0:\n",
    "        basis_count += xy_loc_edge[i].shape[0]\n",
    "    else:\n",
    "        diag_count = 1\n",
    "for i in xy_loc_corner:\n",
    "    if i[1] != 0:\n",
    "        basis_count += xy_loc_corner[i].shape[0]\n",
    "    else:\n",
    "        diag_count = 1\n",
    "\n",
    "if (5, 0) in xy_loc_bulk:\n",
    "    del xy_loc_bulk[(5, 0)]\n",
    "if (4, 0) in xy_loc_edge:\n",
    "    del xy_loc_edge[(4, 0)]\n",
    "if (3, 0) in xy_loc_corner:\n",
    "    del xy_loc_corner[(3, 0)]\n"
   ],
   "metadata": {
    "collapsed": false,
    "ExecuteTime": {
     "end_time": "2023-11-11T07:21:27.828813300Z",
     "start_time": "2023-11-11T07:21:27.754499900Z"
    }
   }
  },
  {
   "cell_type": "code",
   "execution_count": 32,
   "outputs": [
    {
     "name": "stdout",
     "output_type": "stream",
     "text": [
      "{(0, 3): Array([[[0, 5],\n",
      "        [0, 4],\n",
      "        [1, 5]]], dtype=int32), (1, 2): Array([[[0, 0],\n",
      "        [1, 0]]], dtype=int32), (2, 1): Array([[[4, 5]]], dtype=int32)}\n"
     ]
    }
   ],
   "source": [
    "print(xy_loc_corner)"
   ],
   "metadata": {
    "collapsed": false,
    "ExecuteTime": {
     "end_time": "2023-11-11T07:21:29.643877300Z",
     "start_time": "2023-11-11T07:21:29.607357200Z"
    }
   }
  },
  {
   "cell_type": "code",
   "execution_count": 33,
   "outputs": [
    {
     "data": {
      "text/plain": "<function __main__.<lambda>(x)>"
     },
     "execution_count": 33,
     "metadata": {},
     "output_type": "execute_result"
    }
   ],
   "source": [
    "lambda x: 1\n"
   ],
   "metadata": {
    "collapsed": false,
    "ExecuteTime": {
     "end_time": "2023-11-11T08:20:50.739249800Z",
     "start_time": "2023-11-11T08:20:50.646987800Z"
    }
   }
  },
  {
   "cell_type": "code",
   "execution_count": 4,
   "outputs": [],
   "source": [
    "label_bulk = {}\n",
    "label_edge = {}\n",
    "label_corner = {}\n",
    "# yi, xi : the location to label how many operation is acted on\n",
    "# y , x : The location of the loc_array that we can use to access the location to label\n",
    "for yi in range (Ny):\n",
    "    for xi in range(Nx):\n",
    "        y = 0\n",
    "        tmp = jnp.array([])\n",
    "        for i in loc_array_bulk:\n",
    "            x = 0\n",
    "            for j in i:\n",
    "                if (j == jnp.array([yi, xi])).all():\n",
    "                    tmp = jnp.append(tmp, jnp.array([y, x]))\n",
    "                x += 1\n",
    "            y += 1\n",
    "        label_bulk[yi, xi] = tmp.reshape(-1, 2)\n",
    "for yi in range (Ny):\n",
    "    for xi in range(Nx):\n",
    "        y = 0\n",
    "        tmp = jnp.array([])\n",
    "        for i in loc_array_edge:\n",
    "            x = 0\n",
    "            for j in i:\n",
    "                if (j == jnp.array([yi, xi])).all():\n",
    "                    tmp = jnp.append(tmp, jnp.array([y, x]))\n",
    "                x += 1\n",
    "            y += 1\n",
    "        label_edge[yi, xi] = tmp.reshape(-1, 2)\n",
    "for yi in range (Ny):\n",
    "    for xi in range(Nx):\n",
    "        y = 0\n",
    "        tmp = jnp.array([])\n",
    "        for i in loc_array_corner:\n",
    "            x = 0\n",
    "            for j in i:\n",
    "                if (j == jnp.array([yi, xi])).all():\n",
    "                    tmp = jnp.append(tmp, jnp.array([y, x]))\n",
    "                x += 1\n",
    "            y += 1\n",
    "        label_corner[yi, xi] = tmp.reshape(-1, 2)"
   ],
   "metadata": {
    "collapsed": false,
    "ExecuteTime": {
     "end_time": "2023-12-12T09:16:45.341888500Z",
     "start_time": "2023-12-12T09:16:43.071465Z"
    }
   }
  },
  {
   "cell_type": "code",
   "execution_count": 7,
   "outputs": [
    {
     "name": "stdout",
     "output_type": "stream",
     "text": [
      "(0, 0) []\n",
      "(0, 1) [[0. 4.]]\n",
      "(0, 2) [[1. 4.]]\n",
      "(0, 3) []\n",
      "(1, 0) [[0. 3.]]\n",
      "(1, 1) [[0. 0.]\n",
      " [1. 3.]\n",
      " [2. 4.]]\n",
      "(1, 2) [[0. 1.]\n",
      " [1. 0.]\n",
      " [3. 4.]]\n",
      "(1, 3) [[1. 1.]]\n",
      "(2, 0) [[2. 3.]]\n",
      "(2, 1) [[0. 2.]\n",
      " [2. 0.]\n",
      " [3. 3.]]\n",
      "(2, 2) [[1. 2.]\n",
      " [2. 1.]\n",
      " [3. 0.]]\n",
      "(2, 3) [[3. 1.]]\n",
      "(3, 0) []\n",
      "(3, 1) [[2. 2.]]\n",
      "(3, 2) [[3. 2.]]\n",
      "(3, 3) []\n"
     ]
    }
   ],
   "source": [
    "for i in label_bulk:\n",
    "    print(i, label_bulk[i])"
   ],
   "metadata": {
    "collapsed": false,
    "ExecuteTime": {
     "end_time": "2023-12-12T09:18:22.073369300Z",
     "start_time": "2023-12-12T09:18:21.978468900Z"
    }
   }
  },
  {
   "cell_type": "code",
   "execution_count": 5,
   "outputs": [
    {
     "name": "stdout",
     "output_type": "stream",
     "text": [
      "(0, 0) [] [3 3] [1]\n",
      "(0, 1) [3] [1 3] [3]\n",
      "(0, 2) [3] [3 1] [3]\n",
      "(0, 3) [] [3 3] [1]\n",
      "(1, 0) [3] [1 3] [3]\n",
      "(1, 1) [1 3 3] [3 3] []\n",
      "(1, 2) [3 1 3] [3 3] []\n",
      "(1, 3) [3] [1 3] [3]\n",
      "(2, 0) [3] [3 1] [3]\n",
      "(2, 1) [3 1 3] [3 3] []\n",
      "(2, 2) [3 3 1] [3 3] []\n",
      "(2, 3) [3] [3 1] [3]\n",
      "(3, 0) [] [3 3] [1]\n",
      "(3, 1) [3] [1 3] [3]\n",
      "(3, 2) [3] [3 1] [3]\n",
      "(3, 3) [] [3 3] [1]\n"
     ]
    }
   ],
   "source": [
    "for i in label_bulk:\n",
    "    print(i , pauli_array_bulk[label_bulk[i][:,0].astype(int), label_bulk[i][:,1].astype(int)], pauli_array_edge[label_edge[i][:, 0].astype(int), label_edge[i][:, 1].astype(int)], pauli_array_corner[label_corner[i][:, 0].astype(int), label_corner[i][:, 1].astype(int)])"
   ],
   "metadata": {
    "collapsed": false,
    "ExecuteTime": {
     "end_time": "2023-12-12T09:16:51.941522900Z",
     "start_time": "2023-12-12T09:16:49.240743100Z"
    }
   }
  },
  {
   "cell_type": "code",
   "execution_count": 66,
   "outputs": [],
   "source": [
    "for i in label_bulk:\n",
    "    if (sum(i)%2==1):\n",
    "        pauli_array_bulk = pauli_array_bulk.at[\n",
    "            label_bulk[i][:, 0].astype(int), label_bulk[i][:, 1].astype(int)].set(\n",
    "            -pauli_array_bulk[label_bulk[i][:, 0].astype(int), label_bulk[i][:, 1].astype(int)] + 4)\n",
    "        pauli_array_edge = pauli_array_edge.at[\n",
    "            label_edge[i][:, 0].astype(int), label_edge[i][:, 1].astype(int)].set(\n",
    "            -pauli_array_edge[label_edge[i][:, 0].astype(int), label_edge[i][:, 1].astype(int)] + 4)\n",
    "        pauli_array_corner = pauli_array_corner.at[\n",
    "            label_corner[i][:, 0].astype(int), label_corner[i][:, 1].astype(int)].set(\n",
    "            -pauli_array_corner[label_corner[i][:, 0].astype(int), label_corner[i][:, 1].astype(int)] + 4)"
   ],
   "metadata": {
    "collapsed": false,
    "ExecuteTime": {
     "end_time": "2023-11-15T18:12:13.819376300Z",
     "start_time": "2023-11-15T18:12:13.596687100Z"
    }
   }
  },
  {
   "cell_type": "code",
   "execution_count": 45,
   "outputs": [
    {
     "name": "stdout",
     "output_type": "stream",
     "text": [
      "(0, 0) [] [3 3] [1]\n",
      "(0, 1) [1] [3 1] [1]\n",
      "(0, 2) [3] [3 1] [3]\n",
      "(0, 3) [] [1 1] [3]\n",
      "(1, 0) [1] [3 1] [1]\n",
      "(1, 1) [1 3 3] [3 3] []\n",
      "(1, 2) [1 3 1] [1 1] []\n",
      "(1, 3) [3] [1 3] [3]\n",
      "(2, 0) [3] [3 1] [3]\n",
      "(2, 1) [1 3 1] [1 1] []\n",
      "(2, 2) [3 3 1] [3 3] []\n",
      "(2, 3) [1] [1 3] [1]\n",
      "(3, 0) [] [1 1] [3]\n",
      "(3, 1) [3] [1 3] [3]\n",
      "(3, 2) [1] [1 3] [1]\n",
      "(3, 3) [] [3 3] [1]\n"
     ]
    }
   ],
   "source": [
    "for i in label_bulk:\n",
    "    print(i , pauli_array_bulk[label_bulk[i][:,0].astype(int), label_bulk[i][:,1].astype(int)], pauli_array_edge[label_edge[i][:, 0].astype(int), label_edge[i][:, 1].astype(int)], pauli_array_corner[label_corner[i][:, 0].astype(int), label_corner[i][:, 1].astype(int)])"
   ],
   "metadata": {
    "collapsed": false,
    "ExecuteTime": {
     "end_time": "2023-11-15T17:48:53.841262500Z",
     "start_time": "2023-11-15T17:48:53.533167300Z"
    }
   }
  },
  {
   "cell_type": "code",
   "execution_count": 48,
   "outputs": [
    {
     "data": {
      "text/plain": "Array([[1, 1, 1],\n       [3, 3, 3],\n       [3, 3, 3],\n       [1, 1, 1]], dtype=int32)"
     },
     "execution_count": 48,
     "metadata": {},
     "output_type": "execute_result"
    }
   ],
   "source": [
    "pauli_array_corner"
   ],
   "metadata": {
    "collapsed": false,
    "ExecuteTime": {
     "end_time": "2023-11-15T17:52:30.174879500Z",
     "start_time": "2023-11-15T17:52:30.109759600Z"
    }
   }
  },
  {
   "cell_type": "code",
   "execution_count": 11,
   "outputs": [
    {
     "name": "stdout",
     "output_type": "stream",
     "text": [
      "[[1 3 3 3 3]\n",
      " [1 3 3 3 3]\n",
      " [1 3 3 3 3]\n",
      " [1 3 3 3 3]]\n",
      "zloc_bulk: {(4, 1): Array([[[1, 2],\n",
      "        [2, 1],\n",
      "        [1, 0],\n",
      "        [0, 1]],\n",
      "\n",
      "       [[1, 3],\n",
      "        [2, 2],\n",
      "        [1, 1],\n",
      "        [0, 2]],\n",
      "\n",
      "       [[2, 2],\n",
      "        [3, 1],\n",
      "        [2, 0],\n",
      "        [1, 1]],\n",
      "\n",
      "       [[2, 3],\n",
      "        [3, 2],\n",
      "        [2, 1],\n",
      "        [1, 2]]], dtype=int32)}\n"
     ]
    }
   ],
   "source": [
    "def off_diag_count(xy_loc_bulk, xy_loc_edge, xy_loc_corner):\n",
    "    off_diag_bulk_count, off_diag_edge_count, off_diag_corner_count = 0, 0, 0\n",
    "    for i in xy_loc_bulk:\n",
    "        if i[1] != 0:\n",
    "            off_diag_bulk_count += xy_loc_bulk[i].shape[0]\n",
    "        else:\n",
    "            diag_bulk_count = 1\n",
    "    for i in xy_loc_edge:\n",
    "        if i[1] != 0:\n",
    "            off_diag_edge_count += xy_loc_edge[i].shape[0]\n",
    "        else:\n",
    "            diag_edge_count = 1\n",
    "    for i in xy_loc_corner:\n",
    "        if i[1] != 0:\n",
    "            off_diag_corner_count += xy_loc_corner[i].shape[0]\n",
    "        else:\n",
    "            diag_corner_count = 1\n",
    "    return off_diag_bulk_count, off_diag_edge_count, off_diag_corner_count\n",
    "print(pauli_array_bulk)\n",
    "xy_loc_bulk, yloc_bulk, zloc_bulk = local_element_indices_2d(5, pauli_array_bulk, loc_array_bulk)\n",
    "xy_loc_edge, yloc_edge, zloc_edge = local_element_indices_2d(4, pauli_array_edge, loc_array_edge)\n",
    "xy_loc_corner, yloc_corner, zloc_corner = local_element_indices_2d(3, pauli_array_corner, loc_array_corner)\n",
    "\n",
    "print(\"zloc_bulk:\", zloc_bulk)\n",
    "off_diag_bulk_count, off_diag_edge_count, off_diag_corner_count= off_diag_count(xy_loc_bulk, xy_loc_edge, xy_loc_corner)\n",
    "zloc_bulk_diag, zloc_edge_diag, zloc_corner_diag = jnp.array([]), jnp.array([]), jnp.array([])\n",
    "coe_bulk_diag, coe_edge_diag, coe_corner_diag = jnp.array([]), jnp.array([]), jnp.array([])\n",
    "\n",
    "if (5, 0) in xy_loc_bulk:\n",
    "    print(\"yes\")\n",
    "    if zloc_bulk[(5, 0)].size!=0:\n",
    "        print(\"yes\")\n",
    "        zloc_bulk_diag = zloc_bulk[(5, 0)]     #label the diagonal term by zloc_bulk_diag\n",
    "        coe_bulk_diag = -jnp.ones(zloc_bulk_diag.shape[0]) #Here is the coefficient for the diagonal term. We can change it later if we want\n",
    "    del xy_loc_bulk[(5, 0)]\n",
    "    del yloc_bulk[(5, 0)]\n",
    "    del zloc_bulk[(5, 0)]\n",
    "if (4, 0) in xy_loc_edge:\n",
    "    if z_loc_edge[(4, 0)].size!=0:\n",
    "        zloc_edge_diag = zloc_edge[(4, 0)]\n",
    "        coe_edge_diag = -jnp.ones(zloc_edge_diag.shape[0])\n",
    "    del xy_loc_edge[(4, 0)]\n",
    "    del yloc_edge[(4, 0)]\n",
    "    del zloc_edge[(4, 0)]\n",
    "if (3, 0) in xy_loc_corner:\n",
    "    if xy_loc_corner[(3, 0)].size!=0:\n",
    "        zloc_corner_diag = zloc_corner[(3, 0)]\n",
    "        coe_corner_diag = -jnp.ones(zloc_corner_diag.shape[0])\n",
    "    del xy_loc_corner[(3, 0)]\n",
    "    del yloc_corner[(3, 0)]\n",
    "    del zloc_corner[(3, 0)]\n"
   ],
   "metadata": {
    "collapsed": false,
    "ExecuteTime": {
     "end_time": "2023-12-12T09:45:18.355636400Z",
     "start_time": "2023-12-12T09:45:14.819167400Z"
    }
   }
  },
  {
   "cell_type": "code",
   "execution_count": 79,
   "outputs": [
    {
     "name": "stdout",
     "output_type": "stream",
     "text": [
      "[[[1 2]\n",
      "  [1 3]\n",
      "  [2 2]\n",
      "  [1 1]\n",
      "  [0 2]]\n",
      "\n",
      " [[2 1]\n",
      "  [2 2]\n",
      "  [3 1]\n",
      "  [2 0]\n",
      "  [1 1]]]\n"
     ]
    }
   ],
   "source": [
    "print(zloc_bulk_diag)"
   ],
   "metadata": {
    "collapsed": false,
    "ExecuteTime": {
     "end_time": "2023-11-15T18:15:59.585546800Z",
     "start_time": "2023-11-15T18:15:59.513528100Z"
    }
   }
  },
  {
   "cell_type": "code",
   "execution_count": 49,
   "outputs": [],
   "source": [
    "@jax.jit\n",
    "def diag_coe(samples, zloc_bulk_diag, zloc_edge_diag, zloc_corner_diag, coe_bulk_diag, coe_edge_diag, coe_corner_diag):\n",
    "    def scan_z(samples, z_array):\n",
    "        return ((-1) ** samples[z_array[:, 0], z_array[:, 1]]).prod()\n",
    "    vmap_scan_z = vmap(scan_z, (None, 0))\n",
    "    coe_bulk = (vmap_scan_z(samples, zloc_bulk_diag)*coe_bulk_diag).sum() if zloc_bulk_diag.size!=0 else 0\n",
    "    coe_edge = (vmap_scan_z(samples, zloc_edge_diag)*coe_edge_diag).sum() if zloc_edge_diag.size!=0 else 0\n",
    "    coe_corner = (vmap_scan_z(samples, zloc_corner_diag)*coe_corner_diag).sum() if zloc_corner_diag.size!=0 else 0\n",
    "    return coe_bulk+coe_edge+coe_corner"
   ],
   "metadata": {
    "collapsed": false,
    "ExecuteTime": {
     "end_time": "2023-11-15T18:03:47.674540800Z",
     "start_time": "2023-11-15T18:03:47.625039300Z"
    }
   }
  },
  {
   "cell_type": "code",
   "execution_count": 14,
   "outputs": [
    {
     "data": {
      "text/plain": "Array([[1, 1, 1, 1, 1],\n       [1, 1, 1, 1, 1],\n       [1, 1, 1, 1, 3],\n       [1, 1, 1, 1, 3],\n       [1, 1, 1, 3, 1],\n       [1, 1, 1, 3, 1],\n       [1, 1, 1, 3, 3],\n       [1, 1, 1, 3, 3],\n       [1, 1, 3, 1, 1],\n       [1, 1, 3, 1, 1],\n       [1, 1, 3, 1, 3],\n       [1, 1, 3, 1, 3],\n       [1, 1, 3, 3, 1],\n       [1, 1, 3, 3, 1],\n       [1, 1, 3, 3, 3],\n       [1, 1, 3, 3, 3],\n       [1, 3, 1, 1, 1],\n       [1, 3, 1, 1, 1],\n       [1, 3, 1, 1, 3],\n       [1, 3, 1, 1, 3],\n       [1, 3, 1, 3, 1],\n       [1, 3, 1, 3, 1],\n       [1, 3, 1, 3, 3],\n       [1, 3, 1, 3, 3],\n       [1, 3, 3, 1, 1],\n       [1, 3, 3, 1, 1],\n       [1, 3, 3, 1, 3],\n       [1, 3, 3, 1, 3],\n       [1, 3, 3, 3, 1],\n       [1, 3, 3, 3, 1],\n       [1, 3, 3, 3, 3],\n       [1, 3, 3, 3, 3],\n       [3, 1, 1, 1, 1],\n       [3, 1, 1, 1, 1],\n       [3, 1, 1, 1, 3],\n       [3, 1, 1, 1, 3],\n       [3, 1, 1, 3, 1],\n       [3, 1, 1, 3, 1],\n       [3, 1, 1, 3, 3],\n       [3, 1, 1, 3, 3],\n       [3, 1, 3, 1, 1],\n       [3, 1, 3, 1, 1],\n       [3, 1, 3, 1, 3],\n       [3, 1, 3, 1, 3],\n       [3, 1, 3, 3, 1],\n       [3, 1, 3, 3, 1],\n       [3, 1, 3, 3, 3],\n       [3, 1, 3, 3, 3],\n       [3, 3, 1, 1, 1],\n       [3, 3, 1, 1, 1],\n       [3, 3, 1, 1, 3],\n       [3, 3, 1, 1, 3],\n       [3, 3, 1, 3, 1],\n       [3, 3, 1, 3, 1],\n       [3, 3, 1, 3, 3],\n       [3, 3, 1, 3, 3],\n       [3, 3, 3, 1, 1],\n       [3, 3, 3, 1, 1],\n       [3, 3, 3, 1, 3],\n       [3, 3, 3, 1, 3],\n       [3, 3, 3, 3, 1],\n       [3, 3, 3, 3, 1],\n       [3, 3, 3, 3, 3],\n       [3, 3, 3, 3, 3]], dtype=int32)"
     },
     "execution_count": 14,
     "metadata": {},
     "output_type": "execute_result"
    }
   ],
   "source": [
    "import itertools\n",
    "import jax.numpy as jnp\n",
    "\n",
    "# Define the two sets\n",
    "set1 = [1, 1, 1, 1, 1]\n",
    "set2 = [3, 3, 3, 3, 3]\n",
    "\n",
    "# Generate all combinations\n",
    "combinations = list(itertools.product(*zip(set1, set2)))\n",
    "\n",
    "# Convert to JAX array\n",
    "jax_combinations = jnp.array(combinations)\n",
    "\n",
    "pauljnp.repeat(jax_combinations, 2, axis=0)\n"
   ],
   "metadata": {
    "collapsed": false,
    "ExecuteTime": {
     "end_time": "2023-12-12T11:00:28.861348300Z",
     "start_time": "2023-12-12T11:00:28.759948Z"
    }
   }
  },
  {
   "cell_type": "code",
   "execution_count": 15,
   "outputs": [],
   "source": [
    "import jax.numpy as jnp\n",
    "\n",
    "def calculate_powers(array, x, y):\n",
    "    # Function to calculate x^n * y^m for each element\n",
    "    def calculate_element_power(element):\n",
    "        count_1 = jnp.sum(element == 1)\n",
    "        count_3 = jnp.sum(element == 3)\n",
    "        return x ** count_1 * y ** count_3\n",
    "\n",
    "    # Apply the calculation to each element in the array\n",
    "    return jnp.apply_along_axis(calculate_element_power, 1, array)\n",
    "\n",
    "# Define x and y\n",
    "x = 0.5# Assign a value to x\n",
    "y = 0.2 # Assign a value to y\n",
    "\n",
    "# Apply the function to your arrays\n",
    "pauli_array_bulk_values = calculate_powers(pauli_array_bulk, x, y)\n"
   ],
   "metadata": {
    "collapsed": false,
    "ExecuteTime": {
     "end_time": "2023-12-12T11:06:27.222455900Z",
     "start_time": "2023-12-12T11:06:27.145960100Z"
    }
   }
  },
  {
   "cell_type": "code",
   "execution_count": 18,
   "outputs": [
    {
     "name": "stdout",
     "output_type": "stream",
     "text": [
      "[[1 3 3 3 3]\n",
      " [1 3 3 3 3]\n",
      " [1 3 3 3 3]\n",
      " [1 3 3 3 3]]\n"
     ]
    },
    {
     "data": {
      "text/plain": "Array([0.0008, 0.0008, 0.0008, 0.0008], dtype=float32)"
     },
     "execution_count": 18,
     "metadata": {},
     "output_type": "execute_result"
    }
   ],
   "source": [
    "print(pauli_array_bulk)\n",
    "pauli_array_bulk_values"
   ],
   "metadata": {
    "collapsed": false,
    "ExecuteTime": {
     "end_time": "2023-12-12T11:06:48.029534400Z",
     "start_time": "2023-12-12T11:06:47.969636900Z"
    }
   }
  },
  {
   "cell_type": "code",
   "execution_count": 88,
   "outputs": [],
   "source": [
    "bulk = pauli_array_bulk\n",
    "edge = pauli_array_edge\n",
    "corner = pauli_array_corner\n",
    "key = PRNGKey(0)\n",
    "for i in label_bulk:\n",
    "    key, subkey = split(key, 2)\n",
    "    p = jax.random.uniform(subkey, jnp.array([1]), float, 0 , 1)\n",
    "    if p>0.5:\n",
    "        pauli_array_bulk = pauli_array_bulk.at[label_bulk[i][:,0].astype(int), label_bulk[i][:,1].astype(int)].set(-pauli_array_bulk[label_bulk[i][:,0].astype(int), label_bulk[i][:,1].astype(int)]+4)\n",
    "        pauli_array_edge = pauli_array_edge.at[label_edge[i][:,0].astype(int), label_edge[i][:,1].astype(int)].set(-pauli_array_edge[label_edge[i][:,0].astype(int), label_edge[i][:,1].astype(int)]+4)\n",
    "        pauli_array_corner = pauli_array_corner.at[label_corner[i][:,0].astype(int), label_corner[i][:,1].astype(int)].set(-pauli_array_corner[label_corner[i][:,0].astype(int), label_corner[i][:,1].astype(int)]+4)"
   ],
   "metadata": {
    "collapsed": false,
    "ExecuteTime": {
     "end_time": "2023-11-12T08:05:37.609266400Z",
     "start_time": "2023-11-12T08:05:37.357950400Z"
    }
   }
  },
  {
   "cell_type": "code",
   "execution_count": 89,
   "outputs": [
    {
     "data": {
      "text/plain": "(Array([[1, 3, 3, 3, 3],\n        [1, 3, 3, 3, 3],\n        [1, 3, 3, 3, 3],\n        [1, 3, 3, 3, 3]], dtype=int32),\n Array([[3, 1, 3, 3, 3],\n        [3, 3, 3, 1, 1],\n        [1, 3, 3, 3, 1],\n        [1, 1, 1, 3, 1]], dtype=int32))"
     },
     "execution_count": 89,
     "metadata": {},
     "output_type": "execute_result"
    }
   ],
   "source": [
    "bulk, pauli_array_bulk"
   ],
   "metadata": {
    "collapsed": false,
    "ExecuteTime": {
     "end_time": "2023-11-12T08:05:41.937382900Z",
     "start_time": "2023-11-12T08:05:41.934367500Z"
    }
   }
  },
  {
   "cell_type": "code",
   "execution_count": 90,
   "outputs": [
    {
     "data": {
      "text/plain": "(Array([[1, 3, 3, 3],\n        [1, 3, 3, 3],\n        [1, 3, 3, 3],\n        [1, 3, 3, 3],\n        [1, 3, 3, 3],\n        [1, 3, 3, 3],\n        [1, 3, 3, 3],\n        [1, 3, 3, 3]], dtype=int32),\n Array([[1, 1, 3, 3],\n        [1, 1, 1, 1],\n        [1, 3, 1, 3],\n        [3, 3, 1, 3],\n        [1, 1, 3, 1],\n        [1, 3, 1, 1],\n        [3, 1, 3, 1],\n        [3, 3, 3, 1]], dtype=int32))"
     },
     "execution_count": 90,
     "metadata": {},
     "output_type": "execute_result"
    }
   ],
   "source": [
    "edge, pauli_array_edge"
   ],
   "metadata": {
    "collapsed": false,
    "ExecuteTime": {
     "end_time": "2023-11-12T08:05:46.363365200Z",
     "start_time": "2023-11-12T08:05:46.302950400Z"
    }
   }
  },
  {
   "cell_type": "code",
   "execution_count": 91,
   "outputs": [
    {
     "data": {
      "text/plain": "(Array([[1, 3, 3],\n        [1, 3, 3],\n        [1, 3, 3],\n        [1, 3, 3]], dtype=int32),\n Array([[1, 3, 3],\n        [3, 1, 3],\n        [3, 3, 3],\n        [3, 1, 1]], dtype=int32))"
     },
     "execution_count": 91,
     "metadata": {},
     "output_type": "execute_result"
    }
   ],
   "source": [
    "corner, pauli_array_corner"
   ],
   "metadata": {
    "collapsed": false,
    "ExecuteTime": {
     "end_time": "2023-11-12T08:05:50.422256900Z",
     "start_time": "2023-11-12T08:05:50.413104Z"
    }
   }
  },
  {
   "cell_type": "code",
   "execution_count": null,
   "outputs": [],
   "source": [],
   "metadata": {
    "collapsed": false
   }
  },
  {
   "cell_type": "code",
   "execution_count": 2,
   "outputs": [],
   "source": [
    "import numpy as np\n",
    "decay_meanE = np.load(\"meanE_L6cmi_pattern_decay.npy\")\n",
    "no_decay_meanE = np.load(\"meanE_L6cmi_pattern_no_decay.npy\")\n",
    "random_meanE_seed1 = np.load(\"meanE_L6cmi_pattern_random_seed1.npy\")\n",
    "random_meanE_seed2 = np.load(\"meanE_L6cmi_pattern_random_seed2.npy\")\n",
    "random_meanE_seed3 = np.load(\"meanE_L6cmi_pattern_random_seed3.npy\")\n",
    "decay_varE = np.load(\"varE_L6cmi_pattern_decay.npy\")\n",
    "no_decay_varE = np.load(\"varE_L6cmi_pattern_no_decay.npy\")\n",
    "random_varE_seed1 = np.load(\"varE_L6cmi_pattern_random_seed1.npy\")\n",
    "random_varE_seed2 = np.load(\"varE_L6cmi_pattern_random_seed2.npy\")\n",
    "random_varE_seed3 = np.load(\"varE_L6cmi_pattern_random_seed3.npy\")"
   ],
   "metadata": {
    "collapsed": false,
    "ExecuteTime": {
     "end_time": "2023-11-12T09:43:05.639765600Z",
     "start_time": "2023-11-12T09:43:05.534238500Z"
    }
   }
  },
  {
   "cell_type": "code",
   "execution_count": 8,
   "outputs": [
    {
     "name": "stderr",
     "output_type": "stream",
     "text": [
      "C:\\Users\\Administrator\\anaconda3\\lib\\site-packages\\matplotlib\\cbook\\__init__.py:1335: ComplexWarning: Casting complex values to real discards the imaginary part\n",
      "  return np.asarray(x, float)\n"
     ]
    },
    {
     "data": {
      "text/plain": "<Figure size 640x480 with 1 Axes>",
      "image/png": "[encoded data removed]"
     },
     "metadata": {},
     "output_type": "display_data"
    }
   ],
   "source": [
    "import matplotlib.pyplot as plt\n",
    "plt.plot(decay_meanE, label=\"decay\")\n",
    "plt.plot(no_decay_meanE, label=\"no_decay\")\n",
    "plt.plot(random_meanE_seed1, label=\"random_seed1\")\n",
    "plt.plot(random_meanE_seed2, label=\"random_seed2\")\n",
    "plt.plot(random_meanE_seed3, label=\"random_seed3\")\n",
    "plt.ylim(-36, -15)\n",
    "plt.legend()\n",
    "plt.xlabel(\"steps\")\n",
    "plt.ylabel(\"meanE\")\n",
    "plt.title(\"L=6_graph_state\")\n",
    "plt.show()"
   ],
   "metadata": {
    "collapsed": false,
    "ExecuteTime": {
     "end_time": "2023-11-12T09:46:01.315550300Z",
     "start_time": "2023-11-12T09:46:01.100533800Z"
    }
   }
  },
  {
   "cell_type": "code",
   "execution_count": 80,
   "outputs": [
    {
     "name": "stdout",
     "output_type": "stream",
     "text": [
      "1\n",
      "2\n",
      "3\n"
     ]
    }
   ],
   "source": [
    "for i in (1,2,3):\n",
    "    print(i)"
   ],
   "metadata": {
    "collapsed": false,
    "ExecuteTime": {
     "end_time": "2023-11-16T18:04:12.113327600Z",
     "start_time": "2023-11-16T18:04:12.101397100Z"
    }
   }
  },
  {
   "cell_type": "code",
   "execution_count": 83,
   "outputs": [
    {
     "data": {
      "text/plain": "<function optax._src.schedule.piecewise_constant_schedule.<locals>.schedule(count)>"
     },
     "execution_count": 83,
     "metadata": {},
     "output_type": "execute_result"
    }
   ],
   "source": [
    "import optax\n",
    "optax.piecewise_constant_schedule(0.1, boundaries_and_scales=None)"
   ],
   "metadata": {
    "collapsed": false,
    "ExecuteTime": {
     "end_time": "2023-11-16T18:10:29.536998200Z",
     "start_time": "2023-11-16T18:10:29.522876Z"
    }
   }
  },
  {
   "cell_type": "code",
   "execution_count": 84,
   "outputs": [],
   "source": [
    "steps = [1000, 2000, 3000]  # Steps at which to change the learning rate\n",
    "values = [0.01, 0.001, 0.0001]  # Corresponding learning rates\n",
    "\n",
    "# Step 3: Create a step schedule\n",
    "lr_schedule = optax.piecewise_constant_schedule(init_value=0.1,  # Initial learning rate\n",
    "                                                boundaries_and_scales={steps[i]: values[i] for i in range(len(steps))})"
   ],
   "metadata": {
    "collapsed": false,
    "ExecuteTime": {
     "end_time": "2023-11-16T18:12:58.796062900Z",
     "start_time": "2023-11-16T18:12:58.761142700Z"
    }
   }
  },
  {
   "cell_type": "code",
   "execution_count": 86,
   "outputs": [
    {
     "data": {
      "text/plain": "Array(0.1, dtype=float32, weak_type=True)"
     },
     "execution_count": 86,
     "metadata": {},
     "output_type": "execute_result"
    }
   ],
   "source": [
    "lr_schedule(100)"
   ],
   "metadata": {
    "collapsed": false,
    "ExecuteTime": {
     "end_time": "2023-11-16T18:13:05.850424700Z",
     "start_time": "2023-11-16T18:13:05.826054300Z"
    }
   }
  },
  {
   "cell_type": "code",
   "execution_count": null,
   "outputs": [],
   "source": [],
   "metadata": {
    "collapsed": false
   }
  },
  {
   "cell_type": "code",
   "outputs": [
    {
     "name": "stdout",
     "output_type": "stream",
     "text": [
      "Sampled category index: 3\n"
     ]
    }
   ],
   "source": [
    "import jax\n",
    "import jax.numpy as jnp\n",
    "\n",
    "# Define log probabilities for each category\n",
    "# For simplicity, let's assume we have 3 categories with the following probabilities:\n",
    "probabilities = jnp.array([0.1, 0.2, 0.7, 0.8, 0.3, 0.2, 0.4])\n",
    "log_probabilities = jnp.log(probabilities)\n",
    "\n",
    "# Generate a random key\n",
    "key = jax.random.PRNGKey(1)\n",
    "\n",
    "# Sample from the categorical distribution\n",
    "# Here, we sample a single value\n",
    "sample = jax.random.categorical(key, log_probabilities, shape=())\n",
    "\n",
    "print(f\"Sampled category index: {sample}\")\n"
   ],
   "metadata": {
    "collapsed": false,
    "ExecuteTime": {
     "end_time": "2024-02-18T10:53:37.250668400Z",
     "start_time": "2024-02-18T10:53:37.048754200Z"
    }
   },
   "execution_count": 4
  },
  {
   "cell_type": "code",
   "outputs": [
    {
     "data": {
      "text/plain": "Array([[0, 0, 0, 0, 0, 0, 1, 1]], dtype=uint8)"
     },
     "execution_count": 12,
     "metadata": {},
     "output_type": "execute_result"
    }
   ],
   "source": [
    "jnp.unpackbits(sample.astype('uint8')).reshape(1, 8)"
   ],
   "metadata": {
    "collapsed": false,
    "ExecuteTime": {
     "end_time": "2024-02-18T10:57:34.903928600Z",
     "start_time": "2024-02-18T10:57:34.857568700Z"
    }
   },
   "execution_count": 12
  },
  {
   "cell_type": "code",
   "outputs": [],
   "source": [
    "import jax\n",
    "import jax.numpy as jnp\n",
    "from jax.nn.initializers import he_normal\n",
    "from jax.nn import relu\n",
    "# Define the shape of the weights tensor you want to initialize\n",
    "# For example, for a fully connected layer with 100 input units and 50 output units\n",
    "weight_shape = (1000, 1000)\n",
    "x1 = jnp.tile(jnp.array([1, -1]), 500)\n",
    "x2 = jax.random.normal(jax.random.PRNGKey(0), (1000,))\n",
    "# Initialize weights using he_normal\n",
    "ys = []\n",
    "zs = []\n",
    "for i in range(10):\n",
    "    key = jax.random.PRNGKey(i)  # PRNG key for randomness\n",
    "    weights = he_normal()(key, weight_shape)\n",
    "    x1 = relu(jnp.matmul(weights, x1))\n",
    "    x2 = relu(jnp.matmul(weights, x2))\n",
    "    ys.append(x1)\n",
    "    zs.append(x2)\n"
   ],
   "metadata": {
    "collapsed": false,
    "ExecuteTime": {
     "end_time": "2024-02-19T14:12:03.863363400Z",
     "start_time": "2024-02-19T14:12:03.322711300Z"
    }
   },
   "execution_count": 79
  },
  {
   "cell_type": "code",
   "outputs": [
    {
     "data": {
      "text/plain": "<Figure size 640x480 with 1 Axes>",
      "image/png": "[encoded data removed]"
     },
     "metadata": {},
     "output_type": "display_data"
    },
    {
     "data": {
      "text/plain": "<Figure size 640x480 with 1 Axes>",
      "image/png": "[encoded data removed]"
     },
     "metadata": {},
     "output_type": "display_data"
    },
    {
     "data": {
      "text/plain": "<Figure size 640x480 with 1 Axes>",
      "image/png": "[encoded data removed]"
     },
     "metadata": {},
     "output_type": "display_data"
    },
    {
     "data": {
      "text/plain": "<Figure size 640x480 with 1 Axes>",
      "image/png": "[encoded data removed]"
     },
     "metadata": {},
     "output_type": "display_data"
    },
    {
     "data": {
      "text/plain": "<Figure size 640x480 with 1 Axes>",
      "image/png": "[encoded data removed]"
     },
     "metadata": {},
     "output_type": "display_data"
    },
    {
     "data": {
      "text/plain": "<Figure size 640x480 with 1 Axes>",
      "image/png": "[encoded data removed]"
     },
     "metadata": {},
     "output_type": "display_data"
    },
    {
     "data": {
      "text/plain": "<Figure size 640x480 with 1 Axes>",
      "image/png": "[encoded data removed]"
     },
     "metadata": {},
     "output_type": "display_data"
    },
    {
     "data": {
      "text/plain": "<Figure size 640x480 with 1 Axes>",
      "image/png": "[encoded data removed]"
     },
     "metadata": {},
     "output_type": "display_data"
    },
    {
     "data": {
      "text/plain": "<Figure size 640x480 with 1 Axes>",
      "image/png": "[encoded data removed]"
     },
     "metadata": {},
     "output_type": "display_data"
    },
    {
     "data": {
      "text/plain": "<Figure size 640x480 with 1 Axes>",
      "image/png": "[encoded data removed]"
     },
     "metadata": {},
     "output_type": "display_data"
    }
   ],
   "source": [
    "import matplotlib.pyplot as plt\n",
    "for i in range(10):\n",
    "    plt.xlim(-1, 1)\n",
    "    plt.hist(ys[i], bins=50)\n",
    "    plt.show()"
   ],
   "metadata": {
    "collapsed": false,
    "ExecuteTime": {
     "end_time": "2024-02-19T14:13:32.258673900Z",
     "start_time": "2024-02-19T14:13:30.625240200Z"
    }
   },
   "execution_count": 82
  },
  {
   "cell_type": "code",
   "outputs": [
    {
     "name": "stdout",
     "output_type": "stream",
     "text": [
      "0.6462314\n",
      "0.68327904\n",
      "0.669106\n",
      "0.70754063\n",
      "0.65735626\n",
      "0.6158247\n",
      "0.75849056\n",
      "0.70873064\n",
      "0.7771891\n",
      "0.72338575\n",
      "0.76937574\n",
      "0.74520546\n",
      "0.76837915\n",
      "0.77281374\n",
      "0.74972963\n",
      "0.74420154\n",
      "0.7596057\n",
      "0.7255397\n",
      "0.6644148\n",
      "0.6629966\n"
     ]
    }
   ],
   "source": [
    "for i in range(10):\n",
    "    print(jnp.var(ys[i]))\n",
    "    print(jnp.var(zs[i]))"
   ],
   "metadata": {
    "collapsed": false,
    "ExecuteTime": {
     "end_time": "2024-02-19T14:14:05.158720100Z",
     "start_time": "2024-02-19T14:14:05.106151600Z"
    }
   },
   "execution_count": 83
  },
  {
   "cell_type": "code",
   "outputs": [
    {
     "data": {
      "text/plain": "Array(0.03095483, dtype=float32)"
     },
     "execution_count": 64,
     "metadata": {},
     "output_type": "execute_result"
    }
   ],
   "source": [
    "var = jnp.var(weights)\n",
    "print(var)\n",
    "print(jnp.sqrt(2/50))"
   ],
   "metadata": {
    "collapsed": false,
    "ExecuteTime": {
     "end_time": "2024-02-19T09:20:22.920904400Z",
     "start_time": "2024-02-19T09:20:22.833407600Z"
    }
   },
   "execution_count": 64
  },
  {
   "cell_type": "code",
   "outputs": [
    {
     "name": "stdout",
     "output_type": "stream",
     "text": [
      "0.0039946777\n",
      "0.002\n"
     ]
    }
   ],
   "source": [
    "k = 1000\n",
    "print(jnp.var(he_normal()(jax.random.PRNGKey(0), (2, k, 1000))*2))\n",
    "print(jnp.sqrt(2/k)**2)"
   ],
   "metadata": {
    "collapsed": false,
    "ExecuteTime": {
     "end_time": "2024-02-19T15:03:30.161840800Z",
     "start_time": "2024-02-19T15:03:30.062150200Z"
    }
   },
   "execution_count": 90
  },
  {
   "cell_type": "code",
   "outputs": [
    {
     "name": "stdout",
     "output_type": "stream",
     "text": [
      "x: [0 1 2 3 4]\n",
      "\n",
      "f(x): [0 1 2 0 4]\n",
      "x after f: [0 1 2 3 4]\n",
      "\n",
      "jit(f)(x): [0 1 2 0 4]\n",
      "x after jit(f): [0 1 2 3 4]\n",
      "\n",
      "jit(f)(x) with donate: [0 1 2 0 4]\n",
      "x after jit(f) with donate: [0 1 2 3 4]\n"
     ]
    }
   ],
   "source": [
    "import jax\n",
    "import jax.numpy as jnp\n",
    "\n",
    "def f(x):\n",
    "    return x.at[3].set(0)\n",
    "\n",
    "x = jnp.arange(5)\n",
    "print('x:', x)\n",
    "\n",
    "print('\\nf(x):', f(x))\n",
    "print('x after f:', x)\n",
    "\n",
    "print('\\njit(f)(x):', jax.jit(f)(x))\n",
    "print('x after jit(f):', x)\n",
    "\n",
    "print('\\njit(f)(x) with donate:', jax.jit(f, donate_argnums=(0,))(x))\n",
    "print('x after jit(f) with donate:', x)"
   ],
   "metadata": {
    "collapsed": false,
    "ExecuteTime": {
     "end_time": "2024-02-20T12:32:28.961557600Z",
     "start_time": "2024-02-20T12:32:28.529787200Z"
    }
   },
   "execution_count": 91
  },
  {
   "cell_type": "code",
   "outputs": [
    {
     "name": "stdout",
     "output_type": "stream",
     "text": [
      "0 TransformerEncoderLayer(\n",
      "  (self_attn): MultiheadAttention(\n",
      "    (out_proj): NonDynamicallyQuantizableLinear(in_features=512, out_features=512, bias=True)\n",
      "  )\n",
      "  (linear1): Linear(in_features=512, out_features=2048, bias=True)\n",
      "  (dropout): Dropout(p=0.1, inplace=False)\n",
      "  (linear2): Linear(in_features=2048, out_features=512, bias=True)\n",
      "  (norm1): LayerNorm((512,), eps=1e-05, elementwise_affine=True)\n",
      "  (norm2): LayerNorm((512,), eps=1e-05, elementwise_affine=True)\n",
      "  (dropout1): Dropout(p=0.1, inplace=False)\n",
      "  (dropout2): Dropout(p=0.1, inplace=False)\n",
      ")\n",
      "1 TransformerEncoderLayer(\n",
      "  (self_attn): MultiheadAttention(\n",
      "    (out_proj): NonDynamicallyQuantizableLinear(in_features=512, out_features=512, bias=True)\n",
      "  )\n",
      "  (linear1): Linear(in_features=512, out_features=2048, bias=True)\n",
      "  (dropout): Dropout(p=0.1, inplace=False)\n",
      "  (linear2): Linear(in_features=2048, out_features=512, bias=True)\n",
      "  (norm1): LayerNorm((512,), eps=1e-05, elementwise_affine=True)\n",
      "  (norm2): LayerNorm((512,), eps=1e-05, elementwise_affine=True)\n",
      "  (dropout1): Dropout(p=0.1, inplace=False)\n",
      "  (dropout2): Dropout(p=0.1, inplace=False)\n",
      ")\n"
     ]
    }
   ],
   "source": [
    "import torch\n",
    "import torch.nn as nn\n",
    "encoder_layer = nn.TransformerEncoderLayer(d_model=512, nhead=8)\n",
    "transformer = nn.TransformerEncoder(encoder_layer, num_layers=2)  \n",
    "for i,layer in enumerate(transformer.layers):\n",
    "    print(i, layer)"
   ],
   "metadata": {
    "collapsed": false,
    "ExecuteTime": {
     "end_time": "2024-02-21T14:38:41.103687800Z",
     "start_time": "2024-02-21T14:38:40.952388200Z"
    }
   },
   "execution_count": 97
  },
  {
   "cell_type": "code",
   "outputs": [
    {
     "ename": "TypeError",
     "evalue": "Cannot interpret value of type <class '__main__.rnn_function'> as an abstract array; it does not have a dtype attribute",
     "output_type": "error",
     "traceback": [
      "\u001B[1;31m---------------------------------------------------------------------------\u001B[0m",
      "\u001B[1;31mKeyError\u001B[0m                                  Traceback (most recent call last)",
      "File \u001B[1;32m~\\anaconda3\\lib\\site-packages\\jax\\_src\\api_util.py:583\u001B[0m, in \u001B[0;36mshaped_abstractify\u001B[1;34m(x)\u001B[0m\n\u001B[0;32m    582\u001B[0m \u001B[38;5;28;01mtry\u001B[39;00m:\n\u001B[1;32m--> 583\u001B[0m   \u001B[38;5;28;01mreturn\u001B[39;00m \u001B[43m_shaped_abstractify_handlers\u001B[49m\u001B[43m[\u001B[49m\u001B[38;5;28;43mtype\u001B[39;49m\u001B[43m(\u001B[49m\u001B[43mx\u001B[49m\u001B[43m)\u001B[49m\u001B[43m]\u001B[49m(x)\n\u001B[0;32m    584\u001B[0m \u001B[38;5;28;01mexcept\u001B[39;00m \u001B[38;5;167;01mKeyError\u001B[39;00m:\n",
      "\u001B[1;31mKeyError\u001B[0m: <class '__main__.rnn_function'>",
      "\nDuring handling of the above exception, another exception occurred:\n",
      "\u001B[1;31mTypeError\u001B[0m                                 Traceback (most recent call last)",
      "Cell \u001B[1;32mIn[12], line 9\u001B[0m\n\u001B[0;32m      7\u001B[0m         \u001B[38;5;28;01mreturn\u001B[39;00m \u001B[38;5;28mself\u001B[39m\u001B[38;5;241m.\u001B[39mx\u001B[38;5;241m+\u001B[39my\n\u001B[0;32m      8\u001B[0m a \u001B[38;5;241m=\u001B[39m rnn_function(\u001B[38;5;241m3\u001B[39m)\n\u001B[1;32m----> 9\u001B[0m \u001B[43ma\u001B[49m\u001B[38;5;241;43m.\u001B[39;49m\u001B[43malpha\u001B[49m\u001B[43m(\u001B[49m\u001B[38;5;241;43m4\u001B[39;49m\u001B[43m)\u001B[49m\n",
      "    \u001B[1;31m[... skipping hidden 6 frame]\u001B[0m\n",
      "File \u001B[1;32m~\\anaconda3\\lib\\site-packages\\jax\\_src\\api_util.py:574\u001B[0m, in \u001B[0;36m_shaped_abstractify_slow\u001B[1;34m(x)\u001B[0m\n\u001B[0;32m    572\u001B[0m   dtype \u001B[38;5;241m=\u001B[39m dtypes\u001B[38;5;241m.\u001B[39mcanonicalize_dtype(x\u001B[38;5;241m.\u001B[39mdtype, allow_extended_dtype\u001B[38;5;241m=\u001B[39m\u001B[38;5;28;01mTrue\u001B[39;00m)\n\u001B[0;32m    573\u001B[0m \u001B[38;5;28;01melse\u001B[39;00m:\n\u001B[1;32m--> 574\u001B[0m   \u001B[38;5;28;01mraise\u001B[39;00m \u001B[38;5;167;01mTypeError\u001B[39;00m(\n\u001B[0;32m    575\u001B[0m       \u001B[38;5;124mf\u001B[39m\u001B[38;5;124m\"\u001B[39m\u001B[38;5;124mCannot interpret value of type \u001B[39m\u001B[38;5;132;01m{\u001B[39;00m\u001B[38;5;28mtype\u001B[39m(x)\u001B[38;5;132;01m}\u001B[39;00m\u001B[38;5;124m as an abstract array; it \u001B[39m\u001B[38;5;124m\"\u001B[39m\n\u001B[0;32m    576\u001B[0m       \u001B[38;5;124m\"\u001B[39m\u001B[38;5;124mdoes not have a dtype attribute\u001B[39m\u001B[38;5;124m\"\u001B[39m)\n\u001B[0;32m    577\u001B[0m \u001B[38;5;28;01mreturn\u001B[39;00m core\u001B[38;5;241m.\u001B[39mShapedArray(np\u001B[38;5;241m.\u001B[39mshape(x), dtype, weak_type\u001B[38;5;241m=\u001B[39mweak_type,\n\u001B[0;32m    578\u001B[0m                         named_shape\u001B[38;5;241m=\u001B[39mnamed_shape)\n",
      "\u001B[1;31mTypeError\u001B[0m: Cannot interpret value of type <class '__main__.rnn_function'> as an abstract array; it does not have a dtype attribute"
     ]
    }
   ],
   "source": [
    "class rnn_function:\n",
    "    def __init__(self, x):\n",
    "        ### lattice setting\n",
    "        self.x = x\n",
    "    @jax.jit\n",
    "    def alpha(self, y):\n",
    "        return self.x+y\n",
    "a = rnn_function(3)\n",
    "a.alpha(4)"
   ],
   "metadata": {
    "collapsed": false,
    "ExecuteTime": {
     "end_time": "2024-02-23T06:37:48.229977300Z",
     "start_time": "2024-02-23T06:37:48.161155700Z"
    }
   },
   "execution_count": 12
  },
  {
   "cell_type": "code",
   "outputs": [
    {
     "name": "stdout",
     "output_type": "stream",
     "text": [
      "7\n"
     ]
    }
   ],
   "source": [
    "import jax\n",
    "import jax.numpy as jnp\n",
    "\n",
    "class rnn_function:\n",
    "    def __init__(self, x):\n",
    "        self.x = x\n",
    "\n",
    "    def alpha(self, y):\n",
    "        return self.x + y\n",
    "\n",
    "a = rnn_function(3)\n",
    "\n",
    "@jax.jit\n",
    "def jitted_alpha_call(x, y):\n",
    "    return rnn_function(x).alpha(y)\n",
    "\n",
    "result = jitted_alpha_call(a.x, 4)\n",
    "print(result)\n"
   ],
   "metadata": {
    "collapsed": false,
    "ExecuteTime": {
     "end_time": "2024-02-23T06:43:24.948718Z",
     "start_time": "2024-02-23T06:43:24.868716600Z"
    }
   },
   "execution_count": 13
  },
  {
   "cell_type": "code",
   "outputs": [
    {
     "ename": "TypeError",
     "evalue": "Shapes must be 1D sequences of concrete values of integer type, got (10.0, 5.0, 5.0).",
     "output_type": "error",
     "traceback": [
      "\u001B[1;31m---------------------------------------------------------------------------\u001B[0m",
      "\u001B[1;31mTypeError\u001B[0m                                 Traceback (most recent call last)",
      "Cell \u001B[1;32mIn[18], line 8\u001B[0m\n\u001B[0;32m      6\u001B[0m subkey \u001B[38;5;241m=\u001B[39m PRNGKey(\u001B[38;5;241m1\u001B[39m)  \u001B[38;5;66;03m# Replace with your actual subkey\u001B[39;00m\n\u001B[0;32m      7\u001B[0m new_prob \u001B[38;5;241m=\u001B[39m jnp\u001B[38;5;241m.\u001B[39marray([\u001B[38;5;241m0.3\u001B[39m, \u001B[38;5;241m0.4\u001B[39m, \u001B[38;5;241m0.3\u001B[39m])  \u001B[38;5;66;03m# Replace with your actual new_prob\u001B[39;00m\n\u001B[1;32m----> 8\u001B[0m samples \u001B[38;5;241m=\u001B[39m \u001B[43mjnp\u001B[49m\u001B[38;5;241;43m.\u001B[39;49m\u001B[43mzeros\u001B[49m\u001B[43m(\u001B[49m\u001B[43m(\u001B[49m\u001B[38;5;241;43m10.0\u001B[39;49m\u001B[43m,\u001B[49m\u001B[43m \u001B[49m\u001B[38;5;241;43m5.0\u001B[39;49m\u001B[43m,\u001B[49m\u001B[43m \u001B[49m\u001B[38;5;241;43m5.0\u001B[39;49m\u001B[43m)\u001B[49m\u001B[43m)\u001B[49m  \u001B[38;5;66;03m# Replace with your actual samples structure\u001B[39;00m\n\u001B[0;32m      9\u001B[0m ny, nx, mode \u001B[38;5;241m=\u001B[39m \u001B[38;5;241m2\u001B[39m, \u001B[38;5;241m1\u001B[39m, \u001B[38;5;241m0\u001B[39m  \u001B[38;5;66;03m# Replace with your actual logic/variables\u001B[39;00m\n\u001B[0;32m     11\u001B[0m \u001B[38;5;28;01mdef\u001B[39;00m \u001B[38;5;21msampling_branch\u001B[39m(_):\n\u001B[0;32m     12\u001B[0m     \u001B[38;5;66;03m# Assuming categorical returns an index or array of indices\u001B[39;00m\n\u001B[0;32m     13\u001B[0m     \u001B[38;5;66;03m# Note: You might need to adjust the shape or parameters according to your actual use case\u001B[39;00m\n",
      "File \u001B[1;32m~\\anaconda3\\lib\\site-packages\\jax\\_src\\numpy\\lax_numpy.py:2191\u001B[0m, in \u001B[0;36mzeros\u001B[1;34m(shape, dtype)\u001B[0m\n\u001B[0;32m   2189\u001B[0m   \u001B[38;5;28;01mraise\u001B[39;00m \u001B[38;5;167;01mTypeError\u001B[39;00m(\u001B[38;5;124m\"\u001B[39m\u001B[38;5;124mexpected sequence object with len >= 0 or a single integer\u001B[39m\u001B[38;5;124m\"\u001B[39m)\n\u001B[0;32m   2190\u001B[0m dtypes\u001B[38;5;241m.\u001B[39mcheck_user_dtype_supported(dtype, \u001B[38;5;124m\"\u001B[39m\u001B[38;5;124mzeros\u001B[39m\u001B[38;5;124m\"\u001B[39m)\n\u001B[1;32m-> 2191\u001B[0m shape \u001B[38;5;241m=\u001B[39m \u001B[43mcanonicalize_shape\u001B[49m\u001B[43m(\u001B[49m\u001B[43mshape\u001B[49m\u001B[43m)\u001B[49m\n\u001B[0;32m   2192\u001B[0m \u001B[38;5;28;01mreturn\u001B[39;00m lax\u001B[38;5;241m.\u001B[39mfull(shape, \u001B[38;5;241m0\u001B[39m, _jnp_dtype(dtype))\n",
      "File \u001B[1;32m~\\anaconda3\\lib\\site-packages\\jax\\_src\\numpy\\lax_numpy.py:81\u001B[0m, in \u001B[0;36mcanonicalize_shape\u001B[1;34m(shape, context)\u001B[0m\n\u001B[0;32m     79\u001B[0m   \u001B[38;5;28;01mreturn\u001B[39;00m core\u001B[38;5;241m.\u001B[39mcanonicalize_shape((shape,), context)  \u001B[38;5;66;03m# type: ignore\u001B[39;00m\n\u001B[0;32m     80\u001B[0m \u001B[38;5;28;01melse\u001B[39;00m:\n\u001B[1;32m---> 81\u001B[0m   \u001B[38;5;28;01mreturn\u001B[39;00m \u001B[43mcore\u001B[49m\u001B[38;5;241;43m.\u001B[39;49m\u001B[43mcanonicalize_shape\u001B[49m\u001B[43m(\u001B[49m\u001B[43mshape\u001B[49m\u001B[43m,\u001B[49m\u001B[43m \u001B[49m\u001B[43mcontext\u001B[49m\u001B[43m)\u001B[49m\n",
      "File \u001B[1;32m~\\anaconda3\\lib\\site-packages\\jax\\_src\\core.py:2051\u001B[0m, in \u001B[0;36mcanonicalize_shape\u001B[1;34m(shape, context)\u001B[0m\n\u001B[0;32m   2049\u001B[0m \u001B[38;5;28;01mexcept\u001B[39;00m \u001B[38;5;167;01mTypeError\u001B[39;00m:\n\u001B[0;32m   2050\u001B[0m   \u001B[38;5;28;01mpass\u001B[39;00m\n\u001B[1;32m-> 2051\u001B[0m \u001B[38;5;28;01mraise\u001B[39;00m _invalid_shape_error(shape, context)\n",
      "\u001B[1;31mTypeError\u001B[0m: Shapes must be 1D sequences of concrete values of integer type, got (10.0, 5.0, 5.0)."
     ]
    }
   ],
   "source": [
    "import jax.numpy as jnp\n",
    "from jax import lax\n",
    "from jax.random import categorical, PRNGKey  # Assuming you have these imports\n",
    "\n",
    "# Dummy placeholders for demonstration\n",
    "subkey = PRNGKey(1)  # Replace with your actual subkey\n",
    "new_prob = jnp.array([0.3, 0.4, 0.3])  # Replace with your actual new_prob\n",
    "samples = jnp.zeros((10.0, 5.0, 5.0))  # Replace with your actual samples structure\n",
    "ny, nx, mode = 2, 1, 0  # Replace with your actual logic/variables\n",
    "\n",
    "def sampling_branch(_):\n",
    "    # Assuming categorical returns an index or array of indices\n",
    "    # Note: You might need to adjust the shape or parameters according to your actual use case\n",
    "    return categorical(subkey, jnp.log(new_prob), shape=(samples.shape[0],))\n",
    "\n",
    "def non_sampling_branch_even(_):\n",
    "    # Accessing slice for even ny\n",
    "    return samples[:, ny, -nx-1]\n",
    "\n",
    "def non_sampling_branch_odd(_):\n",
    "    # Accessing slice for odd ny\n",
    "    return samples[:, ny, nx]\n",
    "\n",
    "# Correct use of lax.cond for sampling or selecting based on ny's parity\n",
    "samples_output = lax.cond(mode == 0, \n",
    "                          lambda _: categorical(subkey, jnp.log(new_prob), shape=(samples.shape[0],)), \n",
    "                          lambda _: lax.cond(ny % 2 == 0, \n",
    "                                             lambda y: samples[:, ny, -nx-1] , \n",
    "                                             lambda y: samples[:, ny, nx], \n",
    "                                             None),\n",
    "                          None)\n"
   ],
   "metadata": {
    "collapsed": false,
    "ExecuteTime": {
     "end_time": "2024-02-25T07:43:31.844836200Z",
     "start_time": "2024-02-25T07:43:24.590744Z"
    }
   },
   "execution_count": 18
  },
  {
   "cell_type": "code",
   "outputs": [],
   "source": [
    "def one_hot_encode(num, num_classes=16):\n",
    "    \"\"\"Returns a one-hot encoded vector for a given integer.\"\"\"\n",
    "    return (jnp.eye(num_classes)*2-1)[num]"
   ],
   "metadata": {
    "collapsed": false,
    "ExecuteTime": {
     "end_time": "2024-02-26T14:02:29.551352700Z",
     "start_time": "2024-02-26T14:02:29.423038200Z"
    }
   },
   "execution_count": 21
  },
  {
   "cell_type": "code",
   "outputs": [
    {
     "data": {
      "text/plain": "Array([-1., -1.,  1., -1., -1., -1., -1., -1., -1., -1., -1., -1., -1.,\n       -1., -1., -1.], dtype=float32)"
     },
     "execution_count": 22,
     "metadata": {},
     "output_type": "execute_result"
    }
   ],
   "source": [
    "one_hot_encode(2)"
   ],
   "metadata": {
    "collapsed": false,
    "ExecuteTime": {
     "end_time": "2024-02-26T14:02:30.243115600Z",
     "start_time": "2024-02-26T14:02:30.035306Z"
    }
   },
   "execution_count": 22
  },
  {
   "cell_type": "code",
   "outputs": [
    {
     "ename": "TracerIntegerConversionError",
     "evalue": "The __index__() method was called on traced array with shape int32[].\nThis BatchTracer with object id 2587183501920 was created on line:\n  C:\\Users\\Administrator\\AppData\\Local\\Temp\\ipykernel_13008\\1203937087.py:10 (<module>)\nSee https://jax.readthedocs.io/en/latest/errors.html#jax.errors.TracerIntegerConversionError",
     "output_type": "error",
     "traceback": [
      "\u001B[1;31m---------------------------------------------------------------------------\u001B[0m",
      "\u001B[1;31mTracerIntegerConversionError\u001B[0m              Traceback (most recent call last)",
      "Cell \u001B[1;32mIn[33], line 10\u001B[0m\n\u001B[0;32m      8\u001B[0m     \u001B[38;5;28;01mreturn\u001B[39;00m binary_array\n\u001B[0;32m      9\u001B[0m num \u001B[38;5;241m=\u001B[39m jnp\u001B[38;5;241m.\u001B[39marray([\u001B[38;5;241m13\u001B[39m, \u001B[38;5;241m12\u001B[39m])\n\u001B[1;32m---> 10\u001B[0m binary_array \u001B[38;5;241m=\u001B[39m \u001B[43mvmap\u001B[49m\u001B[43m(\u001B[49m\u001B[43mint_to_binary_array\u001B[49m\u001B[43m,\u001B[49m\u001B[43m \u001B[49m\u001B[43m(\u001B[49m\u001B[38;5;241;43m0\u001B[39;49m\u001B[43m,\u001B[49m\u001B[43m \u001B[49m\u001B[43m)\u001B[49m\u001B[43m)\u001B[49m\u001B[43m(\u001B[49m\u001B[43mnum\u001B[49m\u001B[43m)\u001B[49m\n\u001B[0;32m     11\u001B[0m \u001B[38;5;28mprint\u001B[39m(binary_array)\n",
      "    \u001B[1;31m[... skipping hidden 3 frame]\u001B[0m\n",
      "Cell \u001B[1;32mIn[33], line 3\u001B[0m, in \u001B[0;36mint_to_binary_array\u001B[1;34m(x, num_bits)\u001B[0m\n\u001B[0;32m      2\u001B[0m \u001B[38;5;28;01mdef\u001B[39;00m \u001B[38;5;21mint_to_binary_array\u001B[39m(x, num_bits\u001B[38;5;241m=\u001B[39m\u001B[38;5;241m4\u001B[39m):\n\u001B[1;32m----> 3\u001B[0m     binary_str \u001B[38;5;241m=\u001B[39m \u001B[38;5;28;43mbin\u001B[39;49m\u001B[43m(\u001B[49m\u001B[43mx\u001B[49m\u001B[43m)\u001B[49m[\u001B[38;5;241m2\u001B[39m:]\u001B[38;5;241m.\u001B[39mzfill(num_bits)\n\u001B[0;32m      5\u001B[0m     \u001B[38;5;66;03m# Convert the binary string to a list of integers and then to a Jax array\u001B[39;00m\n\u001B[0;32m      6\u001B[0m     binary_array \u001B[38;5;241m=\u001B[39m jnp\u001B[38;5;241m.\u001B[39marray([\u001B[38;5;28mint\u001B[39m(bit) \u001B[38;5;28;01mfor\u001B[39;00m bit \u001B[38;5;129;01min\u001B[39;00m binary_str])\n",
      "    \u001B[1;31m[... skipping hidden 1 frame]\u001B[0m\n",
      "File \u001B[1;32m~\\anaconda3\\lib\\site-packages\\jax\\_src\\core.py:1446\u001B[0m, in \u001B[0;36mconcretization_function_error.<locals>.error\u001B[1;34m(self, arg)\u001B[0m\n\u001B[0;32m   1445\u001B[0m \u001B[38;5;28;01mdef\u001B[39;00m \u001B[38;5;21merror\u001B[39m(\u001B[38;5;28mself\u001B[39m, arg):\n\u001B[1;32m-> 1446\u001B[0m   \u001B[38;5;28;01mraise\u001B[39;00m TracerIntegerConversionError(arg)\n",
      "\u001B[1;31mTracerIntegerConversionError\u001B[0m: The __index__() method was called on traced array with shape int32[].\nThis BatchTracer with object id 2587183501920 was created on line:\n  C:\\Users\\Administrator\\AppData\\Local\\Temp\\ipykernel_13008\\1203937087.py:10 (<module>)\nSee https://jax.readthedocs.io/en/latest/errors.html#jax.errors.TracerIntegerConversionError"
     ]
    }
   ],
   "source": [
    "from jax import vmap\n",
    "def int_to_binary_array(x, num_bits=4):\n",
    "    binary_str = bin(x)[2:].zfill(num_bits)\n",
    "    \n",
    "    # Convert the binary string to a list of integers and then to a Jax array\n",
    "    binary_array = jnp.array([int(bit) for bit in binary_str])\n",
    "    \n",
    "    return binary_array\n",
    "num = jnp.array([13, 12])\n",
    "binary_array = vmap(int_to_binary_array, (0, ))(num)\n",
    "print(binary_array)"
   ],
   "metadata": {
    "collapsed": false,
    "ExecuteTime": {
     "end_time": "2024-02-28T07:29:14.486688400Z",
     "start_time": "2024-02-28T07:29:14.416437900Z"
    }
   },
   "execution_count": 33
  },
  {
   "cell_type": "code",
   "outputs": [
    {
     "name": "stdout",
     "output_type": "stream",
     "text": [
      "[[ 3]\n",
      " [ 6]\n",
      " [15]]\n",
      "[[8 4 2 1]]\n",
      "[[0 0 2 1]\n",
      " [0 4 2 0]\n",
      " [8 4 2 1]]\n",
      "[[0 0 1 1]\n",
      " [0 1 1 0]\n",
      " [1 1 1 1]]\n"
     ]
    }
   ],
   "source": [
    "import jax.numpy as jnp\n",
    "from jax import vmap\n",
    "\n",
    "def int_to_binary_array_vectorized(x, num_bits=4):\n",
    "    \"\"\"\n",
    "    Converts an array of integers to their binary representation arrays with a fixed number of bits.\n",
    "    This function is designed to be compatible with Jax's vmap for vectorization over an array of integers.\n",
    "    \n",
    "    Parameters:\n",
    "    - x: An array of integers, the numbers to convert.\n",
    "    - num_bits: Integer, the fixed number of bits for the binary representation.\n",
    "    \n",
    "    Returns:\n",
    "    - A 2D Jax array where each row is the binary representation of an integer in 'x'.\n",
    "    \"\"\"\n",
    "    # Create an array of bit positions: [2^(num_bits-1), 2^(num_bits-2), ..., 1]\n",
    "    powers_of_two = 2**jnp.arange(num_bits-1, -1, -1)\n",
    "    \n",
    "    # Expand dims of x and powers_of_two for broadcasting\n",
    "    x_expanded = x[:, None]\n",
    "    powers_of_two_expanded = powers_of_two[None, :]\n",
    "    \n",
    "    # Perform bitwise AND between each number and each power of two, then right shift to get the bit value\n",
    "    binary_matrix = (x_expanded & powers_of_two_expanded) >> jnp.arange(num_bits-1, -1, -1)\n",
    "    print(x_expanded)\n",
    "    print(powers_of_two_expanded)\n",
    "    print(x_expanded & powers_of_two_expanded)\n",
    "    return binary_matrix.astype(jnp.int32)  # Ensure the result is integer\n",
    "\n",
    "# Example: Vectorize the function to work on each element of an array\n",
    "num_bits = 4\n",
    "nums = jnp.array([3, 6, 15])\n",
    "\n",
    "# Since the function is already vectorized, no need for vmap here\n",
    "binary_arrays = int_to_binary_array_vectorized(nums, num_bits)\n",
    "print(binary_arrays)\n"
   ],
   "metadata": {
    "collapsed": false,
    "ExecuteTime": {
     "end_time": "2024-02-28T08:17:41.155471500Z",
     "start_time": "2024-02-28T08:17:41.086121800Z"
    }
   },
   "execution_count": 42
  },
  {
   "cell_type": "code",
   "outputs": [
    {
     "ename": "SyntaxError",
     "evalue": "incomplete input (3880574463.py, line 21)",
     "output_type": "error",
     "traceback": [
      "\u001B[1;36m  Cell \u001B[1;32mIn[50], line 21\u001B[1;36m\u001B[0m\n\u001B[1;33m    \u001B[0m\n\u001B[1;37m    ^\u001B[0m\n\u001B[1;31mSyntaxError\u001B[0m\u001B[1;31m:\u001B[0m incomplete input\n"
     ]
    }
   ],
   "source": [
    "import jax.numpy as jnp\n",
    "\n",
    "def binary_array_to_int(binary_array):\n",
    "    \"\"\"\n",
    "    Converts a 2D array of binary representations to their decimal equivalents.\n",
    "    \n",
    "    Parameters:\n",
    "    - binary_array: A 2D Jax array where each row represents a binary number.\n",
    "    \n",
    "    Returns:\n",
    "    - A 1D Jax array of integers, the decimal equivalents of the binary representations.\n",
    "    \"\"\"\n",
    "    num_bits = binary_array.shape[1]\n",
    "    powers_of_two = 2**jnp.arange(num_bits-1, -1, -1)\n",
    "    # Multiply each bit by its corresponding power of two and sum the results\n",
    "    decimals = jnp.dot(binary_array, powers_of_two)\n",
    "    return decimals\n",
    "\n",
    "# Example usage:\n",
    "binary_arrays = jnp.array([[0, 0, 0, 1, 1, 0, \n"
   ],
   "metadata": {
    "collapsed": false,
    "ExecuteTime": {
     "end_time": "2024-02-28T08:57:14.334789Z",
     "start_time": "2024-02-28T08:57:14.269625100Z"
    }
   },
   "execution_count": 50
  },
  {
   "cell_type": "code",
   "outputs": [
    {
     "name": "stdout",
     "output_type": "stream",
     "text": [
      "[[13 30]\n",
      " [15 94]]\n"
     ]
    }
   ],
   "source": [
    "import jax.numpy as jnp\n",
    "\n",
    "def binary_array_to_int(binary_array):\n",
    "    \"\"\"\n",
    "    Converts a 2D array of binary representations to their decimal equivalents.\n",
    "    \n",
    "    Parameters:\n",
    "    - binary_array: A 2D Jax array where each row represents a binary number.\n",
    "    \n",
    "    Returns:\n",
    "    - A 1D Jax array of integers, the decimal equivalents of the binary representations.\n",
    "    \"\"\"\n",
    "    num_bits = binary_array.shape[1]\n",
    "    powers_of_two = 2**jnp.arange(num_bits-1, -1, -1)\n",
    "    # Multiply each bit by its corresponding power of two and sum the results\n",
    "    decimals = jnp.dot(binary_array, powers_of_two)\n",
    "    return decimals\n",
    "\n",
    "# Example usage:\n",
    "binary_arrays = jnp.array([[[0, 0, 0, 1, 1, 0, 1], [0, 0, 1, 1, 1, 1, 0]],[[0, 0, 0, 1, 1, 1, 1], [1, 0, 1, 1, 1, 1, 0]]])\n",
    "decimals = vmap(binary_array_to_int, 0)(binary_arrays)\n",
    "print(decimals)\n"
   ],
   "metadata": {
    "collapsed": false,
    "ExecuteTime": {
     "end_time": "2024-02-28T08:59:09.699907300Z",
     "start_time": "2024-02-28T08:59:09.622909300Z"
    }
   },
   "execution_count": 57
  },
  {
   "cell_type": "code",
   "outputs": [
    {
     "data": {
      "text/plain": "Array([[0., 0., 1., 0.],\n       [0., 0., 0., 1.],\n       [0., 0., 0., 1.],\n       [0., 0., 0., 1.]], dtype=float32)"
     },
     "execution_count": 69,
     "metadata": {},
     "output_type": "execute_result"
    }
   ],
   "source": [
    "from functools import partial\n",
    "@partial(jax.jit, static_argnums=(1,))\n",
    "def one_hot_encoding(x, num_classes):\n",
    "    \"\"\"Converts batched integer labels to one-hot encoded arrays.\"\"\"\n",
    "    return jnp.eye(num_classes)[x]\n",
    "\n",
    "one_hot_encoding(jnp.array([2,3,4,5]), 4)"
   ],
   "metadata": {
    "collapsed": false,
    "ExecuteTime": {
     "end_time": "2024-02-28T09:24:53.272084200Z",
     "start_time": "2024-02-28T09:24:53.211798200Z"
    }
   },
   "execution_count": 69
  },
  {
   "cell_type": "code",
   "outputs": [
    {
     "data": {
      "text/plain": "Array(2, dtype=int32, weak_type=True)"
     },
     "execution_count": 74,
     "metadata": {},
     "output_type": "execute_result"
    }
   ],
   "source": [
    "lax.cond(0, lambda x: 1, lambda x: 2, None)"
   ],
   "metadata": {
    "collapsed": false,
    "ExecuteTime": {
     "end_time": "2024-02-28T12:36:27.343670800Z",
     "start_time": "2024-02-28T12:36:27.268101200Z"
    }
   },
   "execution_count": 74
  },
  {
   "cell_type": "code",
   "outputs": [
    {
     "data": {
      "text/plain": "Array([[4, 5],\n       [8, 9]], dtype=int32)"
     },
     "execution_count": 81,
     "metadata": {},
     "output_type": "execute_result"
    }
   ],
   "source": [
    "x = jnp.arange(12).reshape(3, 4)\n",
    "lax.dynamic_slice(x, (1, -4), (2, 2))"
   ],
   "metadata": {
    "collapsed": false,
    "ExecuteTime": {
     "end_time": "2024-02-28T14:44:58.546128300Z",
     "start_time": "2024-02-28T14:44:58.487648600Z"
    }
   },
   "execution_count": 81
  },
  {
   "cell_type": "code",
   "outputs": [
    {
     "data": {
      "text/plain": "Array([[ 0,  1,  2,  3],\n       [ 4,  5,  6,  7],\n       [ 8,  9, 10, 11]], dtype=int32)"
     },
     "execution_count": 79,
     "metadata": {},
     "output_type": "execute_result"
    }
   ],
   "source": [
    "x"
   ],
   "metadata": {
    "collapsed": false,
    "ExecuteTime": {
     "end_time": "2024-02-28T14:43:10.543929900Z",
     "start_time": "2024-02-28T14:43:10.477287700Z"
    }
   },
   "execution_count": 79
  },
  {
   "cell_type": "code",
   "outputs": [],
   "source": [
    "\n",
    "def one_hot_encoding(x, num_classes):\n",
    "    \"\"\"Converts batched integer labels to one-hot encoded arrays.\"\"\"\n",
    "    return jnp.eye(num_classes)[x]"
   ],
   "metadata": {
    "collapsed": false,
    "ExecuteTime": {
     "end_time": "2024-03-01T12:26:50.539450600Z",
     "start_time": "2024-03-01T12:26:50.524786200Z"
    }
   },
   "execution_count": 1
  },
  {
   "cell_type": "code",
   "outputs": [],
   "source": [
    "from functools import partial\n",
    "one_hot = partial(one_hot_encoding, num_classes=16)"
   ],
   "metadata": {
    "collapsed": false,
    "ExecuteTime": {
     "end_time": "2024-03-01T12:29:03.798199600Z",
     "start_time": "2024-03-01T12:29:03.737871900Z"
    }
   },
   "execution_count": 8
  },
  {
   "cell_type": "code",
   "outputs": [
    {
     "data": {
      "text/plain": "Array([[0., 0., 1., 0., 0., 0., 0., 0., 0., 0., 0., 0., 0., 0., 0., 0.],\n       [0., 0., 0., 1., 0., 0., 0., 0., 0., 0., 0., 0., 0., 0., 0., 0.],\n       [0., 0., 0., 0., 1., 0., 0., 0., 0., 0., 0., 0., 0., 0., 0., 0.],\n       [0., 0., 0., 0., 0., 1., 0., 0., 0., 0., 0., 0., 0., 0., 0., 0.]],      dtype=float32)"
     },
     "execution_count": 9,
     "metadata": {},
     "output_type": "execute_result"
    }
   ],
   "source": [
    "import jax\n",
    "import jax.numpy as jnp\n",
    "one_hot(jnp.array([2,3,4,5]))"
   ],
   "metadata": {
    "collapsed": false,
    "ExecuteTime": {
     "end_time": "2024-03-01T12:29:04.014176300Z",
     "start_time": "2024-03-01T12:29:03.901478900Z"
    }
   },
   "execution_count": 9
  },
  {
   "cell_type": "code",
   "outputs": [],
   "source": [
    "def binary_array_to_int(binary_array, num_bits):\n",
    "    \"\"\"\n",
    "    Converts a 2D array of binary representations to their decimal equivalents.\n",
    "\n",
    "    Parameters:\n",
    "    - binary_array: A 2D Jax array where each row represents a binary number.\n",
    "\n",
    "    Returns:\n",
    "    - A 1D Jax array of integers, the decimal equivalents of the binary representations.\n",
    "    \"\"\"\n",
    "    powers_of_two = 2 ** jnp.arange(num_bits - 1, -1, -1)\n",
    "    # Multiply each bit by its corresponding power of two and sum the results\n",
    "    decimals = jnp.dot(binary_array, powers_of_two)\n",
    "    return decimals"
   ],
   "metadata": {
    "collapsed": false,
    "ExecuteTime": {
     "end_time": "2024-03-01T12:41:30.717248600Z",
     "start_time": "2024-03-01T12:41:30.638838900Z"
    }
   },
   "execution_count": 10
  },
  {
   "cell_type": "code",
   "outputs": [
    {
     "data": {
      "text/plain": "Array([13, 30], dtype=int32)"
     },
     "execution_count": 11,
     "metadata": {},
     "output_type": "execute_result"
    }
   ],
   "source": [
    "binary_array_to_int(jnp.array([[0, 0, 0, 1, 1, 0, 1], [0, 0, 1, 1, 1, 1, 0]]), 7)"
   ],
   "metadata": {
    "collapsed": false,
    "ExecuteTime": {
     "end_time": "2024-03-01T12:41:39.615871500Z",
     "start_time": "2024-03-01T12:41:39.495276500Z"
    }
   },
   "execution_count": 11
  },
  {
   "cell_type": "code",
   "outputs": [
    {
     "data": {
      "text/plain": "Array([0, 0, 0, 1, 1, 0, 1, 0, 0, 1, 1, 1, 1, 0], dtype=int32)"
     },
     "execution_count": 42,
     "metadata": {},
     "output_type": "execute_result"
    }
   ],
   "source": [
    "jnp.array([[0, 0, 0, 1, 1, 0, 1], [0, 0, 1, 1, 1, 1, 0]]).ravel()"
   ],
   "metadata": {
    "collapsed": false,
    "ExecuteTime": {
     "end_time": "2024-03-03T04:49:01.864780500Z",
     "start_time": "2024-03-03T04:49:01.740925200Z"
    }
   },
   "execution_count": 42
  },
  {
   "cell_type": "code",
   "outputs": [],
   "source": [
    "import jax\n",
    "import jax.numpy as jnp\n",
    "import jax.random as random\n",
    "from jax.random import PRNGKey, split\n",
    "from jax import vmap\n",
    "a = random.normal(PRNGKey(0), (8, 8))"
   ],
   "metadata": {
    "collapsed": false,
    "ExecuteTime": {
     "end_time": "2024-03-10T11:48:21.163736100Z",
     "start_time": "2024-03-10T11:48:19.690032800Z"
    }
   },
   "execution_count": 1
  },
  {
   "cell_type": "code",
   "outputs": [
    {
     "data": {
      "text/plain": "Array([[1., 0., 0.],\n       [0., 1., 0.],\n       [0., 1., 0.],\n       [0., 1., 0.],\n       [0., 0., 1.]], dtype=float32)"
     },
     "execution_count": 7,
     "metadata": {},
     "output_type": "execute_result"
    }
   ],
   "source": [
    "a = jnp.eye(3)\n",
    "a[jnp.array([0, 1, 1, 1, 2])]"
   ],
   "metadata": {
    "collapsed": false,
    "ExecuteTime": {
     "end_time": "2024-03-10T14:21:49.631622500Z",
     "start_time": "2024-03-10T14:21:49.505311300Z"
    }
   },
   "execution_count": 7
  },
  {
   "cell_type": "code",
   "outputs": [],
   "source": [
    "def int_to_binary_array(x, num_bits):\n",
    "    \"\"\"\n",
    "    Converts an array of integers to their binary representation arrays with a fixed number of bits.\n",
    "    This function is designed to be compatible with Jax's vmap for vectorization over an array of integers.\n",
    "\n",
    "    Parameters:\n",
    "    - x: An array of integers, the numbers to convert.\n",
    "    - num_bits: Integer, the fixed number of bits for the binary representation.\n",
    "\n",
    "    Returns:\n",
    "    - A 2D Jax array where each row is the binary representation of an integer in 'x'.\n",
    "    \"\"\"\n",
    "    # Create an array of bit positions: [2^(num_bits-1), 2^(num_bits-2), ..., 1]\n",
    "    powers_of_two = 2 ** jnp.arange(num_bits - 1, -1, -1)\n",
    "\n",
    "    # Expand dims of x and powers_of_two for broadcasting\n",
    "    x_expanded = x[:, None]\n",
    "    powers_of_two_expanded = powers_of_two[None, :]\n",
    "\n",
    "    # Perform bitwise AND between each number and each power of two, then right shift to get the bit value\n",
    "    binary_matrix = (x_expanded & powers_of_two_expanded) >> jnp.arange(num_bits - 1, -1, -1)\n",
    "\n",
    "    return binary_matrix.astype(jnp.int32)  # Ensure the result is integer\n",
    "\n"
   ],
   "metadata": {
    "collapsed": false,
    "ExecuteTime": {
     "end_time": "2024-03-03T10:35:39.516068600Z",
     "start_time": "2024-03-03T10:35:39.460739800Z"
    }
   },
   "execution_count": 47
  },
  {
   "cell_type": "code",
   "outputs": [],
   "source": [
    "a = vmap(int_to_binary_array, (0, None))(jnp.array([[3, 6], [15, 12]]), 4)"
   ],
   "metadata": {
    "collapsed": false,
    "ExecuteTime": {
     "end_time": "2024-03-03T10:37:00.310115800Z",
     "start_time": "2024-03-03T10:37:00.237392500Z"
    }
   },
   "execution_count": 52
  },
  {
   "cell_type": "code",
   "outputs": [
    {
     "data": {
      "text/plain": "4"
     },
     "execution_count": 10,
     "metadata": {},
     "output_type": "execute_result"
    }
   ],
   "source": [
    "jnp.array([0,0,0,0]).size"
   ],
   "metadata": {
    "collapsed": false,
    "ExecuteTime": {
     "end_time": "2024-03-10T17:49:45.562927700Z",
     "start_time": "2024-03-10T17:49:45.506223100Z"
    }
   },
   "execution_count": 10
  },
  {
   "cell_type": "code",
   "outputs": [
    {
     "data": {
      "text/plain": "Array([[1., 0., 0.],\n       [0., 1., 0.],\n       [0., 0., 1.]], dtype=float32)"
     },
     "execution_count": 2,
     "metadata": {},
     "output_type": "execute_result"
    }
   ],
   "source": [
    "import jax\n",
    "import jax.numpy as jnp\n",
    "from jax.random import PRNGKey, split\n",
    "jnp.eye(3)"
   ],
   "metadata": {
    "collapsed": false,
    "ExecuteTime": {
     "end_time": "2024-03-06T09:57:12.483218800Z",
     "start_time": "2024-03-06T09:57:06.068833300Z"
    }
   },
   "execution_count": 2
  },
  {
   "cell_type": "code",
   "outputs": [
    {
     "ename": "TypeError",
     "evalue": "conditional_function.<locals>.<lambda>() missing 2 required positional arguments: 'y' and 'z'",
     "output_type": "error",
     "traceback": [
      "\u001B[1;31m---------------------------------------------------------------------------\u001B[0m",
      "\u001B[1;31mTypeError\u001B[0m                                 Traceback (most recent call last)",
      "Cell \u001B[1;32mIn[15], line 21\u001B[0m\n\u001B[0;32m     19\u001B[0m a \u001B[38;5;241m=\u001B[39m \u001B[38;5;241m10\u001B[39m\n\u001B[0;32m     20\u001B[0m b \u001B[38;5;241m=\u001B[39m \u001B[38;5;241m5\u001B[39m\n\u001B[1;32m---> 21\u001B[0m result \u001B[38;5;241m=\u001B[39m \u001B[43mconditional_function\u001B[49m\u001B[43m(\u001B[49m\u001B[43mcondition\u001B[49m\u001B[43m,\u001B[49m\u001B[43m \u001B[49m\u001B[43ma\u001B[49m\u001B[43m,\u001B[49m\u001B[43m \u001B[49m\u001B[43mb\u001B[49m\u001B[43m)\u001B[49m\n\u001B[0;32m     22\u001B[0m \u001B[38;5;28mprint\u001B[39m(result)\n",
      "Cell \u001B[1;32mIn[15], line 12\u001B[0m, in \u001B[0;36mconditional_function\u001B[1;34m(condition, a, b)\u001B[0m\n\u001B[0;32m     11\u001B[0m \u001B[38;5;28;01mdef\u001B[39;00m \u001B[38;5;21mconditional_function\u001B[39m(condition, a, b):\n\u001B[1;32m---> 12\u001B[0m     \u001B[38;5;28;01mreturn\u001B[39;00m \u001B[43mlax\u001B[49m\u001B[38;5;241;43m.\u001B[39;49m\u001B[43mcond\u001B[49m\u001B[43m(\u001B[49m\u001B[43mcondition\u001B[49m\u001B[43m,\u001B[49m\n\u001B[0;32m     13\u001B[0m \u001B[43m                    \u001B[49m\u001B[38;5;28;43;01mlambda\u001B[39;49;00m\u001B[43m \u001B[49m\u001B[43mx\u001B[49m\u001B[43m,\u001B[49m\u001B[43m \u001B[49m\u001B[43my\u001B[49m\u001B[43m,\u001B[49m\u001B[43m \u001B[49m\u001B[43mz\u001B[49m\u001B[43m:\u001B[49m\u001B[43m \u001B[49m\u001B[43mfunc_true\u001B[49m\u001B[43m(\u001B[49m\u001B[43mx\u001B[49m\u001B[43m,\u001B[49m\u001B[43m \u001B[49m\u001B[43my\u001B[49m\u001B[43m)\u001B[49m\u001B[43m,\u001B[49m\n\u001B[0;32m     14\u001B[0m \u001B[43m                    \u001B[49m\u001B[38;5;28;43;01mlambda\u001B[39;49;00m\u001B[43m \u001B[49m\u001B[43mx\u001B[49m\u001B[43m,\u001B[49m\u001B[43m \u001B[49m\u001B[43my\u001B[49m\u001B[43m,\u001B[49m\u001B[43m \u001B[49m\u001B[43mz\u001B[49m\u001B[43m:\u001B[49m\u001B[43m \u001B[49m\u001B[43mfunc_false\u001B[49m\u001B[43m(\u001B[49m\u001B[43mx\u001B[49m\u001B[43m,\u001B[49m\u001B[43m \u001B[49m\u001B[43my\u001B[49m\u001B[43m)\u001B[49m\u001B[43m,\u001B[49m\n\u001B[0;32m     15\u001B[0m \u001B[43m                    \u001B[49m\u001B[43m(\u001B[49m\u001B[43ma\u001B[49m\u001B[43m,\u001B[49m\u001B[43m \u001B[49m\u001B[43mb\u001B[49m\u001B[43m,\u001B[49m\u001B[43m \u001B[49m\u001B[38;5;241;43m0\u001B[39;49m\u001B[43m)\u001B[49m\u001B[43m)\u001B[49m\n",
      "    \u001B[1;31m[... skipping hidden 12 frame]\u001B[0m\n",
      "File \u001B[1;32m~\\anaconda3\\lib\\site-packages\\jax\\_src\\linear_util.py:191\u001B[0m, in \u001B[0;36mWrappedFun.call_wrapped\u001B[1;34m(self, *args, **kwargs)\u001B[0m\n\u001B[0;32m    188\u001B[0m gen \u001B[38;5;241m=\u001B[39m gen_static_args \u001B[38;5;241m=\u001B[39m out_store \u001B[38;5;241m=\u001B[39m \u001B[38;5;28;01mNone\u001B[39;00m\n\u001B[0;32m    190\u001B[0m \u001B[38;5;28;01mtry\u001B[39;00m:\n\u001B[1;32m--> 191\u001B[0m   ans \u001B[38;5;241m=\u001B[39m \u001B[38;5;28mself\u001B[39m\u001B[38;5;241m.\u001B[39mf(\u001B[38;5;241m*\u001B[39margs, \u001B[38;5;241m*\u001B[39m\u001B[38;5;241m*\u001B[39m\u001B[38;5;28mdict\u001B[39m(\u001B[38;5;28mself\u001B[39m\u001B[38;5;241m.\u001B[39mparams, \u001B[38;5;241m*\u001B[39m\u001B[38;5;241m*\u001B[39mkwargs))\n\u001B[0;32m    192\u001B[0m \u001B[38;5;28;01mexcept\u001B[39;00m:\n\u001B[0;32m    193\u001B[0m   \u001B[38;5;66;03m# Some transformations yield from inside context managers, so we have to\u001B[39;00m\n\u001B[0;32m    194\u001B[0m   \u001B[38;5;66;03m# interrupt them before reraising the exception. Otherwise they will only\u001B[39;00m\n\u001B[0;32m    195\u001B[0m   \u001B[38;5;66;03m# get garbage-collected at some later time, running their cleanup tasks\u001B[39;00m\n\u001B[0;32m    196\u001B[0m   \u001B[38;5;66;03m# only after this exception is handled, which can corrupt the global\u001B[39;00m\n\u001B[0;32m    197\u001B[0m   \u001B[38;5;66;03m# state.\u001B[39;00m\n\u001B[0;32m    198\u001B[0m   \u001B[38;5;28;01mwhile\u001B[39;00m stack:\n",
      "\u001B[1;31mTypeError\u001B[0m: conditional_function.<locals>.<lambda>() missing 2 required positional arguments: 'y' and 'z'"
     ]
    }
   ],
   "source": [
    "from jax import lax\n",
    "\n",
    "def func_true(x, y):\n",
    "    # Function body for the True case\n",
    "    return x + y\n",
    "\n",
    "def func_false(x, y):\n",
    "    # Function body for the False case\n",
    "    return x * y\n",
    "\n",
    "def conditional_function(condition, a, b):\n",
    "    return lax.cond(condition,\n",
    "                    lambda x, y, z: func_true(x, y),\n",
    "                    lambda x, y, z: func_false(x, y),\n",
    "                    (a, b, 0))\n",
    "\n",
    "# Example usage\n",
    "condition = True  # or False\n",
    "a = 10\n",
    "b = 5\n",
    "result = conditional_function(condition, a, b)\n",
    "print(result)\n"
   ],
   "metadata": {
    "collapsed": false,
    "ExecuteTime": {
     "end_time": "2024-03-11T11:20:19.459977900Z",
     "start_time": "2024-03-11T11:20:19.276943300Z"
    }
   },
   "execution_count": 15
  },
  {
   "cell_type": "code",
   "outputs": [
    {
     "name": "stdout",
     "output_type": "stream",
     "text": [
      "3\n"
     ]
    }
   ],
   "source": [
    "p = jnp.array([1,2,3]), jnp.array([2,3,4]), jnp.array([3,4,4,5,7])\n",
    "print(len(p))"
   ],
   "metadata": {
    "collapsed": false,
    "ExecuteTime": {
     "end_time": "2024-03-11T12:17:02.005519900Z",
     "start_time": "2024-03-11T12:17:01.928505Z"
    }
   },
   "execution_count": 23
  },
  {
   "cell_type": "code",
   "outputs": [
    {
     "ename": "TracerBoolConversionError",
     "evalue": "Attempted boolean conversion of traced array with shape bool[]..\nThe error occurred while tracing the function example_function at C:\\Users\\Administrator\\AppData\\Local\\Temp\\ipykernel_13736\\728383260.py:2 for jit. This concrete value was not available in Python because it depends on the value of the argument alpha.\nSee https://jax.readthedocs.io/en/latest/errors.html#jax.errors.TracerBoolConversionError",
     "output_type": "error",
     "traceback": [
      "\u001B[1;31m---------------------------------------------------------------------------\u001B[0m",
      "\u001B[1;31mTracerBoolConversionError\u001B[0m                 Traceback (most recent call last)",
      "Cell \u001B[1;32mIn[24], line 18\u001B[0m\n\u001B[0;32m     16\u001B[0m alpha \u001B[38;5;241m=\u001B[39m \u001B[38;5;28;01mTrue\u001B[39;00m\n\u001B[0;32m     17\u001B[0m params \u001B[38;5;241m=\u001B[39m (\u001B[38;5;241m1\u001B[39m, \u001B[38;5;241m2\u001B[39m, \u001B[38;5;241m3\u001B[39m)\n\u001B[1;32m---> 18\u001B[0m result \u001B[38;5;241m=\u001B[39m \u001B[43mexample_function\u001B[49m\u001B[43m(\u001B[49m\u001B[43malpha\u001B[49m\u001B[43m,\u001B[49m\u001B[43m \u001B[49m\u001B[43mparams\u001B[49m\u001B[43m)\u001B[49m\n\u001B[0;32m     19\u001B[0m \u001B[38;5;28mprint\u001B[39m(result)\n",
      "    \u001B[1;31m[... skipping hidden 12 frame]\u001B[0m\n",
      "Cell \u001B[1;32mIn[24], line 4\u001B[0m, in \u001B[0;36mexample_function\u001B[1;34m(alpha, params)\u001B[0m\n\u001B[0;32m      2\u001B[0m \u001B[38;5;129m@jax\u001B[39m\u001B[38;5;241m.\u001B[39mjit\n\u001B[0;32m      3\u001B[0m \u001B[38;5;28;01mdef\u001B[39;00m \u001B[38;5;21mexample_function\u001B[39m(alpha, params):\n\u001B[1;32m----> 4\u001B[0m     \u001B[38;5;28;01mif\u001B[39;00m alpha:\n\u001B[0;32m      5\u001B[0m         \u001B[38;5;66;03m# Assuming params can be unpacked into three values\u001B[39;00m\n\u001B[0;32m      6\u001B[0m         a, b, c \u001B[38;5;241m=\u001B[39m params\n\u001B[0;32m      7\u001B[0m         \u001B[38;5;66;03m# Use a placeholder value for the third value when alpha is False\u001B[39;00m\n",
      "    \u001B[1;31m[... skipping hidden 1 frame]\u001B[0m\n",
      "File \u001B[1;32m~\\anaconda3\\lib\\site-packages\\jax\\_src\\core.py:1443\u001B[0m, in \u001B[0;36mconcretization_function_error.<locals>.error\u001B[1;34m(self, arg)\u001B[0m\n\u001B[0;32m   1442\u001B[0m \u001B[38;5;28;01mdef\u001B[39;00m \u001B[38;5;21merror\u001B[39m(\u001B[38;5;28mself\u001B[39m, arg):\n\u001B[1;32m-> 1443\u001B[0m   \u001B[38;5;28;01mraise\u001B[39;00m TracerBoolConversionError(arg)\n",
      "\u001B[1;31mTracerBoolConversionError\u001B[0m: Attempted boolean conversion of traced array with shape bool[]..\nThe error occurred while tracing the function example_function at C:\\Users\\Administrator\\AppData\\Local\\Temp\\ipykernel_13736\\728383260.py:2 for jit. This concrete value was not available in Python because it depends on the value of the argument alpha.\nSee https://jax.readthedocs.io/en/latest/errors.html#jax.errors.TracerBoolConversionError"
     ]
    }
   ],
   "source": [
    "import jax\n",
    "@jax.jit\n",
    "def example_function(alpha, params):\n",
    "    if alpha:\n",
    "        # Assuming params can be unpacked into three values\n",
    "        a, b, c = params\n",
    "        # Use a placeholder value for the third value when alpha is False\n",
    "        return a, b, c\n",
    "    else:\n",
    "        a, b = params\n",
    "        # Provide a default value for c, ensure the output tuple is always of the same size\n",
    "        c = None  # or an appropriate default value\n",
    "        return a, b, c\n",
    "\n",
    "# Example usage\n",
    "alpha = True\n",
    "params = (1, 2, 3)\n",
    "result = example_function(alpha, params)\n",
    "print(result)  # Output will be (1\n"
   ],
   "metadata": {
    "collapsed": false,
    "ExecuteTime": {
     "end_time": "2024-03-11T12:30:58.975589100Z",
     "start_time": "2024-03-11T12:30:55.792280600Z"
    }
   },
   "execution_count": 24
  },
  {
   "cell_type": "code",
   "outputs": [
    {
     "data": {
      "text/plain": "[<matplotlib.lines.Line2D at 0x1b3a88b84f0>]"
     },
     "execution_count": 29,
     "metadata": {},
     "output_type": "execute_result"
    },
    {
     "data": {
      "text/plain": "<Figure size 640x480 with 1 Axes>",
      "image/png": "[encoded data removed]"
     },
     "metadata": {},
     "output_type": "display_data"
    }
   ],
   "source": [
    "import matplotlib.pyplot as plt\n",
    "def linear_cycling_with_hold(schedule_step, max_lr, min_lr, cycle_steps):\n",
    "    if schedule_step <= 8 * cycle_steps:\n",
    "        cycle = jnp.floor(1 + schedule_step / (2 * cycle_steps))\n",
    "        x = jnp.abs(schedule_step / cycle_steps - 2 * cycle + 1)\n",
    "        lr = min_lr + (max_lr - min_lr) * jnp.maximum(0, (1 - x))\n",
    "    else:\n",
    "        lr = 2 * min_lr\n",
    "    return lr\n",
    "a = []\n",
    "for i in range(100):\n",
    "    a.append(linear_cycling_with_hold(i, 0.1, 0.01, 10))\n",
    "plt.plot(a)\n"
   ],
   "metadata": {
    "collapsed": false,
    "ExecuteTime": {
     "end_time": "2024-03-11T13:05:53.694947500Z",
     "start_time": "2024-03-11T13:05:53.510745500Z"
    }
   },
   "execution_count": 29
  },
  {
   "cell_type": "code",
   "outputs": [
    {
     "name": "stdout",
     "output_type": "stream",
     "text": [
      "(3, 3, 10, 10)\n"
     ]
    }
   ],
   "source": [
    "Ny = 3\n",
    "Nx = 3\n",
    "units = 10\n",
    "print(jnp.tile(jnp.zeros((units, units)), (Ny, Nx, 1, 1)).shape)"
   ],
   "metadata": {
    "collapsed": false,
    "ExecuteTime": {
     "end_time": "2024-03-11T13:37:12.129558700Z",
     "start_time": "2024-03-11T13:37:12.043049800Z"
    }
   },
   "execution_count": 31
  },
  {
   "cell_type": "code",
   "outputs": [
    {
     "data": {
      "text/plain": "(4, 4, 3, 6)"
     },
     "execution_count": 34,
     "metadata": {},
     "output_type": "execute_result"
    }
   ],
   "source": [
    "emb_size = 6\n",
    "num_layer = 3\n",
    "Ny = 4\n",
    "Nx = 4\n",
    "jnp.tile(jnp.array([(jnp.arange(emb_size) / emb_size) ** (1 - i / num_layer) for i in range(num_layer)]), (Ny, Nx, 1, 1)).shape"
   ],
   "metadata": {
    "collapsed": false,
    "ExecuteTime": {
     "end_time": "2024-03-12T10:47:04.140024500Z",
     "start_time": "2024-03-12T10:47:04.059873Z"
    }
   },
   "execution_count": 34
  },
  {
   "cell_type": "code",
   "outputs": [
    {
     "data": {
      "text/plain": "Array(-34.65736, dtype=float32, weak_type=True)"
     },
     "execution_count": 22,
     "metadata": {},
     "output_type": "execute_result"
    }
   ],
   "source": [
    "import jax\n",
    "import jax.numpy as jnp\n",
    "jnp.log(3.8-3.799999999999999)"
   ],
   "metadata": {
    "collapsed": false,
    "ExecuteTime": {
     "end_time": "2024-03-17T12:07:56.016025800Z",
     "start_time": "2024-03-17T12:07:55.840415300Z"
    }
   },
   "execution_count": 22
  },
  {
   "cell_type": "code",
   "outputs": [],
   "source": [],
   "metadata": {
    "collapsed": false
   }
  }
 ],
 "metadata": {
  "kernelspec": {
   "display_name": "Python 3",
   "language": "python",
   "name": "python3"
  },
  "language_info": {
   "codemirror_mode": {
    "name": "ipython",
    "version": 2
   },
   "file_extension": ".py",
   "mimetype": "text/x-python",
   "name": "python",
   "nbconvert_exporter": "python",
   "pygments_lexer": "ipython2",
   "version": "2.7.6"
  }
 },
 "nbformat": 4,
 "nbformat_minor": 0
}
