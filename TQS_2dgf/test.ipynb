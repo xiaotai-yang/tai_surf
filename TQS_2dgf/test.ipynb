{
 "cells": [
  {
   "cell_type": "code",
   "execution_count": 13,
   "id": "initial_id",
   "metadata": {
    "collapsed": true,
    "ExecuteTime": {
     "end_time": "2024-05-07T08:09:48.327820Z",
     "start_time": "2024-05-07T08:09:48.304873Z"
    }
   },
   "outputs": [
    {
     "data": {
      "text/plain": "Array([[      -0.,        0.,        0.],\n       [-1000000.,       -0.,        0.],\n       [-1000000., -1000000.,       -0.]], dtype=float32)"
     },
     "execution_count": 13,
     "metadata": {},
     "output_type": "execute_result"
    }
   ],
   "source": [
    "import jax.numpy as jnp\n",
    "import matplotlib.pyplot as plt\n",
    "\n",
    "jnp.tril(-(jnp.ones((3,3))-jnp.eye(3))*1e6)"
   ]
  },
  {
   "cell_type": "code",
   "outputs": [
    {
     "data": {
      "text/plain": "Array([1, 1, 1], dtype=int32)"
     },
     "execution_count": 16,
     "metadata": {},
     "output_type": "execute_result"
    }
   ],
   "source": [
    "jnp.ones(3, dtype=int)"
   ],
   "metadata": {
    "collapsed": false,
    "ExecuteTime": {
     "end_time": "2024-05-07T08:33:51.571863Z",
     "start_time": "2024-05-07T08:33:51.535871Z"
    }
   },
   "id": "a4081deaee24aea1",
   "execution_count": 16
  },
  {
   "cell_type": "code",
   "outputs": [],
   "source": [
    "def int_to_binary_array(x, num_bits):\n",
    "    \"\"\"\n",
    "    Converts an array of integers to their binary representation arrays with a fixed number of bits.\n",
    "    This function is designed to be compatible with Jax's vmap for vectorization over an array of integers.\n",
    "\n",
    "    Parameters:\n",
    "    - x: An array of integers, the numbers to convert.\n",
    "    - num_bits: Integer, the fixed number of bits for the binary representation.\n",
    "\n",
    "    Returns:\n",
    "    - A 2D Jax array where each row is the binary representation of an integer in 'x'.\n",
    "    \"\"\"\n",
    "    # Create an array of bit positions: [2^(num_bits-1), 2^(num_bits-2), ..., 1]\n",
    "    powers_of_two = 2 ** jnp.arange(num_bits - 1, -1, -1)\n",
    "\n",
    "    # Expand dims of x and powers_of_two for broadcasting\n",
    "    x_expanded = x[:, None]\n",
    "    powers_of_two_expanded = powers_of_two[None, :]\n",
    "\n",
    "    # Perform bitwise AND between each number and each power of two, then right shift to get the bit value\n",
    "    binary_matrix = (x_expanded & powers_of_two_expanded) >> jnp.arange(num_bits - 1, -1, -1)\n",
    "\n",
    "    return binary_matrix.astype(jnp.int32)  # Ensure the result is integer\n"
   ],
   "metadata": {
    "collapsed": false,
    "ExecuteTime": {
     "end_time": "2024-05-07T12:30:54.552864Z",
     "start_time": "2024-05-07T12:30:54.526297Z"
    }
   },
   "id": "d1dba3127aa99ba8",
   "execution_count": 17
  },
  {
   "cell_type": "code",
   "outputs": [
    {
     "data": {
      "text/plain": "Array([[0, 0, 0, 1],\n       [0, 0, 1, 0],\n       [0, 0, 1, 1],\n       [0, 1, 0, 0]], dtype=int32)"
     },
     "execution_count": 27,
     "metadata": {},
     "output_type": "execute_result"
    }
   ],
   "source": [
    "int_to_binary_array(jnp.array([1,2,3,4]), 4)"
   ],
   "metadata": {
    "collapsed": false,
    "ExecuteTime": {
     "end_time": "2024-05-07T12:33:38.990839Z",
     "start_time": "2024-05-07T12:33:38.971875Z"
    }
   },
   "id": "2f7c02375cb896cd",
   "execution_count": 27
  },
  {
   "cell_type": "code",
   "outputs": [
    {
     "data": {
      "text/plain": "Array([[0, 0, 0, 0],\n       [0, 1, 1, 0],\n       [0, 0, 0, 1],\n       [1, 1, 0, 0]], dtype=int32)"
     },
     "execution_count": 26,
     "metadata": {},
     "output_type": "execute_result"
    }
   ],
   "source": [
    "jnp.transpose(int_to_binary_array(jnp.array([1,2,3,4]), 4).reshape(2, 2, 2, 2), (0, 2, 1, 3)).reshape(4, 4)"
   ],
   "metadata": {
    "collapsed": false,
    "ExecuteTime": {
     "end_time": "2024-05-07T12:33:22.302074Z",
     "start_time": "2024-05-07T12:33:22.216230Z"
    }
   },
   "id": "90268b2312e6d790",
   "execution_count": 26
  },
  {
   "cell_type": "code",
   "outputs": [],
   "source": [],
   "metadata": {
    "collapsed": false
   },
   "id": "a412d73ed9ffe17d"
  }
 ],
 "metadata": {
  "kernelspec": {
   "display_name": "Python 3",
   "language": "python",
   "name": "python3"
  },
  "language_info": {
   "codemirror_mode": {
    "name": "ipython",
    "version": 2
   },
   "file_extension": ".py",
   "mimetype": "text/x-python",
   "name": "python",
   "nbconvert_exporter": "python",
   "pygments_lexer": "ipython2",
   "version": "2.7.6"
  }
 },
 "nbformat": 4,
 "nbformat_minor": 5
}
