{
 "cells": [
  {
   "cell_type": "code",
   "execution_count": 1,
   "id": "initial_id",
   "metadata": {
    "collapsed": true,
    "ExecuteTime": {
     "end_time": "2024-03-13T17:18:27.641114Z",
     "start_time": "2024-03-13T17:18:26.902246800Z"
    }
   },
   "outputs": [],
   "source": [
    "import jax\n",
    "import jax.numpy as jnp\n",
    "from jax import random, grad, jit, vmap\n",
    "from jax.random import split, PRNGKey\n",
    "def init_RWKV_params(input_size, emb_size, h_size,  num_layer, out_size, Ny, Nx, key):\n",
    "    key, emb_key, init_x_key, init_y_key, last_x1_key, last_x2_key, last_y1s_key, last_y1e_key, last_y2_key, key_tout, key_txout, key_talpha_out, key_tbeta_out, key_tlast_x, key_clast_x, key_cxout = split(key, 16)\n",
    "    wemb = random.uniform(emb_key, (input_size, emb_size), minval=-1e-4, maxval=1e-4) #input hasn't been connected\n",
    "    x_init = random.uniform(init_x_key, (Nx, emb_size), minval=-1e-4, maxval=1e-4)\n",
    "    y_init = random.uniform(init_y_key, (Ny, emb_size), minval=-1e-4, maxval=1e-4)\n",
    "    last_x1_init = random.uniform(last_x1_key, (Nx, num_layer, emb_size), minval=-1e-4, maxval=1e-4)\n",
    "    last_x2_init = random.uniform(last_x2_key, (Nx, num_layer, emb_size), minval=-1e-4, maxval=1e-4)\n",
    "    last_y1s_init = random.uniform(last_y1s_key, (Ny+1, num_layer, emb_size), minval=-1e-4, maxval=1e-4)\n",
    "    last_y1e_init = random.uniform(last_y1e_key, (Ny+1, num_layer, emb_size), minval=-1e-4, maxval=1e-4)\n",
    "    last_y2_init = random.uniform(last_y2_key, (Ny, num_layer, emb_size), minval=-1e-4, maxval=1e-4)\n",
    "    t_alpha_init_x, t_alpha_init_y, t_beta_init_x, t_beta_init_y = jnp.zeros((Nx, num_layer, h_size)), jnp.zeros((Ny, num_layer, h_size)), jnp.zeros((Nx, num_layer, h_size)), jnp.zeros((Ny, num_layer, h_size))\n",
    "    t_xout = random.normal(key_tout, (Ny, Nx, num_layer, emb_size, 2*emb_size))\n",
    "    t_alphaout = random.normal(key_talpha_out, (Ny, Nx, num_layer, h_size, 2*h_size))\n",
    "    t_betaout = random.normal(key_tbeta_out, (Ny, Nx, num_layer, h_size, 2*h_size))\n",
    "    c_xout = random.normal(key_cxout, (Ny, Nx, num_layer, emb_size, 2*emb_size))    \n",
    "    emb_size, h_size = 2*emb_size, 2*h_size #tensor product the input from two directions and concantenate the hidden state\n",
    "    wln_in, bln_in, wln_out, bln_out = jnp.ones((Ny, Nx, emb_size)), jnp.zeros((Ny, Nx, emb_size)), jnp.ones((Ny, Nx, emb_size)), jnp.zeros((Ny, Nx, emb_size))  #in&out layer_norm params\n",
    "    wln, bln = jnp.ones((2, Ny, Nx, num_layer, emb_size)), jnp.zeros((2, Ny, Nx, num_layer, emb_size))  #time&channel layer_norm params\n",
    "\n",
    "    # time mixing params\n",
    "    decay = jnp.tile(-5 + jnp.array([8*(jnp.arange(h_size)/(h_size-1))**(0.7 + 1.3*i/(num_layer-1)) for i in range(num_layer)]), (Ny, Nx, 1, 1))\n",
    "    bonus = jnp.tile(0.5*(jnp.arange(h_size)%3-1)+jnp.log(0.3), (Ny, Nx, num_layer, 1))\n",
    "    t_mix_k = jnp.tile(jnp.array([(jnp.arange(emb_size) / emb_size) ** (1 - i / num_layer) for i in range(num_layer)]), (Ny, Nx, 1, 1))\n",
    "    t_mix_v = t_mix_k + jnp.transpose(jnp.tile(jnp.arange(num_layer) * 0.3 / (num_layer - 1), (Ny, Nx, emb_size, 1)), (0, 1, 3, 2))\n",
    "    t_mix_r = 0.5 * t_mix_k\n",
    "    t_wk, t_wv, t_wr = jnp.zeros((Ny, Nx, num_layer, h_size, emb_size)), jnp.zeros((Ny, Nx, num_layer, h_size, emb_size)), jnp.zeros((Ny, Nx, num_layer, h_size, emb_size))\n",
    "    t_wout = jnp.sqrt(h_size/emb_size)*random.normal(key_tout, (Ny, Nx, num_layer, emb_size, h_size))\n",
    "    t_wlast_x = random.normal(key_tlast_x, (Ny, Nx, num_layer, emb_size, 2*emb_size)) #since last_x is twice larger than x\n",
    "\n",
    "    # channel mixing params\n",
    "    c_mix_k, c_mix_r = t_mix_k, t_mix_k\n",
    "    c_wr, c_wv, c_wk = jnp.zeros((Ny, Nx, num_layer, emb_size, emb_size)), jnp.zeros((Ny, Nx, num_layer, emb_size, emb_size)), jnp.zeros((Ny, Nx, num_layer, emb_size, emb_size))\n",
    "    c_wlast_x = random.normal(key_clast_x, (Ny, Nx, num_layer, emb_size, 2*emb_size)) #since last_x is twice larger than x\n",
    "    # output params\n",
    "    whead, bhead = jnp.tile(jnp.eye(emb_size), (Ny, Nx, 1, 1)), jnp.zeros((Ny, Nx, emb_size))\n",
    "    wprob, bprob, wphase, bphase = jnp.zeros((out_size, emb_size)), jnp.zeros((out_size)), jnp.zeros((out_size, emb_size)), jnp.zeros((out_size))\n",
    "    RWKV_cell_params = wln[0], bln[0], wln[1], bln[1], decay, bonus, t_mix_r, t_mix_v, t_mix_k, t_wr, t_wv, t_wk, t_wout, t_wlast_x, c_mix_k, c_mix_r, c_wr, c_wv, c_wk, c_wlast_x, t_xout, t_alphaout, t_betaout, c_xout\n",
    "\n",
    "    return (wemb, x_init, y_init, last_x1_init, last_x2_init, last_y1s_init, last_y1e_init, last_y2_init, t_alpha_init_x, t_alpha_init_y, t_beta_init_x, t_beta_init_y,  wln_in, bln_in, wln_out, bln_out, whead, bhead, wprob, bprob, wphase, bphase, RWKV_cell_params)"
   ]
  },
  {
   "cell_type": "code",
   "outputs": [],
   "source": [
    "def int_to_binary_array(x, num_bits):\n",
    "    \"\"\"\n",
    "    Converts an array of integers to their binary representation arrays with a fixed number of bits.\n",
    "    This function is designed to be compatible with Jax's vmap for vectorization over an array of integers.\n",
    "\n",
    "    Parameters:\n",
    "    - x: An array of integers, the numbers to convert.\n",
    "    - num_bits: Integer, the fixed number of bits for the binary representation.\n",
    "\n",
    "    Returns:\n",
    "    - A 2D Jax array where each row is the binary representation of an integer in 'x'.\n",
    "    \"\"\"\n",
    "    # Create an array of bit positions: [2^(num_bits-1), 2^(num_bits-2), ..., 1]\n",
    "    powers_of_two = 2 ** jnp.arange(num_bits - 1, -1, -1)\n",
    "\n",
    "    # Expand dims of x and powers_of_two for broadcasting\n",
    "    x_expanded = x[:, None]\n",
    "    powers_of_two_expanded = powers_of_two[None, :]\n",
    "\n",
    "    # Perform bitwise AND between each number and each power of two, then right shift to get the bit value\n",
    "    binary_matrix = (x_expanded & powers_of_two_expanded) >> jnp.arange(num_bits - 1, -1, -1)\n",
    "\n",
    "    return binary_matrix.astype(jnp.int32)  # Ensure the result is integer\n",
    "\n",
    "\n",
    "def binary_array_to_int(binary_array, num_bits):\n",
    "    \"\"\"\n",
    "    Converts a 2D array of binary representations to their decimal equivalents.\n",
    "\n",
    "    Parameters:\n",
    "    - binary_array: A 2D Jax array where each row represents a binary number.\n",
    "\n",
    "    Returns:\n",
    "    - A 1D Jax array of integers, the decimal equivalents of the binary representations.\n",
    "    \"\"\"\n",
    "    powers_of_two = 2 ** jnp.arange(num_bits - 1, -1, -1)\n",
    "    # Multiply each bit by its corresponding power of two and sum the results\n",
    "    decimals = jnp.dot(binary_array, powers_of_two)\n",
    "    return decimals"
   ],
   "metadata": {
    "collapsed": false,
    "ExecuteTime": {
     "end_time": "2024-03-13T17:18:27.651828600Z",
     "start_time": "2024-03-13T17:18:27.641684600Z"
    }
   },
   "id": "f428421532caf1a5",
   "execution_count": 2
  },
  {
   "cell_type": "code",
   "outputs": [],
   "source": [
    "from functools import partial\n",
    "from jax.lax import scan\n",
    "from jax.random import categorical\n",
    "\n",
    "@partial(jax.jit, static_argnames=['fixed_params'])\n",
    "def sample_prob(params, fixed_params, ny_nx_indices, key):\n",
    "\n",
    "    Ny, Nx, py, px, mag_fixed, magnetization, num_layer = fixed_params\n",
    "    int_to_binary = partial(int_to_binary_array, num_bits=px * py)\n",
    "    \n",
    "    def scan_fun_1d(carry_1d, indices):\n",
    "        ny, nx = indices\n",
    "        \n",
    "        input_x, input_yi, last_x1, last_x1s, last_x1e, last_x2, last_y1i, last_y2i, t_alpha_state_x1, t_beta_state_x1, t_alpha_state_yi, t_beta_state_yi, key = carry_1d\n",
    "    \n",
    "        rnn_input = jnp.concatenate((input_yi, input_x[nx]), axis=0)\n",
    "        last_state = jnp.concatenate((last_y2i, last_x1s[nx], last_x2[nx], last_x1e[nx]), axis=1)\n",
    "        t_alpha_state = jnp.concatenate((t_alpha_state_yi, t_alpha_state_x1[nx]), axis=1)\n",
    "        t_beta_state = jnp.concatenate((t_beta_state_yi, t_beta_state_x1[nx]), axis=1)\n",
    "        x, t_states, c_states, prob, phase = RWKV_step(rnn_input, (last_state, t_alpha_state, t_beta_state), (last_state), num_layer, RWKV_net_params, jnp.array([ny, nx]))\n",
    "\n",
    "        key, subkey = split(key)\n",
    "        block_sample = categorical(subkey, jnp.log(prob))\n",
    "        probs, phase = prob[block_sample], phase[block_sample]\n",
    "        last_y2i = last_y1i\n",
    "        last_y1i, t_alpha_state_yi, t_beta_state_yi= t_states\n",
    "        input_yi = wemb[block_sample]\n",
    "        return (input_x, input_yi, last_x1, last_x1s, last_x1e, last_x2, last_y1i, last_y2i, t_alpha_state_x1, t_beta_state_x1, t_alpha_state_yi, t_beta_state_yi, key), (last_y1i, t_alpha_state_yi, t_beta_state_yi, block_sample, probs, phase)\n",
    "\n",
    "    def scan_fun_2d(carry_2d, indices):  # indices:[[0,0], [0,1], [0,2]...[0,Nx-1]]\n",
    "\n",
    "        input_x, input_y, last_x1, last_x2, last_y1s, last_y1e, last_y2, t_alpha_state_x, t_beta_state_x, t_alpha_state_y, t_beta_state_y ,key = carry_2d\n",
    "        ## The shape of last_y1s, last_y1e are (Ny+1) \n",
    "        index = indices[0, 0]\n",
    "        print(last_y1s[index][None, ...].shape)\n",
    "        print(last_x1[:-1].shape)\n",
    "        last_x1s = jnp.concatenate((last_y1s[index][None, ...], last_x1[:-1]), axis=0)\n",
    "        last_x1e = jnp.concatenate((last_x1[1:], last_y1e[index][None, ...]), axis=0)\n",
    "        carry_1d = input_x, input_y[index], last_x1, last_x1s, last_x1e, last_x2, last_y1e[index+1], last_y2[index], t_alpha_state_x, t_beta_state_x, t_alpha_state_y[index], t_beta_state_y[index], key\n",
    "        _, y = scan(scan_fun_1d, carry_1d, indices)\n",
    "        '''\n",
    "        The stacked y1i becomes the x1 in the next row\n",
    "        The stacked y2i becomes the x2e in the next row\n",
    "        '''\n",
    "        last_x2 = last_x1 # x2 for the next row\n",
    "        last_x1, t_alpha_state_x1, t_beta_state_x1, row_block_sample, row_prob, row_phase = y\n",
    "        key = _[-1]\n",
    "        last_x2 = jnp.flip(last_x2, 0)\n",
    "        last_x1 = jnp.flip(last_x1, 0)\n",
    "        t_alpha_state_x1 = jnp.flip(t_alpha_state_x1, 0)\n",
    "        t_beta_state_x1 = jnp.flip(t_beta_state_x1, 0)\n",
    "        input_x = wemb[jnp.flip(row_block_sample)]\n",
    "        row_block_sample = lax.cond(index % 2, lambda x: jnp.flip(x, 0), lambda x: x, row_block_sample)\n",
    "        row_prob = lax.cond(index % 2, lambda x: jnp.flip(x, 0), lambda x: x, row_prob)\n",
    "        row_phase = lax.cond(index % 2, lambda x: jnp.flip(x, 0), lambda x: x, row_phase)\n",
    "\n",
    "        return (input_x, input_y, last_x1, last_x2, last_y1s, last_y1e, last_y2, t_alpha_state_x1, t_beta_state_x1, t_alpha_state_y, t_beta_state_y, key), (row_block_sample, row_prob, row_phase)\n",
    "\n",
    "    # initialization\n",
    "    wemb = params[0]\n",
    "    init = (*params[1:12], key)\n",
    "    RWKV_net_params = params[12:]\n",
    "    __, (samples, probs, phase) = scan(scan_fun_2d, init, ny_nx_indices)\n",
    "    samples = vmap(int_to_binary, 0)(samples).reshape(Ny*py, Nx*px)\n",
    "    log_probs, phase = jnp.sum(jnp.log(probs)), jnp.sum(phase)\n",
    "    samples_log_amp = log_probs / 2 + phase * 1j\n",
    "\n",
    "    return samples, samples_log_amp\n",
    "\n"
   ],
   "metadata": {
    "collapsed": false,
    "ExecuteTime": {
     "end_time": "2024-03-13T17:33:34.509497200Z",
     "start_time": "2024-03-13T17:33:34.490373300Z"
    }
   },
   "id": "d6ba8417e0ec7d63",
   "execution_count": 13
  },
  {
   "cell_type": "code",
   "outputs": [
    {
     "data": {
      "text/plain": "(Array([[0, 0, 1],\n        [0, 0, 1],\n        [0, 1, 0]], dtype=int32),\n Array(-3.1191623+0.j, dtype=complex64))"
     },
     "execution_count": 21,
     "metadata": {},
     "output_type": "execute_result"
    }
   ],
   "source": [
    "key = PRNGKey(0)\n",
    "params = init_RWKV_params(input_size=2, emb_size=8, h_size=5, num_layer=3, out_size=2, Ny=3, Nx=3, key=key)\n",
    "fixed_params = (3, 3, 1, 1, 0, 0, 3)\n",
    "ny_nx_indices = jnp.array([[[i, j] for j in range(3)] for i in range(3)])\n",
    "key = PRNGKey(0)\n",
    "sample_prob(params, fixed_params, ny_nx_indices, key)"
   ],
   "metadata": {
    "collapsed": false,
    "ExecuteTime": {
     "end_time": "2024-03-13T17:41:15.011986600Z",
     "start_time": "2024-03-13T17:41:14.987747100Z"
    }
   },
   "id": "9bd056b2d94c8b5d",
   "execution_count": 21
  },
  {
   "cell_type": "code",
   "outputs": [],
   "source": [
    "from jax import nn\n",
    "from jax import lax\n",
    "\n",
    "def time_mixing(x, t_state, decay, bonus, t_mix_k, t_mix_v, t_mix_r, t_wlast_x, Wk, Wv, Wr, Wout, t_xout, t_alphaout, t_betaout):\n",
    "    last_x, last_alpha, last_beta = t_state\n",
    "    last_x = t_wlast_x @ last_x\n",
    "    print(\"t:\", t_mix_k.shape)\n",
    "    k = Wk @ (x * t_mix_k + last_x * (1 - t_mix_k))\n",
    "    v = Wv @ (x * t_mix_v + last_x * (1 - t_mix_v))\n",
    "    r = Wr @ (x * t_mix_r + last_x * (1 - t_mix_r))\n",
    "    wkv = (last_alpha + jnp.exp(bonus + k) * v) / \\\n",
    "          (last_beta + jnp.exp(bonus + k))\n",
    "    rwkv = nn.sigmoid(r) * wkv\n",
    "\n",
    "    alpha = jnp.exp(-jnp.exp(decay)) * last_alpha + jnp.exp(k) * v\n",
    "    beta = jnp.exp(-jnp.exp(decay)) * last_beta + jnp.exp(k)\n",
    "    alpha = t_alphaout @ alpha\n",
    "    beta = t_betaout @ beta\n",
    "    x = t_xout @ x\n",
    "    return Wout @ rwkv, (x, alpha, beta)\n",
    "\n",
    "def channel_mixing(x, c_states, c_mix_k, c_mix_r, c_wlast_x, Wk, Wr, Wv, c_xout):\n",
    "    last_x = c_states #change tuple into array\n",
    "    last_x = c_wlast_x @ last_x\n",
    "\n",
    "    k = Wk @ (x * c_mix_k + last_x * (1 - c_mix_k))\n",
    "    r = Wr @ (x * c_mix_r + last_x * (1 - c_mix_r))    \n",
    "    vk = Wv @ nn.relu(k) ** 2\n",
    "    x = c_xout @ x\n",
    "    return nn.sigmoid(r) * vk, x\n",
    "\n",
    "def layer_norm(x, w, b):\n",
    "    mean = jnp.mean(x)\n",
    "    std =  jnp.sqrt((jnp.sum((x - mean)**2) + 1e-10)/(x.size-1))\n",
    "    return (x - mean)/ std * w + b\n",
    "\n",
    "def RWKV_step(x, t_states, c_states, num_layer, RWKV_net_params, indices):\n",
    "    ny, nx = indices\n",
    "    w_in, b_in, whead, bhead, w_out, b_out, wprob, bprob, wphase, bphase, RWKV_cell_params = RWKV_net_params\n",
    "    x = layer_norm(x, w_in[ny, nx], b_in[ny, nx])\n",
    "    _ , y = lax.scan(partial(RWKV_cell, params = tuple(px[nx] for px in tuple(py[ny] for py in RWKV_cell_params)), cell_t_states = t_states, cell_c_states = c_states), x, jnp.arange(num_layer))\n",
    "    x = _[0]\n",
    "    t_states, c_states = y\n",
    "    x = whead[ny, nx] @ layer_norm(x, w_out[ny, nx], b_out[ny, nx]) + bhead[ny, nx]\n",
    "    prob = nn.softmax(wprob @ x + bprob)\n",
    "    phase = 2*jnp.pi*nn.soft_sign(wphase @ x + bphase)\n",
    "    return x, t_states, c_states, prob, phase\n",
    "\n",
    "def RWKV_cell(carry, i, params, cell_t_states, cell_c_states): # carry = (x, t_states, c_states)\n",
    "    #modify it for different layer of t_state and c_state and x . \n",
    "    x = carry\n",
    "    wln_i, bln_i, wln_m, bln_m, decay, bonus, t_mix_r, t_mix_v, t_mix_k, t_wr, t_wv, t_wk, t_wout,t_wlast_x, c_mix_k, c_mix_r, c_wr, c_wv, c_wk, c_wlast_x, t_xout, t_alphaout, t_betaout, c_xout = tuple(p[i] for p in params) \n",
    "    layer_t_states = tuple(t[i] for t in cell_t_states)\n",
    "    layer_c_states = cell_c_states[i]\n",
    "\n",
    "    x_ = layer_norm(x, wln_i, bln_i)\n",
    "    dx, output_t_states = time_mixing(x_, layer_t_states, decay, bonus, t_mix_r, t_mix_v, t_mix_k, t_wlast_x, t_wr, t_wv, t_wk, t_wout,  t_xout, t_alphaout, t_betaout)\n",
    "    x = x + dx\n",
    "    x_ = layer_norm(x, wln_m, bln_m)\n",
    "    dx, output_c_states = channel_mixing(x_, layer_c_states, c_mix_k, c_mix_r, c_wlast_x, c_wr, c_wv, c_wk, c_xout)\n",
    "    x = x + dx\n",
    "    # carry need to be modified\n",
    "    return x, (output_t_states, output_c_states)"
   ],
   "metadata": {
    "collapsed": false,
    "ExecuteTime": {
     "end_time": "2024-03-13T17:41:11.804803900Z",
     "start_time": "2024-03-13T17:41:11.782518600Z"
    }
   },
   "id": "cddd5d6f80aaa5e3",
   "execution_count": 20
  },
  {
   "cell_type": "code",
   "outputs": [],
   "source": [
    "key = PRNGKey(0)\n",
    "params = init_RWKV_params(input_size=2, emb_size=5, h_size=7, num_layer=4, out_size=2, Ny=3, Nx=3, key=key)\n",
    "wemb, x_init, y_init, last_x1_init, last_x2_init, last_y1s_init, last_y1e_init, last_y2_init, t_alpha_init_x, t_alpha_init_y, t_beta_init_x, t_beta_init_y,  wln_in, bln_in, wln_out, bln_out, whead, bhead, wprob, bprob, wphase, bphase, RWKV_cell_params = params\n",
    "x = jnp.concatenate((wemb[0], wemb[1]), axis = 0)\n",
    "last_x = jnp.concatenate((last_y2_init[0], last_y1s_init[0], last_x2_init[0], last_x1_init[1]), axis = 1)\n",
    "t_alpha_init = jnp.concatenate((t_alpha_init_x[0], t_alpha_init_y[0]), axis = 1)\n",
    "t_beta_init = jnp.concatenate((t_beta_init_x[0], t_beta_init_y[0]), axis = 1)\n"
   ],
   "metadata": {
    "collapsed": false,
    "ExecuteTime": {
     "end_time": "2024-03-13T15:29:45.543936200Z",
     "start_time": "2024-03-13T15:29:45.504513Z"
    }
   },
   "id": "dcbd00e30263c154",
   "execution_count": 289
  },
  {
   "cell_type": "code",
   "outputs": [],
   "source": [],
   "metadata": {
    "collapsed": false,
    "ExecuteTime": {
     "end_time": "2024-03-13T14:58:40.885033600Z",
     "start_time": "2024-03-13T14:58:40.859236400Z"
    }
   },
   "id": "bb617501e9f99cbe",
   "execution_count": 264
  },
  {
   "cell_type": "code",
   "outputs": [
    {
     "name": "stdout",
     "output_type": "stream",
     "text": [
      "(3, 3, 4, 10)\n",
      "(3, 3, 4, 10)\n",
      "(3, 3, 4, 10)\n",
      "(3, 3, 4, 10)\n",
      "(3, 3, 4, 14)\n",
      "(3, 3, 4, 14)\n",
      "(3, 3, 4, 10)\n",
      "(3, 3, 4, 10)\n",
      "(3, 3, 4, 10)\n",
      "(3, 3, 4, 14, 10)\n",
      "(3, 3, 4, 14, 10)\n",
      "(3, 3, 4, 14, 10)\n",
      "(3, 3, 4, 10, 14)\n",
      "(3, 3, 4, 10, 20)\n",
      "(3, 3, 4, 10)\n",
      "(3, 3, 4, 10)\n",
      "(3, 3, 4, 10, 10)\n",
      "(3, 3, 4, 10, 10)\n",
      "(3, 3, 4, 10, 10)\n",
      "(3, 3, 4, 10, 20)\n"
     ]
    }
   ],
   "source": [
    "wln_i, bln_i, wln_m, bln_m, decay, bonus, t_mix_r, t_mix_v, t_mix_k, t_wr, t_wv, t_wk, t_wout,t_wlast_x, c_mix_k, c_mix_r, c_wr, c_wv, c_wk, c_wlast_x = RWKV_cell_params\n",
    "for params in RWKV_cell_params:\n",
    "    print(params.shape)"
   ],
   "metadata": {
    "collapsed": false,
    "ExecuteTime": {
     "end_time": "2024-03-13T14:58:41.060615200Z",
     "start_time": "2024-03-13T14:58:41.034707100Z"
    }
   },
   "id": "75e8ea833fc44269",
   "execution_count": 265
  },
  {
   "cell_type": "code",
   "outputs": [
    {
     "name": "stdout",
     "output_type": "stream",
     "text": [
      "(3, 4, 10, 20)\n",
      "(3, 4, 10, 20)\n",
      "(2,)\n",
      "(3, 4, 10, 20)\n",
      "(3, 4, 10, 20)\n",
      "(2,)\n"
     ]
    },
    {
     "ename": "ValueError",
     "evalue": "not enough values to unpack (expected 12, got 3)",
     "output_type": "error",
     "traceback": [
      "\u001B[1;31m---------------------------------------------------------------------------\u001B[0m",
      "\u001B[1;31mValueError\u001B[0m                                Traceback (most recent call last)",
      "Cell \u001B[1;32mIn[266], line 4\u001B[0m\n\u001B[0;32m      2\u001B[0m ny_nx_indices \u001B[38;5;241m=\u001B[39m jnp\u001B[38;5;241m.\u001B[39marray([[[i, j] \u001B[38;5;28;01mfor\u001B[39;00m j \u001B[38;5;129;01min\u001B[39;00m \u001B[38;5;28mrange\u001B[39m(\u001B[38;5;241m3\u001B[39m)] \u001B[38;5;28;01mfor\u001B[39;00m i \u001B[38;5;129;01min\u001B[39;00m \u001B[38;5;28mrange\u001B[39m(\u001B[38;5;241m3\u001B[39m)])\n\u001B[0;32m      3\u001B[0m key \u001B[38;5;241m=\u001B[39m PRNGKey(\u001B[38;5;241m0\u001B[39m)\n\u001B[1;32m----> 4\u001B[0m \u001B[43msample_prob\u001B[49m\u001B[43m(\u001B[49m\u001B[43mparams\u001B[49m\u001B[43m,\u001B[49m\u001B[43m \u001B[49m\u001B[43mfixed_params\u001B[49m\u001B[43m,\u001B[49m\u001B[43m \u001B[49m\u001B[43mny_nx_indices\u001B[49m\u001B[43m,\u001B[49m\u001B[43m \u001B[49m\u001B[43mkey\u001B[49m\u001B[43m)\u001B[49m\n",
      "    \u001B[1;31m[... skipping hidden 12 frame]\u001B[0m\n",
      "Cell \u001B[1;32mIn[262], line 65\u001B[0m, in \u001B[0;36msample_prob\u001B[1;34m(params, fixed_params, ny_nx_indices, key)\u001B[0m\n\u001B[0;32m     63\u001B[0m \u001B[38;5;28;01mfor\u001B[39;00m i \u001B[38;5;129;01min\u001B[39;00m init:\n\u001B[0;32m     64\u001B[0m     \u001B[38;5;28mprint\u001B[39m(i\u001B[38;5;241m.\u001B[39mshape)\n\u001B[1;32m---> 65\u001B[0m __, (samples, probs, phase) \u001B[38;5;241m=\u001B[39m \u001B[43mscan\u001B[49m\u001B[43m(\u001B[49m\u001B[43mscan_fun_2d\u001B[49m\u001B[43m,\u001B[49m\u001B[43m \u001B[49m\u001B[43minit\u001B[49m\u001B[43m,\u001B[49m\u001B[43m \u001B[49m\u001B[43mny_nx_indices\u001B[49m\u001B[43m)\u001B[49m\n\u001B[0;32m     66\u001B[0m samples \u001B[38;5;241m=\u001B[39m vmap(int_to_binary, \u001B[38;5;241m0\u001B[39m)(samples)\u001B[38;5;241m.\u001B[39mreshape(Ny\u001B[38;5;241m*\u001B[39mpy, Nx\u001B[38;5;241m*\u001B[39mpx)\n\u001B[0;32m     67\u001B[0m log_probs, phase \u001B[38;5;241m=\u001B[39m jnp\u001B[38;5;241m.\u001B[39msum(jnp\u001B[38;5;241m.\u001B[39mlog(probs)), jnp\u001B[38;5;241m.\u001B[39msum(phase)\n",
      "    \u001B[1;31m[... skipping hidden 9 frame]\u001B[0m\n",
      "Cell \u001B[1;32mIn[262], line 34\u001B[0m, in \u001B[0;36msample_prob.<locals>.scan_fun_2d\u001B[1;34m(carry_2d, indices)\u001B[0m\n\u001B[0;32m     32\u001B[0m \u001B[38;5;28;01mfor\u001B[39;00m i \u001B[38;5;129;01min\u001B[39;00m carry_2d:\n\u001B[0;32m     33\u001B[0m     \u001B[38;5;28mprint\u001B[39m(i\u001B[38;5;241m.\u001B[39mshape)\n\u001B[1;32m---> 34\u001B[0m input_x, input_y, last_x1, last_x2, last_y1s, last_y1e, last_y2, t_alpha_state_x, t_beta_state_x, t_alpha_state_y, t_beta_state_y ,key \u001B[38;5;241m=\u001B[39m carry_2d\n\u001B[0;32m     35\u001B[0m \u001B[38;5;66;03m## The shape of last_y1s, last_y1e are (Ny+1) \u001B[39;00m\n\u001B[0;32m     36\u001B[0m index \u001B[38;5;241m=\u001B[39m indices[\u001B[38;5;241m0\u001B[39m, \u001B[38;5;241m0\u001B[39m]\n",
      "\u001B[1;31mValueError\u001B[0m: not enough values to unpack (expected 12, got 3)"
     ]
    }
   ],
   "source": [
    "fixed_params = (3, 3, 1, 1, 0, 0, 4)\n",
    "ny_nx_indices = jnp.array([[[i, j] for j in range(3)] for i in range(3)])\n",
    "key = PRNGKey(0)\n",
    "sample_prob(params, fixed_params, ny_nx_indices, key)"
   ],
   "metadata": {
    "collapsed": false,
    "ExecuteTime": {
     "end_time": "2024-03-13T14:58:42.280455Z",
     "start_time": "2024-03-13T14:58:42.192895500Z"
    }
   },
   "id": "73dc3b1f37e94589",
   "execution_count": 266
  },
  {
   "cell_type": "code",
   "outputs": [
    {
     "data": {
      "text/plain": "Array([[-5.        , -2.4069493 , -0.7875767 ,  0.5949459 ,  1.8431015 ,\n         3.        ],\n       [-5.        , -4.68      , -3.7199998 , -2.12      ,  0.12000036,\n         3.        ]], dtype=float32)"
     },
     "execution_count": 4,
     "metadata": {},
     "output_type": "execute_result"
    }
   ],
   "source": [
    "import jax\n",
    "import jax.numpy as jnp\n",
    "h_size = 6\n",
    "num_layer = 2 \n",
    "(-5 + jnp.array([8*(jnp.arange(h_size)/(h_size-1))**(0.7 + 1.3*i/(num_layer-1)) for i in range(num_layer)]))"
   ],
   "metadata": {
    "collapsed": false,
    "ExecuteTime": {
     "end_time": "2024-03-16T08:51:10.898462700Z",
     "start_time": "2024-03-16T08:51:10.873729100Z"
    }
   },
   "id": "17f2286eca8b8067",
   "execution_count": 4
  },
  {
   "cell_type": "code",
   "outputs": [
    {
     "data": {
      "text/plain": "Array([-1.7039728, -1.2039728, -0.7039728, -1.7039728, -1.2039728,\n       -0.7039728], dtype=float32, weak_type=True)"
     },
     "execution_count": 3,
     "metadata": {},
     "output_type": "execute_result"
    }
   ],
   "source": [
    "0.5*(jnp.arange(h_size)%3-1)+jnp.log(0.3)"
   ],
   "metadata": {
    "collapsed": false,
    "ExecuteTime": {
     "end_time": "2024-03-15T16:47:44.421286200Z",
     "start_time": "2024-03-15T16:47:44.282894Z"
    }
   },
   "id": "cfa3482442f25ca8",
   "execution_count": 3
  },
  {
   "cell_type": "code",
   "outputs": [],
   "source": [
    "import jax\n",
    "import jax.numpy as jnp\n",
    "a = jnp.eye(3)[None,:,:]\n"
   ],
   "metadata": {
    "collapsed": false,
    "ExecuteTime": {
     "end_time": "2024-04-04T15:31:48.778480100Z",
     "start_time": "2024-04-04T15:31:48.759322600Z"
    }
   },
   "id": "305a2f683f3573c2",
   "execution_count": 6
  },
  {
   "cell_type": "code",
   "outputs": [],
   "source": [
    "def flip_sample(sample, x, y):\n",
    "    return sample.at[x,y].set(1-sample[x, y])"
   ],
   "metadata": {
    "collapsed": false,
    "ExecuteTime": {
     "end_time": "2024-04-04T15:31:50.076804Z",
     "start_time": "2024-04-04T15:31:50.037319600Z"
    }
   },
   "id": "c20f2cd7fe643b2d",
   "execution_count": 7
  },
  {
   "cell_type": "code",
   "outputs": [],
   "source": [
    "from jax import vmap\n",
    "vec_flip_sample = vmap(vmap(vmap(flip_sample, (None, None, 0)), (None, 0, None)),(0, None, None))"
   ],
   "metadata": {
    "collapsed": false,
    "ExecuteTime": {
     "end_time": "2024-04-04T15:42:21.621146600Z",
     "start_time": "2024-04-04T15:42:21.569297400Z"
    }
   },
   "id": "cc2efc7f49327368",
   "execution_count": 30
  },
  {
   "cell_type": "code",
   "outputs": [
    {
     "name": "stdout",
     "output_type": "stream",
     "text": [
      "0.002005338668823242\n"
     ]
    }
   ],
   "source": [
    "import time\n",
    "import numpy as np\n",
    "list = []\n",
    "t = time.time()\n",
    "a = np.tile(np.eye(16),(30, 1, 1))\n",
    "for i in range (a.shape[0]):\n",
    "    for y in range(a.shape[1]):\n",
    "        for x in range(a.shape[2]):\n",
    "            list.append(a)   \n",
    "print(time.time()-t)"
   ],
   "metadata": {
    "collapsed": false,
    "ExecuteTime": {
     "end_time": "2024-04-04T15:44:31.367072400Z",
     "start_time": "2024-04-04T15:44:31.308786Z"
    }
   },
   "id": "ad4c2929401ef5db",
   "execution_count": 35
  },
  {
   "cell_type": "code",
   "outputs": [
    {
     "name": "stdout",
     "output_type": "stream",
     "text": [
      "0.021869421005249023\n"
     ]
    }
   ],
   "source": [
    "t = time.time()\n",
    "vec_flip_sample(a, jnp.arange(16), jnp.arange(16))\n",
    "print(time.time()-t)"
   ],
   "metadata": {
    "collapsed": false,
    "ExecuteTime": {
     "end_time": "2024-04-04T15:44:34.122857300Z",
     "start_time": "2024-04-04T15:44:34.077405900Z"
    }
   },
   "id": "c607993c333b6fa8",
   "execution_count": 36
  },
  {
   "cell_type": "code",
   "outputs": [],
   "source": [
    "import jax.lax as lax\n",
    "def dis_matrix(M):\n",
    "    out = []\n",
    "    Ny, Nx = M.shape[0], M.shape[1]\n",
    "    M_out = jnp.zeros((Ny, Nx, Ny, Nx))\n",
    "    for i in range(Ny):\n",
    "        for j in range(Nx):\n",
    "            for k in range(Ny):\n",
    "                for l in range(Nx):\n",
    "                    print(((i==k) & (j==l)))\n",
    "                    out.append(M_out.at[i, j, k, l].set(lax.cond(((i==k) & (j==l)), lambda a, b, c, d: 1, lambda a, b, c, d: ((a-c)**2+(b-d)**2)**3  , i, j, k, l)))\n",
    "    return out"
   ],
   "metadata": {
    "collapsed": false,
    "ExecuteTime": {
     "end_time": "2024-04-04T16:50:01.408794500Z",
     "start_time": "2024-04-04T16:50:01.393506800Z"
    }
   },
   "id": "3e03de254ca3c40d",
   "execution_count": 53
  },
  {
   "cell_type": "code",
   "outputs": [],
   "source": [
    "def staggered_magnetization(sample, L):\n",
    "    # nj is a 2D array representing a lattice, where each row is a configuration\n",
    "    # Calculate the staggered factor (-1)**(i+j) for a 2D grid\n",
    "    staggered_factor = 1 - (jnp.indices(jnp.array([5, 5])).sum(axis=0)) % 2 * 2 \n",
    "\n",
    "    return jnp.abs(jnp.sum((sample-0.5)*2 * staggered_factor)) / L**2"
   ],
   "metadata": {
    "collapsed": false,
    "ExecuteTime": {
     "end_time": "2024-04-04T16:55:44.114924Z",
     "start_time": "2024-04-04T16:55:43.947736400Z"
    }
   },
   "id": "1b0bda65d17c9ffd",
   "execution_count": 62
  },
  {
   "cell_type": "code",
   "outputs": [
    {
     "data": {
      "text/plain": "Array([0.5555556, 0.5555556], dtype=float32)"
     },
     "execution_count": 11,
     "metadata": {},
     "output_type": "execute_result"
    }
   ],
   "source": [
    "def staggered_magnetization(sample, L):\n",
    "    # nj is a 2D array representing a lattice, where each row is a configuration\n",
    "    # Calculate the staggered factor (-1)**(i+j) for a 2D grid\n",
    "    staggered_factor = 1 - (jnp.indices((L, L)).sum(axis=0)) % 2 * 2\n",
    "\n",
    "    return jnp.abs(jnp.sum((sample-0.5)*2 * staggered_factor)) / L**2\n",
    "jax.jit(jax.vmap(staggered_magnetization, in_axes=(0, None)), static_argnames=['L'])(jnp.tile(jnp.eye(3), (2, 1, 1)), 3)"
   ],
   "metadata": {
    "collapsed": false,
    "ExecuteTime": {
     "end_time": "2024-04-05T08:00:10.135389Z",
     "start_time": "2024-04-05T08:00:10.071356Z"
    }
   },
   "id": "ec35786619852b39",
   "execution_count": 11
  },
  {
   "cell_type": "code",
   "outputs": [
    {
     "data": {
      "text/plain": "Array([[ 1, -1,  1, -1,  1],\n       [-1,  1, -1,  1, -1],\n       [ 1, -1,  1, -1,  1],\n       [-1,  1, -1,  1, -1],\n       [ 1, -1,  1, -1,  1]], dtype=int32)"
     },
     "execution_count": 1,
     "metadata": {},
     "output_type": "execute_result"
    }
   ],
   "source": [
    "import jax\n",
    "import jax.numpy as jnp\n",
    "\n",
    "1 - (jnp.indices(jnp.array([5, 5])).sum(axis=0)) % 2 * 2 "
   ],
   "metadata": {
    "collapsed": false,
    "ExecuteTime": {
     "end_time": "2024-04-25T06:05:12.975048Z",
     "start_time": "2024-04-25T06:05:09.428229Z"
    }
   },
   "id": "6962472504ef81b7",
   "execution_count": 1
  },
  {
   "cell_type": "code",
   "outputs": [
    {
     "data": {
      "text/plain": "Array([0, 1, 0, 0], dtype=int32)"
     },
     "execution_count": 10,
     "metadata": {},
     "output_type": "execute_result"
    }
   ],
   "source": [
    "jnp.outer(jnp.array([1, 0]), jnp.array([0, 1])).ravel()"
   ],
   "metadata": {
    "collapsed": false,
    "ExecuteTime": {
     "end_time": "2024-04-25T06:10:46.462027Z",
     "start_time": "2024-04-25T06:10:46.444178Z"
    }
   },
   "id": "e3b72ec13725fe1a",
   "execution_count": 10
  },
  {
   "cell_type": "code",
   "outputs": [],
   "source": [
    "def binary_array_to_int(binary_array, num_bits):\n",
    "    \"\"\"\n",
    "    Converts a 2D array of binary representations to their decimal equivalents.\n",
    "\n",
    "    Parameters:\n",
    "    - binary_array: A 2D Jax array where each row represents a binary number.\n",
    "\n",
    "    Returns:\n",
    "    - A 1D Jax array of integers, the decimal equivalents of the binary representations.\n",
    "    \"\"\"\n",
    "    powers_of_two = 2 ** jnp.arange(num_bits - 1, -1, -1)\n",
    "    # Multiply each bit by its corresponding power of two and sum the results\n",
    "    decimals = jnp.dot(binary_array, powers_of_two)\n",
    "    return decimals"
   ],
   "metadata": {
    "collapsed": false,
    "ExecuteTime": {
     "end_time": "2024-04-25T06:08:00.208113Z",
     "start_time": "2024-04-25T06:08:00.194376Z"
    }
   },
   "id": "36f62235e43aff33",
   "execution_count": 7
  },
  {
   "cell_type": "code",
   "outputs": [
    {
     "data": {
      "text/plain": "Array(5, dtype=int32)"
     },
     "execution_count": 8,
     "metadata": {},
     "output_type": "execute_result"
    }
   ],
   "source": [
    "binary_array_to_int(jnp.array([1, 0, 1]), 3)"
   ],
   "metadata": {
    "collapsed": false,
    "ExecuteTime": {
     "end_time": "2024-04-25T06:08:10.140388Z",
     "start_time": "2024-04-25T06:08:09.921238Z"
    }
   },
   "id": "dc2316fd21a7fd5a",
   "execution_count": 8
  },
  {
   "cell_type": "code",
   "outputs": [
    {
     "data": {
      "text/plain": "array([0.41383359, 0.25422606, 0.36866871, 0.23232137, 0.37317606,\n       0.02404975, 0.11333109, 0.08641187, 0.1343285 , 0.05385513,\n       0.50081478, 0.60427048, 0.17863755, 0.70204059, 0.52180454,\n       0.82245659, 0.91467819, 0.22666008, 0.32177232, 0.18351523,\n       0.34527335, 0.6330418 , 0.32071911, 0.99225941, 0.65724411,\n       0.45120482, 0.2929529 , 0.91634819, 0.27061327, 0.75671199,\n       0.27644788, 0.38266732, 0.53487854, 0.97227441, 0.9013808 ,\n       0.12855412, 0.46583419, 0.45645021, 0.87530666, 0.87462189,\n       0.40826226, 0.07076857, 0.86488153, 0.63255568, 0.985933  ,\n       0.38402985, 0.39434664, 0.77334714, 0.43306387, 0.5697004 ,\n       0.10750879, 0.35482524, 0.6993147 , 0.02397043, 0.16236685,\n       0.81282862, 0.67707991, 0.41084657, 0.34294921, 0.3254295 ,\n       0.71415286, 0.42210605, 0.78727075, 0.68164797, 0.67360324,\n       0.73552787, 0.47612139, 0.24487505, 0.95469881, 0.46495495,\n       0.11442729, 0.40806291, 0.93719236, 0.16942264, 0.08042616,\n       0.3412308 , 0.24000625, 0.54653064, 0.11075807, 0.60346348,\n       0.51416964, 0.47580771, 0.01949202, 0.43039157, 0.37237207,\n       0.91283799, 0.3401981 , 0.39896681, 0.44958557, 0.62738306,\n       0.30801328, 0.36502274, 0.38639904, 0.60092395, 0.61234761,\n       0.25149299, 0.40971198, 0.9184758 , 0.51821996, 0.97480443])"
     },
     "execution_count": 22,
     "metadata": {},
     "output_type": "execute_result"
    }
   ],
   "source": [
    "import numpy as np\n",
    "a = np.random.uniform(size = (100))\n"
   ],
   "metadata": {
    "collapsed": false,
    "ExecuteTime": {
     "end_time": "2024-04-25T10:41:06.597480Z",
     "start_time": "2024-04-25T10:41:06.583605Z"
    }
   },
   "id": "4ee7a3e287e98349",
   "execution_count": 22
  },
  {
   "cell_type": "code",
   "outputs": [],
   "source": [
    "b = np.random.normal(size = (100, 100))*0.1"
   ],
   "metadata": {
    "collapsed": false,
    "ExecuteTime": {
     "end_time": "2024-04-25T10:42:41.561841Z",
     "start_time": "2024-04-25T10:42:41.550335Z"
    }
   },
   "id": "e79d0a7479bc6cc4",
   "execution_count": 32
  },
  {
   "cell_type": "code",
   "outputs": [
    {
     "name": "stdout",
     "output_type": "stream",
     "text": [
      "0.07073306004601215\n"
     ]
    },
    {
     "data": {
      "text/plain": "0.3188987005719188"
     },
     "execution_count": 33,
     "metadata": {},
     "output_type": "execute_result"
    }
   ],
   "source": [
    "import matplotlib.pyplot as plt\n",
    "print(np.var(a))\n",
    "np.var(b @ a)"
   ],
   "metadata": {
    "collapsed": false,
    "ExecuteTime": {
     "end_time": "2024-04-25T10:42:41.732902Z",
     "start_time": "2024-04-25T10:42:41.715285Z"
    }
   },
   "id": "8f63377851cf2f",
   "execution_count": 33
  },
  {
   "cell_type": "code",
   "outputs": [],
   "source": [
    "import numpy as np\n",
    "import jax.nn as nn\n",
    "a = 10000\n",
    "b = 1000\n",
    "w1 = (2*np.random.uniform(size = (a, b))-1)/(np.sqrt(b/5))\n",
    "w2 = (2*np.random.uniform(size = (a, b))-1)/(np.sqrt(b/5))\n",
    "x = np.random.normal(size = (b,))\n",
    "x = x/np.sqrt(np.mean(x**2))\n",
    "y1 = nn.elu(w1 @ x)\n",
    "y2 = nn.elu(w2 @ x)"
   ],
   "metadata": {
    "collapsed": false,
    "ExecuteTime": {
     "end_time": "2024-04-28T10:12:56.859006Z",
     "start_time": "2024-04-28T10:12:56.557153Z"
    }
   },
   "id": "898d7e13a698945d",
   "execution_count": 91
  },
  {
   "cell_type": "code",
   "outputs": [
    {
     "name": "stdout",
     "output_type": "stream",
     "text": [
      "0.9999993519869641\n",
      "0.9638375\n",
      "0.955016\n"
     ]
    }
   ],
   "source": [
    "print(np.var(x))\n",
    "print(np.var(y1))\n",
    "print(np.var(y2))"
   ],
   "metadata": {
    "collapsed": false,
    "ExecuteTime": {
     "end_time": "2024-04-28T10:12:56.874188Z",
     "start_time": "2024-04-28T10:12:56.861007Z"
    }
   },
   "id": "424f3853afeb94db",
   "execution_count": 92
  },
  {
   "cell_type": "code",
   "outputs": [
    {
     "data": {
      "text/plain": "(array([  4.,  29.,  99., 191., 306., 207., 126.,  31.,   5.,   2.]),\n array([-3.28905525, -2.58103311, -1.87301097, -1.16498883, -0.45696669,\n         0.25105545,  0.95907759,  1.66709973,  2.37512187,  3.08314401,\n         3.79116615]),\n <BarContainer object of 10 artists>)"
     },
     "execution_count": 86,
     "metadata": {},
     "output_type": "execute_result"
    },
    {
     "data": {
      "text/plain": "<Figure size 640x480 with 1 Axes>",
      "image/png": "[encoded data removed]"
     },
     "metadata": {},
     "output_type": "display_data"
    }
   ],
   "source": [
    "plt.hist(x)"
   ],
   "metadata": {
    "collapsed": false,
    "ExecuteTime": {
     "end_time": "2024-04-28T10:12:30.752328Z",
     "start_time": "2024-04-28T10:12:30.571458Z"
    }
   },
   "id": "393a08a0cdd551f",
   "execution_count": 86
  },
  {
   "cell_type": "code",
   "outputs": [
    {
     "data": {
      "text/plain": "(array([3443., 2144., 1665., 1270.,  789.,  430.,  192.,   44.,   16.,\n           7.]),\n array([-0.99114805, -0.40525839,  0.18063131,  0.76652098,  1.35241067,\n         1.93830037,  2.52418995,  3.11007977,  3.69596934,  4.28185892,\n         4.86774874]),\n <BarContainer object of 10 artists>)"
     },
     "execution_count": 93,
     "metadata": {},
     "output_type": "execute_result"
    },
    {
     "data": {
      "text/plain": "<Figure size 640x480 with 1 Axes>",
      "image/png": "[encoded data removed]"
     },
     "metadata": {},
     "output_type": "display_data"
    }
   ],
   "source": [
    "plt.hist(y1)"
   ],
   "metadata": {
    "collapsed": false,
    "ExecuteTime": {
     "end_time": "2024-04-28T10:13:15.618937Z",
     "start_time": "2024-04-28T10:13:13.875539Z"
    }
   },
   "id": "715be9bdb7fbc487",
   "execution_count": 93
  },
  {
   "cell_type": "code",
   "outputs": [
    {
     "data": {
      "text/plain": "Array([[[1., 0., 0., 1., 0., 0.],\n        [0., 1., 0., 0., 1., 0.],\n        [0., 0., 1., 0., 0., 1.]],\n\n       [[1., 0., 0., 1., 0., 0.],\n        [0., 1., 0., 0., 1., 0.],\n        [0., 0., 1., 0., 0., 1.]]], dtype=float32)"
     },
     "execution_count": 94,
     "metadata": {},
     "output_type": "execute_result"
    }
   ],
   "source": [
    "jnp.tile(jnp.eye(3), (2, 1, 2))"
   ],
   "metadata": {
    "collapsed": false,
    "ExecuteTime": {
     "end_time": "2024-04-29T08:39:26.555106Z",
     "start_time": "2024-04-29T08:39:25.562104Z"
    }
   },
   "id": "289e6651d0a5559",
   "execution_count": 94
  },
  {
   "cell_type": "code",
   "outputs": [],
   "source": [],
   "metadata": {
    "collapsed": false
   },
   "id": "993c413799149a8f"
  }
 ],
 "metadata": {
  "kernelspec": {
   "display_name": "Python 3",
   "language": "python",
   "name": "python3"
  },
  "language_info": {
   "codemirror_mode": {
    "name": "ipython",
    "version": 2
   },
   "file_extension": ".py",
   "mimetype": "text/x-python",
   "name": "python",
   "nbconvert_exporter": "python",
   "pygments_lexer": "ipython2",
   "version": "2.7.6"
  }
 },
 "nbformat": 4,
 "nbformat_minor": 5
}
