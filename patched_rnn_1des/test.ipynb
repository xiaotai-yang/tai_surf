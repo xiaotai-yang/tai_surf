{
 "cells": [
  {
   "cell_type": "code",
   "execution_count": 9,
   "metadata": {
    "collapsed": true,
    "ExecuteTime": {
     "end_time": "2024-08-28T23:18:30.419603Z",
     "start_time": "2024-08-28T23:18:25.831447Z"
    }
   },
   "outputs": [],
   "source": [
    "from Helperfunction import *\n",
    "from Helper_miscelluous import *\n",
    "\n",
    "(xy_loc_bulk, xy_loc_fl, xy_loc_xzz, yloc_bulk, yloc_fl, yloc_xzz, zloc_bulk, zloc_fl,\n",
    "    zloc_xzz, off_diag_bulk_coe, off_diag_fl_coe, off_diag_xzz_coe, zloc_bulk_diag, zloc_fl_diag,\n",
    "    zloc_xzz_diag, coe_bulk_diag, coe_fl_diag, coe_xzz_diag) = vmc_off_diag_es(16, 1, np.pi/2, True)"
   ]
  },
  {
   "cell_type": "code",
   "outputs": [
    {
     "name": "stdout",
     "output_type": "stream",
     "text": [
      "(0, 3) (13, 0, 1)\n",
      "(1, 2) (39, 1, 1)\n",
      "(2, 1) (39, 2, 1)\n"
     ]
    }
   ],
   "source": [
    "for i in zloc_bulk:\n",
    "    \n",
    "    print(i, zloc_bulk[i].shape)"
   ],
   "metadata": {
    "collapsed": false,
    "ExecuteTime": {
     "end_time": "2024-08-28T23:24:39.400825Z",
     "start_time": "2024-08-28T23:24:39.395232Z"
    }
   },
   "execution_count": 16
  },
  {
   "cell_type": "code",
   "outputs": [],
   "source": [
    "dmrg_sample = jnp.load(\"../entanglement_swapping/DMRG/mps_tensors/sample_\" + str(16) + \"_angle_\" + str(round(jnp.pi/2, 3)) + \".npy\")"
   ],
   "metadata": {
    "collapsed": false,
    "ExecuteTime": {
     "end_time": "2024-08-29T00:25:50.635687Z",
     "start_time": "2024-08-29T00:25:50.622871Z"
    }
   },
   "execution_count": 29
  },
  {
   "cell_type": "code",
   "outputs": [
    {
     "data": {
      "text/plain": "array([], shape=(0, 5), dtype=int32)"
     },
     "execution_count": 34,
     "metadata": {},
     "output_type": "execute_result"
    }
   ],
   "source": [
    "a = np.array([1, 2 ,3, 4, 5])\n",
    "a[False]"
   ],
   "metadata": {
    "collapsed": false,
    "ExecuteTime": {
     "end_time": "2024-08-29T01:16:26.538612Z",
     "start_time": "2024-08-29T01:16:26.526755Z"
    }
   },
   "execution_count": 34
  },
  {
   "cell_type": "code",
   "execution_count": 3,
   "outputs": [
    {
     "name": "stdout",
     "output_type": "stream",
     "text": [
      "Flattened parameters: [1.  2.  3.  4.  5.  2.5 0.5 1.5]\n",
      "Unflattened parameters: [Array([1., 2., 3.], dtype=float32), Array([4., 5.], dtype=float32), Array(2.5, dtype=float32), Array([0.5, 1.5], dtype=float32)]\n"
     ]
    }
   ],
   "source": [
    "import argparse\n",
    "import itertools\n",
    "import random\n",
    "import os\n",
    "import numpy as np\n",
    "import optax\n",
    "import jax\n",
    "from jax import numpy as jnp\n",
    "from Helperfunction import *\n",
    "from Helper_miscelluous import *\n",
    "from RNNfunction import *\n",
    "import pickle\n",
    "from jax import make_jaxpr\n",
    "import jax.config\n",
    "from jax.flatten_util import ravel_pytree\n",
    "\n",
    "jax.config.update(\"jax_enable_x64\", False)\n",
    "\n",
    "parser = argparse.ArgumentParser()\n",
    "parser.add_argument('--L', type = int, default = 8)\n",
    "parser.add_argument('--p', type = int, default = 2)\n",
    "parser.add_argument('--numunits', type = int, default=16)\n",
    "parser.add_argument('--lr', type = float, default=1e-3)\n",
    "parser.add_argument('--lrthreshold', type = float, default=5e-4)\n",
    "parser.add_argument('--lrdecaytime', type = float, default=5000)\n",
    "parser.add_argument('--mag_fixed', type = bool, default=False)\n",
    "parser.add_argument('--Sz', type = int, default=0)\n",
    "parser.add_argument('--gradient_clip', type = bool, default=True)\n",
    "parser.add_argument('--gradient_clipvalue', type = float, default=10.0)\n",
    "parser.add_argument('--dotraining', type = bool, default=True)\n",
    "parser.add_argument('--T0', type = float, default= 0.0)\n",
    "parser.add_argument('--Nwarmup', type = int, default=0)\n",
    "parser.add_argument('--Nannealing', type = int, default=0) #10000\n",
    "parser.add_argument('--Ntrain', type = int, default=0)\n",
    "parser.add_argument('--Nconvergence', type = int, default=10000)\n",
    "parser.add_argument('--numsamples', type = int, default=128)\n",
    "parser.add_argument('--testing_sample', type = int, default=5e+4)\n",
    "parser.add_argument('--lrthreshold_convergence', type = float, default=5e-4)\n",
    "parser.add_argument('--lrdecaytime_convergence', type = float, default=2500)\n",
    "parser.add_argument('--seed', type = int, default=3)\n",
    "parser.add_argument('--rnn_type', type = str, default=\"tensor_gru\")\n",
    "parser.add_argument('--cmi_pattern', type = str, default=\"no_decay\")\n",
    "parser.add_argument('--sparsity', type = int, default=0)\n",
    "parser.add_argument('--basis_rotation', type = bool, default=True)\n",
    "parser.add_argument('--angle', type = float, default=0.000001)\n",
    "parser.add_argument('--sr', type = bool, default=False)\n",
    "args = parser.parse_args()\n",
    "\n",
    "units = args.numunits\n",
    "numsamples = args.numsamples\n",
    "p = args.p\n",
    "lr=args.lr\n",
    "lrdecaytime = args.lrdecaytime\n",
    "lrdecaytime_conv = args.lrdecaytime_convergence\n",
    "lrthreshold = args.lrthreshold\n",
    "lrthreshold_conv = args.lrthreshold_convergence\n",
    "T0 = args.T0\n",
    "mag_fixed = args.mag_fixed\n",
    "magnetization = 2*args.Sz\n",
    "gradient_clip = args.gradient_clip\n",
    "gradient_clipvalue = args.gradient_clipvalue\n",
    "dotraining = args.dotraining\n",
    "Nwarmup = args.Nwarmup\n",
    "Nannealing = args.Nannealing\n",
    "Ntrain = args.Ntrain\n",
    "Nconvergence = args.Nconvergence\n",
    "numsteps = Nwarmup + (Nannealing+1)*Ntrain + Nconvergence\n",
    "testing_sample = args.testing_sample\n",
    "rnn_type = args.rnn_type\n",
    "cmi_pattern = args.cmi_pattern\n",
    "sparsity = args.sparsity\n",
    "basis_rotation = args.basis_rotation\n",
    "angle = args.angle\n",
    "sr = args.sr\n",
    "input_size = 2 ** p\n",
    "L = args.L\n",
    "key = PRNGKey(args.seed)\n",
    "diag_bulk, diag_fl, diag_xzz =False, False, False\n",
    "meanEnergy=[]\n",
    "varEnergy=[]\n",
    "m_list = []\n",
    "N = L*p\n",
    "\n",
    "\n",
    "for angle in (0.0*jnp.pi, 0.05*jnp.pi, 0.1*jnp.pi, 0.15*jnp.pi, 0.20*jnp.pi, 0.25*jnp.pi, 0.3*jnp.pi, 0.35*jnp.pi, 0.4*jnp.pi, 0.45*jnp.pi, 0.5*jnp.pi):\n",
    "    # x and y are the cosine and sine of the rotation angle\n",
    "    x, y = jnp.cos(angle), jnp.sin(angle)\n",
    "    if (rnn_type == \"tensor_gru\"):\n",
    "        params = init_tensor_gru_params(N, units, input_size, key)\n",
    "    for i in range(L):\n",
    "        m_list.append(\"tensor_\"+str(i+1)+\"_angle_\"+str(angle)+\".npy\")\n",
    "    # get the gradient function and compute cost is imported from Helper_miscelluous.py\n",
    "    grad_f = jax.jit(jax.grad(compute_cost), static_argnums=(2,))\n",
    "    optimizer = optax.adam(learning_rate=lr)\n",
    "    optimizer_state = optimizer.init(params)\n",
    "    fixed_params = N, p, units\n",
    "    (xy_loc_bulk, xy_loc_fl, xy_loc_xzz, yloc_bulk, yloc_fl, yloc_xzz, zloc_bulk, zloc_fl,\n",
    "    zloc_xzz, off_diag_bulk_coe, off_diag_fl_coe, off_diag_xzz_coe, zloc_bulk_diag, zloc_fl_diag,\n",
    "    zloc_xzz_diag, coe_bulk_diag, coe_fl_diag, coe_xzz_diag) = vmc_off_diag_es(N, p, angle, basis_rotation)\n",
    "    batch_sample_prob = jax.jit(vmap(sample_prob, (None, None, None, 0)), static_argnames=['fixed_params'])\n",
    "    batch_log_amp = jax.jit(vmap(log_amp, (0, None, None, None)), static_argnames=['fixed_params'])\n",
    "    batch_total_samples_1d = vmap(total_samples_1d, (0, None), 0)\n",
    "    batch_new_coe_1d = vmap(new_coe_1d, (0, None, None, None, None))\n",
    "    batch_diag_coe = vmap(diag_coe, (0, None, None, None, None, None, None))\n",
    "    batch_log_phase_dmrg = jax.jit(vmap(log_phase_dmrg, (0, None, None, None)))\n",
    "    wemb = jnp.eye(2**p)\n",
    "    ang = round(angle, 3)\n",
    "    M0 = jnp.load(\"../entanglement_swapping/DMRG/mps_tensors/tensor_init_\"+str(N)+\"_angle_\"+str(ang)+\".npy\")\n",
    "    M = jnp.load(\"../entanglement_swapping/DMRG/mps_tensors/tensor_\"+str(N)+\"_angle_\"+str(ang)+\".npy\")\n",
    "    Mlast = jnp.load(\"../entanglement_swapping/DMRG/mps_tensors/tensor_last_\"+str(N)+\"_angle_\"+str(ang)+\".npy\")\n",
    "    T = T0\n",
    "    t = time.time()\n",
    "\n",
    "    for it in range(0, numsteps):\n",
    "\n",
    "        start = time.time()\n",
    "        '''\n",
    "        if it+1<=Nwarmup+Nannealing*Ntrain: #Before the end of annealing\n",
    "            lr_adap = max(lrthreshold, lr/(1+it/lrdecaytime))\n",
    "        elif it+1>Nwarmup+Nannealing*Ntrain: #After annealing -> finetuning the model during convergence\n",
    "            lr_adap = lrthreshold_conv/(1+(it-(Nwarmup+Nannealing*Ntrain))/lrdecaytime_conv)\n",
    "        '''\n",
    "        key_ = split(key, numsamples)\n",
    "        samples, sample_log_amp = batch_sample_prob(params, wemb, fixed_params, key_)\n",
    "        sample_log_amp += batch_log_phase_dmrg(samples, M0, M, Mlast)\n",
    "        samples_grad = samples.reshape(-1, N, p)\n",
    "        key, subkey1, subkey2 = split(key_[0], 3)\n",
    "        sigmas = jnp.concatenate((batch_total_samples_1d(samples, xy_loc_bulk),\n",
    "                                 batch_total_samples_1d(samples, xy_loc_fl),\n",
    "                                 batch_total_samples_1d(samples, xy_loc_xzz)), axis=1).reshape(-1, N, p)\n",
    "        #minus sign account for the minus sign of each term in the Hamiltonian\n",
    "        matrixelements = (jnp.concatenate((batch_new_coe_1d(samples, off_diag_bulk_coe, yloc_bulk, zloc_bulk, basis_rotation),\n",
    "                                         batch_new_coe_1d(samples, off_diag_fl_coe, yloc_fl, zloc_fl, basis_rotation),\n",
    "                                         batch_new_coe_1d(samples, off_diag_xzz_coe, yloc_xzz, zloc_xzz, basis_rotation)), axis=1)\n",
    "                          .reshape(numsamples, -1))\n",
    "        #print(\"matrixelements:\", matrixelements)\n",
    "        log_all_amp = batch_log_amp(sigmas, params, wemb, fixed_params) + batch_log_phase_dmrg(sigmas, M0, M, Mlast)\n",
    "        log_diag_amp = jnp.repeat(sample_log_amp, (jnp.ones(numsamples)*(matrixelements.shape[1])).astype(int), axis=0)\n",
    "        amp = jnp.exp(log_all_amp.ravel()-log_diag_amp).reshape(numsamples, -1)\n",
    "        Eloc = jnp.sum((amp*matrixelements), axis=1) + batch_diag_coe(samples, zloc_bulk_diag, zloc_fl_diag, zloc_xzz_diag, coe_bulk_diag, coe_fl_diag, coe_xzz_diag)\n",
    "        meanE,  varE = jnp.mean(Eloc), jnp.var(Eloc)\n",
    "\n",
    "    "
   ],
   "metadata": {
    "collapsed": false,
    "ExecuteTime": {
     "end_time": "2024-01-28T18:08:43.523566700Z",
     "start_time": "2024-01-28T18:08:43.460793400Z"
    }
   }
  },
  {
   "cell_type": "code",
   "outputs": [],
   "source": [
    "import numpy as np\n",
    "t1 = np.random.rand(1000000)\n",
    "t2 = np.random.rand(1000000)*(1-t1)\n",
    "t3 = np.random.rand(1000000)*(1-t1-t2)\n",
    "t4 = 1-t1-t2-t3\n",
    "p1 = np.random.rand(1000000)*2*np.pi\n",
    "p2 = np.random.rand(1000000)*2*np.pi\n",
    "p3 = np.random.rand(1000000)*2*np.pi\n",
    "p4 = np.random.rand(1000000)*2*np.pi\n",
    "x1 = np.sqrt(t1)*np.exp(1j*p1)\n",
    "x2 = np.sqrt(t2)*np.exp(1j*p2)\n",
    "x3 = np.sqrt(t3)*np.exp(1j*p3)\n",
    "x4 = np.sqrt(t4)*np.exp(1j*p4)"
   ],
   "metadata": {
    "collapsed": false,
    "ExecuteTime": {
     "end_time": "2024-01-16T17:36:51.017182600Z",
     "start_time": "2024-01-16T17:36:50.201383100Z"
    }
   },
   "execution_count": 78
  },
  {
   "cell_type": "code",
   "outputs": [
    {
     "data": {
      "text/plain": "1000000.0"
     },
     "execution_count": 79,
     "metadata": {},
     "output_type": "execute_result"
    }
   ],
   "source": [
    "np.sum(np.abs(x1)**2+np.abs(x2)**2+np.abs(x3)**2+np.abs(x4)**2)"
   ],
   "metadata": {
    "collapsed": false,
    "ExecuteTime": {
     "end_time": "2024-01-16T17:36:51.156941500Z",
     "start_time": "2024-01-16T17:36:51.023490100Z"
    }
   },
   "execution_count": 79
  },
  {
   "cell_type": "code",
   "outputs": [],
   "source": [
    "px1 = np.abs(x1)**2\n",
    "px2 = np.abs(x2)**2\n",
    "px3 = np.abs(x3)**2\n",
    "px4 = np.abs(x4)**2\n",
    "px1x4 = px1+px4\n",
    "px2x3 = px2+px3\n",
    "C = 2*x1*x4-2*x2*x3\n",
    "cp1 = (1+np.sqrt(1-np.abs(C)**2))/2\n",
    "cp2 = (1-np.sqrt(1-np.abs(C)**2))/2\n",
    "a1 = -px1*np.log(px1)-px2*np.log(px2)-px3*np.log(px3)-px4*np.log(px4)+px1x4*np.log(px1x4)+px2x3*np.log(px2x3)\n",
    "b1 = -cp1*np.log(cp1)-cp2*np.log(cp2)"
   ],
   "metadata": {
    "collapsed": false,
    "ExecuteTime": {
     "end_time": "2024-01-16T17:36:51.674381700Z",
     "start_time": "2024-01-16T17:36:51.152937900Z"
    }
   },
   "execution_count": 80
  },
  {
   "cell_type": "code",
   "outputs": [
    {
     "name": "stdout",
     "output_type": "stream",
     "text": [
      "(-0.6955850017902521+0.19609206259357648j) (0.05270686824463031-0.3134852381631305j) (-0.10491433363726148+0.5133506686988841j) (0.2637844027233604-0.18038919643270798j)\n"
     ]
    }
   ],
   "source": [
    "print(x1[636373], x2[636373], x3[636373], x4[636373])"
   ],
   "metadata": {
    "collapsed": false,
    "ExecuteTime": {
     "end_time": "2024-01-16T17:36:53.181543100Z",
     "start_time": "2024-01-16T17:36:53.158729700Z"
    }
   },
   "execution_count": 81
  },
  {
   "cell_type": "code",
   "outputs": [
    {
     "name": "stdout",
     "output_type": "stream",
     "text": [
      "1000000\n"
     ]
    }
   ],
   "source": [
    "print(np.sum(a1>b1))"
   ],
   "metadata": {
    "collapsed": false,
    "ExecuteTime": {
     "end_time": "2024-01-16T17:36:53.400685800Z",
     "start_time": "2024-01-16T17:36:53.380195900Z"
    }
   },
   "execution_count": 82
  },
  {
   "cell_type": "code",
   "outputs": [],
   "source": [
    "import numpy as np\n",
    "a0 = np.random.rand(10000)\n",
    "a1 = np.random.rand(10000)\n",
    "a2 = np.random.rand(10000)\n",
    "a3 = np.random.rand(10000)\n",
    "x0 = a0**2+a1**2+a2**2+a3**2\n",
    "x1 = np.sqrt((a0**2+a1**2-a2**2-a3**2)**2+4*(a0*a2+a1*a3)**2)\n",
    "Sa = -a0*np.log(a0)-a1*np.log(a1)-a2*np.log(a2)-a3*np.log(a3)\n",
    "Sx = -x0*np.log(x0)-x1*np.log(x1)"
   ],
   "metadata": {
    "collapsed": false,
    "ExecuteTime": {
     "end_time": "2024-01-16T11:31:39.086227900Z",
     "start_time": "2024-01-16T11:31:39.064807900Z"
    }
   },
   "execution_count": 20
  },
  {
   "cell_type": "code",
   "outputs": [],
   "source": [
    "a = np.zeros((2, 2))"
   ],
   "metadata": {
    "collapsed": false,
    "ExecuteTime": {
     "end_time": "2024-08-30T01:05:37.886488Z",
     "start_time": "2024-08-30T01:05:37.866947Z"
    }
   },
   "execution_count": 35
  },
  {
   "cell_type": "code",
   "outputs": [
    {
     "data": {
      "text/plain": "(1, 2)"
     },
     "execution_count": 36,
     "metadata": {},
     "output_type": "execute_result"
    }
   ],
   "source": [
    "a[0:1, :].shape"
   ],
   "metadata": {
    "collapsed": false,
    "ExecuteTime": {
     "end_time": "2024-08-30T01:05:43.775910Z",
     "start_time": "2024-08-30T01:05:43.763737Z"
    }
   },
   "execution_count": 36
  },
  {
   "cell_type": "code",
   "outputs": [],
   "source": [],
   "metadata": {
    "collapsed": false
   }
  }
 ],
 "metadata": {
  "kernelspec": {
   "display_name": "Python 3",
   "language": "python",
   "name": "python3"
  },
  "language_info": {
   "codemirror_mode": {
    "name": "ipython",
    "version": 2
   },
   "file_extension": ".py",
   "mimetype": "text/x-python",
   "name": "python",
   "nbconvert_exporter": "python",
   "pygments_lexer": "ipython2",
   "version": "2.7.6"
  }
 },
 "nbformat": 4,
 "nbformat_minor": 0
}
