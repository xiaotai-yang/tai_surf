{
 "cells": [
  {
   "cell_type": "code",
   "execution_count": 8,
   "id": "d773eb03",
   "metadata": {},
   "outputs": [
    {
     "data": {
      "text/plain": [
       "array([-37.78829891, -41.78754541, -44.75629064, -46.32300136,\n",
       "       -46.85002122, -47.30304481, -48.06023591, -48.1933079 ,\n",
       "       -48.65637411, -49.16787451, -49.33061668, -49.43564965,\n",
       "       -49.69830413, -49.5273917 , -49.73005141, -49.91756684,\n",
       "       -49.80929479, -49.89305597, -49.93929771, -50.03635027,\n",
       "       -49.93138265])"
      ]
     },
     "execution_count": 8,
     "metadata": {},
     "output_type": "execute_result"
    }
   ],
   "source": [
    "import numpy as np\n",
    "data1 = np.load(\"meanEnergy_2DVanillaRNN_4x4_Bx3_lradap0.005_samp500units_50_2DTFIM.npy\")\n",
    "data1"
   ]
  },
  {
   "cell_type": "code",
   "execution_count": 7,
   "id": "06b5645b",
   "metadata": {},
   "outputs": [
    {
     "data": {
      "text/plain": [
       "array([-41.17944045, -40.38245823, -45.56443674, ..., -50.18613764,\n",
       "       -50.1862324 , -50.18691225])"
      ]
     },
     "execution_count": 7,
     "metadata": {},
     "output_type": "execute_result"
    }
   ],
   "source": [
    "data2 = np.load(\"meanEnergy_2DVanillaRNN_4x4_Bx3_lradap0.005_samp500units_100_2DTFIM.npy\")\n",
    "data2"
   ]
  },
  {
   "cell_type": "code",
   "execution_count": null,
   "id": "58dc5cb9",
   "metadata": {},
   "outputs": [],
   "source": [
    "from tensorflow.python.training import py_checkpoint_reader\n",
    "\n",
    "file_name = \"./tf_weights/model.ckpt\"\n",
    "reader = py_checkpoint_reader.NewCheckpointReader(file_name)\n",
    "\n",
    "state_dict = {\n",
    "    v: reader.get_tensor(v) for v in reader.get_variable_to_shape_map()\n",
    "}"
   ]
  }
 ],
 "metadata": {
  "kernelspec": {
   "display_name": "Python 3 (ipykernel)",
   "language": "python",
   "name": "python3"
  },
  "language_info": {
   "codemirror_mode": {
    "name": "ipython",
    "version": 3
   },
   "file_extension": ".py",
   "mimetype": "text/x-python",
   "name": "python",
   "nbconvert_exporter": "python",
   "pygments_lexer": "ipython3",
   "version": "3.10.9"
  }
 },
 "nbformat": 4,
 "nbformat_minor": 5
}
