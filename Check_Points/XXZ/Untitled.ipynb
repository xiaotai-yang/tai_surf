{
 "cells": [
  {
   "cell_type": "code",
   "execution_count": 5,
   "id": "41d34269",
   "metadata": {},
   "outputs": [],
   "source": [
    "a = [\"-1.2\",\"-1.0\",\"-0.8\",\"-0.5\",\"0.0\",\"0.5\",\"0.8\",\"1.0\",\"1.2\",\"1.5\"]"
   ]
  },
  {
   "cell_type": "code",
   "execution_count": 6,
   "id": "b75f7158",
   "metadata": {},
   "outputs": [],
   "source": [
    "import numpy as np\n",
    "energy = [[] for i in range (10)]"
   ]
  },
  {
   "cell_type": "code",
   "execution_count": 7,
   "id": "3387f23a",
   "metadata": {},
   "outputs": [],
   "source": [
    "for i in range (10):\n",
    "    energy[i].append(np.load(\"meanEnergy_N96_samp128_lradap0.0005_complexGRURNN_J1Jz\"+a[i]+\"_units_256_zeromag.npy\"))"
   ]
  },
  {
   "cell_type": "code",
   "execution_count": 8,
   "id": "21fc293b",
   "metadata": {},
   "outputs": [
    {
     "name": "stdout",
     "output_type": "stream",
     "text": [
      "[array([ 20.847225-0.00676348j,  20.240717-0.01848092j,\n",
      "        17.796455-0.00137008j, ..., -27.869514-0.00106365j,\n",
      "       -27.86769 -0.00040574j, -27.867964-0.00030026j], dtype=complex64)]\n",
      "[array([ 21.111286-0.00676348j,  20.553185-0.0188403j ,\n",
      "        18.3937  -0.001426j  , ..., -23.440258-0.00385042j,\n",
      "       -23.435835-0.00189793j, -23.441069+0.00201763j], dtype=complex64)]\n",
      "[array([ 21.375349-0.00676348j,  20.843391-0.01612839j,\n",
      "        18.937336+0.00213494j, ..., -24.043394-0.0191696j ,\n",
      "       -24.01865 -0.03121239j, -24.052238-0.05659247j], dtype=complex64)]\n",
      "[array([ 21.771442-6.7634829e-03j,  21.275433-1.6844351e-02j,\n",
      "        19.790653+2.3341682e-03j, ..., -11.999288+9.7861259e-05j,\n",
      "       -11.999531+6.1704457e-05j, -11.999456+3.0713258e-05j],\n",
      "      dtype=complex64)]\n",
      "[array([ 22.431599-0.00676348j,  22.162731-0.01124056j,\n",
      "        21.280743+0.00716946j, ..., -29.964111+0.0402709j ,\n",
      "       -30.02793 -0.02726537j, -30.076622-0.02734206j], dtype=complex64)]\n",
      "[array([ 23.091755-0.00676348j,  22.975233-0.02242581j,\n",
      "        22.622765+0.01610362j, ..., -35.472878+0.01369693j,\n",
      "       -35.47804 -0.03542355j, -35.537758-0.00937263j], dtype=complex64)]\n",
      "[array([ 23.48785 -0.00676348j,  23.33464 -0.03789902j,\n",
      "        23.027046-0.00030783j, ..., -39.664753-0.00755477j,\n",
      "       -39.759254-0.00089549j, -39.602615+0.00805181j], dtype=complex64)]\n",
      "[array([ 23.751911-0.00676348j,  23.654945-0.01084255j,\n",
      "        23.65437 -0.00840284j, ..., -41.785183-0.02471769j,\n",
      "       -41.89222 +0.0225854j , -41.993958-0.00901668j], dtype=complex64)]\n",
      "[array([ 24.015974-0.00676348j,  23.885576-0.01203316j,\n",
      "        23.78463 +0.00400636j, ..., -45.36144 -0.01405262j,\n",
      "       -45.421505+0.00031321j, -45.421528-0.0026161j ], dtype=complex64)]\n",
      "[array([ 24.412067-0.00676348j,  24.206276-0.01511958j,\n",
      "        24.046782+0.01292477j, ..., -49.76408 +0.00064654j,\n",
      "       -49.855034+0.01451452j, -49.79146 +0.00533248j], dtype=complex64)]\n"
     ]
    }
   ],
   "source": [
    "for i in range (10):\n",
    "    print(energy[i])"
   ]
  },
  {
   "cell_type": "code",
   "execution_count": null,
   "id": "2c9b234f",
   "metadata": {},
   "outputs": [],
   "source": []
  }
 ],
 "metadata": {
  "kernelspec": {
   "display_name": "Python 3 (ipykernel)",
   "language": "python",
   "name": "python3"
  },
  "language_info": {
   "codemirror_mode": {
    "name": "ipython",
    "version": 3
   },
   "file_extension": ".py",
   "mimetype": "text/x-python",
   "name": "python",
   "nbconvert_exporter": "python",
   "pygments_lexer": "ipython3",
   "version": "3.10.9"
  }
 },
 "nbformat": 4,
 "nbformat_minor": 5
}
