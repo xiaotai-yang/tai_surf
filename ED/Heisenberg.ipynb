{
 "cells": [
  {
   "cell_type": "code",
   "execution_count": 1,
   "metadata": {
    "collapsed": true,
    "ExecuteTime": {
     "end_time": "2023-11-17T11:49:23.799612200Z",
     "start_time": "2023-11-17T11:49:05.079022100Z"
    }
   },
   "outputs": [
    {
     "name": "stdout",
     "output_type": "stream",
     "text": [
      "(1048576, 1)\n"
     ]
    }
   ],
   "source": [
    "import netket as nk\n",
    "from netket.operator.spin import sigmax,sigmaz\n",
    "import jax\n",
    "import time\n",
    "\n",
    "L = 20\n",
    "g = nk.graph.Hypercube(length=L, n_dim=1, pbc=False)\n",
    "hi = nk.hilbert.Spin(s=0.5, N=g.n_nodes)\n",
    "ha = nk.operator.Heisenberg(hilbert=hi, graph=g)\n",
    "# compute the ground-state energy (here we only need the lowest energy, and do not need the eigenstate)\n",
    "t = time.time()\n",
    "evals = nk.exact.lanczos_ed(ha, compute_eigenvectors=True)\n",
    "gs = evals[1]\n",
    "print(gs.shape)"
   ]
  },
  {
   "cell_type": "code",
   "execution_count": 8,
   "outputs": [
    {
     "data": {
      "text/plain": "5.955700410381799e-22"
     },
     "execution_count": 8,
     "metadata": {},
     "output_type": "execute_result"
    }
   ],
   "source": [
    "import numpy as np\n",
    "np.sort(np.abs(gs).ravel())"
   ],
   "metadata": {
    "collapsed": false,
    "ExecuteTime": {
     "end_time": "2023-11-17T11:12:08.192305600Z",
     "start_time": "2023-11-17T11:12:07.856001500Z"
    }
   }
  },
  {
   "cell_type": "code",
   "execution_count": 67,
   "outputs": [
    {
     "data": {
      "text/plain": "array([0.09377804], dtype=float32)"
     },
     "execution_count": 67,
     "metadata": {},
     "output_type": "execute_result"
    }
   ],
   "source": [
    "gs[2796202]"
   ],
   "metadata": {
    "collapsed": false,
    "ExecuteTime": {
     "end_time": "2023-11-17T11:00:20.790469500Z",
     "start_time": "2023-11-17T11:00:20.766708400Z"
    }
   }
  },
  {
   "cell_type": "code",
   "execution_count": 3,
   "outputs": [
    {
     "data": {
      "text/plain": "1.000000000000001"
     },
     "execution_count": 3,
     "metadata": {},
     "output_type": "execute_result"
    }
   ],
   "source": [
    "(gs**2).ravel().sum()"
   ],
   "metadata": {
    "collapsed": false,
    "ExecuteTime": {
     "end_time": "2023-11-17T11:11:17.279177700Z",
     "start_time": "2023-11-17T11:11:17.242447400Z"
    }
   }
  },
  {
   "cell_type": "code",
   "execution_count": 2,
   "outputs": [],
   "source": [
    "import numpy as np\n",
    "probs_exact = (gs**2).ravel()\n",
    "spin_correlation_exact = []\n",
    "\n",
    "for i in range (L-1):\n",
    "    p_middle = np.sum(np.split(probs_exact, 2**i), axis=0)\n",
    "    p_1, p_2 = np.split(p_middle, 2)\n",
    "    p_1 = np.sum(np.split(p_1, 2**(L-i-2)), axis=0)\n",
    "    p_2 = np.sum(np.split(p_2, 2**(L-i-2)), axis=0)\n",
    "    p = np.concatenate((p_1, p_2),axis=None)\n",
    "    spin_correlation_exact.append(p[0]+p[-1]-p[1]-p[2]-(p[0]+p[1]-p[2]-p[3])*(p[0]-p[1]+p[2]-p[3]))\n",
    "p_itself = np.sum(np.split(probs_exact, 2**(L-1)), axis = 0)\n",
    "spin_correlation_exact.append(np.sum(p_itself**2)-(p_itself[0]-p_itself[1])**2)"
   ],
   "metadata": {
    "collapsed": false,
    "ExecuteTime": {
     "end_time": "2023-11-17T11:49:35.634870600Z",
     "start_time": "2023-11-17T11:49:31.935582300Z"
    }
   }
  },
  {
   "cell_type": "code",
   "execution_count": 47,
   "outputs": [
    {
     "data": {
      "text/plain": "(2097152,)"
     },
     "execution_count": 47,
     "metadata": {},
     "output_type": "execute_result"
    }
   ],
   "source": [
    "np.sum(np.split(probs_exact, 2), axis=0).shape"
   ],
   "metadata": {
    "collapsed": false,
    "ExecuteTime": {
     "end_time": "2023-11-17T10:22:49.863651700Z",
     "start_time": "2023-11-17T10:22:49.846780900Z"
    }
   }
  },
  {
   "cell_type": "code",
   "execution_count": 3,
   "outputs": [
    {
     "data": {
      "text/plain": "[<matplotlib.lines.Line2D at 0x1f9b018faf0>]"
     },
     "execution_count": 3,
     "metadata": {},
     "output_type": "execute_result"
    },
    {
     "data": {
      "text/plain": "<Figure size 640x480 with 1 Axes>",
      "image/png": "[encoded data removed]"
     },
     "metadata": {},
     "output_type": "display_data"
    }
   ],
   "source": [
    "import matplotlib.pyplot as plt\n",
    "\n",
    "plt.plot(np.flip(np.log(np.abs(spin_correlation_exact))))"
   ],
   "metadata": {
    "collapsed": false,
    "ExecuteTime": {
     "end_time": "2023-11-17T11:49:37.577860500Z",
     "start_time": "2023-11-17T11:49:37.405925500Z"
    }
   }
  },
  {
   "cell_type": "code",
   "execution_count": null,
   "outputs": [
    {
     "name": "stdout",
     "output_type": "stream",
     "text": [
      "0\n",
      "1\n",
      "2\n",
      "3\n",
      "4\n",
      "5\n",
      "6\n",
      "7\n",
      "8\n",
      "9\n",
      "10\n",
      "11\n",
      "12\n",
      "13\n",
      "14\n",
      "15\n",
      "16\n",
      "17\n",
      "18\n",
      "19\n",
      "1\n",
      "2\n",
      "3\n",
      "4\n",
      "5\n"
     ]
    }
   ],
   "source": [
    "# Here we consider four cuts xx|xxxxxx|xxxx|xxxx|xx, the first and the last one determine the size of ABC, the middle two\n",
    "# determine how we decompose the system ABC.\n",
    "N = 2**20\n",
    "system_size = 20\n",
    "# initialization\n",
    "p_abc = probs_exact+1e-24\n",
    "\n",
    "cmi = []\n",
    "for i in range (system_size-1):\n",
    "    cmi.append(np.array([]))\n",
    "for x in range (system_size):\n",
    "    print(x)\n",
    "    for i in range (x+1,system_size):\n",
    "        print(i)\n",
    "        for j in range (i, system_size):     # i, j is the cut position\n",
    "            for k in range (j+1 ,system_size+1):\n",
    "\n",
    "                p_abc_new = np.sum(np.split(np.sum(np.split(p_abc, 2**k), axis = 1), 2**x) , axis = 0)\n",
    "\n",
    "                p_ab = np.sum(np.split(p_abc_new, 2**(j-x)), axis = 1)\n",
    "\n",
    "                p_bc = np.sum(np.split(np.sum(np.split(np.sum(np.split(p_abc, 2**k), axis = 1), 2**x) , axis = 0), 2**(i-x)), axis = 0)\n",
    "                if (j == i):\n",
    "                    cmi[j-i] = np.append(cmi[j-i],(np.sum(-p_ab*np.log(p_ab)) -np.sum(p_bc*np.log(p_bc)) + np.sum(p_abc_new*np.log(p_abc_new))))\n",
    "                else :\n",
    "                    p_b = np.sum(np.split(p_ab, 2**(i-x)), axis = 0)\n",
    "                    cmi[j-i] = np.append(cmi[j-i],(np.sum(-p_ab*np.log(p_ab)) -np.sum(p_bc*np.log(p_bc)) + np.sum(p_abc_new*np.log(p_abc_new)) + np.sum(p_b*np.log(p_b))))\n",
    "\n"
   ],
   "metadata": {
    "collapsed": false,
    "is_executing": true,
    "ExecuteTime": {
     "start_time": "2023-11-17T11:50:28.455038Z"
    }
   }
  },
  {
   "cell_type": "code",
   "execution_count": null,
   "outputs": [],
   "source": [
    "print(cmi)"
   ],
   "metadata": {
    "collapsed": false,
    "is_executing": true
   }
  },
  {
   "cell_type": "code",
   "execution_count": null,
   "outputs": [],
   "source": [
    "# Here we consider four cuts xx|xxxxxx|xxxx|xxxx|xx, the first and the last one determine the size of ABC, the middle two\n",
    "# determine how we decompose the system ABC.\n",
    "N = 2**22\n",
    "system_size = 22\n",
    "# initialization\n",
    "\n",
    "p_abc_new = np.ones((system_size, system_size+1, N))\n",
    "p_ab = np.ones((system_size, system_size, N))\n",
    "p_bc = np.ones((system_size, system_size, N))\n",
    "p_b = np.ones((system_size, system_size, N))\n",
    "\n",
    "cmi = []\n",
    "for i in range (system_size-1):\n",
    "    cmi.append(np.array([]))\n",
    "for x in range (system_size):\n",
    "    for i in range (x+1,system_size):\n",
    "        for j in range (i, system_size):     # i, j is the cut position\n",
    "            for k in range (j+1 ,system_size+1):\n",
    "\n",
    "                p_abc_new = np.ones((system_size, system_size+1, N))\n",
    "                p_ab = np.ones((system_size, system_size, N))\n",
    "                p_bc = np.ones((system_size, system_size, N))\n",
    "                p_b = np.ones((system_size, system_size, N))\n",
    "\n",
    "                p_abc_new[x, k, :2**(k-x)] = np.sum(np.split(np.sum(np.split(p_abc, 2**k), axis = 1), 2**x) , axis = 0)\n",
    "\n",
    "                p_ab[i-1, j-1, :2**(j-x)] = np.sum(np.split(p_abc_new[x, k, :2**(k-x)], 2**(j-x)), axis = 1)\n",
    "\n",
    "                p_bc[i - 1, j - 1, : int(2**(k-i))] = np.sum(np.split(p_abc_new[x, k, :2**(k-x)], 2**(i-x)), axis = 0)\n",
    "                if (j == i):\n",
    "                    pass\n",
    "                else :\n",
    "                    p_b[i - 1, j - 1, : 2**(j-i)] = np.sum(np.split(p_ab[i - 1, j - 1, :2**(j-x)], 2**(i-x)), axis = 0)\n",
    "                cmi[j-i] = np.append(cmi[j-i],(np.sum(-p_ab[i-1, j-1]*np.log(p_ab[i-1, j-1]) -p_bc[i-1, j-1]*np.log(p_bc[i-1, j-1]) \\\n",
    "                                   + p_abc_new[x, k]*np.log(p_abc_new[x,k]) + p_b[i-1, j-1]*np.log(p_b[i-1, j-1]))))\n"
   ],
   "metadata": {
    "collapsed": false
   }
  }
 ],
 "metadata": {
  "kernelspec": {
   "display_name": "Python 3",
   "language": "python",
   "name": "python3"
  },
  "language_info": {
   "codemirror_mode": {
    "name": "ipython",
    "version": 2
   },
   "file_extension": ".py",
   "mimetype": "text/x-python",
   "name": "python",
   "nbconvert_exporter": "python",
   "pygments_lexer": "ipython2",
   "version": "2.7.6"
  }
 },
 "nbformat": 4,
 "nbformat_minor": 0
}
