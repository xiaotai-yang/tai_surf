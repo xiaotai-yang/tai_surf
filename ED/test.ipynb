{
 "cells": [
  {
   "cell_type": "code",
   "execution_count": 14,
   "metadata": {
    "collapsed": true,
    "ExecuteTime": {
     "end_time": "2023-12-22T06:04:56.567083600Z",
     "start_time": "2023-12-22T06:04:55.295417400Z"
    }
   },
   "outputs": [
    {
     "name": "stdout",
     "output_type": "stream",
     "text": [
      "eigenvalues with scipy sparse: [-39.68304359 -38.43108525]\n"
     ]
    }
   ],
   "source": [
    "import netket as nk\n",
    "from netket.operator.spin import sigmax,sigmaz, sigmap, sigmam, sigmay\n",
    "from scipy.sparse.linalg import eigsh\n",
    "import jax.numpy as jnp\n",
    "\n",
    "N = 16\n",
    "hi = nk.hilbert.Spin(s=1 / 2, N=N)\n",
    "theta1 = 0.25+0.0j\n",
    "theta2 = 0.25+0.0j\n",
    "H = 2*sum([sigmax(hi, i)*sigmax(hi, i+1)+sigmay(hi, i)*sigmay(hi, i+1) for i in range(1, int(N/2))])\n",
    "H += 2*sum([sigmam(hi, i)*sigmap(hi, (i+1)%N)+sigmap(hi, i)*sigmam(hi, (i+1)%N) for i in range(int(N/2+1), N)])\n",
    "H += 2*jnp.cos(theta1)*(sigmax(hi, 0)*sigmax(hi, 1)+sigmay(hi, 0)*sigmay(hi, 1))+jnp.sin(theta1)*(sigmax(hi, 0)*sigmay(hi, 1)-sigmay(hi, 0)*sigmax(hi, 1))\n",
    "H += 2*jnp.cos(theta2)*(sigmax(hi, int(N/2))*sigmax(hi, int(N/2)+1)+sigmay(hi, int(N/2))*sigmay(hi, int(N/2)+1))+jnp.sin(theta2)*(sigmax(hi, int(N/2))*sigmay(hi, int(N/2)+1)-sigmay(hi, int(N/2))*sigmax(hi, int(N/2)+1))\n",
    "H += sum([sigmaz(hi,i)*sigmaz(hi,(i+1)%N) for i in range(N)])\n",
    "sp_h=H.to_sparse()\n",
    "eig_vals, eig_vecs = eigsh(sp_h, k=2, which=\"SA\")\n",
    "\n",
    "print(\"eigenvalues with scipy sparse:\", eig_vals)\n",
    "\n",
    "E_gs = eig_vals[0]"
   ]
  },
  {
   "cell_type": "code",
   "execution_count": 1,
   "outputs": [],
   "source": [
    "import netket as nk\n",
    "from netket.operator.spin import sigmax,sigmaz, sigmap, sigmam, sigmay\n",
    "from scipy.sparse.linalg import eigsh\n",
    "import jax.numpy as jnp\n"
   ],
   "metadata": {
    "collapsed": false,
    "ExecuteTime": {
     "end_time": "2024-06-04T17:23:38.807467Z",
     "start_time": "2024-06-04T17:23:29.054665Z"
    }
   }
  },
  {
   "cell_type": "code",
   "outputs": [
    {
     "name": "stdout",
     "output_type": "stream",
     "text": [
      "[[ 1. -1.]\n",
      " [-1.  1.]]\n"
     ]
    }
   ],
   "source": [
    "import netket as nk\n",
    "\n",
    "# Define the Hilbert space, typically for a spin system\n",
    "hilbert_space = nk.hilbert.Spin(s=0.5, N=1)  # Example for a single spin-1/2 system\n",
    "\n",
    "# Define the σ^x and σ^z operators\n",
    "sigmax = nk.operator.spin.sigmax(hilbert=hilbert_space, site=0)\n",
    "sigmaz = nk.operator.spin.sigmaz(hilbert=hilbert_space, site=0)\n",
    "\n",
    "# Convert operators to dense matrix form to access elements\n",
    "matrix_sigmax = (identity(hilbert_space)-sigmax).to_dense()\n",
    "matrix_sigmaz = sigmaz.to_dense()\n",
    "print(matrix_sigmax)"
   ],
   "metadata": {
    "collapsed": false,
    "ExecuteTime": {
     "end_time": "2024-02-26T11:05:14.923873600Z",
     "start_time": "2024-02-26T11:05:14.908313900Z"
    }
   },
   "execution_count": 33
  },
  {
   "cell_type": "code",
   "outputs": [
    {
     "name": "stdout",
     "output_type": "stream",
     "text": [
      "0.4 0.12573242\n",
      "0.8 0.1508789\n",
      "1.0 0.16088867\n",
      "1.2 0.177653\n",
      "1.4 0.20491536\n",
      "1.6 0.23543295\n",
      "1.8 0.27734375\n",
      "2.0 0.3330078\n",
      "2.4 0.42000324\n",
      "2.8 0.45157877\n",
      "3.2 0.45613605\n"
     ]
    }
   ],
   "source": [
    "import jax\n",
    "import netket as nk\n",
    "import numpy as np\n",
    "from netket.operator.spin import sigmax,sigmaz, sigmap, sigmam, identity\n",
    "import time\n",
    "from scipy.sparse.linalg import eigsh\n",
    "import jax.numpy as jnp\n",
    "import matplotlib.pyplot as plt\n",
    "from jax.random import PRNGKey, categorical, split\n",
    "from twoD_tool import *\n",
    "Lx = 4\n",
    "Ly = 3\n",
    "N = Lx * Ly\n",
    "params = [ 0.4, 0.8, 1.0 ,1.2, 1.4, 1.6, 1.8, 2.0, 2.4, 2.8, 3.2]\n",
    "Omega = 1.0\n",
    "Rb = 1.2**6\n",
    "hi = nk.hilbert.Spin(s=1 / 2, N =  N)\n",
    "numsamples = 1024\n",
    "batch_categorical = jax.vmap(categorical, in_axes=(0, None))\n",
    "batch_dot = jax.vmap(jnp.dot, (0, None))\n",
    "key = PRNGKey(1)\n",
    "for param in params:\n",
    "    key, subkey = split(key, 2)\n",
    "    key_ = split(subkey, numsamples)\n",
    "    ni = []\n",
    "    H = Omega/2*sum([sigmax(hi, y*Lx+x) for y in range (Ly) for x in range (Lx)]) #X\n",
    "    H -= param/2*sum([(identity(hi)-sigmaz(hi, y*Lx+x)) for y in range(Ly) for x in range(Lx)])\n",
    "    H += Omega*Rb/4*sum([((identity(hi)-sigmaz(hi, y1*Lx+x1))*(identity(hi)-sigmaz(hi, y1*Lx+x2)))/((x1-x2)**2)**3 \\\n",
    "                         for y1 in range(Ly) for x1 in range(Lx) for x2 in range(x1+1, Lx)])\n",
    "    H += Omega*Rb/4*sum([((identity(hi)-sigmaz(hi, y1*Lx+x1))*(identity(hi)-sigmaz(hi, y2*Lx+x2)))/(((x1-x2)**2+(y1-y2)**2)**3) \\\n",
    "                         for y1 in range(Ly) for x1 in range(Lx) for y2 in range(y1+1, Ly) for x2 in range(Lx)])\n",
    "    sp_h = H.to_sparse()\n",
    "    eig_vals, eig_vecs = eigsh(sp_h, k=3, which=\"SA\")\n",
    "    \n",
    "    samples = batch_categorical(key_, jnp.log(jnp.real(eig_vecs[:, 0].conj()*eig_vecs[:, 0])))\n",
    "    samples_b = jnp.flip(jnp.unpackbits(samples.view('uint8'), bitorder='little').reshape(numsamples, -1), axis = 1)[:, 48:]\n",
    "    alt_m = create_alternating_matrix(Lx)\n",
    "    stagger_mag = jnp.mean(jnp.abs(batch_dot(samples_b.reshape(numsamples, -1), create_alternating_matrix(Lx).ravel().T))/(Lx*Ly))\n",
    "    '''\n",
    "    for y in range(Ly):\n",
    "        for x in range(Lx):\n",
    "            h_ni = (identity(hi)-sigmaz(hi, y*Lx+x))/2\n",
    "            ni.append(eig_vecs[:,0].conj() @ h_ni.to_sparse() @ eig_vecs[:,0])\n",
    "    \n",
    "    stagger_H_sp = stagger_H.to_sparse()\n",
    "    stagger_mag0 = np.abs(eig_vecs[:,0].conj() @ stagger_H_sp @ eig_vecs[:,0])\n",
    "    stagger_mag1 = np.abs(eig_vecs[:,0].conj() @ stagger_H_sp @ eig_vecs[:,1])\n",
    "    stagger_mag2 = np.abs(eig_vecs[:,1].conj() @ stagger_H_sp @ eig_vecs[:,1])\n",
    "    stagger_mag3 = np.abs(eig_vecs[:,0].conj() @ stagger_H_sp @ eig_vecs[:,2])\n",
    "    stagger_mag4 = np.abs(eig_vecs[:,1].conj() @ stagger_H_sp @ eig_vecs[:,2])\n",
    "    stagger_mag5 = np.abs(eig_vecs[:,2].conj() @ stagger_H_sp @ eig_vecs[:,2])\n",
    "    print(stagger_mag0, stagger_mag1, stagger_mag2, stagger_mag3, stagger_mag4, stagger_mag5)\n",
    "    '''\n",
    "    print(param, stagger_mag)"
   ],
   "metadata": {
    "collapsed": false,
    "ExecuteTime": {
     "end_time": "2024-06-05T14:15:54.016155Z",
     "start_time": "2024-06-05T14:15:47.039667Z"
    }
   },
   "execution_count": 102
  },
  {
   "cell_type": "code",
   "outputs": [
    {
     "data": {
      "text/plain": "array([0., 0.])"
     },
     "execution_count": 54,
     "metadata": {},
     "output_type": "execute_result"
    }
   ],
   "source": [
    "hi = nk.hilbert.Spin(s=1 / 2, N =  1)\n",
    "H = identity(hi)-sigmaz(hi, 0)\n",
    "H.to_sparse() @ [1, 0]"
   ],
   "metadata": {
    "collapsed": false,
    "ExecuteTime": {
     "end_time": "2024-06-05T08:59:50.901591Z",
     "start_time": "2024-06-05T08:59:50.878581Z"
    }
   },
   "execution_count": 54
  },
  {
   "cell_type": "code",
   "outputs": [
    {
     "data": {
      "text/plain": "(512, 1)"
     },
     "execution_count": 27,
     "metadata": {},
     "output_type": "execute_result"
    }
   ],
   "source": [],
   "metadata": {
    "collapsed": false,
    "ExecuteTime": {
     "end_time": "2024-02-26T08:31:39.458463700Z",
     "start_time": "2024-02-26T08:31:39.433902500Z"
    }
   },
   "execution_count": 27
  },
  {
   "cell_type": "code",
   "outputs": [
    {
     "data": {
      "text/plain": "array([[ 1, -1,  1, -1],\n       [-1,  1, -1,  1],\n       [ 1, -1,  1, -1],\n       [-1,  1, -1,  1]])"
     },
     "execution_count": 61,
     "metadata": {},
     "output_type": "execute_result"
    }
   ],
   "source": [
    "\n",
    "create_alternating_matrix(4)"
   ],
   "metadata": {
    "collapsed": false,
    "ExecuteTime": {
     "end_time": "2024-06-05T13:11:39.051832Z",
     "start_time": "2024-06-05T13:11:39.008127Z"
    }
   },
   "execution_count": 61
  },
  {
   "cell_type": "code",
   "outputs": [],
   "source": [],
   "metadata": {
    "collapsed": false
   }
  },
  {
   "cell_type": "code",
   "outputs": [
    {
     "data": {
      "text/plain": "Array([0, 0, 0, 1, 0, 0, 0, 0, 0, 0, 0, 0, 0, 0, 0, 0], dtype=uint8)"
     },
     "execution_count": 95,
     "metadata": {},
     "output_type": "execute_result"
    }
   ],
   "source": [
    "jnp.flip(jnp.unpackbits(jnp.array([4096,]).view('uint8'), bitorder='little'))[48:]"
   ],
   "metadata": {
    "collapsed": false,
    "ExecuteTime": {
     "end_time": "2024-06-05T13:56:12.800151Z",
     "start_time": "2024-06-05T13:56:12.775677Z"
    }
   },
   "execution_count": 95
  },
  {
   "cell_type": "code",
   "outputs": [],
   "source": [],
   "metadata": {
    "collapsed": false
   }
  }
 ],
 "metadata": {
  "kernelspec": {
   "display_name": "Python 3",
   "language": "python",
   "name": "python3"
  },
  "language_info": {
   "codemirror_mode": {
    "name": "ipython",
    "version": 2
   },
   "file_extension": ".py",
   "mimetype": "text/x-python",
   "name": "python",
   "nbconvert_exporter": "python",
   "pygments_lexer": "ipython2",
   "version": "2.7.6"
  }
 },
 "nbformat": 4,
 "nbformat_minor": 0
}
