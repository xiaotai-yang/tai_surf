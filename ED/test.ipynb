{
 "cells": [
  {
   "cell_type": "code",
   "execution_count": 14,
   "metadata": {
    "collapsed": true,
    "ExecuteTime": {
     "end_time": "2023-12-22T06:04:56.567083600Z",
     "start_time": "2023-12-22T06:04:55.295417400Z"
    }
   },
   "outputs": [
    {
     "name": "stdout",
     "output_type": "stream",
     "text": [
      "eigenvalues with scipy sparse: [-39.68304359 -38.43108525]\n"
     ]
    }
   ],
   "source": [
    "import netket as nk\n",
    "from netket.operator.spin import sigmax,sigmaz, sigmap, sigmam, sigmay\n",
    "from scipy.sparse.linalg import eigsh\n",
    "import jax.numpy as jnp\n",
    "\n",
    "N = 16\n",
    "hi = nk.hilbert.Spin(s=1 / 2, N=N)\n",
    "theta1 = 0.25+0.0j\n",
    "theta2 = 0.25+0.0j\n",
    "H = 2*sum([sigmax(hi, i)*sigmax(hi, i+1)+sigmay(hi, i)*sigmay(hi, i+1) for i in range(1, int(N/2))])\n",
    "H += 2*sum([sigmam(hi, i)*sigmap(hi, (i+1)%N)+sigmap(hi, i)*sigmam(hi, (i+1)%N) for i in range(int(N/2+1), N)])\n",
    "H += 2*jnp.cos(theta1)*(sigmax(hi, 0)*sigmax(hi, 1)+sigmay(hi, 0)*sigmay(hi, 1))+jnp.sin(theta1)*(sigmax(hi, 0)*sigmay(hi, 1)-sigmay(hi, 0)*sigmax(hi, 1))\n",
    "H += 2*jnp.cos(theta2)*(sigmax(hi, int(N/2))*sigmax(hi, int(N/2)+1)+sigmay(hi, int(N/2))*sigmay(hi, int(N/2)+1))+jnp.sin(theta2)*(sigmax(hi, int(N/2))*sigmay(hi, int(N/2)+1)-sigmay(hi, int(N/2))*sigmax(hi, int(N/2)+1))\n",
    "H += sum([sigmaz(hi,i)*sigmaz(hi,(i+1)%N) for i in range(N)])\n",
    "sp_h=H.to_sparse()\n",
    "eig_vals, eig_vecs = eigsh(sp_h, k=2, which=\"SA\")\n",
    "\n",
    "print(\"eigenvalues with scipy sparse:\", eig_vals)\n",
    "\n",
    "E_gs = eig_vals[0]"
   ]
  },
  {
   "cell_type": "code",
   "execution_count": 1,
   "outputs": [],
   "source": [
    "import netket as nk\n",
    "from netket.operator.spin import sigmax,sigmaz, sigmap, sigmam, sigmay\n",
    "from scipy.sparse.linalg import eigsh\n",
    "import jax.numpy as jnp\n"
   ],
   "metadata": {
    "collapsed": false,
    "ExecuteTime": {
     "end_time": "2024-06-04T17:23:38.807467Z",
     "start_time": "2024-06-04T17:23:29.054665Z"
    }
   }
  },
  {
   "cell_type": "code",
   "outputs": [
    {
     "name": "stdout",
     "output_type": "stream",
     "text": [
      "[[ 1. -1.]\n",
      " [-1.  1.]]\n"
     ]
    }
   ],
   "source": [
    "import netket as nk\n",
    "\n",
    "# Define the Hilbert space, typically for a spin system\n",
    "hilbert_space = nk.hilbert.Spin(s=0.5, N=1)  # Example for a single spin-1/2 system\n",
    "\n",
    "# Define the σ^x and σ^z operators\n",
    "sigmax = nk.operator.spin.sigmax(hilbert=hilbert_space, site=0)\n",
    "sigmaz = nk.operator.spin.sigmaz(hilbert=hilbert_space, site=0)\n",
    "\n",
    "# Convert operators to dense matrix form to access elements\n",
    "matrix_sigmax = (identity(hilbert_space)-sigmax).to_dense()\n",
    "matrix_sigmaz = sigmaz.to_dense()\n",
    "print(matrix_sigmax)"
   ],
   "metadata": {
    "collapsed": false,
    "ExecuteTime": {
     "end_time": "2024-02-26T11:05:14.923873600Z",
     "start_time": "2024-02-26T11:05:14.908313900Z"
    }
   },
   "execution_count": 33
  },
  {
   "cell_type": "code",
   "outputs": [
    {
     "name": "stdout",
     "output_type": "stream",
     "text": [
      "3.3306690738754696e-16\n",
      "1.6653345369377348e-15\n",
      "1.4432899320127035e-15\n",
      "0.5419453674179435\n",
      "[0.2684839829406159, 0.2684839829406155, 0.26848398294061565, 0.2684839829406158]\n",
      "2.7755575615628914e-16\n",
      "4.163336342344337e-16\n",
      "2.7755575615628914e-17\n",
      "0.37447890904652437\n",
      "[0.3309494450665177, 0.330949445066517, 0.3309494450665171, 0.3309494450665176]\n",
      "5.551115123125783e-16\n",
      "4.163336342344337e-16\n",
      "9.71445146547012e-17\n",
      "0.2549717315401123\n",
      "[0.38775084146740735, 0.38775084146740907, 0.38775084146740896, 0.38775084146740757]\n",
      "5.273559366969494e-16\n",
      "2.220446049250313e-16\n",
      "1.3877787807814457e-16\n",
      "0.17974790143583252\n",
      "[0.43016763359411636, 0.43016763359412713, 0.43016763359412724, 0.4301676335941162]\n",
      "2.498001805406602e-16\n",
      "1.3877787807814457e-16\n",
      "4.163336342344337e-17\n",
      "0.13593893222297426\n",
      "[0.4581735136134824, 0.45817351361346104, 0.4581735136134612, 0.45817351361348235]\n",
      "4.579669976578771e-16\n",
      "1.5959455978986625e-16\n",
      "2.0816681711721685e-17\n",
      "0.11164983697851394\n",
      "[0.476556094174727, 0.47655609417476336, 0.4765560941747633, 0.4765560941747267]\n",
      "6.245004513516506e-16\n",
      "1.3877787807814457e-17\n",
      "6.938893903907228e-18\n",
      "0.09959891260698406\n",
      "[0.48972588040707177, 0.4897258804070683, 0.48972588040706844, 0.4897258804070716]\n",
      "2.220446049250313e-16\n",
      "1.1796119636642288e-16\n",
      "2.0816681711721685e-17\n",
      "0.09625941324746812\n",
      "[0.5007338547878077, 0.5007338547878046, 0.5007338547878045, 0.5007338547878077]\n",
      "4.163336342344337e-17\n",
      "2.0816681711721685e-17\n",
      "3.469446951953614e-17\n",
      "0.10068624617971444\n",
      "[0.5118930257818404, 0.5118930257818131, 0.511893025781813, 0.5118930257818403]\n",
      "6.938893903907228e-17\n",
      "6.175615574477433e-16\n",
      "1.5265566588595902e-16\n",
      "0.11413588577817979\n",
      "[0.5255703938618277, 0.5255703938618435, 0.5255703938618435, 0.5255703938618277]\n",
      "8.326672684688674e-16\n",
      "6.036837696399289e-16\n",
      "1.3877787807814457e-17\n",
      "0.14056634737609386\n",
      "[0.544977911696997, 0.5449779116969878, 0.5449779116969881, 0.5449779116969969]\n"
     ]
    }
   ],
   "source": [
    "import jax\n",
    "import netket as nk\n",
    "import numpy as np\n",
    "from netket.operator.spin import sigmax,sigmaz, sigmap, sigmam, identity\n",
    "import time\n",
    "from scipy.sparse.linalg import eigsh\n",
    "import jax.numpy as jnp\n",
    "import matplotlib.pyplot as plt\n",
    "from twoD_tool import *\n",
    "Lx = 4\n",
    "Ly = 4\n",
    "N = Lx * Ly\n",
    "params = [ 0.4, 0.8, 1.2, 1.6, 2.0, 2.4, 2.8, 3.2, 3.6, 4.0, 4.4 ]\n",
    "Omega = 1.0\n",
    "Rb = 1.2**6\n",
    "hi = nk.hilbert.Spin(s=1 / 2, N =  N)\n",
    "for param in params:\n",
    "    ni = []\n",
    "    H = Omega/2*sum([sigmax(hi, y*Lx+x) for y in range (Ly) for x in range (Lx)]) #X\n",
    "    H -= param/2*sum([(identity(hi)-sigmaz(hi, y*Lx+x)) for y in range(Ly) for x in range(Lx)])\n",
    "    H += Omega*Rb/4*sum([((identity(hi)-sigmaz(hi, y1*Lx+x1))*(identity(hi)-sigmaz(hi, y1*Lx+x2)))/((x1-x2)**2)**3 \\\n",
    "                         for y1 in range(Ly) for x1 in range(Lx) for x2 in range(x1+1, Lx)])\n",
    "    H += Omega*Rb/4*sum([((identity(hi)-sigmaz(hi, y1*Lx+x1))*(identity(hi)-sigmaz(hi, y2*Lx+x2)))/(((x1-x2)**2+(y1-y2)**2)**3) \\\n",
    "                         for y1 in range(Ly) for x1 in range(Lx) for y2 in range(y1+1, Ly) for x2 in range(Lx)])\n",
    "    sp_h = H.to_sparse()\n",
    "    eig_vals, eig_vecs = eigsh(sp_h, k=2, which=\"SA\")\n",
    "    \n",
    "    stagger_H = sum([sigmaz(hi, y*Lx+x)*(-1)**(y*Lx+x) for y in range(Ly) for x in range (Lx)])\n",
    "    for y in range(Ly):\n",
    "        for x in range(Lx):\n",
    "            h_ni = (identity(hi)-sigmaz(hi, y*Lx+x))/2\n",
    "            ni.append(eig_vecs[:,0].conj() @ h_ni.to_sparse() @ eig_vecs[:,0])\n",
    "    stagger_H_sp = stagger_H.to_sparse()\n",
    "    stagger_mag0 = np.abs(eig_vecs[:,0].conj() @ stagger_H_sp @ eig_vecs[:,0])\n",
    "    stagger_mag1 = np.abs(eig_vecs[:,0].conj() @ stagger_H_sp @ eig_vecs[:,1])\n",
    "    stagger_mag2 = np.abs(eig_vecs[:,1].conj() @ stagger_H_sp @ eig_vecs[:,1])\n",
    "    print(stagger_mag0)\n",
    "    print(stagger_mag1)\n",
    "    print(stagger_mag2)\n",
    "    print(eig_vals[1]-eig_vals[0])\n",
    "    print(ni)"
   ],
   "metadata": {
    "collapsed": false,
    "ExecuteTime": {
     "end_time": "2024-06-05T09:08:10.227961Z",
     "start_time": "2024-06-05T09:08:09.982169Z"
    }
   },
   "execution_count": 57
  },
  {
   "cell_type": "code",
   "outputs": [
    {
     "data": {
      "text/plain": "array([0., 0.])"
     },
     "execution_count": 54,
     "metadata": {},
     "output_type": "execute_result"
    }
   ],
   "source": [
    "hi = nk.hilbert.Spin(s=1 / 2, N =  1)\n",
    "H = identity(hi)-sigmaz(hi, 0)\n",
    "H.to_sparse() @ [1, 0]"
   ],
   "metadata": {
    "collapsed": false,
    "ExecuteTime": {
     "end_time": "2024-06-05T08:59:50.901591Z",
     "start_time": "2024-06-05T08:59:50.878581Z"
    }
   },
   "execution_count": 54
  },
  {
   "cell_type": "code",
   "outputs": [
    {
     "data": {
      "text/plain": "(512, 1)"
     },
     "execution_count": 27,
     "metadata": {},
     "output_type": "execute_result"
    }
   ],
   "source": [],
   "metadata": {
    "collapsed": false,
    "ExecuteTime": {
     "end_time": "2024-02-26T08:31:39.458463700Z",
     "start_time": "2024-02-26T08:31:39.433902500Z"
    }
   },
   "execution_count": 27
  },
  {
   "cell_type": "code",
   "outputs": [],
   "source": [],
   "metadata": {
    "collapsed": false
   }
  }
 ],
 "metadata": {
  "kernelspec": {
   "display_name": "Python 3",
   "language": "python",
   "name": "python3"
  },
  "language_info": {
   "codemirror_mode": {
    "name": "ipython",
    "version": 2
   },
   "file_extension": ".py",
   "mimetype": "text/x-python",
   "name": "python",
   "nbconvert_exporter": "python",
   "pygments_lexer": "ipython2",
   "version": "2.7.6"
  }
 },
 "nbformat": 4,
 "nbformat_minor": 0
}
