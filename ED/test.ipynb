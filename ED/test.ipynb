{
 "cells": [
  {
   "cell_type": "code",
   "execution_count": 14,
   "metadata": {
    "collapsed": true,
    "ExecuteTime": {
     "end_time": "2023-12-22T06:04:56.567083600Z",
     "start_time": "2023-12-22T06:04:55.295417400Z"
    }
   },
   "outputs": [
    {
     "name": "stdout",
     "output_type": "stream",
     "text": [
      "eigenvalues with scipy sparse: [-39.68304359 -38.43108525]\n"
     ]
    }
   ],
   "source": [
    "import netket as nk\n",
    "from netket.operator.spin import sigmax,sigmaz, sigmap, sigmam, sigmay\n",
    "from scipy.sparse.linalg import eigsh\n",
    "import jax.numpy as jnp\n",
    "\n",
    "N = 16\n",
    "hi = nk.hilbert.Spin(s=1 / 2, N=N)\n",
    "theta1 = 0.25+0.0j\n",
    "theta2 = 0.25+0.0j\n",
    "H = 2*sum([sigmax(hi, i)*sigmax(hi, i+1)+sigmay(hi, i)*sigmay(hi, i+1) for i in range(1, int(N/2))])\n",
    "H += 2*sum([sigmam(hi, i)*sigmap(hi, (i+1)%N)+sigmap(hi, i)*sigmam(hi, (i+1)%N) for i in range(int(N/2+1), N)])\n",
    "H += 2*jnp.cos(theta1)*(sigmax(hi, 0)*sigmax(hi, 1)+sigmay(hi, 0)*sigmay(hi, 1))+jnp.sin(theta1)*(sigmax(hi, 0)*sigmay(hi, 1)-sigmay(hi, 0)*sigmax(hi, 1))\n",
    "H += 2*jnp.cos(theta2)*(sigmax(hi, int(N/2))*sigmax(hi, int(N/2)+1)+sigmay(hi, int(N/2))*sigmay(hi, int(N/2)+1))+jnp.sin(theta2)*(sigmax(hi, int(N/2))*sigmay(hi, int(N/2)+1)-sigmay(hi, int(N/2))*sigmax(hi, int(N/2)+1))\n",
    "H += sum([sigmaz(hi,i)*sigmaz(hi,(i+1)%N) for i in range(N)])\n",
    "sp_h=H.to_sparse()\n",
    "eig_vals, eig_vecs = eigsh(sp_h, k=2, which=\"SA\")\n",
    "\n",
    "print(\"eigenvalues with scipy sparse:\", eig_vals)\n",
    "\n",
    "E_gs = eig_vals[0]"
   ]
  },
  {
   "cell_type": "code",
   "execution_count": null,
   "outputs": [],
   "source": [
    "24.71225007\n",
    "39.63685072"
   ],
   "metadata": {
    "collapsed": false
   }
  }
 ],
 "metadata": {
  "kernelspec": {
   "display_name": "Python 3",
   "language": "python",
   "name": "python3"
  },
  "language_info": {
   "codemirror_mode": {
    "name": "ipython",
    "version": 2
   },
   "file_extension": ".py",
   "mimetype": "text/x-python",
   "name": "python",
   "nbconvert_exporter": "python",
   "pygments_lexer": "ipython2",
   "version": "2.7.6"
  }
 },
 "nbformat": 4,
 "nbformat_minor": 0
}
