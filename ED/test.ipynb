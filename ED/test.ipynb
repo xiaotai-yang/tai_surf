{
 "cells": [
  {
   "cell_type": "code",
   "execution_count": 14,
   "metadata": {
    "collapsed": true,
    "ExecuteTime": {
     "end_time": "2023-12-22T06:04:56.567083600Z",
     "start_time": "2023-12-22T06:04:55.295417400Z"
    }
   },
   "outputs": [
    {
     "name": "stdout",
     "output_type": "stream",
     "text": [
      "eigenvalues with scipy sparse: [-39.68304359 -38.43108525]\n"
     ]
    }
   ],
   "source": [
    "import netket as nk\n",
    "from netket.operator.spin import sigmax,sigmaz, sigmap, sigmam, sigmay\n",
    "from scipy.sparse.linalg import eigsh\n",
    "import jax.numpy as jnp\n",
    "\n",
    "N = 16\n",
    "hi = nk.hilbert.Spin(s=1 / 2, N=N)\n",
    "theta1 = 0.25+0.0j\n",
    "theta2 = 0.25+0.0j\n",
    "H = 2*sum([sigmax(hi, i)*sigmax(hi, i+1)+sigmay(hi, i)*sigmay(hi, i+1) for i in range(1, int(N/2))])\n",
    "H += 2*sum([sigmam(hi, i)*sigmap(hi, (i+1)%N)+sigmap(hi, i)*sigmam(hi, (i+1)%N) for i in range(int(N/2+1), N)])\n",
    "H += 2*jnp.cos(theta1)*(sigmax(hi, 0)*sigmax(hi, 1)+sigmay(hi, 0)*sigmay(hi, 1))+jnp.sin(theta1)*(sigmax(hi, 0)*sigmay(hi, 1)-sigmay(hi, 0)*sigmax(hi, 1))\n",
    "H += 2*jnp.cos(theta2)*(sigmax(hi, int(N/2))*sigmax(hi, int(N/2)+1)+sigmay(hi, int(N/2))*sigmay(hi, int(N/2)+1))+jnp.sin(theta2)*(sigmax(hi, int(N/2))*sigmay(hi, int(N/2)+1)-sigmay(hi, int(N/2))*sigmax(hi, int(N/2)+1))\n",
    "H += sum([sigmaz(hi,i)*sigmaz(hi,(i+1)%N) for i in range(N)])\n",
    "sp_h=H.to_sparse()\n",
    "eig_vals, eig_vecs = eigsh(sp_h, k=2, which=\"SA\")\n",
    "\n",
    "print(\"eigenvalues with scipy sparse:\", eig_vals)\n",
    "\n",
    "E_gs = eig_vals[0]"
   ]
  },
  {
   "cell_type": "code",
   "execution_count": 1,
   "outputs": [],
   "source": [
    "import netket as nk\n",
    "from netket.operator.spin import sigmax,sigmaz, sigmap, sigmam, sigmay\n",
    "from scipy.sparse.linalg import eigsh\n",
    "import jax.numpy as jnp\n"
   ],
   "metadata": {
    "collapsed": false,
    "ExecuteTime": {
     "end_time": "2024-06-04T17:23:38.807467Z",
     "start_time": "2024-06-04T17:23:29.054665Z"
    }
   }
  },
  {
   "cell_type": "code",
   "outputs": [
    {
     "name": "stdout",
     "output_type": "stream",
     "text": [
      "[[ 1. -1.]\n",
      " [-1.  1.]]\n"
     ]
    }
   ],
   "source": [
    "import netket as nk\n",
    "\n",
    "# Define the Hilbert space, typically for a spin system\n",
    "hilbert_space = nk.hilbert.Spin(s=0.5, N=1)  # Example for a single spin-1/2 system\n",
    "\n",
    "# Define the σ^x and σ^z operators\n",
    "sigmax = nk.operator.spin.sigmax(hilbert=hilbert_space, site=0)\n",
    "sigmaz = nk.operator.spin.sigmaz(hilbert=hilbert_space, site=0)\n",
    "\n",
    "# Convert operators to dense matrix form to access elements\n",
    "matrix_sigmax = (identity(hilbert_space)-sigmax).to_dense()\n",
    "matrix_sigmaz = sigmaz.to_dense()\n",
    "print(matrix_sigmax)"
   ],
   "metadata": {
    "collapsed": false,
    "ExecuteTime": {
     "end_time": "2024-02-26T11:05:14.923873600Z",
     "start_time": "2024-02-26T11:05:14.908313900Z"
    }
   },
   "execution_count": 33
  },
  {
   "cell_type": "code",
   "outputs": [
    {
     "name": "stdout",
     "output_type": "stream",
     "text": [
      "1.8207657603852567e-14 2.042899866990031 7.549516567451064e-15 3.1183389204159084e-14 0.3263719804474074 3.835820550079916e-14\n",
      "0.5489903306276469\n",
      "4.440892098500626e-15 2.257442460264978 2.220446049250313e-15 2.88935542158697e-14 1.5836217676767925 1.9539925233402755e-14\n",
      "0.38150904794186946\n",
      "7.438494264988549e-15 2.3470211534155663 1.212363542890671e-13 5.362377208939506e-14 2.5258885408528284 1.1124434706744069e-13\n",
      "0.24842219673215737\n",
      "4.1244785364824565e-13 2.6338595472318547 2.935429677108914e-13 1.4155343563970746e-13 2.609189453235979 1.141309269314661e-13\n",
      "0.13072486762790625\n",
      "7.707168236947837e-13 3.310764818375614 6.641354133307686e-13 1.1379786002407855e-13 1.7976267665989467 1.0491607582707729e-13\n",
      "0.043398902090654445\n",
      "2.2164492463616625e-12 3.647289574424381 2.255973186038318e-12 3.5599301284605644e-13 0.9484951791282564 4.068967385251199e-14\n",
      "0.011776876367243005\n",
      "3.128164394183841e-12 3.708286148259544 3.1437075165285933e-12 2.9071189899809724e-13 0.597555662982868 1.0103029524088925e-14\n",
      "0.004157397316761902\n",
      "1.928546211615867e-11 3.7038108211764764 1.9269696949208992e-11 1.215805234267009e-12 0.47641003356267314 4.468647674116255e-14\n",
      "0.002075966829025333\n",
      "1.1189360549224148e-10 3.6668957020656094 1.118973802505252e-10 6.957767695325856e-12 0.4567793836036878 3.325117958752344e-14\n",
      "0.0014526993174861502\n",
      "2.2759349960210784e-11 3.588560029611779 2.2754909068112283e-11 1.4919732116425166e-12 0.5013969953888398 3.715916463420399e-13\n",
      "0.0014205506479925134\n",
      "2.120748021638974e-12 3.4312801258498347 2.148503597254603e-12 3.433919815165609e-13 0.6126752130752854 5.435651928564766e-13\n",
      "0.001970835525806791\n"
     ]
    }
   ],
   "source": [
    "import jax\n",
    "import netket as nk\n",
    "import numpy as np\n",
    "from netket.operator.spin import sigmax,sigmaz, sigmap, sigmam, identity\n",
    "import time\n",
    "from scipy.sparse.linalg import eigsh\n",
    "import jax.numpy as jnp\n",
    "import matplotlib.pyplot as plt\n",
    "from twoD_tool import *\n",
    "Lx = 4\n",
    "Ly = 3\n",
    "N = Lx * Ly\n",
    "params = [ 0.4, 0.8, 1.2, 1.6, 2.0, 2.4, 2.8, 3.2, 3.6, 4.0, 4.4 ]\n",
    "Omega = 1.0\n",
    "Rb = 1.2**6\n",
    "hi = nk.hilbert.Spin(s=1 / 2, N =  N)\n",
    "for param in params:\n",
    "    ni = []\n",
    "    H = Omega/2*sum([sigmax(hi, y*Lx+x) for y in range (Ly) for x in range (Lx)]) #X\n",
    "    H -= param/2*sum([(identity(hi)-sigmaz(hi, y*Lx+x)) for y in range(Ly) for x in range(Lx)])\n",
    "    H += Omega*Rb/4*sum([((identity(hi)-sigmaz(hi, y1*Lx+x1))*(identity(hi)-sigmaz(hi, y1*Lx+x2)))/((x1-x2)**2)**3 \\\n",
    "                         for y1 in range(Ly) for x1 in range(Lx) for x2 in range(x1+1, Lx)])\n",
    "    H += Omega*Rb/4*sum([((identity(hi)-sigmaz(hi, y1*Lx+x1))*(identity(hi)-sigmaz(hi, y2*Lx+x2)))/(((x1-x2)**2+(y1-y2)**2)**3) \\\n",
    "                         for y1 in range(Ly) for x1 in range(Lx) for y2 in range(y1+1, Ly) for x2 in range(Lx)])\n",
    "    sp_h = H.to_sparse()\n",
    "    eig_vals, eig_vecs = eigsh(sp_h, k=3, which=\"SA\")\n",
    "    \n",
    "    stagger_H = sum([sigmaz(hi, y*Lx+x)*(-1)**(y*Lx+x) for y in range(Ly) for x in range (Lx)])\n",
    "    '''\n",
    "    for y in range(Ly):\n",
    "        for x in range(Lx):\n",
    "            h_ni = (identity(hi)-sigmaz(hi, y*Lx+x))/2\n",
    "            ni.append(eig_vecs[:,0].conj() @ h_ni.to_sparse() @ eig_vecs[:,0])\n",
    "    '''\n",
    "    stagger_H_sp = stagger_H.to_sparse()\n",
    "    stagger_mag0 = np.abs(eig_vecs[:,0].conj() @ stagger_H_sp @ eig_vecs[:,0])\n",
    "    stagger_mag1 = np.abs(eig_vecs[:,0].conj() @ stagger_H_sp @ eig_vecs[:,1])\n",
    "    stagger_mag2 = np.abs(eig_vecs[:,1].conj() @ stagger_H_sp @ eig_vecs[:,1])\n",
    "    stagger_mag3 = np.abs(eig_vecs[:,0].conj() @ stagger_H_sp @ eig_vecs[:,2])\n",
    "    stagger_mag4 = np.abs(eig_vecs[:,1].conj() @ stagger_H_sp @ eig_vecs[:,2])\n",
    "    stagger_mag5 = np.abs(eig_vecs[:,2].conj() @ stagger_H_sp @ eig_vecs[:,2])\n",
    "    print(stagger_mag0, stagger_mag1, stagger_mag2, stagger_mag3, stagger_mag4, stagger_mag5)\n",
    "    print(eig_vals[1]-eig_vals[0])\n",
    "    "
   ],
   "metadata": {
    "collapsed": false,
    "ExecuteTime": {
     "end_time": "2024-06-05T11:17:27.621671Z",
     "start_time": "2024-06-05T11:17:24.920183Z"
    }
   },
   "execution_count": 60
  },
  {
   "cell_type": "code",
   "outputs": [
    {
     "data": {
      "text/plain": "array([0., 0.])"
     },
     "execution_count": 54,
     "metadata": {},
     "output_type": "execute_result"
    }
   ],
   "source": [
    "hi = nk.hilbert.Spin(s=1 / 2, N =  1)\n",
    "H = identity(hi)-sigmaz(hi, 0)\n",
    "H.to_sparse() @ [1, 0]"
   ],
   "metadata": {
    "collapsed": false,
    "ExecuteTime": {
     "end_time": "2024-06-05T08:59:50.901591Z",
     "start_time": "2024-06-05T08:59:50.878581Z"
    }
   },
   "execution_count": 54
  },
  {
   "cell_type": "code",
   "outputs": [
    {
     "data": {
      "text/plain": "(512, 1)"
     },
     "execution_count": 27,
     "metadata": {},
     "output_type": "execute_result"
    }
   ],
   "source": [],
   "metadata": {
    "collapsed": false,
    "ExecuteTime": {
     "end_time": "2024-02-26T08:31:39.458463700Z",
     "start_time": "2024-02-26T08:31:39.433902500Z"
    }
   },
   "execution_count": 27
  },
  {
   "cell_type": "code",
   "outputs": [],
   "source": [],
   "metadata": {
    "collapsed": false
   }
  }
 ],
 "metadata": {
  "kernelspec": {
   "display_name": "Python 3",
   "language": "python",
   "name": "python3"
  },
  "language_info": {
   "codemirror_mode": {
    "name": "ipython",
    "version": 2
   },
   "file_extension": ".py",
   "mimetype": "text/x-python",
   "name": "python",
   "nbconvert_exporter": "python",
   "pygments_lexer": "ipython2",
   "version": "2.7.6"
  }
 },
 "nbformat": 4,
 "nbformat_minor": 0
}
