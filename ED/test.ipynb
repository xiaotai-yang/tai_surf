{
 "cells": [
  {
   "cell_type": "code",
   "execution_count": 14,
   "metadata": {
    "collapsed": true,
    "ExecuteTime": {
     "end_time": "2023-12-22T06:04:56.567083600Z",
     "start_time": "2023-12-22T06:04:55.295417400Z"
    }
   },
   "outputs": [
    {
     "name": "stdout",
     "output_type": "stream",
     "text": [
      "eigenvalues with scipy sparse: [-39.68304359 -38.43108525]\n"
     ]
    }
   ],
   "source": [
    "import netket as nk\n",
    "from netket.operator.spin import sigmax,sigmaz, sigmap, sigmam, sigmay\n",
    "from scipy.sparse.linalg import eigsh\n",
    "import jax.numpy as jnp\n",
    "\n",
    "N = 16\n",
    "hi = nk.hilbert.Spin(s=1 / 2, N=N)\n",
    "theta1 = 0.25+0.0j\n",
    "theta2 = 0.25+0.0j\n",
    "H = 2*sum([sigmax(hi, i)*sigmax(hi, i+1)+sigmay(hi, i)*sigmay(hi, i+1) for i in range(1, int(N/2))])\n",
    "H += 2*sum([sigmam(hi, i)*sigmap(hi, (i+1)%N)+sigmap(hi, i)*sigmam(hi, (i+1)%N) for i in range(int(N/2+1), N)])\n",
    "H += 2*jnp.cos(theta1)*(sigmax(hi, 0)*sigmax(hi, 1)+sigmay(hi, 0)*sigmay(hi, 1))+jnp.sin(theta1)*(sigmax(hi, 0)*sigmay(hi, 1)-sigmay(hi, 0)*sigmax(hi, 1))\n",
    "H += 2*jnp.cos(theta2)*(sigmax(hi, int(N/2))*sigmax(hi, int(N/2)+1)+sigmay(hi, int(N/2))*sigmay(hi, int(N/2)+1))+jnp.sin(theta2)*(sigmax(hi, int(N/2))*sigmay(hi, int(N/2)+1)-sigmay(hi, int(N/2))*sigmax(hi, int(N/2)+1))\n",
    "H += sum([sigmaz(hi,i)*sigmaz(hi,(i+1)%N) for i in range(N)])\n",
    "sp_h=H.to_sparse()\n",
    "eig_vals, eig_vecs = eigsh(sp_h, k=2, which=\"SA\")\n",
    "\n",
    "print(\"eigenvalues with scipy sparse:\", eig_vals)\n",
    "\n",
    "E_gs = eig_vals[0]"
   ]
  },
  {
   "cell_type": "code",
   "execution_count": 1,
   "outputs": [],
   "source": [
    "import netket as nk\n",
    "from netket.operator.spin import sigmax,sigmaz, sigmap, sigmam, sigmay\n",
    "from scipy.sparse.linalg import eigsh\n",
    "import jax.numpy as jnp\n"
   ],
   "metadata": {
    "collapsed": false,
    "ExecuteTime": {
     "end_time": "2024-02-26T07:51:49.180476700Z",
     "start_time": "2024-02-26T07:51:42.420337300Z"
    }
   }
  },
  {
   "cell_type": "code",
   "outputs": [
    {
     "name": "stdout",
     "output_type": "stream",
     "text": [
      "[[ 1. -1.]\n",
      " [-1.  1.]]\n"
     ]
    }
   ],
   "source": [
    "import netket as nk\n",
    "\n",
    "# Define the Hilbert space, typically for a spin system\n",
    "hilbert_space = nk.hilbert.Spin(s=0.5, N=1)  # Example for a single spin-1/2 system\n",
    "\n",
    "# Define the σ^x and σ^z operators\n",
    "sigmax = nk.operator.spin.sigmax(hilbert=hilbert_space, site=0)\n",
    "sigmaz = nk.operator.spin.sigmaz(hilbert=hilbert_space, site=0)\n",
    "\n",
    "# Convert operators to dense matrix form to access elements\n",
    "matrix_sigmax = (identity(hilbert_space)-sigmax).to_dense()\n",
    "matrix_sigmaz = sigmaz.to_dense()\n",
    "print(matrix_sigmax)"
   ],
   "metadata": {
    "collapsed": false,
    "ExecuteTime": {
     "end_time": "2024-02-26T11:05:14.923873600Z",
     "start_time": "2024-02-26T11:05:14.908313900Z"
    }
   },
   "execution_count": 33
  },
  {
   "cell_type": "code",
   "outputs": [],
   "source": [
    "from netket.operator.spin import sigmax,sigmaz, sigmap, sigmam, identity\n",
    "L = 3\n",
    "Omega = 1.0\n",
    "param = 0.2\n",
    "Rb = 3\n",
    "hi = nk.hilbert.Spin(s=1 / 2, N =  9)\n",
    "H = -Omega/2*sum([sigmax(hi, y*L+x) for y in range (L) for x in range (L)]) #X\n",
    "H -= param/2*sum([(identity(hi)+sigmaz(hi, y*L+x)) for y in range(L) for x in range(L)])\n",
    "H += Omega*Rb/4*sum([((identity(hi)-sigmaz(hi, y1*L+x1))*(identity(hi)-sigmaz(hi, y1*L+x2)))/((x1-x2)**2)**3 \\\n",
    "                     for y1 in range(L) for x1 in range(L) for x2 in range(x1+1, L)])\n",
    "H += Omega*Rb/4*sum([((identity(hi)-sigmaz(hi, y1*L+x1))*(identity(hi)-sigmaz(hi, y2*L+x2)))/((x1-x2)**2+(y1-y2)**2)**3 \\\n",
    "                     for y1 in range(L) for x1 in range(L) for y2 in range(y1+1, L) for x2 in range(L)])\n",
    "sp_h = H.to_sparse()\n",
    "eig_vals, eig_vecs = eigsh(sp_h, k=2, which=\"SA\")"
   ],
   "metadata": {
    "collapsed": false,
    "ExecuteTime": {
     "end_time": "2024-02-26T08:55:50.392996Z",
     "start_time": "2024-02-26T08:55:50.302722300Z"
    }
   },
   "execution_count": 31
  },
  {
   "cell_type": "code",
   "outputs": [
    {
     "data": {
      "text/plain": "-4.279354164758967"
     },
     "execution_count": 32,
     "metadata": {},
     "output_type": "execute_result"
    }
   ],
   "source": [
    "eig_vecs[:,0].conj()@sp_h@eig_vecs[:,0]"
   ],
   "metadata": {
    "collapsed": false,
    "ExecuteTime": {
     "end_time": "2024-02-26T08:55:50.502589600Z",
     "start_time": "2024-02-26T08:55:50.496995600Z"
    }
   },
   "execution_count": 32
  },
  {
   "cell_type": "code",
   "outputs": [
    {
     "data": {
      "text/plain": "(512, 1)"
     },
     "execution_count": 27,
     "metadata": {},
     "output_type": "execute_result"
    }
   ],
   "source": [],
   "metadata": {
    "collapsed": false,
    "ExecuteTime": {
     "end_time": "2024-02-26T08:31:39.458463700Z",
     "start_time": "2024-02-26T08:31:39.433902500Z"
    }
   },
   "execution_count": 27
  },
  {
   "cell_type": "code",
   "outputs": [],
   "source": [],
   "metadata": {
    "collapsed": false
   }
  }
 ],
 "metadata": {
  "kernelspec": {
   "display_name": "Python 3",
   "language": "python",
   "name": "python3"
  },
  "language_info": {
   "codemirror_mode": {
    "name": "ipython",
    "version": 2
   },
   "file_extension": ".py",
   "mimetype": "text/x-python",
   "name": "python",
   "nbconvert_exporter": "python",
   "pygments_lexer": "ipython2",
   "version": "2.7.6"
  }
 },
 "nbformat": 4,
 "nbformat_minor": 0
}
