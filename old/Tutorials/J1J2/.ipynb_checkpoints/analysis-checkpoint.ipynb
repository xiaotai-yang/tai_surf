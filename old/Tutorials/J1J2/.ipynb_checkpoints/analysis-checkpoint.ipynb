{
 "cells": [
  {
   "cell_type": "code",
   "execution_count": 7,
   "id": "d965638b",
   "metadata": {},
   "outputs": [],
   "source": [
    "import numpy as np\n",
    "import matplotlib.pyplot as plt\n",
    "N = 1024\n",
    "system_size = 10\n",
    "\n",
    "amps_all_basis = np.load(\"amps_all_basis.npy\")\n",
    "amps_all_basis += np.random.rand(N, system_size)/(1e+9)\n",
    "log_amps_all_basis = np.log(amps_all_basis)"
   ]
  },
  {
   "cell_type": "code",
   "execution_count": 8,
   "id": "3f8ed6f2",
   "metadata": {
    "scrolled": false
   },
   "outputs": [
    {
     "name": "stdout",
     "output_type": "stream",
     "text": [
      "1.0000001163567016\n",
      "(1024, 10)\n"
     ]
    }
   ],
   "source": [
    "N = 1024\n",
    "system_size = 10\n",
    "p_test = np.ones(N)\n",
    "for i in range (system_size):\n",
    "    p_test*= (np.abs(amps_all_basis)**2)[:,i]\n",
    "    \n",
    "print(np.sum(p_test))\n",
    "probs_all_basis = np.abs(amps_all_basis)**2\n",
    "print(probs_all_basis.shape)"
   ]
  },
  {
   "cell_type": "code",
   "execution_count": 9,
   "id": "89190077",
   "metadata": {
    "scrolled": true
   },
   "outputs": [
    {
     "name": "stdout",
     "output_type": "stream",
     "text": [
      "(1024,)\n",
      "[1. 1. 1. ... 1. 1. 1.]\n"
     ]
    }
   ],
   "source": [
    "print(probs_all_basis[:,0].shape)\n",
    "print(np.ones(1024))"
   ]
  },
  {
   "cell_type": "code",
   "execution_count": 10,
   "id": "e0dd3107",
   "metadata": {},
   "outputs": [
    {
     "name": "stdout",
     "output_type": "stream",
     "text": [
      "[7.36487836e-106 3.20954149e-088 4.18239119e-086 ... 1.35039835e-085\n",
      " 1.83838650e-083 5.41927579e-103]\n",
      "(1024,)\n",
      "(512,)\n"
     ]
    }
   ],
   "source": [
    "p_abc = np.ones((1024))\n",
    "for i in range (10):\n",
    "    p_abc*= probs_all_basis[:,i]\n",
    "log_p_abc = np.log(p_abc)\n",
    "print(p_abc)\n",
    "print(p_abc.shape)\n",
    "print(np.unique(np.sum(np.split(p_abc, 2), axis = 0)).shape)"
   ]
  },
  {
   "cell_type": "code",
   "execution_count": 16,
   "id": "2e1c3083",
   "metadata": {},
   "outputs": [],
   "source": [
    "\n",
    "# initialization\n",
    "\n",
    "p_ab = np.ones((system_size, system_size, N))\n",
    "log_p_ab = np.ones((system_size, system_size, N))\n",
    "p_bc = np.ones((system_size, system_size, N))\n",
    "log_p_bc = np.ones((system_size, system_size, N))\n",
    "p_b = np.ones((system_size, system_size, N))\n",
    "log_p_b = np.ones((system_size, system_size, N))\n",
    "\n",
    "\n",
    "\n",
    "for i in range (1,system_size):\n",
    "    for j in range (i, system_size):     # i, j is the cut position\n",
    "        p_ab[i-1, j-1, :2**j] = np.sum(np.split(p_abc, 2**j), axis = 1)\n",
    "        p_bc[i - 1, j - 1, : int(N/2**i)] = np.sum(np.split(p_abc, 2**i), axis = 0)\n",
    "   \n",
    "        if (j == i):\n",
    "            continue\n",
    "        else :\n",
    "            p_b[i - 1, j - 1, : 2**(j-i)] = np.sum(np.split(p_ab[i - 1, j - 1, :2**j], 2**i), axis = 0)\n",
    "            "
   ]
  },
  {
   "cell_type": "code",
   "execution_count": null,
   "id": "2e6779af",
   "metadata": {},
   "outputs": [],
   "source": [
    "N = 1024\n",
    "system_size = 10\n",
    "# initialization\n",
    "\n",
    "p_abc_new = np.ones((system_size, system_size+1, N))\n",
    "p_ab = np.ones((system_size, system_size, N))\n",
    "p_bc = np.ones((system_size, system_size, N))\n",
    "p_b = np.ones((system_size, system_size, N))\n",
    "\n",
    "cmi = []\n",
    "for i in range (system_size-1):\n",
    "    cmi.append(np.array([]))\n",
    "for x in range (system_size):\n",
    "    for i in range (x+1,system_size):\n",
    "        for j in range (i, system_size):     # i, j is the cut position\n",
    "            for k in range (j+1 ,system_size+1):\n",
    "                    \n",
    "                p_abc_new = np.ones((system_size, system_size+1, N))\n",
    "                p_ab = np.ones((system_size, system_size, N))\n",
    "                p_bc = np.ones((system_size, system_size, N))\n",
    "                p_b = np.ones((system_size, system_size, N))\n",
    "                \n",
    "                p_abc_new[x, k, :2**(k-x)] = np.sum(np.split(np.sum(np.split(p_abc, 2**k), axis = 1), 2**x) , axis = 0)\n",
    "                \n",
    "                p_ab[i-1, j-1, :2**(j-x)] = np.sum(np.split(p_abc_new[x, k, :2**(k-x)], 2**(j-x)), axis = 1)\n",
    "                \n",
    "                p_bc[i - 1, j - 1, : int(2**(k-i))] = np.sum(np.split(p_abc_new[x, k, :2**(k-x)], 2**(i-x)), axis = 0)\n",
    "                if (j == i):\n",
    "                    pass\n",
    "                else :\n",
    "                    p_b[i - 1, j - 1, : 2**(j-i)] = np.sum(np.split(p_ab[i - 1, j - 1, :2**(j-x)], 2**(i-x)), axis = 0)\n",
    "                cmi[j-i] = np.append(cmi[j-i],(np.sum(-p_ab[i-1, j-1]*np.log(p_ab[i-1, j-1]) -p_bc[i-1, j-1]*np.log(p_bc[i-1, j-1]) \\\n",
    "                                   + p_abc_new[x, k]*np.log(p_abc_new[x,k]) + p_b[i-1, j-1]*np.log(p_b[i-1, j-1]))))\n",
    "                                            "
   ]
  },
  {
   "cell_type": "code",
   "execution_count": 12,
   "id": "fa6990eb",
   "metadata": {},
   "outputs": [],
   "source": [
    "log_cmi = []\n",
    "for i in range (system_size-1):\n",
    "    log_cmi.append(np.array([]))\n",
    "    log_cmi[i] = np.append(log_cmi[i], np.log(cmi[i]))\n",
    "\n",
    "log_cmi_data = np.zeros(9)\n",
    "log_cmi_var = np.zeros(9)\n",
    "for i in range (len(log_cmi_data)):\n",
    "    log_cmi_data[i] = np.average(log_cmi[i])\n",
    "    log_cmi_var[i] = np.std(log_cmi[i])"
   ]
  },
  {
   "cell_type": "code",
   "execution_count": 15,
   "id": "1d864161",
   "metadata": {},
   "outputs": [
    {
     "name": "stdout",
     "output_type": "stream",
     "text": [
      "[-3.8396725]\n"
     ]
    }
   ],
   "source": [
    "print(log_cmi[8])"
   ]
  },
  {
   "cell_type": "code",
   "execution_count": 13,
   "id": "49aca0d6",
   "metadata": {},
   "outputs": [
    {
     "name": "stderr",
     "output_type": "stream",
     "text": [
      "No handles with labels found to put in legend.\n"
     ]
    },
    {
     "data": {
      "image/png": "[encoded data removed]",
      "text/plain": [
       "<Figure size 432x288 with 1 Axes>"
      ]
     },
     "metadata": {
      "needs_background": "light"
     },
     "output_type": "display_data"
    }
   ],
   "source": [
    "a, b = np.polyfit(np.arange(system_size-1), log_cmi_data, 1)\n",
    "r2 = 1 - np.sum((a*np.arange(system_size-1)+b*np.ones(system_size-1)-log_cmi_data)**2) \\\n",
    "/np.sum((log_cmi_data - np.sum(log_cmi_data)/(system_size-1))**2) \n",
    "ls = 'dotted'\n",
    "\n",
    "plt.scatter(np.arange(system_size-1), log_cmi_data, s = 15 )\n",
    "plt.errorbar(np.arange(system_size-1), log_cmi_data, yerr = log_cmi_var, linestyle='None')\n",
    "plt.plot(np.arange(system_size-1), a*np.arange(system_size-1)+b*np.ones(system_size-1))\n",
    "\n",
    "\n",
    "plt.xlabel(\"distance\")\n",
    "plt.ylabel(\"log_cmi\")\n",
    "plt.figtext(0.7,0.7,'R2 = ' + str(np.round(r2,3)))\n",
    "plt.title(\"1DJ1J2_cmi_decay_general\")\n",
    "plt.legend()\n",
    "plt.savefig(\"1DJ1J2_cmi_decay_general.png\", dpi = 200)"
   ]
  },
  {
   "cell_type": "code",
   "execution_count": 17,
   "id": "3da44540",
   "metadata": {},
   "outputs": [
    {
     "name": "stdout",
     "output_type": "stream",
     "text": [
      "(10, 10, 1024)\n",
      "(10, 10, 1024)\n",
      "(1024,)\n"
     ]
    }
   ],
   "source": [
    "cmi = np.zeros((system_size, system_size))  # conditional mutual information\n",
    "print(p_ab.shape)\n",
    "print(p_bc.shape)\n",
    "print(p_abc.shape)\n",
    "for i in range (0, system_size-1):\n",
    "    for j in range (i , system_size-1):\n",
    "        cmi[i, j] = np.sum(-p_ab[i, j]*np.log(p_ab[i, j]) -p_bc[i, j]*np.log(p_bc[i, j]) + p_abc*log_p_abc + p_b[i, j]*np.log(p_b[i, j]))\n",
    "cmi = cmi[:-1,:-1]"
   ]
  },
  {
   "cell_type": "code",
   "execution_count": 20,
   "id": "02f3bc24",
   "metadata": {},
   "outputs": [
    {
     "name": "stdout",
     "output_type": "stream",
     "text": [
      "[0.52629851 0.23146452 0.17385828 0.11441236 0.08722317 0.0564453\n",
      " 0.04284582 0.0263205  0.02150064]\n",
      "-3.8396725041729827\n"
     ]
    }
   ],
   "source": [
    "\n",
    "cmi_distance = np.zeros(system_size-1)\n",
    "\n",
    "for i in range(0, system_size-1):\n",
    "    for j in range(i, system_size-1):\n",
    "        cmi_distance[j - i] += cmi[i, j]/(system_size-(j-i)-1)\n",
    "print(cmi_distance)\n",
    "print(np.log(cmi_distance[-1]))"
   ]
  },
  {
   "cell_type": "code",
   "execution_count": 22,
   "id": "7066296c",
   "metadata": {},
   "outputs": [
    {
     "data": {
      "text/plain": [
       "0.9837114440513546"
      ]
     },
     "execution_count": 22,
     "metadata": {},
     "output_type": "execute_result"
    }
   ],
   "source": [
    "\n",
    "a, b = np.polyfit(np.arange(system_size-1), np.log(cmi_distance), 1)\n",
    "r2 = 1 - np.sum((a*np.arange(system_size-1)+b*np.ones(system_size-1)-np.log(cmi_distance))**2) \\\n",
    "/np.sum((np.log(cmi_distance) - np.sum(np.log(cmi_distance))/(system_size-1))**2)\n",
    "r2"
   ]
  },
  {
   "cell_type": "code",
   "execution_count": 23,
   "id": "cbc780eb",
   "metadata": {},
   "outputs": [
    {
     "name": "stderr",
     "output_type": "stream",
     "text": [
      "No handles with labels found to put in legend.\n"
     ]
    },
    {
     "data": {
      "image/png": "[encoded data removed]",
      "text/plain": [
       "<Figure size 432x288 with 1 Axes>"
      ]
     },
     "metadata": {
      "needs_background": "light"
     },
     "output_type": "display_data"
    }
   ],
   "source": [
    "\n",
    "plt.scatter(np.arange(system_size-1), np.log(cmi_distance))\n",
    "plt.plot(np.arange(system_size-1), a*np.arange(system_size-1)+b*np.ones(system_size-1))\n",
    "plt.xlabel(\"distance\")\n",
    "plt.ylabel(\"log_cmi\")\n",
    "plt.figtext(0.7,0.7,'R2 = ' + str(np.round(r2,3)))\n",
    "plt.title(\"1DJ1J2_cmi_decay\")\n",
    "plt.legend()\n",
    "plt.savefig(\"1DJ1J2_cmi_decay.png\", dpi = 200)"
   ]
  },
  {
   "cell_type": "code",
   "execution_count": 136,
   "id": "1220442a",
   "metadata": {},
   "outputs": [
    {
     "data": {
      "text/plain": [
       "array([[ 1.02414222e+03,  9.90540048e-03, -2.84805390e-02,\n",
       "        -1.24704659e-01, -1.99140819e-01, -2.47619828e-01,\n",
       "        -2.84792882e-01, -3.20977706e-01, -3.52831031e-01,\n",
       "        -1.02931811e+03],\n",
       "       [ 0.00000000e+00,  1.02418884e+03,  1.81398781e-02,\n",
       "        -9.48706211e-02, -2.01903296e-01, -3.01122722e-01,\n",
       "        -4.06043003e-01, -4.68974828e-01, -5.30865417e-01,\n",
       "        -1.02931811e+03],\n",
       "       [ 0.00000000e+00,  0.00000000e+00,  1.02421737e+03,\n",
       "         2.32592424e-02, -1.19781336e-01, -2.50526451e-01,\n",
       "        -3.78778853e-01, -5.02592848e-01, -5.80311524e-01,\n",
       "        -1.02931811e+03],\n",
       "       [ 0.00000000e+00,  0.00000000e+00,  0.00000000e+00,\n",
       "         1.02423016e+03,  2.49832260e-02, -1.36875720e-01,\n",
       "        -2.87688828e-01, -4.14257030e-01, -5.42530233e-01,\n",
       "        -1.02931811e+03],\n",
       "       [ 0.00000000e+00,  0.00000000e+00,  0.00000000e+00,\n",
       "         0.00000000e+00,  1.02422953e+03,  2.39796711e-02,\n",
       "        -1.43568466e-01, -2.89370079e-01, -4.25584430e-01,\n",
       "        -1.02931811e+03],\n",
       "       [ 0.00000000e+00,  0.00000000e+00,  0.00000000e+00,\n",
       "         0.00000000e+00,  0.00000000e+00,  1.02421887e+03,\n",
       "         2.10269615e-02, -1.40362193e-01, -2.86727628e-01,\n",
       "        -1.02931811e+03],\n",
       "       [ 0.00000000e+00,  0.00000000e+00,  0.00000000e+00,\n",
       "         0.00000000e+00,  0.00000000e+00,  0.00000000e+00,\n",
       "         1.02420160e+03,  1.67495040e-02, -1.34973305e-01,\n",
       "        -1.02931811e+03],\n",
       "       [ 0.00000000e+00,  0.00000000e+00,  0.00000000e+00,\n",
       "         0.00000000e+00,  0.00000000e+00,  0.00000000e+00,\n",
       "         0.00000000e+00,  1.02418036e+03,  1.11787623e-02,\n",
       "        -1.02931811e+03],\n",
       "       [ 0.00000000e+00,  0.00000000e+00,  0.00000000e+00,\n",
       "         0.00000000e+00,  0.00000000e+00,  0.00000000e+00,\n",
       "         0.00000000e+00,  0.00000000e+00,  1.02415301e+03,\n",
       "        -1.02931811e+03],\n",
       "       [ 0.00000000e+00,  0.00000000e+00,  0.00000000e+00,\n",
       "         0.00000000e+00,  0.00000000e+00,  0.00000000e+00,\n",
       "         0.00000000e+00,  0.00000000e+00,  0.00000000e+00,\n",
       "        -1.02931811e+03]])"
      ]
     },
     "execution_count": 136,
     "metadata": {},
     "output_type": "execute_result"
    }
   ],
   "source": [
    "cmi"
   ]
  },
  {
   "cell_type": "code",
   "execution_count": 200,
   "id": "c2023e84",
   "metadata": {},
   "outputs": [
    {
     "name": "stdout",
     "output_type": "stream",
     "text": [
      "[1 2 3 4]\n"
     ]
    },
    {
     "data": {
      "text/plain": [
       "array([1, 3, 2, 4])"
      ]
     },
     "execution_count": 200,
     "metadata": {},
     "output_type": "execute_result"
    }
   ],
   "source": [
    "a = np.array([1, 3, 2, 2,1,3,4])\n",
    "auni = np.unique(a , return_index= True)\n",
    "print(a[auni[1]])\n",
    "auni[1]\n",
    "a[np.sort(auni[1])]"
   ]
  },
  {
   "cell_type": "code",
   "execution_count": 6,
   "id": "c7812bfd",
   "metadata": {},
   "outputs": [
    {
     "data": {
      "text/plain": [
       "array([list([0, 1, 2, 3]), list([2, 3, 4])], dtype=object)"
      ]
     },
     "execution_count": 6,
     "metadata": {},
     "output_type": "execute_result"
    }
   ],
   "source": [
    "np.array([[0,1,2,3], [2,3,4]])"
   ]
  },
  {
   "cell_type": "code",
   "execution_count": null,
   "id": "1084985b",
   "metadata": {},
   "outputs": [],
   "source": []
  }
 ],
 "metadata": {
  "kernelspec": {
   "display_name": "Python 3",
   "language": "python",
   "name": "python3"
  },
  "language_info": {
   "codemirror_mode": {
    "name": "ipython",
    "version": 3
   },
   "file_extension": ".py",
   "mimetype": "text/x-python",
   "name": "python",
   "nbconvert_exporter": "python",
   "pygments_lexer": "ipython3",
   "version": "3.6.13"
  }
 },
 "nbformat": 4,
 "nbformat_minor": 5
}
