{
 "cells": [
  {
   "cell_type": "code",
   "execution_count": 1,
   "id": "c62c718b",
   "metadata": {},
   "outputs": [
    {
     "data": {
      "text/plain": [
       "'\\nN = 16\\n#samples = np.reshape(np.array(list(itertools.product([0, 1], repeat=N))),(2**16, 4,4))\\n#data = np.load(\"result/sample_L4_10k_steps50000.npy\")\\n#probs = np.exp(np.sum(np.sum(np.log(data), axis=2), axis=1))\\n\\nstore = []\\nstore.append(samples)\\nstore.append(probs)\\n\\nconfig = np.zeros((2**16, 17, 4 ,4))\\nconfig_prob = np.zeros((2**16, 17))\\n\\nfor i in range (2**N):\\n    config[i][0] = samples[i]\\n    config_prob[i][0] = probs[i]\\n    for y in range (4):\\n        for x in range (4):\\n            if (samples[i][y][x] == 0):\\n                config[i][4*y+x+1] = samples[i+2**(4*(3-y)+(3-x))]\\n                config_prob[i][4*y+x+1] = probs[i+2**(4*(3-y)+(3-x))]\\n            else:\\n                config[i][4*y+x+1] = samples[i-2**(4*(3-y)+(3-x))]\\n                config_prob[i][4*y+x+1] = probs[i-2**(4*(3-y)+(3-x))]\\n'"
      ]
     },
     "execution_count": 1,
     "metadata": {},
     "output_type": "execute_result"
    }
   ],
   "source": [
    "import itertools\n",
    "import numpy as np\n",
    "'''\n",
    "N = 16\n",
    "#samples = np.reshape(np.array(list(itertools.product([0, 1], repeat=N))),(2**16, 4,4))\n",
    "#data = np.load(\"result/sample_L4_10k_steps50000.npy\")\n",
    "#probs = np.exp(np.sum(np.sum(np.log(data), axis=2), axis=1))\n",
    "\n",
    "store = []\n",
    "store.append(samples)\n",
    "store.append(probs)\n",
    "\n",
    "config = np.zeros((2**16, 17, 4 ,4))\n",
    "config_prob = np.zeros((2**16, 17))\n",
    "\n",
    "for i in range (2**N):\n",
    "    config[i][0] = samples[i]\n",
    "    config_prob[i][0] = probs[i]\n",
    "    for y in range (4):\n",
    "        for x in range (4):\n",
    "            if (samples[i][y][x] == 0):\n",
    "                config[i][4*y+x+1] = samples[i+2**(4*(3-y)+(3-x))]\n",
    "                config_prob[i][4*y+x+1] = probs[i+2**(4*(3-y)+(3-x))]\n",
    "            else:\n",
    "                config[i][4*y+x+1] = samples[i-2**(4*(3-y)+(3-x))]\n",
    "                config_prob[i][4*y+x+1] = probs[i-2**(4*(3-y)+(3-x))]\n",
    "'''                "
   ]
  },
  {
   "cell_type": "code",
   "execution_count": 2,
   "id": "74ea4ddd",
   "metadata": {},
   "outputs": [],
   "source": [
    "def cond_label(position , L):\n",
    "    '''\n",
    "    Input\n",
    "    position: 2d coordinate indicating the ith step\n",
    "    L: the size of the lattice\n",
    "    -----------------------\n",
    "    Output\n",
    "    The label of the lattice for each step (k)\n",
    "    '''\n",
    "    label = np.zeros((L, L))\n",
    "    for i in range (position[0]):\n",
    "        for j in range (L):\n",
    "            label[i][j] = np.abs(i-position[0])+np.abs(j-position[1])\n",
    "    if (position[0]%2 == 0):\n",
    "        for j in range(position[1]):\n",
    "            label[position[0]][j] = np.abs(j-position[1])\n",
    "    else :\n",
    "        for j in range(position[1], L):\n",
    "            label[position[0]][j] = np.abs(j-position[1])\n",
    "    return label\n",
    "\n",
    "def binary_to_decimal(tensor):\n",
    "    ans = 0\n",
    "    for i in range (tensor.shape[0]):\n",
    "        ans += 2**i*tensor[i]\n",
    "    return ans"
   ]
  },
  {
   "cell_type": "code",
   "execution_count": 3,
   "id": "1cfa9ed0",
   "metadata": {
    "scrolled": false
   },
   "outputs": [],
   "source": [
    "\n",
    "def ith_step(position, step, L, sample_, sample_prob_tensor_, choice): \n",
    "    # position: 2d coordinate indicating the ith step\n",
    "    # k: how many steps in the cmi we want to conduct\n",
    "    # L: the size of the lattice\n",
    "    #num_sample_first = sample[:int(sample.shape[0]/1000)]\n",
    "    #num_sample_second = sample[int(sample.shape[0]/1000):int(sample.shape[0]/1000)*2]\n",
    "    #num_sample_first_prob = sample_prob_tensor[:int(sample.shape[0]/1000)]\n",
    "    #num_sample_second_prob = sample_prob_tensor[int(sample_prob_tensor.shape[0]/1000):int(sample.shape[0]/1000)*2] #divide the sample into two\n",
    "    \n",
    "    sample_first = sample_[:10000]\n",
    "    sample_second = sample_[10000:]\n",
    "    sample_first_prob = sample_prob_tensor_[:10000]\n",
    "    sample_second_prob = sample_prob_tensor_[10000:] #divide the sample into two\n",
    "    if choice == \"Euclidean\":\n",
    "        label, real_distance = distance_label(np.array(position), L)\n",
    "    else: \n",
    "        label = label = cond_label(position, L)\n",
    "    length = np.max(label)\n",
    "    output = 0\n",
    "    # get the coordinate that we need to match\n",
    "    for i in range (1, step+1):\n",
    "        pos_temp = np.where(label == i)\n",
    "        label[pos_temp] = -1\n",
    "   \n",
    "    sample_category = []\n",
    "    prob_category = []\n",
    "    prob_category_expectation = []\n",
    "    n = 2**len(np.where(label == -1)[0])   # the number of k\n",
    "    \n",
    "    for i in range (n):\n",
    "        sample_category.append([]) \n",
    "        sample_category.append([])\n",
    "        prob_category.append([])\n",
    "        prob_category.append([])\n",
    "        prob_category_expectation.append([0])\n",
    "        prob_category_expectation.append([0]) # create size of 2*k because we also need to take x_i into account \n",
    "        \n",
    "    for i in range (sample_second.shape[0]):\n",
    "        temp = sample_second[i][np.where(label == -1)]  # sample category in binary\n",
    "        num_label = binary_to_decimal(temp) #  sample category in digital\n",
    "        \n",
    "        if (sample_second[i][position[0]][position[1]] == 0): # divide even 2 more category with the two values of x_i\n",
    "            sample_category[num_label].append(sample_second[i])\n",
    "            prob_category[num_label].append(sample_second_prob[i])\n",
    "        else:\n",
    "            sample_category[num_label+n].append(sample_second[i])\n",
    "            prob_category[num_label+n].append(sample_second_prob[i])\n",
    "    '''\n",
    "    for i in range (2*n):\n",
    "        if len(sample_category[i]) == 0:\n",
    "            print(i)\n",
    "    '''\n",
    "    for i in range (2*n):#calculate E_y{p(x_i|x_{i-1}....x_{i-k}y_{i-k-1}...y_1)} for each x_i-x_{i-k}\n",
    "        if (len(prob_category[i]) == 0):\n",
    "            prob_category_expectation[i] = 0.5\n",
    "        for j in range (len(prob_category[i])):\n",
    "            prob_category_expectation[i] += prob_category[i][j][position[0]][position[1]]/len(prob_category[i])\n",
    "    #print(prob_category_expectation)\n",
    "    for i in range (sample_first.shape[0]):\n",
    "        #sampling from 1st to (i-1) th and output prob p(x_i|x_{i-1} x_{i-2}... x_1), this can be done directly.   \n",
    "\n",
    "        num_label = binary_to_decimal(sample_first[i][np.where(label == -1)])\n",
    "        \n",
    "        \n",
    "        if sample_first[i][position[0]][position[1]] == 0:\n",
    "            output +=  np.abs(1 - prob_category_expectation[num_label]/sample_first_prob[i][position[0]][position[1]])\n",
    "            \n",
    "            #print(i, sample_first_prob[i][position[0]][position[1]], prob_category_expectation[num_label])\n",
    "        else:\n",
    "            output +=  np.abs(1 - prob_category_expectation[num_label+n]/sample_first_prob[i][position[0]][position[1]] )\n",
    "            # easy direction: sampling from the 1st to some (i-2) and output prob p(x_i|x_{i-1}, y_{i-2}...y_1)\n",
    "            # we first get y_1 ~ y_{i-2} samples and input the rnn with the known x_{i-1} and x_{i} to caluclate the output prob        \n",
    "            # hard direction: sampling from the 1st to some (i-k) and output prob p(x_i|x_{i-1}, y_{i-k}...y_1)\n",
    "            # we first get y_1 ~ y_{i-k} samples and input the rnn with the known x_{i-k+1} ~ x_{i} to calculate the output prob\n",
    "            #  y_1 ~ y_{i-k} samples can be got by sampling y_1 ~ y_{i-2} and ignore the excess part.\n",
    "    if choice ==\"Euclidean\":\n",
    "        return output/sample_first.shape[0], length, label, real_distance\n",
    "    else:\n",
    "        return output/sample_first.shape[0], length, label"
   ]
  },
  {
   "cell_type": "code",
   "execution_count": 4,
   "id": "647f0cd4",
   "metadata": {},
   "outputs": [
    {
     "name": "stdout",
     "output_type": "stream",
     "text": [
      "[[ 6.  5.  4.  3.  4.  5.  6.  7.  8.  9. 10. 11.]\n",
      " [ 5.  4.  3.  2.  3.  4.  5.  6.  7.  8.  9. 10.]\n",
      " [ 4.  3.  2.  1.  2.  3.  4.  5.  6.  7.  8.  9.]\n",
      " [ 0.  0.  0.  0.  1.  2.  3.  4.  5.  6.  7.  8.]\n",
      " [ 0.  0.  0.  0.  0.  0.  0.  0.  0.  0.  0.  0.]\n",
      " [ 0.  0.  0.  0.  0.  0.  0.  0.  0.  0.  0.  0.]\n",
      " [ 0.  0.  0.  0.  0.  0.  0.  0.  0.  0.  0.  0.]\n",
      " [ 0.  0.  0.  0.  0.  0.  0.  0.  0.  0.  0.  0.]\n",
      " [ 0.  0.  0.  0.  0.  0.  0.  0.  0.  0.  0.  0.]\n",
      " [ 0.  0.  0.  0.  0.  0.  0.  0.  0.  0.  0.  0.]\n",
      " [ 0.  0.  0.  0.  0.  0.  0.  0.  0.  0.  0.  0.]\n",
      " [ 0.  0.  0.  0.  0.  0.  0.  0.  0.  0.  0.  0.]]\n",
      "(array([[11.,  8.,  7.,  6.,  7.,  8., 11., 13., 16., 20., 24., 28.],\n",
      "       [ 8.,  5.,  4.,  3.,  4.,  5.,  8., 12., 15., 19., 23., 27.],\n",
      "       [ 7.,  4.,  2.,  1.,  2.,  4.,  7., 10., 14., 18., 22., 26.],\n",
      "       [ 0.,  0.,  0.,  0.,  1.,  3.,  6.,  9., 13., 17., 21., 25.],\n",
      "       [ 0.,  0.,  0.,  0.,  0.,  0.,  0.,  0.,  0.,  0.,  0.,  0.],\n",
      "       [ 0.,  0.,  0.,  0.,  0.,  0.,  0.,  0.,  0.,  0.,  0.,  0.],\n",
      "       [ 0.,  0.,  0.,  0.,  0.,  0.,  0.,  0.,  0.,  0.,  0.,  0.],\n",
      "       [ 0.,  0.,  0.,  0.,  0.,  0.,  0.,  0.,  0.,  0.,  0.,  0.],\n",
      "       [ 0.,  0.,  0.,  0.,  0.,  0.,  0.,  0.,  0.,  0.,  0.,  0.],\n",
      "       [ 0.,  0.,  0.,  0.,  0.,  0.,  0.,  0.,  0.,  0.,  0.,  0.],\n",
      "       [ 0.,  0.,  0.,  0.,  0.,  0.,  0.,  0.,  0.,  0.,  0.,  0.],\n",
      "       [ 0.,  0.,  0.,  0.,  0.,  0.,  0.,  0.,  0.,  0.,  0.,  0.]]), array([[4.24264069, 3.60555128, 3.16227766, 3.        , 3.16227766,\n",
      "        3.60555128, 4.24264069, 5.        , 5.83095189, 6.70820393,\n",
      "        7.61577311, 8.54400375],\n",
      "       [3.60555128, 2.82842712, 2.23606798, 2.        , 2.23606798,\n",
      "        2.82842712, 3.60555128, 4.47213595, 5.38516481, 6.32455532,\n",
      "        7.28010989, 8.24621125],\n",
      "       [3.16227766, 2.23606798, 1.41421356, 1.        , 1.41421356,\n",
      "        2.23606798, 3.16227766, 4.12310563, 5.09901951, 6.08276253,\n",
      "        7.07106781, 8.06225775],\n",
      "       [0.        , 0.        , 0.        , 0.        , 1.        ,\n",
      "        2.        , 3.        , 4.        , 5.        , 6.        ,\n",
      "        7.        , 8.        ],\n",
      "       [0.        , 0.        , 0.        , 0.        , 0.        ,\n",
      "        0.        , 0.        , 0.        , 0.        , 0.        ,\n",
      "        0.        , 0.        ],\n",
      "       [0.        , 0.        , 0.        , 0.        , 0.        ,\n",
      "        0.        , 0.        , 0.        , 0.        , 0.        ,\n",
      "        0.        , 0.        ],\n",
      "       [0.        , 0.        , 0.        , 0.        , 0.        ,\n",
      "        0.        , 0.        , 0.        , 0.        , 0.        ,\n",
      "        0.        , 0.        ],\n",
      "       [0.        , 0.        , 0.        , 0.        , 0.        ,\n",
      "        0.        , 0.        , 0.        , 0.        , 0.        ,\n",
      "        0.        , 0.        ],\n",
      "       [0.        , 0.        , 0.        , 0.        , 0.        ,\n",
      "        0.        , 0.        , 0.        , 0.        , 0.        ,\n",
      "        0.        , 0.        ],\n",
      "       [0.        , 0.        , 0.        , 0.        , 0.        ,\n",
      "        0.        , 0.        , 0.        , 0.        , 0.        ,\n",
      "        0.        , 0.        ],\n",
      "       [0.        , 0.        , 0.        , 0.        , 0.        ,\n",
      "        0.        , 0.        , 0.        , 0.        , 0.        ,\n",
      "        0.        , 0.        ],\n",
      "       [0.        , 0.        , 0.        , 0.        , 0.        ,\n",
      "        0.        , 0.        , 0.        , 0.        , 0.        ,\n",
      "        0.        , 0.        ]]))\n"
     ]
    }
   ],
   "source": [
    "def distance_label(A, L):   #B is tuple of array with size (|A|,2), 1st denotes the numbers of  points, 2nd denotes the coordinate.\n",
    "    A_distance = np.zeros((L,L))*L**2  # denotes the distance between each lattice point and |A|\n",
    "    dis_label = np.zeros((L,L))\n",
    "    \n",
    "    for i in range (A[0]):\n",
    "        for j in range (L):\n",
    "            if ( A_distance[i,j] < np.sqrt((i-A[0])**2 + (j-A[1])**2)):\n",
    "                A_distance[i,j] = np.sqrt((i-A[0])**2 + (j-A[1])**2)\n",
    "    if A[0]%2 == 0:\n",
    "        for j in range(A[1]):\n",
    "            if ( A_distance[A[0], j] < np.sqrt((j-A[1])**2)):\n",
    "                A_distance[A[0],j] = np.sqrt((j-A[1])**2)\n",
    "    elif A[0]%2 == 1:\n",
    "        for j in range(L-A[1]-1):\n",
    "            if ( A_distance[A[0], -j-1] < np.sqrt((L-j-1-A[1])**2)):\n",
    "                A_distance[A[0],-j-1] = np.sqrt((L-j-1-A[1])**2)\n",
    "    indices = np.squeeze(np.dstack(np.unravel_index(np.argsort(A_distance.ravel()), (L, L)))) \n",
    "    flat_indices = np.argsort(A_distance.ravel()) \n",
    "    # the 1st indice indicates the closet lattice points to B  \n",
    "    temp = 0     # denotes the order\n",
    "    count = []   # denote the number of lattice for each order\n",
    "    temp_count = 1\n",
    "    for i in range (L**2):\n",
    "        if (i!=0):\n",
    "            if (A_distance[indices[i][0],indices[i][1]]> A_distance[indices[i-1][0],indices[i-1][1]]):\n",
    "                temp += 1\n",
    "                count.append(temp_count)\n",
    "                temp_count = 1\n",
    "            else :\n",
    "                temp_count +=1\n",
    "        dis_label[indices[i][0],indices[i][1]] = temp\n",
    "    count.append(temp_count)    \n",
    "    temp = 0\n",
    "    marginal_label = []\n",
    "    for i in range (len(count)):\n",
    "        temp1 = temp\n",
    "        temp += count[i]\n",
    "        marginal_label.append(flat_indices[temp1:temp])\n",
    "    \n",
    "    return dis_label, A_distance   # reverse \n",
    "\n",
    "def cond_label(position , L):\n",
    "    '''\n",
    "    Input\n",
    "    position: 2d coordinate indicating the ith step\n",
    "    L: the size of the lattice\n",
    "    -----------------------\n",
    "    Output\n",
    "    The label of the lattice for each step (k)\n",
    "    '''\n",
    "    label = np.zeros((L, L))\n",
    "    for i in range (position[0]):\n",
    "        for j in range (L):\n",
    "            label[i][j] = np.abs(i-position[0])+np.abs(j-position[1])\n",
    "    if (position[0]%2 == 0):\n",
    "        for j in range(position[1]):\n",
    "            label[position[0]][j] = np.abs(j-position[1])\n",
    "    else :\n",
    "        for j in range(position[1], L):\n",
    "            label[position[0]][j] = np.abs(j-position[1])\n",
    "    #label[position[0]][position[1]] = -1\n",
    "    return label\n",
    "\n",
    "test = cond_label([3,3], 12)\n",
    "test_1 = distance_label(np.array([3,3]),12)\n",
    "print(test)\n",
    "print(test_1)\n"
   ]
  },
  {
   "cell_type": "code",
   "execution_count": 5,
   "id": "4d719b42",
   "metadata": {},
   "outputs": [
    {
     "data": {
      "text/plain": [
       "'C:\\\\Users\\\\Administrator\\\\PycharmProjects\\\\RNNWavefunctions'"
      ]
     },
     "execution_count": 5,
     "metadata": {},
     "output_type": "execute_result"
    }
   ],
   "source": [
    "import os\n",
    "os.getcwd()"
   ]
  },
  {
   "cell_type": "code",
   "execution_count": 5,
   "id": "c444ab33",
   "metadata": {},
   "outputs": [
    {
     "name": "stdout",
     "output_type": "stream",
     "text": [
      "[[[0.5013095  0.6473838  0.6047374  ... 0.6123667  0.3821392  0.66497344]\n",
      "  [0.39748174 0.522237   0.251429   ... 0.6318023  0.47746322 0.2910865 ]\n",
      "  [0.80860466 0.7249814  0.1753141  ... 0.5888818  0.26588845 0.9316385 ]\n",
      "  ...\n",
      "  [0.6547289  0.43437386 0.24348325 ... 0.5731839  0.3412564  0.3506565 ]\n",
      "  [0.7236403  0.83353966 0.18738283 ... 0.25928834 0.56285137 0.9335954 ]\n",
      "  [0.72322804 0.54721266 0.7087053  ... 0.20611    0.9182247  0.52310306]]\n",
      "\n",
      " [[0.5013095  0.6473838  0.39526254 ... 0.37676752 0.66668236 0.61372274]\n",
      "  [0.81557816 0.65123856 0.748675   ... 0.20289391 0.7318007  0.73325264]\n",
      "  [0.54684526 0.69510764 0.5065663  ... 0.8726754  0.38821647 0.665869  ]\n",
      "  ...\n",
      "  [0.6873046  0.43564236 0.66690665 ... 0.845394   0.41162637 0.8639249 ]\n",
      "  [0.2834761  0.49299937 0.5321377  ... 0.6294565  0.8093127  0.46943367]\n",
      "  [0.9087891  0.82407105 0.86999756 ... 0.8563017  0.646657   0.75583285]]\n",
      "\n",
      " [[0.49869043 0.35377502 0.34268695 ... 0.39725572 0.6608036  0.6199281 ]\n",
      "  [0.8949908  0.23979124 0.7951661  ... 0.7834232  0.7384247  0.7248325 ]\n",
      "  [0.47636494 0.8779191  0.52885425 ... 0.56099373 0.55588555 0.5692228 ]\n",
      "  ...\n",
      "  [0.2653766  0.75602454 0.40413448 ... 0.29401284 0.87114817 0.16275503]\n",
      "  [0.15465894 0.8467315  0.7702794  ... 0.23612033 0.7260389  0.92972195]\n",
      "  [0.7776964  0.68530303 0.53881246 ... 0.3678892  0.6765444  0.5122253 ]]\n",
      "\n",
      " ...\n",
      "\n",
      " [[0.5013095  0.3526162  0.65840894 ... 0.6096867  0.37680876 0.67108077]\n",
      "  [0.23570746 0.7950861  0.7272487  ... 0.7878347  0.51224464 0.30338776]\n",
      "  [0.85478765 0.5213517  0.68957686 ... 0.5457887  0.7880872  0.184824  ]\n",
      "  ...\n",
      "  [0.6139326  0.39829502 0.6208125  ... 0.39736116 0.840728   0.76537555]\n",
      "  [0.6131004  0.70161486 0.21789505 ... 0.78216106 0.4561504  0.73709434]\n",
      "  [0.9368503  0.18018724 0.17367546 ... 0.56129074 0.85056925 0.6741018 ]]\n",
      "\n",
      " [[0.5013095  0.3526162  0.34159106 ... 0.37966502 0.66722745 0.38861936]\n",
      "  [0.8024542  0.86605823 0.3524807  ... 0.48497656 0.34690627 0.7806683 ]\n",
      "  [0.4873752  0.6320961  0.83245265 ... 0.25685787 0.50828624 0.41704002]\n",
      "  ...\n",
      "  [0.49653256 0.68242085 0.55668336 ... 0.8848971  0.55231124 0.66803336]\n",
      "  [0.7759415  0.33391494 0.62718433 ... 0.6353289  0.45392737 0.67901146]\n",
      "  [0.9292727  0.18535125 0.8395124  ... 0.76745087 0.89596057 0.74046594]]\n",
      "\n",
      " [[0.5013095  0.3526162  0.65840894 ... 0.60289085 0.6279771  0.38230297]\n",
      "  [0.728794   0.5383913  0.27357024 ... 0.50947744 0.33338502 0.78599775]\n",
      "  [0.4504825  0.26248494 0.8849465  ... 0.34707576 0.44371143 0.6221296 ]\n",
      "  ...\n",
      "  [0.536101   0.37390113 0.7042123  ... 0.58257055 0.8097767  0.7156968 ]\n",
      "  [0.7774846  0.8090648  0.46122363 ... 0.60303    0.33197206 0.6789574 ]\n",
      "  [0.78513074 0.7150679  0.5481011  ... 0.64561313 0.85612965 0.7710882 ]]]\n",
      "[[[0 1 0 ... 1 1 0]\n",
      "  [0 1 0 ... 0 0 0]\n",
      "  [1 0 0 ... 0 0 1]\n",
      "  ...\n",
      "  [1 0 1 ... 0 1 1]\n",
      "  [0 1 1 ... 0 1 0]\n",
      "  [0 1 0 ... 0 0 1]]\n",
      "\n",
      " [[0 1 1 ... 0 1 0]\n",
      "  [1 0 0 ... 0 0 1]\n",
      "  [0 1 1 ... 1 0 1]\n",
      "  ...\n",
      "  [0 1 0 ... 1 0 1]\n",
      "  [0 1 0 ... 0 1 0]\n",
      "  [1 0 1 ... 1 0 1]]\n",
      "\n",
      " [[1 1 1 ... 1 0 1]\n",
      "  [0 1 0 ... 0 1 0]\n",
      "  [1 0 1 ... 0 1 0]\n",
      "  ...\n",
      "  [1 1 0 ... 0 0 1]\n",
      "  [1 0 1 ... 0 1 0]\n",
      "  [0 0 1 ... 0 1 0]]\n",
      "\n",
      " ...\n",
      "\n",
      " [[0 0 1 ... 0 0 1]\n",
      "  [0 1 0 ... 1 0 1]\n",
      "  [1 0 1 ... 0 1 1]\n",
      "  ...\n",
      "  [0 0 1 ... 0 1 1]\n",
      "  [1 1 1 ... 1 1 0]\n",
      "  [0 1 1 ... 1 0 1]]\n",
      "\n",
      " [[0 0 0 ... 0 1 1]\n",
      "  [1 1 0 ... 0 1 0]\n",
      "  [1 0 1 ... 0 1 1]\n",
      "  ...\n",
      "  [1 0 1 ... 1 0 1]\n",
      "  [0 0 1 ... 1 0 1]\n",
      "  [1 0 0 ... 0 1 0]]\n",
      "\n",
      " [[0 0 1 ... 0 1 1]\n",
      "  [1 1 1 ... 0 1 0]\n",
      "  [1 1 0 ... 0 1 0]\n",
      "  ...\n",
      "  [1 0 0 ... 1 1 0]\n",
      "  [0 1 0 ... 1 1 0]\n",
      "  [1 0 1 ... 0 0 1]]]\n"
     ]
    }
   ],
   "source": [
    "\n",
    "sample = np.load(\"2DJ1J2/result/sample_L10_40k_steps26015.npy\")\n",
    "sample = np.transpose(sample, (0,2,1))\n",
    "\n",
    "sample_prob_tensor = np.load(\"2DJ1J2/result/sample_cond_prob_L10_40k_steps26015.npy\")\n",
    "sample_prob_tensor = np.transpose(sample_prob_tensor, (0,2,1))\n",
    "\n",
    "\n",
    "print(sample_prob_tensor)\n",
    "print(sample)"
   ]
  },
  {
   "cell_type": "code",
   "execution_count": 8,
   "id": "c33a2ec9",
   "metadata": {},
   "outputs": [
    {
     "data": {
      "text/plain": [
       "array([[10.,  9.,  8.,  7.,  6.,  5.,  6.,  7.,  8.,  9.],\n",
       "       [ 9.,  8.,  7.,  6.,  5.,  4.,  5.,  6.,  7.,  8.],\n",
       "       [ 8.,  7.,  6.,  5.,  4., -1.,  4.,  5.,  6.,  7.],\n",
       "       [ 7.,  6.,  5.,  4., -1., -1., -1.,  4.,  5.,  6.],\n",
       "       [ 6.,  5.,  4., -1., -1., -1., -1., -1.,  4.,  5.],\n",
       "       [ 0.,  0.,  0.,  0.,  0.,  0., -1., -1., -1.,  4.],\n",
       "       [ 0.,  0.,  0.,  0.,  0.,  0.,  0.,  0.,  0.,  0.],\n",
       "       [ 0.,  0.,  0.,  0.,  0.,  0.,  0.,  0.,  0.,  0.],\n",
       "       [ 0.,  0.,  0.,  0.,  0.,  0.,  0.,  0.,  0.,  0.],\n",
       "       [ 0.,  0.,  0.,  0.,  0.,  0.,  0.,  0.,  0.,  0.]])"
      ]
     },
     "execution_count": 8,
     "metadata": {},
     "output_type": "execute_result"
    }
   ],
   "source": [
    "\n",
    "position = [5, 5]\n",
    "L = 10\n",
    "prob_diff, length, label = ith_step(position, 3, L, sample, sample_prob_tensor, \"else\")\n",
    "label \n",
    "\n"
   ]
  },
  {
   "cell_type": "code",
   "execution_count": 9,
   "id": "76d84d4a",
   "metadata": {},
   "outputs": [
    {
     "name": "stdout",
     "output_type": "stream",
     "text": [
      "[0.06928504]\n"
     ]
    }
   ],
   "source": [
    "print(prob_diff)"
   ]
  },
  {
   "cell_type": "code",
   "execution_count": null,
   "id": "80ad47b2",
   "metadata": {},
   "outputs": [],
   "source": [
    "isize = 0\n",
    "result = []\n",
    "\n",
    "for i in range (L-1):\n",
    "    if (isize + len(np.where(distance_label(position, L) == i+1)[0])<=16):\n",
    "        isize += len(np.where(distance_label(position, L) == i+1)[0])\n",
    "    else: \n",
    "        break\n",
    "diff = np.zeros(i)   \n",
    "for i in range (len(diff)):\n",
    "    diff[i] = ith_step(position, i, L, sample, sample_prob_tensor, \"else\")[0]\n",
    "   \n"
   ]
  },
  {
   "cell_type": "code",
   "execution_count": 11,
   "id": "4d44eb30",
   "metadata": {},
   "outputs": [
    {
     "name": "stdout",
     "output_type": "stream",
     "text": [
      "[0.28487483 0.20988545 0.06469833 0.02358385 0.0101442  0.00394331\n",
      " 0.00251352 0.00649386]\n",
      "[0.34626115 0.20377024 0.10524355 0.01743794 0.00757684 0.00432459\n",
      " 0.0091275  0.03534677]\n",
      "[0.32205711 0.19513938 0.09275635 0.04293255 0.0125422  0.02065103\n",
      " 0.05272795]\n",
      "[0.32366064 0.19431453 0.0923245  0.03748153 0.03242014 0.08545641]\n",
      "[0.32040846 0.19366045 0.09115538 0.03617142 0.04414119]\n",
      "[0.32091843 0.19839788 0.0903722  0.03688535]\n",
      "[0.32941886 0.19217137 0.08836947 0.0358677  0.05325823]\n",
      "[0.31928531 0.19132651 0.08580887 0.03772019 0.02811722]\n",
      "[0.3078962  0.18670863 0.09051414 0.02976515 0.01446838 0.03553659]\n",
      "[0.37936522 0.22970172 0.10128705 0.03872469 0.01625389 0.0196863\n",
      " 0.07257257]\n",
      "[0.41912458 0.2181484  0.13339737 0.08056859 0.04544389]\n",
      "[0.33117339 0.17617918 0.10191936 0.0780151  0.05985086]\n",
      "[0.34834339 0.17689228 0.09987628 0.07464015]\n",
      "[0.34475203 0.1724041  0.09958378 0.07233413]\n",
      "[0.33320055 0.17634992 0.09861521 0.07384414]\n",
      "[0.34164632 0.17130924 0.09755401 0.07118311]\n",
      "[0.34474964 0.17198728 0.09625887 0.072075  ]\n",
      "[0.34017354 0.17545561 0.09776928 0.07173412 0.06927545]\n",
      "[0.35787396 0.18173132 0.10744378 0.08007236 0.0224068  0.03908907]\n",
      "[0.3580155  0.18318008 0.10543939 0.05574382 0.02437679 0.01354948\n",
      " 0.02013938]\n",
      "[0.32719212 0.18960294 0.09411786 0.07459289 0.04791506 0.03122086]\n",
      "[0.34963235 0.1821334  0.10616393 0.07987973 0.071851  ]\n",
      "[0.33881742 0.17824983 0.09780381 0.07645853]\n",
      "[0.34511876 0.17698681 0.09518248 0.0749851 ]\n",
      "[0.34143225 0.17193174 0.09360706 0.07247787]\n",
      "[0.31809587 0.17174795 0.09303366 0.0729045 ]\n",
      "[0.33730569 0.17377623 0.09236852 0.07009422]\n",
      "[0.33454299 0.17114039 0.08963287 0.07027528]\n",
      "[0.32044038 0.1681331  0.09222154 0.07214301]\n",
      "[0.39317528 0.21279694 0.11799164 0.08919021 0.07119449]\n",
      "[0.40460932 0.21198268 0.12126574 0.08742454 0.08360695]\n",
      "[0.31765226 0.16677022 0.09031324 0.0709149 ]\n",
      "[0.33762536 0.17195787 0.09090694 0.07023772]\n",
      "[0.34054101 0.16855385 0.08858844 0.0676052 ]\n",
      "[0.32788545 0.17475608 0.09024129 0.07003755]\n",
      "[0.34089177 0.16972608 0.08980326 0.06928504]\n",
      "[0.33930077 0.17158767 0.09114795 0.06906925]\n",
      "[0.32770535 0.17023546 0.09214894 0.06970767]\n",
      "[0.34885007 0.18021825 0.10086754 0.0775667  0.06736608]\n",
      "[0.33525416 0.18236071 0.09279797 0.0667947  0.05493035 0.05521895]\n",
      "[0.33580384 0.18595729 0.09318807 0.06926573 0.05417536]\n",
      "[0.35128752 0.18012334 0.10177588 0.07587346 0.06856013]\n",
      "[0.33055275 0.17030245 0.09141633 0.0698354 ]\n",
      "[0.34395295 0.17403283 0.08918227 0.06696159]\n",
      "[0.34260168 0.16795673 0.08865819 0.06560051]\n",
      "[0.33379735 0.17092825 0.08704648 0.06561604]\n",
      "[0.34167185 0.16828362 0.08402331 0.0634748 ]\n",
      "[0.34193105 0.16881248 0.08583024 0.06492232]\n",
      "[0.32560006 0.16498768 0.08644242 0.06673594]\n",
      "[0.40204448 0.21247438 0.11616157 0.08362135 0.07590564]\n",
      "[0.41075878 0.21805973 0.12187868 0.08769266 0.0804868 ]\n",
      "[0.32486003 0.1687895  0.08910673 0.06989687]\n",
      "[0.3492465  0.17522111 0.08997574 0.06917967]\n",
      "[0.33555744 0.16903764 0.08822596 0.06546873]\n",
      "[0.32052907 0.17527022 0.08954106 0.06743832]\n",
      "[0.34532939 0.17270983 0.09144434 0.0689355 ]\n",
      "[0.34152104 0.17455321 0.09001998 0.06624406]\n",
      "[0.33904986 0.17892133 0.09377834 0.07114063]\n",
      "[0.36211883 0.19076051 0.10454845 0.07779411 0.07026647]\n",
      "[0.33991121 0.18830849 0.09389634 0.06816003 0.05284966]\n",
      "[0.36381957 0.20159535 0.09763899 0.07212004 0.05524156]\n",
      "[0.42552075 0.20718719 0.11561578 0.08621692 0.07804414]\n",
      "[0.39133747 0.19705688 0.10869758 0.08292543]\n",
      "[0.39273322 0.19394491 0.10235197 0.07662459]\n",
      "[0.39592366 0.19158172 0.10564502 0.07806988]\n",
      "[0.38863787 0.19908286 0.10418847 0.08026804]\n",
      "[0.39287252 0.19231943 0.10261919 0.07517527]\n",
      "[0.38708174 0.19271996 0.10493627 0.08017595]\n",
      "[0.36096746 0.18585802 0.10343752 0.0809327 ]\n",
      "[0.47815686 0.24210079 0.14034039 0.10088326 0.09478704]\n",
      "[0.57664794 0.25954664 0.15147273 0.11037647 0.10931099]\n",
      "[0.42169072 0.20245141 0.11913088 0.09470592]\n",
      "[0.44836632 0.21076252 0.11941043 0.09449697]\n",
      "[0.44601252 0.20044914 0.11293297 0.08719108]\n",
      "[0.43674653 0.20650626 0.11549928 0.09339641]\n",
      "[0.47185045 0.21384634 0.11986473 0.09286885]\n",
      "[0.46962336 0.20706954 0.11752212 0.09266659]\n",
      "[0.45812015 0.21751093 0.12743486 0.1015118 ]\n",
      "[0.52951316 0.21195048 0.12508619 0.09152535 0.08785435]\n",
      "[0.36032803 0.21458262 0.10794801 0.08124995 0.06272189]\n"
     ]
    }
   ],
   "source": [
    "isize = 0\n",
    "result = []\n",
    "for y in range (2, L):\n",
    "    for x in range(L):\n",
    "        isize = 0\n",
    "        position = [y ,x]\n",
    "        for i in range (L-1):\n",
    "            if (isize + len(np.where(cond_label(position, L) == i+1)[0])<=20):\n",
    "                isize += len(np.where(cond_label(position, L) == i+1)[0])\n",
    "            else: \n",
    "                break\n",
    "        diff = np.zeros(i)   \n",
    "        for i in range (len(diff)):\n",
    "            diff[i] = ith_step(position, i, L, sample, sample_prob_tensor, \" else \")[0]\n",
    "        print(diff)    \n",
    "        result.append(diff)\n"
   ]
  },
  {
   "cell_type": "code",
   "execution_count": 61,
   "id": "f6072e38",
   "metadata": {},
   "outputs": [
    {
     "name": "stdout",
     "output_type": "stream",
     "text": [
      "[array([0.12943783, 0.09887462, 0.03637864, 0.01744456, 0.01299987,\n",
      "       0.00971266, 0.00957928, 0.00972019, 0.01612038, 0.03977159]), array([0.52552016, 0.08136941, 0.04055691, 0.02445147, 0.00944863,\n",
      "       0.02165249, 0.05451776, 0.13978544, 0.24602336]), array([0.22502688, 0.09043572, 0.05388328, 0.01333813, 0.02004551,\n",
      "       0.04119247, 0.08495894]), array([0.07944841, 0.05874285, 0.0387072 , 0.02295726, 0.01933378,\n",
      "       0.04113223])]\n"
     ]
    }
   ],
   "source": [
    "j = 2\n",
    "i = 1\n",
    "print(result[0:5][:4])\n"
   ]
  },
  {
   "cell_type": "code",
   "execution_count": 13,
   "id": "cffcad7e",
   "metadata": {},
   "outputs": [
    {
     "data": {
      "image/png": "[encoded data removed]",
      "text/plain": [
       "<Figure size 432x288 with 1 Axes>"
      ]
     },
     "metadata": {
      "needs_background": "light"
     },
     "output_type": "display_data"
    },
    {
     "data": {
      "image/png": "[encoded data removed]",
      "text/plain": [
       "<Figure size 432x288 with 1 Axes>"
      ]
     },
     "metadata": {
      "needs_background": "light"
     },
     "output_type": "display_data"
    },
    {
     "data": {
      "image/png": "[encoded data removed]",
      "text/plain": [
       "<Figure size 432x288 with 1 Axes>"
      ]
     },
     "metadata": {
      "needs_background": "light"
     },
     "output_type": "display_data"
    },
    {
     "data": {
      "image/png": "[encoded data removed]",
      "text/plain": [
       "<Figure size 432x288 with 1 Axes>"
      ]
     },
     "metadata": {
      "needs_background": "light"
     },
     "output_type": "display_data"
    },
    {
     "data": {
      "image/png": "[encoded data removed]",
      "text/plain": [
       "<Figure size 432x288 with 1 Axes>"
      ]
     },
     "metadata": {
      "needs_background": "light"
     },
     "output_type": "display_data"
    },
    {
     "data": {
      "image/png": "[encoded data removed]",
      "text/plain": [
       "<Figure size 432x288 with 1 Axes>"
      ]
     },
     "metadata": {
      "needs_background": "light"
     },
     "output_type": "display_data"
    },
    {
     "data": {
      "image/png": "[encoded data removed]",
      "text/plain": [
       "<Figure size 432x288 with 1 Axes>"
      ]
     },
     "metadata": {
      "needs_background": "light"
     },
     "output_type": "display_data"
    },
    {
     "data": {
      "image/png": "[encoded data removed]",
      "text/plain": [
       "<Figure size 432x288 with 1 Axes>"
      ]
     },
     "metadata": {
      "needs_background": "light"
     },
     "output_type": "display_data"
    },
    {
     "data": {
      "image/png": "[encoded data removed]",
      "text/plain": [
       "<Figure size 432x288 with 1 Axes>"
      ]
     },
     "metadata": {
      "needs_background": "light"
     },
     "output_type": "display_data"
    },
    {
     "data": {
      "image/png": "[encoded data removed]",
      "text/plain": [
       "<Figure size 432x288 with 1 Axes>"
      ]
     },
     "metadata": {
      "needs_background": "light"
     },
     "output_type": "display_data"
    },
    {
     "data": {
      "image/png": "[encoded data removed]",
      "text/plain": [
       "<Figure size 432x288 with 1 Axes>"
      ]
     },
     "metadata": {
      "needs_background": "light"
     },
     "output_type": "display_data"
    },
    {
     "data": {
      "image/png": "[encoded data removed]",
      "text/plain": [
       "<Figure size 432x288 with 1 Axes>"
      ]
     },
     "metadata": {
      "needs_background": "light"
     },
     "output_type": "display_data"
    },
    {
     "data": {
      "image/png": "[encoded data removed]",
      "text/plain": [
       "<Figure size 432x288 with 1 Axes>"
      ]
     },
     "metadata": {
      "needs_background": "light"
     },
     "output_type": "display_data"
    },
    {
     "data": {
      "image/png": "[encoded data removed]",
      "text/plain": [
       "<Figure size 432x288 with 1 Axes>"
      ]
     },
     "metadata": {
      "needs_background": "light"
     },
     "output_type": "display_data"
    },
    {
     "data": {
      "image/png": "[encoded data removed]",
      "text/plain": [
       "<Figure size 432x288 with 1 Axes>"
      ]
     },
     "metadata": {
      "needs_background": "light"
     },
     "output_type": "display_data"
    },
    {
     "data": {
      "image/png": "[encoded data removed]",
      "text/plain": [
       "<Figure size 432x288 with 1 Axes>"
      ]
     },
     "metadata": {
      "needs_background": "light"
     },
     "output_type": "display_data"
    }
   ],
   "source": [
    "\n",
    "import matplotlib.pyplot as plt\n",
    "for j in range (len(result)//5):\n",
    "    for i in range (5):\n",
    "        plt.scatter(np.arange(4), (result[5*j+i][:4]), s=5)\n",
    "    plt.savefig(\"figure_J1J2/TV_\"+str(5*j)+\".png\", dpi = 200)\n",
    "    plt.show()"
   ]
  },
  {
   "cell_type": "code",
   "execution_count": 32,
   "id": "08508c35",
   "metadata": {},
   "outputs": [
    {
     "data": {
      "image/png": "[encoded data removed]",
      "text/plain": [
       "<Figure size 640x480 with 1 Axes>"
      ]
     },
     "metadata": {},
     "output_type": "display_data"
    }
   ],
   "source": [
    "for i in range (110, 115):\n",
    "    plt.scatter(np.arange(4), np.log(result[i][:4]), s=5)\n",
    "plt.show()"
   ]
  },
  {
   "cell_type": "code",
   "execution_count": 20,
   "id": "f1ed4892",
   "metadata": {},
   "outputs": [
    {
     "name": "stderr",
     "output_type": "stream",
     "text": [
      "No artists with labels found to put in legend.  Note that artists whose label start with an underscore are ignored when legend() is called with no argument.\n"
     ]
    },
    {
     "data": {
      "image/png": "[encoded data removed]",
      "text/plain": [
       "<Figure size 640x480 with 1 Axes>"
      ]
     },
     "metadata": {},
     "output_type": "display_data"
    }
   ],
   "source": [
    "x = np.arange(len(diff))\n",
    "y = np.log(diff)\n",
    "import matplotlib.pyplot as plt\n",
    "\n",
    "a, b = np.polyfit(x, y, 1)\n",
    "r2 = 1 - np.sum((a*x+b-y)**2) \\\n",
    "/np.sum((y - np.mean(y))**2)\n",
    "plt.scatter(x, y)\n",
    "plt.plot(x, a*x+b)\n",
    "plt.figtext(0.7,0.7,'R2 = ' + str(np.round(r2,3)))\n",
    "plt.xlabel(\"distance\")\n",
    "plt.ylabel(\"log_prob_diff\")\n",
    "plt.title(\"2DTFIM_4*4_prob_diff\"+str(position)+\"_decay\")\n",
    "plt.legend()\n",
    "plt.savefig(\"2DHeisenberg_x4y4_31_prob_diff_decay.png\", dpi = 250)\n",
    "plt.show()"
   ]
  },
  {
   "cell_type": "code",
   "execution_count": 9,
   "id": "7ee60654",
   "metadata": {},
   "outputs": [
    {
     "name": "stdout",
     "output_type": "stream",
     "text": [
      "[[[[2, 4, 5, 6, 7], [1, 2, 3, 4, 5]]], [[[2, 4, 5, 6, 7], [1, 2, 3, 4, 5]]], [[[2, 4, 5, 6, 7], [1, 2, 3, 4, 5]]]]\n"
     ]
    }
   ],
   "source": [
    "a = [[]]*3\n",
    "a[0].append([[2,4,5,6,7],[1,2,3,4,5]])\n",
    "print(a)"
   ]
  },
  {
   "cell_type": "code",
   "execution_count": 10,
   "id": "cee36d42",
   "metadata": {},
   "outputs": [
    {
     "name": "stdout",
     "output_type": "stream",
     "text": [
      "[[[[1, 1, 1, 1, 1, 1], [1, 0, 1, 0, 0, 1], [1, 1, 1, 1, 0, 0], [0, 1, 0, 1, 0, 0]]], [[[1, 1, 1, 1, 1, 1], [1, 0, 1, 0, 0, 1], [1, 1, 1, 1, 0, 0], [0, 1, 0, 1, 0, 0]]], [[[1, 1, 1, 1, 1, 1], [1, 0, 1, 0, 0, 1], [1, 1, 1, 1, 0, 0], [0, 1, 0, 1, 0, 0]]], [[[1, 1, 1, 1, 1, 1], [1, 0, 1, 0, 0, 1], [1, 1, 1, 1, 0, 0], [0, 1, 0, 1, 0, 0]]]]\n"
     ]
    }
   ],
   "source": [
    "sample_category = [[]]*4\n",
    "sample_category[0].append([[1, 1, 1, 1, 1, 1], [1, 0, 1, 0, 0, 1], [1, 1, 1, 1, 0, 0], [0, 1, 0, 1, 0, 0]])\n",
    "print(sample_category)"
   ]
  },
  {
   "cell_type": "code",
   "execution_count": null,
   "id": "0d0c7084",
   "metadata": {},
   "outputs": [],
   "source": [
    "import tensorflow as tf\n",
    "import numpy as np\n",
    "from tensorflow.python.framework import graph_util\n",
    "Nx = 4\n",
    "Ny = 4\n",
    "\n",
    "graph = tf.get_default_graph()\n",
    "input_graph_def = graph.as_graph_def()\n",
    "   \n",
    "with tf.Session() as sess: \n",
    "#First let's load meta graph and restore weights\n",
    "    \n",
    "    sess.run(tf.global_variables_initializer())\n",
    "    sess.run(tf.local_variables_initializer())\n",
    "    saver = tf.train.import_meta_graph('../Check_Points/2DTFIM/RNNwavefunction_2DVanillaRNN_4x4_Bx3_lradap0.005_samp500units_100.ckpt.meta')\n",
    "    saver.restore(sess, tf.train.latest_checkpoint(\"../Check_Points/2DTFIM/\"))\n",
    "\n",
    "    \n",
    "    log_prob = graph.get_tensor_by_name('log_prob:0')\n",
    "    sample_placeholder = graph.get_tensor_by_name('sample_placeholder:0')\n",
    "    samples = graph.get_tensor_by_name('samples:0')\n",
    "    \n",
    "    feed_dict = {placeholder: np.zeros((20,4,4))}\n",
    "    sample_ = sess.run(samples, )\n",
    "print(log_prob_tensor)    "
   ]
  },
  {
   "cell_type": "code",
   "execution_count": 10,
   "id": "c422ee49",
   "metadata": {},
   "outputs": [
    {
     "name": "stdout",
     "output_type": "stream",
     "text": [
      "[[[0.5314115  0.7288914  0.42850736 1.        ]\n",
      "  [0.5308155  0.6533904  0.5708922  0.6928279 ]\n",
      "  [0.5479541  0.71796036 0.69150156 0.7660212 ]\n",
      "  [0.45616123 0.45414433 0.7583107  0.571269  ]]\n",
      "\n",
      " [[0.46858844 0.65226144 0.44093016 1.        ]\n",
      "  [0.54569006 0.5624183  0.4719576  1.        ]\n",
      "  [0.4628068  0.7168896  0.46342775 1.        ]\n",
      "  [0.45537326 0.45255768 1.         1.        ]]\n",
      "\n",
      " [[0.5314115  0.72075766 0.43292126 1.        ]\n",
      "  [0.5308155  0.47429386 0.4335434  0.41457084]\n",
      "  [0.4520459  0.6454629  0.75759375 0.52441794]\n",
      "  [0.54833215 0.5469131  0.66679263 0.43601808]]\n",
      "\n",
      " ...\n",
      "\n",
      " [[0.46858844 0.52993083 0.4241288  1.        ]\n",
      "  [0.54569006 0.4419277  0.56110805 1.        ]\n",
      "  [0.5371932  0.5296184  0.3140014  1.        ]\n",
      "  [0.546577   0.45148376 0.5526988  1.        ]]\n",
      "\n",
      " [[0.5314115  0.5657249  0.57076645 1.        ]\n",
      "  [0.4691845  0.73162997 0.47206104 1.        ]\n",
      "  [0.4614644  0.28299367 1.         1.        ]\n",
      "  [0.4534682  0.45379475 1.         1.        ]]\n",
      "\n",
      " [[0.5314115  0.72450006 0.43097866 1.        ]\n",
      "  [0.5308155  0.6582777  0.57251304 1.        ]\n",
      "  [0.5479541  0.55301917 0.68742305 1.        ]\n",
      "  [0.5438388  0.44249028 0.46725118 0.554692  ]]]\n"
     ]
    }
   ],
   "source": [
    "test = np.load(\"result/sample_cond_prob_L4_10k_steps28.npy\")\n",
    "print(test)"
   ]
  },
  {
   "cell_type": "code",
   "execution_count": null,
   "id": "8b452433",
   "metadata": {},
   "outputs": [],
   "source": []
  }
 ],
 "metadata": {
  "kernelspec": {
   "display_name": "Python 3",
   "language": "python",
   "name": "python3"
  },
  "language_info": {
   "codemirror_mode": {
    "name": "ipython",
    "version": 3
   },
   "file_extension": ".py",
   "mimetype": "text/x-python",
   "name": "python",
   "nbconvert_exporter": "python",
   "pygments_lexer": "ipython3",
   "version": "3.6.13"
  }
 },
 "nbformat": 4,
 "nbformat_minor": 5
}
