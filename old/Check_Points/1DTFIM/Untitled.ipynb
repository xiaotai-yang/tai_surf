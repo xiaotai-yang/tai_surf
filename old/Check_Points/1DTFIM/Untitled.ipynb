{
 "cells": [
  {
   "cell_type": "code",
   "execution_count": 1,
   "id": "491c45ed",
   "metadata": {},
   "outputs": [],
   "source": [
    "a = [\"0.5\",\"1.0\",\"1.5\",\"2.0\",\"2.5\",\"3\",\"3.5\"]"
   ]
  },
  {
   "cell_type": "code",
   "execution_count": 3,
   "id": "ec9c74c2",
   "metadata": {},
   "outputs": [],
   "source": [
    "import numpy as np\n",
    "energy = [[] for i in range (7)]"
   ]
  },
  {
   "cell_type": "code",
   "execution_count": 4,
   "id": "5cf4d9b6",
   "metadata": {},
   "outputs": [],
   "source": [
    "for i in range (7):\n",
    "    energy[i].append(np.load(\"meanEnergy_N96_samp128_Jz1.0_Bx\"+a[i]+\"_GRURNN_OBC_TFIM_units_128.npy\"))"
   ]
  },
  {
   "cell_type": "code",
   "execution_count": 5,
   "id": "aad35cff",
   "metadata": {},
   "outputs": [
    {
     "name": "stdout",
     "output_type": "stream",
     "text": [
      "[array([ -48.88169354,  -52.31920886,  -80.74920436, ..., -101.21213576,\n",
      "       -101.19278326, -101.23752739])]\n"
     ]
    }
   ],
   "source": [
    "print(energy[0])"
   ]
  },
  {
   "cell_type": "code",
   "execution_count": 6,
   "id": "175a5842",
   "metadata": {},
   "outputs": [
    {
     "name": "stdout",
     "output_type": "stream",
     "text": [
      "[array([ -96.84151209, -102.53215546, -117.63242922, ..., -121.8668179 ,\n",
      "       -121.86739277, -121.8680262 ])]\n"
     ]
    }
   ],
   "source": [
    "print(energy[1])"
   ]
  },
  {
   "cell_type": "code",
   "execution_count": 7,
   "id": "f7b4a62f",
   "metadata": {},
   "outputs": [
    {
     "name": "stdout",
     "output_type": "stream",
     "text": [
      "[array([-144.80133063, -148.48668464, -139.37950954, ..., -160.32134084,\n",
      "       -160.31077311, -160.30794824])]\n"
     ]
    }
   ],
   "source": [
    "print(energy[2])"
   ]
  },
  {
   "cell_type": "code",
   "execution_count": 8,
   "id": "5bb0d3ed",
   "metadata": {},
   "outputs": [
    {
     "name": "stdout",
     "output_type": "stream",
     "text": [
      "[array([-192.76114917, -190.95144265, -196.51958137, ..., -204.06592147,\n",
      "       -204.07406995, -204.06929414])]\n"
     ]
    }
   ],
   "source": [
    "print(energy[3])"
   ]
  },
  {
   "cell_type": "code",
   "execution_count": 9,
   "id": "faa88a99",
   "metadata": {},
   "outputs": [
    {
     "name": "stdout",
     "output_type": "stream",
     "text": [
      "[array([-240.72096771, -232.31295955, -243.36578251, ..., -249.58800529,\n",
      "       -249.59581598, -249.60949667])]\n"
     ]
    }
   ],
   "source": [
    "print(energy[4])"
   ]
  },
  {
   "cell_type": "code",
   "execution_count": 10,
   "id": "6a78c3fa",
   "metadata": {},
   "outputs": [
    {
     "name": "stdout",
     "output_type": "stream",
     "text": [
      "[array([-288.68078626, -272.22721843, -290.72226344, ..., -295.96673965,\n",
      "       -295.9706481 , -295.95899305])]\n"
     ]
    }
   ],
   "source": [
    "print(energy[5])"
   ]
  },
  {
   "cell_type": "code",
   "execution_count": null,
   "id": "08e9e7f3",
   "metadata": {},
   "outputs": [],
   "source": []
  },
  {
   "cell_type": "code",
   "execution_count": null,
   "id": "e634cd2c",
   "metadata": {},
   "outputs": [],
   "source": []
  }
 ],
 "metadata": {
  "kernelspec": {
   "display_name": "Python 3 (ipykernel)",
   "language": "python",
   "name": "python3"
  },
  "language_info": {
   "codemirror_mode": {
    "name": "ipython",
    "version": 3
   },
   "file_extension": ".py",
   "mimetype": "text/x-python",
   "name": "python",
   "nbconvert_exporter": "python",
   "pygments_lexer": "ipython3",
   "version": "3.10.9"
  }
 },
 "nbformat": 4,
 "nbformat_minor": 5
}
