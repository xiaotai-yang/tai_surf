{
 "cells": [
  {
   "cell_type": "code",
   "execution_count": 18,
   "id": "d1e9b693",
   "metadata": {},
   "outputs": [],
   "source": [
    "import numpy as np\n",
    "np.savetxt(\"meanEnergy_N64_samp128_lradap0.0005_complexGRURNN_J1J20.241_units_64_zeromag.txt\",np.load(\"meanEnergy_N64_samp128_lradap0.0005_complexGRURNN_J1J20.241_units_64_zeromag.npy\"))\n",
    "mean_j1 = np.load(\"meanEnergy_N64_samp128_lradap0.0005_complexGRURNN_J1J20.241_units_64_zeromag.npy\")\n",
    "mean_"
   ]
  },
  {
   "cell_type": "code",
   "execution_count": 19,
   "id": "4b8fb22b",
   "metadata": {},
   "outputs": [],
   "source": [
    "np.savetxt(\"varEnergy_N64_samp128_lradap0.0005_complexGRURNN_J1J20.241_units_64_zeromag.txt\",np.load(\"varEnergy_N64_samp128_lradap0.0005_complexGRURNN_J1J20.241_units_64_zeromag.npy\"))\n",
    "var_j1 = np.load(\"varEnergy_N64_samp128_lradap0.0005_complexGRURNN_J1J20.241_units_64_zeromag.npy\")"
   ]
  },
  {
   "cell_type": "code",
   "execution_count": null,
   "id": "a0a935d2",
   "metadata": {},
   "outputs": [],
   "source": [
    "import matplotlib.pyplot as plt\n",
    "plt.plot(np.arange(len()))"
   ]
  }
 ],
 "metadata": {
  "kernelspec": {
   "display_name": "Python 3",
   "language": "python",
   "name": "python3"
  },
  "language_info": {
   "codemirror_mode": {
    "name": "ipython",
    "version": 3
   },
   "file_extension": ".py",
   "mimetype": "text/x-python",
   "name": "python",
   "nbconvert_exporter": "python",
   "pygments_lexer": "ipython3",
   "version": "3.6.13"
  }
 },
 "nbformat": 4,
 "nbformat_minor": 5
}
